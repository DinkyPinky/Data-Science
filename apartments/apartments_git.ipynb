{
 "cells": [
  {
   "cell_type": "markdown",
   "metadata": {},
   "source": [
    "# Исследование объявлений о продаже квартир"
   ]
  },
  {
   "cell_type": "markdown",
   "metadata": {},
   "source": [
    "### Импорт и общая информация"
   ]
  },
  {
   "cell_type": "code",
   "execution_count": 1,
   "metadata": {},
   "outputs": [],
   "source": [
    "import pandas as pd"
   ]
  },
  {
   "cell_type": "code",
   "execution_count": 2,
   "metadata": {},
   "outputs": [],
   "source": [
    "data = pd.read_csv('/datasets/real_estate_data.csv', sep='\\t')"
   ]
  },
  {
   "cell_type": "code",
   "execution_count": 3,
   "metadata": {},
   "outputs": [
    {
     "data": {
      "text/html": [
       "<div>\n",
       "<style scoped>\n",
       "    .dataframe tbody tr th:only-of-type {\n",
       "        vertical-align: middle;\n",
       "    }\n",
       "\n",
       "    .dataframe tbody tr th {\n",
       "        vertical-align: top;\n",
       "    }\n",
       "\n",
       "    .dataframe thead th {\n",
       "        text-align: right;\n",
       "    }\n",
       "</style>\n",
       "<table border=\"1\" class=\"dataframe\">\n",
       "  <thead>\n",
       "    <tr style=\"text-align: right;\">\n",
       "      <th></th>\n",
       "      <th>total_images</th>\n",
       "      <th>last_price</th>\n",
       "      <th>total_area</th>\n",
       "      <th>first_day_exposition</th>\n",
       "      <th>rooms</th>\n",
       "      <th>ceiling_height</th>\n",
       "      <th>floors_total</th>\n",
       "      <th>living_area</th>\n",
       "      <th>floor</th>\n",
       "      <th>is_apartment</th>\n",
       "      <th>...</th>\n",
       "      <th>kitchen_area</th>\n",
       "      <th>balcony</th>\n",
       "      <th>locality_name</th>\n",
       "      <th>airports_nearest</th>\n",
       "      <th>cityCenters_nearest</th>\n",
       "      <th>parks_around3000</th>\n",
       "      <th>parks_nearest</th>\n",
       "      <th>ponds_around3000</th>\n",
       "      <th>ponds_nearest</th>\n",
       "      <th>days_exposition</th>\n",
       "    </tr>\n",
       "  </thead>\n",
       "  <tbody>\n",
       "    <tr>\n",
       "      <th>0</th>\n",
       "      <td>20</td>\n",
       "      <td>13000000.0</td>\n",
       "      <td>108.0</td>\n",
       "      <td>2019-03-07T00:00:00</td>\n",
       "      <td>3</td>\n",
       "      <td>2.70</td>\n",
       "      <td>16.0</td>\n",
       "      <td>51.0</td>\n",
       "      <td>8</td>\n",
       "      <td>NaN</td>\n",
       "      <td>...</td>\n",
       "      <td>25.0</td>\n",
       "      <td>NaN</td>\n",
       "      <td>Санкт-Петербург</td>\n",
       "      <td>18863.0</td>\n",
       "      <td>16028.0</td>\n",
       "      <td>1.0</td>\n",
       "      <td>482.0</td>\n",
       "      <td>2.0</td>\n",
       "      <td>755.0</td>\n",
       "      <td>NaN</td>\n",
       "    </tr>\n",
       "    <tr>\n",
       "      <th>1</th>\n",
       "      <td>7</td>\n",
       "      <td>3350000.0</td>\n",
       "      <td>40.4</td>\n",
       "      <td>2018-12-04T00:00:00</td>\n",
       "      <td>1</td>\n",
       "      <td>NaN</td>\n",
       "      <td>11.0</td>\n",
       "      <td>18.6</td>\n",
       "      <td>1</td>\n",
       "      <td>NaN</td>\n",
       "      <td>...</td>\n",
       "      <td>11.0</td>\n",
       "      <td>2.0</td>\n",
       "      <td>посёлок Шушары</td>\n",
       "      <td>12817.0</td>\n",
       "      <td>18603.0</td>\n",
       "      <td>0.0</td>\n",
       "      <td>NaN</td>\n",
       "      <td>0.0</td>\n",
       "      <td>NaN</td>\n",
       "      <td>81.0</td>\n",
       "    </tr>\n",
       "    <tr>\n",
       "      <th>2</th>\n",
       "      <td>10</td>\n",
       "      <td>5196000.0</td>\n",
       "      <td>56.0</td>\n",
       "      <td>2015-08-20T00:00:00</td>\n",
       "      <td>2</td>\n",
       "      <td>NaN</td>\n",
       "      <td>5.0</td>\n",
       "      <td>34.3</td>\n",
       "      <td>4</td>\n",
       "      <td>NaN</td>\n",
       "      <td>...</td>\n",
       "      <td>8.3</td>\n",
       "      <td>0.0</td>\n",
       "      <td>Санкт-Петербург</td>\n",
       "      <td>21741.0</td>\n",
       "      <td>13933.0</td>\n",
       "      <td>1.0</td>\n",
       "      <td>90.0</td>\n",
       "      <td>2.0</td>\n",
       "      <td>574.0</td>\n",
       "      <td>558.0</td>\n",
       "    </tr>\n",
       "    <tr>\n",
       "      <th>3</th>\n",
       "      <td>0</td>\n",
       "      <td>64900000.0</td>\n",
       "      <td>159.0</td>\n",
       "      <td>2015-07-24T00:00:00</td>\n",
       "      <td>3</td>\n",
       "      <td>NaN</td>\n",
       "      <td>14.0</td>\n",
       "      <td>NaN</td>\n",
       "      <td>9</td>\n",
       "      <td>NaN</td>\n",
       "      <td>...</td>\n",
       "      <td>NaN</td>\n",
       "      <td>0.0</td>\n",
       "      <td>Санкт-Петербург</td>\n",
       "      <td>28098.0</td>\n",
       "      <td>6800.0</td>\n",
       "      <td>2.0</td>\n",
       "      <td>84.0</td>\n",
       "      <td>3.0</td>\n",
       "      <td>234.0</td>\n",
       "      <td>424.0</td>\n",
       "    </tr>\n",
       "    <tr>\n",
       "      <th>4</th>\n",
       "      <td>2</td>\n",
       "      <td>10000000.0</td>\n",
       "      <td>100.0</td>\n",
       "      <td>2018-06-19T00:00:00</td>\n",
       "      <td>2</td>\n",
       "      <td>3.03</td>\n",
       "      <td>14.0</td>\n",
       "      <td>32.0</td>\n",
       "      <td>13</td>\n",
       "      <td>NaN</td>\n",
       "      <td>...</td>\n",
       "      <td>41.0</td>\n",
       "      <td>NaN</td>\n",
       "      <td>Санкт-Петербург</td>\n",
       "      <td>31856.0</td>\n",
       "      <td>8098.0</td>\n",
       "      <td>2.0</td>\n",
       "      <td>112.0</td>\n",
       "      <td>1.0</td>\n",
       "      <td>48.0</td>\n",
       "      <td>121.0</td>\n",
       "    </tr>\n",
       "  </tbody>\n",
       "</table>\n",
       "<p>5 rows × 22 columns</p>\n",
       "</div>"
      ],
      "text/plain": [
       "   total_images  last_price  total_area first_day_exposition  rooms  \\\n",
       "0            20  13000000.0       108.0  2019-03-07T00:00:00      3   \n",
       "1             7   3350000.0        40.4  2018-12-04T00:00:00      1   \n",
       "2            10   5196000.0        56.0  2015-08-20T00:00:00      2   \n",
       "3             0  64900000.0       159.0  2015-07-24T00:00:00      3   \n",
       "4             2  10000000.0       100.0  2018-06-19T00:00:00      2   \n",
       "\n",
       "   ceiling_height  floors_total  living_area  floor is_apartment  ...  \\\n",
       "0            2.70          16.0         51.0      8          NaN  ...   \n",
       "1             NaN          11.0         18.6      1          NaN  ...   \n",
       "2             NaN           5.0         34.3      4          NaN  ...   \n",
       "3             NaN          14.0          NaN      9          NaN  ...   \n",
       "4            3.03          14.0         32.0     13          NaN  ...   \n",
       "\n",
       "   kitchen_area  balcony    locality_name  airports_nearest  \\\n",
       "0          25.0      NaN  Санкт-Петербург           18863.0   \n",
       "1          11.0      2.0   посёлок Шушары           12817.0   \n",
       "2           8.3      0.0  Санкт-Петербург           21741.0   \n",
       "3           NaN      0.0  Санкт-Петербург           28098.0   \n",
       "4          41.0      NaN  Санкт-Петербург           31856.0   \n",
       "\n",
       "  cityCenters_nearest  parks_around3000  parks_nearest  ponds_around3000  \\\n",
       "0             16028.0               1.0          482.0               2.0   \n",
       "1             18603.0               0.0            NaN               0.0   \n",
       "2             13933.0               1.0           90.0               2.0   \n",
       "3              6800.0               2.0           84.0               3.0   \n",
       "4              8098.0               2.0          112.0               1.0   \n",
       "\n",
       "   ponds_nearest  days_exposition  \n",
       "0          755.0              NaN  \n",
       "1            NaN             81.0  \n",
       "2          574.0            558.0  \n",
       "3          234.0            424.0  \n",
       "4           48.0            121.0  \n",
       "\n",
       "[5 rows x 22 columns]"
      ]
     },
     "execution_count": 3,
     "metadata": {},
     "output_type": "execute_result"
    }
   ],
   "source": [
    "data.head()"
   ]
  },
  {
   "cell_type": "code",
   "execution_count": 4,
   "metadata": {},
   "outputs": [
    {
     "name": "stdout",
     "output_type": "stream",
     "text": [
      "<class 'pandas.core.frame.DataFrame'>\n",
      "RangeIndex: 23699 entries, 0 to 23698\n",
      "Data columns (total 22 columns):\n",
      " #   Column                Non-Null Count  Dtype  \n",
      "---  ------                --------------  -----  \n",
      " 0   total_images          23699 non-null  int64  \n",
      " 1   last_price            23699 non-null  float64\n",
      " 2   total_area            23699 non-null  float64\n",
      " 3   first_day_exposition  23699 non-null  object \n",
      " 4   rooms                 23699 non-null  int64  \n",
      " 5   ceiling_height        14504 non-null  float64\n",
      " 6   floors_total          23613 non-null  float64\n",
      " 7   living_area           21796 non-null  float64\n",
      " 8   floor                 23699 non-null  int64  \n",
      " 9   is_apartment          2775 non-null   object \n",
      " 10  studio                23699 non-null  bool   \n",
      " 11  open_plan             23699 non-null  bool   \n",
      " 12  kitchen_area          21421 non-null  float64\n",
      " 13  balcony               12180 non-null  float64\n",
      " 14  locality_name         23650 non-null  object \n",
      " 15  airports_nearest      18157 non-null  float64\n",
      " 16  cityCenters_nearest   18180 non-null  float64\n",
      " 17  parks_around3000      18181 non-null  float64\n",
      " 18  parks_nearest         8079 non-null   float64\n",
      " 19  ponds_around3000      18181 non-null  float64\n",
      " 20  ponds_nearest         9110 non-null   float64\n",
      " 21  days_exposition       20518 non-null  float64\n",
      "dtypes: bool(2), float64(14), int64(3), object(3)\n",
      "memory usage: 3.7+ MB\n"
     ]
    }
   ],
   "source": [
    "data.info()"
   ]
  },
  {
   "cell_type": "markdown",
   "metadata": {},
   "source": [
    "Отсутствует тип bool там где он нужен;\n",
    "Наличие пропусков данных, особенно много в булевых переменных (где должны быть true/false)"
   ]
  },
  {
   "cell_type": "code",
   "execution_count": 5,
   "metadata": {},
   "outputs": [
    {
     "data": {
      "text/plain": [
       "<AxesSubplot:>"
      ]
     },
     "execution_count": 5,
     "metadata": {},
     "output_type": "execute_result"
    },
    {
     "data": {
      "image/png": "[encoded data removed]",
      "text/plain": [
       "<Figure size 432x288 with 1 Axes>"
      ]
     },
     "metadata": {
      "needs_background": "light"
     },
     "output_type": "display_data"
    }
   ],
   "source": [
    "data['total_images'].hist()"
   ]
  },
  {
   "cell_type": "markdown",
   "metadata": {},
   "source": [
    "С количеством картинок все впорядке."
   ]
  },
  {
   "cell_type": "code",
   "execution_count": 6,
   "metadata": {},
   "outputs": [
    {
     "data": {
      "text/plain": [
       "<AxesSubplot:>"
      ]
     },
     "execution_count": 6,
     "metadata": {},
     "output_type": "execute_result"
    },
    {
     "data": {
      "image/png": "[encoded data removed]",
      "text/plain": [
       "<Figure size 432x288 with 1 Axes>"
      ]
     },
     "metadata": {
      "needs_background": "light"
     },
     "output_type": "display_data"
    }
   ],
   "source": [
    "data.boxplot('last_price')"
   ]
  },
  {
   "cell_type": "markdown",
   "metadata": {},
   "source": [
    "Отчетливо видны выбросы. Тут нужно с ними поработать"
   ]
  },
  {
   "cell_type": "code",
   "execution_count": 7,
   "metadata": {},
   "outputs": [
    {
     "data": {
      "text/plain": [
       "<AxesSubplot:>"
      ]
     },
     "execution_count": 7,
     "metadata": {},
     "output_type": "execute_result"
    },
    {
     "data": {
      "image/png": "[encoded data removed]",
      "text/plain": [
       "<Figure size 432x288 with 1 Axes>"
      ]
     },
     "metadata": {
      "needs_background": "light"
     },
     "output_type": "display_data"
    }
   ],
   "source": [
    "data.boxplot('total_area')"
   ]
  },
  {
   "cell_type": "markdown",
   "metadata": {},
   "source": [
    "Судя по графику видно, что подавляющая часть значений лежит в диапазоне до 100 квадратов, и есть много выбросов по метражу. Особенно беспокоят значения больше 600. Ангары что ли какие-то? "
   ]
  },
  {
   "cell_type": "code",
   "execution_count": 8,
   "metadata": {},
   "outputs": [
    {
     "data": {
      "text/plain": [
       "9195"
      ]
     },
     "execution_count": 8,
     "metadata": {},
     "output_type": "execute_result"
    }
   ],
   "source": [
    "data['ceiling_height'].isna().sum()"
   ]
  },
  {
   "cell_type": "code",
   "execution_count": 9,
   "metadata": {},
   "outputs": [
    {
     "data": {
      "text/plain": [
       "array([  2.7 ,    nan,   3.03,   2.5 ,   2.67,   2.56,   3.05,   2.75,\n",
       "         2.6 ,   2.9 ,   2.8 ,   2.55,   3.  ,   2.65,   3.2 ,   2.61,\n",
       "         3.25,   3.45,   2.77,   2.85,   2.64,   2.57,   4.15,   3.5 ,\n",
       "         3.3 ,   2.71,   4.  ,   2.47,   2.73,   2.84,   3.1 ,   2.34,\n",
       "         3.4 ,   3.06,   2.72,   2.54,   2.51,   2.78,   2.76,  25.  ,\n",
       "         2.58,   3.7 ,   2.52,   5.2 ,   2.87,   2.66,   2.59,   2.  ,\n",
       "         2.45,   3.6 ,   2.92,   3.11,   3.13,   3.8 ,   3.15,   3.55,\n",
       "         3.16,   3.62,   3.12,   2.53,   2.74,   2.96,   2.46,   5.3 ,\n",
       "         5.  ,   2.79,   2.95,   4.06,   2.94,   3.82,   3.54,   3.53,\n",
       "         2.83,   4.7 ,   2.4 ,   3.38,   3.01,   5.6 ,   3.65,   3.9 ,\n",
       "         3.18,   3.35,   2.3 ,   3.57,   2.48,   2.62,   2.82,   3.98,\n",
       "         2.63,   3.83,   3.52,   3.95,   3.75,   2.88,   3.67,   3.87,\n",
       "         3.66,   3.85,   3.86,   4.19,   3.24,   4.8 ,   4.5 ,   4.2 ,\n",
       "         3.36,  32.  ,   3.08,   3.68,   3.07,   3.37,   3.09,   8.  ,\n",
       "         3.26,   3.34,   2.81,   3.44,   2.97,   3.14,   4.37,   2.68,\n",
       "         3.22,   3.27,  27.  ,   4.1 ,   2.93,   3.46,  24.  ,   3.47,\n",
       "         3.33,   3.63,   3.32,  26.  ,   1.2 ,   8.3 ,   2.98,   2.86,\n",
       "         3.17,   4.4 ,   3.28,   3.04,   4.45,   5.5 ,   3.84,   3.23,\n",
       "         3.02,   3.21,   3.43,   3.78,   4.3 ,   3.39,   2.69,   3.31,\n",
       "         4.65,   3.56,   2.2 ,   3.51,   3.93,   3.42,   2.99,   3.49,\n",
       "        14.  ,   4.14,   2.91,   3.88,   1.75,   4.25,   3.29,  20.  ,\n",
       "         2.25,   3.76,   3.69,   6.  ,  22.6 ,   2.89,   3.58,   5.8 ,\n",
       "        27.5 ,   2.49,   4.9 ,   3.48,  10.3 ,   1.  , 100.  ,   3.59])"
      ]
     },
     "execution_count": 9,
     "metadata": {},
     "output_type": "execute_result"
    }
   ],
   "source": [
    "data['ceiling_height'].unique()"
   ]
  },
  {
   "cell_type": "markdown",
   "metadata": {},
   "source": [
    "Видим большое количество пропусков и странные значения, как будто бы не поделенные на 10."
   ]
  },
  {
   "cell_type": "code",
   "execution_count": 10,
   "metadata": {},
   "outputs": [
    {
     "data": {
      "text/plain": [
       "<AxesSubplot:>"
      ]
     },
     "execution_count": 10,
     "metadata": {},
     "output_type": "execute_result"
    },
    {
     "data": {
      "image/png": "[encoded data removed]",
      "text/plain": [
       "<Figure size 432x288 with 1 Axes>"
      ]
     },
     "metadata": {
      "needs_background": "light"
     },
     "output_type": "display_data"
    }
   ],
   "source": [
    "data.boxplot('rooms')"
   ]
  },
  {
   "cell_type": "markdown",
   "metadata": {},
   "source": [
    "Рапределние по комнатам выглядит нормально"
   ]
  },
  {
   "cell_type": "code",
   "execution_count": 11,
   "metadata": {},
   "outputs": [
    {
     "data": {
      "text/plain": [
       "<AxesSubplot:>"
      ]
     },
     "execution_count": 11,
     "metadata": {},
     "output_type": "execute_result"
    },
    {
     "data": {
      "image/png": "[encoded data removed]",
      "text/plain": [
       "<Figure size 432x288 with 1 Axes>"
      ]
     },
     "metadata": {
      "needs_background": "light"
     },
     "output_type": "display_data"
    }
   ],
   "source": [
    "data['floors_total'].hist()"
   ]
  },
  {
   "cell_type": "code",
   "execution_count": 12,
   "metadata": {},
   "outputs": [
    {
     "data": {
      "text/plain": [
       "86"
      ]
     },
     "execution_count": 12,
     "metadata": {},
     "output_type": "execute_result"
    }
   ],
   "source": [
    "data['floors_total'].isna().sum()"
   ]
  },
  {
   "cell_type": "markdown",
   "metadata": {},
   "source": [
    "С распределением впорядке, и пропусков немного.\n"
   ]
  },
  {
   "cell_type": "code",
   "execution_count": 13,
   "metadata": {},
   "outputs": [
    {
     "data": {
      "text/plain": [
       "<AxesSubplot:>"
      ]
     },
     "execution_count": 13,
     "metadata": {},
     "output_type": "execute_result"
    },
    {
     "data": {
      "image/png": "[encoded data removed]",
      "text/plain": [
       "<Figure size 432x288 with 1 Axes>"
      ]
     },
     "metadata": {
      "needs_background": "light"
     },
     "output_type": "display_data"
    }
   ],
   "source": [
    "data['living_area'].hist()"
   ]
  },
  {
   "cell_type": "code",
   "execution_count": 14,
   "metadata": {},
   "outputs": [
    {
     "data": {
      "text/plain": [
       "1903"
      ]
     },
     "execution_count": 14,
     "metadata": {},
     "output_type": "execute_result"
    }
   ],
   "source": [
    "data['living_area'].isna().sum()"
   ]
  },
  {
   "cell_type": "markdown",
   "metadata": {},
   "source": [
    "Распределение вроде в порядке, но вот пропусков много, и ничем их не заменить"
   ]
  },
  {
   "cell_type": "code",
   "execution_count": 15,
   "metadata": {},
   "outputs": [
    {
     "data": {
      "text/plain": [
       "<AxesSubplot:>"
      ]
     },
     "execution_count": 15,
     "metadata": {},
     "output_type": "execute_result"
    },
    {
     "data": {
      "image/png": "[encoded data removed]",
      "text/plain": [
       "<Figure size 432x288 with 1 Axes>"
      ]
     },
     "metadata": {
      "needs_background": "light"
     },
     "output_type": "display_data"
    }
   ],
   "source": [
    "data['floor'].hist()\n"
   ]
  },
  {
   "cell_type": "markdown",
   "metadata": {},
   "source": [
    "Все ок, выбросов нет"
   ]
  },
  {
   "cell_type": "code",
   "execution_count": 16,
   "metadata": {},
   "outputs": [
    {
     "data": {
      "text/plain": [
       "<AxesSubplot:>"
      ]
     },
     "execution_count": 16,
     "metadata": {},
     "output_type": "execute_result"
    },
    {
     "data": {
      "image/png": "[encoded data removed]",
      "text/plain": [
       "<Figure size 432x288 with 1 Axes>"
      ]
     },
     "metadata": {
      "needs_background": "light"
     },
     "output_type": "display_data"
    }
   ],
   "source": [
    "data['kitchen_area'].hist()"
   ]
  },
  {
   "cell_type": "markdown",
   "metadata": {},
   "source": [
    "Выбросов нет, пропусков много, но их не заменить"
   ]
  },
  {
   "cell_type": "code",
   "execution_count": 17,
   "metadata": {},
   "outputs": [
    {
     "data": {
      "text/plain": [
       "<AxesSubplot:>"
      ]
     },
     "execution_count": 17,
     "metadata": {},
     "output_type": "execute_result"
    },
    {
     "data": {
      "image/png": "[encoded data removed]",
      "text/plain": [
       "<Figure size 432x288 with 1 Axes>"
      ]
     },
     "metadata": {
      "needs_background": "light"
     },
     "output_type": "display_data"
    }
   ],
   "source": [
    "data['balcony'].hist()"
   ]
  },
  {
   "cell_type": "markdown",
   "metadata": {},
   "source": [
    "Выбросов нет. Пропуски заменим 0"
   ]
  },
  {
   "cell_type": "markdown",
   "metadata": {},
   "source": [
    "### Предобработка данных"
   ]
  },
  {
   "cell_type": "markdown",
   "metadata": {},
   "source": [
    "Поработаем с ценой и создадим категории:"
   ]
  },
  {
   "cell_type": "code",
   "execution_count": 18,
   "metadata": {},
   "outputs": [],
   "source": [
    "def price_cat(row):\n",
    "    if row['last_price'] <= 200000:\n",
    "        return 'sus_low'\n",
    "    elif 200000 < row['last_price'] <= 2000000:\n",
    "        return 'cheap'\n",
    "    elif 2000000 < row['last_price'] <= 4000000:\n",
    "        return 'normal_low'\n",
    "    elif 4000000  < row['last_price'] <= 8000000:\n",
    "        return 'normal'\n",
    "    elif 8000000  < row['last_price'] <= 12000000:\n",
    "        return 'normal_high'\n",
    "    elif 12000000  < row['last_price'] <= 50000000:\n",
    "        return 'expencive'\n",
    "    elif row['last_price'] > 50000000:\n",
    "        return 'sus_high'"
   ]
  },
  {
   "cell_type": "code",
   "execution_count": 19,
   "metadata": {},
   "outputs": [
    {
     "data": {
      "text/plain": [
       "price_cat\n",
       "cheap           1450\n",
       "expencive       1810\n",
       "normal         10409\n",
       "normal_high     2254\n",
       "normal_low      7644\n",
       "sus_high         131\n",
       "sus_low            1\n",
       "Name: price_cat, dtype: int64"
      ]
     },
     "execution_count": 19,
     "metadata": {},
     "output_type": "execute_result"
    }
   ],
   "source": [
    "data['price_cat'] = data.apply(price_cat, axis=1)\n",
    "data.groupby('price_cat')['price_cat'].count()\n"
   ]
  },
  {
   "cell_type": "markdown",
   "metadata": {},
   "source": [
    "Подозрительных значений (sus_) не так много, поэтому стоит от них избавиться:"
   ]
  },
  {
   "cell_type": "code",
   "execution_count": 20,
   "metadata": {},
   "outputs": [],
   "source": [
    "good_data = data[(data['price_cat'] != 'sus_high') & (data['price_cat'] != 'sus_low')]"
   ]
  },
  {
   "cell_type": "code",
   "execution_count": 21,
   "metadata": {},
   "outputs": [
    {
     "data": {
      "text/plain": [
       "price_cat\n",
       "cheap           1450\n",
       "expencive       1810\n",
       "normal         10409\n",
       "normal_high     2254\n",
       "normal_low      7644\n",
       "Name: price_cat, dtype: int64"
      ]
     },
     "execution_count": 21,
     "metadata": {},
     "output_type": "execute_result"
    }
   ],
   "source": [
    "good_data.groupby('price_cat')['price_cat'].count()"
   ]
  },
  {
   "cell_type": "markdown",
   "metadata": {},
   "source": [
    "Здесь должна была быть гистограмма, но она получается какой-то неадекватной Т.Т"
   ]
  },
  {
   "cell_type": "code",
   "execution_count": 22,
   "metadata": {},
   "outputs": [
    {
     "data": {
      "text/plain": [
       "<AxesSubplot:>"
      ]
     },
     "execution_count": 22,
     "metadata": {},
     "output_type": "execute_result"
    },
    {
     "data": {
      "image/png": "[encoded data removed]",
      "text/plain": [
       "<Figure size 432x288 with 1 Axes>"
      ]
     },
     "metadata": {
      "needs_background": "light"
     },
     "output_type": "display_data"
    }
   ],
   "source": [
    "good_data.boxplot('total_area')"
   ]
  },
  {
   "cell_type": "markdown",
   "metadata": {},
   "source": [
    "После удаления выбросов по цене пропали и тут выбросы с большим метражом. "
   ]
  },
  {
   "cell_type": "code",
   "execution_count": 23,
   "metadata": {},
   "outputs": [
    {
     "data": {
      "text/plain": [
       "array([ 2.7 ,   nan,  3.03,  2.5 ,  2.67,  2.56,  3.05,  2.75,  2.6 ,\n",
       "        2.9 ,  2.8 ,  2.55,  3.  ,  2.65,  3.2 ,  2.61,  3.25,  3.45,\n",
       "        2.77,  2.85,  2.64,  2.57,  4.15,  3.3 ,  2.71,  4.  ,  2.47,\n",
       "        2.73,  2.84,  3.1 ,  2.34,  3.4 ,  3.5 ,  3.06,  2.72,  2.54,\n",
       "        2.51,  2.78,  2.76,  2.58,  3.7 ,  2.52,  2.87,  2.66,  2.59,\n",
       "        2.  ,  2.45,  3.6 ,  2.92,  3.11,  3.13,  3.8 ,  3.15,  3.55,\n",
       "        3.16,  3.62,  3.12,  2.53,  2.74,  2.96,  2.46,  5.  ,  2.79,\n",
       "        2.95,  4.06,  2.94,  3.54,  3.53,  2.83,  2.4 ,  3.38,  3.01,\n",
       "        3.65,  3.18,  3.35,  2.3 ,  3.57,  2.48,  2.62,  2.82,  3.98,\n",
       "        2.63,  3.83,  3.52,  3.95,  3.75,  2.88,  3.67,  3.87,  3.66,\n",
       "        3.86,  4.19,  3.24,  4.8 ,  4.5 ,  4.2 ,  3.36,  3.08,  3.68,\n",
       "        3.07,  3.37,  3.09,  0.8 ,  3.26,  3.34,  2.81,  3.44,  2.97,\n",
       "        3.14,  4.37,  2.68,  3.9 ,  3.22,  3.27,  4.1 ,  2.93,  3.46,\n",
       "        3.47,  3.33,  3.63,  3.32,  1.2 ,  0.83,  2.98,  2.86,  3.17,\n",
       "        3.28,  4.4 ,  3.04,  4.45,  5.5 ,  3.84,  3.23,  3.02,  3.21,\n",
       "        3.43,  3.78,  4.3 ,  3.39,  2.69,  3.31,  5.3 ,  3.56,  2.2 ,\n",
       "        3.85,  3.93,  3.42,  2.99,  1.4 ,  4.14,  2.91,  3.88,  1.75,\n",
       "        4.25,  3.29,  3.51,  2.25,  3.69,  4.7 ,  2.26,  2.89,  3.58,\n",
       "        5.8 ,  2.49,  3.48,  1.03,  1.  ,  3.49, 10.  ,  3.59])"
      ]
     },
     "execution_count": 23,
     "metadata": {},
     "output_type": "execute_result"
    }
   ],
   "source": [
    "import warnings\n",
    "\n",
    "warnings.filterwarnings(\"ignore\")\n",
    "\n",
    "\n",
    "good_data.loc[(good_data['ceiling_height'] > 6), 'ceiling_height'] = \\\n",
    "good_data.loc[(good_data['ceiling_height'] > 6), 'ceiling_height']  / 10\n",
    "\n",
    "good_data['ceiling_height'].unique()"
   ]
  },
  {
   "cell_type": "markdown",
   "metadata": {},
   "source": [
    "Я несколько часов пыталась разделить на 10 те значения, которые больше 6, но ничего не вышло, поэтому просто их выкинем (к счастью, их немного)\n",
    "Заодно уберем слишком низкие"
   ]
  },
  {
   "cell_type": "code",
   "execution_count": 24,
   "metadata": {},
   "outputs": [
    {
     "data": {
      "text/plain": [
       "29"
      ]
     },
     "execution_count": 24,
     "metadata": {},
     "output_type": "execute_result"
    }
   ],
   "source": [
    "good_data.loc[good_data['ceiling_height'] < 2.4, 'ceiling_height'].count()"
   ]
  },
  {
   "cell_type": "code",
   "execution_count": 25,
   "metadata": {},
   "outputs": [
    {
     "name": "stdout",
     "output_type": "stream",
     "text": [
      "<class 'pandas.core.frame.DataFrame'>\n",
      "Int64Index: 23538 entries, 0 to 23698\n",
      "Data columns (total 23 columns):\n",
      " #   Column                Non-Null Count  Dtype  \n",
      "---  ------                --------------  -----  \n",
      " 0   total_images          23538 non-null  int64  \n",
      " 1   last_price            23538 non-null  float64\n",
      " 2   total_area            23538 non-null  float64\n",
      " 3   first_day_exposition  23538 non-null  object \n",
      " 4   rooms                 23538 non-null  int64  \n",
      " 5   ceiling_height        14386 non-null  float64\n",
      " 6   floors_total          23452 non-null  float64\n",
      " 7   living_area           21654 non-null  float64\n",
      " 8   floor                 23538 non-null  int64  \n",
      " 9   is_apartment          2754 non-null   object \n",
      " 10  studio                23538 non-null  bool   \n",
      " 11  open_plan             23538 non-null  bool   \n",
      " 12  kitchen_area          21283 non-null  float64\n",
      " 13  balcony               12100 non-null  float64\n",
      " 14  locality_name         23489 non-null  object \n",
      " 15  airports_nearest      18016 non-null  float64\n",
      " 16  cityCenters_nearest   18037 non-null  float64\n",
      " 17  parks_around3000      18038 non-null  float64\n",
      " 18  parks_nearest         7971 non-null   float64\n",
      " 19  ponds_around3000      18038 non-null  float64\n",
      " 20  ponds_nearest         8993 non-null   float64\n",
      " 21  days_exposition       20388 non-null  float64\n",
      " 22  price_cat             23538 non-null  object \n",
      "dtypes: bool(2), float64(14), int64(3), object(4)\n",
      "memory usage: 4.0+ MB\n"
     ]
    }
   ],
   "source": [
    "good_data = good_data[~(good_data['ceiling_height'] < 2.4)]\n",
    "good_data.info()"
   ]
  },
  {
   "cell_type": "markdown",
   "metadata": {},
   "source": [
    "Аккуратно обрежем те данные, где потолки подозрительно низкие. Пришлось пользоваться именно такой конструкцией, чтобы не откинуть случайно пропущенные значения"
   ]
  },
  {
   "cell_type": "markdown",
   "metadata": {},
   "source": [
    "Теперь посмотрим, что там за квариры с потолками больше 3ех метров."
   ]
  },
  {
   "cell_type": "code",
   "execution_count": 26,
   "metadata": {},
   "outputs": [
    {
     "data": {
      "text/plain": [
       "price_cat\n",
       "cheap            5\n",
       "expencive      496\n",
       "normal         454\n",
       "normal_high    424\n",
       "normal_low      59\n",
       "Name: price_cat, dtype: int64"
      ]
     },
     "execution_count": 26,
     "metadata": {},
     "output_type": "execute_result"
    }
   ],
   "source": [
    "good_data[(good_data['ceiling_height'] > 3)].groupby('price_cat')['price_cat'].count()"
   ]
  },
  {
   "cell_type": "markdown",
   "metadata": {},
   "source": [
    "Дешевые и недорогие варианты лучше тоже заменить медианным значением:"
   ]
  },
  {
   "cell_type": "code",
   "execution_count": 27,
   "metadata": {},
   "outputs": [],
   "source": [
    "good_data.loc[(good_data['ceiling_height'] > 3) & ((good_data['price_cat'] == 'cheap') | (good_data['price_cat'] == 'normal_low')), 'ceiling_height'] = \\\n",
    "good_data['ceiling_height'].median()"
   ]
  },
  {
   "cell_type": "markdown",
   "metadata": {},
   "source": [
    "Тут была замена пропусков для общего кол-ва этажей"
   ]
  },
  {
   "cell_type": "code",
   "execution_count": 28,
   "metadata": {},
   "outputs": [
    {
     "data": {
      "text/plain": [
       "array([ 4,  1, 12,  8,  9, 22, 15,  6,  7,  3, 18, 13, 24, 21, 11,  2,  5,\n",
       "       19, 20, 14, 17, 23, 10])"
      ]
     },
     "execution_count": 28,
     "metadata": {},
     "output_type": "execute_result"
    }
   ],
   "source": [
    "good_data[good_data['floors_total'].isna()]['floor'].unique()"
   ]
  },
  {
   "cell_type": "markdown",
   "metadata": {},
   "source": [
    "Тут был код с жилплощадью"
   ]
  },
  {
   "cell_type": "code",
   "execution_count": 29,
   "metadata": {},
   "outputs": [
    {
     "data": {
      "text/plain": [
       "0"
      ]
     },
     "execution_count": 29,
     "metadata": {},
     "output_type": "execute_result"
    }
   ],
   "source": [
    "good_data['is_apartment'] = good_data['is_apartment'].fillna(True)\n",
    "good_data['is_apartment'].isna().sum()"
   ]
  },
  {
   "cell_type": "code",
   "execution_count": 30,
   "metadata": {},
   "outputs": [
    {
     "data": {
      "text/plain": [
       "dtype('bool')"
      ]
     },
     "execution_count": 30,
     "metadata": {},
     "output_type": "execute_result"
    }
   ],
   "source": [
    "good_data['is_apartment'] = good_data['is_apartment'].astype(bool)\n",
    "good_data['is_apartment'].dtypes"
   ]
  },
  {
   "cell_type": "markdown",
   "metadata": {},
   "source": [
    "Заменили все пропуски значением True. Показалось логичным, что большинство объявлений все-таки будут квартирами. Ну и формат сразу поменять стоит"
   ]
  },
  {
   "cell_type": "markdown",
   "metadata": {},
   "source": [
    "Тут была замена площади кухни медианой, убрала ее"
   ]
  },
  {
   "cell_type": "markdown",
   "metadata": {},
   "source": [
    "Логично заменить пропуски отсутствием балконов"
   ]
  },
  {
   "cell_type": "code",
   "execution_count": 31,
   "metadata": {},
   "outputs": [
    {
     "data": {
      "text/plain": [
       "0"
      ]
     },
     "execution_count": 31,
     "metadata": {},
     "output_type": "execute_result"
    }
   ],
   "source": [
    "good_data['balcony'] = good_data['balcony'].fillna(0)\n",
    "good_data['balcony'].isna().sum()"
   ]
  },
  {
   "cell_type": "code",
   "execution_count": 32,
   "metadata": {},
   "outputs": [
    {
     "data": {
      "text/plain": [
       "array([0., 2., 1., 5., 4., 3.])"
      ]
     },
     "execution_count": 32,
     "metadata": {},
     "output_type": "execute_result"
    }
   ],
   "source": [
    "good_data['balcony'].unique()"
   ]
  },
  {
   "cell_type": "code",
   "execution_count": 33,
   "metadata": {},
   "outputs": [
    {
     "data": {
      "text/plain": [
       "balcony\n",
       "0.0    15163\n",
       "1.0     4165\n",
       "2.0     3647\n",
       "3.0       80\n",
       "4.0      181\n",
       "5.0      302\n",
       "Name: balcony, dtype: int64"
      ]
     },
     "execution_count": 33,
     "metadata": {},
     "output_type": "execute_result"
    }
   ],
   "source": [
    "good_data.groupby('balcony')['balcony'].count()"
   ]
  },
  {
   "cell_type": "markdown",
   "metadata": {},
   "source": [
    "Логично предположить, что пустые значения -- отстутсвие балкона"
   ]
  },
  {
   "cell_type": "code",
   "execution_count": 34,
   "metadata": {},
   "outputs": [
    {
     "data": {
      "text/plain": [
       "array(['Санкт-Петербург', 'посёлок Шушары', 'городской посёлок Янино-1',\n",
       "       'посёлок Парголово', 'посёлок Мурино', 'Ломоносов', 'Сертолово',\n",
       "       'Петергоф', 'Пушкин', 'деревня Кудрово', 'Коммунар', 'Колпино',\n",
       "       'поселок городского типа Красный Бор', 'Гатчина', 'поселок Мурино',\n",
       "       'деревня Фёдоровское', 'Выборг', 'Кронштадт', 'Кировск',\n",
       "       'деревня Новое Девяткино', 'посёлок Металлострой',\n",
       "       'посёлок городского типа Лебяжье',\n",
       "       'посёлок городского типа Сиверский', 'поселок Молодцово',\n",
       "       'поселок городского типа Кузьмоловский',\n",
       "       'садовое товарищество Новая Ропша', 'Павловск',\n",
       "       'деревня Пикколово', 'Всеволожск', 'Волхов', 'Кингисепп',\n",
       "       'Приозерск', 'Сестрорецк', 'деревня Куттузи', 'посёлок Аннино',\n",
       "       'поселок городского типа Ефимовский', 'посёлок Плодовое',\n",
       "       'деревня Заклинье', 'поселок Торковичи', 'поселок Первомайское',\n",
       "       'Красное Село', 'посёлок Понтонный', 'Сясьстрой', 'деревня Старая',\n",
       "       'деревня Лесколово', 'Сланцы', 'село Путилово', 'Ивангород',\n",
       "       'Мурино', 'Шлиссельбург', 'Никольское', 'Зеленогорск',\n",
       "       'Сосновый Бор', 'поселок Новый Свет', 'деревня Оржицы',\n",
       "       'деревня Кальтино', 'Кудрово', 'поселок Романовка',\n",
       "       'посёлок Бугры', 'поселок Бугры', 'поселок городского типа Рощино',\n",
       "       'Кириши', 'Луга', 'Волосово', 'Отрадное', 'село Павлово',\n",
       "       'поселок Оредеж', 'село Копорье',\n",
       "       'посёлок городского типа Красный Бор', 'посёлок Молодёжное',\n",
       "       'Тихвин', 'посёлок Победа', 'деревня Нурма',\n",
       "       'поселок городского типа Синявино', 'Тосно', 'посёлок Новый Свет',\n",
       "       'посёлок городского типа Кузьмоловский', 'посёлок Стрельна',\n",
       "       'Бокситогорск', 'посёлок Александровская', 'деревня Лопухинка',\n",
       "       'Пикалёво', 'поселок Терволово',\n",
       "       'поселок городского типа Советский', 'Подпорожье',\n",
       "       'посёлок Петровское', 'посёлок городского типа Токсово',\n",
       "       'поселок Сельцо', 'посёлок городского типа Вырица',\n",
       "       'деревня Кипень', 'деревня Келози', 'деревня Вартемяги',\n",
       "       'посёлок Тельмана', 'поселок Севастьяново',\n",
       "       'городской поселок Большая Ижора', nan,\n",
       "       'городской посёлок Павлово', 'деревня Агалатово',\n",
       "       'посёлок Новогорелово', 'городской посёлок Лесогорский',\n",
       "       'деревня Лаголово', 'поселок Цвелодубово',\n",
       "       'поселок городского типа Рахья', 'поселок городского типа Вырица',\n",
       "       'деревня Белогорка', 'поселок Заводской',\n",
       "       'городской посёлок Новоселье', 'деревня Большие Колпаны',\n",
       "       'деревня Горбунки', 'деревня Батово', 'деревня Заневка',\n",
       "       'деревня Иссад', 'Приморск', 'городской посёлок Фёдоровское',\n",
       "       'деревня Мистолово', 'Новая Ладога', 'поселок Зимитицы',\n",
       "       'поселок Барышево', 'деревня Разметелево',\n",
       "       'поселок городского типа имени Свердлова', 'деревня Пеники',\n",
       "       'поселок Рябово', 'деревня Пудомяги', 'поселок станции Корнево',\n",
       "       'деревня Низино', 'деревня Бегуницы', 'посёлок Поляны',\n",
       "       'городской посёлок Мга', 'поселок Елизаветино',\n",
       "       'посёлок городского типа Кузнечное', 'деревня Колтуши',\n",
       "       'поселок Запорожское', 'посёлок городского типа Рощино',\n",
       "       'деревня Гостилицы', 'деревня Малое Карлино',\n",
       "       'посёлок Мичуринское', 'посёлок городского типа имени Морозова',\n",
       "       'посёлок Песочный', 'посёлок Сосново', 'деревня Аро',\n",
       "       'поселок Ильичёво', 'посёлок городского типа Тайцы',\n",
       "       'деревня Малое Верево', 'деревня Извара', 'поселок станции Вещево',\n",
       "       'село Паша', 'деревня Калитино',\n",
       "       'посёлок городского типа Ульяновка', 'деревня Чудской Бор',\n",
       "       'поселок городского типа Дубровка', 'деревня Мины',\n",
       "       'поселок Войсковицы', 'посёлок городского типа имени Свердлова',\n",
       "       'деревня Коркино', 'посёлок Ропша',\n",
       "       'поселок городского типа Приладожский', 'посёлок Щеглово',\n",
       "       'посёлок Гаврилово', 'Лодейное Поле', 'деревня Рабитицы',\n",
       "       'поселок городского типа Никольский', 'деревня Кузьмолово',\n",
       "       'деревня Малые Колпаны', 'поселок Тельмана',\n",
       "       'посёлок Петро-Славянка', 'городской посёлок Назия',\n",
       "       'посёлок Репино', 'посёлок Ильичёво', 'поселок Углово',\n",
       "       'поселок Старая Малукса', 'садовое товарищество Рахья',\n",
       "       'поселок Аннино', 'поселок Победа', 'деревня Меньково',\n",
       "       'деревня Старые Бегуницы', 'посёлок Сапёрный', 'поселок Семрино',\n",
       "       'поселок Гаврилово', 'поселок Глажево', 'поселок Кобринское',\n",
       "       'деревня Гарболово', 'деревня Юкки',\n",
       "       'поселок станции Приветнинское', 'деревня Мануйлово',\n",
       "       'деревня Пчева', 'поселок Поляны', 'поселок Цвылёво',\n",
       "       'поселок Мельниково', 'посёлок Пудость', 'посёлок Усть-Луга',\n",
       "       'Светогорск', 'Любань', 'поселок Селезнёво',\n",
       "       'поселок городского типа Рябово', 'Каменногорск', 'деревня Кривко',\n",
       "       'поселок Глебычево', 'деревня Парицы', 'поселок Жилпосёлок',\n",
       "       'посёлок городского типа Мга', 'городской поселок Янино-1',\n",
       "       'посёлок Войскорово', 'село Никольское', 'посёлок Терволово',\n",
       "       'поселок Стеклянный', 'посёлок городского типа Важины',\n",
       "       'посёлок Мыза-Ивановка', 'село Русско-Высоцкое',\n",
       "       'поселок городского типа Лебяжье',\n",
       "       'поселок городского типа Форносово', 'село Старая Ладога',\n",
       "       'поселок Житково', 'городской посёлок Виллози', 'деревня Лампово',\n",
       "       'деревня Шпаньково', 'деревня Лаврики', 'посёлок Сумино',\n",
       "       'посёлок Возрождение', 'деревня Старосиверская',\n",
       "       'посёлок Кикерино', 'поселок Возрождение',\n",
       "       'деревня Старое Хинколово', 'посёлок Пригородный',\n",
       "       'посёлок Торфяное', 'городской посёлок Будогощь',\n",
       "       'поселок Суходолье', 'поселок Красная Долина', 'деревня Хапо-Ое',\n",
       "       'поселок городского типа Дружная Горка', 'поселок Лисий Нос',\n",
       "       'деревня Яльгелево', 'посёлок Стеклянный', 'село Рождествено',\n",
       "       'деревня Старополье', 'посёлок Левашово', 'деревня Сяськелево',\n",
       "       'деревня Камышовка',\n",
       "       'садоводческое некоммерческое товарищество Лесная Поляна',\n",
       "       'деревня Хязельки', 'поселок Жилгородок',\n",
       "       'посёлок городского типа Павлово', 'деревня Ялгино',\n",
       "       'поселок Новый Учхоз', 'городской посёлок Рощино',\n",
       "       'поселок Гончарово', 'поселок Почап', 'посёлок Сапёрное',\n",
       "       'посёлок Платформа 69-й километр', 'поселок Каложицы',\n",
       "       'деревня Фалилеево', 'деревня Пельгора',\n",
       "       'поселок городского типа Лесогорский', 'деревня Торошковичи',\n",
       "       'посёлок Белоостров', 'посёлок Алексеевка', 'поселок Серебрянский',\n",
       "       'поселок Лукаши', 'поселок Петровское', 'деревня Щеглово',\n",
       "       'поселок Мичуринское', 'деревня Тарасово', 'поселок Кингисеппский',\n",
       "       'посёлок при железнодорожной станции Вещево', 'поселок Ушаки',\n",
       "       'деревня Котлы', 'деревня Сижно', 'деревня Торосово',\n",
       "       'посёлок Форт Красная Горка', 'поселок городского типа Токсово',\n",
       "       'деревня Новолисино', 'посёлок станции Громово', 'деревня Глинка',\n",
       "       'посёлок Мельниково', 'поселок городского типа Назия',\n",
       "       'деревня Старая Пустошь', 'поселок Коммунары', 'поселок Починок',\n",
       "       'посёлок городского типа Вознесенье', 'деревня Разбегаево',\n",
       "       'посёлок городского типа Рябово', 'поселок Гладкое',\n",
       "       'посёлок при железнодорожной станции Приветнинское',\n",
       "       'поселок Тёсово-4', 'посёлок Жилгородок', 'деревня Бор',\n",
       "       'посёлок Коробицыно', 'деревня Большая Вруда', 'деревня Курковицы',\n",
       "       'посёлок Лисий Нос', 'городской посёлок Советский',\n",
       "       'посёлок Кобралово', 'деревня Суоранда', 'поселок Кобралово',\n",
       "       'поселок городского типа Кондратьево',\n",
       "       'коттеджный поселок Счастье', 'поселок Любань', 'деревня Реброво',\n",
       "       'деревня Зимитицы', 'деревня Тойворово', 'поселок Семиозерье',\n",
       "       'поселок Лесное', 'поселок Совхозный', 'поселок Усть-Луга',\n",
       "       'посёлок Ленинское', 'посёлок Суйда',\n",
       "       'посёлок городского типа Форносово', 'деревня Нижние Осельки',\n",
       "       'посёлок станции Свирь', 'поселок Перово', 'Высоцк',\n",
       "       'поселок Гарболово', 'село Шум', 'поселок Котельский',\n",
       "       'поселок станции Лужайка', 'деревня Большая Пустомержа',\n",
       "       'поселок Красносельское', 'деревня Вахнова Кара', 'деревня Пижма',\n",
       "       'коттеджный поселок Кивеннапа Север', 'поселок Коробицыно',\n",
       "       'поселок Ромашки', 'посёлок Перово', 'деревня Каськово',\n",
       "       'деревня Куровицы', 'посёлок Плоское', 'поселок Сумино',\n",
       "       'поселок городского типа Большая Ижора', 'поселок Кирпичное',\n",
       "       'деревня Ям-Тесово', 'деревня Раздолье', 'деревня Терпилицы',\n",
       "       'посёлок Шугозеро', 'деревня Ваганово', 'поселок Пушное',\n",
       "       'садовое товарищество Садко', 'посёлок Усть-Ижора',\n",
       "       'деревня Выскатка', 'городской посёлок Свирьстрой',\n",
       "       'поселок Громово', 'деревня Кисельня', 'посёлок Старая Малукса',\n",
       "       'деревня Трубников Бор', 'поселок Калитино',\n",
       "       'посёлок Высокоключевой', 'садовое товарищество Приладожский',\n",
       "       'посёлок Пансионат Зелёный Бор', 'деревня Ненимяки',\n",
       "       'поселок Пансионат Зелёный Бор', 'деревня Снегирёвка',\n",
       "       'деревня Рапполово', 'деревня Пустынка', 'поселок Рабитицы',\n",
       "       'деревня Большой Сабск', 'деревня Русско', 'деревня Лупполово',\n",
       "       'деревня Большое Рейзино', 'деревня Малая Романовка',\n",
       "       'поселок Дружноселье', 'поселок Пчевжа', 'поселок Володарское',\n",
       "       'деревня Нижняя', 'коттеджный посёлок Лесное', 'деревня Тихковицы',\n",
       "       'деревня Борисова Грива', 'посёлок Дзержинского'], dtype=object)"
      ]
     },
     "execution_count": 34,
     "metadata": {},
     "output_type": "execute_result"
    }
   ],
   "source": [
    "good_data['locality_name'].unique()"
   ]
  },
  {
   "cell_type": "code",
   "execution_count": 35,
   "metadata": {},
   "outputs": [
    {
     "data": {
      "text/plain": [
       "49"
      ]
     },
     "execution_count": 35,
     "metadata": {},
     "output_type": "execute_result"
    }
   ],
   "source": [
    "good_data['locality_name'].isna().sum()"
   ]
  },
  {
   "cell_type": "code",
   "execution_count": 36,
   "metadata": {},
   "outputs": [
    {
     "data": {
      "text/plain": [
       "0"
      ]
     },
     "execution_count": 36,
     "metadata": {},
     "output_type": "execute_result"
    }
   ],
   "source": [
    "good_data = good_data.dropna(subset=['locality_name']).reset_index(drop=True)\n",
    "good_data['locality_name'].isna().sum()"
   ]
  },
  {
   "cell_type": "markdown",
   "metadata": {},
   "source": [
    "Глаза уже болят. Если и есть дубликаты, то их не видно. \n",
    "Поскольку объектов без локации не так много, их можно и убрать"
   ]
  },
  {
   "cell_type": "code",
   "execution_count": 37,
   "metadata": {},
   "outputs": [],
   "source": [
    "good_data['year'] = pd.DatetimeIndex(good_data['first_day_exposition']).year "
   ]
  },
  {
   "cell_type": "code",
   "execution_count": 38,
   "metadata": {},
   "outputs": [],
   "source": [
    "good_data['month'] = pd.DatetimeIndex(good_data['first_day_exposition']).month "
   ]
  },
  {
   "cell_type": "markdown",
   "metadata": {},
   "source": [
    "Проверим гипотезу о том, что пустые значения значат что объявление все еще висит:"
   ]
  },
  {
   "cell_type": "code",
   "execution_count": 39,
   "metadata": {},
   "outputs": [
    {
     "data": {
      "text/plain": [
       "year\n",
       "2014      18\n",
       "2015      68\n",
       "2016      65\n",
       "2017     268\n",
       "2018     947\n",
       "2019    1783\n",
       "Name: year, dtype: int64"
      ]
     },
     "execution_count": 39,
     "metadata": {},
     "output_type": "execute_result"
    }
   ],
   "source": [
    "good_data[good_data['days_exposition'].isna()].groupby('year')['year'].count() "
   ]
  },
  {
   "cell_type": "code",
   "execution_count": 40,
   "metadata": {},
   "outputs": [
    {
     "data": {
      "text/plain": [
       "array([3, 4, 1, 2, 5])"
      ]
     },
     "execution_count": 40,
     "metadata": {},
     "output_type": "execute_result"
    }
   ],
   "source": [
    "good_data[good_data['year'] == 2019]['month'].unique()"
   ]
  },
  {
   "cell_type": "markdown",
   "metadata": {},
   "source": [
    "База данных заполнялась до мая 2019 года. Неужели с 2018 года могло остаться висеть столько объявлений? Я бы проверила процентное соотношение, чтобы быть уверенной"
   ]
  },
  {
   "cell_type": "code",
   "execution_count": 41,
   "metadata": {},
   "outputs": [
    {
     "data": {
      "text/plain": [
       "year\n",
       "2014    0.135338\n",
       "2015    0.059079\n",
       "2016    0.023714\n",
       "2017    0.032964\n",
       "2018    0.111767\n",
       "2019    0.623209\n",
       "Name: year, dtype: float64"
      ]
     },
     "execution_count": 41,
     "metadata": {},
     "output_type": "execute_result"
    }
   ],
   "source": [
    "good_data[good_data['days_exposition'].isna()].groupby('year')['year'].count() \\\n",
    "/ good_data.groupby('year')['year'].count()"
   ]
  },
  {
   "cell_type": "markdown",
   "metadata": {},
   "source": [
    "В 14 году подозрительно высокий процент пропусков, а вот в 18 и 19 году похоже действительно пустые значения значат, что объявление еще актуально.\n",
    "Можно заполнить эти пропуски количеством дней с даты публикации (текущая дата - дата публикации), но нужно ли?"
   ]
  },
  {
   "cell_type": "code",
   "execution_count": 42,
   "metadata": {},
   "outputs": [],
   "source": [
    "good_data['last_price'] = good_data['last_price'].astype(int)\n",
    "good_data.loc[good_data['floors_total'].isna() == False, 'floors_total'] = \\\n",
    "good_data.loc[good_data['floors_total'].isna() == False, 'floors_total'].astype(int)\n",
    "good_data.loc[good_data['balcony'].isna() == False, 'balcony'] = \\\n",
    "good_data.loc[good_data['balcony'].isna() == False, 'balcony'].astype(int)\n",
    "good_data.loc[good_data['airports_nearest'].isna() == False, 'airports_nearest'] = \\\n",
    "good_data.loc[good_data['airports_nearest'].isna() == False, 'airports_nearest'].astype(int)\n",
    "good_data.loc[good_data['cityCenters_nearest'].isna() == False, 'cityCenters_nearest'] = \\\n",
    "good_data.loc[good_data['cityCenters_nearest'].isna() == False, 'cityCenters_nearest'].astype(int)\n",
    "good_data.loc[good_data['parks_around3000'].isna() == False, 'parks_around3000'] = \\\n",
    "good_data.loc[good_data['parks_around3000'].isna() == False, 'parks_around3000'].astype(int)\n",
    "good_data.loc[good_data['parks_nearest'].isna() == False, 'parks_nearest'] = \\\n",
    "good_data.loc[good_data['parks_nearest'].isna() == False, 'parks_nearest'].astype(int)\n",
    "good_data.loc[good_data['ponds_around3000'].isna() == False, 'ponds_around3000'] = \\\n",
    "good_data.loc[good_data['ponds_around3000'].isna() == False, 'ponds_around3000'].astype(int)\n",
    "good_data.loc[good_data['ponds_nearest'].isna() == False, 'ponds_nearest'] = \\\n",
    "good_data.loc[good_data['ponds_nearest'].isna() == False, 'ponds_nearest'].astype(int)"
   ]
  },
  {
   "cell_type": "markdown",
   "metadata": {},
   "source": [
    "### Добавление новых столбцов"
   ]
  },
  {
   "cell_type": "code",
   "execution_count": 43,
   "metadata": {},
   "outputs": [],
   "source": [
    "good_data['m^2_price'] = good_data['last_price'] / good_data['total_area']"
   ]
  },
  {
   "cell_type": "code",
   "execution_count": 44,
   "metadata": {},
   "outputs": [
    {
     "data": {
      "text/html": [
       "<div>\n",
       "<style scoped>\n",
       "    .dataframe tbody tr th:only-of-type {\n",
       "        vertical-align: middle;\n",
       "    }\n",
       "\n",
       "    .dataframe tbody tr th {\n",
       "        vertical-align: top;\n",
       "    }\n",
       "\n",
       "    .dataframe thead th {\n",
       "        text-align: right;\n",
       "    }\n",
       "</style>\n",
       "<table border=\"1\" class=\"dataframe\">\n",
       "  <thead>\n",
       "    <tr style=\"text-align: right;\">\n",
       "      <th></th>\n",
       "      <th>total_images</th>\n",
       "      <th>last_price</th>\n",
       "      <th>total_area</th>\n",
       "      <th>first_day_exposition</th>\n",
       "      <th>rooms</th>\n",
       "      <th>ceiling_height</th>\n",
       "      <th>floors_total</th>\n",
       "      <th>living_area</th>\n",
       "      <th>floor</th>\n",
       "      <th>is_apartment</th>\n",
       "      <th>...</th>\n",
       "      <th>parks_around3000</th>\n",
       "      <th>parks_nearest</th>\n",
       "      <th>ponds_around3000</th>\n",
       "      <th>ponds_nearest</th>\n",
       "      <th>days_exposition</th>\n",
       "      <th>price_cat</th>\n",
       "      <th>year</th>\n",
       "      <th>month</th>\n",
       "      <th>m^2_price</th>\n",
       "      <th>day</th>\n",
       "    </tr>\n",
       "  </thead>\n",
       "  <tbody>\n",
       "    <tr>\n",
       "      <th>0</th>\n",
       "      <td>20</td>\n",
       "      <td>13000000</td>\n",
       "      <td>108.0</td>\n",
       "      <td>2019-03-07T00:00:00</td>\n",
       "      <td>3</td>\n",
       "      <td>2.70</td>\n",
       "      <td>16.0</td>\n",
       "      <td>51.0</td>\n",
       "      <td>8</td>\n",
       "      <td>True</td>\n",
       "      <td>...</td>\n",
       "      <td>1.0</td>\n",
       "      <td>482.0</td>\n",
       "      <td>2.0</td>\n",
       "      <td>755.0</td>\n",
       "      <td>NaN</td>\n",
       "      <td>expencive</td>\n",
       "      <td>2019</td>\n",
       "      <td>3</td>\n",
       "      <td>120370.370370</td>\n",
       "      <td>7</td>\n",
       "    </tr>\n",
       "    <tr>\n",
       "      <th>1</th>\n",
       "      <td>7</td>\n",
       "      <td>3350000</td>\n",
       "      <td>40.4</td>\n",
       "      <td>2018-12-04T00:00:00</td>\n",
       "      <td>1</td>\n",
       "      <td>NaN</td>\n",
       "      <td>11.0</td>\n",
       "      <td>18.6</td>\n",
       "      <td>1</td>\n",
       "      <td>True</td>\n",
       "      <td>...</td>\n",
       "      <td>0.0</td>\n",
       "      <td>NaN</td>\n",
       "      <td>0.0</td>\n",
       "      <td>NaN</td>\n",
       "      <td>81.0</td>\n",
       "      <td>normal_low</td>\n",
       "      <td>2018</td>\n",
       "      <td>12</td>\n",
       "      <td>82920.792079</td>\n",
       "      <td>4</td>\n",
       "    </tr>\n",
       "    <tr>\n",
       "      <th>2</th>\n",
       "      <td>10</td>\n",
       "      <td>5196000</td>\n",
       "      <td>56.0</td>\n",
       "      <td>2015-08-20T00:00:00</td>\n",
       "      <td>2</td>\n",
       "      <td>NaN</td>\n",
       "      <td>5.0</td>\n",
       "      <td>34.3</td>\n",
       "      <td>4</td>\n",
       "      <td>True</td>\n",
       "      <td>...</td>\n",
       "      <td>1.0</td>\n",
       "      <td>90.0</td>\n",
       "      <td>2.0</td>\n",
       "      <td>574.0</td>\n",
       "      <td>558.0</td>\n",
       "      <td>normal</td>\n",
       "      <td>2015</td>\n",
       "      <td>8</td>\n",
       "      <td>92785.714286</td>\n",
       "      <td>20</td>\n",
       "    </tr>\n",
       "    <tr>\n",
       "      <th>3</th>\n",
       "      <td>2</td>\n",
       "      <td>10000000</td>\n",
       "      <td>100.0</td>\n",
       "      <td>2018-06-19T00:00:00</td>\n",
       "      <td>2</td>\n",
       "      <td>3.03</td>\n",
       "      <td>14.0</td>\n",
       "      <td>32.0</td>\n",
       "      <td>13</td>\n",
       "      <td>True</td>\n",
       "      <td>...</td>\n",
       "      <td>2.0</td>\n",
       "      <td>112.0</td>\n",
       "      <td>1.0</td>\n",
       "      <td>48.0</td>\n",
       "      <td>121.0</td>\n",
       "      <td>normal_high</td>\n",
       "      <td>2018</td>\n",
       "      <td>6</td>\n",
       "      <td>100000.000000</td>\n",
       "      <td>19</td>\n",
       "    </tr>\n",
       "    <tr>\n",
       "      <th>4</th>\n",
       "      <td>10</td>\n",
       "      <td>2890000</td>\n",
       "      <td>30.4</td>\n",
       "      <td>2018-09-10T00:00:00</td>\n",
       "      <td>1</td>\n",
       "      <td>NaN</td>\n",
       "      <td>12.0</td>\n",
       "      <td>14.4</td>\n",
       "      <td>5</td>\n",
       "      <td>True</td>\n",
       "      <td>...</td>\n",
       "      <td>NaN</td>\n",
       "      <td>NaN</td>\n",
       "      <td>NaN</td>\n",
       "      <td>NaN</td>\n",
       "      <td>55.0</td>\n",
       "      <td>normal_low</td>\n",
       "      <td>2018</td>\n",
       "      <td>9</td>\n",
       "      <td>95065.789474</td>\n",
       "      <td>10</td>\n",
       "    </tr>\n",
       "  </tbody>\n",
       "</table>\n",
       "<p>5 rows × 27 columns</p>\n",
       "</div>"
      ],
      "text/plain": [
       "   total_images  last_price  total_area first_day_exposition  rooms  \\\n",
       "0            20    13000000       108.0  2019-03-07T00:00:00      3   \n",
       "1             7     3350000        40.4  2018-12-04T00:00:00      1   \n",
       "2            10     5196000        56.0  2015-08-20T00:00:00      2   \n",
       "3             2    10000000       100.0  2018-06-19T00:00:00      2   \n",
       "4            10     2890000        30.4  2018-09-10T00:00:00      1   \n",
       "\n",
       "   ceiling_height  floors_total  living_area  floor  is_apartment  ...  \\\n",
       "0            2.70          16.0         51.0      8          True  ...   \n",
       "1             NaN          11.0         18.6      1          True  ...   \n",
       "2             NaN           5.0         34.3      4          True  ...   \n",
       "3            3.03          14.0         32.0     13          True  ...   \n",
       "4             NaN          12.0         14.4      5          True  ...   \n",
       "\n",
       "   parks_around3000  parks_nearest  ponds_around3000  ponds_nearest  \\\n",
       "0               1.0          482.0               2.0          755.0   \n",
       "1               0.0            NaN               0.0            NaN   \n",
       "2               1.0           90.0               2.0          574.0   \n",
       "3               2.0          112.0               1.0           48.0   \n",
       "4               NaN            NaN               NaN            NaN   \n",
       "\n",
       "  days_exposition    price_cat  year  month      m^2_price  day  \n",
       "0             NaN    expencive  2019      3  120370.370370    7  \n",
       "1            81.0   normal_low  2018     12   82920.792079    4  \n",
       "2           558.0       normal  2015      8   92785.714286   20  \n",
       "3           121.0  normal_high  2018      6  100000.000000   19  \n",
       "4            55.0   normal_low  2018      9   95065.789474   10  \n",
       "\n",
       "[5 rows x 27 columns]"
      ]
     },
     "execution_count": 44,
     "metadata": {},
     "output_type": "execute_result"
    }
   ],
   "source": [
    "good_data['day'] = pd.DatetimeIndex(good_data['first_day_exposition']).day \n",
    "good_data.head()"
   ]
  },
  {
   "cell_type": "code",
   "execution_count": 45,
   "metadata": {},
   "outputs": [],
   "source": [
    "def floor_cat(row):\n",
    "    if row['floor'] == 1:\n",
    "        return 'первый'\n",
    "    elif row['floor'] == row['floors_total']:\n",
    "        return 'последний'\n",
    "    else:\n",
    "        return 'другой'\n",
    "    \n",
    "good_data['floor_cat'] = good_data.apply(floor_cat, axis=1)"
   ]
  },
  {
   "cell_type": "code",
   "execution_count": 46,
   "metadata": {},
   "outputs": [],
   "source": [
    "good_data['cityCenter_km'] = good_data['cityCenters_nearest'] / 1000"
   ]
  },
  {
   "cell_type": "markdown",
   "metadata": {},
   "source": [
    "### Исследовательский анализ данных"
   ]
  },
  {
   "cell_type": "code",
   "execution_count": 47,
   "metadata": {},
   "outputs": [
    {
     "name": "stdout",
     "output_type": "stream",
     "text": [
      "<class 'pandas.core.frame.DataFrame'>\n",
      "RangeIndex: 23489 entries, 0 to 23488\n",
      "Data columns (total 29 columns):\n",
      " #   Column                Non-Null Count  Dtype  \n",
      "---  ------                --------------  -----  \n",
      " 0   total_images          23489 non-null  int64  \n",
      " 1   last_price            23489 non-null  int64  \n",
      " 2   total_area            23489 non-null  float64\n",
      " 3   first_day_exposition  23489 non-null  object \n",
      " 4   rooms                 23489 non-null  int64  \n",
      " 5   ceiling_height        14372 non-null  float64\n",
      " 6   floors_total          23404 non-null  float64\n",
      " 7   living_area           21610 non-null  float64\n",
      " 8   floor                 23489 non-null  int64  \n",
      " 9   is_apartment          23489 non-null  bool   \n",
      " 10  studio                23489 non-null  bool   \n",
      " 11  open_plan             23489 non-null  bool   \n",
      " 12  kitchen_area          21243 non-null  float64\n",
      " 13  balcony               23489 non-null  int64  \n",
      " 14  locality_name         23489 non-null  object \n",
      " 15  airports_nearest      17975 non-null  float64\n",
      " 16  cityCenters_nearest   17996 non-null  float64\n",
      " 17  parks_around3000      17997 non-null  float64\n",
      " 18  parks_nearest         7956 non-null   float64\n",
      " 19  ponds_around3000      17997 non-null  float64\n",
      " 20  ponds_nearest         8968 non-null   float64\n",
      " 21  days_exposition       20340 non-null  float64\n",
      " 22  price_cat             23489 non-null  object \n",
      " 23  year                  23489 non-null  int64  \n",
      " 24  month                 23489 non-null  int64  \n",
      " 25  m^2_price             23489 non-null  float64\n",
      " 26  day                   23489 non-null  int64  \n",
      " 27  floor_cat             23489 non-null  object \n",
      " 28  cityCenter_km         17996 non-null  float64\n",
      "dtypes: bool(3), float64(14), int64(8), object(4)\n",
      "memory usage: 4.7+ MB\n"
     ]
    }
   ],
   "source": [
    "good_data.info()"
   ]
  },
  {
   "cell_type": "code",
   "execution_count": 48,
   "metadata": {},
   "outputs": [
    {
     "data": {
      "text/plain": [
       "<AxesSubplot:>"
      ]
     },
     "execution_count": 48,
     "metadata": {},
     "output_type": "execute_result"
    },
    {
     "data": {
      "image/png": "[encoded data removed]",
      "text/plain": [
       "<Figure size 432x288 with 1 Axes>"
      ]
     },
     "metadata": {
      "needs_background": "light"
     },
     "output_type": "display_data"
    }
   ],
   "source": [
    "good_data['total_area'].hist(bins=10, range=(0,350))"
   ]
  },
  {
   "cell_type": "code",
   "execution_count": 49,
   "metadata": {},
   "outputs": [
    {
     "data": {
      "text/plain": [
       "59.22638724509344"
      ]
     },
     "execution_count": 49,
     "metadata": {},
     "output_type": "execute_result"
    }
   ],
   "source": [
    "good_data['total_area'].mean()"
   ]
  },
  {
   "cell_type": "code",
   "execution_count": 50,
   "metadata": {},
   "outputs": [
    {
     "data": {
      "text/plain": [
       "52.0"
      ]
     },
     "execution_count": 50,
     "metadata": {},
     "output_type": "execute_result"
    }
   ],
   "source": [
    "good_data['total_area'].median()"
   ]
  },
  {
   "cell_type": "markdown",
   "metadata": {},
   "source": [
    "Распределение выглядит очень правдоподбно, если основываться на бытовом опыте.\n",
    "Медиана и среднее различаются совсем незначительно + судя по виду распределния можно сделать вывод, что оно нормальное"
   ]
  },
  {
   "cell_type": "code",
   "execution_count": 51,
   "metadata": {},
   "outputs": [
    {
     "data": {
      "text/plain": [
       "<AxesSubplot:>"
      ]
     },
     "execution_count": 51,
     "metadata": {},
     "output_type": "execute_result"
    },
    {
     "data": {
      "image/png": "[encoded data removed]",
      "text/plain": [
       "<Figure size 432x288 with 1 Axes>"
      ]
     },
     "metadata": {
      "needs_background": "light"
     },
     "output_type": "display_data"
    }
   ],
   "source": [
    "good_data['living_area'].hist(bins=10, range=(0,200))"
   ]
  },
  {
   "cell_type": "code",
   "execution_count": 52,
   "metadata": {},
   "outputs": [
    {
     "data": {
      "text/plain": [
       "33.86268725173531"
      ]
     },
     "execution_count": 52,
     "metadata": {},
     "output_type": "execute_result"
    }
   ],
   "source": [
    "good_data['living_area'].mean()"
   ]
  },
  {
   "cell_type": "code",
   "execution_count": 53,
   "metadata": {},
   "outputs": [
    {
     "data": {
      "text/plain": [
       "30.0"
      ]
     },
     "execution_count": 53,
     "metadata": {},
     "output_type": "execute_result"
    }
   ],
   "source": [
    "good_data['living_area'].median()"
   ]
  },
  {
   "cell_type": "markdown",
   "metadata": {},
   "source": [
    "И тут то же самое"
   ]
  },
  {
   "cell_type": "code",
   "execution_count": 54,
   "metadata": {},
   "outputs": [
    {
     "data": {
      "text/plain": [
       "<AxesSubplot:>"
      ]
     },
     "execution_count": 54,
     "metadata": {},
     "output_type": "execute_result"
    },
    {
     "data": {
      "image/png": "[encoded data removed]",
      "text/plain": [
       "<Figure size 432x288 with 1 Axes>"
      ]
     },
     "metadata": {
      "needs_background": "light"
     },
     "output_type": "display_data"
    }
   ],
   "source": [
    "good_data['kitchen_area'].hist(bins=10, range=(0,70))"
   ]
  },
  {
   "cell_type": "code",
   "execution_count": 55,
   "metadata": {},
   "outputs": [
    {
     "data": {
      "text/plain": [
       "10.441688085486984"
      ]
     },
     "execution_count": 55,
     "metadata": {},
     "output_type": "execute_result"
    }
   ],
   "source": [
    "good_data['kitchen_area'].mean()"
   ]
  },
  {
   "cell_type": "code",
   "execution_count": 56,
   "metadata": {},
   "outputs": [
    {
     "data": {
      "text/plain": [
       "9.1"
      ]
     },
     "execution_count": 56,
     "metadata": {},
     "output_type": "execute_result"
    }
   ],
   "source": [
    "good_data['kitchen_area'].median()"
   ]
  },
  {
   "cell_type": "code",
   "execution_count": 57,
   "metadata": {},
   "outputs": [
    {
     "data": {
      "text/plain": [
       "<AxesSubplot:>"
      ]
     },
     "execution_count": 57,
     "metadata": {},
     "output_type": "execute_result"
    },
    {
     "data": {
      "image/png": "[encoded data removed]",
      "text/plain": [
       "<Figure size 432x288 with 1 Axes>"
      ]
     },
     "metadata": {
      "needs_background": "light"
     },
     "output_type": "display_data"
    }
   ],
   "source": [
    "good_data['last_price'].hist(bins=10)"
   ]
  },
  {
   "cell_type": "code",
   "execution_count": 58,
   "metadata": {},
   "outputs": [
    {
     "data": {
      "text/plain": [
       "6001113.674230491"
      ]
     },
     "execution_count": 58,
     "metadata": {},
     "output_type": "execute_result"
    }
   ],
   "source": [
    "good_data['last_price'].mean()"
   ]
  },
  {
   "cell_type": "code",
   "execution_count": 59,
   "metadata": {},
   "outputs": [
    {
     "data": {
      "text/plain": [
       "4600000.0"
      ]
     },
     "execution_count": 59,
     "metadata": {},
     "output_type": "execute_result"
    }
   ],
   "source": [
    "good_data['last_price'].median()"
   ]
  },
  {
   "cell_type": "markdown",
   "metadata": {},
   "source": [
    "Судя по графику, подавляющее большинство квартир входят в категорию стоимости до 10млн. Тоже все логично.\n",
    "Вид распределения ближе к Пуассону\n",
    "Особо дорогие квартиры сдвигают среднее в большую сторону"
   ]
  },
  {
   "cell_type": "code",
   "execution_count": 60,
   "metadata": {},
   "outputs": [
    {
     "data": {
      "text/plain": [
       "<AxesSubplot:>"
      ]
     },
     "execution_count": 60,
     "metadata": {},
     "output_type": "execute_result"
    },
    {
     "data": {
      "image/png": "[encoded data removed]",
      "text/plain": [
       "<Figure size 432x288 with 1 Axes>"
      ]
     },
     "metadata": {
      "needs_background": "light"
     },
     "output_type": "display_data"
    }
   ],
   "source": [
    "good_data['rooms'].hist(bins=8, range=(0,8))"
   ]
  },
  {
   "cell_type": "code",
   "execution_count": 61,
   "metadata": {},
   "outputs": [
    {
     "data": {
      "text/plain": [
       "2.0"
      ]
     },
     "execution_count": 61,
     "metadata": {},
     "output_type": "execute_result"
    }
   ],
   "source": [
    "good_data['rooms'].median()"
   ]
  },
  {
   "cell_type": "code",
   "execution_count": 62,
   "metadata": {},
   "outputs": [
    {
     "data": {
      "text/plain": [
       "2.0561539443995063"
      ]
     },
     "execution_count": 62,
     "metadata": {},
     "output_type": "execute_result"
    }
   ],
   "source": [
    "good_data['rooms'].mean()"
   ]
  },
  {
   "cell_type": "markdown",
   "metadata": {},
   "source": [
    "Точно так же вписывается в обычные представления о квартирах.\n",
    "Распределение Пуассона, среднее и медиана близки -- выбросов почти нет."
   ]
  },
  {
   "cell_type": "code",
   "execution_count": 63,
   "metadata": {},
   "outputs": [
    {
     "data": {
      "text/plain": [
       "<AxesSubplot:>"
      ]
     },
     "execution_count": 63,
     "metadata": {},
     "output_type": "execute_result"
    },
    {
     "data": {
      "image/png": "[encoded data removed]",
      "text/plain": [
       "<Figure size 432x288 with 1 Axes>"
      ]
     },
     "metadata": {
      "needs_background": "light"
     },
     "output_type": "display_data"
    }
   ],
   "source": [
    "good_data['ceiling_height'].hist()"
   ]
  },
  {
   "cell_type": "code",
   "execution_count": 64,
   "metadata": {},
   "outputs": [
    {
     "data": {
      "text/plain": [
       "2.65"
      ]
     },
     "execution_count": 64,
     "metadata": {},
     "output_type": "execute_result"
    }
   ],
   "source": [
    "good_data['ceiling_height'].median()"
   ]
  },
  {
   "cell_type": "code",
   "execution_count": 65,
   "metadata": {},
   "outputs": [
    {
     "data": {
      "text/plain": [
       "2.7196541887002503"
      ]
     },
     "execution_count": 65,
     "metadata": {},
     "output_type": "execute_result"
    }
   ],
   "source": [
    "good_data['ceiling_height'].mean()"
   ]
  },
  {
   "cell_type": "markdown",
   "metadata": {},
   "source": [
    "С потолками тоже вс в норме. Немного смущают совсем большие значения, но вдруг это какие-то ангары?.. В общем, решила не убирать их, тем более что это вряд ли самый важный параметр для анализа, да и странных значений немного.\n",
    "Снова распределение Пуассона"
   ]
  },
  {
   "cell_type": "code",
   "execution_count": 66,
   "metadata": {},
   "outputs": [
    {
     "data": {
      "text/plain": [
       "<AxesSubplot:>"
      ]
     },
     "execution_count": 66,
     "metadata": {},
     "output_type": "execute_result"
    },
    {
     "data": {
      "image/png": "[encoded data removed]",
      "text/plain": [
       "<Figure size 432x288 with 1 Axes>"
      ]
     },
     "metadata": {
      "needs_background": "light"
     },
     "output_type": "display_data"
    }
   ],
   "source": [
    "good_data['floor'].hist()"
   ]
  },
  {
   "cell_type": "code",
   "execution_count": 67,
   "metadata": {},
   "outputs": [
    {
     "data": {
      "text/plain": [
       "4.0"
      ]
     },
     "execution_count": 67,
     "metadata": {},
     "output_type": "execute_result"
    }
   ],
   "source": [
    "good_data['floor'].median()"
   ]
  },
  {
   "cell_type": "code",
   "execution_count": 68,
   "metadata": {},
   "outputs": [
    {
     "data": {
      "text/plain": [
       "5.895993869470816"
      ]
     },
     "execution_count": 68,
     "metadata": {},
     "output_type": "execute_result"
    }
   ],
   "source": [
    "good_data['floor'].mean()"
   ]
  },
  {
   "cell_type": "markdown",
   "metadata": {},
   "source": [
    "Пуассон. "
   ]
  },
  {
   "cell_type": "code",
   "execution_count": 69,
   "metadata": {},
   "outputs": [
    {
     "data": {
      "text/plain": [
       "<AxesSubplot:>"
      ]
     },
     "execution_count": 69,
     "metadata": {},
     "output_type": "execute_result"
    },
    {
     "data": {
      "image/png": "[encoded data removed]",
      "text/plain": [
       "<Figure size 432x288 with 1 Axes>"
      ]
     },
     "metadata": {
      "needs_background": "light"
     },
     "output_type": "display_data"
    }
   ],
   "source": [
    "good_data['floors_total'].hist()"
   ]
  },
  {
   "cell_type": "code",
   "execution_count": 70,
   "metadata": {},
   "outputs": [
    {
     "data": {
      "text/plain": [
       "9.0"
      ]
     },
     "execution_count": 70,
     "metadata": {},
     "output_type": "execute_result"
    }
   ],
   "source": [
    "good_data['floors_total'].median()"
   ]
  },
  {
   "cell_type": "code",
   "execution_count": 71,
   "metadata": {},
   "outputs": [
    {
     "data": {
      "text/plain": [
       "10.695393949752178"
      ]
     },
     "execution_count": 71,
     "metadata": {},
     "output_type": "execute_result"
    }
   ],
   "source": [
    "good_data['floors_total'].mean()"
   ]
  },
  {
   "cell_type": "markdown",
   "metadata": {},
   "source": [
    "Также Пуассон.\n",
    "Медиана в классике российских реалий -- большинство девятиэтажек."
   ]
  },
  {
   "cell_type": "code",
   "execution_count": 72,
   "metadata": {},
   "outputs": [
    {
     "data": {
      "text/plain": [
       "<AxesSubplot:>"
      ]
     },
     "execution_count": 72,
     "metadata": {},
     "output_type": "execute_result"
    },
    {
     "data": {
      "image/png": "[encoded data removed]",
      "text/plain": [
       "<Figure size 432x288 with 1 Axes>"
      ]
     },
     "metadata": {
      "needs_background": "light"
     },
     "output_type": "display_data"
    }
   ],
   "source": [
    "good_data['floor_cat'].hist()"
   ]
  },
  {
   "cell_type": "markdown",
   "metadata": {},
   "source": [
    "Тут тоже все в порядке"
   ]
  },
  {
   "cell_type": "code",
   "execution_count": 73,
   "metadata": {},
   "outputs": [
    {
     "data": {
      "text/plain": [
       "<AxesSubplot:>"
      ]
     },
     "execution_count": 73,
     "metadata": {},
     "output_type": "execute_result"
    },
    {
     "data": {
      "image/png": "[encoded data removed]",
      "text/plain": [
       "<Figure size 432x288 with 1 Axes>"
      ]
     },
     "metadata": {
      "needs_background": "light"
     },
     "output_type": "display_data"
    }
   ],
   "source": [
    "good_data['cityCenters_nearest'].hist()"
   ]
  },
  {
   "cell_type": "code",
   "execution_count": 74,
   "metadata": {},
   "outputs": [
    {
     "data": {
      "text/plain": [
       "13149.0"
      ]
     },
     "execution_count": 74,
     "metadata": {},
     "output_type": "execute_result"
    }
   ],
   "source": [
    "good_data['cityCenters_nearest'].median()"
   ]
  },
  {
   "cell_type": "code",
   "execution_count": 75,
   "metadata": {},
   "outputs": [
    {
     "data": {
      "text/plain": [
       "14266.473271838186"
      ]
     },
     "execution_count": 75,
     "metadata": {},
     "output_type": "execute_result"
    }
   ],
   "source": [
    "good_data['cityCenters_nearest'].mean()"
   ]
  },
  {
   "cell_type": "markdown",
   "metadata": {},
   "source": [
    "Данные абсолютно логичны. Подавляющее большинство в диапазоне до 13 км. Как от стандартного спальника до центра.\n",
    "Все что за пределами 20км -- ленобласть.\n",
    "Площадь СПб 1400км^2, отсюда корень ~ 40, значит, радиус как раз в районе 20.\n",
    "Характер распределения нестандартный из-за четкого деления на город и область"
   ]
  },
  {
   "cell_type": "code",
   "execution_count": 76,
   "metadata": {},
   "outputs": [
    {
     "data": {
      "text/plain": [
       "<AxesSubplot:>"
      ]
     },
     "execution_count": 76,
     "metadata": {},
     "output_type": "execute_result"
    },
    {
     "data": {
      "image/png": "[encoded data removed]",
      "text/plain": [
       "<Figure size 432x288 with 1 Axes>"
      ]
     },
     "metadata": {
      "needs_background": "light"
     },
     "output_type": "display_data"
    }
   ],
   "source": [
    "good_data['airports_nearest'].hist()"
   ]
  },
  {
   "cell_type": "code",
   "execution_count": 77,
   "metadata": {},
   "outputs": [
    {
     "data": {
      "text/plain": [
       "26770.0"
      ]
     },
     "execution_count": 77,
     "metadata": {},
     "output_type": "execute_result"
    }
   ],
   "source": [
    "good_data['airports_nearest'].median()"
   ]
  },
  {
   "cell_type": "code",
   "execution_count": 78,
   "metadata": {},
   "outputs": [
    {
     "data": {
      "text/plain": [
       "28818.51716272601"
      ]
     },
     "execution_count": 78,
     "metadata": {},
     "output_type": "execute_result"
    }
   ],
   "source": [
    "good_data['airports_nearest'].mean()"
   ]
  },
  {
   "cell_type": "markdown",
   "metadata": {},
   "source": [
    "Выглядит адекватно. Пуассон"
   ]
  },
  {
   "cell_type": "code",
   "execution_count": 79,
   "metadata": {},
   "outputs": [
    {
     "data": {
      "text/plain": [
       "<AxesSubplot:>"
      ]
     },
     "execution_count": 79,
     "metadata": {},
     "output_type": "execute_result"
    },
    {
     "data": {
      "image/png": "[encoded data removed]",
      "text/plain": [
       "<Figure size 432x288 with 1 Axes>"
      ]
     },
     "metadata": {
      "needs_background": "light"
     },
     "output_type": "display_data"
    }
   ],
   "source": [
    "good_data['parks_nearest'].hist(range=(0,1000))"
   ]
  },
  {
   "cell_type": "code",
   "execution_count": 80,
   "metadata": {},
   "outputs": [
    {
     "data": {
      "text/plain": [
       "456.0"
      ]
     },
     "execution_count": 80,
     "metadata": {},
     "output_type": "execute_result"
    }
   ],
   "source": [
    "good_data['parks_nearest'].median()"
   ]
  },
  {
   "cell_type": "code",
   "execution_count": 81,
   "metadata": {},
   "outputs": [
    {
     "data": {
      "text/plain": [
       "492.1420311714429"
      ]
     },
     "execution_count": 81,
     "metadata": {},
     "output_type": "execute_result"
    }
   ],
   "source": [
    "good_data['parks_nearest'].mean()"
   ]
  },
  {
   "cell_type": "markdown",
   "metadata": {},
   "source": [
    "Выбрала диапазон до 1000, потому что дальше данных мало. Почти классическое нормальное распределение"
   ]
  },
  {
   "cell_type": "code",
   "execution_count": 82,
   "metadata": {},
   "outputs": [
    {
     "data": {
      "text/plain": [
       "<AxesSubplot:>"
      ]
     },
     "execution_count": 82,
     "metadata": {},
     "output_type": "execute_result"
    },
    {
     "data": {
      "image/png": "[encoded data removed]",
      "text/plain": [
       "<Figure size 432x288 with 1 Axes>"
      ]
     },
     "metadata": {
      "needs_background": "light"
     },
     "output_type": "display_data"
    }
   ],
   "source": [
    "good_data['day'].hist(bins=31)"
   ]
  },
  {
   "cell_type": "code",
   "execution_count": 83,
   "metadata": {},
   "outputs": [
    {
     "data": {
      "text/plain": [
       "15.0"
      ]
     },
     "execution_count": 83,
     "metadata": {},
     "output_type": "execute_result"
    }
   ],
   "source": [
    "good_data['day'].median()"
   ]
  },
  {
   "cell_type": "code",
   "execution_count": 84,
   "metadata": {},
   "outputs": [
    {
     "data": {
      "text/plain": [
       "15.467708288986334"
      ]
     },
     "execution_count": 84,
     "metadata": {},
     "output_type": "execute_result"
    }
   ],
   "source": [
    "good_data['day'].mean()"
   ]
  },
  {
   "cell_type": "markdown",
   "metadata": {},
   "source": [
    "Похоже на реальность. Резкие пики 1 и 10 числа могут быть связаны с тем, что это даты регулярной публикации для агенств. Спад под конец очевиден -- не во всех месяцах есть 31 день.\n",
    "Среднее -- середина месяца. Как раз и говорит о том, что в целом нет особого различия по датам"
   ]
  },
  {
   "cell_type": "code",
   "execution_count": 85,
   "metadata": {},
   "outputs": [
    {
     "data": {
      "text/plain": [
       "<AxesSubplot:>"
      ]
     },
     "execution_count": 85,
     "metadata": {},
     "output_type": "execute_result"
    },
    {
     "data": {
      "image/png": "[encoded data removed]",
      "text/plain": [
       "<Figure size 432x288 with 1 Axes>"
      ]
     },
     "metadata": {
      "needs_background": "light"
     },
     "output_type": "display_data"
    }
   ],
   "source": [
    "good_data['year'].hist(bins=6)"
   ]
  },
  {
   "cell_type": "code",
   "execution_count": 86,
   "metadata": {},
   "outputs": [
    {
     "data": {
      "text/plain": [
       "2017.0"
      ]
     },
     "execution_count": 86,
     "metadata": {},
     "output_type": "execute_result"
    }
   ],
   "source": [
    "good_data['year'].median()"
   ]
  },
  {
   "cell_type": "code",
   "execution_count": 87,
   "metadata": {},
   "outputs": [
    {
     "data": {
      "text/plain": [
       "2017.372642513517"
      ]
     },
     "execution_count": 87,
     "metadata": {},
     "output_type": "execute_result"
    }
   ],
   "source": [
    "good_data['year'].mean()"
   ]
  },
  {
   "cell_type": "markdown",
   "metadata": {},
   "source": [
    "В первые года объявлений совсем мало, именно поэтому среднее и съехало вниз от медианы"
   ]
  },
  {
   "cell_type": "markdown",
   "metadata": {},
   "source": []
  },
  {
   "cell_type": "code",
   "execution_count": 88,
   "metadata": {},
   "outputs": [
    {
     "data": {
      "text/plain": [
       "<AxesSubplot:>"
      ]
     },
     "execution_count": 88,
     "metadata": {},
     "output_type": "execute_result"
    },
    {
     "data": {
      "image/png": "[encoded data removed]",
      "text/plain": [
       "<Figure size 432x288 with 1 Axes>"
      ]
     },
     "metadata": {
      "needs_background": "light"
     },
     "output_type": "display_data"
    }
   ],
   "source": [
    "good_data['days_exposition'].hist()"
   ]
  },
  {
   "cell_type": "code",
   "execution_count": 89,
   "metadata": {},
   "outputs": [
    {
     "data": {
      "text/plain": [
       "<AxesSubplot:>"
      ]
     },
     "execution_count": 89,
     "metadata": {},
     "output_type": "execute_result"
    },
    {
     "data": {
      "image/png": "[encoded data removed]",
      "text/plain": [
       "<Figure size 432x288 with 1 Axes>"
      ]
     },
     "metadata": {
      "needs_background": "light"
     },
     "output_type": "display_data"
    }
   ],
   "source": [
    "good_data['days_exposition'].hist(range=(0, 400))"
   ]
  },
  {
   "cell_type": "code",
   "execution_count": 90,
   "metadata": {},
   "outputs": [
    {
     "data": {
      "text/plain": [
       "180.0461651917404"
      ]
     },
     "execution_count": 90,
     "metadata": {},
     "output_type": "execute_result"
    }
   ],
   "source": [
    "good_data['days_exposition'].mean()"
   ]
  },
  {
   "cell_type": "code",
   "execution_count": 91,
   "metadata": {},
   "outputs": [
    {
     "data": {
      "text/plain": [
       "95.0"
      ]
     },
     "execution_count": 91,
     "metadata": {},
     "output_type": "execute_result"
    }
   ],
   "source": [
    "good_data['days_exposition'].median()"
   ]
  },
  {
   "cell_type": "code",
   "execution_count": 92,
   "metadata": {},
   "outputs": [
    {
     "data": {
      "text/plain": [
       "47.5"
      ]
     },
     "execution_count": 92,
     "metadata": {},
     "output_type": "execute_result"
    }
   ],
   "source": [
    "good_data['days_exposition'].median() / 2"
   ]
  },
  {
   "cell_type": "markdown",
   "metadata": {},
   "source": [
    "Как раз полтора месяца 1 квартиль"
   ]
  },
  {
   "cell_type": "code",
   "execution_count": 93,
   "metadata": {},
   "outputs": [
    {
     "data": {
      "text/plain": [
       "142.5"
      ]
     },
     "execution_count": 93,
     "metadata": {},
     "output_type": "execute_result"
    }
   ],
   "source": [
    "good_data['days_exposition'].median() + good_data['days_exposition'].median() / 2"
   ]
  },
  {
   "cell_type": "markdown",
   "metadata": {},
   "source": [
    "5.5 месяцев"
   ]
  },
  {
   "cell_type": "markdown",
   "metadata": {},
   "source": [
    "Быстрая продажа -- месяц-два\n",
    "Необычайно долгая -- больше полугода"
   ]
  },
  {
   "cell_type": "code",
   "execution_count": 94,
   "metadata": {},
   "outputs": [
    {
     "data": {
      "text/plain": [
       "<AxesSubplot:xlabel='total_area', ylabel='last_price'>"
      ]
     },
     "execution_count": 94,
     "metadata": {},
     "output_type": "execute_result"
    },
    {
     "data": {
      "image/png": "[encoded data removed]",
      "text/plain": [
       "<Figure size 432x288 with 1 Axes>"
      ]
     },
     "metadata": {
      "needs_background": "light"
     },
     "output_type": "display_data"
    }
   ],
   "source": [
    "(good_data\n",
    "    .pivot_table(index='last_price', values='total_area').reset_index()\n",
    "    .plot(x='total_area', y='last_price', kind='scatter', grid=True)\n",
    ")"
   ]
  },
  {
   "cell_type": "code",
   "execution_count": 95,
   "metadata": {},
   "outputs": [
    {
     "data": {
      "text/html": [
       "<div>\n",
       "<style scoped>\n",
       "    .dataframe tbody tr th:only-of-type {\n",
       "        vertical-align: middle;\n",
       "    }\n",
       "\n",
       "    .dataframe tbody tr th {\n",
       "        vertical-align: top;\n",
       "    }\n",
       "\n",
       "    .dataframe thead th {\n",
       "        text-align: right;\n",
       "    }\n",
       "</style>\n",
       "<table border=\"1\" class=\"dataframe\">\n",
       "  <thead>\n",
       "    <tr style=\"text-align: right;\">\n",
       "      <th></th>\n",
       "      <th>last_price</th>\n",
       "      <th>total_area</th>\n",
       "    </tr>\n",
       "  </thead>\n",
       "  <tbody>\n",
       "    <tr>\n",
       "      <th>last_price</th>\n",
       "      <td>1.000000</td>\n",
       "      <td>0.820148</td>\n",
       "    </tr>\n",
       "    <tr>\n",
       "      <th>total_area</th>\n",
       "      <td>0.820148</td>\n",
       "      <td>1.000000</td>\n",
       "    </tr>\n",
       "  </tbody>\n",
       "</table>\n",
       "</div>"
      ],
      "text/plain": [
       "            last_price  total_area\n",
       "last_price    1.000000    0.820148\n",
       "total_area    0.820148    1.000000"
      ]
     },
     "execution_count": 95,
     "metadata": {},
     "output_type": "execute_result"
    }
   ],
   "source": [
    "good_data.pivot_table(index='last_price', values='total_area').reset_index().corr()"
   ]
  },
  {
   "cell_type": "markdown",
   "metadata": {},
   "source": [
    "Очевидна линейная зависимость с несколькими выбросами для большой площади. Высокий индекс корреляции это только подтверждает"
   ]
  },
  {
   "cell_type": "code",
   "execution_count": 96,
   "metadata": {},
   "outputs": [
    {
     "data": {
      "text/plain": [
       "<AxesSubplot:xlabel='living_area', ylabel='last_price'>"
      ]
     },
     "execution_count": 96,
     "metadata": {},
     "output_type": "execute_result"
    },
    {
     "data": {
      "image/png": "[encoded data removed]",
      "text/plain": [
       "<Figure size 432x288 with 1 Axes>"
      ]
     },
     "metadata": {
      "needs_background": "light"
     },
     "output_type": "display_data"
    }
   ],
   "source": [
    "(good_data\n",
    "    .pivot_table(index='last_price', values='living_area').reset_index()\n",
    "    .plot(x='living_area', y='last_price', kind='scatter', grid=True)\n",
    ")"
   ]
  },
  {
   "cell_type": "code",
   "execution_count": 97,
   "metadata": {},
   "outputs": [
    {
     "data": {
      "text/html": [
       "<div>\n",
       "<style scoped>\n",
       "    .dataframe tbody tr th:only-of-type {\n",
       "        vertical-align: middle;\n",
       "    }\n",
       "\n",
       "    .dataframe tbody tr th {\n",
       "        vertical-align: top;\n",
       "    }\n",
       "\n",
       "    .dataframe thead th {\n",
       "        text-align: right;\n",
       "    }\n",
       "</style>\n",
       "<table border=\"1\" class=\"dataframe\">\n",
       "  <thead>\n",
       "    <tr style=\"text-align: right;\">\n",
       "      <th></th>\n",
       "      <th>last_price</th>\n",
       "      <th>living_area</th>\n",
       "    </tr>\n",
       "  </thead>\n",
       "  <tbody>\n",
       "    <tr>\n",
       "      <th>last_price</th>\n",
       "      <td>1.0000</td>\n",
       "      <td>0.7472</td>\n",
       "    </tr>\n",
       "    <tr>\n",
       "      <th>living_area</th>\n",
       "      <td>0.7472</td>\n",
       "      <td>1.0000</td>\n",
       "    </tr>\n",
       "  </tbody>\n",
       "</table>\n",
       "</div>"
      ],
      "text/plain": [
       "             last_price  living_area\n",
       "last_price       1.0000       0.7472\n",
       "living_area      0.7472       1.0000"
      ]
     },
     "execution_count": 97,
     "metadata": {},
     "output_type": "execute_result"
    }
   ],
   "source": [
    "good_data.pivot_table(index='last_price', values='living_area').reset_index().corr()"
   ]
  },
  {
   "cell_type": "markdown",
   "metadata": {},
   "source": [
    "В районе 25м жилой площади можно увидеть, что точки выстраиваются в вертикальную полоску. Это может быть связано с заполнением пропусков медианной величиной.\n",
    "К-т корреляции все еще высокий\n",
    "!!UPD действительно дело было в медиане, без нее полоски нет)"
   ]
  },
  {
   "cell_type": "code",
   "execution_count": 98,
   "metadata": {},
   "outputs": [
    {
     "data": {
      "text/plain": [
       "<AxesSubplot:xlabel='kitchen_area', ylabel='last_price'>"
      ]
     },
     "execution_count": 98,
     "metadata": {},
     "output_type": "execute_result"
    },
    {
     "data": {
      "image/png": "[encoded data removed]",
      "text/plain": [
       "<Figure size 432x288 with 1 Axes>"
      ]
     },
     "metadata": {
      "needs_background": "light"
     },
     "output_type": "display_data"
    }
   ],
   "source": [
    "(good_data\n",
    "    .pivot_table(index='last_price', values='kitchen_area').reset_index()\n",
    "    .plot(x='kitchen_area', y='last_price', kind='scatter', grid=True)\n",
    ")"
   ]
  },
  {
   "cell_type": "code",
   "execution_count": 99,
   "metadata": {},
   "outputs": [
    {
     "data": {
      "text/html": [
       "<div>\n",
       "<style scoped>\n",
       "    .dataframe tbody tr th:only-of-type {\n",
       "        vertical-align: middle;\n",
       "    }\n",
       "\n",
       "    .dataframe tbody tr th {\n",
       "        vertical-align: top;\n",
       "    }\n",
       "\n",
       "    .dataframe thead th {\n",
       "        text-align: right;\n",
       "    }\n",
       "</style>\n",
       "<table border=\"1\" class=\"dataframe\">\n",
       "  <thead>\n",
       "    <tr style=\"text-align: right;\">\n",
       "      <th></th>\n",
       "      <th>last_price</th>\n",
       "      <th>kitchen_area</th>\n",
       "    </tr>\n",
       "  </thead>\n",
       "  <tbody>\n",
       "    <tr>\n",
       "      <th>last_price</th>\n",
       "      <td>1.000000</td>\n",
       "      <td>0.656441</td>\n",
       "    </tr>\n",
       "    <tr>\n",
       "      <th>kitchen_area</th>\n",
       "      <td>0.656441</td>\n",
       "      <td>1.000000</td>\n",
       "    </tr>\n",
       "  </tbody>\n",
       "</table>\n",
       "</div>"
      ],
      "text/plain": [
       "              last_price  kitchen_area\n",
       "last_price      1.000000      0.656441\n",
       "kitchen_area    0.656441      1.000000"
      ]
     },
     "execution_count": 99,
     "metadata": {},
     "output_type": "execute_result"
    }
   ],
   "source": [
    "good_data.pivot_table(index='last_price', values='kitchen_area').reset_index().corr()"
   ]
  },
  {
   "cell_type": "markdown",
   "metadata": {},
   "source": [
    "Практически аналогичная зависимость. Естественно, что они будут совпадать, т.к. величины жилой общей и кухонной площадей соотносятся друг с другом.\n",
    "К-т корреляции пониже. Скорее всего это связано с тем, что с увеличением общей площади квартиры, кухня не настолько сильно растет"
   ]
  },
  {
   "cell_type": "code",
   "execution_count": 100,
   "metadata": {},
   "outputs": [
    {
     "data": {
      "text/plain": [
       "<AxesSubplot:xlabel='rooms', ylabel='last_price'>"
      ]
     },
     "execution_count": 100,
     "metadata": {},
     "output_type": "execute_result"
    },
    {
     "data": {
      "image/png": "[encoded data removed]",
      "text/plain": [
       "<Figure size 432x288 with 1 Axes>"
      ]
     },
     "metadata": {
      "needs_background": "light"
     },
     "output_type": "display_data"
    }
   ],
   "source": [
    "(good_data\n",
    "    .pivot_table(index='last_price', values='rooms').reset_index()\n",
    "    .plot(x='rooms', y='last_price', kind='scatter', grid=True)\n",
    ")"
   ]
  },
  {
   "cell_type": "code",
   "execution_count": 101,
   "metadata": {},
   "outputs": [
    {
     "data": {
      "text/html": [
       "<div>\n",
       "<style scoped>\n",
       "    .dataframe tbody tr th:only-of-type {\n",
       "        vertical-align: middle;\n",
       "    }\n",
       "\n",
       "    .dataframe tbody tr th {\n",
       "        vertical-align: top;\n",
       "    }\n",
       "\n",
       "    .dataframe thead th {\n",
       "        text-align: right;\n",
       "    }\n",
       "</style>\n",
       "<table border=\"1\" class=\"dataframe\">\n",
       "  <thead>\n",
       "    <tr style=\"text-align: right;\">\n",
       "      <th></th>\n",
       "      <th>last_price</th>\n",
       "      <th>rooms</th>\n",
       "    </tr>\n",
       "  </thead>\n",
       "  <tbody>\n",
       "    <tr>\n",
       "      <th>last_price</th>\n",
       "      <td>1.000000</td>\n",
       "      <td>0.619236</td>\n",
       "    </tr>\n",
       "    <tr>\n",
       "      <th>rooms</th>\n",
       "      <td>0.619236</td>\n",
       "      <td>1.000000</td>\n",
       "    </tr>\n",
       "  </tbody>\n",
       "</table>\n",
       "</div>"
      ],
      "text/plain": [
       "            last_price     rooms\n",
       "last_price    1.000000  0.619236\n",
       "rooms         0.619236  1.000000"
      ]
     },
     "execution_count": 101,
     "metadata": {},
     "output_type": "execute_result"
    }
   ],
   "source": [
    "good_data.pivot_table(index='last_price', values='rooms').reset_index().corr()"
   ]
  },
  {
   "cell_type": "markdown",
   "metadata": {},
   "source": [
    "Также видим отчетливую линейную зависимость. Полоски связаны с тем, что количество комнат дискретно.\n",
    "Линейная зависимость также похожа на зависимость от площади, потому что количество комнат будет с ней коррелировать"
   ]
  },
  {
   "cell_type": "code",
   "execution_count": 102,
   "metadata": {},
   "outputs": [
    {
     "data": {
      "text/plain": [
       "<AxesSubplot:xlabel='rooms', ylabel='total_area'>"
      ]
     },
     "execution_count": 102,
     "metadata": {},
     "output_type": "execute_result"
    },
    {
     "data": {
      "image/png": "[encoded data removed]",
      "text/plain": [
       "<Figure size 432x288 with 1 Axes>"
      ]
     },
     "metadata": {
      "needs_background": "light"
     },
     "output_type": "display_data"
    }
   ],
   "source": [
    "(good_data\n",
    "    .pivot_table(index='total_area', values='rooms').reset_index()\n",
    "    .plot(x='rooms', y='total_area', kind='scatter', grid=True)\n",
    ")"
   ]
  },
  {
   "cell_type": "code",
   "execution_count": 103,
   "metadata": {},
   "outputs": [
    {
     "data": {
      "text/html": [
       "<div>\n",
       "<style scoped>\n",
       "    .dataframe tbody tr th:only-of-type {\n",
       "        vertical-align: middle;\n",
       "    }\n",
       "\n",
       "    .dataframe tbody tr th {\n",
       "        vertical-align: top;\n",
       "    }\n",
       "\n",
       "    .dataframe thead th {\n",
       "        text-align: right;\n",
       "    }\n",
       "</style>\n",
       "<table border=\"1\" class=\"dataframe\">\n",
       "  <thead>\n",
       "    <tr style=\"text-align: right;\">\n",
       "      <th></th>\n",
       "      <th>total_area</th>\n",
       "      <th>rooms</th>\n",
       "    </tr>\n",
       "  </thead>\n",
       "  <tbody>\n",
       "    <tr>\n",
       "      <th>total_area</th>\n",
       "      <td>1.000000</td>\n",
       "      <td>0.834646</td>\n",
       "    </tr>\n",
       "    <tr>\n",
       "      <th>rooms</th>\n",
       "      <td>0.834646</td>\n",
       "      <td>1.000000</td>\n",
       "    </tr>\n",
       "  </tbody>\n",
       "</table>\n",
       "</div>"
      ],
      "text/plain": [
       "            total_area     rooms\n",
       "total_area    1.000000  0.834646\n",
       "rooms         0.834646  1.000000"
      ]
     },
     "execution_count": 103,
     "metadata": {},
     "output_type": "execute_result"
    }
   ],
   "source": [
    "good_data.pivot_table(index='total_area', values='rooms').reset_index().corr()"
   ]
  },
  {
   "cell_type": "markdown",
   "metadata": {},
   "source": [
    "Тут даже сказать нечего. Естетсвенно, количество комнат напрямую связано с метражом."
   ]
  },
  {
   "cell_type": "code",
   "execution_count": 104,
   "metadata": {},
   "outputs": [
    {
     "data": {
      "text/plain": [
       "<AxesSubplot:xlabel='floor_cat'>"
      ]
     },
     "execution_count": 104,
     "metadata": {},
     "output_type": "execute_result"
    },
    {
     "data": {
      "image/png": "[encoded data removed]",
      "text/plain": [
       "<Figure size 432x288 with 1 Axes>"
      ]
     },
     "metadata": {
      "needs_background": "light"
     },
     "output_type": "display_data"
    }
   ],
   "source": [
    "(good_data\n",
    "    .pivot_table(index='floor_cat', values='last_price', aggfunc='median').reset_index()\n",
    "    .plot(x='floor_cat', y='last_price', kind='bar', grid=True)\n",
    ")\n"
   ]
  },
  {
   "cell_type": "code",
   "execution_count": 105,
   "metadata": {},
   "outputs": [
    {
     "data": {
      "text/html": [
       "<div>\n",
       "<style scoped>\n",
       "    .dataframe tbody tr th:only-of-type {\n",
       "        vertical-align: middle;\n",
       "    }\n",
       "\n",
       "    .dataframe tbody tr th {\n",
       "        vertical-align: top;\n",
       "    }\n",
       "\n",
       "    .dataframe thead th {\n",
       "        text-align: right;\n",
       "    }\n",
       "</style>\n",
       "<table border=\"1\" class=\"dataframe\">\n",
       "  <thead>\n",
       "    <tr style=\"text-align: right;\">\n",
       "      <th></th>\n",
       "      <th>last_price</th>\n",
       "    </tr>\n",
       "  </thead>\n",
       "  <tbody>\n",
       "    <tr>\n",
       "      <th>last_price</th>\n",
       "      <td>1.0</td>\n",
       "    </tr>\n",
       "  </tbody>\n",
       "</table>\n",
       "</div>"
      ],
      "text/plain": [
       "            last_price\n",
       "last_price         1.0"
      ]
     },
     "execution_count": 105,
     "metadata": {},
     "output_type": "execute_result"
    }
   ],
   "source": [
    "good_data.pivot_table(index='floor_cat', values='last_price').reset_index().corr()"
   ]
  },
  {
   "cell_type": "markdown",
   "metadata": {},
   "source": [
    "Никто не хочет квартиру на последнем и особенно на первом этаже\n",
    "А вот к-т корреляции куда-то пополыл"
   ]
  },
  {
   "cell_type": "code",
   "execution_count": 106,
   "metadata": {},
   "outputs": [
    {
     "data": {
      "text/plain": [
       "<AxesSubplot:xlabel='day', ylabel='last_price'>"
      ]
     },
     "execution_count": 106,
     "metadata": {},
     "output_type": "execute_result"
    },
    {
     "data": {
      "image/png": "[encoded data removed]",
      "text/plain": [
       "<Figure size 432x288 with 1 Axes>"
      ]
     },
     "metadata": {
      "needs_background": "light"
     },
     "output_type": "display_data"
    }
   ],
   "source": [
    "(good_data\n",
    "    .pivot_table(index='last_price', values='day').reset_index()\n",
    "    .plot(x='day', y='last_price', kind='scatter', grid=True)\n",
    ")"
   ]
  },
  {
   "cell_type": "code",
   "execution_count": 107,
   "metadata": {},
   "outputs": [
    {
     "data": {
      "text/html": [
       "<div>\n",
       "<style scoped>\n",
       "    .dataframe tbody tr th:only-of-type {\n",
       "        vertical-align: middle;\n",
       "    }\n",
       "\n",
       "    .dataframe tbody tr th {\n",
       "        vertical-align: top;\n",
       "    }\n",
       "\n",
       "    .dataframe thead th {\n",
       "        text-align: right;\n",
       "    }\n",
       "</style>\n",
       "<table border=\"1\" class=\"dataframe\">\n",
       "  <thead>\n",
       "    <tr style=\"text-align: right;\">\n",
       "      <th></th>\n",
       "      <th>last_price</th>\n",
       "      <th>day</th>\n",
       "    </tr>\n",
       "  </thead>\n",
       "  <tbody>\n",
       "    <tr>\n",
       "      <th>last_price</th>\n",
       "      <td>1.000000</td>\n",
       "      <td>0.011455</td>\n",
       "    </tr>\n",
       "    <tr>\n",
       "      <th>day</th>\n",
       "      <td>0.011455</td>\n",
       "      <td>1.000000</td>\n",
       "    </tr>\n",
       "  </tbody>\n",
       "</table>\n",
       "</div>"
      ],
      "text/plain": [
       "            last_price       day\n",
       "last_price    1.000000  0.011455\n",
       "day           0.011455  1.000000"
      ]
     },
     "execution_count": 107,
     "metadata": {},
     "output_type": "execute_result"
    }
   ],
   "source": [
    "good_data.pivot_table(index='last_price', values='day').reset_index().corr()"
   ]
  },
  {
   "cell_type": "markdown",
   "metadata": {},
   "source": [
    "Ничего не ясно, корреляции нет и быть не должно. Инлекс корреляции это тоже подтверждает\n"
   ]
  },
  {
   "cell_type": "code",
   "execution_count": 108,
   "metadata": {},
   "outputs": [
    {
     "data": {
      "text/plain": [
       "<AxesSubplot:xlabel='month', ylabel='last_price'>"
      ]
     },
     "execution_count": 108,
     "metadata": {},
     "output_type": "execute_result"
    },
    {
     "data": {
      "image/png": "[encoded data removed]",
      "text/plain": [
       "<Figure size 432x288 with 1 Axes>"
      ]
     },
     "metadata": {
      "needs_background": "light"
     },
     "output_type": "display_data"
    }
   ],
   "source": [
    "(good_data\n",
    "    .pivot_table(index='last_price', values='month').reset_index()\n",
    "    .plot(x='month', y='last_price', kind='scatter', grid=True)\n",
    ")"
   ]
  },
  {
   "cell_type": "code",
   "execution_count": 109,
   "metadata": {},
   "outputs": [
    {
     "data": {
      "text/html": [
       "<div>\n",
       "<style scoped>\n",
       "    .dataframe tbody tr th:only-of-type {\n",
       "        vertical-align: middle;\n",
       "    }\n",
       "\n",
       "    .dataframe tbody tr th {\n",
       "        vertical-align: top;\n",
       "    }\n",
       "\n",
       "    .dataframe thead th {\n",
       "        text-align: right;\n",
       "    }\n",
       "</style>\n",
       "<table border=\"1\" class=\"dataframe\">\n",
       "  <thead>\n",
       "    <tr style=\"text-align: right;\">\n",
       "      <th></th>\n",
       "      <th>last_price</th>\n",
       "      <th>month</th>\n",
       "    </tr>\n",
       "  </thead>\n",
       "  <tbody>\n",
       "    <tr>\n",
       "      <th>last_price</th>\n",
       "      <td>1.000000</td>\n",
       "      <td>0.002413</td>\n",
       "    </tr>\n",
       "    <tr>\n",
       "      <th>month</th>\n",
       "      <td>0.002413</td>\n",
       "      <td>1.000000</td>\n",
       "    </tr>\n",
       "  </tbody>\n",
       "</table>\n",
       "</div>"
      ],
      "text/plain": [
       "            last_price     month\n",
       "last_price    1.000000  0.002413\n",
       "month         0.002413  1.000000"
      ]
     },
     "execution_count": 109,
     "metadata": {},
     "output_type": "execute_result"
    }
   ],
   "source": [
    "good_data.pivot_table(index='last_price', values='month').reset_index().corr()"
   ]
  },
  {
   "cell_type": "markdown",
   "metadata": {},
   "source": [
    "С месяцем все аналогично. Никакой корреляции."
   ]
  },
  {
   "cell_type": "code",
   "execution_count": 110,
   "metadata": {},
   "outputs": [
    {
     "data": {
      "text/plain": [
       "<AxesSubplot:xlabel='year', ylabel='last_price'>"
      ]
     },
     "execution_count": 110,
     "metadata": {},
     "output_type": "execute_result"
    },
    {
     "data": {
      "image/png": "[encoded data removed]",
      "text/plain": [
       "<Figure size 432x288 with 1 Axes>"
      ]
     },
     "metadata": {
      "needs_background": "light"
     },
     "output_type": "display_data"
    }
   ],
   "source": [
    "(good_data\n",
    "    .pivot_table(index='last_price', values='year').reset_index()\n",
    "    .plot(x='year', y='last_price', kind='scatter', grid=True)\n",
    ")"
   ]
  },
  {
   "cell_type": "code",
   "execution_count": 111,
   "metadata": {},
   "outputs": [
    {
     "data": {
      "text/html": [
       "<div>\n",
       "<style scoped>\n",
       "    .dataframe tbody tr th:only-of-type {\n",
       "        vertical-align: middle;\n",
       "    }\n",
       "\n",
       "    .dataframe tbody tr th {\n",
       "        vertical-align: top;\n",
       "    }\n",
       "\n",
       "    .dataframe thead th {\n",
       "        text-align: right;\n",
       "    }\n",
       "</style>\n",
       "<table border=\"1\" class=\"dataframe\">\n",
       "  <thead>\n",
       "    <tr style=\"text-align: right;\">\n",
       "      <th></th>\n",
       "      <th>last_price</th>\n",
       "      <th>year</th>\n",
       "    </tr>\n",
       "  </thead>\n",
       "  <tbody>\n",
       "    <tr>\n",
       "      <th>last_price</th>\n",
       "      <td>1.000000</td>\n",
       "      <td>-0.106031</td>\n",
       "    </tr>\n",
       "    <tr>\n",
       "      <th>year</th>\n",
       "      <td>-0.106031</td>\n",
       "      <td>1.000000</td>\n",
       "    </tr>\n",
       "  </tbody>\n",
       "</table>\n",
       "</div>"
      ],
      "text/plain": [
       "            last_price      year\n",
       "last_price    1.000000 -0.106031\n",
       "year         -0.106031  1.000000"
      ]
     },
     "execution_count": 111,
     "metadata": {},
     "output_type": "execute_result"
    }
   ],
   "source": [
    "good_data.pivot_table(index='last_price', values='year').reset_index().corr()"
   ]
  },
  {
   "cell_type": "markdown",
   "metadata": {},
   "source": [
    "А вот с годом можно увидеть незначительную корреляцию."
   ]
  },
  {
   "cell_type": "code",
   "execution_count": 112,
   "metadata": {},
   "outputs": [],
   "source": [
    "good_data['m^2'] = good_data['last_price'] / good_data['total_area']\n",
    "good_data = good_data[good_data['m^2'] < 400000]"
   ]
  },
  {
   "cell_type": "code",
   "execution_count": 113,
   "metadata": {},
   "outputs": [
    {
     "data": {
      "text/html": [
       "<div>\n",
       "<style scoped>\n",
       "    .dataframe tbody tr th:only-of-type {\n",
       "        vertical-align: middle;\n",
       "    }\n",
       "\n",
       "    .dataframe tbody tr th {\n",
       "        vertical-align: top;\n",
       "    }\n",
       "\n",
       "    .dataframe thead tr th {\n",
       "        text-align: left;\n",
       "    }\n",
       "\n",
       "    .dataframe thead tr:last-of-type th {\n",
       "        text-align: right;\n",
       "    }\n",
       "</style>\n",
       "<table border=\"1\" class=\"dataframe\">\n",
       "  <thead>\n",
       "    <tr>\n",
       "      <th></th>\n",
       "      <th>count</th>\n",
       "      <th>mean</th>\n",
       "    </tr>\n",
       "    <tr>\n",
       "      <th></th>\n",
       "      <th>m^2</th>\n",
       "      <th>m^2</th>\n",
       "    </tr>\n",
       "    <tr>\n",
       "      <th>locality_name</th>\n",
       "      <th></th>\n",
       "      <th></th>\n",
       "    </tr>\n",
       "  </thead>\n",
       "  <tbody>\n",
       "    <tr>\n",
       "      <th>Санкт-Петербург</th>\n",
       "      <td>15561</td>\n",
       "      <td>111773.511669</td>\n",
       "    </tr>\n",
       "    <tr>\n",
       "      <th>посёлок Мурино</th>\n",
       "      <td>522</td>\n",
       "      <td>85752.189195</td>\n",
       "    </tr>\n",
       "    <tr>\n",
       "      <th>посёлок Шушары</th>\n",
       "      <td>440</td>\n",
       "      <td>78677.364217</td>\n",
       "    </tr>\n",
       "    <tr>\n",
       "      <th>Всеволожск</th>\n",
       "      <td>396</td>\n",
       "      <td>67275.625879</td>\n",
       "    </tr>\n",
       "    <tr>\n",
       "      <th>Пушкин</th>\n",
       "      <td>369</td>\n",
       "      <td>103125.819291</td>\n",
       "    </tr>\n",
       "    <tr>\n",
       "      <th>Колпино</th>\n",
       "      <td>338</td>\n",
       "      <td>75424.579098</td>\n",
       "    </tr>\n",
       "    <tr>\n",
       "      <th>посёлок Парголово</th>\n",
       "      <td>327</td>\n",
       "      <td>90175.913458</td>\n",
       "    </tr>\n",
       "    <tr>\n",
       "      <th>Гатчина</th>\n",
       "      <td>307</td>\n",
       "      <td>68746.146763</td>\n",
       "    </tr>\n",
       "    <tr>\n",
       "      <th>деревня Кудрово</th>\n",
       "      <td>299</td>\n",
       "      <td>92473.547576</td>\n",
       "    </tr>\n",
       "    <tr>\n",
       "      <th>Выборг</th>\n",
       "      <td>235</td>\n",
       "      <td>58238.143141</td>\n",
       "    </tr>\n",
       "  </tbody>\n",
       "</table>\n",
       "</div>"
      ],
      "text/plain": [
       "                   count           mean\n",
       "                     m^2            m^2\n",
       "locality_name                          \n",
       "Санкт-Петербург    15561  111773.511669\n",
       "посёлок Мурино       522   85752.189195\n",
       "посёлок Шушары       440   78677.364217\n",
       "Всеволожск           396   67275.625879\n",
       "Пушкин               369  103125.819291\n",
       "Колпино              338   75424.579098\n",
       "посёлок Парголово    327   90175.913458\n",
       "Гатчина              307   68746.146763\n",
       "деревня Кудрово      299   92473.547576\n",
       "Выборг               235   58238.143141"
      ]
     },
     "execution_count": 113,
     "metadata": {},
     "output_type": "execute_result"
    }
   ],
   "source": [
    "(good_data\n",
    " .pivot_table(index='locality_name', values='m^2', aggfunc=['count', 'mean'])\n",
    " .sort_values(by=('count', 'm^2'), ascending=False).head(10)\n",
    ")"
   ]
  },
  {
   "cell_type": "code",
   "execution_count": 114,
   "metadata": {},
   "outputs": [
    {
     "data": {
      "text/plain": [
       "<AxesSubplot:xlabel='cityCenter_km', ylabel='m^2'>"
      ]
     },
     "execution_count": 114,
     "metadata": {},
     "output_type": "execute_result"
    },
    {
     "data": {
      "image/png": "[encoded data removed]",
      "text/plain": [
       "<Figure size 432x288 with 1 Axes>"
      ]
     },
     "metadata": {
      "needs_background": "light"
     },
     "output_type": "display_data"
    }
   ],
   "source": [
    "(good_data[good_data['locality_name'] == 'Санкт-Петербург']\n",
    "    .pivot_table(index='cityCenter_km', values='m^2').reset_index()\n",
    "    .plot(x='cityCenter_km', y='m^2', kind='scatter', grid=True)\n",
    ")"
   ]
  },
  {
   "cell_type": "code",
   "execution_count": 115,
   "metadata": {},
   "outputs": [
    {
     "data": {
      "text/html": [
       "<div>\n",
       "<style scoped>\n",
       "    .dataframe tbody tr th:only-of-type {\n",
       "        vertical-align: middle;\n",
       "    }\n",
       "\n",
       "    .dataframe tbody tr th {\n",
       "        vertical-align: top;\n",
       "    }\n",
       "\n",
       "    .dataframe thead th {\n",
       "        text-align: right;\n",
       "    }\n",
       "</style>\n",
       "<table border=\"1\" class=\"dataframe\">\n",
       "  <thead>\n",
       "    <tr style=\"text-align: right;\">\n",
       "      <th></th>\n",
       "      <th>cityCenter_km</th>\n",
       "      <th>m^2</th>\n",
       "    </tr>\n",
       "  </thead>\n",
       "  <tbody>\n",
       "    <tr>\n",
       "      <th>cityCenter_km</th>\n",
       "      <td>1.000000</td>\n",
       "      <td>-0.372031</td>\n",
       "    </tr>\n",
       "    <tr>\n",
       "      <th>m^2</th>\n",
       "      <td>-0.372031</td>\n",
       "      <td>1.000000</td>\n",
       "    </tr>\n",
       "  </tbody>\n",
       "</table>\n",
       "</div>"
      ],
      "text/plain": [
       "               cityCenter_km       m^2\n",
       "cityCenter_km       1.000000 -0.372031\n",
       "m^2                -0.372031  1.000000"
      ]
     },
     "execution_count": 115,
     "metadata": {},
     "output_type": "execute_result"
    }
   ],
   "source": [
    "(good_data[good_data['locality_name'] == 'Санкт-Петербург']\n",
    "    .pivot_table(index='cityCenter_km', values='m^2').reset_index()\n",
    "    .corr()\n",
    ")"
   ]
  },
  {
   "cell_type": "markdown",
   "metadata": {},
   "source": [
    "### Общий вывод"
   ]
  },
  {
   "cell_type": "markdown",
   "metadata": {},
   "source": [
    "После выполнения проекта усвоила работу с пропусками. Главное, что чаще всего заоплнить их нельзя. И с данными с пропусками тоже можно делать анализ.\n",
    "\n",
    "База данных в проекте была очень опрятная, только в столбце с высотой потолков бардак был. Все остальные параметры были распределены либо нормально, либо по Пуассона.\n",
    "\n",
    "Поиск линейных зависимостей в данных подтвердил общеизвестные рациональные соображения:\n",
    "- сильнее всего цена квартиры связана с общим метражом\n",
    "- метражи жилплощади и кухни тоже влияют, но не так сильно\n",
    "- есть зависимость от количества комнат (но она полностью обусловлена связью с общим метражом)\n",
    "- цена ниже для квартир на последнем, и особенно на первом этажах\n",
    "- стоимость не зависит от дня и месяца публикации\n",
    "- с годами цена квартир немного выросла\n",
    "- квартиры ближе к центру немного дороже (думаю, тут нет яркой зависимости, потому что районы в городе распределены неоднородно. Рядом с центром есть отвратительные районы промзоны, которые смазывают эту зависимость, да и сам центр нелинейный. Если сделать группировку по районам, тогда можно увидеть, что жилье в центре значительно дороже)\n"
   ]
  },
  {
   "cell_type": "code",
   "execution_count": null,
   "metadata": {},
   "outputs": [],
   "source": []
  }
 ],
 "metadata": {
  "ExecuteTimeLog": [
   {
    "duration": 425,
    "start_time": "2022-10-24T19:39:10.444Z"
   },
   {
    "duration": 166,
    "start_time": "2022-10-24T19:40:02.337Z"
   },
   {
    "duration": 16,
    "start_time": "2022-10-24T19:40:03.396Z"
   },
   {
    "duration": 156,
    "start_time": "2022-10-24T19:40:25.246Z"
   },
   {
    "duration": 9,
    "start_time": "2022-10-24T19:42:19.687Z"
   },
   {
    "duration": 68,
    "start_time": "2022-10-24T19:42:45.861Z"
   },
   {
    "duration": 141,
    "start_time": "2022-10-24T19:44:01.407Z"
   },
   {
    "duration": 26,
    "start_time": "2022-10-24T19:44:04.147Z"
   },
   {
    "duration": 22,
    "start_time": "2022-10-24T19:44:43.541Z"
   },
   {
    "duration": 26,
    "start_time": "2022-10-24T19:44:56.031Z"
   },
   {
    "duration": 1153,
    "start_time": "2022-10-24T19:53:45.145Z"
   },
   {
    "duration": 8,
    "start_time": "2022-10-24T19:54:03.652Z"
   },
   {
    "duration": 7,
    "start_time": "2022-10-24T19:54:43.987Z"
   },
   {
    "duration": 559,
    "start_time": "2022-10-24T19:55:19.218Z"
   },
   {
    "duration": 137,
    "start_time": "2022-10-24T19:56:35.575Z"
   },
   {
    "duration": 143,
    "start_time": "2022-10-24T19:57:04.446Z"
   },
   {
    "duration": 5,
    "start_time": "2022-10-24T19:57:14.494Z"
   },
   {
    "duration": 5,
    "start_time": "2022-10-24T19:58:39.437Z"
   },
   {
    "duration": 5,
    "start_time": "2022-10-24T19:58:58.019Z"
   },
   {
    "duration": 5,
    "start_time": "2022-10-24T19:59:15.260Z"
   },
   {
    "duration": 1135,
    "start_time": "2022-10-24T20:01:58.408Z"
   },
   {
    "duration": 22,
    "start_time": "2022-10-24T20:02:12.113Z"
   },
   {
    "duration": 399,
    "start_time": "2022-10-26T18:11:20.018Z"
   },
   {
    "duration": 341,
    "start_time": "2022-10-26T18:11:20.993Z"
   },
   {
    "duration": 9,
    "start_time": "2022-10-26T18:11:39.150Z"
   },
   {
    "duration": 86,
    "start_time": "2022-10-26T18:11:56.863Z"
   },
   {
    "duration": 5,
    "start_time": "2022-10-26T18:11:58.572Z"
   },
   {
    "duration": 4,
    "start_time": "2022-10-26T18:12:43.979Z"
   },
   {
    "duration": 15,
    "start_time": "2022-10-26T18:12:58.983Z"
   },
   {
    "duration": 768,
    "start_time": "2022-10-26T18:13:09.938Z"
   },
   {
    "duration": 822,
    "start_time": "2022-10-26T18:13:18.876Z"
   },
   {
    "duration": 5,
    "start_time": "2022-10-26T18:13:35.636Z"
   },
   {
    "duration": 5,
    "start_time": "2022-10-26T18:13:40.742Z"
   },
   {
    "duration": 93,
    "start_time": "2022-10-26T18:14:00.104Z"
   },
   {
    "duration": 7,
    "start_time": "2022-10-26T18:14:01.637Z"
   },
   {
    "duration": 28,
    "start_time": "2022-10-26T18:14:08.656Z"
   },
   {
    "duration": 20,
    "start_time": "2022-10-26T18:14:23.530Z"
   },
   {
    "duration": 546,
    "start_time": "2022-10-26T18:14:26.768Z"
   },
   {
    "duration": 139,
    "start_time": "2022-10-26T18:16:45.170Z"
   },
   {
    "duration": 4,
    "start_time": "2022-10-26T18:17:02.367Z"
   },
   {
    "duration": 4,
    "start_time": "2022-10-26T18:17:05.145Z"
   },
   {
    "duration": 31,
    "start_time": "2022-10-26T18:17:17.433Z"
   },
   {
    "duration": 28,
    "start_time": "2022-10-26T18:17:57.029Z"
   },
   {
    "duration": 16,
    "start_time": "2022-10-26T18:22:30.371Z"
   },
   {
    "duration": 125,
    "start_time": "2022-10-26T18:23:05.363Z"
   },
   {
    "duration": 114,
    "start_time": "2022-10-26T18:25:04.882Z"
   },
   {
    "duration": 3,
    "start_time": "2022-10-27T11:48:41.612Z"
   },
   {
    "duration": 93,
    "start_time": "2022-10-27T11:48:42.632Z"
   },
   {
    "duration": 6,
    "start_time": "2022-10-27T11:48:48.979Z"
   },
   {
    "duration": 1008,
    "start_time": "2022-10-27T11:49:10.655Z"
   },
   {
    "duration": 7,
    "start_time": "2022-10-27T11:55:44.329Z"
   },
   {
    "duration": 84,
    "start_time": "2022-10-27T11:55:46.078Z"
   },
   {
    "duration": 4,
    "start_time": "2022-10-27T11:56:06.807Z"
   },
   {
    "duration": 283,
    "start_time": "2022-10-27T11:56:08.414Z"
   },
   {
    "duration": 29,
    "start_time": "2022-10-27T11:56:21.864Z"
   },
   {
    "duration": 162,
    "start_time": "2022-10-27T11:56:48.749Z"
   },
   {
    "duration": 356,
    "start_time": "2022-10-27T16:59:44.165Z"
   },
   {
    "duration": 362,
    "start_time": "2022-10-27T16:59:45.672Z"
   },
   {
    "duration": 3,
    "start_time": "2022-10-27T16:59:51.340Z"
   },
   {
    "duration": 277,
    "start_time": "2022-10-27T16:59:51.761Z"
   },
   {
    "duration": 39,
    "start_time": "2022-10-27T16:59:53.423Z"
   },
   {
    "duration": 87,
    "start_time": "2022-10-27T17:00:32.840Z"
   },
   {
    "duration": 58,
    "start_time": "2022-10-27T17:01:11.943Z"
   },
   {
    "duration": 8,
    "start_time": "2022-10-27T17:01:22.275Z"
   },
   {
    "duration": 5,
    "start_time": "2022-10-27T17:02:40.524Z"
   },
   {
    "duration": 364,
    "start_time": "2022-10-27T17:02:41.355Z"
   },
   {
    "duration": 24,
    "start_time": "2022-10-27T17:02:42.222Z"
   },
   {
    "duration": 8,
    "start_time": "2022-10-27T17:02:45.449Z"
   },
   {
    "duration": 10,
    "start_time": "2022-10-27T17:04:28.407Z"
   },
   {
    "duration": 5,
    "start_time": "2022-10-27T17:06:09.386Z"
   },
   {
    "duration": 291,
    "start_time": "2022-10-27T17:06:24.574Z"
   },
   {
    "duration": 286,
    "start_time": "2022-10-27T17:06:51.536Z"
   },
   {
    "duration": 323,
    "start_time": "2022-10-27T17:07:00.077Z"
   },
   {
    "duration": 7,
    "start_time": "2022-10-27T17:07:33.558Z"
   },
   {
    "duration": 5,
    "start_time": "2022-10-27T17:07:37.325Z"
   },
   {
    "duration": 274,
    "start_time": "2022-10-27T17:07:38.942Z"
   },
   {
    "duration": 299,
    "start_time": "2022-10-27T17:07:46.783Z"
   },
   {
    "duration": 300,
    "start_time": "2022-10-27T17:07:55.329Z"
   },
   {
    "duration": 21,
    "start_time": "2022-10-27T17:08:01.377Z"
   },
   {
    "duration": 22,
    "start_time": "2022-10-27T17:08:18.040Z"
   },
   {
    "duration": 394,
    "start_time": "2022-10-27T17:12:09.229Z"
   },
   {
    "duration": 126,
    "start_time": "2022-10-27T17:12:09.889Z"
   },
   {
    "duration": 8,
    "start_time": "2022-10-27T17:12:29.278Z"
   },
   {
    "duration": 399,
    "start_time": "2022-10-27T17:12:32.277Z"
   },
   {
    "duration": 38,
    "start_time": "2022-10-27T17:12:34.210Z"
   },
   {
    "duration": 9,
    "start_time": "2022-10-27T17:12:41.173Z"
   },
   {
    "duration": 403,
    "start_time": "2022-10-27T17:13:45.780Z"
   },
   {
    "duration": 134,
    "start_time": "2022-10-27T17:13:46.689Z"
   },
   {
    "duration": 4,
    "start_time": "2022-10-27T17:13:52.084Z"
   },
   {
    "duration": 603,
    "start_time": "2022-10-27T17:13:52.467Z"
   },
   {
    "duration": 15,
    "start_time": "2022-10-27T17:13:59.022Z"
   },
   {
    "duration": 648,
    "start_time": "2022-10-27T17:14:27.481Z"
   },
   {
    "duration": 684,
    "start_time": "2022-10-27T17:21:23.428Z"
   },
   {
    "duration": 115,
    "start_time": "2022-10-27T17:22:30.871Z"
   },
   {
    "duration": 9,
    "start_time": "2022-10-27T17:22:36.976Z"
   },
   {
    "duration": 12,
    "start_time": "2022-10-27T17:22:54.161Z"
   },
   {
    "duration": 40,
    "start_time": "2022-10-27T17:23:03.582Z"
   },
   {
    "duration": 35,
    "start_time": "2022-10-27T17:23:44.410Z"
   },
   {
    "duration": 21,
    "start_time": "2022-10-27T17:24:34.742Z"
   },
   {
    "duration": 7,
    "start_time": "2022-10-27T17:25:59.852Z"
   },
   {
    "duration": 12,
    "start_time": "2022-10-27T17:26:04.985Z"
   },
   {
    "duration": 5,
    "start_time": "2022-10-27T17:26:44.462Z"
   },
   {
    "duration": 5,
    "start_time": "2022-10-27T17:27:12.096Z"
   },
   {
    "duration": 18,
    "start_time": "2022-10-27T17:28:29.037Z"
   },
   {
    "duration": 13,
    "start_time": "2022-10-27T17:28:43.694Z"
   },
   {
    "duration": 13,
    "start_time": "2022-10-27T17:29:04.422Z"
   },
   {
    "duration": 25,
    "start_time": "2022-10-27T17:29:35.380Z"
   },
   {
    "duration": 15,
    "start_time": "2022-10-27T17:30:28.664Z"
   },
   {
    "duration": 414,
    "start_time": "2022-10-27T17:31:36.291Z"
   },
   {
    "duration": 93,
    "start_time": "2022-10-27T17:31:37.892Z"
   },
   {
    "duration": 6,
    "start_time": "2022-10-27T17:31:43.897Z"
   },
   {
    "duration": 360,
    "start_time": "2022-10-27T17:31:50.629Z"
   },
   {
    "duration": 70,
    "start_time": "2022-10-27T17:32:00.664Z"
   },
   {
    "duration": 22,
    "start_time": "2022-10-27T17:32:05.457Z"
   },
   {
    "duration": 5,
    "start_time": "2022-10-27T17:32:12.807Z"
   },
   {
    "duration": 8,
    "start_time": "2022-10-27T17:32:24.561Z"
   },
   {
    "duration": 9,
    "start_time": "2022-10-27T17:32:32.821Z"
   },
   {
    "duration": 832,
    "start_time": "2022-10-27T17:35:00.641Z"
   },
   {
    "duration": 4,
    "start_time": "2022-10-27T17:35:56.275Z"
   },
   {
    "duration": 363,
    "start_time": "2022-10-27T17:35:57.927Z"
   },
   {
    "duration": 111,
    "start_time": "2022-10-27T17:36:02.349Z"
   },
   {
    "duration": 439,
    "start_time": "2022-10-27T17:36:21.997Z"
   },
   {
    "duration": 96,
    "start_time": "2022-10-27T17:36:22.695Z"
   },
   {
    "duration": 4,
    "start_time": "2022-10-27T17:36:30.044Z"
   },
   {
    "duration": 353,
    "start_time": "2022-10-27T17:36:32.810Z"
   },
   {
    "duration": 9,
    "start_time": "2022-10-27T17:36:38.195Z"
   },
   {
    "duration": 815,
    "start_time": "2022-10-27T17:36:40.147Z"
   },
   {
    "duration": 5,
    "start_time": "2022-10-27T17:37:04.143Z"
   },
   {
    "duration": 111,
    "start_time": "2022-10-27T17:37:09.220Z"
   },
   {
    "duration": 4,
    "start_time": "2022-10-27T17:38:06.199Z"
   },
   {
    "duration": 140,
    "start_time": "2022-10-27T17:38:09.193Z"
   },
   {
    "duration": 9,
    "start_time": "2022-10-27T17:38:21.983Z"
   },
   {
    "duration": 426,
    "start_time": "2022-10-27T17:38:39.188Z"
   },
   {
    "duration": 111,
    "start_time": "2022-10-27T17:38:42.539Z"
   },
   {
    "duration": 4,
    "start_time": "2022-10-27T17:38:47.595Z"
   },
   {
    "duration": 367,
    "start_time": "2022-10-27T17:38:49.016Z"
   },
   {
    "duration": 11,
    "start_time": "2022-10-27T17:38:58.669Z"
   },
   {
    "duration": 937,
    "start_time": "2022-10-27T17:38:59.458Z"
   },
   {
    "duration": 8,
    "start_time": "2022-10-27T17:39:09.887Z"
   },
   {
    "duration": 5,
    "start_time": "2022-10-27T17:39:44.847Z"
   },
   {
    "duration": 9,
    "start_time": "2022-10-27T17:39:49.032Z"
   },
   {
    "duration": 4,
    "start_time": "2022-10-27T17:40:05.439Z"
   },
   {
    "duration": 10,
    "start_time": "2022-10-27T17:40:08.173Z"
   },
   {
    "duration": 423,
    "start_time": "2022-10-27T17:40:32.098Z"
   },
   {
    "duration": 102,
    "start_time": "2022-10-27T17:40:33.863Z"
   },
   {
    "duration": 6,
    "start_time": "2022-10-27T17:40:38.120Z"
   },
   {
    "duration": 79,
    "start_time": "2022-10-27T17:40:40.318Z"
   },
   {
    "duration": 381,
    "start_time": "2022-10-27T17:40:43.920Z"
   },
   {
    "duration": 376,
    "start_time": "2022-10-27T17:40:53.545Z"
   },
   {
    "duration": 100,
    "start_time": "2022-10-27T17:40:54.087Z"
   },
   {
    "duration": 4,
    "start_time": "2022-10-27T17:40:57.689Z"
   },
   {
    "duration": 362,
    "start_time": "2022-10-27T17:40:58.965Z"
   },
   {
    "duration": 13,
    "start_time": "2022-10-27T17:41:00.740Z"
   },
   {
    "duration": 11,
    "start_time": "2022-10-27T17:41:11.929Z"
   },
   {
    "duration": 861,
    "start_time": "2022-10-27T17:41:12.433Z"
   },
   {
    "duration": 10,
    "start_time": "2022-10-27T17:42:30.866Z"
   },
   {
    "duration": 116,
    "start_time": "2022-10-27T17:43:28.037Z"
   },
   {
    "duration": 35,
    "start_time": "2022-10-27T17:44:44.627Z"
   },
   {
    "duration": 16,
    "start_time": "2022-10-27T17:44:47.779Z"
   },
   {
    "duration": 124,
    "start_time": "2022-10-27T17:46:15.382Z"
   },
   {
    "duration": 128,
    "start_time": "2022-10-27T17:46:29.451Z"
   },
   {
    "duration": 113,
    "start_time": "2022-10-27T17:47:53.864Z"
   },
   {
    "duration": 3,
    "start_time": "2022-10-27T17:50:29.930Z"
   },
   {
    "duration": 93,
    "start_time": "2022-10-27T17:50:30.410Z"
   },
   {
    "duration": 14,
    "start_time": "2022-10-27T17:50:33.673Z"
   },
   {
    "duration": 4,
    "start_time": "2022-10-27T17:50:38.571Z"
   },
   {
    "duration": 338,
    "start_time": "2022-10-27T17:50:39.965Z"
   },
   {
    "duration": 12,
    "start_time": "2022-10-27T17:50:41.333Z"
   },
   {
    "duration": 8,
    "start_time": "2022-10-27T17:50:41.973Z"
   },
   {
    "duration": 103,
    "start_time": "2022-10-27T17:50:46.891Z"
   },
   {
    "duration": 120,
    "start_time": "2022-10-27T17:50:51.154Z"
   },
   {
    "duration": 188,
    "start_time": "2022-10-27T17:51:14.308Z"
   },
   {
    "duration": 130,
    "start_time": "2022-10-27T17:51:24.708Z"
   },
   {
    "duration": 135,
    "start_time": "2022-10-27T17:51:41.206Z"
   },
   {
    "duration": 6,
    "start_time": "2022-10-27T17:52:08.530Z"
   },
   {
    "duration": 47,
    "start_time": "2022-10-27T17:54:49.997Z"
   },
   {
    "duration": 9,
    "start_time": "2022-10-27T17:54:58.340Z"
   },
   {
    "duration": 53,
    "start_time": "2022-10-27T17:55:07.351Z"
   },
   {
    "duration": 10,
    "start_time": "2022-10-27T17:55:35.015Z"
   },
   {
    "duration": 9,
    "start_time": "2022-10-27T17:55:45.784Z"
   },
   {
    "duration": 9,
    "start_time": "2022-10-27T17:56:03.176Z"
   },
   {
    "duration": 10,
    "start_time": "2022-10-27T17:56:09.308Z"
   },
   {
    "duration": 3,
    "start_time": "2022-10-27T17:56:17.045Z"
   },
   {
    "duration": 2755,
    "start_time": "2022-10-27T17:56:26.366Z"
   },
   {
    "duration": 812,
    "start_time": "2022-10-27T18:02:08.567Z"
   },
   {
    "duration": 772,
    "start_time": "2022-10-27T18:03:39.710Z"
   },
   {
    "duration": 827,
    "start_time": "2022-10-27T18:03:59.642Z"
   },
   {
    "duration": 6,
    "start_time": "2022-10-27T18:04:08.099Z"
   },
   {
    "duration": 8,
    "start_time": "2022-10-27T18:04:22.241Z"
   },
   {
    "duration": 43,
    "start_time": "2022-10-27T18:05:22.837Z"
   },
   {
    "duration": 769,
    "start_time": "2022-10-27T18:05:31.245Z"
   },
   {
    "duration": 40,
    "start_time": "2022-10-27T18:06:06.660Z"
   },
   {
    "duration": 1400,
    "start_time": "2022-10-27T18:06:23.795Z"
   },
   {
    "duration": 5,
    "start_time": "2022-10-27T18:07:14.034Z"
   },
   {
    "duration": 6,
    "start_time": "2022-10-27T18:07:33.919Z"
   },
   {
    "duration": 5,
    "start_time": "2022-10-27T18:07:46.008Z"
   },
   {
    "duration": 5,
    "start_time": "2022-10-27T18:08:23.074Z"
   },
   {
    "duration": 786,
    "start_time": "2022-10-27T18:08:44.652Z"
   },
   {
    "duration": 701,
    "start_time": "2022-10-27T18:08:58.697Z"
   },
   {
    "duration": 10,
    "start_time": "2022-10-27T18:11:11.372Z"
   },
   {
    "duration": 3,
    "start_time": "2022-10-27T18:11:18.023Z"
   },
   {
    "duration": 13,
    "start_time": "2022-10-27T18:11:27.507Z"
   },
   {
    "duration": 6,
    "start_time": "2022-10-27T18:14:18.285Z"
   },
   {
    "duration": 6,
    "start_time": "2022-10-27T18:14:27.933Z"
   },
   {
    "duration": 6,
    "start_time": "2022-10-27T18:15:01.747Z"
   },
   {
    "duration": 6,
    "start_time": "2022-10-27T18:15:13.546Z"
   },
   {
    "duration": 6,
    "start_time": "2022-10-27T18:15:38.002Z"
   },
   {
    "duration": 5,
    "start_time": "2022-10-27T18:16:43.774Z"
   },
   {
    "duration": 71,
    "start_time": "2022-10-27T18:18:24.783Z"
   },
   {
    "duration": 63,
    "start_time": "2022-10-27T18:19:52.709Z"
   },
   {
    "duration": 11,
    "start_time": "2022-10-27T18:23:59.990Z"
   },
   {
    "duration": 6,
    "start_time": "2022-10-27T18:24:33.005Z"
   },
   {
    "duration": 12,
    "start_time": "2022-10-27T18:25:12.593Z"
   },
   {
    "duration": 6,
    "start_time": "2022-10-27T18:26:14.369Z"
   },
   {
    "duration": 15,
    "start_time": "2022-10-27T18:26:21.205Z"
   },
   {
    "duration": 7,
    "start_time": "2022-10-27T18:26:45.975Z"
   },
   {
    "duration": 6,
    "start_time": "2022-10-27T18:27:05.040Z"
   },
   {
    "duration": 15,
    "start_time": "2022-10-27T18:28:05.043Z"
   },
   {
    "duration": 5,
    "start_time": "2022-10-27T18:29:48.854Z"
   },
   {
    "duration": 5,
    "start_time": "2022-10-27T18:30:03.916Z"
   },
   {
    "duration": 5,
    "start_time": "2022-10-27T18:31:36.423Z"
   },
   {
    "duration": 5,
    "start_time": "2022-10-27T18:31:43.202Z"
   },
   {
    "duration": 10,
    "start_time": "2022-10-27T18:32:44.962Z"
   },
   {
    "duration": 15,
    "start_time": "2022-10-27T18:32:51.808Z"
   },
   {
    "duration": 11,
    "start_time": "2022-10-27T18:33:20.268Z"
   },
   {
    "duration": 7,
    "start_time": "2022-10-27T18:33:27.491Z"
   },
   {
    "duration": 10,
    "start_time": "2022-10-27T18:33:49.284Z"
   },
   {
    "duration": 5,
    "start_time": "2022-10-27T18:33:50.576Z"
   },
   {
    "duration": 4,
    "start_time": "2022-10-27T18:34:11.590Z"
   },
   {
    "duration": 6,
    "start_time": "2022-10-27T18:34:12.771Z"
   },
   {
    "duration": 3,
    "start_time": "2022-10-27T18:34:36.079Z"
   },
   {
    "duration": 4,
    "start_time": "2022-10-27T18:34:37.264Z"
   },
   {
    "duration": 2,
    "start_time": "2022-10-27T18:34:48.651Z"
   },
   {
    "duration": 88,
    "start_time": "2022-10-27T18:34:49.053Z"
   },
   {
    "duration": 4,
    "start_time": "2022-10-27T18:34:54.697Z"
   },
   {
    "duration": 350,
    "start_time": "2022-10-27T18:34:56.557Z"
   },
   {
    "duration": 9,
    "start_time": "2022-10-27T18:34:59.210Z"
   },
   {
    "duration": 411,
    "start_time": "2022-10-27T18:35:08.259Z"
   },
   {
    "duration": 93,
    "start_time": "2022-10-27T18:35:08.672Z"
   },
   {
    "duration": 29,
    "start_time": "2022-10-27T18:35:08.767Z"
   },
   {
    "duration": 18,
    "start_time": "2022-10-27T18:35:08.798Z"
   },
   {
    "duration": 363,
    "start_time": "2022-10-27T18:35:08.817Z"
   },
   {
    "duration": 130,
    "start_time": "2022-10-27T18:35:09.182Z"
   },
   {
    "duration": 4,
    "start_time": "2022-10-27T18:35:09.314Z"
   },
   {
    "duration": 45,
    "start_time": "2022-10-27T18:35:09.320Z"
   },
   {
    "duration": 0,
    "start_time": "2022-10-27T18:35:09.367Z"
   },
   {
    "duration": 0,
    "start_time": "2022-10-27T18:35:09.369Z"
   },
   {
    "duration": 0,
    "start_time": "2022-10-27T18:35:09.370Z"
   },
   {
    "duration": 0,
    "start_time": "2022-10-27T18:35:09.371Z"
   },
   {
    "duration": 0,
    "start_time": "2022-10-27T18:35:09.372Z"
   },
   {
    "duration": 0,
    "start_time": "2022-10-27T18:35:09.373Z"
   },
   {
    "duration": 0,
    "start_time": "2022-10-27T18:35:09.374Z"
   },
   {
    "duration": 0,
    "start_time": "2022-10-27T18:35:09.375Z"
   },
   {
    "duration": 0,
    "start_time": "2022-10-27T18:35:09.376Z"
   },
   {
    "duration": 0,
    "start_time": "2022-10-27T18:35:09.377Z"
   },
   {
    "duration": 0,
    "start_time": "2022-10-27T18:35:09.378Z"
   },
   {
    "duration": 0,
    "start_time": "2022-10-27T18:35:09.379Z"
   },
   {
    "duration": 0,
    "start_time": "2022-10-27T18:35:09.380Z"
   },
   {
    "duration": 399,
    "start_time": "2022-10-27T18:35:32.111Z"
   },
   {
    "duration": 111,
    "start_time": "2022-10-27T18:35:32.512Z"
   },
   {
    "duration": 46,
    "start_time": "2022-10-27T18:35:32.627Z"
   },
   {
    "duration": 19,
    "start_time": "2022-10-27T18:35:32.676Z"
   },
   {
    "duration": 382,
    "start_time": "2022-10-27T18:35:32.697Z"
   },
   {
    "duration": 137,
    "start_time": "2022-10-27T18:35:33.081Z"
   },
   {
    "duration": 4,
    "start_time": "2022-10-27T18:35:33.220Z"
   },
   {
    "duration": 36,
    "start_time": "2022-10-27T18:35:33.226Z"
   },
   {
    "duration": 0,
    "start_time": "2022-10-27T18:35:33.264Z"
   },
   {
    "duration": 0,
    "start_time": "2022-10-27T18:35:33.265Z"
   },
   {
    "duration": 0,
    "start_time": "2022-10-27T18:35:33.266Z"
   },
   {
    "duration": 0,
    "start_time": "2022-10-27T18:35:33.268Z"
   },
   {
    "duration": 0,
    "start_time": "2022-10-27T18:35:33.268Z"
   },
   {
    "duration": 0,
    "start_time": "2022-10-27T18:35:33.269Z"
   },
   {
    "duration": 0,
    "start_time": "2022-10-27T18:35:33.270Z"
   },
   {
    "duration": 0,
    "start_time": "2022-10-27T18:35:33.271Z"
   },
   {
    "duration": 0,
    "start_time": "2022-10-27T18:35:33.272Z"
   },
   {
    "duration": 0,
    "start_time": "2022-10-27T18:35:33.273Z"
   },
   {
    "duration": 0,
    "start_time": "2022-10-27T18:35:33.274Z"
   },
   {
    "duration": 0,
    "start_time": "2022-10-27T18:35:33.275Z"
   },
   {
    "duration": 413,
    "start_time": "2022-10-27T20:04:44.313Z"
   },
   {
    "duration": 144,
    "start_time": "2022-10-27T20:04:44.728Z"
   },
   {
    "duration": 33,
    "start_time": "2022-10-27T20:04:44.874Z"
   },
   {
    "duration": 14,
    "start_time": "2022-10-27T20:04:44.909Z"
   },
   {
    "duration": 537,
    "start_time": "2022-10-27T20:04:44.925Z"
   },
   {
    "duration": 130,
    "start_time": "2022-10-27T20:04:45.464Z"
   },
   {
    "duration": 11,
    "start_time": "2022-10-27T20:04:45.596Z"
   },
   {
    "duration": 5,
    "start_time": "2022-10-27T20:04:45.608Z"
   },
   {
    "duration": 340,
    "start_time": "2022-10-27T20:04:45.614Z"
   },
   {
    "duration": 9,
    "start_time": "2022-10-27T20:04:45.957Z"
   },
   {
    "duration": 7,
    "start_time": "2022-10-27T20:04:45.968Z"
   },
   {
    "duration": 113,
    "start_time": "2022-10-27T20:04:45.977Z"
   },
   {
    "duration": 122,
    "start_time": "2022-10-27T20:04:46.092Z"
   },
   {
    "duration": 6,
    "start_time": "2022-10-27T20:04:46.215Z"
   },
   {
    "duration": 8,
    "start_time": "2022-10-27T20:04:46.222Z"
   },
   {
    "duration": 9,
    "start_time": "2022-10-27T20:04:46.232Z"
   },
   {
    "duration": 4,
    "start_time": "2022-10-27T20:04:46.243Z"
   },
   {
    "duration": 7,
    "start_time": "2022-10-27T20:04:46.248Z"
   },
   {
    "duration": 8,
    "start_time": "2022-10-27T20:04:46.256Z"
   },
   {
    "duration": 5,
    "start_time": "2022-10-27T20:05:51.128Z"
   },
   {
    "duration": 6,
    "start_time": "2022-10-27T20:05:52.859Z"
   },
   {
    "duration": 6,
    "start_time": "2022-10-27T20:15:56.571Z"
   },
   {
    "duration": 5,
    "start_time": "2022-10-27T20:15:58.215Z"
   },
   {
    "duration": 6,
    "start_time": "2022-10-27T20:25:30.006Z"
   },
   {
    "duration": 4,
    "start_time": "2022-10-27T20:25:32.686Z"
   },
   {
    "duration": 334,
    "start_time": "2022-10-27T20:27:13.465Z"
   },
   {
    "duration": 88,
    "start_time": "2022-10-27T20:27:13.801Z"
   },
   {
    "duration": 35,
    "start_time": "2022-10-27T20:27:13.890Z"
   },
   {
    "duration": 19,
    "start_time": "2022-10-27T20:27:13.928Z"
   },
   {
    "duration": 337,
    "start_time": "2022-10-27T20:27:13.949Z"
   },
   {
    "duration": 127,
    "start_time": "2022-10-27T20:27:14.288Z"
   },
   {
    "duration": 5,
    "start_time": "2022-10-27T20:27:14.416Z"
   },
   {
    "duration": 5,
    "start_time": "2022-10-27T20:27:14.422Z"
   },
   {
    "duration": 309,
    "start_time": "2022-10-27T20:27:14.429Z"
   },
   {
    "duration": 10,
    "start_time": "2022-10-27T20:27:14.740Z"
   },
   {
    "duration": 7,
    "start_time": "2022-10-27T20:27:14.751Z"
   },
   {
    "duration": 122,
    "start_time": "2022-10-27T20:27:14.760Z"
   },
   {
    "duration": 115,
    "start_time": "2022-10-27T20:27:14.884Z"
   },
   {
    "duration": 5,
    "start_time": "2022-10-27T20:27:15.005Z"
   },
   {
    "duration": 18,
    "start_time": "2022-10-27T20:27:15.012Z"
   },
   {
    "duration": 11,
    "start_time": "2022-10-27T20:27:15.032Z"
   },
   {
    "duration": 4,
    "start_time": "2022-10-27T20:27:15.044Z"
   },
   {
    "duration": 75,
    "start_time": "2022-10-27T20:27:15.050Z"
   },
   {
    "duration": 0,
    "start_time": "2022-10-27T20:27:15.127Z"
   },
   {
    "duration": 4,
    "start_time": "2022-10-27T20:27:31.344Z"
   },
   {
    "duration": 4,
    "start_time": "2022-10-27T20:27:55.612Z"
   },
   {
    "duration": 9,
    "start_time": "2022-10-27T20:30:10.362Z"
   },
   {
    "duration": 336,
    "start_time": "2022-10-27T20:31:46.056Z"
   },
   {
    "duration": 91,
    "start_time": "2022-10-27T20:31:46.393Z"
   },
   {
    "duration": 33,
    "start_time": "2022-10-27T20:31:46.486Z"
   },
   {
    "duration": 14,
    "start_time": "2022-10-27T20:31:46.522Z"
   },
   {
    "duration": 330,
    "start_time": "2022-10-27T20:31:46.538Z"
   },
   {
    "duration": 115,
    "start_time": "2022-10-27T20:31:46.870Z"
   },
   {
    "duration": 5,
    "start_time": "2022-10-27T20:31:46.986Z"
   },
   {
    "duration": 4,
    "start_time": "2022-10-27T20:31:47.005Z"
   },
   {
    "duration": 337,
    "start_time": "2022-10-27T20:31:47.010Z"
   },
   {
    "duration": 11,
    "start_time": "2022-10-27T20:31:47.349Z"
   },
   {
    "duration": 13,
    "start_time": "2022-10-27T20:31:47.364Z"
   },
   {
    "duration": 150,
    "start_time": "2022-10-27T20:31:47.379Z"
   },
   {
    "duration": 114,
    "start_time": "2022-10-27T20:31:47.531Z"
   },
   {
    "duration": 7,
    "start_time": "2022-10-27T20:31:47.647Z"
   },
   {
    "duration": 11,
    "start_time": "2022-10-27T20:31:47.656Z"
   },
   {
    "duration": 16,
    "start_time": "2022-10-27T20:31:47.669Z"
   },
   {
    "duration": 19,
    "start_time": "2022-10-27T20:31:47.687Z"
   },
   {
    "duration": 17,
    "start_time": "2022-10-27T20:31:47.708Z"
   },
   {
    "duration": 15,
    "start_time": "2022-10-27T20:31:47.727Z"
   },
   {
    "duration": 370,
    "start_time": "2022-10-27T20:33:17.765Z"
   },
   {
    "duration": 92,
    "start_time": "2022-10-27T20:33:18.137Z"
   },
   {
    "duration": 30,
    "start_time": "2022-10-27T20:33:18.231Z"
   },
   {
    "duration": 13,
    "start_time": "2022-10-27T20:33:18.263Z"
   },
   {
    "duration": 344,
    "start_time": "2022-10-27T20:33:18.278Z"
   },
   {
    "duration": 119,
    "start_time": "2022-10-27T20:33:18.623Z"
   },
   {
    "duration": 4,
    "start_time": "2022-10-27T20:33:18.744Z"
   },
   {
    "duration": 7,
    "start_time": "2022-10-27T20:33:18.749Z"
   },
   {
    "duration": 313,
    "start_time": "2022-10-27T20:33:18.757Z"
   },
   {
    "duration": 10,
    "start_time": "2022-10-27T20:33:19.072Z"
   },
   {
    "duration": 11,
    "start_time": "2022-10-27T20:33:19.083Z"
   },
   {
    "duration": 103,
    "start_time": "2022-10-27T20:33:19.106Z"
   },
   {
    "duration": 118,
    "start_time": "2022-10-27T20:33:19.210Z"
   },
   {
    "duration": 4,
    "start_time": "2022-10-27T20:33:19.330Z"
   },
   {
    "duration": 8,
    "start_time": "2022-10-27T20:33:19.335Z"
   },
   {
    "duration": 6,
    "start_time": "2022-10-27T20:33:19.345Z"
   },
   {
    "duration": 9,
    "start_time": "2022-10-27T20:33:19.352Z"
   },
   {
    "duration": 6,
    "start_time": "2022-10-27T20:33:19.362Z"
   },
   {
    "duration": 6,
    "start_time": "2022-10-27T20:33:19.369Z"
   },
   {
    "duration": 9,
    "start_time": "2022-10-27T20:34:35.160Z"
   },
   {
    "duration": 6,
    "start_time": "2022-10-27T20:34:48.150Z"
   },
   {
    "duration": 6,
    "start_time": "2022-10-27T20:34:51.768Z"
   },
   {
    "duration": 328,
    "start_time": "2022-10-27T20:35:12.263Z"
   },
   {
    "duration": 88,
    "start_time": "2022-10-27T20:35:12.593Z"
   },
   {
    "duration": 29,
    "start_time": "2022-10-27T20:35:12.683Z"
   },
   {
    "duration": 14,
    "start_time": "2022-10-27T20:35:12.714Z"
   },
   {
    "duration": 393,
    "start_time": "2022-10-27T20:35:12.729Z"
   },
   {
    "duration": 125,
    "start_time": "2022-10-27T20:35:13.124Z"
   },
   {
    "duration": 4,
    "start_time": "2022-10-27T20:35:13.250Z"
   },
   {
    "duration": 5,
    "start_time": "2022-10-27T20:35:13.256Z"
   },
   {
    "duration": 319,
    "start_time": "2022-10-27T20:35:13.263Z"
   },
   {
    "duration": 9,
    "start_time": "2022-10-27T20:35:13.584Z"
   },
   {
    "duration": 15,
    "start_time": "2022-10-27T20:35:13.595Z"
   },
   {
    "duration": 109,
    "start_time": "2022-10-27T20:35:13.611Z"
   },
   {
    "duration": 109,
    "start_time": "2022-10-27T20:35:13.721Z"
   },
   {
    "duration": 4,
    "start_time": "2022-10-27T20:35:13.832Z"
   },
   {
    "duration": 17,
    "start_time": "2022-10-27T20:35:13.837Z"
   },
   {
    "duration": 6,
    "start_time": "2022-10-27T20:35:13.855Z"
   },
   {
    "duration": 8,
    "start_time": "2022-10-27T20:35:13.863Z"
   },
   {
    "duration": 35,
    "start_time": "2022-10-27T20:35:13.873Z"
   },
   {
    "duration": 375,
    "start_time": "2022-10-27T20:35:54.772Z"
   },
   {
    "duration": 88,
    "start_time": "2022-10-27T20:35:55.260Z"
   },
   {
    "duration": 30,
    "start_time": "2022-10-27T20:35:55.951Z"
   },
   {
    "duration": 14,
    "start_time": "2022-10-27T20:35:56.330Z"
   },
   {
    "duration": 3,
    "start_time": "2022-10-27T20:36:02.621Z"
   },
   {
    "duration": 335,
    "start_time": "2022-10-27T20:36:03.120Z"
   },
   {
    "duration": 12,
    "start_time": "2022-10-27T20:36:06.565Z"
   },
   {
    "duration": 9,
    "start_time": "2022-10-27T20:36:06.966Z"
   },
   {
    "duration": 5,
    "start_time": "2022-10-27T20:36:14.069Z"
   },
   {
    "duration": 10,
    "start_time": "2022-10-27T20:36:19.223Z"
   },
   {
    "duration": 6,
    "start_time": "2022-10-27T20:39:57.055Z"
   },
   {
    "duration": 7,
    "start_time": "2022-10-27T20:40:52.427Z"
   },
   {
    "duration": 5,
    "start_time": "2022-10-27T20:41:12.971Z"
   },
   {
    "duration": 420,
    "start_time": "2022-10-27T20:41:32.713Z"
   },
   {
    "duration": 88,
    "start_time": "2022-10-27T20:41:33.135Z"
   },
   {
    "duration": 30,
    "start_time": "2022-10-27T20:41:33.224Z"
   },
   {
    "duration": 14,
    "start_time": "2022-10-27T20:41:33.256Z"
   },
   {
    "duration": 353,
    "start_time": "2022-10-27T20:41:33.272Z"
   },
   {
    "duration": 121,
    "start_time": "2022-10-27T20:41:33.627Z"
   },
   {
    "duration": 4,
    "start_time": "2022-10-27T20:41:33.750Z"
   },
   {
    "duration": 6,
    "start_time": "2022-10-27T20:41:33.756Z"
   },
   {
    "duration": 314,
    "start_time": "2022-10-27T20:41:33.764Z"
   },
   {
    "duration": 11,
    "start_time": "2022-10-27T20:41:34.080Z"
   },
   {
    "duration": 27,
    "start_time": "2022-10-27T20:41:34.092Z"
   },
   {
    "duration": 120,
    "start_time": "2022-10-27T20:41:34.121Z"
   },
   {
    "duration": 129,
    "start_time": "2022-10-27T20:41:34.243Z"
   },
   {
    "duration": 5,
    "start_time": "2022-10-27T20:41:34.373Z"
   },
   {
    "duration": 21,
    "start_time": "2022-10-27T20:41:34.379Z"
   },
   {
    "duration": 6,
    "start_time": "2022-10-27T20:41:34.404Z"
   },
   {
    "duration": 18,
    "start_time": "2022-10-27T20:41:34.411Z"
   },
   {
    "duration": 26,
    "start_time": "2022-10-27T20:41:34.431Z"
   },
   {
    "duration": 9,
    "start_time": "2022-10-27T20:41:50.491Z"
   },
   {
    "duration": 6,
    "start_time": "2022-10-27T20:42:08.835Z"
   },
   {
    "duration": 6,
    "start_time": "2022-10-27T20:42:19.058Z"
   },
   {
    "duration": 9,
    "start_time": "2022-10-27T20:43:38.260Z"
   },
   {
    "duration": 7,
    "start_time": "2022-10-27T20:43:51.909Z"
   },
   {
    "duration": 37,
    "start_time": "2022-10-27T20:44:03.543Z"
   },
   {
    "duration": 7,
    "start_time": "2022-10-27T20:44:41.176Z"
   },
   {
    "duration": 10,
    "start_time": "2022-10-27T20:46:47.466Z"
   },
   {
    "duration": 70,
    "start_time": "2022-10-27T20:49:38.849Z"
   },
   {
    "duration": 9,
    "start_time": "2022-10-27T20:50:57.460Z"
   },
   {
    "duration": 46,
    "start_time": "2022-10-28T10:57:20.771Z"
   },
   {
    "duration": 381,
    "start_time": "2022-10-28T10:57:29.686Z"
   },
   {
    "duration": 192,
    "start_time": "2022-10-28T10:57:30.201Z"
   },
   {
    "duration": 4,
    "start_time": "2022-10-28T10:57:39.567Z"
   },
   {
    "duration": 396,
    "start_time": "2022-10-28T10:57:40.082Z"
   },
   {
    "duration": 19,
    "start_time": "2022-10-28T10:57:43.899Z"
   },
   {
    "duration": 12,
    "start_time": "2022-10-28T10:57:44.579Z"
   },
   {
    "duration": 4,
    "start_time": "2022-10-28T10:58:01.371Z"
   },
   {
    "duration": 33,
    "start_time": "2022-10-28T10:58:02.415Z"
   },
   {
    "duration": 5,
    "start_time": "2022-10-28T10:58:06.069Z"
   },
   {
    "duration": 17,
    "start_time": "2022-10-28T10:58:10.633Z"
   },
   {
    "duration": 8,
    "start_time": "2022-10-28T10:58:17.434Z"
   },
   {
    "duration": 13,
    "start_time": "2022-10-28T10:58:18.158Z"
   },
   {
    "duration": 7,
    "start_time": "2022-10-28T10:58:22.057Z"
   },
   {
    "duration": 6,
    "start_time": "2022-10-28T10:58:24.448Z"
   },
   {
    "duration": 575,
    "start_time": "2022-10-28T10:58:28.847Z"
   },
   {
    "duration": 12,
    "start_time": "2022-10-28T10:58:39.547Z"
   },
   {
    "duration": 101,
    "start_time": "2022-10-28T11:00:23.380Z"
   },
   {
    "duration": 13,
    "start_time": "2022-10-28T11:04:55.224Z"
   },
   {
    "duration": 4,
    "start_time": "2022-10-28T11:05:30.847Z"
   },
   {
    "duration": 5,
    "start_time": "2022-10-28T11:05:37.461Z"
   },
   {
    "duration": 135,
    "start_time": "2022-10-28T11:06:28.158Z"
   },
   {
    "duration": 7,
    "start_time": "2022-10-28T11:07:00.336Z"
   },
   {
    "duration": 5,
    "start_time": "2022-10-28T11:07:15.669Z"
   },
   {
    "duration": 5,
    "start_time": "2022-10-28T11:07:17.200Z"
   },
   {
    "duration": 139,
    "start_time": "2022-10-28T11:07:49.198Z"
   },
   {
    "duration": 243,
    "start_time": "2022-10-28T11:08:27.651Z"
   },
   {
    "duration": 5,
    "start_time": "2022-10-28T11:08:39.544Z"
   },
   {
    "duration": 5,
    "start_time": "2022-10-28T11:09:18.281Z"
   },
   {
    "duration": 5,
    "start_time": "2022-10-28T11:09:31.780Z"
   },
   {
    "duration": 7,
    "start_time": "2022-10-28T11:11:57.480Z"
   },
   {
    "duration": 5,
    "start_time": "2022-10-28T11:12:11.046Z"
   },
   {
    "duration": 12,
    "start_time": "2022-10-28T11:12:30.335Z"
   },
   {
    "duration": 14,
    "start_time": "2022-10-28T11:13:04.028Z"
   },
   {
    "duration": 13,
    "start_time": "2022-10-28T11:13:10.933Z"
   },
   {
    "duration": 10,
    "start_time": "2022-10-28T11:13:24.731Z"
   },
   {
    "duration": 10,
    "start_time": "2022-10-28T11:13:48.305Z"
   },
   {
    "duration": 5,
    "start_time": "2022-10-28T11:17:36.465Z"
   },
   {
    "duration": 5,
    "start_time": "2022-10-28T11:18:04.834Z"
   },
   {
    "duration": 187,
    "start_time": "2022-10-28T11:18:55.106Z"
   },
   {
    "duration": 6,
    "start_time": "2022-10-28T11:20:06.197Z"
   },
   {
    "duration": 111,
    "start_time": "2022-10-28T11:21:43.560Z"
   },
   {
    "duration": 6,
    "start_time": "2022-10-28T11:22:21.023Z"
   },
   {
    "duration": 5,
    "start_time": "2022-10-28T11:23:19.131Z"
   },
   {
    "duration": 8,
    "start_time": "2022-10-28T11:24:20.485Z"
   },
   {
    "duration": 12,
    "start_time": "2022-10-28T11:24:26.877Z"
   },
   {
    "duration": 17,
    "start_time": "2022-10-28T11:24:32.714Z"
   },
   {
    "duration": 6,
    "start_time": "2022-10-28T11:26:31.744Z"
   },
   {
    "duration": 5,
    "start_time": "2022-10-28T11:27:13.403Z"
   },
   {
    "duration": 15,
    "start_time": "2022-10-28T11:27:43.579Z"
   },
   {
    "duration": 8,
    "start_time": "2022-10-28T11:27:56.085Z"
   },
   {
    "duration": 24,
    "start_time": "2022-10-28T11:28:25.416Z"
   },
   {
    "duration": 7,
    "start_time": "2022-10-28T11:29:06.784Z"
   },
   {
    "duration": 5,
    "start_time": "2022-10-28T11:29:13.876Z"
   },
   {
    "duration": 6,
    "start_time": "2022-10-28T11:30:52.775Z"
   },
   {
    "duration": 11,
    "start_time": "2022-10-28T11:36:52.275Z"
   },
   {
    "duration": 7,
    "start_time": "2022-10-28T11:38:42.436Z"
   },
   {
    "duration": 7,
    "start_time": "2022-10-28T11:38:50.525Z"
   },
   {
    "duration": 14,
    "start_time": "2022-10-28T11:39:50.788Z"
   },
   {
    "duration": 386,
    "start_time": "2022-10-28T11:40:28.983Z"
   },
   {
    "duration": 93,
    "start_time": "2022-10-28T11:40:29.371Z"
   },
   {
    "duration": 30,
    "start_time": "2022-10-28T11:40:29.466Z"
   },
   {
    "duration": 17,
    "start_time": "2022-10-28T11:40:29.507Z"
   },
   {
    "duration": 391,
    "start_time": "2022-10-28T11:40:29.527Z"
   },
   {
    "duration": 117,
    "start_time": "2022-10-28T11:40:29.921Z"
   },
   {
    "duration": 4,
    "start_time": "2022-10-28T11:40:30.040Z"
   },
   {
    "duration": 17,
    "start_time": "2022-10-28T11:40:30.046Z"
   },
   {
    "duration": 370,
    "start_time": "2022-10-28T11:40:30.065Z"
   },
   {
    "duration": 9,
    "start_time": "2022-10-28T11:40:30.437Z"
   },
   {
    "duration": 20,
    "start_time": "2022-10-28T11:40:30.448Z"
   },
   {
    "duration": 131,
    "start_time": "2022-10-28T11:40:30.470Z"
   },
   {
    "duration": 135,
    "start_time": "2022-10-28T11:40:30.605Z"
   },
   {
    "duration": 5,
    "start_time": "2022-10-28T11:40:30.744Z"
   },
   {
    "duration": 30,
    "start_time": "2022-10-28T11:40:30.751Z"
   },
   {
    "duration": 7,
    "start_time": "2022-10-28T11:40:30.783Z"
   },
   {
    "duration": 41,
    "start_time": "2022-10-28T11:40:30.791Z"
   },
   {
    "duration": 25,
    "start_time": "2022-10-28T11:40:30.834Z"
   },
   {
    "duration": 13,
    "start_time": "2022-10-28T11:40:30.861Z"
   },
   {
    "duration": 18,
    "start_time": "2022-10-28T11:40:30.875Z"
   },
   {
    "duration": 155,
    "start_time": "2022-10-28T11:40:30.896Z"
   },
   {
    "duration": 4,
    "start_time": "2022-10-28T11:40:31.052Z"
   },
   {
    "duration": 23,
    "start_time": "2022-10-28T11:40:31.058Z"
   },
   {
    "duration": 39,
    "start_time": "2022-10-28T11:40:31.083Z"
   },
   {
    "duration": 198,
    "start_time": "2022-10-28T11:40:31.124Z"
   },
   {
    "duration": 5,
    "start_time": "2022-10-28T11:40:31.324Z"
   },
   {
    "duration": 25,
    "start_time": "2022-10-28T11:40:31.330Z"
   },
   {
    "duration": 144,
    "start_time": "2022-10-28T11:40:31.356Z"
   },
   {
    "duration": 14,
    "start_time": "2022-10-28T11:40:31.502Z"
   },
   {
    "duration": 23,
    "start_time": "2022-10-28T11:40:31.518Z"
   },
   {
    "duration": 17,
    "start_time": "2022-10-28T11:40:31.543Z"
   },
   {
    "duration": 26,
    "start_time": "2022-10-28T11:40:31.562Z"
   },
   {
    "duration": 156,
    "start_time": "2022-10-28T11:40:31.589Z"
   },
   {
    "duration": 5,
    "start_time": "2022-10-28T11:40:31.746Z"
   },
   {
    "duration": 140,
    "start_time": "2022-10-28T11:40:31.753Z"
   },
   {
    "duration": 5,
    "start_time": "2022-10-28T11:40:31.894Z"
   },
   {
    "duration": 14,
    "start_time": "2022-10-28T11:40:31.911Z"
   },
   {
    "duration": 17,
    "start_time": "2022-10-28T11:40:31.927Z"
   },
   {
    "duration": 12,
    "start_time": "2022-10-28T11:40:31.946Z"
   },
   {
    "duration": 23,
    "start_time": "2022-10-28T11:40:31.960Z"
   },
   {
    "duration": 11,
    "start_time": "2022-10-28T11:40:31.986Z"
   },
   {
    "duration": 441,
    "start_time": "2022-10-28T11:43:41.296Z"
   },
   {
    "duration": 396,
    "start_time": "2022-10-28T11:44:05.134Z"
   },
   {
    "duration": 102,
    "start_time": "2022-10-28T11:44:05.540Z"
   },
   {
    "duration": 4,
    "start_time": "2022-10-28T11:44:10.629Z"
   },
   {
    "duration": 368,
    "start_time": "2022-10-28T11:44:11.296Z"
   },
   {
    "duration": 337,
    "start_time": "2022-10-28T11:44:31.822Z"
   },
   {
    "duration": 351,
    "start_time": "2022-10-28T11:44:37.943Z"
   },
   {
    "duration": 7,
    "start_time": "2022-10-28T11:44:49.856Z"
   },
   {
    "duration": 11,
    "start_time": "2022-10-28T11:44:50.924Z"
   },
   {
    "duration": 4,
    "start_time": "2022-10-28T11:45:13.038Z"
   },
   {
    "duration": 13,
    "start_time": "2022-10-28T11:45:15.787Z"
   },
   {
    "duration": 6,
    "start_time": "2022-10-28T11:45:18.676Z"
   },
   {
    "duration": 11,
    "start_time": "2022-10-28T11:45:26.271Z"
   },
   {
    "duration": 5,
    "start_time": "2022-10-28T11:45:30.796Z"
   },
   {
    "duration": 11,
    "start_time": "2022-10-28T11:45:33.878Z"
   },
   {
    "duration": 14,
    "start_time": "2022-10-28T11:45:40.399Z"
   },
   {
    "duration": 11,
    "start_time": "2022-10-28T11:45:51.040Z"
   },
   {
    "duration": 18,
    "start_time": "2022-10-28T11:46:07.808Z"
   },
   {
    "duration": 18,
    "start_time": "2022-10-28T11:46:44.003Z"
   },
   {
    "duration": 17,
    "start_time": "2022-10-28T11:47:07.304Z"
   },
   {
    "duration": 7,
    "start_time": "2022-10-28T11:47:23.718Z"
   },
   {
    "duration": 11,
    "start_time": "2022-10-28T11:47:37.857Z"
   },
   {
    "duration": 10,
    "start_time": "2022-10-28T11:47:45.363Z"
   },
   {
    "duration": 7,
    "start_time": "2022-10-28T11:47:51.880Z"
   },
   {
    "duration": 8,
    "start_time": "2022-10-28T11:47:59.451Z"
   },
   {
    "duration": 398,
    "start_time": "2022-10-28T11:48:02.953Z"
   },
   {
    "duration": 5,
    "start_time": "2022-10-28T11:48:08.588Z"
   },
   {
    "duration": 9,
    "start_time": "2022-10-28T11:48:24.641Z"
   },
   {
    "duration": 8,
    "start_time": "2022-10-28T11:48:29.491Z"
   },
   {
    "duration": 9,
    "start_time": "2022-10-28T11:48:31.951Z"
   },
   {
    "duration": 8,
    "start_time": "2022-10-28T11:48:40.440Z"
   },
   {
    "duration": 6,
    "start_time": "2022-10-28T11:48:45.779Z"
   },
   {
    "duration": 7,
    "start_time": "2022-10-28T11:48:49.739Z"
   },
   {
    "duration": 6,
    "start_time": "2022-10-28T11:49:00.540Z"
   },
   {
    "duration": 6,
    "start_time": "2022-10-28T11:49:30.852Z"
   },
   {
    "duration": 7,
    "start_time": "2022-10-28T11:49:35.186Z"
   },
   {
    "duration": 14,
    "start_time": "2022-10-28T11:50:18.398Z"
   },
   {
    "duration": 7,
    "start_time": "2022-10-28T11:50:59.355Z"
   },
   {
    "duration": 10,
    "start_time": "2022-10-28T11:51:05.651Z"
   },
   {
    "duration": 9,
    "start_time": "2022-10-28T11:51:18.543Z"
   },
   {
    "duration": 6,
    "start_time": "2022-10-28T11:51:33.242Z"
   },
   {
    "duration": 76,
    "start_time": "2022-10-28T11:52:17.849Z"
   },
   {
    "duration": 15,
    "start_time": "2022-10-28T11:52:35.601Z"
   },
   {
    "duration": 17,
    "start_time": "2022-10-28T11:52:41.642Z"
   },
   {
    "duration": 12,
    "start_time": "2022-10-28T11:54:17.751Z"
   },
   {
    "duration": 21,
    "start_time": "2022-10-28T11:54:20.493Z"
   },
   {
    "duration": 4,
    "start_time": "2022-10-28T11:56:56.956Z"
   },
   {
    "duration": 28,
    "start_time": "2022-10-28T12:03:09.836Z"
   },
   {
    "duration": 12,
    "start_time": "2022-10-28T12:03:41.679Z"
   },
   {
    "duration": 1292,
    "start_time": "2022-10-28T12:04:53.572Z"
   },
   {
    "duration": 34,
    "start_time": "2022-10-28T12:05:35.001Z"
   },
   {
    "duration": 32,
    "start_time": "2022-10-28T12:05:42.545Z"
   },
   {
    "duration": 38,
    "start_time": "2022-10-28T12:06:17.223Z"
   },
   {
    "duration": 299,
    "start_time": "2022-10-28T12:10:37.775Z"
   },
   {
    "duration": 5,
    "start_time": "2022-10-28T12:10:57.991Z"
   },
   {
    "duration": 268,
    "start_time": "2022-10-28T12:11:50.661Z"
   },
   {
    "duration": 3,
    "start_time": "2022-10-28T12:12:28.695Z"
   },
   {
    "duration": 14,
    "start_time": "2022-10-28T12:12:40.983Z"
   },
   {
    "duration": 14,
    "start_time": "2022-10-28T12:14:09.850Z"
   },
   {
    "duration": 7,
    "start_time": "2022-10-28T12:14:31.592Z"
   },
   {
    "duration": 167,
    "start_time": "2022-10-28T12:14:41.566Z"
   },
   {
    "duration": 135,
    "start_time": "2022-10-28T12:15:20.952Z"
   },
   {
    "duration": 159,
    "start_time": "2022-10-28T12:16:41.687Z"
   },
   {
    "duration": 184,
    "start_time": "2022-10-28T12:16:55.032Z"
   },
   {
    "duration": 147,
    "start_time": "2022-10-28T12:17:57.991Z"
   },
   {
    "duration": 144,
    "start_time": "2022-10-28T12:18:03.870Z"
   },
   {
    "duration": 124,
    "start_time": "2022-10-28T12:19:14.537Z"
   },
   {
    "duration": 152,
    "start_time": "2022-10-28T12:21:48.440Z"
   },
   {
    "duration": 126,
    "start_time": "2022-10-28T12:23:39.078Z"
   },
   {
    "duration": 140,
    "start_time": "2022-10-28T12:25:04.294Z"
   },
   {
    "duration": 10,
    "start_time": "2022-10-28T12:26:24.246Z"
   },
   {
    "duration": 9,
    "start_time": "2022-10-28T12:26:33.181Z"
   },
   {
    "duration": 9,
    "start_time": "2022-10-28T12:26:38.209Z"
   },
   {
    "duration": 377,
    "start_time": "2022-10-29T16:19:53.479Z"
   },
   {
    "duration": 360,
    "start_time": "2022-10-29T16:19:53.858Z"
   },
   {
    "duration": 32,
    "start_time": "2022-10-29T16:19:54.220Z"
   },
   {
    "duration": 15,
    "start_time": "2022-10-29T16:19:54.254Z"
   },
   {
    "duration": 522,
    "start_time": "2022-10-29T16:19:54.272Z"
   },
   {
    "duration": 139,
    "start_time": "2022-10-29T16:19:54.796Z"
   },
   {
    "duration": 4,
    "start_time": "2022-10-29T16:19:54.937Z"
   },
   {
    "duration": 6,
    "start_time": "2022-10-29T16:19:54.943Z"
   },
   {
    "duration": 346,
    "start_time": "2022-10-29T16:19:54.950Z"
   },
   {
    "duration": 11,
    "start_time": "2022-10-29T16:19:55.298Z"
   },
   {
    "duration": 25,
    "start_time": "2022-10-29T16:19:55.310Z"
   },
   {
    "duration": 121,
    "start_time": "2022-10-29T16:19:55.337Z"
   },
   {
    "duration": 125,
    "start_time": "2022-10-29T16:19:55.460Z"
   },
   {
    "duration": 5,
    "start_time": "2022-10-29T16:19:55.588Z"
   },
   {
    "duration": 9,
    "start_time": "2022-10-29T16:19:55.595Z"
   },
   {
    "duration": 81,
    "start_time": "2022-10-29T16:19:55.606Z"
   },
   {
    "duration": 8,
    "start_time": "2022-10-29T16:19:55.689Z"
   },
   {
    "duration": 12,
    "start_time": "2022-10-29T16:19:55.699Z"
   },
   {
    "duration": 26,
    "start_time": "2022-10-29T16:19:55.713Z"
   },
   {
    "duration": 11,
    "start_time": "2022-10-29T16:19:55.741Z"
   },
   {
    "duration": 140,
    "start_time": "2022-10-29T16:19:55.753Z"
   },
   {
    "duration": 5,
    "start_time": "2022-10-29T16:19:55.895Z"
   },
   {
    "duration": 9,
    "start_time": "2022-10-29T16:19:55.902Z"
   },
   {
    "duration": 157,
    "start_time": "2022-10-29T16:19:55.913Z"
   },
   {
    "duration": 6,
    "start_time": "2022-10-29T16:19:56.072Z"
   },
   {
    "duration": 10,
    "start_time": "2022-10-29T16:19:56.079Z"
   },
   {
    "duration": 177,
    "start_time": "2022-10-29T16:19:56.091Z"
   },
   {
    "duration": 10,
    "start_time": "2022-10-29T16:19:56.270Z"
   },
   {
    "duration": 21,
    "start_time": "2022-10-29T16:19:56.282Z"
   },
   {
    "duration": 13,
    "start_time": "2022-10-29T16:19:56.306Z"
   },
   {
    "duration": 15,
    "start_time": "2022-10-29T16:19:56.321Z"
   },
   {
    "duration": 179,
    "start_time": "2022-10-29T16:19:56.338Z"
   },
   {
    "duration": 15,
    "start_time": "2022-10-29T16:19:56.519Z"
   },
   {
    "duration": 142,
    "start_time": "2022-10-29T16:19:56.535Z"
   },
   {
    "duration": 5,
    "start_time": "2022-10-29T16:19:56.679Z"
   },
   {
    "duration": 5,
    "start_time": "2022-10-29T16:19:56.685Z"
   },
   {
    "duration": 8,
    "start_time": "2022-10-29T16:19:56.692Z"
   },
   {
    "duration": 6,
    "start_time": "2022-10-29T16:19:56.701Z"
   },
   {
    "duration": 5,
    "start_time": "2022-10-29T16:19:56.734Z"
   },
   {
    "duration": 14,
    "start_time": "2022-10-29T16:19:56.740Z"
   },
   {
    "duration": 13,
    "start_time": "2022-10-29T16:19:56.758Z"
   },
   {
    "duration": 13,
    "start_time": "2022-10-29T16:19:56.772Z"
   },
   {
    "duration": 4,
    "start_time": "2022-10-29T16:19:56.787Z"
   },
   {
    "duration": 71,
    "start_time": "2022-10-29T16:19:56.792Z"
   },
   {
    "duration": 272,
    "start_time": "2022-10-29T16:19:56.865Z"
   },
   {
    "duration": 5,
    "start_time": "2022-10-29T16:19:57.139Z"
   },
   {
    "duration": 28,
    "start_time": "2022-10-29T16:19:57.145Z"
   },
   {
    "duration": 175,
    "start_time": "2022-10-29T16:19:57.175Z"
   },
   {
    "duration": 150,
    "start_time": "2022-10-29T16:19:57.352Z"
   },
   {
    "duration": 158,
    "start_time": "2022-10-29T16:19:57.504Z"
   },
   {
    "duration": 144,
    "start_time": "2022-10-29T16:19:57.664Z"
   },
   {
    "duration": 153,
    "start_time": "2022-10-29T16:19:57.810Z"
   },
   {
    "duration": 155,
    "start_time": "2022-10-29T16:19:57.965Z"
   },
   {
    "duration": 219,
    "start_time": "2022-10-29T16:19:58.121Z"
   },
   {
    "duration": 138,
    "start_time": "2022-10-29T16:19:58.341Z"
   },
   {
    "duration": 118,
    "start_time": "2022-10-29T16:20:46.901Z"
   },
   {
    "duration": 134,
    "start_time": "2022-10-29T16:22:35.864Z"
   },
   {
    "duration": 110,
    "start_time": "2022-10-29T16:26:45.991Z"
   },
   {
    "duration": 139,
    "start_time": "2022-10-29T16:27:49.129Z"
   },
   {
    "duration": 154,
    "start_time": "2022-10-29T16:28:10.719Z"
   },
   {
    "duration": 121,
    "start_time": "2022-10-29T16:29:33.273Z"
   },
   {
    "duration": 138,
    "start_time": "2022-10-29T16:29:42.977Z"
   },
   {
    "duration": 159,
    "start_time": "2022-10-29T16:30:04.977Z"
   },
   {
    "duration": 175,
    "start_time": "2022-10-29T16:30:14.813Z"
   },
   {
    "duration": 225,
    "start_time": "2022-10-29T16:30:23.420Z"
   },
   {
    "duration": 137,
    "start_time": "2022-10-29T16:31:52.637Z"
   },
   {
    "duration": 152,
    "start_time": "2022-10-29T16:33:42.763Z"
   },
   {
    "duration": 133,
    "start_time": "2022-10-29T16:34:08.494Z"
   },
   {
    "duration": 6,
    "start_time": "2022-10-29T16:34:30.934Z"
   },
   {
    "duration": 4,
    "start_time": "2022-10-29T16:34:38.886Z"
   },
   {
    "duration": 25,
    "start_time": "2022-10-29T16:45:47.016Z"
   },
   {
    "duration": 877,
    "start_time": "2022-10-29T16:46:21.506Z"
   },
   {
    "duration": 1101,
    "start_time": "2022-10-29T16:46:46.116Z"
   },
   {
    "duration": 197,
    "start_time": "2022-10-29T16:47:19.831Z"
   },
   {
    "duration": 144,
    "start_time": "2022-10-29T16:51:09.969Z"
   },
   {
    "duration": 856,
    "start_time": "2022-10-29T16:51:40.968Z"
   },
   {
    "duration": 151,
    "start_time": "2022-10-29T16:52:18.942Z"
   },
   {
    "duration": 150,
    "start_time": "2022-10-29T17:14:53.831Z"
   },
   {
    "duration": 181,
    "start_time": "2022-10-29T17:16:16.125Z"
   },
   {
    "duration": 161,
    "start_time": "2022-10-29T17:17:48.594Z"
   },
   {
    "duration": 11,
    "start_time": "2022-10-29T17:18:23.954Z"
   },
   {
    "duration": 19,
    "start_time": "2022-10-29T17:19:01.662Z"
   },
   {
    "duration": 138,
    "start_time": "2022-10-29T17:19:31.020Z"
   },
   {
    "duration": 139,
    "start_time": "2022-10-29T17:21:35.642Z"
   },
   {
    "duration": 135,
    "start_time": "2022-10-29T17:22:50.982Z"
   },
   {
    "duration": 147,
    "start_time": "2022-10-29T17:23:26.988Z"
   },
   {
    "duration": 153,
    "start_time": "2022-10-29T17:24:19.687Z"
   },
   {
    "duration": 146,
    "start_time": "2022-10-29T17:25:02.920Z"
   },
   {
    "duration": 10,
    "start_time": "2022-10-29T17:27:04.662Z"
   },
   {
    "duration": 10,
    "start_time": "2022-10-29T17:27:11.066Z"
   },
   {
    "duration": 9,
    "start_time": "2022-10-29T17:27:31.561Z"
   },
   {
    "duration": 14,
    "start_time": "2022-10-29T17:27:50.889Z"
   },
   {
    "duration": 16,
    "start_time": "2022-10-29T17:28:01.057Z"
   },
   {
    "duration": 10,
    "start_time": "2022-10-29T17:28:51.693Z"
   },
   {
    "duration": 10,
    "start_time": "2022-10-29T17:29:05.336Z"
   },
   {
    "duration": 11,
    "start_time": "2022-10-29T17:29:11.427Z"
   },
   {
    "duration": 50,
    "start_time": "2022-10-29T17:32:39.132Z"
   },
   {
    "duration": 18,
    "start_time": "2022-10-29T17:34:14.317Z"
   },
   {
    "duration": 14,
    "start_time": "2022-10-29T17:34:27.385Z"
   },
   {
    "duration": 15,
    "start_time": "2022-10-29T17:35:45.597Z"
   },
   {
    "duration": 12,
    "start_time": "2022-10-29T17:37:29.892Z"
   },
   {
    "duration": 21,
    "start_time": "2022-10-29T17:39:05.019Z"
   },
   {
    "duration": 19,
    "start_time": "2022-10-29T17:39:34.736Z"
   },
   {
    "duration": 468,
    "start_time": "2022-10-30T17:42:44.789Z"
   },
   {
    "duration": 204,
    "start_time": "2022-10-30T17:42:45.260Z"
   },
   {
    "duration": 33,
    "start_time": "2022-10-30T17:42:45.466Z"
   },
   {
    "duration": 18,
    "start_time": "2022-10-30T17:42:45.501Z"
   },
   {
    "duration": 820,
    "start_time": "2022-10-30T17:42:45.522Z"
   },
   {
    "duration": 184,
    "start_time": "2022-10-30T17:42:46.343Z"
   },
   {
    "duration": 14,
    "start_time": "2022-10-30T17:42:46.529Z"
   },
   {
    "duration": 15,
    "start_time": "2022-10-30T17:42:46.546Z"
   },
   {
    "duration": 460,
    "start_time": "2022-10-30T17:42:46.563Z"
   },
   {
    "duration": 21,
    "start_time": "2022-10-30T17:42:47.025Z"
   },
   {
    "duration": 25,
    "start_time": "2022-10-30T17:42:47.048Z"
   },
   {
    "duration": 145,
    "start_time": "2022-10-30T17:42:47.074Z"
   },
   {
    "duration": 183,
    "start_time": "2022-10-30T17:42:47.221Z"
   },
   {
    "duration": 6,
    "start_time": "2022-10-30T17:42:47.409Z"
   },
   {
    "duration": 68,
    "start_time": "2022-10-30T17:42:47.417Z"
   },
   {
    "duration": 111,
    "start_time": "2022-10-30T17:42:47.488Z"
   },
   {
    "duration": 22,
    "start_time": "2022-10-30T17:42:47.601Z"
   },
   {
    "duration": 49,
    "start_time": "2022-10-30T17:42:47.625Z"
   },
   {
    "duration": 17,
    "start_time": "2022-10-30T17:42:47.677Z"
   },
   {
    "duration": 81,
    "start_time": "2022-10-30T17:42:47.697Z"
   },
   {
    "duration": 222,
    "start_time": "2022-10-30T17:42:47.781Z"
   },
   {
    "duration": 7,
    "start_time": "2022-10-30T17:42:48.005Z"
   },
   {
    "duration": 1855,
    "start_time": "2022-10-30T17:42:48.014Z"
   },
   {
    "duration": 0,
    "start_time": "2022-10-30T17:42:49.872Z"
   },
   {
    "duration": 0,
    "start_time": "2022-10-30T17:42:49.874Z"
   },
   {
    "duration": 0,
    "start_time": "2022-10-30T17:42:49.875Z"
   },
   {
    "duration": 0,
    "start_time": "2022-10-30T17:42:49.876Z"
   },
   {
    "duration": 0,
    "start_time": "2022-10-30T17:42:49.877Z"
   },
   {
    "duration": 0,
    "start_time": "2022-10-30T17:42:49.878Z"
   },
   {
    "duration": 0,
    "start_time": "2022-10-30T17:42:49.879Z"
   },
   {
    "duration": 0,
    "start_time": "2022-10-30T17:42:49.880Z"
   },
   {
    "duration": 0,
    "start_time": "2022-10-30T17:42:49.881Z"
   },
   {
    "duration": 0,
    "start_time": "2022-10-30T17:42:49.883Z"
   },
   {
    "duration": 0,
    "start_time": "2022-10-30T17:42:49.884Z"
   },
   {
    "duration": 0,
    "start_time": "2022-10-30T17:42:49.884Z"
   },
   {
    "duration": 0,
    "start_time": "2022-10-30T17:42:49.885Z"
   },
   {
    "duration": 0,
    "start_time": "2022-10-30T17:42:49.886Z"
   },
   {
    "duration": 0,
    "start_time": "2022-10-30T17:42:49.887Z"
   },
   {
    "duration": 0,
    "start_time": "2022-10-30T17:42:49.889Z"
   },
   {
    "duration": 1,
    "start_time": "2022-10-30T17:42:49.889Z"
   },
   {
    "duration": 0,
    "start_time": "2022-10-30T17:42:49.891Z"
   },
   {
    "duration": 0,
    "start_time": "2022-10-30T17:42:49.892Z"
   },
   {
    "duration": 0,
    "start_time": "2022-10-30T17:42:49.893Z"
   },
   {
    "duration": 0,
    "start_time": "2022-10-30T17:42:49.894Z"
   },
   {
    "duration": 0,
    "start_time": "2022-10-30T17:42:49.895Z"
   },
   {
    "duration": 0,
    "start_time": "2022-10-30T17:42:49.896Z"
   },
   {
    "duration": 0,
    "start_time": "2022-10-30T17:42:49.897Z"
   },
   {
    "duration": 0,
    "start_time": "2022-10-30T17:42:49.898Z"
   },
   {
    "duration": 0,
    "start_time": "2022-10-30T17:42:49.899Z"
   },
   {
    "duration": 0,
    "start_time": "2022-10-30T17:42:49.901Z"
   },
   {
    "duration": 0,
    "start_time": "2022-10-30T17:42:49.902Z"
   },
   {
    "duration": 0,
    "start_time": "2022-10-30T17:42:49.903Z"
   },
   {
    "duration": 0,
    "start_time": "2022-10-30T17:42:49.904Z"
   },
   {
    "duration": 0,
    "start_time": "2022-10-30T17:42:49.906Z"
   },
   {
    "duration": 0,
    "start_time": "2022-10-30T17:42:49.907Z"
   },
   {
    "duration": 0,
    "start_time": "2022-10-30T17:42:49.909Z"
   },
   {
    "duration": 0,
    "start_time": "2022-10-30T17:42:49.914Z"
   },
   {
    "duration": 0,
    "start_time": "2022-10-30T17:42:49.915Z"
   },
   {
    "duration": 0,
    "start_time": "2022-10-30T17:42:49.916Z"
   },
   {
    "duration": 0,
    "start_time": "2022-10-30T17:42:49.917Z"
   },
   {
    "duration": 0,
    "start_time": "2022-10-30T17:42:49.922Z"
   },
   {
    "duration": 0,
    "start_time": "2022-10-30T17:42:49.923Z"
   },
   {
    "duration": 0,
    "start_time": "2022-10-30T17:42:49.924Z"
   },
   {
    "duration": 0,
    "start_time": "2022-10-30T17:42:49.926Z"
   },
   {
    "duration": 0,
    "start_time": "2022-10-30T17:42:49.931Z"
   },
   {
    "duration": 0,
    "start_time": "2022-10-30T17:42:49.932Z"
   },
   {
    "duration": 0,
    "start_time": "2022-10-30T17:42:49.933Z"
   },
   {
    "duration": 0,
    "start_time": "2022-10-30T17:42:49.938Z"
   },
   {
    "duration": 0,
    "start_time": "2022-10-30T17:42:49.940Z"
   },
   {
    "duration": 0,
    "start_time": "2022-10-30T17:42:49.941Z"
   },
   {
    "duration": 0,
    "start_time": "2022-10-30T17:42:49.946Z"
   },
   {
    "duration": 0,
    "start_time": "2022-10-30T17:42:49.947Z"
   },
   {
    "duration": 0,
    "start_time": "2022-10-30T17:42:49.948Z"
   },
   {
    "duration": 0,
    "start_time": "2022-10-30T17:42:49.949Z"
   },
   {
    "duration": 0,
    "start_time": "2022-10-30T17:42:49.955Z"
   },
   {
    "duration": 0,
    "start_time": "2022-10-30T17:42:49.957Z"
   },
   {
    "duration": 0,
    "start_time": "2022-10-30T17:42:49.958Z"
   },
   {
    "duration": 0,
    "start_time": "2022-10-30T17:42:49.960Z"
   },
   {
    "duration": 0,
    "start_time": "2022-10-30T17:42:49.961Z"
   },
   {
    "duration": 0,
    "start_time": "2022-10-30T17:42:49.962Z"
   },
   {
    "duration": 1,
    "start_time": "2022-10-30T17:42:49.963Z"
   },
   {
    "duration": 420,
    "start_time": "2022-10-30T17:50:37.128Z"
   },
   {
    "duration": 88,
    "start_time": "2022-10-30T17:50:37.549Z"
   },
   {
    "duration": 5,
    "start_time": "2022-10-30T17:50:43.598Z"
   },
   {
    "duration": 325,
    "start_time": "2022-10-30T17:50:44.139Z"
   },
   {
    "duration": 9,
    "start_time": "2022-10-30T17:50:46.767Z"
   },
   {
    "duration": 6,
    "start_time": "2022-10-30T17:51:09.977Z"
   },
   {
    "duration": 10,
    "start_time": "2022-10-30T17:51:13.027Z"
   },
   {
    "duration": 7,
    "start_time": "2022-10-30T17:51:51.682Z"
   },
   {
    "duration": 69,
    "start_time": "2022-10-30T17:52:28.501Z"
   },
   {
    "duration": 12,
    "start_time": "2022-10-30T17:52:41.094Z"
   },
   {
    "duration": 7,
    "start_time": "2022-10-30T17:52:42.979Z"
   },
   {
    "duration": 9,
    "start_time": "2022-10-30T17:54:50.074Z"
   },
   {
    "duration": 8,
    "start_time": "2022-10-30T17:54:53.282Z"
   },
   {
    "duration": 1213,
    "start_time": "2022-10-30T17:55:00.430Z"
   },
   {
    "duration": 67,
    "start_time": "2022-10-30T17:56:43.022Z"
   },
   {
    "duration": 66,
    "start_time": "2022-10-30T17:57:02.411Z"
   },
   {
    "duration": 69,
    "start_time": "2022-10-30T17:57:17.152Z"
   },
   {
    "duration": 835,
    "start_time": "2022-10-30T17:58:43.622Z"
   },
   {
    "duration": 811,
    "start_time": "2022-10-30T17:59:49.154Z"
   },
   {
    "duration": 5,
    "start_time": "2022-10-30T18:02:12.376Z"
   },
   {
    "duration": 6,
    "start_time": "2022-10-30T18:02:15.727Z"
   },
   {
    "duration": 7,
    "start_time": "2022-10-30T18:02:16.890Z"
   },
   {
    "duration": 7,
    "start_time": "2022-10-30T18:02:20.916Z"
   },
   {
    "duration": 5,
    "start_time": "2022-10-30T18:02:24.692Z"
   },
   {
    "duration": 13,
    "start_time": "2022-10-30T18:02:32.264Z"
   },
   {
    "duration": 7,
    "start_time": "2022-10-30T18:05:08.969Z"
   },
   {
    "duration": 11,
    "start_time": "2022-10-30T18:05:32.822Z"
   },
   {
    "duration": 13,
    "start_time": "2022-10-30T18:05:42.652Z"
   },
   {
    "duration": 20,
    "start_time": "2022-10-30T18:09:19.214Z"
   },
   {
    "duration": 4,
    "start_time": "2022-10-30T18:09:38.203Z"
   },
   {
    "duration": 14,
    "start_time": "2022-10-30T18:09:47.377Z"
   },
   {
    "duration": 17,
    "start_time": "2022-10-30T18:20:38.535Z"
   },
   {
    "duration": 5,
    "start_time": "2022-10-30T18:21:33.640Z"
   },
   {
    "duration": 20,
    "start_time": "2022-10-30T18:21:39.369Z"
   },
   {
    "duration": 6,
    "start_time": "2022-10-30T18:22:00.607Z"
   },
   {
    "duration": 8,
    "start_time": "2022-10-30T18:22:29.932Z"
   },
   {
    "duration": 7,
    "start_time": "2022-10-30T18:22:37.486Z"
   },
   {
    "duration": 9,
    "start_time": "2022-10-30T18:23:11.099Z"
   },
   {
    "duration": 23,
    "start_time": "2022-10-30T18:25:03.585Z"
   },
   {
    "duration": 16,
    "start_time": "2022-10-30T18:25:18.429Z"
   },
   {
    "duration": 360,
    "start_time": "2022-10-30T18:25:50.071Z"
   },
   {
    "duration": 5,
    "start_time": "2022-10-30T18:25:52.986Z"
   },
   {
    "duration": 4,
    "start_time": "2022-10-30T18:25:54.895Z"
   },
   {
    "duration": 4,
    "start_time": "2022-10-30T18:26:12.272Z"
   },
   {
    "duration": 6,
    "start_time": "2022-10-30T18:27:16.270Z"
   },
   {
    "duration": 5,
    "start_time": "2022-10-30T18:27:16.968Z"
   },
   {
    "duration": 4,
    "start_time": "2022-10-30T18:27:41.754Z"
   },
   {
    "duration": 5,
    "start_time": "2022-10-30T18:27:42.244Z"
   },
   {
    "duration": 5,
    "start_time": "2022-10-30T18:27:56.454Z"
   },
   {
    "duration": 6,
    "start_time": "2022-10-30T18:27:57.609Z"
   },
   {
    "duration": 5,
    "start_time": "2022-10-30T18:28:09.665Z"
   },
   {
    "duration": 6,
    "start_time": "2022-10-30T18:28:10.139Z"
   },
   {
    "duration": 146,
    "start_time": "2022-10-30T18:28:12.929Z"
   },
   {
    "duration": 138,
    "start_time": "2022-10-30T18:30:24.017Z"
   },
   {
    "duration": 5,
    "start_time": "2022-10-30T18:30:26.279Z"
   },
   {
    "duration": 4,
    "start_time": "2022-10-30T18:30:27.054Z"
   },
   {
    "duration": 5,
    "start_time": "2022-10-30T18:30:32.740Z"
   },
   {
    "duration": 4,
    "start_time": "2022-10-30T18:30:33.360Z"
   },
   {
    "duration": 145,
    "start_time": "2022-10-30T18:30:56.520Z"
   },
   {
    "duration": 4,
    "start_time": "2022-10-30T18:31:08.848Z"
   },
   {
    "duration": 156,
    "start_time": "2022-10-30T18:31:21.613Z"
   },
   {
    "duration": 6,
    "start_time": "2022-10-30T18:31:29.339Z"
   },
   {
    "duration": 5,
    "start_time": "2022-10-30T18:32:37.676Z"
   },
   {
    "duration": 5,
    "start_time": "2022-10-30T18:32:38.934Z"
   },
   {
    "duration": 212,
    "start_time": "2022-10-30T18:32:41.483Z"
   },
   {
    "duration": 169,
    "start_time": "2022-10-30T18:33:23.381Z"
   },
   {
    "duration": 8,
    "start_time": "2022-10-30T18:34:41.627Z"
   },
   {
    "duration": 9,
    "start_time": "2022-10-30T18:34:42.623Z"
   },
   {
    "duration": 155,
    "start_time": "2022-10-30T18:34:43.675Z"
   },
   {
    "duration": 183,
    "start_time": "2022-10-30T18:35:11.598Z"
   },
   {
    "duration": 5,
    "start_time": "2022-10-30T18:35:17.972Z"
   },
   {
    "duration": 5,
    "start_time": "2022-10-30T18:35:19.675Z"
   },
   {
    "duration": 1342,
    "start_time": "2022-10-30T18:35:59.172Z"
   },
   {
    "duration": 7,
    "start_time": "2022-10-30T18:36:16.105Z"
   },
   {
    "duration": 5,
    "start_time": "2022-10-30T18:36:17.150Z"
   },
   {
    "duration": 135,
    "start_time": "2022-10-30T18:38:51.258Z"
   },
   {
    "duration": 5,
    "start_time": "2022-10-30T18:39:29.878Z"
   },
   {
    "duration": 5,
    "start_time": "2022-10-30T18:39:30.426Z"
   },
   {
    "duration": 5,
    "start_time": "2022-10-30T18:39:51.058Z"
   },
   {
    "duration": 6,
    "start_time": "2022-10-30T18:39:51.520Z"
   },
   {
    "duration": 118,
    "start_time": "2022-10-30T18:40:03.132Z"
   },
   {
    "duration": 4,
    "start_time": "2022-10-30T18:40:05.454Z"
   },
   {
    "duration": 4,
    "start_time": "2022-10-30T18:40:06.537Z"
   },
   {
    "duration": 1253,
    "start_time": "2022-10-30T18:40:29.680Z"
   },
   {
    "duration": 40,
    "start_time": "2022-10-30T18:40:47.838Z"
   },
   {
    "duration": 181,
    "start_time": "2022-10-30T18:40:50.066Z"
   },
   {
    "duration": 4,
    "start_time": "2022-10-30T18:40:50.758Z"
   },
   {
    "duration": 170,
    "start_time": "2022-10-30T18:41:05.709Z"
   },
   {
    "duration": 6,
    "start_time": "2022-10-30T18:41:07.476Z"
   },
   {
    "duration": 4,
    "start_time": "2022-10-30T18:41:13.540Z"
   },
   {
    "duration": 5,
    "start_time": "2022-10-30T18:41:14.609Z"
   },
   {
    "duration": 131,
    "start_time": "2022-10-30T18:42:15.267Z"
   },
   {
    "duration": 6,
    "start_time": "2022-10-30T18:42:19.331Z"
   },
   {
    "duration": 4,
    "start_time": "2022-10-30T18:42:26.860Z"
   },
   {
    "duration": 5,
    "start_time": "2022-10-30T18:42:27.806Z"
   },
   {
    "duration": 16,
    "start_time": "2022-10-30T18:46:03.423Z"
   },
   {
    "duration": 13,
    "start_time": "2022-10-30T18:46:46.478Z"
   },
   {
    "duration": 138,
    "start_time": "2022-10-30T18:46:52.555Z"
   },
   {
    "duration": 13,
    "start_time": "2022-10-30T18:47:49.745Z"
   },
   {
    "duration": 21,
    "start_time": "2022-10-30T18:48:39.516Z"
   },
   {
    "duration": 15,
    "start_time": "2022-10-30T18:48:53.739Z"
   },
   {
    "duration": 14,
    "start_time": "2022-10-30T18:49:33.558Z"
   },
   {
    "duration": 14,
    "start_time": "2022-10-30T18:49:41.843Z"
   },
   {
    "duration": 19,
    "start_time": "2022-10-30T18:49:51.179Z"
   },
   {
    "duration": 20,
    "start_time": "2022-10-30T18:50:01.118Z"
   },
   {
    "duration": 20,
    "start_time": "2022-10-30T18:50:26.900Z"
   },
   {
    "duration": 15,
    "start_time": "2022-10-30T18:50:46.191Z"
   },
   {
    "duration": 13,
    "start_time": "2022-10-30T18:50:53.735Z"
   },
   {
    "duration": 10,
    "start_time": "2022-10-30T18:52:00.244Z"
   },
   {
    "duration": 69,
    "start_time": "2022-10-30T18:54:33.574Z"
   },
   {
    "duration": 10,
    "start_time": "2022-10-30T18:55:11.602Z"
   },
   {
    "duration": 11,
    "start_time": "2022-10-30T18:58:54.795Z"
   },
   {
    "duration": 32,
    "start_time": "2022-10-30T18:59:12.824Z"
   },
   {
    "duration": 171,
    "start_time": "2022-10-30T19:00:13.529Z"
   },
   {
    "duration": 24,
    "start_time": "2022-10-30T19:00:27.774Z"
   },
   {
    "duration": 32,
    "start_time": "2022-10-30T19:00:56.600Z"
   },
   {
    "duration": 30,
    "start_time": "2022-10-30T19:01:16.676Z"
   },
   {
    "duration": 24,
    "start_time": "2022-10-30T19:01:22.270Z"
   },
   {
    "duration": 20,
    "start_time": "2022-10-30T19:03:16.319Z"
   },
   {
    "duration": 9,
    "start_time": "2022-10-30T19:04:51.147Z"
   },
   {
    "duration": 5,
    "start_time": "2022-10-30T19:04:53.890Z"
   },
   {
    "duration": 4,
    "start_time": "2022-10-30T19:05:01.587Z"
   },
   {
    "duration": 33,
    "start_time": "2022-10-30T19:05:16.310Z"
   },
   {
    "duration": 23,
    "start_time": "2022-10-30T19:08:02.906Z"
   },
   {
    "duration": 1358,
    "start_time": "2022-10-30T19:10:29.079Z"
   },
   {
    "duration": 1207,
    "start_time": "2022-10-30T19:10:55.575Z"
   },
   {
    "duration": 1345,
    "start_time": "2022-10-30T19:11:08.833Z"
   },
   {
    "duration": 1220,
    "start_time": "2022-10-30T19:11:32.223Z"
   },
   {
    "duration": 1171,
    "start_time": "2022-10-30T19:11:58.263Z"
   },
   {
    "duration": 17,
    "start_time": "2022-10-30T19:12:09.909Z"
   },
   {
    "duration": 174,
    "start_time": "2022-10-30T19:13:07.084Z"
   },
   {
    "duration": 7,
    "start_time": "2022-10-30T19:14:30.896Z"
   },
   {
    "duration": 22,
    "start_time": "2022-10-30T19:14:32.776Z"
   },
   {
    "duration": 187,
    "start_time": "2022-10-30T19:14:35.791Z"
   },
   {
    "duration": 192,
    "start_time": "2022-10-30T19:15:10.257Z"
   },
   {
    "duration": 182,
    "start_time": "2022-10-30T19:15:22.097Z"
   },
   {
    "duration": 17,
    "start_time": "2022-10-30T19:15:32.080Z"
   },
   {
    "duration": 9,
    "start_time": "2022-10-30T19:17:21.077Z"
   },
   {
    "duration": 1118,
    "start_time": "2022-10-30T19:24:26.003Z"
   },
   {
    "duration": 7,
    "start_time": "2022-10-30T19:24:42.058Z"
   },
   {
    "duration": 29,
    "start_time": "2022-10-30T19:25:15.815Z"
   },
   {
    "duration": 451,
    "start_time": "2022-10-31T11:18:31.720Z"
   },
   {
    "duration": 155,
    "start_time": "2022-10-31T11:18:32.173Z"
   },
   {
    "duration": 31,
    "start_time": "2022-10-31T11:18:32.329Z"
   },
   {
    "duration": 18,
    "start_time": "2022-10-31T11:18:32.362Z"
   },
   {
    "duration": 603,
    "start_time": "2022-10-31T11:18:32.382Z"
   },
   {
    "duration": 182,
    "start_time": "2022-10-31T11:18:32.987Z"
   },
   {
    "duration": 7,
    "start_time": "2022-10-31T11:18:33.176Z"
   },
   {
    "duration": 6,
    "start_time": "2022-10-31T11:18:33.184Z"
   },
   {
    "duration": 368,
    "start_time": "2022-10-31T11:18:33.192Z"
   },
   {
    "duration": 18,
    "start_time": "2022-10-31T11:18:33.562Z"
   },
   {
    "duration": 10,
    "start_time": "2022-10-31T11:18:33.583Z"
   },
   {
    "duration": 153,
    "start_time": "2022-10-31T11:18:33.595Z"
   },
   {
    "duration": 139,
    "start_time": "2022-10-31T11:18:33.750Z"
   },
   {
    "duration": 8,
    "start_time": "2022-10-31T11:18:33.892Z"
   },
   {
    "duration": 15,
    "start_time": "2022-10-31T11:18:33.902Z"
   },
   {
    "duration": 9,
    "start_time": "2022-10-31T11:18:33.920Z"
   },
   {
    "duration": 11,
    "start_time": "2022-10-31T11:18:33.931Z"
   },
   {
    "duration": 34,
    "start_time": "2022-10-31T11:18:33.944Z"
   },
   {
    "duration": 9,
    "start_time": "2022-10-31T11:18:33.981Z"
   },
   {
    "duration": 85,
    "start_time": "2022-10-31T11:18:33.992Z"
   },
   {
    "duration": 142,
    "start_time": "2022-10-31T11:18:34.079Z"
   },
   {
    "duration": 6,
    "start_time": "2022-10-31T11:18:34.223Z"
   },
   {
    "duration": 1043,
    "start_time": "2022-10-31T11:18:34.231Z"
   },
   {
    "duration": 0,
    "start_time": "2022-10-31T11:18:35.278Z"
   },
   {
    "duration": 0,
    "start_time": "2022-10-31T11:18:35.280Z"
   },
   {
    "duration": 0,
    "start_time": "2022-10-31T11:18:35.283Z"
   },
   {
    "duration": 0,
    "start_time": "2022-10-31T11:18:35.284Z"
   },
   {
    "duration": 0,
    "start_time": "2022-10-31T11:18:35.285Z"
   },
   {
    "duration": 0,
    "start_time": "2022-10-31T11:18:35.286Z"
   },
   {
    "duration": 0,
    "start_time": "2022-10-31T11:18:35.287Z"
   },
   {
    "duration": 0,
    "start_time": "2022-10-31T11:18:35.288Z"
   },
   {
    "duration": 0,
    "start_time": "2022-10-31T11:18:35.289Z"
   },
   {
    "duration": 0,
    "start_time": "2022-10-31T11:18:35.289Z"
   },
   {
    "duration": 0,
    "start_time": "2022-10-31T11:18:35.292Z"
   },
   {
    "duration": 0,
    "start_time": "2022-10-31T11:18:35.294Z"
   },
   {
    "duration": 0,
    "start_time": "2022-10-31T11:18:35.296Z"
   },
   {
    "duration": 0,
    "start_time": "2022-10-31T11:18:35.298Z"
   },
   {
    "duration": 0,
    "start_time": "2022-10-31T11:18:35.299Z"
   },
   {
    "duration": 0,
    "start_time": "2022-10-31T11:18:35.301Z"
   },
   {
    "duration": 0,
    "start_time": "2022-10-31T11:18:35.302Z"
   },
   {
    "duration": 0,
    "start_time": "2022-10-31T11:18:35.304Z"
   },
   {
    "duration": 0,
    "start_time": "2022-10-31T11:18:35.306Z"
   },
   {
    "duration": 0,
    "start_time": "2022-10-31T11:18:35.308Z"
   },
   {
    "duration": 0,
    "start_time": "2022-10-31T11:18:35.312Z"
   },
   {
    "duration": 0,
    "start_time": "2022-10-31T11:18:35.314Z"
   },
   {
    "duration": 0,
    "start_time": "2022-10-31T11:18:35.317Z"
   },
   {
    "duration": 0,
    "start_time": "2022-10-31T11:18:35.319Z"
   },
   {
    "duration": 0,
    "start_time": "2022-10-31T11:18:35.320Z"
   },
   {
    "duration": 0,
    "start_time": "2022-10-31T11:18:35.322Z"
   },
   {
    "duration": 0,
    "start_time": "2022-10-31T11:18:35.324Z"
   },
   {
    "duration": 0,
    "start_time": "2022-10-31T11:18:35.326Z"
   },
   {
    "duration": 0,
    "start_time": "2022-10-31T11:18:35.329Z"
   },
   {
    "duration": 0,
    "start_time": "2022-10-31T11:18:35.331Z"
   },
   {
    "duration": 0,
    "start_time": "2022-10-31T11:18:35.332Z"
   },
   {
    "duration": 0,
    "start_time": "2022-10-31T11:18:35.334Z"
   },
   {
    "duration": 0,
    "start_time": "2022-10-31T11:18:35.377Z"
   },
   {
    "duration": 0,
    "start_time": "2022-10-31T11:18:35.378Z"
   },
   {
    "duration": 0,
    "start_time": "2022-10-31T11:18:35.380Z"
   },
   {
    "duration": 0,
    "start_time": "2022-10-31T11:18:35.382Z"
   },
   {
    "duration": 0,
    "start_time": "2022-10-31T11:18:35.383Z"
   },
   {
    "duration": 0,
    "start_time": "2022-10-31T11:18:35.385Z"
   },
   {
    "duration": 0,
    "start_time": "2022-10-31T11:18:35.386Z"
   },
   {
    "duration": 0,
    "start_time": "2022-10-31T11:18:35.388Z"
   },
   {
    "duration": 0,
    "start_time": "2022-10-31T11:18:35.390Z"
   },
   {
    "duration": 0,
    "start_time": "2022-10-31T11:18:35.392Z"
   },
   {
    "duration": 0,
    "start_time": "2022-10-31T11:18:35.393Z"
   },
   {
    "duration": 0,
    "start_time": "2022-10-31T11:18:35.395Z"
   },
   {
    "duration": 1,
    "start_time": "2022-10-31T11:18:35.396Z"
   },
   {
    "duration": 0,
    "start_time": "2022-10-31T11:18:35.398Z"
   },
   {
    "duration": 0,
    "start_time": "2022-10-31T11:18:35.400Z"
   },
   {
    "duration": 0,
    "start_time": "2022-10-31T11:18:35.401Z"
   },
   {
    "duration": 0,
    "start_time": "2022-10-31T11:18:35.403Z"
   },
   {
    "duration": 0,
    "start_time": "2022-10-31T11:18:35.404Z"
   },
   {
    "duration": 0,
    "start_time": "2022-10-31T11:18:35.406Z"
   },
   {
    "duration": 0,
    "start_time": "2022-10-31T11:18:35.407Z"
   },
   {
    "duration": 0,
    "start_time": "2022-10-31T11:18:35.409Z"
   },
   {
    "duration": 0,
    "start_time": "2022-10-31T11:18:35.410Z"
   },
   {
    "duration": 0,
    "start_time": "2022-10-31T11:18:35.411Z"
   },
   {
    "duration": 0,
    "start_time": "2022-10-31T11:18:35.413Z"
   },
   {
    "duration": 0,
    "start_time": "2022-10-31T11:18:35.415Z"
   },
   {
    "duration": 0,
    "start_time": "2022-10-31T11:18:35.416Z"
   },
   {
    "duration": 0,
    "start_time": "2022-10-31T11:18:35.418Z"
   },
   {
    "duration": 0,
    "start_time": "2022-10-31T11:18:35.479Z"
   },
   {
    "duration": 0,
    "start_time": "2022-10-31T11:18:35.480Z"
   },
   {
    "duration": 0,
    "start_time": "2022-10-31T11:18:35.482Z"
   },
   {
    "duration": 0,
    "start_time": "2022-10-31T11:18:35.483Z"
   },
   {
    "duration": 0,
    "start_time": "2022-10-31T11:18:35.484Z"
   },
   {
    "duration": 0,
    "start_time": "2022-10-31T11:18:35.485Z"
   },
   {
    "duration": 0,
    "start_time": "2022-10-31T11:18:35.486Z"
   },
   {
    "duration": 0,
    "start_time": "2022-10-31T11:18:35.487Z"
   },
   {
    "duration": 0,
    "start_time": "2022-10-31T11:18:35.489Z"
   },
   {
    "duration": 0,
    "start_time": "2022-10-31T11:18:35.489Z"
   },
   {
    "duration": 0,
    "start_time": "2022-10-31T11:18:35.491Z"
   },
   {
    "duration": 0,
    "start_time": "2022-10-31T11:18:35.493Z"
   },
   {
    "duration": 0,
    "start_time": "2022-10-31T11:18:35.495Z"
   },
   {
    "duration": 0,
    "start_time": "2022-10-31T11:18:35.497Z"
   },
   {
    "duration": 0,
    "start_time": "2022-10-31T11:18:35.498Z"
   },
   {
    "duration": 0,
    "start_time": "2022-10-31T11:18:35.500Z"
   },
   {
    "duration": 1,
    "start_time": "2022-10-31T11:18:35.501Z"
   },
   {
    "duration": 0,
    "start_time": "2022-10-31T11:18:35.503Z"
   },
   {
    "duration": 0,
    "start_time": "2022-10-31T11:18:35.505Z"
   },
   {
    "duration": 0,
    "start_time": "2022-10-31T11:18:35.507Z"
   },
   {
    "duration": 0,
    "start_time": "2022-10-31T11:18:35.513Z"
   },
   {
    "duration": 0,
    "start_time": "2022-10-31T11:18:35.514Z"
   },
   {
    "duration": 0,
    "start_time": "2022-10-31T11:18:35.516Z"
   },
   {
    "duration": 0,
    "start_time": "2022-10-31T11:18:35.517Z"
   },
   {
    "duration": 0,
    "start_time": "2022-10-31T11:18:35.578Z"
   },
   {
    "duration": 0,
    "start_time": "2022-10-31T11:18:35.579Z"
   },
   {
    "duration": 1,
    "start_time": "2022-10-31T11:18:35.580Z"
   },
   {
    "duration": 0,
    "start_time": "2022-10-31T11:18:35.583Z"
   },
   {
    "duration": 0,
    "start_time": "2022-10-31T11:18:35.584Z"
   },
   {
    "duration": 0,
    "start_time": "2022-10-31T11:18:35.585Z"
   },
   {
    "duration": 0,
    "start_time": "2022-10-31T11:18:35.586Z"
   },
   {
    "duration": 0,
    "start_time": "2022-10-31T11:18:35.588Z"
   },
   {
    "duration": 0,
    "start_time": "2022-10-31T11:18:35.589Z"
   },
   {
    "duration": 451,
    "start_time": "2022-10-31T11:32:22.160Z"
   },
   {
    "duration": 102,
    "start_time": "2022-10-31T11:32:22.613Z"
   },
   {
    "duration": 69,
    "start_time": "2022-10-31T11:32:22.717Z"
   },
   {
    "duration": 22,
    "start_time": "2022-10-31T11:32:22.789Z"
   },
   {
    "duration": 404,
    "start_time": "2022-10-31T11:32:22.814Z"
   },
   {
    "duration": 126,
    "start_time": "2022-10-31T11:32:23.219Z"
   },
   {
    "duration": 5,
    "start_time": "2022-10-31T11:32:23.347Z"
   },
   {
    "duration": 24,
    "start_time": "2022-10-31T11:32:23.353Z"
   },
   {
    "duration": 321,
    "start_time": "2022-10-31T11:32:23.379Z"
   },
   {
    "duration": 10,
    "start_time": "2022-10-31T11:32:23.703Z"
   },
   {
    "duration": 10,
    "start_time": "2022-10-31T11:32:23.715Z"
   },
   {
    "duration": 132,
    "start_time": "2022-10-31T11:32:23.727Z"
   },
   {
    "duration": 186,
    "start_time": "2022-10-31T11:32:23.862Z"
   },
   {
    "duration": 7,
    "start_time": "2022-10-31T11:32:24.050Z"
   },
   {
    "duration": 19,
    "start_time": "2022-10-31T11:32:24.059Z"
   },
   {
    "duration": 9,
    "start_time": "2022-10-31T11:32:24.081Z"
   },
   {
    "duration": 14,
    "start_time": "2022-10-31T11:32:24.092Z"
   },
   {
    "duration": 8,
    "start_time": "2022-10-31T11:32:24.111Z"
   },
   {
    "duration": 11,
    "start_time": "2022-10-31T11:32:24.121Z"
   },
   {
    "duration": 44,
    "start_time": "2022-10-31T11:32:24.135Z"
   },
   {
    "duration": 146,
    "start_time": "2022-10-31T11:32:24.181Z"
   },
   {
    "duration": 5,
    "start_time": "2022-10-31T11:32:24.329Z"
   },
   {
    "duration": 1222,
    "start_time": "2022-10-31T11:32:24.336Z"
   },
   {
    "duration": 0,
    "start_time": "2022-10-31T11:32:25.617Z"
   },
   {
    "duration": 0,
    "start_time": "2022-10-31T11:32:25.619Z"
   },
   {
    "duration": 0,
    "start_time": "2022-10-31T11:32:25.620Z"
   },
   {
    "duration": 0,
    "start_time": "2022-10-31T11:32:25.621Z"
   },
   {
    "duration": 0,
    "start_time": "2022-10-31T11:32:25.622Z"
   },
   {
    "duration": 0,
    "start_time": "2022-10-31T11:32:25.623Z"
   },
   {
    "duration": 0,
    "start_time": "2022-10-31T11:32:25.624Z"
   },
   {
    "duration": 0,
    "start_time": "2022-10-31T11:32:25.625Z"
   },
   {
    "duration": 0,
    "start_time": "2022-10-31T11:32:25.626Z"
   },
   {
    "duration": 0,
    "start_time": "2022-10-31T11:32:25.628Z"
   },
   {
    "duration": 0,
    "start_time": "2022-10-31T11:32:25.629Z"
   },
   {
    "duration": 0,
    "start_time": "2022-10-31T11:32:25.630Z"
   },
   {
    "duration": 0,
    "start_time": "2022-10-31T11:32:25.631Z"
   },
   {
    "duration": 0,
    "start_time": "2022-10-31T11:32:25.632Z"
   },
   {
    "duration": 0,
    "start_time": "2022-10-31T11:32:25.633Z"
   },
   {
    "duration": 0,
    "start_time": "2022-10-31T11:32:25.634Z"
   },
   {
    "duration": 0,
    "start_time": "2022-10-31T11:32:25.635Z"
   },
   {
    "duration": 0,
    "start_time": "2022-10-31T11:32:25.637Z"
   },
   {
    "duration": 0,
    "start_time": "2022-10-31T11:32:25.638Z"
   },
   {
    "duration": 0,
    "start_time": "2022-10-31T11:32:25.639Z"
   },
   {
    "duration": 0,
    "start_time": "2022-10-31T11:32:25.678Z"
   },
   {
    "duration": 0,
    "start_time": "2022-10-31T11:32:25.680Z"
   },
   {
    "duration": 0,
    "start_time": "2022-10-31T11:32:25.681Z"
   },
   {
    "duration": 0,
    "start_time": "2022-10-31T11:32:25.683Z"
   },
   {
    "duration": 0,
    "start_time": "2022-10-31T11:32:25.684Z"
   },
   {
    "duration": 0,
    "start_time": "2022-10-31T11:32:25.686Z"
   },
   {
    "duration": 0,
    "start_time": "2022-10-31T11:32:25.687Z"
   },
   {
    "duration": 0,
    "start_time": "2022-10-31T11:32:25.692Z"
   },
   {
    "duration": 0,
    "start_time": "2022-10-31T11:32:25.694Z"
   },
   {
    "duration": 0,
    "start_time": "2022-10-31T11:32:25.695Z"
   },
   {
    "duration": 0,
    "start_time": "2022-10-31T11:32:25.697Z"
   },
   {
    "duration": 0,
    "start_time": "2022-10-31T11:32:25.698Z"
   },
   {
    "duration": 0,
    "start_time": "2022-10-31T11:32:25.700Z"
   },
   {
    "duration": 0,
    "start_time": "2022-10-31T11:32:25.701Z"
   },
   {
    "duration": 0,
    "start_time": "2022-10-31T11:32:25.703Z"
   },
   {
    "duration": 0,
    "start_time": "2022-10-31T11:32:25.704Z"
   },
   {
    "duration": 0,
    "start_time": "2022-10-31T11:32:25.705Z"
   },
   {
    "duration": 0,
    "start_time": "2022-10-31T11:32:25.707Z"
   },
   {
    "duration": 0,
    "start_time": "2022-10-31T11:32:25.708Z"
   },
   {
    "duration": 0,
    "start_time": "2022-10-31T11:32:25.710Z"
   },
   {
    "duration": 0,
    "start_time": "2022-10-31T11:32:25.711Z"
   },
   {
    "duration": 0,
    "start_time": "2022-10-31T11:32:25.712Z"
   },
   {
    "duration": 0,
    "start_time": "2022-10-31T11:32:25.714Z"
   },
   {
    "duration": 0,
    "start_time": "2022-10-31T11:32:25.715Z"
   },
   {
    "duration": 0,
    "start_time": "2022-10-31T11:32:25.716Z"
   },
   {
    "duration": 0,
    "start_time": "2022-10-31T11:32:25.778Z"
   },
   {
    "duration": 0,
    "start_time": "2022-10-31T11:32:25.780Z"
   },
   {
    "duration": 0,
    "start_time": "2022-10-31T11:32:25.782Z"
   },
   {
    "duration": 0,
    "start_time": "2022-10-31T11:32:25.783Z"
   },
   {
    "duration": 0,
    "start_time": "2022-10-31T11:32:25.785Z"
   },
   {
    "duration": 0,
    "start_time": "2022-10-31T11:32:25.786Z"
   },
   {
    "duration": 0,
    "start_time": "2022-10-31T11:32:25.788Z"
   },
   {
    "duration": 0,
    "start_time": "2022-10-31T11:32:25.789Z"
   },
   {
    "duration": 0,
    "start_time": "2022-10-31T11:32:25.790Z"
   },
   {
    "duration": 0,
    "start_time": "2022-10-31T11:32:25.792Z"
   },
   {
    "duration": 0,
    "start_time": "2022-10-31T11:32:25.793Z"
   },
   {
    "duration": 0,
    "start_time": "2022-10-31T11:32:25.795Z"
   },
   {
    "duration": 0,
    "start_time": "2022-10-31T11:32:25.796Z"
   },
   {
    "duration": 0,
    "start_time": "2022-10-31T11:32:25.797Z"
   },
   {
    "duration": 0,
    "start_time": "2022-10-31T11:32:25.798Z"
   },
   {
    "duration": 0,
    "start_time": "2022-10-31T11:32:25.799Z"
   },
   {
    "duration": 0,
    "start_time": "2022-10-31T11:32:25.800Z"
   },
   {
    "duration": 0,
    "start_time": "2022-10-31T11:32:25.801Z"
   },
   {
    "duration": 0,
    "start_time": "2022-10-31T11:32:25.802Z"
   },
   {
    "duration": 0,
    "start_time": "2022-10-31T11:32:25.803Z"
   },
   {
    "duration": 0,
    "start_time": "2022-10-31T11:32:25.804Z"
   },
   {
    "duration": 0,
    "start_time": "2022-10-31T11:32:25.805Z"
   },
   {
    "duration": 0,
    "start_time": "2022-10-31T11:32:25.806Z"
   },
   {
    "duration": 0,
    "start_time": "2022-10-31T11:32:25.807Z"
   },
   {
    "duration": 0,
    "start_time": "2022-10-31T11:32:25.808Z"
   },
   {
    "duration": 0,
    "start_time": "2022-10-31T11:32:25.809Z"
   },
   {
    "duration": 0,
    "start_time": "2022-10-31T11:32:25.814Z"
   },
   {
    "duration": 0,
    "start_time": "2022-10-31T11:32:25.877Z"
   },
   {
    "duration": 0,
    "start_time": "2022-10-31T11:32:25.878Z"
   },
   {
    "duration": 0,
    "start_time": "2022-10-31T11:32:25.879Z"
   },
   {
    "duration": 1,
    "start_time": "2022-10-31T11:32:25.880Z"
   },
   {
    "duration": 0,
    "start_time": "2022-10-31T11:32:25.882Z"
   },
   {
    "duration": 0,
    "start_time": "2022-10-31T11:32:25.883Z"
   },
   {
    "duration": 0,
    "start_time": "2022-10-31T11:32:25.885Z"
   },
   {
    "duration": 0,
    "start_time": "2022-10-31T11:32:25.886Z"
   },
   {
    "duration": 0,
    "start_time": "2022-10-31T11:32:25.887Z"
   },
   {
    "duration": 0,
    "start_time": "2022-10-31T11:32:25.888Z"
   },
   {
    "duration": 0,
    "start_time": "2022-10-31T11:32:25.889Z"
   },
   {
    "duration": 0,
    "start_time": "2022-10-31T11:32:25.892Z"
   },
   {
    "duration": 0,
    "start_time": "2022-10-31T11:32:25.893Z"
   },
   {
    "duration": 0,
    "start_time": "2022-10-31T11:32:25.895Z"
   },
   {
    "duration": 0,
    "start_time": "2022-10-31T11:32:25.896Z"
   },
   {
    "duration": 1,
    "start_time": "2022-10-31T11:32:25.896Z"
   },
   {
    "duration": 0,
    "start_time": "2022-10-31T11:32:25.897Z"
   },
   {
    "duration": 0,
    "start_time": "2022-10-31T11:32:25.899Z"
   },
   {
    "duration": 0,
    "start_time": "2022-10-31T11:32:25.900Z"
   },
   {
    "duration": 0,
    "start_time": "2022-10-31T11:32:25.901Z"
   },
   {
    "duration": 1,
    "start_time": "2022-10-31T11:32:25.901Z"
   },
   {
    "duration": 136,
    "start_time": "2022-10-31T11:32:30.521Z"
   },
   {
    "duration": 5,
    "start_time": "2022-10-31T11:32:30.717Z"
   },
   {
    "duration": 8,
    "start_time": "2022-10-31T11:32:30.883Z"
   },
   {
    "duration": 187,
    "start_time": "2022-10-31T11:32:31.911Z"
   },
   {
    "duration": 11,
    "start_time": "2022-10-31T11:32:32.101Z"
   },
   {
    "duration": 20,
    "start_time": "2022-10-31T11:32:32.115Z"
   },
   {
    "duration": 7,
    "start_time": "2022-10-31T11:32:32.137Z"
   },
   {
    "duration": 11,
    "start_time": "2022-10-31T11:32:32.147Z"
   },
   {
    "duration": 153,
    "start_time": "2022-10-31T11:32:32.202Z"
   },
   {
    "duration": 8,
    "start_time": "2022-10-31T11:32:32.358Z"
   },
   {
    "duration": 205,
    "start_time": "2022-10-31T11:32:32.379Z"
   },
   {
    "duration": 6,
    "start_time": "2022-10-31T11:32:32.586Z"
   },
   {
    "duration": 10,
    "start_time": "2022-10-31T11:32:32.594Z"
   },
   {
    "duration": 11,
    "start_time": "2022-10-31T11:32:32.605Z"
   },
   {
    "duration": 19,
    "start_time": "2022-10-31T11:32:32.619Z"
   },
   {
    "duration": 13,
    "start_time": "2022-10-31T11:32:32.640Z"
   },
   {
    "duration": 50,
    "start_time": "2022-10-31T11:32:32.656Z"
   },
   {
    "duration": 10,
    "start_time": "2022-10-31T11:32:32.739Z"
   },
   {
    "duration": 17,
    "start_time": "2022-10-31T11:32:32.777Z"
   },
   {
    "duration": 15,
    "start_time": "2022-10-31T11:32:32.934Z"
   },
   {
    "duration": 23,
    "start_time": "2022-10-31T11:32:33.012Z"
   },
   {
    "duration": 5,
    "start_time": "2022-10-31T11:32:33.071Z"
   },
   {
    "duration": 5,
    "start_time": "2022-10-31T11:32:33.132Z"
   },
   {
    "duration": 32,
    "start_time": "2022-10-31T11:32:33.168Z"
   },
   {
    "duration": 180,
    "start_time": "2022-10-31T11:32:33.205Z"
   },
   {
    "duration": 4,
    "start_time": "2022-10-31T11:32:33.387Z"
   },
   {
    "duration": 45,
    "start_time": "2022-10-31T11:32:33.393Z"
   },
   {
    "duration": 140,
    "start_time": "2022-10-31T11:32:33.440Z"
   },
   {
    "duration": 5,
    "start_time": "2022-10-31T11:32:33.582Z"
   },
   {
    "duration": 30,
    "start_time": "2022-10-31T11:32:33.588Z"
   },
   {
    "duration": 146,
    "start_time": "2022-10-31T11:32:33.620Z"
   },
   {
    "duration": 12,
    "start_time": "2022-10-31T11:32:33.767Z"
   },
   {
    "duration": 27,
    "start_time": "2022-10-31T11:32:33.781Z"
   },
   {
    "duration": 151,
    "start_time": "2022-10-31T11:32:33.810Z"
   },
   {
    "duration": 5,
    "start_time": "2022-10-31T11:32:33.962Z"
   },
   {
    "duration": 6,
    "start_time": "2022-10-31T11:32:33.978Z"
   },
   {
    "duration": 166,
    "start_time": "2022-10-31T11:32:33.985Z"
   },
   {
    "duration": 4,
    "start_time": "2022-10-31T11:32:34.152Z"
   },
   {
    "duration": 22,
    "start_time": "2022-10-31T11:32:34.158Z"
   },
   {
    "duration": 160,
    "start_time": "2022-10-31T11:32:34.182Z"
   },
   {
    "duration": 5,
    "start_time": "2022-10-31T11:32:34.344Z"
   },
   {
    "duration": 5,
    "start_time": "2022-10-31T11:32:34.351Z"
   },
   {
    "duration": 165,
    "start_time": "2022-10-31T11:32:34.357Z"
   },
   {
    "duration": 6,
    "start_time": "2022-10-31T11:32:34.523Z"
   },
   {
    "duration": 7,
    "start_time": "2022-10-31T11:32:34.531Z"
   },
   {
    "duration": 153,
    "start_time": "2022-10-31T11:32:34.540Z"
   },
   {
    "duration": 5,
    "start_time": "2022-10-31T11:32:34.694Z"
   },
   {
    "duration": 6,
    "start_time": "2022-10-31T11:32:34.701Z"
   },
   {
    "duration": 218,
    "start_time": "2022-10-31T11:32:34.708Z"
   },
   {
    "duration": 5,
    "start_time": "2022-10-31T11:32:35.515Z"
   },
   {
    "duration": 4,
    "start_time": "2022-10-31T11:32:36.028Z"
   },
   {
    "duration": 111,
    "start_time": "2022-10-31T11:32:36.095Z"
   },
   {
    "duration": 156,
    "start_time": "2022-10-31T11:32:36.208Z"
   },
   {
    "duration": 12,
    "start_time": "2022-10-31T11:32:36.366Z"
   },
   {
    "duration": 6,
    "start_time": "2022-10-31T11:32:36.380Z"
   },
   {
    "duration": 141,
    "start_time": "2022-10-31T11:32:36.387Z"
   },
   {
    "duration": 6,
    "start_time": "2022-10-31T11:32:36.530Z"
   },
   {
    "duration": 6,
    "start_time": "2022-10-31T11:32:36.538Z"
   },
   {
    "duration": 148,
    "start_time": "2022-10-31T11:32:36.546Z"
   },
   {
    "duration": 5,
    "start_time": "2022-10-31T11:32:36.696Z"
   },
   {
    "duration": 10,
    "start_time": "2022-10-31T11:32:36.703Z"
   },
   {
    "duration": 177,
    "start_time": "2022-10-31T11:32:36.715Z"
   },
   {
    "duration": 6,
    "start_time": "2022-10-31T11:32:36.893Z"
   },
   {
    "duration": 6,
    "start_time": "2022-10-31T11:32:36.900Z"
   },
   {
    "duration": 152,
    "start_time": "2022-10-31T11:32:36.907Z"
   },
   {
    "duration": 15,
    "start_time": "2022-10-31T11:32:37.062Z"
   },
   {
    "duration": 5,
    "start_time": "2022-10-31T11:32:37.079Z"
   },
   {
    "duration": 147,
    "start_time": "2022-10-31T11:32:37.085Z"
   },
   {
    "duration": 156,
    "start_time": "2022-10-31T11:32:37.234Z"
   },
   {
    "duration": 4,
    "start_time": "2022-10-31T11:32:37.392Z"
   },
   {
    "duration": 10,
    "start_time": "2022-10-31T11:32:37.398Z"
   },
   {
    "duration": 144,
    "start_time": "2022-10-31T11:32:38.306Z"
   },
   {
    "duration": 26,
    "start_time": "2022-10-31T11:32:38.453Z"
   },
   {
    "duration": 240,
    "start_time": "2022-10-31T11:32:38.481Z"
   },
   {
    "duration": 23,
    "start_time": "2022-10-31T11:32:38.724Z"
   },
   {
    "duration": 285,
    "start_time": "2022-10-31T11:32:38.749Z"
   },
   {
    "duration": 15,
    "start_time": "2022-10-31T11:32:39.037Z"
   },
   {
    "duration": 199,
    "start_time": "2022-10-31T11:32:39.054Z"
   },
   {
    "duration": 31,
    "start_time": "2022-10-31T11:32:39.256Z"
   },
   {
    "duration": 248,
    "start_time": "2022-10-31T11:32:39.289Z"
   },
   {
    "duration": 20,
    "start_time": "2022-10-31T11:32:39.542Z"
   },
   {
    "duration": 145,
    "start_time": "2022-10-31T11:32:39.579Z"
   },
   {
    "duration": 16,
    "start_time": "2022-10-31T11:32:39.726Z"
   },
   {
    "duration": 249,
    "start_time": "2022-10-31T11:32:39.744Z"
   },
   {
    "duration": 25,
    "start_time": "2022-10-31T11:32:39.996Z"
   },
   {
    "duration": 177,
    "start_time": "2022-10-31T11:32:40.023Z"
   },
   {
    "duration": 17,
    "start_time": "2022-10-31T11:32:40.202Z"
   },
   {
    "duration": 185,
    "start_time": "2022-10-31T11:32:40.221Z"
   },
   {
    "duration": 25,
    "start_time": "2022-10-31T11:32:40.408Z"
   },
   {
    "duration": 11,
    "start_time": "2022-10-31T11:32:40.570Z"
   },
   {
    "duration": 32,
    "start_time": "2022-10-31T11:32:40.614Z"
   },
   {
    "duration": 157,
    "start_time": "2022-10-31T11:32:40.704Z"
   },
   {
    "duration": 27,
    "start_time": "2022-10-31T11:32:40.863Z"
   },
   {
    "duration": 5,
    "start_time": "2022-10-31T11:35:30.791Z"
   },
   {
    "duration": 492,
    "start_time": "2022-10-31T11:35:37.099Z"
   },
   {
    "duration": 88,
    "start_time": "2022-10-31T11:35:37.593Z"
   },
   {
    "duration": 30,
    "start_time": "2022-10-31T11:35:37.682Z"
   },
   {
    "duration": 17,
    "start_time": "2022-10-31T11:35:37.715Z"
   },
   {
    "duration": 435,
    "start_time": "2022-10-31T11:35:37.734Z"
   },
   {
    "duration": 183,
    "start_time": "2022-10-31T11:35:38.177Z"
   },
   {
    "duration": 5,
    "start_time": "2022-10-31T11:35:38.363Z"
   },
   {
    "duration": 5,
    "start_time": "2022-10-31T11:35:38.378Z"
   },
   {
    "duration": 351,
    "start_time": "2022-10-31T11:35:38.385Z"
   },
   {
    "duration": 11,
    "start_time": "2022-10-31T11:35:38.739Z"
   },
   {
    "duration": 10,
    "start_time": "2022-10-31T11:35:38.752Z"
   },
   {
    "duration": 131,
    "start_time": "2022-10-31T11:35:38.778Z"
   },
   {
    "duration": 127,
    "start_time": "2022-10-31T11:35:38.910Z"
   },
   {
    "duration": 6,
    "start_time": "2022-10-31T11:35:39.038Z"
   },
   {
    "duration": 9,
    "start_time": "2022-10-31T11:35:39.045Z"
   },
   {
    "duration": 24,
    "start_time": "2022-10-31T11:35:39.055Z"
   },
   {
    "duration": 11,
    "start_time": "2022-10-31T11:35:39.080Z"
   },
   {
    "duration": 4,
    "start_time": "2022-10-31T11:35:39.093Z"
   },
   {
    "duration": 9,
    "start_time": "2022-10-31T11:35:39.098Z"
   },
   {
    "duration": 7,
    "start_time": "2022-10-31T11:35:39.109Z"
   },
   {
    "duration": 7,
    "start_time": "2022-10-31T11:35:39.118Z"
   },
   {
    "duration": 181,
    "start_time": "2022-10-31T11:35:39.127Z"
   },
   {
    "duration": 6,
    "start_time": "2022-10-31T11:35:39.310Z"
   },
   {
    "duration": 1252,
    "start_time": "2022-10-31T11:35:39.318Z"
   },
   {
    "duration": 0,
    "start_time": "2022-10-31T11:35:40.638Z"
   },
   {
    "duration": 0,
    "start_time": "2022-10-31T11:35:40.639Z"
   },
   {
    "duration": 0,
    "start_time": "2022-10-31T11:35:40.640Z"
   },
   {
    "duration": 0,
    "start_time": "2022-10-31T11:35:40.641Z"
   },
   {
    "duration": 0,
    "start_time": "2022-10-31T11:35:40.643Z"
   },
   {
    "duration": 0,
    "start_time": "2022-10-31T11:35:40.644Z"
   },
   {
    "duration": 0,
    "start_time": "2022-10-31T11:35:40.645Z"
   },
   {
    "duration": 0,
    "start_time": "2022-10-31T11:35:40.646Z"
   },
   {
    "duration": 0,
    "start_time": "2022-10-31T11:35:40.647Z"
   },
   {
    "duration": 0,
    "start_time": "2022-10-31T11:35:40.648Z"
   },
   {
    "duration": 0,
    "start_time": "2022-10-31T11:35:40.649Z"
   },
   {
    "duration": 0,
    "start_time": "2022-10-31T11:35:40.650Z"
   },
   {
    "duration": 0,
    "start_time": "2022-10-31T11:35:40.651Z"
   },
   {
    "duration": 0,
    "start_time": "2022-10-31T11:35:40.651Z"
   },
   {
    "duration": 0,
    "start_time": "2022-10-31T11:35:40.652Z"
   },
   {
    "duration": 0,
    "start_time": "2022-10-31T11:35:40.653Z"
   },
   {
    "duration": 0,
    "start_time": "2022-10-31T11:35:40.654Z"
   },
   {
    "duration": 0,
    "start_time": "2022-10-31T11:35:40.655Z"
   },
   {
    "duration": 0,
    "start_time": "2022-10-31T11:35:40.677Z"
   },
   {
    "duration": 0,
    "start_time": "2022-10-31T11:35:40.679Z"
   },
   {
    "duration": 0,
    "start_time": "2022-10-31T11:35:40.680Z"
   },
   {
    "duration": 0,
    "start_time": "2022-10-31T11:35:40.681Z"
   },
   {
    "duration": 0,
    "start_time": "2022-10-31T11:35:40.681Z"
   },
   {
    "duration": 0,
    "start_time": "2022-10-31T11:35:40.683Z"
   },
   {
    "duration": 0,
    "start_time": "2022-10-31T11:35:40.684Z"
   },
   {
    "duration": 0,
    "start_time": "2022-10-31T11:35:40.685Z"
   },
   {
    "duration": 0,
    "start_time": "2022-10-31T11:35:40.687Z"
   },
   {
    "duration": 0,
    "start_time": "2022-10-31T11:35:40.688Z"
   },
   {
    "duration": 0,
    "start_time": "2022-10-31T11:35:40.690Z"
   },
   {
    "duration": 0,
    "start_time": "2022-10-31T11:35:40.691Z"
   },
   {
    "duration": 0,
    "start_time": "2022-10-31T11:35:40.692Z"
   },
   {
    "duration": 0,
    "start_time": "2022-10-31T11:35:40.694Z"
   },
   {
    "duration": 0,
    "start_time": "2022-10-31T11:35:40.695Z"
   },
   {
    "duration": 0,
    "start_time": "2022-10-31T11:35:40.696Z"
   },
   {
    "duration": 0,
    "start_time": "2022-10-31T11:35:40.698Z"
   },
   {
    "duration": 0,
    "start_time": "2022-10-31T11:35:40.699Z"
   },
   {
    "duration": 0,
    "start_time": "2022-10-31T11:35:40.700Z"
   },
   {
    "duration": 0,
    "start_time": "2022-10-31T11:35:40.702Z"
   },
   {
    "duration": 0,
    "start_time": "2022-10-31T11:35:40.703Z"
   },
   {
    "duration": 0,
    "start_time": "2022-10-31T11:35:40.704Z"
   },
   {
    "duration": 0,
    "start_time": "2022-10-31T11:35:40.706Z"
   },
   {
    "duration": 0,
    "start_time": "2022-10-31T11:35:40.708Z"
   },
   {
    "duration": 0,
    "start_time": "2022-10-31T11:35:40.710Z"
   },
   {
    "duration": 0,
    "start_time": "2022-10-31T11:35:40.711Z"
   },
   {
    "duration": 0,
    "start_time": "2022-10-31T11:35:40.712Z"
   },
   {
    "duration": 0,
    "start_time": "2022-10-31T11:35:40.714Z"
   },
   {
    "duration": 0,
    "start_time": "2022-10-31T11:35:40.778Z"
   },
   {
    "duration": 0,
    "start_time": "2022-10-31T11:35:40.779Z"
   },
   {
    "duration": 0,
    "start_time": "2022-10-31T11:35:40.781Z"
   },
   {
    "duration": 0,
    "start_time": "2022-10-31T11:35:40.782Z"
   },
   {
    "duration": 0,
    "start_time": "2022-10-31T11:35:40.784Z"
   },
   {
    "duration": 0,
    "start_time": "2022-10-31T11:35:40.785Z"
   },
   {
    "duration": 0,
    "start_time": "2022-10-31T11:35:40.786Z"
   },
   {
    "duration": 0,
    "start_time": "2022-10-31T11:35:40.788Z"
   },
   {
    "duration": 0,
    "start_time": "2022-10-31T11:35:40.789Z"
   },
   {
    "duration": 0,
    "start_time": "2022-10-31T11:35:40.790Z"
   },
   {
    "duration": 0,
    "start_time": "2022-10-31T11:35:40.791Z"
   },
   {
    "duration": 0,
    "start_time": "2022-10-31T11:35:40.792Z"
   },
   {
    "duration": 0,
    "start_time": "2022-10-31T11:35:40.793Z"
   },
   {
    "duration": 0,
    "start_time": "2022-10-31T11:35:40.794Z"
   },
   {
    "duration": 0,
    "start_time": "2022-10-31T11:35:40.795Z"
   },
   {
    "duration": 0,
    "start_time": "2022-10-31T11:35:40.796Z"
   },
   {
    "duration": 0,
    "start_time": "2022-10-31T11:35:40.797Z"
   },
   {
    "duration": 0,
    "start_time": "2022-10-31T11:35:40.798Z"
   },
   {
    "duration": 0,
    "start_time": "2022-10-31T11:35:40.799Z"
   },
   {
    "duration": 0,
    "start_time": "2022-10-31T11:35:40.800Z"
   },
   {
    "duration": 0,
    "start_time": "2022-10-31T11:35:40.801Z"
   },
   {
    "duration": 0,
    "start_time": "2022-10-31T11:35:40.802Z"
   },
   {
    "duration": 0,
    "start_time": "2022-10-31T11:35:40.803Z"
   },
   {
    "duration": 0,
    "start_time": "2022-10-31T11:35:40.804Z"
   },
   {
    "duration": 0,
    "start_time": "2022-10-31T11:35:40.805Z"
   },
   {
    "duration": 0,
    "start_time": "2022-10-31T11:35:40.806Z"
   },
   {
    "duration": 0,
    "start_time": "2022-10-31T11:35:40.807Z"
   },
   {
    "duration": 0,
    "start_time": "2022-10-31T11:35:40.808Z"
   },
   {
    "duration": 0,
    "start_time": "2022-10-31T11:35:40.809Z"
   },
   {
    "duration": 0,
    "start_time": "2022-10-31T11:35:40.810Z"
   },
   {
    "duration": 0,
    "start_time": "2022-10-31T11:35:40.811Z"
   },
   {
    "duration": 0,
    "start_time": "2022-10-31T11:35:40.812Z"
   },
   {
    "duration": 0,
    "start_time": "2022-10-31T11:35:40.813Z"
   },
   {
    "duration": 0,
    "start_time": "2022-10-31T11:35:40.814Z"
   },
   {
    "duration": 0,
    "start_time": "2022-10-31T11:35:40.877Z"
   },
   {
    "duration": 0,
    "start_time": "2022-10-31T11:35:40.878Z"
   },
   {
    "duration": 0,
    "start_time": "2022-10-31T11:35:40.879Z"
   },
   {
    "duration": 0,
    "start_time": "2022-10-31T11:35:40.880Z"
   },
   {
    "duration": 0,
    "start_time": "2022-10-31T11:35:40.881Z"
   },
   {
    "duration": 0,
    "start_time": "2022-10-31T11:35:40.882Z"
   },
   {
    "duration": 0,
    "start_time": "2022-10-31T11:35:40.883Z"
   },
   {
    "duration": 0,
    "start_time": "2022-10-31T11:35:40.884Z"
   },
   {
    "duration": 0,
    "start_time": "2022-10-31T11:35:40.885Z"
   },
   {
    "duration": 0,
    "start_time": "2022-10-31T11:35:40.886Z"
   },
   {
    "duration": 0,
    "start_time": "2022-10-31T11:35:40.887Z"
   },
   {
    "duration": 0,
    "start_time": "2022-10-31T11:35:40.888Z"
   },
   {
    "duration": 454,
    "start_time": "2022-10-31T11:36:00.467Z"
   },
   {
    "duration": 92,
    "start_time": "2022-10-31T11:36:00.923Z"
   },
   {
    "duration": 51,
    "start_time": "2022-10-31T11:36:01.017Z"
   },
   {
    "duration": 20,
    "start_time": "2022-10-31T11:36:01.070Z"
   },
   {
    "duration": 385,
    "start_time": "2022-10-31T11:36:01.092Z"
   },
   {
    "duration": 129,
    "start_time": "2022-10-31T11:36:01.478Z"
   },
   {
    "duration": 6,
    "start_time": "2022-10-31T11:36:01.608Z"
   },
   {
    "duration": 32,
    "start_time": "2022-10-31T11:36:01.616Z"
   },
   {
    "duration": 351,
    "start_time": "2022-10-31T11:36:01.650Z"
   },
   {
    "duration": 10,
    "start_time": "2022-10-31T11:36:02.003Z"
   },
   {
    "duration": 33,
    "start_time": "2022-10-31T11:36:02.014Z"
   },
   {
    "duration": 124,
    "start_time": "2022-10-31T11:36:02.049Z"
   },
   {
    "duration": 119,
    "start_time": "2022-10-31T11:36:02.177Z"
   },
   {
    "duration": 5,
    "start_time": "2022-10-31T11:36:02.297Z"
   },
   {
    "duration": 19,
    "start_time": "2022-10-31T11:36:02.304Z"
   },
   {
    "duration": 38,
    "start_time": "2022-10-31T11:36:02.324Z"
   },
   {
    "duration": 23,
    "start_time": "2022-10-31T11:36:02.364Z"
   },
   {
    "duration": 35,
    "start_time": "2022-10-31T11:36:02.388Z"
   },
   {
    "duration": 14,
    "start_time": "2022-10-31T11:36:02.424Z"
   },
   {
    "duration": 23,
    "start_time": "2022-10-31T11:36:02.440Z"
   },
   {
    "duration": 27,
    "start_time": "2022-10-31T11:36:02.465Z"
   },
   {
    "duration": 22,
    "start_time": "2022-10-31T11:36:02.493Z"
   },
   {
    "duration": 136,
    "start_time": "2022-10-31T11:36:02.517Z"
   },
   {
    "duration": 5,
    "start_time": "2022-10-31T11:36:02.655Z"
   },
   {
    "duration": 1168,
    "start_time": "2022-10-31T11:36:02.662Z"
   },
   {
    "duration": 0,
    "start_time": "2022-10-31T11:36:03.890Z"
   },
   {
    "duration": 0,
    "start_time": "2022-10-31T11:36:03.891Z"
   },
   {
    "duration": 0,
    "start_time": "2022-10-31T11:36:03.892Z"
   },
   {
    "duration": 0,
    "start_time": "2022-10-31T11:36:03.894Z"
   },
   {
    "duration": 0,
    "start_time": "2022-10-31T11:36:03.895Z"
   },
   {
    "duration": 0,
    "start_time": "2022-10-31T11:36:03.896Z"
   },
   {
    "duration": 0,
    "start_time": "2022-10-31T11:36:03.898Z"
   },
   {
    "duration": 0,
    "start_time": "2022-10-31T11:36:03.898Z"
   },
   {
    "duration": 0,
    "start_time": "2022-10-31T11:36:03.899Z"
   },
   {
    "duration": 0,
    "start_time": "2022-10-31T11:36:03.901Z"
   },
   {
    "duration": 0,
    "start_time": "2022-10-31T11:36:03.902Z"
   },
   {
    "duration": 0,
    "start_time": "2022-10-31T11:36:03.903Z"
   },
   {
    "duration": 0,
    "start_time": "2022-10-31T11:36:03.904Z"
   },
   {
    "duration": 0,
    "start_time": "2022-10-31T11:36:03.905Z"
   },
   {
    "duration": 0,
    "start_time": "2022-10-31T11:36:03.906Z"
   },
   {
    "duration": 0,
    "start_time": "2022-10-31T11:36:03.907Z"
   },
   {
    "duration": 0,
    "start_time": "2022-10-31T11:36:03.908Z"
   },
   {
    "duration": 0,
    "start_time": "2022-10-31T11:36:03.909Z"
   },
   {
    "duration": 0,
    "start_time": "2022-10-31T11:36:03.910Z"
   },
   {
    "duration": 0,
    "start_time": "2022-10-31T11:36:03.911Z"
   },
   {
    "duration": 0,
    "start_time": "2022-10-31T11:36:03.912Z"
   },
   {
    "duration": 0,
    "start_time": "2022-10-31T11:36:03.913Z"
   },
   {
    "duration": 0,
    "start_time": "2022-10-31T11:36:03.913Z"
   },
   {
    "duration": 0,
    "start_time": "2022-10-31T11:36:03.914Z"
   },
   {
    "duration": 0,
    "start_time": "2022-10-31T11:36:03.915Z"
   },
   {
    "duration": 0,
    "start_time": "2022-10-31T11:36:03.916Z"
   },
   {
    "duration": 0,
    "start_time": "2022-10-31T11:36:03.917Z"
   },
   {
    "duration": 0,
    "start_time": "2022-10-31T11:36:03.918Z"
   },
   {
    "duration": 0,
    "start_time": "2022-10-31T11:36:03.919Z"
   },
   {
    "duration": 0,
    "start_time": "2022-10-31T11:36:03.920Z"
   },
   {
    "duration": 0,
    "start_time": "2022-10-31T11:36:03.921Z"
   },
   {
    "duration": 0,
    "start_time": "2022-10-31T11:36:03.923Z"
   },
   {
    "duration": 0,
    "start_time": "2022-10-31T11:36:03.924Z"
   },
   {
    "duration": 0,
    "start_time": "2022-10-31T11:36:03.926Z"
   },
   {
    "duration": 0,
    "start_time": "2022-10-31T11:36:03.978Z"
   },
   {
    "duration": 0,
    "start_time": "2022-10-31T11:36:03.980Z"
   },
   {
    "duration": 0,
    "start_time": "2022-10-31T11:36:03.981Z"
   },
   {
    "duration": 0,
    "start_time": "2022-10-31T11:36:03.982Z"
   },
   {
    "duration": 0,
    "start_time": "2022-10-31T11:36:03.984Z"
   },
   {
    "duration": 0,
    "start_time": "2022-10-31T11:36:03.985Z"
   },
   {
    "duration": 0,
    "start_time": "2022-10-31T11:36:03.986Z"
   },
   {
    "duration": 0,
    "start_time": "2022-10-31T11:36:03.987Z"
   },
   {
    "duration": 0,
    "start_time": "2022-10-31T11:36:03.989Z"
   },
   {
    "duration": 0,
    "start_time": "2022-10-31T11:36:03.990Z"
   },
   {
    "duration": 0,
    "start_time": "2022-10-31T11:36:03.991Z"
   },
   {
    "duration": 0,
    "start_time": "2022-10-31T11:36:03.992Z"
   },
   {
    "duration": 0,
    "start_time": "2022-10-31T11:36:03.994Z"
   },
   {
    "duration": 0,
    "start_time": "2022-10-31T11:36:03.995Z"
   },
   {
    "duration": 0,
    "start_time": "2022-10-31T11:36:03.996Z"
   },
   {
    "duration": 0,
    "start_time": "2022-10-31T11:36:03.997Z"
   },
   {
    "duration": 1,
    "start_time": "2022-10-31T11:36:03.997Z"
   },
   {
    "duration": 0,
    "start_time": "2022-10-31T11:36:03.998Z"
   },
   {
    "duration": 0,
    "start_time": "2022-10-31T11:36:03.999Z"
   },
   {
    "duration": 0,
    "start_time": "2022-10-31T11:36:04.000Z"
   },
   {
    "duration": 0,
    "start_time": "2022-10-31T11:36:04.001Z"
   },
   {
    "duration": 0,
    "start_time": "2022-10-31T11:36:04.003Z"
   },
   {
    "duration": 0,
    "start_time": "2022-10-31T11:36:04.006Z"
   },
   {
    "duration": 0,
    "start_time": "2022-10-31T11:36:04.007Z"
   },
   {
    "duration": 0,
    "start_time": "2022-10-31T11:36:04.008Z"
   },
   {
    "duration": 0,
    "start_time": "2022-10-31T11:36:04.009Z"
   },
   {
    "duration": 0,
    "start_time": "2022-10-31T11:36:04.010Z"
   },
   {
    "duration": 0,
    "start_time": "2022-10-31T11:36:04.011Z"
   },
   {
    "duration": 0,
    "start_time": "2022-10-31T11:36:04.012Z"
   },
   {
    "duration": 0,
    "start_time": "2022-10-31T11:36:04.013Z"
   },
   {
    "duration": 0,
    "start_time": "2022-10-31T11:36:04.015Z"
   },
   {
    "duration": 0,
    "start_time": "2022-10-31T11:36:04.077Z"
   },
   {
    "duration": 0,
    "start_time": "2022-10-31T11:36:04.078Z"
   },
   {
    "duration": 0,
    "start_time": "2022-10-31T11:36:04.080Z"
   },
   {
    "duration": 0,
    "start_time": "2022-10-31T11:36:04.081Z"
   },
   {
    "duration": 0,
    "start_time": "2022-10-31T11:36:04.083Z"
   },
   {
    "duration": 0,
    "start_time": "2022-10-31T11:36:04.084Z"
   },
   {
    "duration": 0,
    "start_time": "2022-10-31T11:36:04.085Z"
   },
   {
    "duration": 0,
    "start_time": "2022-10-31T11:36:04.086Z"
   },
   {
    "duration": 0,
    "start_time": "2022-10-31T11:36:04.087Z"
   },
   {
    "duration": 0,
    "start_time": "2022-10-31T11:36:04.088Z"
   },
   {
    "duration": 0,
    "start_time": "2022-10-31T11:36:04.090Z"
   },
   {
    "duration": 0,
    "start_time": "2022-10-31T11:36:04.091Z"
   },
   {
    "duration": 0,
    "start_time": "2022-10-31T11:36:04.092Z"
   },
   {
    "duration": 0,
    "start_time": "2022-10-31T11:36:04.093Z"
   },
   {
    "duration": 0,
    "start_time": "2022-10-31T11:36:04.094Z"
   },
   {
    "duration": 0,
    "start_time": "2022-10-31T11:36:04.095Z"
   },
   {
    "duration": 0,
    "start_time": "2022-10-31T11:36:04.096Z"
   },
   {
    "duration": 0,
    "start_time": "2022-10-31T11:36:04.098Z"
   },
   {
    "duration": 0,
    "start_time": "2022-10-31T11:36:04.099Z"
   },
   {
    "duration": 0,
    "start_time": "2022-10-31T11:36:04.101Z"
   },
   {
    "duration": 0,
    "start_time": "2022-10-31T11:36:04.102Z"
   },
   {
    "duration": 0,
    "start_time": "2022-10-31T11:36:04.102Z"
   },
   {
    "duration": 0,
    "start_time": "2022-10-31T11:36:04.104Z"
   },
   {
    "duration": 0,
    "start_time": "2022-10-31T11:36:04.106Z"
   },
   {
    "duration": 0,
    "start_time": "2022-10-31T11:36:04.107Z"
   },
   {
    "duration": 0,
    "start_time": "2022-10-31T11:36:04.109Z"
   },
   {
    "duration": 0,
    "start_time": "2022-10-31T11:36:04.110Z"
   },
   {
    "duration": 20,
    "start_time": "2022-10-31T11:38:13.546Z"
   },
   {
    "duration": 20,
    "start_time": "2022-10-31T11:38:13.675Z"
   },
   {
    "duration": 174,
    "start_time": "2022-10-31T11:38:16.045Z"
   },
   {
    "duration": 16,
    "start_time": "2022-10-31T11:38:16.270Z"
   },
   {
    "duration": 18,
    "start_time": "2022-10-31T11:38:16.554Z"
   },
   {
    "duration": 15,
    "start_time": "2022-10-31T11:38:16.726Z"
   },
   {
    "duration": 12,
    "start_time": "2022-10-31T11:38:16.989Z"
   },
   {
    "duration": 10,
    "start_time": "2022-10-31T11:38:17.142Z"
   },
   {
    "duration": 11,
    "start_time": "2022-10-31T11:38:17.673Z"
   },
   {
    "duration": 14,
    "start_time": "2022-10-31T11:38:17.853Z"
   },
   {
    "duration": 14,
    "start_time": "2022-10-31T11:38:18.401Z"
   },
   {
    "duration": 11,
    "start_time": "2022-10-31T11:38:18.602Z"
   },
   {
    "duration": 9,
    "start_time": "2022-10-31T11:38:19.409Z"
   },
   {
    "duration": 23,
    "start_time": "2022-10-31T11:38:19.579Z"
   },
   {
    "duration": 201,
    "start_time": "2022-10-31T11:38:28.580Z"
   },
   {
    "duration": 6,
    "start_time": "2022-10-31T11:38:29.095Z"
   },
   {
    "duration": 8,
    "start_time": "2022-10-31T11:38:29.139Z"
   },
   {
    "duration": 151,
    "start_time": "2022-10-31T11:38:29.269Z"
   },
   {
    "duration": 9,
    "start_time": "2022-10-31T11:38:29.422Z"
   },
   {
    "duration": 11,
    "start_time": "2022-10-31T11:38:29.434Z"
   },
   {
    "duration": 5,
    "start_time": "2022-10-31T11:38:29.452Z"
   },
   {
    "duration": 7,
    "start_time": "2022-10-31T11:38:29.495Z"
   },
   {
    "duration": 144,
    "start_time": "2022-10-31T11:38:29.564Z"
   },
   {
    "duration": 7,
    "start_time": "2022-10-31T11:38:29.710Z"
   },
   {
    "duration": 147,
    "start_time": "2022-10-31T11:38:29.718Z"
   },
   {
    "duration": 16,
    "start_time": "2022-10-31T11:38:29.867Z"
   },
   {
    "duration": 23,
    "start_time": "2022-10-31T11:38:29.885Z"
   },
   {
    "duration": 9,
    "start_time": "2022-10-31T11:38:29.911Z"
   },
   {
    "duration": 6,
    "start_time": "2022-10-31T11:38:29.928Z"
   },
   {
    "duration": 5,
    "start_time": "2022-10-31T11:38:29.966Z"
   },
   {
    "duration": 17,
    "start_time": "2022-10-31T11:38:30.005Z"
   },
   {
    "duration": 11,
    "start_time": "2022-10-31T11:38:30.135Z"
   },
   {
    "duration": 16,
    "start_time": "2022-10-31T11:38:30.173Z"
   },
   {
    "duration": 17,
    "start_time": "2022-10-31T11:38:30.302Z"
   },
   {
    "duration": 34,
    "start_time": "2022-10-31T11:38:30.373Z"
   },
   {
    "duration": 6,
    "start_time": "2022-10-31T11:38:30.457Z"
   },
   {
    "duration": 48,
    "start_time": "2022-10-31T11:38:30.496Z"
   },
   {
    "duration": 164,
    "start_time": "2022-10-31T11:38:30.546Z"
   },
   {
    "duration": 4,
    "start_time": "2022-10-31T11:38:30.712Z"
   },
   {
    "duration": 40,
    "start_time": "2022-10-31T11:38:30.718Z"
   },
   {
    "duration": 178,
    "start_time": "2022-10-31T11:38:30.760Z"
   },
   {
    "duration": 5,
    "start_time": "2022-10-31T11:38:30.940Z"
   },
   {
    "duration": 23,
    "start_time": "2022-10-31T11:38:30.946Z"
   },
   {
    "duration": 160,
    "start_time": "2022-10-31T11:38:30.971Z"
   },
   {
    "duration": 6,
    "start_time": "2022-10-31T11:38:31.133Z"
   },
   {
    "duration": 33,
    "start_time": "2022-10-31T11:38:31.141Z"
   },
   {
    "duration": 151,
    "start_time": "2022-10-31T11:38:31.176Z"
   },
   {
    "duration": 5,
    "start_time": "2022-10-31T11:38:31.329Z"
   },
   {
    "duration": 29,
    "start_time": "2022-10-31T11:38:31.336Z"
   },
   {
    "duration": 158,
    "start_time": "2022-10-31T11:38:31.368Z"
   },
   {
    "duration": 5,
    "start_time": "2022-10-31T11:38:31.527Z"
   },
   {
    "duration": 26,
    "start_time": "2022-10-31T11:38:31.533Z"
   },
   {
    "duration": 148,
    "start_time": "2022-10-31T11:38:31.561Z"
   },
   {
    "duration": 6,
    "start_time": "2022-10-31T11:38:31.711Z"
   },
   {
    "duration": 28,
    "start_time": "2022-10-31T11:38:31.718Z"
   },
   {
    "duration": 188,
    "start_time": "2022-10-31T11:38:33.151Z"
   },
   {
    "duration": 7,
    "start_time": "2022-10-31T11:38:33.342Z"
   },
   {
    "duration": 28,
    "start_time": "2022-10-31T11:38:33.351Z"
   },
   {
    "duration": 331,
    "start_time": "2022-10-31T11:38:33.381Z"
   },
   {
    "duration": 7,
    "start_time": "2022-10-31T11:38:33.714Z"
   },
   {
    "duration": 33,
    "start_time": "2022-10-31T11:38:33.723Z"
   },
   {
    "duration": 183,
    "start_time": "2022-10-31T11:38:33.758Z"
   },
   {
    "duration": 6,
    "start_time": "2022-10-31T11:38:33.944Z"
   },
   {
    "duration": 27,
    "start_time": "2022-10-31T11:38:33.952Z"
   },
   {
    "duration": 159,
    "start_time": "2022-10-31T11:38:33.983Z"
   },
   {
    "duration": 205,
    "start_time": "2022-10-31T11:38:34.144Z"
   },
   {
    "duration": 6,
    "start_time": "2022-10-31T11:38:34.350Z"
   },
   {
    "duration": 28,
    "start_time": "2022-10-31T11:38:34.358Z"
   },
   {
    "duration": 159,
    "start_time": "2022-10-31T11:38:34.390Z"
   },
   {
    "duration": 8,
    "start_time": "2022-10-31T11:38:34.551Z"
   },
   {
    "duration": 20,
    "start_time": "2022-10-31T11:38:34.561Z"
   },
   {
    "duration": 145,
    "start_time": "2022-10-31T11:38:34.583Z"
   },
   {
    "duration": 9,
    "start_time": "2022-10-31T11:38:34.730Z"
   },
   {
    "duration": 12,
    "start_time": "2022-10-31T11:38:34.741Z"
   },
   {
    "duration": 232,
    "start_time": "2022-10-31T11:38:34.755Z"
   },
   {
    "duration": 6,
    "start_time": "2022-10-31T11:38:34.989Z"
   },
   {
    "duration": 30,
    "start_time": "2022-10-31T11:38:34.997Z"
   },
   {
    "duration": 146,
    "start_time": "2022-10-31T11:38:35.028Z"
   },
   {
    "duration": 6,
    "start_time": "2022-10-31T11:38:35.178Z"
   },
   {
    "duration": 8,
    "start_time": "2022-10-31T11:38:35.186Z"
   },
   {
    "duration": 167,
    "start_time": "2022-10-31T11:38:35.198Z"
   },
   {
    "duration": 167,
    "start_time": "2022-10-31T11:38:35.367Z"
   },
   {
    "duration": 6,
    "start_time": "2022-10-31T11:38:35.536Z"
   },
   {
    "duration": 6,
    "start_time": "2022-10-31T11:38:36.000Z"
   },
   {
    "duration": 167,
    "start_time": "2022-10-31T11:38:36.169Z"
   },
   {
    "duration": 18,
    "start_time": "2022-10-31T11:38:36.339Z"
   },
   {
    "duration": 250,
    "start_time": "2022-10-31T11:38:36.359Z"
   },
   {
    "duration": 18,
    "start_time": "2022-10-31T11:38:36.613Z"
   },
   {
    "duration": 179,
    "start_time": "2022-10-31T11:38:36.633Z"
   },
   {
    "duration": 14,
    "start_time": "2022-10-31T11:38:36.814Z"
   },
   {
    "duration": 187,
    "start_time": "2022-10-31T11:38:36.829Z"
   },
   {
    "duration": 17,
    "start_time": "2022-10-31T11:38:37.018Z"
   },
   {
    "duration": 165,
    "start_time": "2022-10-31T11:38:37.037Z"
   },
   {
    "duration": 26,
    "start_time": "2022-10-31T11:38:37.204Z"
   },
   {
    "duration": 204,
    "start_time": "2022-10-31T11:38:37.233Z"
   },
   {
    "duration": 23,
    "start_time": "2022-10-31T11:38:37.439Z"
   },
   {
    "duration": 176,
    "start_time": "2022-10-31T11:38:37.478Z"
   },
   {
    "duration": 27,
    "start_time": "2022-10-31T11:38:37.656Z"
   },
   {
    "duration": 176,
    "start_time": "2022-10-31T11:38:37.689Z"
   },
   {
    "duration": 24,
    "start_time": "2022-10-31T11:38:37.867Z"
   },
   {
    "duration": 220,
    "start_time": "2022-10-31T11:38:37.893Z"
   },
   {
    "duration": 17,
    "start_time": "2022-10-31T11:38:38.115Z"
   },
   {
    "duration": 13,
    "start_time": "2022-10-31T11:38:38.134Z"
   },
   {
    "duration": 57,
    "start_time": "2022-10-31T11:38:38.149Z"
   },
   {
    "duration": 175,
    "start_time": "2022-10-31T11:38:38.209Z"
   },
   {
    "duration": 20,
    "start_time": "2022-10-31T11:38:38.386Z"
   },
   {
    "duration": 419,
    "start_time": "2022-10-31T11:51:09.708Z"
   },
   {
    "duration": 295,
    "start_time": "2022-10-31T11:51:10.179Z"
   },
   {
    "duration": 33,
    "start_time": "2022-10-31T11:51:10.806Z"
   },
   {
    "duration": 4,
    "start_time": "2022-10-31T11:51:17.353Z"
   },
   {
    "duration": 374,
    "start_time": "2022-10-31T11:51:17.871Z"
   },
   {
    "duration": 13,
    "start_time": "2022-10-31T11:51:21.721Z"
   },
   {
    "duration": 6,
    "start_time": "2022-10-31T11:51:31.749Z"
   },
   {
    "duration": 15,
    "start_time": "2022-10-31T11:51:36.614Z"
   },
   {
    "duration": 6,
    "start_time": "2022-10-31T11:52:43.302Z"
   },
   {
    "duration": 11,
    "start_time": "2022-10-31T11:53:21.400Z"
   },
   {
    "duration": 6,
    "start_time": "2022-10-31T11:53:30.549Z"
   },
   {
    "duration": 5,
    "start_time": "2022-10-31T11:54:22.667Z"
   },
   {
    "duration": 7,
    "start_time": "2022-10-31T11:56:09.233Z"
   },
   {
    "duration": 32,
    "start_time": "2022-10-31T16:05:34.220Z"
   },
   {
    "duration": 9,
    "start_time": "2022-10-31T16:05:49.257Z"
   },
   {
    "duration": 8,
    "start_time": "2022-10-31T16:06:03.485Z"
   },
   {
    "duration": 5,
    "start_time": "2022-10-31T16:06:43.957Z"
   },
   {
    "duration": 33,
    "start_time": "2022-10-31T16:07:09.855Z"
   },
   {
    "duration": 7,
    "start_time": "2022-10-31T16:07:32.989Z"
   },
   {
    "duration": 5,
    "start_time": "2022-10-31T16:08:03.288Z"
   },
   {
    "duration": 73,
    "start_time": "2022-10-31T16:08:29.352Z"
   },
   {
    "duration": 4,
    "start_time": "2022-10-31T16:08:35.799Z"
   },
   {
    "duration": 7,
    "start_time": "2022-10-31T16:09:08.454Z"
   },
   {
    "duration": 8,
    "start_time": "2022-10-31T16:09:32.744Z"
   },
   {
    "duration": 10,
    "start_time": "2022-10-31T16:09:38.122Z"
   },
   {
    "duration": 7,
    "start_time": "2022-10-31T16:09:43.436Z"
   },
   {
    "duration": 66,
    "start_time": "2022-10-31T16:11:22.114Z"
   },
   {
    "duration": 12,
    "start_time": "2022-10-31T16:14:19.056Z"
   },
   {
    "duration": 457,
    "start_time": "2022-10-31T16:14:39.204Z"
   },
   {
    "duration": 89,
    "start_time": "2022-10-31T16:14:39.663Z"
   },
   {
    "duration": 562,
    "start_time": "2022-10-31T16:16:58.725Z"
   },
   {
    "duration": 77,
    "start_time": "2022-10-31T16:17:53.921Z"
   },
   {
    "duration": 110,
    "start_time": "2022-10-31T16:18:01.021Z"
   },
   {
    "duration": 9,
    "start_time": "2022-10-31T16:20:08.212Z"
   },
   {
    "duration": 356,
    "start_time": "2022-10-31T16:20:09.521Z"
   },
   {
    "duration": 10,
    "start_time": "2022-10-31T16:20:18.882Z"
   },
   {
    "duration": 106,
    "start_time": "2022-10-31T16:20:22.150Z"
   },
   {
    "duration": 16,
    "start_time": "2022-10-31T16:21:52.447Z"
   },
   {
    "duration": 5,
    "start_time": "2022-10-31T16:22:29.709Z"
   },
   {
    "duration": 6,
    "start_time": "2022-10-31T16:23:14.725Z"
   },
   {
    "duration": 5,
    "start_time": "2022-10-31T16:23:43.906Z"
   },
   {
    "duration": 112,
    "start_time": "2022-10-31T16:24:20.534Z"
   },
   {
    "duration": 11,
    "start_time": "2022-10-31T16:26:15.236Z"
   },
   {
    "duration": 7,
    "start_time": "2022-10-31T16:26:19.526Z"
   },
   {
    "duration": 14,
    "start_time": "2022-10-31T16:26:20.785Z"
   },
   {
    "duration": 360,
    "start_time": "2022-10-31T16:26:45.861Z"
   },
   {
    "duration": 91,
    "start_time": "2022-10-31T16:26:46.265Z"
   },
   {
    "duration": 4,
    "start_time": "2022-10-31T16:28:05.272Z"
   },
   {
    "duration": 368,
    "start_time": "2022-10-31T16:28:05.690Z"
   },
   {
    "duration": 11,
    "start_time": "2022-10-31T16:28:08.966Z"
   },
   {
    "duration": 11,
    "start_time": "2022-10-31T16:28:21.926Z"
   },
   {
    "duration": 6,
    "start_time": "2022-10-31T16:28:24.872Z"
   },
   {
    "duration": 23,
    "start_time": "2022-10-31T16:28:30.293Z"
   },
   {
    "duration": 408,
    "start_time": "2022-10-31T16:29:40.415Z"
   },
   {
    "duration": 89,
    "start_time": "2022-10-31T16:29:40.855Z"
   },
   {
    "duration": 4,
    "start_time": "2022-10-31T16:29:47.208Z"
   },
   {
    "duration": 354,
    "start_time": "2022-10-31T16:29:47.765Z"
   },
   {
    "duration": 15,
    "start_time": "2022-10-31T16:30:17.502Z"
   },
   {
    "duration": 12,
    "start_time": "2022-10-31T16:30:26.059Z"
   },
   {
    "duration": 11,
    "start_time": "2022-10-31T16:30:35.191Z"
   },
   {
    "duration": 6,
    "start_time": "2022-10-31T16:30:42.241Z"
   },
   {
    "duration": 5,
    "start_time": "2022-10-31T16:31:06.053Z"
   },
   {
    "duration": 20,
    "start_time": "2022-10-31T16:31:17.354Z"
   },
   {
    "duration": 6,
    "start_time": "2022-10-31T16:31:31.945Z"
   },
   {
    "duration": 6,
    "start_time": "2022-10-31T16:31:42.458Z"
   },
   {
    "duration": 18,
    "start_time": "2022-10-31T16:33:04.115Z"
   },
   {
    "duration": 15,
    "start_time": "2022-10-31T16:33:22.437Z"
   },
   {
    "duration": 17,
    "start_time": "2022-10-31T16:33:48.769Z"
   },
   {
    "duration": 8,
    "start_time": "2022-10-31T16:35:03.464Z"
   },
   {
    "duration": 8,
    "start_time": "2022-10-31T16:35:09.550Z"
   },
   {
    "duration": 5,
    "start_time": "2022-10-31T16:35:38.083Z"
   },
   {
    "duration": 332,
    "start_time": "2022-10-31T16:35:59.838Z"
   },
   {
    "duration": 121,
    "start_time": "2022-10-31T16:36:04.823Z"
   },
   {
    "duration": 6,
    "start_time": "2022-10-31T16:36:59.197Z"
   },
   {
    "duration": 5,
    "start_time": "2022-10-31T16:37:42.107Z"
   },
   {
    "duration": 4,
    "start_time": "2022-10-31T16:38:21.756Z"
   },
   {
    "duration": 142,
    "start_time": "2022-10-31T16:38:59.998Z"
   },
   {
    "duration": 4,
    "start_time": "2022-10-31T16:39:00.434Z"
   },
   {
    "duration": 129,
    "start_time": "2022-10-31T16:40:09.669Z"
   },
   {
    "duration": 6,
    "start_time": "2022-10-31T16:44:06.841Z"
   },
   {
    "duration": 129,
    "start_time": "2022-10-31T16:44:37.088Z"
   },
   {
    "duration": 170,
    "start_time": "2022-10-31T16:46:08.140Z"
   },
   {
    "duration": 124,
    "start_time": "2022-10-31T16:46:13.577Z"
   },
   {
    "duration": 4,
    "start_time": "2022-10-31T16:46:25.581Z"
   },
   {
    "duration": 122,
    "start_time": "2022-10-31T16:46:28.030Z"
   },
   {
    "duration": 164,
    "start_time": "2022-10-31T16:46:30.603Z"
   },
   {
    "duration": 133,
    "start_time": "2022-10-31T16:46:32.150Z"
   },
   {
    "duration": 879,
    "start_time": "2022-10-31T16:50:04.528Z"
   },
   {
    "duration": 12,
    "start_time": "2022-10-31T16:50:10.813Z"
   },
   {
    "duration": 9,
    "start_time": "2022-10-31T16:50:26.019Z"
   },
   {
    "duration": 5,
    "start_time": "2022-10-31T16:50:44.761Z"
   },
   {
    "duration": 4,
    "start_time": "2022-10-31T16:50:57.490Z"
   },
   {
    "duration": 5,
    "start_time": "2022-10-31T16:51:09.571Z"
   },
   {
    "duration": 5,
    "start_time": "2022-10-31T16:51:19.738Z"
   },
   {
    "duration": 5,
    "start_time": "2022-10-31T16:51:20.733Z"
   },
   {
    "duration": 4,
    "start_time": "2022-10-31T16:51:21.320Z"
   },
   {
    "duration": 5,
    "start_time": "2022-10-31T16:51:35.164Z"
   },
   {
    "duration": 5,
    "start_time": "2022-10-31T16:51:37.152Z"
   },
   {
    "duration": 5,
    "start_time": "2022-10-31T16:51:38.975Z"
   },
   {
    "duration": 123,
    "start_time": "2022-10-31T16:51:47.873Z"
   },
   {
    "duration": 533,
    "start_time": "2022-10-31T16:52:09.683Z"
   },
   {
    "duration": 6,
    "start_time": "2022-10-31T16:52:15.076Z"
   },
   {
    "duration": 5,
    "start_time": "2022-10-31T16:52:22.128Z"
   },
   {
    "duration": 15,
    "start_time": "2022-10-31T16:53:15.393Z"
   },
   {
    "duration": 4,
    "start_time": "2022-10-31T16:53:42.794Z"
   },
   {
    "duration": 5,
    "start_time": "2022-10-31T16:53:43.726Z"
   },
   {
    "duration": 5,
    "start_time": "2022-10-31T16:53:44.623Z"
   },
   {
    "duration": 5,
    "start_time": "2022-10-31T16:53:45.349Z"
   },
   {
    "duration": 4,
    "start_time": "2022-10-31T16:53:46.008Z"
   },
   {
    "duration": 5,
    "start_time": "2022-10-31T16:53:46.573Z"
   },
   {
    "duration": 5,
    "start_time": "2022-10-31T16:53:54.804Z"
   },
   {
    "duration": 14,
    "start_time": "2022-10-31T16:54:04.685Z"
   },
   {
    "duration": 7,
    "start_time": "2022-10-31T16:54:49.348Z"
   },
   {
    "duration": 21,
    "start_time": "2022-10-31T16:55:17.082Z"
   },
   {
    "duration": 8,
    "start_time": "2022-10-31T16:55:24.830Z"
   },
   {
    "duration": 743,
    "start_time": "2022-10-31T16:56:09.355Z"
   },
   {
    "duration": 13,
    "start_time": "2022-10-31T16:56:35.112Z"
   },
   {
    "duration": 7,
    "start_time": "2022-10-31T16:56:37.906Z"
   },
   {
    "duration": 13,
    "start_time": "2022-10-31T16:56:45.407Z"
   },
   {
    "duration": 14,
    "start_time": "2022-10-31T16:57:14.366Z"
   },
   {
    "duration": 16,
    "start_time": "2022-10-31T16:57:22.776Z"
   },
   {
    "duration": 5,
    "start_time": "2022-10-31T16:57:32.360Z"
   },
   {
    "duration": 34,
    "start_time": "2022-10-31T16:57:52.707Z"
   },
   {
    "duration": 7,
    "start_time": "2022-10-31T16:58:26.942Z"
   },
   {
    "duration": 8,
    "start_time": "2022-10-31T17:00:36.997Z"
   },
   {
    "duration": 9,
    "start_time": "2022-10-31T17:01:15.351Z"
   },
   {
    "duration": 8,
    "start_time": "2022-10-31T17:01:28.776Z"
   },
   {
    "duration": 11,
    "start_time": "2022-10-31T17:01:34.463Z"
   },
   {
    "duration": 24,
    "start_time": "2022-10-31T17:06:06.786Z"
   },
   {
    "duration": 5,
    "start_time": "2022-10-31T17:08:25.752Z"
   },
   {
    "duration": 103,
    "start_time": "2022-10-31T17:08:26.686Z"
   },
   {
    "duration": 5,
    "start_time": "2022-10-31T17:09:17.067Z"
   },
   {
    "duration": 5,
    "start_time": "2022-10-31T17:09:54.993Z"
   },
   {
    "duration": 10,
    "start_time": "2022-10-31T17:10:56.468Z"
   },
   {
    "duration": 23,
    "start_time": "2022-10-31T17:10:58.014Z"
   },
   {
    "duration": 17,
    "start_time": "2022-10-31T17:11:43.604Z"
   },
   {
    "duration": 4,
    "start_time": "2022-10-31T17:12:18.304Z"
   },
   {
    "duration": 174,
    "start_time": "2022-10-31T17:12:22.335Z"
   },
   {
    "duration": 23,
    "start_time": "2022-10-31T17:12:30.480Z"
   },
   {
    "duration": 188,
    "start_time": "2022-10-31T17:18:52.957Z"
   },
   {
    "duration": 15,
    "start_time": "2022-10-31T17:18:53.584Z"
   },
   {
    "duration": 142,
    "start_time": "2022-10-31T17:19:38.143Z"
   },
   {
    "duration": 16,
    "start_time": "2022-10-31T17:19:40.421Z"
   },
   {
    "duration": 150,
    "start_time": "2022-10-31T17:19:49.262Z"
   },
   {
    "duration": 14,
    "start_time": "2022-10-31T17:19:52.318Z"
   },
   {
    "duration": 404,
    "start_time": "2022-11-01T08:49:02.735Z"
   },
   {
    "duration": 137,
    "start_time": "2022-11-01T08:49:03.141Z"
   },
   {
    "duration": 28,
    "start_time": "2022-11-01T08:49:03.279Z"
   },
   {
    "duration": 13,
    "start_time": "2022-11-01T08:49:03.309Z"
   },
   {
    "duration": 474,
    "start_time": "2022-11-01T08:49:03.323Z"
   },
   {
    "duration": 115,
    "start_time": "2022-11-01T08:49:03.798Z"
   },
   {
    "duration": 91,
    "start_time": "2022-11-01T08:49:03.914Z"
   },
   {
    "duration": 4,
    "start_time": "2022-11-01T08:49:04.006Z"
   },
   {
    "duration": 17,
    "start_time": "2022-11-01T08:49:04.021Z"
   },
   {
    "duration": 98,
    "start_time": "2022-11-01T08:49:04.040Z"
   },
   {
    "duration": 149,
    "start_time": "2022-11-01T08:49:04.140Z"
   },
   {
    "duration": 4,
    "start_time": "2022-11-01T08:49:04.291Z"
   },
   {
    "duration": 140,
    "start_time": "2022-11-01T08:49:04.296Z"
   },
   {
    "duration": 4,
    "start_time": "2022-11-01T08:49:04.437Z"
   },
   {
    "duration": 124,
    "start_time": "2022-11-01T08:49:04.443Z"
   },
   {
    "duration": 123,
    "start_time": "2022-11-01T08:49:04.569Z"
   },
   {
    "duration": 128,
    "start_time": "2022-11-01T08:49:04.693Z"
   },
   {
    "duration": 3,
    "start_time": "2022-11-01T08:49:04.823Z"
   },
   {
    "duration": 299,
    "start_time": "2022-11-01T08:49:04.827Z"
   },
   {
    "duration": 9,
    "start_time": "2022-11-01T08:49:05.128Z"
   },
   {
    "duration": 7,
    "start_time": "2022-11-01T08:49:05.138Z"
   },
   {
    "duration": 112,
    "start_time": "2022-11-01T08:49:05.146Z"
   },
   {
    "duration": 8,
    "start_time": "2022-11-01T08:49:05.260Z"
   },
   {
    "duration": 18,
    "start_time": "2022-11-01T08:49:05.269Z"
   },
   {
    "duration": 24,
    "start_time": "2022-11-01T08:49:05.288Z"
   },
   {
    "duration": 6,
    "start_time": "2022-11-01T08:49:05.314Z"
   },
   {
    "duration": 21,
    "start_time": "2022-11-01T08:49:05.321Z"
   },
   {
    "duration": 11,
    "start_time": "2022-11-01T08:49:05.346Z"
   },
   {
    "duration": 22,
    "start_time": "2022-11-01T08:49:05.358Z"
   },
   {
    "duration": 16,
    "start_time": "2022-11-01T08:49:05.382Z"
   },
   {
    "duration": 17,
    "start_time": "2022-11-01T08:49:05.399Z"
   },
   {
    "duration": 5,
    "start_time": "2022-11-01T08:49:05.418Z"
   },
   {
    "duration": 38,
    "start_time": "2022-11-01T08:49:05.424Z"
   },
   {
    "duration": 11,
    "start_time": "2022-11-01T08:49:05.464Z"
   },
   {
    "duration": 18,
    "start_time": "2022-11-01T08:49:05.477Z"
   },
   {
    "duration": 17,
    "start_time": "2022-11-01T08:49:05.496Z"
   },
   {
    "duration": 8,
    "start_time": "2022-11-01T08:49:05.514Z"
   },
   {
    "duration": 19,
    "start_time": "2022-11-01T08:49:05.523Z"
   },
   {
    "duration": 12,
    "start_time": "2022-11-01T08:49:05.543Z"
   },
   {
    "duration": 6,
    "start_time": "2022-11-01T08:49:05.556Z"
   },
   {
    "duration": 19,
    "start_time": "2022-11-01T08:49:05.563Z"
   },
   {
    "duration": 21,
    "start_time": "2022-11-01T08:49:05.583Z"
   },
   {
    "duration": 3,
    "start_time": "2022-11-01T08:49:05.606Z"
   },
   {
    "duration": 35,
    "start_time": "2022-11-01T08:49:05.610Z"
   },
   {
    "duration": 239,
    "start_time": "2022-11-01T08:49:05.647Z"
   },
   {
    "duration": 3,
    "start_time": "2022-11-01T08:49:05.888Z"
   },
   {
    "duration": 23,
    "start_time": "2022-11-01T08:49:05.892Z"
   },
   {
    "duration": 145,
    "start_time": "2022-11-01T08:49:05.916Z"
   },
   {
    "duration": 6,
    "start_time": "2022-11-01T08:49:06.063Z"
   },
   {
    "duration": 18,
    "start_time": "2022-11-01T08:49:06.071Z"
   },
   {
    "duration": 155,
    "start_time": "2022-11-01T08:49:06.091Z"
   },
   {
    "duration": 4,
    "start_time": "2022-11-01T08:49:06.247Z"
   },
   {
    "duration": 9,
    "start_time": "2022-11-01T08:49:06.253Z"
   },
   {
    "duration": 135,
    "start_time": "2022-11-01T08:49:06.263Z"
   },
   {
    "duration": 5,
    "start_time": "2022-11-01T08:49:06.400Z"
   },
   {
    "duration": 24,
    "start_time": "2022-11-01T08:49:06.407Z"
   },
   {
    "duration": 140,
    "start_time": "2022-11-01T08:49:06.433Z"
   },
   {
    "duration": 4,
    "start_time": "2022-11-01T08:49:06.574Z"
   },
   {
    "duration": 11,
    "start_time": "2022-11-01T08:49:06.579Z"
   },
   {
    "duration": 140,
    "start_time": "2022-11-01T08:49:06.591Z"
   },
   {
    "duration": 4,
    "start_time": "2022-11-01T08:49:06.732Z"
   },
   {
    "duration": 5,
    "start_time": "2022-11-01T08:49:06.738Z"
   },
   {
    "duration": 187,
    "start_time": "2022-11-01T08:49:06.744Z"
   },
   {
    "duration": 4,
    "start_time": "2022-11-01T08:49:06.933Z"
   },
   {
    "duration": 8,
    "start_time": "2022-11-01T08:49:06.938Z"
   },
   {
    "duration": 126,
    "start_time": "2022-11-01T08:49:06.948Z"
   },
   {
    "duration": 5,
    "start_time": "2022-11-01T08:49:07.076Z"
   },
   {
    "duration": 170,
    "start_time": "2022-11-01T08:49:07.083Z"
   },
   {
    "duration": 121,
    "start_time": "2022-11-01T08:49:07.254Z"
   },
   {
    "duration": 5,
    "start_time": "2022-11-01T08:49:07.377Z"
   },
   {
    "duration": 6,
    "start_time": "2022-11-01T08:49:07.384Z"
   },
   {
    "duration": 144,
    "start_time": "2022-11-01T08:49:07.391Z"
   },
   {
    "duration": 141,
    "start_time": "2022-11-01T08:49:07.537Z"
   },
   {
    "duration": 6,
    "start_time": "2022-11-01T08:49:07.679Z"
   },
   {
    "duration": 6,
    "start_time": "2022-11-01T08:49:07.686Z"
   },
   {
    "duration": 135,
    "start_time": "2022-11-01T08:49:07.693Z"
   },
   {
    "duration": 4,
    "start_time": "2022-11-01T08:49:07.830Z"
   },
   {
    "duration": 9,
    "start_time": "2022-11-01T08:49:07.836Z"
   },
   {
    "duration": 122,
    "start_time": "2022-11-01T08:49:07.846Z"
   },
   {
    "duration": 5,
    "start_time": "2022-11-01T08:49:07.970Z"
   },
   {
    "duration": 8,
    "start_time": "2022-11-01T08:49:07.976Z"
   },
   {
    "duration": 168,
    "start_time": "2022-11-01T08:49:07.989Z"
   },
   {
    "duration": 6,
    "start_time": "2022-11-01T08:49:08.159Z"
   },
   {
    "duration": 14,
    "start_time": "2022-11-01T08:49:08.166Z"
   },
   {
    "duration": 124,
    "start_time": "2022-11-01T08:49:08.181Z"
   },
   {
    "duration": 15,
    "start_time": "2022-11-01T08:49:08.307Z"
   },
   {
    "duration": 4,
    "start_time": "2022-11-01T08:49:08.323Z"
   },
   {
    "duration": 136,
    "start_time": "2022-11-01T08:49:08.329Z"
   },
   {
    "duration": 115,
    "start_time": "2022-11-01T08:49:08.467Z"
   },
   {
    "duration": 4,
    "start_time": "2022-11-01T08:49:08.583Z"
   },
   {
    "duration": 210,
    "start_time": "2022-11-01T08:49:08.589Z"
   },
   {
    "duration": 14,
    "start_time": "2022-11-01T08:49:08.801Z"
   },
   {
    "duration": 12,
    "start_time": "2022-11-01T08:49:08.817Z"
   },
   {
    "duration": 198,
    "start_time": "2022-11-01T08:49:08.830Z"
   },
   {
    "duration": 14,
    "start_time": "2022-11-01T08:49:09.030Z"
   },
   {
    "duration": 140,
    "start_time": "2022-11-01T08:49:09.046Z"
   },
   {
    "duration": 13,
    "start_time": "2022-11-01T08:49:09.188Z"
   },
   {
    "duration": 140,
    "start_time": "2022-11-01T08:49:09.203Z"
   },
   {
    "duration": 14,
    "start_time": "2022-11-01T08:49:09.344Z"
   },
   {
    "duration": 141,
    "start_time": "2022-11-01T08:49:09.359Z"
   },
   {
    "duration": 26,
    "start_time": "2022-11-01T08:49:09.502Z"
   },
   {
    "duration": 131,
    "start_time": "2022-11-01T08:49:09.529Z"
   },
   {
    "duration": 16,
    "start_time": "2022-11-01T08:49:09.662Z"
   },
   {
    "duration": 144,
    "start_time": "2022-11-01T08:49:09.680Z"
   },
   {
    "duration": 14,
    "start_time": "2022-11-01T08:49:09.826Z"
   },
   {
    "duration": 139,
    "start_time": "2022-11-01T08:49:09.841Z"
   },
   {
    "duration": 14,
    "start_time": "2022-11-01T08:49:09.982Z"
   },
   {
    "duration": 138,
    "start_time": "2022-11-01T08:49:09.997Z"
   },
   {
    "duration": 14,
    "start_time": "2022-11-01T08:49:10.136Z"
   },
   {
    "duration": 137,
    "start_time": "2022-11-01T08:49:10.151Z"
   },
   {
    "duration": 13,
    "start_time": "2022-11-01T08:49:10.290Z"
   },
   {
    "duration": 19,
    "start_time": "2022-11-01T08:49:10.305Z"
   },
   {
    "duration": 21,
    "start_time": "2022-11-01T08:49:10.326Z"
   },
   {
    "duration": 158,
    "start_time": "2022-11-01T08:49:10.348Z"
   },
   {
    "duration": 22,
    "start_time": "2022-11-01T08:49:10.508Z"
   }
  ],
  "kernelspec": {
   "display_name": "Python 3 (ipykernel)",
   "language": "python",
   "name": "python3"
  },
  "language_info": {
   "codemirror_mode": {
    "name": "ipython",
    "version": 3
   },
   "file_extension": ".py",
   "mimetype": "text/x-python",
   "name": "python",
   "nbconvert_exporter": "python",
   "pygments_lexer": "ipython3",
   "version": "3.11.4"
  },
  "toc": {
   "base_numbering": 1,
   "nav_menu": {},
   "number_sections": true,
   "sideBar": true,
   "skip_h1_title": true,
   "title_cell": "Table of Contents",
   "title_sidebar": "Contents",
   "toc_cell": false,
   "toc_position": {},
   "toc_section_display": true,
   "toc_window_display": false
  }
 },
 "nbformat": 4,
 "nbformat_minor": 2
}
