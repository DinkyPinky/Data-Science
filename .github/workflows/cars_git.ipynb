{
 "cells": [
  {
   "cell_type": "markdown",
   "metadata": {},
   "source": [
    "# Определение стоимости автомобилей"
   ]
  },
  {
   "cell_type": "markdown",
   "metadata": {},
   "source": [
    "Цель -- определить стоимость авто по его параметрам. \n",
    "\n",
    "Помимо качества, необходимо учесть:\n",
    "- скорость предсказания (быстрая для пользователей)\n",
    "- время обучения (наверное может быть и подольше, поставим ограничение в 50 минут)\n",
    "\\\n",
    "\\\n",
    "Использовать как минимум одну модель не бустинга\\\n",
    "Метрика RMSE\\\n",
    "Модель бустинга LightGBM "
   ]
  },
  {
   "cell_type": "markdown",
   "metadata": {},
   "source": [
    "## Подготовка данных"
   ]
  },
  {
   "cell_type": "code",
   "execution_count": 1,
   "metadata": {},
   "outputs": [],
   "source": [
    "import pandas as pd\n",
    "import numpy as np\n",
    "import time\n",
    "\n",
    "\n",
    "\n",
    "from sklearn.dummy import DummyRegressor\n",
    "\n",
    "from sklearn.linear_model import LinearRegression\n",
    "from sklearn.model_selection import RepeatedKFold\n",
    "from sklearn.model_selection import train_test_split\n",
    "from sklearn.model_selection import cross_val_score, cross_validate\n",
    "from sklearn.metrics import mean_squared_error, make_scorer\n",
    "from sklearn.tree import DecisionTreeRegressor\n",
    "from sklearn.preprocessing import OrdinalEncoder, OneHotEncoder\n",
    "from sklearn.compose import make_column_transformer\n",
    "from sklearn.linear_model import Ridge\n",
    "from sklearn.model_selection import GridSearchCV\n",
    "\n",
    "\n",
    "from statistics import mean\n",
    "\n",
    "from lightgbm import LGBMRegressor\n",
    "\n",
    "import plotly\n",
    "import plotly.graph_objs as go\n",
    "import plotly.express as px\n",
    "from plotly.subplots import make_subplots"
   ]
  },
  {
   "cell_type": "code",
   "execution_count": 2,
   "metadata": {},
   "outputs": [],
   "source": [
    "try:\n",
    "    df = pd.read_csv('/datasets/autos.csv')\n",
    "except:     \n",
    "    df = pd.read_csv('D:/Рабочий стол/япроект/autos.csv')"
   ]
  },
  {
   "cell_type": "code",
   "execution_count": 3,
   "metadata": {},
   "outputs": [
    {
     "name": "stdout",
     "output_type": "stream",
     "text": [
      "<class 'pandas.core.frame.DataFrame'>\n",
      "RangeIndex: 354369 entries, 0 to 354368\n",
      "Data columns (total 16 columns):\n",
      " #   Column             Non-Null Count   Dtype \n",
      "---  ------             --------------   ----- \n",
      " 0   DateCrawled        354369 non-null  object\n",
      " 1   Price              354369 non-null  int64 \n",
      " 2   VehicleType        316879 non-null  object\n",
      " 3   RegistrationYear   354369 non-null  int64 \n",
      " 4   Gearbox            334536 non-null  object\n",
      " 5   Power              354369 non-null  int64 \n",
      " 6   Model              334664 non-null  object\n",
      " 7   Kilometer          354369 non-null  int64 \n",
      " 8   RegistrationMonth  354369 non-null  int64 \n",
      " 9   FuelType           321474 non-null  object\n",
      " 10  Brand              354369 non-null  object\n",
      " 11  Repaired           283215 non-null  object\n",
      " 12  DateCreated        354369 non-null  object\n",
      " 13  NumberOfPictures   354369 non-null  int64 \n",
      " 14  PostalCode         354369 non-null  int64 \n",
      " 15  LastSeen           354369 non-null  object\n",
      "dtypes: int64(7), object(9)\n",
      "memory usage: 43.3+ MB\n"
     ]
    }
   ],
   "source": [
    "df.info()"
   ]
  },
  {
   "cell_type": "markdown",
   "metadata": {},
   "source": [
    "Наш датасет довольно большой — 350 тыс строк"
   ]
  },
  {
   "cell_type": "code",
   "execution_count": 4,
   "metadata": {},
   "outputs": [
    {
     "data": {
      "text/html": [
       "<div>\n",
       "<style scoped>\n",
       "    .dataframe tbody tr th:only-of-type {\n",
       "        vertical-align: middle;\n",
       "    }\n",
       "\n",
       "    .dataframe tbody tr th {\n",
       "        vertical-align: top;\n",
       "    }\n",
       "\n",
       "    .dataframe thead th {\n",
       "        text-align: right;\n",
       "    }\n",
       "</style>\n",
       "<table border=\"1\" class=\"dataframe\">\n",
       "  <thead>\n",
       "    <tr style=\"text-align: right;\">\n",
       "      <th></th>\n",
       "      <th>DateCrawled</th>\n",
       "      <th>Price</th>\n",
       "      <th>VehicleType</th>\n",
       "      <th>RegistrationYear</th>\n",
       "      <th>Gearbox</th>\n",
       "      <th>Power</th>\n",
       "      <th>Model</th>\n",
       "      <th>Kilometer</th>\n",
       "      <th>RegistrationMonth</th>\n",
       "      <th>FuelType</th>\n",
       "      <th>Brand</th>\n",
       "      <th>Repaired</th>\n",
       "      <th>DateCreated</th>\n",
       "      <th>NumberOfPictures</th>\n",
       "      <th>PostalCode</th>\n",
       "      <th>LastSeen</th>\n",
       "    </tr>\n",
       "  </thead>\n",
       "  <tbody>\n",
       "    <tr>\n",
       "      <th>0</th>\n",
       "      <td>2016-03-24 11:52:17</td>\n",
       "      <td>480</td>\n",
       "      <td>NaN</td>\n",
       "      <td>1993</td>\n",
       "      <td>manual</td>\n",
       "      <td>0</td>\n",
       "      <td>golf</td>\n",
       "      <td>150000</td>\n",
       "      <td>0</td>\n",
       "      <td>petrol</td>\n",
       "      <td>volkswagen</td>\n",
       "      <td>NaN</td>\n",
       "      <td>2016-03-24 00:00:00</td>\n",
       "      <td>0</td>\n",
       "      <td>70435</td>\n",
       "      <td>2016-04-07 03:16:57</td>\n",
       "    </tr>\n",
       "    <tr>\n",
       "      <th>1</th>\n",
       "      <td>2016-03-24 10:58:45</td>\n",
       "      <td>18300</td>\n",
       "      <td>coupe</td>\n",
       "      <td>2011</td>\n",
       "      <td>manual</td>\n",
       "      <td>190</td>\n",
       "      <td>NaN</td>\n",
       "      <td>125000</td>\n",
       "      <td>5</td>\n",
       "      <td>gasoline</td>\n",
       "      <td>audi</td>\n",
       "      <td>yes</td>\n",
       "      <td>2016-03-24 00:00:00</td>\n",
       "      <td>0</td>\n",
       "      <td>66954</td>\n",
       "      <td>2016-04-07 01:46:50</td>\n",
       "    </tr>\n",
       "    <tr>\n",
       "      <th>2</th>\n",
       "      <td>2016-03-14 12:52:21</td>\n",
       "      <td>9800</td>\n",
       "      <td>suv</td>\n",
       "      <td>2004</td>\n",
       "      <td>auto</td>\n",
       "      <td>163</td>\n",
       "      <td>grand</td>\n",
       "      <td>125000</td>\n",
       "      <td>8</td>\n",
       "      <td>gasoline</td>\n",
       "      <td>jeep</td>\n",
       "      <td>NaN</td>\n",
       "      <td>2016-03-14 00:00:00</td>\n",
       "      <td>0</td>\n",
       "      <td>90480</td>\n",
       "      <td>2016-04-05 12:47:46</td>\n",
       "    </tr>\n",
       "    <tr>\n",
       "      <th>3</th>\n",
       "      <td>2016-03-17 16:54:04</td>\n",
       "      <td>1500</td>\n",
       "      <td>small</td>\n",
       "      <td>2001</td>\n",
       "      <td>manual</td>\n",
       "      <td>75</td>\n",
       "      <td>golf</td>\n",
       "      <td>150000</td>\n",
       "      <td>6</td>\n",
       "      <td>petrol</td>\n",
       "      <td>volkswagen</td>\n",
       "      <td>no</td>\n",
       "      <td>2016-03-17 00:00:00</td>\n",
       "      <td>0</td>\n",
       "      <td>91074</td>\n",
       "      <td>2016-03-17 17:40:17</td>\n",
       "    </tr>\n",
       "    <tr>\n",
       "      <th>4</th>\n",
       "      <td>2016-03-31 17:25:20</td>\n",
       "      <td>3600</td>\n",
       "      <td>small</td>\n",
       "      <td>2008</td>\n",
       "      <td>manual</td>\n",
       "      <td>69</td>\n",
       "      <td>fabia</td>\n",
       "      <td>90000</td>\n",
       "      <td>7</td>\n",
       "      <td>gasoline</td>\n",
       "      <td>skoda</td>\n",
       "      <td>no</td>\n",
       "      <td>2016-03-31 00:00:00</td>\n",
       "      <td>0</td>\n",
       "      <td>60437</td>\n",
       "      <td>2016-04-06 10:17:21</td>\n",
       "    </tr>\n",
       "  </tbody>\n",
       "</table>\n",
       "</div>"
      ],
      "text/plain": [
       "           DateCrawled  Price VehicleType  RegistrationYear Gearbox  Power  \\\n",
       "0  2016-03-24 11:52:17    480         NaN              1993  manual      0   \n",
       "1  2016-03-24 10:58:45  18300       coupe              2011  manual    190   \n",
       "2  2016-03-14 12:52:21   9800         suv              2004    auto    163   \n",
       "3  2016-03-17 16:54:04   1500       small              2001  manual     75   \n",
       "4  2016-03-31 17:25:20   3600       small              2008  manual     69   \n",
       "\n",
       "   Model  Kilometer  RegistrationMonth  FuelType       Brand Repaired  \\\n",
       "0   golf     150000                  0    petrol  volkswagen      NaN   \n",
       "1    NaN     125000                  5  gasoline        audi      yes   \n",
       "2  grand     125000                  8  gasoline        jeep      NaN   \n",
       "3   golf     150000                  6    petrol  volkswagen       no   \n",
       "4  fabia      90000                  7  gasoline       skoda       no   \n",
       "\n",
       "           DateCreated  NumberOfPictures  PostalCode             LastSeen  \n",
       "0  2016-03-24 00:00:00                 0       70435  2016-04-07 03:16:57  \n",
       "1  2016-03-24 00:00:00                 0       66954  2016-04-07 01:46:50  \n",
       "2  2016-03-14 00:00:00                 0       90480  2016-04-05 12:47:46  \n",
       "3  2016-03-17 00:00:00                 0       91074  2016-03-17 17:40:17  \n",
       "4  2016-03-31 00:00:00                 0       60437  2016-04-06 10:17:21  "
      ]
     },
     "execution_count": 4,
     "metadata": {},
     "output_type": "execute_result"
    }
   ],
   "source": [
    "df.head()"
   ]
  },
  {
   "cell_type": "code",
   "execution_count": 5,
   "metadata": {},
   "outputs": [
    {
     "data": {
      "text/plain": [
       "count                  354369\n",
       "unique                 271174\n",
       "top       2016-03-24 14:49:47\n",
       "freq                        7\n",
       "Name: DateCrawled, dtype: object"
      ]
     },
     "execution_count": 5,
     "metadata": {},
     "output_type": "execute_result"
    }
   ],
   "source": [
    "df['DateCrawled'].describe()"
   ]
  },
  {
   "cell_type": "markdown",
   "metadata": {},
   "source": [
    "### Удаление неинформативных признаков"
   ]
  },
  {
   "cell_type": "markdown",
   "metadata": {},
   "source": [
    "Судя по всему, самые неинформативные признаки для анализа это DateCrawled, RegistrationMonth, DateCreated, NumberOfPictures, PostalCode, LastSeen"
   ]
  },
  {
   "cell_type": "code",
   "execution_count": 6,
   "metadata": {},
   "outputs": [],
   "source": [
    "df = df.loc[:, 'Price':'Repaired']\n",
    "df = df.drop('RegistrationMonth', axis = 1)"
   ]
  },
  {
   "cell_type": "markdown",
   "metadata": {},
   "source": [
    "### Пропущенные значения"
   ]
  },
  {
   "cell_type": "code",
   "execution_count": 7,
   "metadata": {},
   "outputs": [
    {
     "data": {
      "text/plain": [
       "Price                   0\n",
       "VehicleType         37490\n",
       "RegistrationYear        0\n",
       "Gearbox             19833\n",
       "Power                   0\n",
       "Model               19705\n",
       "Kilometer               0\n",
       "FuelType            32895\n",
       "Brand                   0\n",
       "Repaired            71154\n",
       "dtype: int64"
      ]
     },
     "execution_count": 7,
     "metadata": {},
     "output_type": "execute_result"
    }
   ],
   "source": [
    "df.isna().sum()"
   ]
  },
  {
   "cell_type": "markdown",
   "metadata": {},
   "source": [
    "Пропущенные значения есть в пяти столбцах"
   ]
  },
  {
   "cell_type": "markdown",
   "metadata": {},
   "source": [
    "**VehicleType**"
   ]
  },
  {
   "cell_type": "markdown",
   "metadata": {},
   "source": [
    "Пропущенных значений довольно много. Посмотрим, какой самый частый тип кузова:"
   ]
  },
  {
   "cell_type": "code",
   "execution_count": 8,
   "metadata": {},
   "outputs": [
    {
     "data": {
      "text/plain": [
       "VehicleType\n",
       "sedan          91457\n",
       "small          79831\n",
       "wagon          65166\n",
       "bus            28775\n",
       "convertible    20203\n",
       "coupe          16163\n",
       "suv            11996\n",
       "other           3288\n",
       "Name: VehicleType, dtype: int64"
      ]
     },
     "execution_count": 8,
     "metadata": {},
     "output_type": "execute_result"
    }
   ],
   "source": [
    "df.groupby('VehicleType')['VehicleType'].count().sort_values(ascending=False)"
   ]
  },
  {
   "cell_type": "markdown",
   "metadata": {},
   "source": [
    "Логично, что седан будет самым распросстраненным"
   ]
  },
  {
   "cell_type": "code",
   "execution_count": 9,
   "metadata": {
    "scrolled": true
   },
   "outputs": [
    {
     "data": {
      "text/html": [
       "<div>\n",
       "<style scoped>\n",
       "    .dataframe tbody tr th:only-of-type {\n",
       "        vertical-align: middle;\n",
       "    }\n",
       "\n",
       "    .dataframe tbody tr th {\n",
       "        vertical-align: top;\n",
       "    }\n",
       "\n",
       "    .dataframe thead th {\n",
       "        text-align: right;\n",
       "    }\n",
       "</style>\n",
       "<table border=\"1\" class=\"dataframe\">\n",
       "  <thead>\n",
       "    <tr style=\"text-align: right;\">\n",
       "      <th></th>\n",
       "      <th>Price</th>\n",
       "      <th>VehicleType</th>\n",
       "      <th>RegistrationYear</th>\n",
       "      <th>Gearbox</th>\n",
       "      <th>Power</th>\n",
       "      <th>Model</th>\n",
       "      <th>Kilometer</th>\n",
       "      <th>FuelType</th>\n",
       "      <th>Brand</th>\n",
       "      <th>Repaired</th>\n",
       "    </tr>\n",
       "  </thead>\n",
       "  <tbody>\n",
       "    <tr>\n",
       "      <th>0</th>\n",
       "      <td>480</td>\n",
       "      <td>NaN</td>\n",
       "      <td>1993</td>\n",
       "      <td>manual</td>\n",
       "      <td>0</td>\n",
       "      <td>golf</td>\n",
       "      <td>150000</td>\n",
       "      <td>petrol</td>\n",
       "      <td>volkswagen</td>\n",
       "      <td>NaN</td>\n",
       "    </tr>\n",
       "    <tr>\n",
       "      <th>16</th>\n",
       "      <td>300</td>\n",
       "      <td>NaN</td>\n",
       "      <td>2016</td>\n",
       "      <td>NaN</td>\n",
       "      <td>60</td>\n",
       "      <td>polo</td>\n",
       "      <td>150000</td>\n",
       "      <td>petrol</td>\n",
       "      <td>volkswagen</td>\n",
       "      <td>NaN</td>\n",
       "    </tr>\n",
       "    <tr>\n",
       "      <th>22</th>\n",
       "      <td>2900</td>\n",
       "      <td>NaN</td>\n",
       "      <td>2018</td>\n",
       "      <td>manual</td>\n",
       "      <td>90</td>\n",
       "      <td>meriva</td>\n",
       "      <td>150000</td>\n",
       "      <td>petrol</td>\n",
       "      <td>opel</td>\n",
       "      <td>no</td>\n",
       "    </tr>\n",
       "    <tr>\n",
       "      <th>26</th>\n",
       "      <td>5555</td>\n",
       "      <td>NaN</td>\n",
       "      <td>2017</td>\n",
       "      <td>manual</td>\n",
       "      <td>125</td>\n",
       "      <td>c4</td>\n",
       "      <td>125000</td>\n",
       "      <td>NaN</td>\n",
       "      <td>citroen</td>\n",
       "      <td>no</td>\n",
       "    </tr>\n",
       "    <tr>\n",
       "      <th>31</th>\n",
       "      <td>899</td>\n",
       "      <td>NaN</td>\n",
       "      <td>2016</td>\n",
       "      <td>manual</td>\n",
       "      <td>60</td>\n",
       "      <td>clio</td>\n",
       "      <td>150000</td>\n",
       "      <td>petrol</td>\n",
       "      <td>renault</td>\n",
       "      <td>NaN</td>\n",
       "    </tr>\n",
       "    <tr>\n",
       "      <th>...</th>\n",
       "      <td>...</td>\n",
       "      <td>...</td>\n",
       "      <td>...</td>\n",
       "      <td>...</td>\n",
       "      <td>...</td>\n",
       "      <td>...</td>\n",
       "      <td>...</td>\n",
       "      <td>...</td>\n",
       "      <td>...</td>\n",
       "      <td>...</td>\n",
       "    </tr>\n",
       "    <tr>\n",
       "      <th>354346</th>\n",
       "      <td>2600</td>\n",
       "      <td>NaN</td>\n",
       "      <td>2005</td>\n",
       "      <td>auto</td>\n",
       "      <td>0</td>\n",
       "      <td>c_klasse</td>\n",
       "      <td>150000</td>\n",
       "      <td>NaN</td>\n",
       "      <td>mercedes_benz</td>\n",
       "      <td>NaN</td>\n",
       "    </tr>\n",
       "    <tr>\n",
       "      <th>354351</th>\n",
       "      <td>1900</td>\n",
       "      <td>NaN</td>\n",
       "      <td>2000</td>\n",
       "      <td>manual</td>\n",
       "      <td>110</td>\n",
       "      <td>NaN</td>\n",
       "      <td>150000</td>\n",
       "      <td>NaN</td>\n",
       "      <td>volkswagen</td>\n",
       "      <td>no</td>\n",
       "    </tr>\n",
       "    <tr>\n",
       "      <th>354361</th>\n",
       "      <td>5250</td>\n",
       "      <td>NaN</td>\n",
       "      <td>2016</td>\n",
       "      <td>auto</td>\n",
       "      <td>150</td>\n",
       "      <td>159</td>\n",
       "      <td>150000</td>\n",
       "      <td>NaN</td>\n",
       "      <td>alfa_romeo</td>\n",
       "      <td>no</td>\n",
       "    </tr>\n",
       "    <tr>\n",
       "      <th>354364</th>\n",
       "      <td>0</td>\n",
       "      <td>NaN</td>\n",
       "      <td>2005</td>\n",
       "      <td>manual</td>\n",
       "      <td>0</td>\n",
       "      <td>colt</td>\n",
       "      <td>150000</td>\n",
       "      <td>petrol</td>\n",
       "      <td>mitsubishi</td>\n",
       "      <td>yes</td>\n",
       "    </tr>\n",
       "    <tr>\n",
       "      <th>354365</th>\n",
       "      <td>2200</td>\n",
       "      <td>NaN</td>\n",
       "      <td>2005</td>\n",
       "      <td>NaN</td>\n",
       "      <td>0</td>\n",
       "      <td>NaN</td>\n",
       "      <td>20000</td>\n",
       "      <td>NaN</td>\n",
       "      <td>sonstige_autos</td>\n",
       "      <td>NaN</td>\n",
       "    </tr>\n",
       "  </tbody>\n",
       "</table>\n",
       "<p>37490 rows × 10 columns</p>\n",
       "</div>"
      ],
      "text/plain": [
       "        Price VehicleType  RegistrationYear Gearbox  Power     Model  \\\n",
       "0         480         NaN              1993  manual      0      golf   \n",
       "16        300         NaN              2016     NaN     60      polo   \n",
       "22       2900         NaN              2018  manual     90    meriva   \n",
       "26       5555         NaN              2017  manual    125        c4   \n",
       "31        899         NaN              2016  manual     60      clio   \n",
       "...       ...         ...               ...     ...    ...       ...   \n",
       "354346   2600         NaN              2005    auto      0  c_klasse   \n",
       "354351   1900         NaN              2000  manual    110       NaN   \n",
       "354361   5250         NaN              2016    auto    150       159   \n",
       "354364      0         NaN              2005  manual      0      colt   \n",
       "354365   2200         NaN              2005     NaN      0       NaN   \n",
       "\n",
       "        Kilometer FuelType           Brand Repaired  \n",
       "0          150000   petrol      volkswagen      NaN  \n",
       "16         150000   petrol      volkswagen      NaN  \n",
       "22         150000   petrol            opel       no  \n",
       "26         125000      NaN         citroen       no  \n",
       "31         150000   petrol         renault      NaN  \n",
       "...           ...      ...             ...      ...  \n",
       "354346     150000      NaN   mercedes_benz      NaN  \n",
       "354351     150000      NaN      volkswagen       no  \n",
       "354361     150000      NaN      alfa_romeo       no  \n",
       "354364     150000   petrol      mitsubishi      yes  \n",
       "354365      20000      NaN  sonstige_autos      NaN  \n",
       "\n",
       "[37490 rows x 10 columns]"
      ]
     },
     "execution_count": 9,
     "metadata": {},
     "output_type": "execute_result"
    }
   ],
   "source": [
    "df[df['VehicleType'].isna()]"
   ]
  },
  {
   "cell_type": "markdown",
   "metadata": {},
   "source": [
    "Вообще довольмо много строк, где тип кузова отсутствует, а модель есть. Поэтому можно попробовать по модели восстановить то, что есть"
   ]
  },
  {
   "cell_type": "code",
   "execution_count": 10,
   "metadata": {},
   "outputs": [
    {
     "data": {
      "text/plain": [
       "30662"
      ]
     },
     "execution_count": 10,
     "metadata": {},
     "output_type": "execute_result"
    }
   ],
   "source": [
    "df.loc[(df['VehicleType'].isna()) & (df['Model'].isna() == False), 'Price'].count()"
   ]
  },
  {
   "cell_type": "markdown",
   "metadata": {},
   "source": [
    "Действительно, большинство значений можно восстановить по модели, но возникает проблема"
   ]
  },
  {
   "cell_type": "code",
   "execution_count": 11,
   "metadata": {},
   "outputs": [
    {
     "data": {
      "text/plain": [
       "VehicleType\n",
       "bus        5\n",
       "other      5\n",
       "sedan    270\n",
       "suv      229\n",
       "wagon      3\n",
       "Name: VehicleType, dtype: int64"
      ]
     },
     "execution_count": 11,
     "metadata": {},
     "output_type": "execute_result"
    }
   ],
   "source": [
    "df[df['Model'] == 'qashqai'].groupby('VehicleType')['VehicleType'].count()"
   ]
  },
  {
   "cell_type": "markdown",
   "metadata": {},
   "source": [
    "Но оказывается, что в нашей таблице в большинстве случаев кашкаи это седан )))) Как вообще работать с таким бардаком, если даже большинством оно не правильно откатегоризуется...\\\n",
    "Посмотрим, везде ли так:"
   ]
  },
  {
   "cell_type": "code",
   "execution_count": 12,
   "metadata": {},
   "outputs": [
    {
     "data": {
      "text/plain": [
       "VehicleType\n",
       "coupe      6\n",
       "other      2\n",
       "sedan    164\n",
       "small      6\n",
       "wagon     58\n",
       "Name: VehicleType, dtype: int64"
      ]
     },
     "execution_count": 12,
     "metadata": {},
     "output_type": "execute_result"
    }
   ],
   "source": [
    "df[df['Model'] == 'ceed'].groupby('VehicleType')['VehicleType'].count()"
   ]
  },
  {
   "cell_type": "code",
   "execution_count": 13,
   "metadata": {
    "scrolled": true
   },
   "outputs": [
    {
     "data": {
      "text/plain": [
       "VehicleType\n",
       "bus                2\n",
       "convertible        3\n",
       "coupe            265\n",
       "other             23\n",
       "sedan            612\n",
       "small          10267\n",
       "suv                2\n",
       "wagon            292\n",
       "Name: VehicleType, dtype: int64"
      ]
     },
     "execution_count": 13,
     "metadata": {},
     "output_type": "execute_result"
    }
   ],
   "source": [
    "df[df['Model'] == 'polo'].groupby('VehicleType')['VehicleType'].count()"
   ]
  },
  {
   "cell_type": "markdown",
   "metadata": {},
   "source": [
    "С Polo ситуация немного другая – у данной модели присутсвуют разные типы кузова.\\\n",
    "Но думаю, заполнить пробелы самым частым типом кузова для каждой модели – самое логичное решение.\\\n",
    "\\\n",
    "Для этого создадим новый датасет, где для ккаждой модели тип кузова будет самым распространенным в модели:"
   ]
  },
  {
   "cell_type": "code",
   "execution_count": 14,
   "metadata": {},
   "outputs": [],
   "source": [
    "df_top = df.copy()\n",
    "for model in df.loc[df['Model'].isna() == False,'Model'].unique():\n",
    "    df_top.loc[df_top['Model'] == model,'VehicleType'] = df[df['Model'] == model].groupby('VehicleType')['VehicleType'].count().sort_values(ascending=False).head(1).index[0]"
   ]
  },
  {
   "cell_type": "code",
   "execution_count": 15,
   "metadata": {
    "scrolled": true
   },
   "outputs": [
    {
     "data": {
      "text/plain": [
       "VehicleType\n",
       "small    13066\n",
       "Name: VehicleType, dtype: int64"
      ]
     },
     "execution_count": 15,
     "metadata": {},
     "output_type": "execute_result"
    }
   ],
   "source": [
    "df_top[df_top['Model'] == 'polo'].groupby('VehicleType')['VehicleType'].count()"
   ]
  },
  {
   "cell_type": "markdown",
   "metadata": {},
   "source": [
    "Действительно, теперь для каждой модели в таблице есть только один вид кузова"
   ]
  },
  {
   "cell_type": "code",
   "execution_count": 16,
   "metadata": {
    "scrolled": true
   },
   "outputs": [],
   "source": [
    "dic = {}\n",
    "for vtype in df.loc[df['VehicleType'].isna() == False, 'VehicleType'].unique():\n",
    "    dic[str(vtype)] = df_top.loc[(df_top['Model'].isna() == False) & (df_top['VehicleType'] == vtype), 'Model'].unique()"
   ]
  },
  {
   "cell_type": "code",
   "execution_count": 17,
   "metadata": {},
   "outputs": [
    {
     "data": {
      "text/plain": [
       "{'coupe': array(['scirocco', 'tt', 'mustang', 'rx_reihe', '6er', 'a5', 'clk',\n",
       "        'crossfire', 'cc', '911', 'm_reihe', 'cl', 'calibra'], dtype=object),\n",
       " 'suv': array(['grand', 'navara', 'xc_reihe', 'sportage', 'sorento', 'tiguan',\n",
       "        'yeti', 'touareg', 'santa', 'x_reihe', 'rav', 'cayenne', 'duster',\n",
       "        'cr_reihe', 'm_klasse', 'kuga', 'x_trail', 'antara', 'tucson',\n",
       "        'jimny', 'wrangler', 'q7', 'captiva', 'discovery', 'freelander',\n",
       "        'cherokee', 'defender', 'cx_reihe', 'pajero', 'niva', 'g_klasse',\n",
       "        'range_rover', 'glk', 'outlander', 'range_rover_sport', 'q5',\n",
       "        'range_rover_evoque', 'gl', 'amarok', 'serie_3'], dtype=object),\n",
       " 'small': array(['fabia', '2_reihe', 'ka', 'polo', 'twingo', 'arosa', 'punto',\n",
       "        'clio', 'corsa', 'one', 'fortwo', 'fiesta', 'micra', 'a1', 'jazz',\n",
       "        'ibiza', 'getz', 'lupo', 'i_reihe', 'panda', 'up', 'seicento',\n",
       "        'mii', 'fox', 'matiz', 'c1', 'rio', 'cuore', 'a2', 'c3', '1_reihe',\n",
       "        'cooper', '500', 'juke', 'lanos', 'swift', 'picanto', 'kalos',\n",
       "        'ypsilon', 'justy', 'sirion', 'agila', 'yaris', 'aygo', 'fusion',\n",
       "        'forfour', 'spark', 'citigo', 'c2', 'sandero', 'charade', 'move',\n",
       "        '145', 'aveo', 'elefantino'], dtype=object),\n",
       " 'sedan': array(['golf', '3er', 'other', '3_reihe', 'a_klasse', '5er', 'c4',\n",
       "        'civic', 'e_klasse', 'kadett', '1er', 'astra', 'a8', 'jetta',\n",
       "        'c_klasse', 'escort', '7er', '80', '147', '100', 'a3', 'almera',\n",
       "        'megane', 'r19', 'colt', 'impreza', 'vectra', 'ceed', 'beetle',\n",
       "        's_klasse', 'kaefer', 'leon', 'primera', 'qashqai', 'carisma',\n",
       "        'accord', 'corolla', 'phaeton', 'superb', 'stilo', 'galant', '90',\n",
       "        'bora', 'x_type', 's_type', 'toledo', 'bravo', 'lancer', 'samara',\n",
       "        '601', 'auris', 's60', 'q3', '9000', '200', 'terios', 'delta',\n",
       "        'kalina', 'i3', 'kappa'], dtype=object),\n",
       " 'convertible': array(['slk', 'z_reihe', 'eos', 'spider', 'sl', 'boxster', 'mx_reihe',\n",
       "        'roadster', 'c_reihe', 'tigra', '900'], dtype=object),\n",
       " 'bus': array(['c_max', 'meriva', 'transporter', 'kangoo', 'b_klasse', 'vito',\n",
       "        'sprinter', 'scenic', 'combo', 'touran', 'zafira', 'berlingo',\n",
       "        'espace', 'sharan', '5_reihe', 'modus', 's_max', 'galaxy', 'viano',\n",
       "        'roomster', 'transit', 'verso', 'alhambra', 'v_klasse', 'carnival',\n",
       "        'ducato', 'altea', 'voyager', 'note', 'vivaro', 'lodgy', 'doblo',\n",
       "        'musa', 'b_max'], dtype=object),\n",
       " 'wagon': array(['passat', 'signum', '156', 'forester', 'a4', 'insignia', 'focus',\n",
       "        'a6', 'omega', 'v40', 'caddy', 'mondeo', 'cordoba', '6_reihe',\n",
       "        'octavia', 'logan', 'avensis', '4_reihe', 'laguna', 'ptcruiser',\n",
       "        'exeo', '159', 'v50', 'c5', '300c', 'v70', 'lybra', 'clubman',\n",
       "        'legacy', 'nubira', '850', 'croma', 'v60', 'materia', 'serie_1'],\n",
       "       dtype=object),\n",
       " 'other': array(['serie_2', 'rangerover'], dtype=object)}"
      ]
     },
     "execution_count": 17,
     "metadata": {},
     "output_type": "execute_result"
    }
   ],
   "source": [
    "dic"
   ]
  },
  {
   "cell_type": "code",
   "execution_count": 18,
   "metadata": {},
   "outputs": [],
   "source": [
    "for vtype in df.loc[df['VehicleType'].isna() == False, 'VehicleType'].unique():\n",
    "    df.loc[(df['Model'].isin(dic[str(vtype)])) & (df['VehicleType'].isna()), 'VehicleType'] = vtype"
   ]
  },
  {
   "cell_type": "code",
   "execution_count": 19,
   "metadata": {},
   "outputs": [
    {
     "data": {
      "text/plain": [
       "Price                   0\n",
       "VehicleType          6828\n",
       "RegistrationYear        0\n",
       "Gearbox             19833\n",
       "Power                   0\n",
       "Model               19705\n",
       "Kilometer               0\n",
       "FuelType            32895\n",
       "Brand                   0\n",
       "Repaired            71154\n",
       "dtype: int64"
      ]
     },
     "execution_count": 19,
     "metadata": {},
     "output_type": "execute_result"
    }
   ],
   "source": [
    "df.isna().sum()"
   ]
  },
  {
   "cell_type": "markdown",
   "metadata": {},
   "source": [
    "Пропусков уже меньше. Оставшиеся лучше удалить – в них неизвестны ни тип кузова, ни модель. Такие данные будут неинформативными."
   ]
  },
  {
   "cell_type": "code",
   "execution_count": 20,
   "metadata": {},
   "outputs": [],
   "source": [
    "df = df[df['VehicleType'].isna() == False]"
   ]
  },
  {
   "cell_type": "code",
   "execution_count": 21,
   "metadata": {
    "scrolled": true
   },
   "outputs": [
    {
     "data": {
      "text/plain": [
       "Price                   0\n",
       "VehicleType             0\n",
       "RegistrationYear        0\n",
       "Gearbox             16821\n",
       "Power                   0\n",
       "Model               12877\n",
       "Kilometer               0\n",
       "FuelType            28581\n",
       "Brand                   0\n",
       "Repaired            66678\n",
       "dtype: int64"
      ]
     },
     "execution_count": 21,
     "metadata": {},
     "output_type": "execute_result"
    }
   ],
   "source": [
    "df.isna().sum()"
   ]
  },
  {
   "cell_type": "markdown",
   "metadata": {},
   "source": [
    "И в других столбцах стало значительно меньше пропусков"
   ]
  },
  {
   "cell_type": "markdown",
   "metadata": {},
   "source": [
    "**Gearbox**"
   ]
  },
  {
   "cell_type": "code",
   "execution_count": 22,
   "metadata": {},
   "outputs": [
    {
     "data": {
      "text/plain": [
       "Gearbox\n",
       "auto       65638\n",
       "manual    265082\n",
       "Name: Gearbox, dtype: int64"
      ]
     },
     "execution_count": 22,
     "metadata": {},
     "output_type": "execute_result"
    }
   ],
   "source": [
    "df.groupby('Gearbox')['Gearbox'].count()"
   ]
  },
  {
   "cell_type": "code",
   "execution_count": 23,
   "metadata": {},
   "outputs": [],
   "source": [
    "df_top = df.copy()\n",
    "for model in df.loc[df['Model'].isna() == False,'Model'].unique():\n",
    "    df_top.loc[df_top['Model'] == model,'Gearbox'] = df[df['Model'] == model].groupby('Gearbox')['Gearbox'].count().sort_values(ascending=False).head(1).index[0]\n",
    "    \n",
    "dic = {}\n",
    "for vtype in df.loc[df['Gearbox'].isna() == False, 'Gearbox'].unique():\n",
    "    dic[str(vtype)] = df_top.loc[(df_top['Model'].isna() == False) & (df_top['Gearbox'] == vtype), 'Model'].unique()\n",
    "    \n",
    "for vtype in df.loc[df['Gearbox'].isna() == False, 'Gearbox'].unique():\n",
    "    df.loc[(df['Model'].isin(dic[str(vtype)])) & (df['Gearbox'].isna()), 'Gearbox'] = vtype"
   ]
  },
  {
   "cell_type": "code",
   "execution_count": 24,
   "metadata": {
    "scrolled": true
   },
   "outputs": [
    {
     "data": {
      "text/plain": [
       "Price                   0\n",
       "VehicleType             0\n",
       "RegistrationYear        0\n",
       "Gearbox              1119\n",
       "Power                   0\n",
       "Model               12877\n",
       "Kilometer               0\n",
       "FuelType            28581\n",
       "Brand                   0\n",
       "Repaired            66678\n",
       "dtype: int64"
      ]
     },
     "execution_count": 24,
     "metadata": {},
     "output_type": "execute_result"
    }
   ],
   "source": [
    "df.isna().sum()"
   ]
  },
  {
   "cell_type": "markdown",
   "metadata": {},
   "source": [
    "Пропуски остались из-за неизвестных моделей, туда уже ничего не остается, кроме как поставить механику \n"
   ]
  },
  {
   "cell_type": "code",
   "execution_count": 25,
   "metadata": {},
   "outputs": [],
   "source": [
    "df.loc[df['Gearbox'].isna(), 'Gearbox'] = 'manual'"
   ]
  },
  {
   "cell_type": "markdown",
   "metadata": {},
   "source": [
    "**Model**"
   ]
  },
  {
   "cell_type": "code",
   "execution_count": 26,
   "metadata": {
    "scrolled": false
   },
   "outputs": [
    {
     "data": {
      "text/html": [
       "<div>\n",
       "<style scoped>\n",
       "    .dataframe tbody tr th:only-of-type {\n",
       "        vertical-align: middle;\n",
       "    }\n",
       "\n",
       "    .dataframe tbody tr th {\n",
       "        vertical-align: top;\n",
       "    }\n",
       "\n",
       "    .dataframe thead th {\n",
       "        text-align: right;\n",
       "    }\n",
       "</style>\n",
       "<table border=\"1\" class=\"dataframe\">\n",
       "  <thead>\n",
       "    <tr style=\"text-align: right;\">\n",
       "      <th></th>\n",
       "      <th>Price</th>\n",
       "      <th>VehicleType</th>\n",
       "      <th>RegistrationYear</th>\n",
       "      <th>Gearbox</th>\n",
       "      <th>Power</th>\n",
       "      <th>Model</th>\n",
       "      <th>Kilometer</th>\n",
       "      <th>FuelType</th>\n",
       "      <th>Brand</th>\n",
       "      <th>Repaired</th>\n",
       "    </tr>\n",
       "  </thead>\n",
       "  <tbody>\n",
       "    <tr>\n",
       "      <th>1</th>\n",
       "      <td>18300</td>\n",
       "      <td>coupe</td>\n",
       "      <td>2011</td>\n",
       "      <td>manual</td>\n",
       "      <td>190</td>\n",
       "      <td>NaN</td>\n",
       "      <td>125000</td>\n",
       "      <td>gasoline</td>\n",
       "      <td>audi</td>\n",
       "      <td>yes</td>\n",
       "    </tr>\n",
       "    <tr>\n",
       "      <th>59</th>\n",
       "      <td>1</td>\n",
       "      <td>suv</td>\n",
       "      <td>1994</td>\n",
       "      <td>manual</td>\n",
       "      <td>286</td>\n",
       "      <td>NaN</td>\n",
       "      <td>150000</td>\n",
       "      <td>NaN</td>\n",
       "      <td>sonstige_autos</td>\n",
       "      <td>NaN</td>\n",
       "    </tr>\n",
       "    <tr>\n",
       "      <th>81</th>\n",
       "      <td>350</td>\n",
       "      <td>small</td>\n",
       "      <td>1997</td>\n",
       "      <td>manual</td>\n",
       "      <td>54</td>\n",
       "      <td>NaN</td>\n",
       "      <td>150000</td>\n",
       "      <td>NaN</td>\n",
       "      <td>fiat</td>\n",
       "      <td>yes</td>\n",
       "    </tr>\n",
       "    <tr>\n",
       "      <th>115</th>\n",
       "      <td>0</td>\n",
       "      <td>small</td>\n",
       "      <td>1999</td>\n",
       "      <td>manual</td>\n",
       "      <td>0</td>\n",
       "      <td>NaN</td>\n",
       "      <td>5000</td>\n",
       "      <td>petrol</td>\n",
       "      <td>volkswagen</td>\n",
       "      <td>NaN</td>\n",
       "    </tr>\n",
       "    <tr>\n",
       "      <th>135</th>\n",
       "      <td>1450</td>\n",
       "      <td>sedan</td>\n",
       "      <td>1992</td>\n",
       "      <td>manual</td>\n",
       "      <td>136</td>\n",
       "      <td>NaN</td>\n",
       "      <td>150000</td>\n",
       "      <td>NaN</td>\n",
       "      <td>audi</td>\n",
       "      <td>no</td>\n",
       "    </tr>\n",
       "    <tr>\n",
       "      <th>...</th>\n",
       "      <td>...</td>\n",
       "      <td>...</td>\n",
       "      <td>...</td>\n",
       "      <td>...</td>\n",
       "      <td>...</td>\n",
       "      <td>...</td>\n",
       "      <td>...</td>\n",
       "      <td>...</td>\n",
       "      <td>...</td>\n",
       "      <td>...</td>\n",
       "    </tr>\n",
       "    <tr>\n",
       "      <th>354077</th>\n",
       "      <td>200</td>\n",
       "      <td>small</td>\n",
       "      <td>1998</td>\n",
       "      <td>manual</td>\n",
       "      <td>37</td>\n",
       "      <td>NaN</td>\n",
       "      <td>150000</td>\n",
       "      <td>petrol</td>\n",
       "      <td>volkswagen</td>\n",
       "      <td>yes</td>\n",
       "    </tr>\n",
       "    <tr>\n",
       "      <th>354080</th>\n",
       "      <td>4300</td>\n",
       "      <td>small</td>\n",
       "      <td>2008</td>\n",
       "      <td>auto</td>\n",
       "      <td>0</td>\n",
       "      <td>NaN</td>\n",
       "      <td>150000</td>\n",
       "      <td>NaN</td>\n",
       "      <td>honda</td>\n",
       "      <td>NaN</td>\n",
       "    </tr>\n",
       "    <tr>\n",
       "      <th>354234</th>\n",
       "      <td>5000</td>\n",
       "      <td>sedan</td>\n",
       "      <td>2002</td>\n",
       "      <td>auto</td>\n",
       "      <td>170</td>\n",
       "      <td>NaN</td>\n",
       "      <td>150000</td>\n",
       "      <td>petrol</td>\n",
       "      <td>audi</td>\n",
       "      <td>no</td>\n",
       "    </tr>\n",
       "    <tr>\n",
       "      <th>354245</th>\n",
       "      <td>560</td>\n",
       "      <td>small</td>\n",
       "      <td>2001</td>\n",
       "      <td>auto</td>\n",
       "      <td>170</td>\n",
       "      <td>NaN</td>\n",
       "      <td>90000</td>\n",
       "      <td>petrol</td>\n",
       "      <td>fiat</td>\n",
       "      <td>yes</td>\n",
       "    </tr>\n",
       "    <tr>\n",
       "      <th>354321</th>\n",
       "      <td>9400</td>\n",
       "      <td>wagon</td>\n",
       "      <td>2007</td>\n",
       "      <td>manual</td>\n",
       "      <td>200</td>\n",
       "      <td>NaN</td>\n",
       "      <td>150000</td>\n",
       "      <td>gasoline</td>\n",
       "      <td>sonstige_autos</td>\n",
       "      <td>yes</td>\n",
       "    </tr>\n",
       "  </tbody>\n",
       "</table>\n",
       "<p>12877 rows × 10 columns</p>\n",
       "</div>"
      ],
      "text/plain": [
       "        Price VehicleType  RegistrationYear Gearbox  Power Model  Kilometer  \\\n",
       "1       18300       coupe              2011  manual    190   NaN     125000   \n",
       "59          1         suv              1994  manual    286   NaN     150000   \n",
       "81        350       small              1997  manual     54   NaN     150000   \n",
       "115         0       small              1999  manual      0   NaN       5000   \n",
       "135      1450       sedan              1992  manual    136   NaN     150000   \n",
       "...       ...         ...               ...     ...    ...   ...        ...   \n",
       "354077    200       small              1998  manual     37   NaN     150000   \n",
       "354080   4300       small              2008    auto      0   NaN     150000   \n",
       "354234   5000       sedan              2002    auto    170   NaN     150000   \n",
       "354245    560       small              2001    auto    170   NaN      90000   \n",
       "354321   9400       wagon              2007  manual    200   NaN     150000   \n",
       "\n",
       "        FuelType           Brand Repaired  \n",
       "1       gasoline            audi      yes  \n",
       "59           NaN  sonstige_autos      NaN  \n",
       "81           NaN            fiat      yes  \n",
       "115       petrol      volkswagen      NaN  \n",
       "135          NaN            audi       no  \n",
       "...          ...             ...      ...  \n",
       "354077    petrol      volkswagen      yes  \n",
       "354080       NaN           honda      NaN  \n",
       "354234    petrol            audi       no  \n",
       "354245    petrol            fiat      yes  \n",
       "354321  gasoline  sonstige_autos      yes  \n",
       "\n",
       "[12877 rows x 10 columns]"
      ]
     },
     "execution_count": 26,
     "metadata": {},
     "output_type": "execute_result"
    }
   ],
   "source": [
    "df[df['Model'].isna()]\n"
   ]
  },
  {
   "cell_type": "markdown",
   "metadata": {},
   "source": [
    "Неуказанную модель восстановить мы никак не можем, так что поставим заглушку"
   ]
  },
  {
   "cell_type": "code",
   "execution_count": 27,
   "metadata": {},
   "outputs": [],
   "source": [
    "df.loc[df['Model'].isna(), 'Model'] = 'unspecified'"
   ]
  },
  {
   "cell_type": "code",
   "execution_count": 28,
   "metadata": {},
   "outputs": [
    {
     "data": {
      "text/plain": [
       "Price                   0\n",
       "VehicleType             0\n",
       "RegistrationYear        0\n",
       "Gearbox                 0\n",
       "Power                   0\n",
       "Model                   0\n",
       "Kilometer               0\n",
       "FuelType            28581\n",
       "Brand                   0\n",
       "Repaired            66678\n",
       "dtype: int64"
      ]
     },
     "execution_count": 28,
     "metadata": {},
     "output_type": "execute_result"
    }
   ],
   "source": [
    "df.isna().sum()"
   ]
  },
  {
   "cell_type": "markdown",
   "metadata": {},
   "source": [
    "**FuelType**"
   ]
  },
  {
   "cell_type": "code",
   "execution_count": 29,
   "metadata": {
    "scrolled": true
   },
   "outputs": [
    {
     "data": {
      "text/plain": [
       "FuelType\n",
       "cng            557\n",
       "electric        89\n",
       "gasoline     98085\n",
       "hybrid         232\n",
       "lpg           5262\n",
       "other          187\n",
       "petrol      214548\n",
       "Name: FuelType, dtype: int64"
      ]
     },
     "execution_count": 29,
     "metadata": {},
     "output_type": "execute_result"
    }
   ],
   "source": [
    "df.groupby('FuelType')['FuelType'].count()"
   ]
  },
  {
   "cell_type": "markdown",
   "metadata": {},
   "source": [
    "тут уже присутствует unspecified, его и добавим"
   ]
  },
  {
   "cell_type": "code",
   "execution_count": 30,
   "metadata": {
    "scrolled": true
   },
   "outputs": [],
   "source": [
    "df.loc[df['FuelType'].isna(), 'FuelType'] = 'unspecified'"
   ]
  },
  {
   "cell_type": "code",
   "execution_count": 31,
   "metadata": {},
   "outputs": [
    {
     "data": {
      "text/plain": [
       "Price                   0\n",
       "VehicleType             0\n",
       "RegistrationYear        0\n",
       "Gearbox                 0\n",
       "Power                   0\n",
       "Model                   0\n",
       "Kilometer               0\n",
       "FuelType                0\n",
       "Brand                   0\n",
       "Repaired            66678\n",
       "dtype: int64"
      ]
     },
     "execution_count": 31,
     "metadata": {},
     "output_type": "execute_result"
    }
   ],
   "source": [
    "df.isna().sum()"
   ]
  },
  {
   "cell_type": "markdown",
   "metadata": {},
   "source": [
    "**Repaired**"
   ]
  },
  {
   "cell_type": "code",
   "execution_count": 32,
   "metadata": {},
   "outputs": [
    {
     "data": {
      "text/plain": [
       "Repaired\n",
       "no     245383\n",
       "yes     35480\n",
       "Name: Repaired, dtype: int64"
      ]
     },
     "execution_count": 32,
     "metadata": {},
     "output_type": "execute_result"
    }
   ],
   "source": [
    "df.groupby('Repaired')['Repaired'].count()"
   ]
  },
  {
   "cell_type": "code",
   "execution_count": 33,
   "metadata": {},
   "outputs": [],
   "source": [
    "df.loc[df['Repaired'].isna(), 'Repaired'] = 'unspecified'"
   ]
  },
  {
   "cell_type": "code",
   "execution_count": 34,
   "metadata": {
    "scrolled": true
   },
   "outputs": [
    {
     "data": {
      "text/plain": [
       "Price               0\n",
       "VehicleType         0\n",
       "RegistrationYear    0\n",
       "Gearbox             0\n",
       "Power               0\n",
       "Model               0\n",
       "Kilometer           0\n",
       "FuelType            0\n",
       "Brand               0\n",
       "Repaired            0\n",
       "dtype: int64"
      ]
     },
     "execution_count": 34,
     "metadata": {},
     "output_type": "execute_result"
    }
   ],
   "source": [
    "df.isna().sum()"
   ]
  },
  {
   "cell_type": "markdown",
   "metadata": {},
   "source": [
    "Теперь в наших данных нет пропусков"
   ]
  },
  {
   "cell_type": "markdown",
   "metadata": {},
   "source": [
    "### Аномалии"
   ]
  },
  {
   "cell_type": "markdown",
   "metadata": {},
   "source": [
    "Аномалии появляются в числовых признаках"
   ]
  },
  {
   "cell_type": "code",
   "execution_count": 35,
   "metadata": {},
   "outputs": [],
   "source": [
    "numeric = ['Price', 'RegistrationYear', 'Power', 'Kilometer']"
   ]
  },
  {
   "cell_type": "code",
   "execution_count": 36,
   "metadata": {},
   "outputs": [
    {
     "name": "stdout",
     "output_type": "stream",
     "text": [
      "<class 'pandas.core.frame.DataFrame'>\n",
      "Int64Index: 347541 entries, 0 to 354368\n",
      "Data columns (total 10 columns):\n",
      " #   Column            Non-Null Count   Dtype \n",
      "---  ------            --------------   ----- \n",
      " 0   Price             347541 non-null  int64 \n",
      " 1   VehicleType       347541 non-null  object\n",
      " 2   RegistrationYear  347541 non-null  int64 \n",
      " 3   Gearbox           347541 non-null  object\n",
      " 4   Power             347541 non-null  int64 \n",
      " 5   Model             347541 non-null  object\n",
      " 6   Kilometer         347541 non-null  int64 \n",
      " 7   FuelType          347541 non-null  object\n",
      " 8   Brand             347541 non-null  object\n",
      " 9   Repaired          347541 non-null  object\n",
      "dtypes: int64(4), object(6)\n",
      "memory usage: 29.2+ MB\n"
     ]
    }
   ],
   "source": [
    "df.info()"
   ]
  },
  {
   "cell_type": "markdown",
   "metadata": {},
   "source": [
    "Постараемся исключить выбивающиеся, неадекватные значения"
   ]
  },
  {
   "cell_type": "code",
   "execution_count": 37,
   "metadata": {},
   "outputs": [],
   "source": [
    "def plot_param(df, param):\n",
    "    fig = go.Figure()\n",
    "    fig.add_trace(go.Histogram(\n",
    "    x=df[param],\n",
    "    nbinsx=50,\n",
    "    autobinx=False,\n",
    "    name=param))\n",
    "    fig.update_layout(title=f\"Распределение параметра {param}\")\n",
    "    fig.show(\"svg\")"
   ]
  },
  {
   "cell_type": "code",
   "execution_count": 38,
   "metadata": {
    "scrolled": true
   },
   "outputs": [
    {
     "data": {
      "image/svg+xml": [
       "<svg class=\"main-svg\" xmlns=\"http://www.w3.org/2000/svg\" xmlns:xlink=\"http://www.w3.org/1999/xlink\" width=\"700\" height=\"500\" style=\"\" viewBox=\"0 0 700 500\"><rect x=\"0\" y=\"0\" width=\"700\" height=\"500\" style=\"fill: rgb(255, 255, 255); fill-opacity: 1;\"/><defs id=\"defs-b8a05e\"><g class=\"clips\"><clipPath id=\"clipb8a05exyplot\" class=\"plotclip\"><rect width=\"540\" height=\"320\"/></clipPath><clipPath class=\"axesclip\" id=\"clipb8a05ex\"><rect x=\"80\" y=\"0\" width=\"540\" height=\"500\"/></clipPath><clipPath class=\"axesclip\" id=\"clipb8a05ey\"><rect x=\"0\" y=\"100\" width=\"700\" height=\"320\"/></clipPath><clipPath class=\"axesclip\" id=\"clipb8a05exy\"><rect x=\"80\" y=\"100\" width=\"540\" height=\"320\"/></clipPath></g><g class=\"gradients\"/><g class=\"patterns\"/></defs><g class=\"bglayer\"><rect class=\"bg\" x=\"80\" y=\"100\" width=\"540\" height=\"320\" style=\"fill: rgb(229, 236, 246); fill-opacity: 1; stroke-width: 0;\"/></g><g class=\"layer-below\"><g class=\"imagelayer\"/><g class=\"shapelayer\"/></g><g class=\"cartesianlayer\"><g class=\"subplot xy\"><g class=\"layer-subplot\"><g class=\"shapelayer\"/><g class=\"imagelayer\"/></g><g class=\"minor-gridlayer\"><g class=\"x\"/><g class=\"y\"/></g><g class=\"gridlayer\"><g class=\"x\"/><g class=\"y\"><path class=\"ygrid crisp\" transform=\"translate(0,354.08000000000004)\" d=\"M80,0h540\" style=\"stroke: rgb(255, 255, 255); stroke-opacity: 1; stroke-width: 1px;\"/><path class=\"ygrid crisp\" transform=\"translate(0,288.15999999999997)\" d=\"M80,0h540\" style=\"stroke: rgb(255, 255, 255); stroke-opacity: 1; stroke-width: 1px;\"/><path class=\"ygrid crisp\" transform=\"translate(0,222.25)\" d=\"M80,0h540\" style=\"stroke: rgb(255, 255, 255); stroke-opacity: 1; stroke-width: 1px;\"/><path class=\"ygrid crisp\" transform=\"translate(0,156.32999999999998)\" d=\"M80,0h540\" style=\"stroke: rgb(255, 255, 255); stroke-opacity: 1; stroke-width: 1px;\"/></g></g><g class=\"zerolinelayer\"><path class=\"yzl zl crisp\" transform=\"translate(0,420)\" d=\"M80,0h540\" style=\"stroke: rgb(255, 255, 255); stroke-opacity: 1; stroke-width: 2px;\"/></g><path class=\"xlines-below\"/><path class=\"ylines-below\"/><g class=\"overlines-below\"/><g class=\"xaxislayer-below\"/><g class=\"yaxislayer-below\"/><g class=\"overaxes-below\"/><g class=\"plot\" transform=\"translate(80,100)\" clip-path=\"url(#clipb8a05exyplot)\"><g class=\"barlayer mlayer\"><g class=\"trace bars\" shape-rendering=\"crispEdges\" style=\"opacity: 1;\"><g class=\"points\"><g class=\"point\"><path d=\"M0,320V98.92H13.17V320Z\" style=\"vector-effect: non-scaling-stroke; opacity: 1; stroke-width: 0px; fill: rgb(99, 110, 250); fill-opacity: 1;\"/></g><g class=\"point\"><path d=\"M13.17,320V16H26.34V320Z\" style=\"vector-effect: non-scaling-stroke; opacity: 1; stroke-width: 0px; fill: rgb(99, 110, 250); fill-opacity: 1;\"/></g><g class=\"point\"><path d=\"M26.34,320V106.74H39.51V320Z\" style=\"vector-effect: non-scaling-stroke; opacity: 1; stroke-width: 0px; fill: rgb(99, 110, 250); fill-opacity: 1;\"/></g><g class=\"point\"><path d=\"M39.51,320V119.75H52.68V320Z\" style=\"vector-effect: non-scaling-stroke; opacity: 1; stroke-width: 0px; fill: rgb(99, 110, 250); fill-opacity: 1;\"/></g><g class=\"point\"><path d=\"M52.68,320V191.73H65.85V320Z\" style=\"vector-effect: non-scaling-stroke; opacity: 1; stroke-width: 0px; fill: rgb(99, 110, 250); fill-opacity: 1;\"/></g><g class=\"point\"><path d=\"M65.85,320V176.5H79.02V320Z\" style=\"vector-effect: non-scaling-stroke; opacity: 1; stroke-width: 0px; fill: rgb(99, 110, 250); fill-opacity: 1;\"/></g><g class=\"point\"><path d=\"M79.02,320V230.28H92.2V320Z\" style=\"vector-effect: non-scaling-stroke; opacity: 1; stroke-width: 0px; fill: rgb(99, 110, 250); fill-opacity: 1;\"/></g><g class=\"point\"><path d=\"M92.2,320V207.85H105.37V320Z\" style=\"vector-effect: non-scaling-stroke; opacity: 1; stroke-width: 0px; fill: rgb(99, 110, 250); fill-opacity: 1;\"/></g><g class=\"point\"><path d=\"M105.37,320V255.94H118.54V320Z\" style=\"vector-effect: non-scaling-stroke; opacity: 1; stroke-width: 0px; fill: rgb(99, 110, 250); fill-opacity: 1;\"/></g><g class=\"point\"><path d=\"M118.54,320V236.01H131.71V320Z\" style=\"vector-effect: non-scaling-stroke; opacity: 1; stroke-width: 0px; fill: rgb(99, 110, 250); fill-opacity: 1;\"/></g><g class=\"point\"><path d=\"M131.71,320V272.72H144.88V320Z\" style=\"vector-effect: non-scaling-stroke; opacity: 1; stroke-width: 0px; fill: rgb(99, 110, 250); fill-opacity: 1;\"/></g><g class=\"point\"><path d=\"M144.88,320V249.32H158.05V320Z\" style=\"vector-effect: non-scaling-stroke; opacity: 1; stroke-width: 0px; fill: rgb(99, 110, 250); fill-opacity: 1;\"/></g><g class=\"point\"><path d=\"M158.05,320V278.52H171.22V320Z\" style=\"vector-effect: non-scaling-stroke; opacity: 1; stroke-width: 0px; fill: rgb(99, 110, 250); fill-opacity: 1;\"/></g><g class=\"point\"><path d=\"M171.22,320V257.44H184.39V320Z\" style=\"vector-effect: non-scaling-stroke; opacity: 1; stroke-width: 0px; fill: rgb(99, 110, 250); fill-opacity: 1;\"/></g><g class=\"point\"><path d=\"M184.39,320V286.97H197.56V320Z\" style=\"vector-effect: non-scaling-stroke; opacity: 1; stroke-width: 0px; fill: rgb(99, 110, 250); fill-opacity: 1;\"/></g><g class=\"point\"><path d=\"M197.56,320V269.57H210.73V320Z\" style=\"vector-effect: non-scaling-stroke; opacity: 1; stroke-width: 0px; fill: rgb(99, 110, 250); fill-opacity: 1;\"/></g><g class=\"point\"><path d=\"M210.73,320V291.98H223.9V320Z\" style=\"vector-effect: non-scaling-stroke; opacity: 1; stroke-width: 0px; fill: rgb(99, 110, 250); fill-opacity: 1;\"/></g><g class=\"point\"><path d=\"M223.9,320V274.83H237.07V320Z\" style=\"vector-effect: non-scaling-stroke; opacity: 1; stroke-width: 0px; fill: rgb(99, 110, 250); fill-opacity: 1;\"/></g><g class=\"point\"><path d=\"M237.07,320V298.53H250.24V320Z\" style=\"vector-effect: non-scaling-stroke; opacity: 1; stroke-width: 0px; fill: rgb(99, 110, 250); fill-opacity: 1;\"/></g><g class=\"point\"><path d=\"M250.24,320V278.72H263.41V320Z\" style=\"vector-effect: non-scaling-stroke; opacity: 1; stroke-width: 0px; fill: rgb(99, 110, 250); fill-opacity: 1;\"/></g><g class=\"point\"><path d=\"M263.41,320V305.03H276.59V320Z\" style=\"vector-effect: non-scaling-stroke; opacity: 1; stroke-width: 0px; fill: rgb(99, 110, 250); fill-opacity: 1;\"/></g><g class=\"point\"><path d=\"M276.59,320V289.84H289.76V320Z\" style=\"vector-effect: non-scaling-stroke; opacity: 1; stroke-width: 0px; fill: rgb(99, 110, 250); fill-opacity: 1;\"/></g><g class=\"point\"><path d=\"M289.76,320V306.16H302.93V320Z\" style=\"vector-effect: non-scaling-stroke; opacity: 1; stroke-width: 0px; fill: rgb(99, 110, 250); fill-opacity: 1;\"/></g><g class=\"point\"><path d=\"M302.93,320V294.73H316.1V320Z\" style=\"vector-effect: non-scaling-stroke; opacity: 1; stroke-width: 0px; fill: rgb(99, 110, 250); fill-opacity: 1;\"/></g><g class=\"point\"><path d=\"M316.1,320V306.49H329.27V320Z\" style=\"vector-effect: non-scaling-stroke; opacity: 1; stroke-width: 0px; fill: rgb(99, 110, 250); fill-opacity: 1;\"/></g><g class=\"point\"><path d=\"M329.27,320V294.38H342.44V320Z\" style=\"vector-effect: non-scaling-stroke; opacity: 1; stroke-width: 0px; fill: rgb(99, 110, 250); fill-opacity: 1;\"/></g><g class=\"point\"><path d=\"M342.44,320V308.79H355.61V320Z\" style=\"vector-effect: non-scaling-stroke; opacity: 1; stroke-width: 0px; fill: rgb(99, 110, 250); fill-opacity: 1;\"/></g><g class=\"point\"><path d=\"M355.61,320V297.71H368.78V320Z\" style=\"vector-effect: non-scaling-stroke; opacity: 1; stroke-width: 0px; fill: rgb(99, 110, 250); fill-opacity: 1;\"/></g><g class=\"point\"><path d=\"M368.78,320V310.32H381.95V320Z\" style=\"vector-effect: non-scaling-stroke; opacity: 1; stroke-width: 0px; fill: rgb(99, 110, 250); fill-opacity: 1;\"/></g><g class=\"point\"><path d=\"M381.95,320V298.85H395.12V320Z\" style=\"vector-effect: non-scaling-stroke; opacity: 1; stroke-width: 0px; fill: rgb(99, 110, 250); fill-opacity: 1;\"/></g><g class=\"point\"><path d=\"M395.12,320V310.88H408.29V320Z\" style=\"vector-effect: non-scaling-stroke; opacity: 1; stroke-width: 0px; fill: rgb(99, 110, 250); fill-opacity: 1;\"/></g><g class=\"point\"><path d=\"M408.29,320V303.22H421.46V320Z\" style=\"vector-effect: non-scaling-stroke; opacity: 1; stroke-width: 0px; fill: rgb(99, 110, 250); fill-opacity: 1;\"/></g><g class=\"point\"><path d=\"M421.46,320V312.76H434.63V320Z\" style=\"vector-effect: non-scaling-stroke; opacity: 1; stroke-width: 0px; fill: rgb(99, 110, 250); fill-opacity: 1;\"/></g><g class=\"point\"><path d=\"M434.63,320V304.18H447.8V320Z\" style=\"vector-effect: non-scaling-stroke; opacity: 1; stroke-width: 0px; fill: rgb(99, 110, 250); fill-opacity: 1;\"/></g><g class=\"point\"><path d=\"M447.8,320V313.69H460.98V320Z\" style=\"vector-effect: non-scaling-stroke; opacity: 1; stroke-width: 0px; fill: rgb(99, 110, 250); fill-opacity: 1;\"/></g><g class=\"point\"><path d=\"M460.98,320V307.36H474.15V320Z\" style=\"vector-effect: non-scaling-stroke; opacity: 1; stroke-width: 0px; fill: rgb(99, 110, 250); fill-opacity: 1;\"/></g><g class=\"point\"><path d=\"M474.15,320V314.66H487.32V320Z\" style=\"vector-effect: non-scaling-stroke; opacity: 1; stroke-width: 0px; fill: rgb(99, 110, 250); fill-opacity: 1;\"/></g><g class=\"point\"><path d=\"M487.32,320V309.2H500.49V320Z\" style=\"vector-effect: non-scaling-stroke; opacity: 1; stroke-width: 0px; fill: rgb(99, 110, 250); fill-opacity: 1;\"/></g><g class=\"point\"><path d=\"M500.49,320V315.99H513.66V320Z\" style=\"vector-effect: non-scaling-stroke; opacity: 1; stroke-width: 0px; fill: rgb(99, 110, 250); fill-opacity: 1;\"/></g><g class=\"point\"><path d=\"M513.66,320V308.25H526.83V320Z\" style=\"vector-effect: non-scaling-stroke; opacity: 1; stroke-width: 0px; fill: rgb(99, 110, 250); fill-opacity: 1;\"/></g><g class=\"point\"><path d=\"M526.83,320V318.27H540V320Z\" style=\"vector-effect: non-scaling-stroke; opacity: 1; stroke-width: 0px; fill: rgb(99, 110, 250); fill-opacity: 1;\"/></g></g></g></g></g><g class=\"overplot\"/><path class=\"xlines-above crisp\" d=\"M0,0\" style=\"fill: none;\"/><path class=\"ylines-above crisp\" d=\"M0,0\" style=\"fill: none;\"/><g class=\"overlines-above\"/><g class=\"xaxislayer-above\"><g class=\"xtick\"><text text-anchor=\"middle\" x=\"0\" y=\"433\" transform=\"translate(80.01,0)\" style=\"font-family: 'Open Sans', verdana, arial, sans-serif; font-size: 12px; fill: rgb(42, 63, 95); fill-opacity: 1; white-space: pre; opacity: 1;\">0</text></g><g class=\"xtick\"><text text-anchor=\"middle\" x=\"0\" y=\"433\" style=\"font-family: 'Open Sans', verdana, arial, sans-serif; font-size: 12px; fill: rgb(42, 63, 95); fill-opacity: 1; white-space: pre; opacity: 1;\" transform=\"translate(211.72,0)\">5k</text></g><g class=\"xtick\"><text text-anchor=\"middle\" x=\"0\" y=\"433\" style=\"font-family: 'Open Sans', verdana, arial, sans-serif; font-size: 12px; fill: rgb(42, 63, 95); fill-opacity: 1; white-space: pre; opacity: 1;\" transform=\"translate(343.43,0)\">10k</text></g><g class=\"xtick\"><text text-anchor=\"middle\" x=\"0\" y=\"433\" style=\"font-family: 'Open Sans', verdana, arial, sans-serif; font-size: 12px; fill: rgb(42, 63, 95); fill-opacity: 1; white-space: pre; opacity: 1;\" transform=\"translate(475.14,0)\">15k</text></g><g class=\"xtick\"><text text-anchor=\"middle\" x=\"0\" y=\"433\" style=\"font-family: 'Open Sans', verdana, arial, sans-serif; font-size: 12px; fill: rgb(42, 63, 95); fill-opacity: 1; white-space: pre; opacity: 1;\" transform=\"translate(606.84,0)\">20k</text></g></g><g class=\"yaxislayer-above\"><g class=\"ytick\"><text text-anchor=\"end\" x=\"79\" y=\"4.199999999999999\" transform=\"translate(0,420)\" style=\"font-family: 'Open Sans', verdana, arial, sans-serif; font-size: 12px; fill: rgb(42, 63, 95); fill-opacity: 1; white-space: pre; opacity: 1;\">0</text></g><g class=\"ytick\"><text text-anchor=\"end\" x=\"79\" y=\"4.199999999999999\" style=\"font-family: 'Open Sans', verdana, arial, sans-serif; font-size: 12px; fill: rgb(42, 63, 95); fill-opacity: 1; white-space: pre; opacity: 1;\" transform=\"translate(0,354.08000000000004)\">10k</text></g><g class=\"ytick\"><text text-anchor=\"end\" x=\"79\" y=\"4.199999999999999\" style=\"font-family: 'Open Sans', verdana, arial, sans-serif; font-size: 12px; fill: rgb(42, 63, 95); fill-opacity: 1; white-space: pre; opacity: 1;\" transform=\"translate(0,288.15999999999997)\">20k</text></g><g class=\"ytick\"><text text-anchor=\"end\" x=\"79\" y=\"4.199999999999999\" style=\"font-family: 'Open Sans', verdana, arial, sans-serif; font-size: 12px; fill: rgb(42, 63, 95); fill-opacity: 1; white-space: pre; opacity: 1;\" transform=\"translate(0,222.25)\">30k</text></g><g class=\"ytick\"><text text-anchor=\"end\" x=\"79\" y=\"4.199999999999999\" style=\"font-family: 'Open Sans', verdana, arial, sans-serif; font-size: 12px; fill: rgb(42, 63, 95); fill-opacity: 1; white-space: pre; opacity: 1;\" transform=\"translate(0,156.32999999999998)\">40k</text></g></g><g class=\"overaxes-above\"/></g></g><g class=\"polarlayer\"/><g class=\"smithlayer\"/><g class=\"ternarylayer\"/><g class=\"geolayer\"/><g class=\"funnelarealayer\"/><g class=\"pielayer\"/><g class=\"iciclelayer\"/><g class=\"treemaplayer\"/><g class=\"sunburstlayer\"/><g class=\"glimages\"/><defs id=\"topdefs-b8a05e\"><g class=\"clips\"/></defs><g class=\"layer-above\"><g class=\"imagelayer\"/><g class=\"shapelayer\"/></g><g class=\"infolayer\"><g class=\"g-gtitle\"><text class=\"gtitle\" x=\"35\" y=\"50\" text-anchor=\"start\" dy=\"0em\" style=\"font-family: 'Open Sans', verdana, arial, sans-serif; font-size: 17px; fill: rgb(42, 63, 95); opacity: 1; font-weight: normal; white-space: pre;\">Распределение параметра Price</text></g><g class=\"g-xtitle\"/><g class=\"g-ytitle\"/></g></svg>"
      ]
     },
     "metadata": {},
     "output_type": "display_data"
    },
    {
     "data": {
      "image/svg+xml": [
       "<svg class=\"main-svg\" xmlns=\"http://www.w3.org/2000/svg\" xmlns:xlink=\"http://www.w3.org/1999/xlink\" width=\"700\" height=\"500\" style=\"\" viewBox=\"0 0 700 500\"><rect x=\"0\" y=\"0\" width=\"700\" height=\"500\" style=\"fill: rgb(255, 255, 255); fill-opacity: 1;\"/><defs id=\"defs-10b629\"><g class=\"clips\"><clipPath id=\"clip10b629xyplot\" class=\"plotclip\"><rect width=\"540\" height=\"320\"/></clipPath><clipPath class=\"axesclip\" id=\"clip10b629x\"><rect x=\"80\" y=\"0\" width=\"540\" height=\"500\"/></clipPath><clipPath class=\"axesclip\" id=\"clip10b629y\"><rect x=\"0\" y=\"100\" width=\"700\" height=\"320\"/></clipPath><clipPath class=\"axesclip\" id=\"clip10b629xy\"><rect x=\"80\" y=\"100\" width=\"540\" height=\"320\"/></clipPath></g><g class=\"gradients\"/><g class=\"patterns\"/></defs><g class=\"bglayer\"><rect class=\"bg\" x=\"80\" y=\"100\" width=\"540\" height=\"320\" style=\"fill: rgb(229, 236, 246); fill-opacity: 1; stroke-width: 0;\"/></g><g class=\"layer-below\"><g class=\"imagelayer\"/><g class=\"shapelayer\"/></g><g class=\"cartesianlayer\"><g class=\"subplot xy\"><g class=\"layer-subplot\"><g class=\"shapelayer\"/><g class=\"imagelayer\"/></g><g class=\"minor-gridlayer\"><g class=\"x\"/><g class=\"y\"/></g><g class=\"gridlayer\"><g class=\"x\"/><g class=\"y\"><path class=\"ygrid crisp\" transform=\"translate(0,358.32)\" d=\"M80,0h540\" style=\"stroke: rgb(255, 255, 255); stroke-opacity: 1; stroke-width: 1px;\"/><path class=\"ygrid crisp\" transform=\"translate(0,296.64)\" d=\"M80,0h540\" style=\"stroke: rgb(255, 255, 255); stroke-opacity: 1; stroke-width: 1px;\"/><path class=\"ygrid crisp\" transform=\"translate(0,234.95)\" d=\"M80,0h540\" style=\"stroke: rgb(255, 255, 255); stroke-opacity: 1; stroke-width: 1px;\"/><path class=\"ygrid crisp\" transform=\"translate(0,173.26999999999998)\" d=\"M80,0h540\" style=\"stroke: rgb(255, 255, 255); stroke-opacity: 1; stroke-width: 1px;\"/><path class=\"ygrid crisp\" transform=\"translate(0,111.59)\" d=\"M80,0h540\" style=\"stroke: rgb(255, 255, 255); stroke-opacity: 1; stroke-width: 1px;\"/></g></g><g class=\"zerolinelayer\"><path class=\"yzl zl crisp\" transform=\"translate(0,420)\" d=\"M80,0h540\" style=\"stroke: rgb(255, 255, 255); stroke-opacity: 1; stroke-width: 2px;\"/></g><path class=\"xlines-below\"/><path class=\"ylines-below\"/><g class=\"overlines-below\"/><g class=\"xaxislayer-below\"/><g class=\"yaxislayer-below\"/><g class=\"overaxes-below\"/><g class=\"plot\" transform=\"translate(80,100)\" clip-path=\"url(#clip10b629xyplot)\"><g class=\"barlayer mlayer\"><g class=\"trace bars\" shape-rendering=\"crispEdges\" style=\"opacity: 1;\"><g class=\"points\"><g class=\"point\"><path d=\"M0,320V319.98H12V320Z\" style=\"vector-effect: non-scaling-stroke; opacity: 1; stroke-width: 0px; fill: rgb(99, 110, 250); fill-opacity: 1;\"/></g><g class=\"point\"><path d=\"M12,320V319.99H24V320Z\" style=\"vector-effect: non-scaling-stroke; opacity: 1; stroke-width: 0px; fill: rgb(99, 110, 250); fill-opacity: 1;\"/></g><g class=\"point\"><path d=\"M0,0Z\" style=\"vector-effect: non-scaling-stroke; opacity: 1; stroke-width: 0px; fill: rgb(99, 110, 250); fill-opacity: 1;\"/></g><g class=\"point\"><path d=\"M0,0Z\" style=\"vector-effect: non-scaling-stroke; opacity: 1; stroke-width: 0px; fill: rgb(99, 110, 250); fill-opacity: 1;\"/></g><g class=\"point\"><path d=\"M48,320V195.37H60V320Z\" style=\"vector-effect: non-scaling-stroke; opacity: 1; stroke-width: 0px; fill: rgb(99, 110, 250); fill-opacity: 1;\"/></g><g class=\"point\"><path d=\"M60,320V16H72V320Z\" style=\"vector-effect: non-scaling-stroke; opacity: 1; stroke-width: 0px; fill: rgb(99, 110, 250); fill-opacity: 1;\"/></g><g class=\"point\"><path d=\"M0,0Z\" style=\"vector-effect: non-scaling-stroke; opacity: 1; stroke-width: 0px; fill: rgb(99, 110, 250); fill-opacity: 1;\"/></g><g class=\"point\"><path d=\"M0,0Z\" style=\"vector-effect: non-scaling-stroke; opacity: 1; stroke-width: 0px; fill: rgb(99, 110, 250); fill-opacity: 1;\"/></g><g class=\"point\"><path d=\"M0,0Z\" style=\"vector-effect: non-scaling-stroke; opacity: 1; stroke-width: 0px; fill: rgb(99, 110, 250); fill-opacity: 1;\"/></g><g class=\"point\"><path d=\"M0,0Z\" style=\"vector-effect: non-scaling-stroke; opacity: 1; stroke-width: 0px; fill: rgb(99, 110, 250); fill-opacity: 1;\"/></g><g class=\"point\"><path d=\"M120,320V319.99H132V320Z\" style=\"vector-effect: non-scaling-stroke; opacity: 1; stroke-width: 0px; fill: rgb(99, 110, 250); fill-opacity: 1;\"/></g><g class=\"point\"><path d=\"M0,0Z\" style=\"vector-effect: non-scaling-stroke; opacity: 1; stroke-width: 0px; fill: rgb(99, 110, 250); fill-opacity: 1;\"/></g><g class=\"point\"><path d=\"M0,0Z\" style=\"vector-effect: non-scaling-stroke; opacity: 1; stroke-width: 0px; fill: rgb(99, 110, 250); fill-opacity: 1;\"/></g><g class=\"point\"><path d=\"M0,0Z\" style=\"vector-effect: non-scaling-stroke; opacity: 1; stroke-width: 0px; fill: rgb(99, 110, 250); fill-opacity: 1;\"/></g><g class=\"point\"><path d=\"M0,0Z\" style=\"vector-effect: non-scaling-stroke; opacity: 1; stroke-width: 0px; fill: rgb(99, 110, 250); fill-opacity: 1;\"/></g><g class=\"point\"><path d=\"M0,0Z\" style=\"vector-effect: non-scaling-stroke; opacity: 1; stroke-width: 0px; fill: rgb(99, 110, 250); fill-opacity: 1;\"/></g><g class=\"point\"><path d=\"M0,0Z\" style=\"vector-effect: non-scaling-stroke; opacity: 1; stroke-width: 0px; fill: rgb(99, 110, 250); fill-opacity: 1;\"/></g><g class=\"point\"><path d=\"M0,0Z\" style=\"vector-effect: non-scaling-stroke; opacity: 1; stroke-width: 0px; fill: rgb(99, 110, 250); fill-opacity: 1;\"/></g><g class=\"point\"><path d=\"M0,0Z\" style=\"vector-effect: non-scaling-stroke; opacity: 1; stroke-width: 0px; fill: rgb(99, 110, 250); fill-opacity: 1;\"/></g><g class=\"point\"><path d=\"M0,0Z\" style=\"vector-effect: non-scaling-stroke; opacity: 1; stroke-width: 0px; fill: rgb(99, 110, 250); fill-opacity: 1;\"/></g><g class=\"point\"><path d=\"M240,320V319.98H252V320Z\" style=\"vector-effect: non-scaling-stroke; opacity: 1; stroke-width: 0px; fill: rgb(99, 110, 250); fill-opacity: 1;\"/></g><g class=\"point\"><path d=\"M0,0Z\" style=\"vector-effect: non-scaling-stroke; opacity: 1; stroke-width: 0px; fill: rgb(99, 110, 250); fill-opacity: 1;\"/></g><g class=\"point\"><path d=\"M0,0Z\" style=\"vector-effect: non-scaling-stroke; opacity: 1; stroke-width: 0px; fill: rgb(99, 110, 250); fill-opacity: 1;\"/></g><g class=\"point\"><path d=\"M0,0Z\" style=\"vector-effect: non-scaling-stroke; opacity: 1; stroke-width: 0px; fill: rgb(99, 110, 250); fill-opacity: 1;\"/></g><g class=\"point\"><path d=\"M0,0Z\" style=\"vector-effect: non-scaling-stroke; opacity: 1; stroke-width: 0px; fill: rgb(99, 110, 250); fill-opacity: 1;\"/></g><g class=\"point\"><path d=\"M0,0Z\" style=\"vector-effect: non-scaling-stroke; opacity: 1; stroke-width: 0px; fill: rgb(99, 110, 250); fill-opacity: 1;\"/></g><g class=\"point\"><path d=\"M0,0Z\" style=\"vector-effect: non-scaling-stroke; opacity: 1; stroke-width: 0px; fill: rgb(99, 110, 250); fill-opacity: 1;\"/></g><g class=\"point\"><path d=\"M0,0Z\" style=\"vector-effect: non-scaling-stroke; opacity: 1; stroke-width: 0px; fill: rgb(99, 110, 250); fill-opacity: 1;\"/></g><g class=\"point\"><path d=\"M0,0Z\" style=\"vector-effect: non-scaling-stroke; opacity: 1; stroke-width: 0px; fill: rgb(99, 110, 250); fill-opacity: 1;\"/></g><g class=\"point\"><path d=\"M0,0Z\" style=\"vector-effect: non-scaling-stroke; opacity: 1; stroke-width: 0px; fill: rgb(99, 110, 250); fill-opacity: 1;\"/></g><g class=\"point\"><path d=\"M0,0Z\" style=\"vector-effect: non-scaling-stroke; opacity: 1; stroke-width: 0px; fill: rgb(99, 110, 250); fill-opacity: 1;\"/></g><g class=\"point\"><path d=\"M0,0Z\" style=\"vector-effect: non-scaling-stroke; opacity: 1; stroke-width: 0px; fill: rgb(99, 110, 250); fill-opacity: 1;\"/></g><g class=\"point\"><path d=\"M0,0Z\" style=\"vector-effect: non-scaling-stroke; opacity: 1; stroke-width: 0px; fill: rgb(99, 110, 250); fill-opacity: 1;\"/></g><g class=\"point\"><path d=\"M0,0Z\" style=\"vector-effect: non-scaling-stroke; opacity: 1; stroke-width: 0px; fill: rgb(99, 110, 250); fill-opacity: 1;\"/></g><g class=\"point\"><path d=\"M0,0Z\" style=\"vector-effect: non-scaling-stroke; opacity: 1; stroke-width: 0px; fill: rgb(99, 110, 250); fill-opacity: 1;\"/></g><g class=\"point\"><path d=\"M0,0Z\" style=\"vector-effect: non-scaling-stroke; opacity: 1; stroke-width: 0px; fill: rgb(99, 110, 250); fill-opacity: 1;\"/></g><g class=\"point\"><path d=\"M0,0Z\" style=\"vector-effect: non-scaling-stroke; opacity: 1; stroke-width: 0px; fill: rgb(99, 110, 250); fill-opacity: 1;\"/></g><g class=\"point\"><path d=\"M0,0Z\" style=\"vector-effect: non-scaling-stroke; opacity: 1; stroke-width: 0px; fill: rgb(99, 110, 250); fill-opacity: 1;\"/></g><g class=\"point\"><path d=\"M0,0Z\" style=\"vector-effect: non-scaling-stroke; opacity: 1; stroke-width: 0px; fill: rgb(99, 110, 250); fill-opacity: 1;\"/></g><g class=\"point\"><path d=\"M0,0Z\" style=\"vector-effect: non-scaling-stroke; opacity: 1; stroke-width: 0px; fill: rgb(99, 110, 250); fill-opacity: 1;\"/></g><g class=\"point\"><path d=\"M0,0Z\" style=\"vector-effect: non-scaling-stroke; opacity: 1; stroke-width: 0px; fill: rgb(99, 110, 250); fill-opacity: 1;\"/></g><g class=\"point\"><path d=\"M0,0Z\" style=\"vector-effect: non-scaling-stroke; opacity: 1; stroke-width: 0px; fill: rgb(99, 110, 250); fill-opacity: 1;\"/></g><g class=\"point\"><path d=\"M0,0Z\" style=\"vector-effect: non-scaling-stroke; opacity: 1; stroke-width: 0px; fill: rgb(99, 110, 250); fill-opacity: 1;\"/></g><g class=\"point\"><path d=\"M0,0Z\" style=\"vector-effect: non-scaling-stroke; opacity: 1; stroke-width: 0px; fill: rgb(99, 110, 250); fill-opacity: 1;\"/></g><g class=\"point\"><path d=\"M528,320V319.98H540V320Z\" style=\"vector-effect: non-scaling-stroke; opacity: 1; stroke-width: 0px; fill: rgb(99, 110, 250); fill-opacity: 1;\"/></g></g></g></g></g><g class=\"overplot\"/><path class=\"xlines-above crisp\" d=\"M0,0\" style=\"fill: none;\"/><path class=\"ylines-above crisp\" d=\"M0,0\" style=\"fill: none;\"/><g class=\"overlines-above\"/><g class=\"xaxislayer-above\"><g class=\"xtick\"><text text-anchor=\"middle\" x=\"0\" y=\"433\" transform=\"translate(140.03,0)\" style=\"font-family: 'Open Sans', verdana, arial, sans-serif; font-size: 12px; fill: rgb(42, 63, 95); fill-opacity: 1; white-space: pre; opacity: 1;\">2k</text></g><g class=\"xtick\"><text text-anchor=\"middle\" x=\"0\" y=\"433\" style=\"font-family: 'Open Sans', verdana, arial, sans-serif; font-size: 12px; fill: rgb(42, 63, 95); fill-opacity: 1; white-space: pre; opacity: 1;\" transform=\"translate(260.03,0)\">4k</text></g><g class=\"xtick\"><text text-anchor=\"middle\" x=\"0\" y=\"433\" style=\"font-family: 'Open Sans', verdana, arial, sans-serif; font-size: 12px; fill: rgb(42, 63, 95); fill-opacity: 1; white-space: pre; opacity: 1;\" transform=\"translate(380.03,0)\">6k</text></g><g class=\"xtick\"><text text-anchor=\"middle\" x=\"0\" y=\"433\" style=\"font-family: 'Open Sans', verdana, arial, sans-serif; font-size: 12px; fill: rgb(42, 63, 95); fill-opacity: 1; white-space: pre; opacity: 1;\" transform=\"translate(500.03,0)\">8k</text></g><g class=\"xtick\"><text text-anchor=\"middle\" x=\"0\" y=\"433\" style=\"font-family: 'Open Sans', verdana, arial, sans-serif; font-size: 12px; fill: rgb(42, 63, 95); fill-opacity: 1; white-space: pre; opacity: 1;\" transform=\"translate(620.03,0)\">10k</text></g></g><g class=\"yaxislayer-above\"><g class=\"ytick\"><text text-anchor=\"end\" x=\"79\" y=\"4.199999999999999\" transform=\"translate(0,420)\" style=\"font-family: 'Open Sans', verdana, arial, sans-serif; font-size: 12px; fill: rgb(42, 63, 95); fill-opacity: 1; white-space: pre; opacity: 1;\">0</text></g><g class=\"ytick\"><text text-anchor=\"end\" x=\"79\" y=\"4.199999999999999\" style=\"font-family: 'Open Sans', verdana, arial, sans-serif; font-size: 12px; fill: rgb(42, 63, 95); fill-opacity: 1; white-space: pre; opacity: 1;\" transform=\"translate(0,358.32)\">50k</text></g><g class=\"ytick\"><text text-anchor=\"end\" x=\"79\" y=\"4.199999999999999\" style=\"font-family: 'Open Sans', verdana, arial, sans-serif; font-size: 12px; fill: rgb(42, 63, 95); fill-opacity: 1; white-space: pre; opacity: 1;\" transform=\"translate(0,296.64)\">100k</text></g><g class=\"ytick\"><text text-anchor=\"end\" x=\"79\" y=\"4.199999999999999\" style=\"font-family: 'Open Sans', verdana, arial, sans-serif; font-size: 12px; fill: rgb(42, 63, 95); fill-opacity: 1; white-space: pre; opacity: 1;\" transform=\"translate(0,234.95)\">150k</text></g><g class=\"ytick\"><text text-anchor=\"end\" x=\"79\" y=\"4.199999999999999\" style=\"font-family: 'Open Sans', verdana, arial, sans-serif; font-size: 12px; fill: rgb(42, 63, 95); fill-opacity: 1; white-space: pre; opacity: 1;\" transform=\"translate(0,173.26999999999998)\">200k</text></g><g class=\"ytick\"><text text-anchor=\"end\" x=\"79\" y=\"4.199999999999999\" style=\"font-family: 'Open Sans', verdana, arial, sans-serif; font-size: 12px; fill: rgb(42, 63, 95); fill-opacity: 1; white-space: pre; opacity: 1;\" transform=\"translate(0,111.59)\">250k</text></g></g><g class=\"overaxes-above\"/></g></g><g class=\"polarlayer\"/><g class=\"smithlayer\"/><g class=\"ternarylayer\"/><g class=\"geolayer\"/><g class=\"funnelarealayer\"/><g class=\"pielayer\"/><g class=\"iciclelayer\"/><g class=\"treemaplayer\"/><g class=\"sunburstlayer\"/><g class=\"glimages\"/><defs id=\"topdefs-10b629\"><g class=\"clips\"/></defs><g class=\"layer-above\"><g class=\"imagelayer\"/><g class=\"shapelayer\"/></g><g class=\"infolayer\"><g class=\"g-gtitle\"><text class=\"gtitle\" x=\"35\" y=\"50\" text-anchor=\"start\" dy=\"0em\" style=\"font-family: 'Open Sans', verdana, arial, sans-serif; font-size: 17px; fill: rgb(42, 63, 95); opacity: 1; font-weight: normal; white-space: pre;\">Распределение параметра RegistrationYear</text></g><g class=\"g-xtitle\"/><g class=\"g-ytitle\"/></g></svg>"
      ]
     },
     "metadata": {},
     "output_type": "display_data"
    },
    {
     "data": {
      "image/svg+xml": [
       "<svg class=\"main-svg\" xmlns=\"http://www.w3.org/2000/svg\" xmlns:xlink=\"http://www.w3.org/1999/xlink\" width=\"700\" height=\"500\" style=\"\" viewBox=\"0 0 700 500\"><rect x=\"0\" y=\"0\" width=\"700\" height=\"500\" style=\"fill: rgb(255, 255, 255); fill-opacity: 1;\"/><defs id=\"defs-736f68\"><g class=\"clips\"><clipPath id=\"clip736f68xyplot\" class=\"plotclip\"><rect width=\"540\" height=\"320\"/></clipPath><clipPath class=\"axesclip\" id=\"clip736f68x\"><rect x=\"80\" y=\"0\" width=\"540\" height=\"500\"/></clipPath><clipPath class=\"axesclip\" id=\"clip736f68y\"><rect x=\"0\" y=\"100\" width=\"700\" height=\"320\"/></clipPath><clipPath class=\"axesclip\" id=\"clip736f68xy\"><rect x=\"80\" y=\"100\" width=\"540\" height=\"320\"/></clipPath></g><g class=\"gradients\"/><g class=\"patterns\"/></defs><g class=\"bglayer\"><rect class=\"bg\" x=\"80\" y=\"100\" width=\"540\" height=\"320\" style=\"fill: rgb(229, 236, 246); fill-opacity: 1; stroke-width: 0;\"/></g><g class=\"layer-below\"><g class=\"imagelayer\"/><g class=\"shapelayer\"/></g><g class=\"cartesianlayer\"><g class=\"subplot xy\"><g class=\"layer-subplot\"><g class=\"shapelayer\"/><g class=\"imagelayer\"/></g><g class=\"minor-gridlayer\"><g class=\"x\"/><g class=\"y\"/></g><g class=\"gridlayer\"><g class=\"x\"/><g class=\"y\"><path class=\"ygrid crisp\" transform=\"translate(0,376.2)\" d=\"M80,0h540\" style=\"stroke: rgb(255, 255, 255); stroke-opacity: 1; stroke-width: 1px;\"/><path class=\"ygrid crisp\" transform=\"translate(0,332.40999999999997)\" d=\"M80,0h540\" style=\"stroke: rgb(255, 255, 255); stroke-opacity: 1; stroke-width: 1px;\"/><path class=\"ygrid crisp\" transform=\"translate(0,288.61)\" d=\"M80,0h540\" style=\"stroke: rgb(255, 255, 255); stroke-opacity: 1; stroke-width: 1px;\"/><path class=\"ygrid crisp\" transform=\"translate(0,244.81)\" d=\"M80,0h540\" style=\"stroke: rgb(255, 255, 255); stroke-opacity: 1; stroke-width: 1px;\"/><path class=\"ygrid crisp\" transform=\"translate(0,201.01999999999998)\" d=\"M80,0h540\" style=\"stroke: rgb(255, 255, 255); stroke-opacity: 1; stroke-width: 1px;\"/><path class=\"ygrid crisp\" transform=\"translate(0,157.22)\" d=\"M80,0h540\" style=\"stroke: rgb(255, 255, 255); stroke-opacity: 1; stroke-width: 1px;\"/><path class=\"ygrid crisp\" transform=\"translate(0,113.42)\" d=\"M80,0h540\" style=\"stroke: rgb(255, 255, 255); stroke-opacity: 1; stroke-width: 1px;\"/></g></g><g class=\"zerolinelayer\"><path class=\"yzl zl crisp\" transform=\"translate(0,420)\" d=\"M80,0h540\" style=\"stroke: rgb(255, 255, 255); stroke-opacity: 1; stroke-width: 2px;\"/></g><path class=\"xlines-below\"/><path class=\"ylines-below\"/><g class=\"overlines-below\"/><g class=\"xaxislayer-below\"/><g class=\"yaxislayer-below\"/><g class=\"overaxes-below\"/><g class=\"plot\" transform=\"translate(80,100)\" clip-path=\"url(#clip736f68xyplot)\"><g class=\"barlayer mlayer\"><g class=\"trace bars\" shape-rendering=\"crispEdges\" style=\"opacity: 1;\"><g class=\"points\"><g class=\"point\"><path d=\"M0,320V16H13.17V320Z\" style=\"vector-effect: non-scaling-stroke; opacity: 1; stroke-width: 0px; fill: rgb(99, 110, 250); fill-opacity: 1;\"/></g><g class=\"point\"><path d=\"M13.17,320V319.84H26.34V320Z\" style=\"vector-effect: non-scaling-stroke; opacity: 1; stroke-width: 0px; fill: rgb(99, 110, 250); fill-opacity: 1;\"/></g><g class=\"point\"><path d=\"M26.34,320V319.91H39.51V320Z\" style=\"vector-effect: non-scaling-stroke; opacity: 1; stroke-width: 0px; fill: rgb(99, 110, 250); fill-opacity: 1;\"/></g><g class=\"point\"><path d=\"M39.51,320V319.93H52.68V320Z\" style=\"vector-effect: non-scaling-stroke; opacity: 1; stroke-width: 0px; fill: rgb(99, 110, 250); fill-opacity: 1;\"/></g><g class=\"point\"><path d=\"M52.68,320V319.98H65.85V320Z\" style=\"vector-effect: non-scaling-stroke; opacity: 1; stroke-width: 0px; fill: rgb(99, 110, 250); fill-opacity: 1;\"/></g><g class=\"point\"><path d=\"M0,0Z\" style=\"vector-effect: non-scaling-stroke; opacity: 1; stroke-width: 0px; fill: rgb(99, 110, 250); fill-opacity: 1;\"/></g><g class=\"point\"><path d=\"M0,0Z\" style=\"vector-effect: non-scaling-stroke; opacity: 1; stroke-width: 0px; fill: rgb(99, 110, 250); fill-opacity: 1;\"/></g><g class=\"point\"><path d=\"M0,0Z\" style=\"vector-effect: non-scaling-stroke; opacity: 1; stroke-width: 0px; fill: rgb(99, 110, 250); fill-opacity: 1;\"/></g><g class=\"point\"><path d=\"M0,0Z\" style=\"vector-effect: non-scaling-stroke; opacity: 1; stroke-width: 0px; fill: rgb(99, 110, 250); fill-opacity: 1;\"/></g><g class=\"point\"><path d=\"M0,0Z\" style=\"vector-effect: non-scaling-stroke; opacity: 1; stroke-width: 0px; fill: rgb(99, 110, 250); fill-opacity: 1;\"/></g><g class=\"point\"><path d=\"M0,0Z\" style=\"vector-effect: non-scaling-stroke; opacity: 1; stroke-width: 0px; fill: rgb(99, 110, 250); fill-opacity: 1;\"/></g><g class=\"point\"><path d=\"M0,0Z\" style=\"vector-effect: non-scaling-stroke; opacity: 1; stroke-width: 0px; fill: rgb(99, 110, 250); fill-opacity: 1;\"/></g><g class=\"point\"><path d=\"M158.05,320V319.99H171.22V320Z\" style=\"vector-effect: non-scaling-stroke; opacity: 1; stroke-width: 0px; fill: rgb(99, 110, 250); fill-opacity: 1;\"/></g><g class=\"point\"><path d=\"M0,0Z\" style=\"vector-effect: non-scaling-stroke; opacity: 1; stroke-width: 0px; fill: rgb(99, 110, 250); fill-opacity: 1;\"/></g><g class=\"point\"><path d=\"M0,0Z\" style=\"vector-effect: non-scaling-stroke; opacity: 1; stroke-width: 0px; fill: rgb(99, 110, 250); fill-opacity: 1;\"/></g><g class=\"point\"><path d=\"M197.56,320V319.99H210.73V320Z\" style=\"vector-effect: non-scaling-stroke; opacity: 1; stroke-width: 0px; fill: rgb(99, 110, 250); fill-opacity: 1;\"/></g><g class=\"point\"><path d=\"M0,0Z\" style=\"vector-effect: non-scaling-stroke; opacity: 1; stroke-width: 0px; fill: rgb(99, 110, 250); fill-opacity: 1;\"/></g><g class=\"point\"><path d=\"M0,0Z\" style=\"vector-effect: non-scaling-stroke; opacity: 1; stroke-width: 0px; fill: rgb(99, 110, 250); fill-opacity: 1;\"/></g><g class=\"point\"><path d=\"M237.07,320V319.99H250.24V320Z\" style=\"vector-effect: non-scaling-stroke; opacity: 1; stroke-width: 0px; fill: rgb(99, 110, 250); fill-opacity: 1;\"/></g><g class=\"point\"><path d=\"M0,0Z\" style=\"vector-effect: non-scaling-stroke; opacity: 1; stroke-width: 0px; fill: rgb(99, 110, 250); fill-opacity: 1;\"/></g><g class=\"point\"><path d=\"M0,0Z\" style=\"vector-effect: non-scaling-stroke; opacity: 1; stroke-width: 0px; fill: rgb(99, 110, 250); fill-opacity: 1;\"/></g><g class=\"point\"><path d=\"M276.59,320V319.99H289.76V320Z\" style=\"vector-effect: non-scaling-stroke; opacity: 1; stroke-width: 0px; fill: rgb(99, 110, 250); fill-opacity: 1;\"/></g><g class=\"point\"><path d=\"M0,0Z\" style=\"vector-effect: non-scaling-stroke; opacity: 1; stroke-width: 0px; fill: rgb(99, 110, 250); fill-opacity: 1;\"/></g><g class=\"point\"><path d=\"M0,0Z\" style=\"vector-effect: non-scaling-stroke; opacity: 1; stroke-width: 0px; fill: rgb(99, 110, 250); fill-opacity: 1;\"/></g><g class=\"point\"><path d=\"M0,0Z\" style=\"vector-effect: non-scaling-stroke; opacity: 1; stroke-width: 0px; fill: rgb(99, 110, 250); fill-opacity: 1;\"/></g><g class=\"point\"><path d=\"M329.27,320V319.99H342.44V320Z\" style=\"vector-effect: non-scaling-stroke; opacity: 1; stroke-width: 0px; fill: rgb(99, 110, 250); fill-opacity: 1;\"/></g><g class=\"point\"><path d=\"M0,0Z\" style=\"vector-effect: non-scaling-stroke; opacity: 1; stroke-width: 0px; fill: rgb(99, 110, 250); fill-opacity: 1;\"/></g><g class=\"point\"><path d=\"M0,0Z\" style=\"vector-effect: non-scaling-stroke; opacity: 1; stroke-width: 0px; fill: rgb(99, 110, 250); fill-opacity: 1;\"/></g><g class=\"point\"><path d=\"M0,0Z\" style=\"vector-effect: non-scaling-stroke; opacity: 1; stroke-width: 0px; fill: rgb(99, 110, 250); fill-opacity: 1;\"/></g><g class=\"point\"><path d=\"M0,0Z\" style=\"vector-effect: non-scaling-stroke; opacity: 1; stroke-width: 0px; fill: rgb(99, 110, 250); fill-opacity: 1;\"/></g><g class=\"point\"><path d=\"M0,0Z\" style=\"vector-effect: non-scaling-stroke; opacity: 1; stroke-width: 0px; fill: rgb(99, 110, 250); fill-opacity: 1;\"/></g><g class=\"point\"><path d=\"M0,0Z\" style=\"vector-effect: non-scaling-stroke; opacity: 1; stroke-width: 0px; fill: rgb(99, 110, 250); fill-opacity: 1;\"/></g><g class=\"point\"><path d=\"M0,0Z\" style=\"vector-effect: non-scaling-stroke; opacity: 1; stroke-width: 0px; fill: rgb(99, 110, 250); fill-opacity: 1;\"/></g><g class=\"point\"><path d=\"M0,0Z\" style=\"vector-effect: non-scaling-stroke; opacity: 1; stroke-width: 0px; fill: rgb(99, 110, 250); fill-opacity: 1;\"/></g><g class=\"point\"><path d=\"M0,0Z\" style=\"vector-effect: non-scaling-stroke; opacity: 1; stroke-width: 0px; fill: rgb(99, 110, 250); fill-opacity: 1;\"/></g><g class=\"point\"><path d=\"M0,0Z\" style=\"vector-effect: non-scaling-stroke; opacity: 1; stroke-width: 0px; fill: rgb(99, 110, 250); fill-opacity: 1;\"/></g><g class=\"point\"><path d=\"M0,0Z\" style=\"vector-effect: non-scaling-stroke; opacity: 1; stroke-width: 0px; fill: rgb(99, 110, 250); fill-opacity: 1;\"/></g><g class=\"point\"><path d=\"M0,0Z\" style=\"vector-effect: non-scaling-stroke; opacity: 1; stroke-width: 0px; fill: rgb(99, 110, 250); fill-opacity: 1;\"/></g><g class=\"point\"><path d=\"M0,0Z\" style=\"vector-effect: non-scaling-stroke; opacity: 1; stroke-width: 0px; fill: rgb(99, 110, 250); fill-opacity: 1;\"/></g><g class=\"point\"><path d=\"M0,0Z\" style=\"vector-effect: non-scaling-stroke; opacity: 1; stroke-width: 0px; fill: rgb(99, 110, 250); fill-opacity: 1;\"/></g><g class=\"point\"><path d=\"M0,0Z\" style=\"vector-effect: non-scaling-stroke; opacity: 1; stroke-width: 0px; fill: rgb(99, 110, 250); fill-opacity: 1;\"/></g></g></g></g></g><g class=\"overplot\"/><path class=\"xlines-above crisp\" d=\"M0,0\" style=\"fill: none;\"/><path class=\"ylines-above crisp\" d=\"M0,0\" style=\"fill: none;\"/><g class=\"overlines-above\"/><g class=\"xaxislayer-above\"><g class=\"xtick\"><text text-anchor=\"middle\" x=\"0\" y=\"433\" transform=\"translate(80.01,0)\" style=\"font-family: 'Open Sans', verdana, arial, sans-serif; font-size: 12px; fill: rgb(42, 63, 95); fill-opacity: 1; white-space: pre; opacity: 1;\">0</text></g><g class=\"xtick\"><text text-anchor=\"middle\" x=\"0\" y=\"433\" style=\"font-family: 'Open Sans', verdana, arial, sans-serif; font-size: 12px; fill: rgb(42, 63, 95); fill-opacity: 1; white-space: pre; opacity: 1;\" transform=\"translate(211.72,0)\">5k</text></g><g class=\"xtick\"><text text-anchor=\"middle\" x=\"0\" y=\"433\" style=\"font-family: 'Open Sans', verdana, arial, sans-serif; font-size: 12px; fill: rgb(42, 63, 95); fill-opacity: 1; white-space: pre; opacity: 1;\" transform=\"translate(343.43,0)\">10k</text></g><g class=\"xtick\"><text text-anchor=\"middle\" x=\"0\" y=\"433\" style=\"font-family: 'Open Sans', verdana, arial, sans-serif; font-size: 12px; fill: rgb(42, 63, 95); fill-opacity: 1; white-space: pre; opacity: 1;\" transform=\"translate(475.14,0)\">15k</text></g><g class=\"xtick\"><text text-anchor=\"middle\" x=\"0\" y=\"433\" style=\"font-family: 'Open Sans', verdana, arial, sans-serif; font-size: 12px; fill: rgb(42, 63, 95); fill-opacity: 1; white-space: pre; opacity: 1;\" transform=\"translate(606.84,0)\">20k</text></g></g><g class=\"yaxislayer-above\"><g class=\"ytick\"><text text-anchor=\"end\" x=\"79\" y=\"4.199999999999999\" transform=\"translate(0,420)\" style=\"font-family: 'Open Sans', verdana, arial, sans-serif; font-size: 12px; fill: rgb(42, 63, 95); fill-opacity: 1; white-space: pre; opacity: 1;\">0</text></g><g class=\"ytick\"><text text-anchor=\"end\" x=\"79\" y=\"4.199999999999999\" style=\"font-family: 'Open Sans', verdana, arial, sans-serif; font-size: 12px; fill: rgb(42, 63, 95); fill-opacity: 1; white-space: pre; opacity: 1;\" transform=\"translate(0,376.2)\">50k</text></g><g class=\"ytick\"><text text-anchor=\"end\" x=\"79\" y=\"4.199999999999999\" style=\"font-family: 'Open Sans', verdana, arial, sans-serif; font-size: 12px; fill: rgb(42, 63, 95); fill-opacity: 1; white-space: pre; opacity: 1;\" transform=\"translate(0,332.40999999999997)\">100k</text></g><g class=\"ytick\"><text text-anchor=\"end\" x=\"79\" y=\"4.199999999999999\" style=\"font-family: 'Open Sans', verdana, arial, sans-serif; font-size: 12px; fill: rgb(42, 63, 95); fill-opacity: 1; white-space: pre; opacity: 1;\" transform=\"translate(0,288.61)\">150k</text></g><g class=\"ytick\"><text text-anchor=\"end\" x=\"79\" y=\"4.199999999999999\" style=\"font-family: 'Open Sans', verdana, arial, sans-serif; font-size: 12px; fill: rgb(42, 63, 95); fill-opacity: 1; white-space: pre; opacity: 1;\" transform=\"translate(0,244.81)\">200k</text></g><g class=\"ytick\"><text text-anchor=\"end\" x=\"79\" y=\"4.199999999999999\" style=\"font-family: 'Open Sans', verdana, arial, sans-serif; font-size: 12px; fill: rgb(42, 63, 95); fill-opacity: 1; white-space: pre; opacity: 1;\" transform=\"translate(0,201.01999999999998)\">250k</text></g><g class=\"ytick\"><text text-anchor=\"end\" x=\"79\" y=\"4.199999999999999\" style=\"font-family: 'Open Sans', verdana, arial, sans-serif; font-size: 12px; fill: rgb(42, 63, 95); fill-opacity: 1; white-space: pre; opacity: 1;\" transform=\"translate(0,157.22)\">300k</text></g><g class=\"ytick\"><text text-anchor=\"end\" x=\"79\" y=\"4.199999999999999\" style=\"font-family: 'Open Sans', verdana, arial, sans-serif; font-size: 12px; fill: rgb(42, 63, 95); fill-opacity: 1; white-space: pre; opacity: 1;\" transform=\"translate(0,113.42)\">350k</text></g></g><g class=\"overaxes-above\"/></g></g><g class=\"polarlayer\"/><g class=\"smithlayer\"/><g class=\"ternarylayer\"/><g class=\"geolayer\"/><g class=\"funnelarealayer\"/><g class=\"pielayer\"/><g class=\"iciclelayer\"/><g class=\"treemaplayer\"/><g class=\"sunburstlayer\"/><g class=\"glimages\"/><defs id=\"topdefs-736f68\"><g class=\"clips\"/></defs><g class=\"layer-above\"><g class=\"imagelayer\"/><g class=\"shapelayer\"/></g><g class=\"infolayer\"><g class=\"g-gtitle\"><text class=\"gtitle\" x=\"35\" y=\"50\" text-anchor=\"start\" dy=\"0em\" style=\"font-family: 'Open Sans', verdana, arial, sans-serif; font-size: 17px; fill: rgb(42, 63, 95); opacity: 1; font-weight: normal; white-space: pre;\">Распределение параметра Power</text></g><g class=\"g-xtitle\"/><g class=\"g-ytitle\"/></g></svg>"
      ]
     },
     "metadata": {},
     "output_type": "display_data"
    },
    {
     "data": {
      "image/svg+xml": [
       "<svg class=\"main-svg\" xmlns=\"http://www.w3.org/2000/svg\" xmlns:xlink=\"http://www.w3.org/1999/xlink\" width=\"700\" height=\"500\" style=\"\" viewBox=\"0 0 700 500\"><rect x=\"0\" y=\"0\" width=\"700\" height=\"500\" style=\"fill: rgb(255, 255, 255); fill-opacity: 1;\"/><defs id=\"defs-233a8d\"><g class=\"clips\"><clipPath id=\"clip233a8dxyplot\" class=\"plotclip\"><rect width=\"540\" height=\"320\"/></clipPath><clipPath class=\"axesclip\" id=\"clip233a8dx\"><rect x=\"80\" y=\"0\" width=\"540\" height=\"500\"/></clipPath><clipPath class=\"axesclip\" id=\"clip233a8dy\"><rect x=\"0\" y=\"100\" width=\"700\" height=\"320\"/></clipPath><clipPath class=\"axesclip\" id=\"clip233a8dxy\"><rect x=\"80\" y=\"100\" width=\"540\" height=\"320\"/></clipPath></g><g class=\"gradients\"/><g class=\"patterns\"/></defs><g class=\"bglayer\"><rect class=\"bg\" x=\"80\" y=\"100\" width=\"540\" height=\"320\" style=\"fill: rgb(229, 236, 246); fill-opacity: 1; stroke-width: 0;\"/></g><g class=\"layer-below\"><g class=\"imagelayer\"/><g class=\"shapelayer\"/></g><g class=\"cartesianlayer\"><g class=\"subplot xy\"><g class=\"layer-subplot\"><g class=\"shapelayer\"/><g class=\"imagelayer\"/></g><g class=\"minor-gridlayer\"><g class=\"x\"/><g class=\"y\"/></g><g class=\"gridlayer\"><g class=\"x\"/><g class=\"y\"><path class=\"ygrid crisp\" transform=\"translate(0,354.98)\" d=\"M80,0h540\" style=\"stroke: rgb(255, 255, 255); stroke-opacity: 1; stroke-width: 1px;\"/><path class=\"ygrid crisp\" transform=\"translate(0,289.97)\" d=\"M80,0h540\" style=\"stroke: rgb(255, 255, 255); stroke-opacity: 1; stroke-width: 1px;\"/><path class=\"ygrid crisp\" transform=\"translate(0,224.95)\" d=\"M80,0h540\" style=\"stroke: rgb(255, 255, 255); stroke-opacity: 1; stroke-width: 1px;\"/><path class=\"ygrid crisp\" transform=\"translate(0,159.93)\" d=\"M80,0h540\" style=\"stroke: rgb(255, 255, 255); stroke-opacity: 1; stroke-width: 1px;\"/></g></g><g class=\"zerolinelayer\"><path class=\"yzl zl crisp\" transform=\"translate(0,420)\" d=\"M80,0h540\" style=\"stroke: rgb(255, 255, 255); stroke-opacity: 1; stroke-width: 2px;\"/></g><path class=\"xlines-below\"/><path class=\"ylines-below\"/><g class=\"overlines-below\"/><g class=\"xaxislayer-below\"/><g class=\"yaxislayer-below\"/><g class=\"overaxes-below\"/><g class=\"plot\" transform=\"translate(80,100)\" clip-path=\"url(#clip233a8dxyplot)\"><g class=\"barlayer mlayer\"><g class=\"trace bars\" shape-rendering=\"crispEdges\" style=\"opacity: 1;\"><g class=\"points\"><g class=\"point\"><path d=\"M0,320V312.85H18V320Z\" style=\"vector-effect: non-scaling-stroke; opacity: 1; stroke-width: 0px; fill: rgb(99, 110, 250); fill-opacity: 1;\"/></g><g class=\"point\"><path d=\"M18,320V318.52H36V320Z\" style=\"vector-effect: non-scaling-stroke; opacity: 1; stroke-width: 0px; fill: rgb(99, 110, 250); fill-opacity: 1;\"/></g><g class=\"point\"><path d=\"M0,0Z\" style=\"vector-effect: non-scaling-stroke; opacity: 1; stroke-width: 0px; fill: rgb(99, 110, 250); fill-opacity: 1;\"/></g><g class=\"point\"><path d=\"M54,320V315.01H72V320Z\" style=\"vector-effect: non-scaling-stroke; opacity: 1; stroke-width: 0px; fill: rgb(99, 110, 250); fill-opacity: 1;\"/></g><g class=\"point\"><path d=\"M0,0Z\" style=\"vector-effect: non-scaling-stroke; opacity: 1; stroke-width: 0px; fill: rgb(99, 110, 250); fill-opacity: 1;\"/></g><g class=\"point\"><path d=\"M90,320V314.32H108V320Z\" style=\"vector-effect: non-scaling-stroke; opacity: 1; stroke-width: 0px; fill: rgb(99, 110, 250); fill-opacity: 1;\"/></g><g class=\"point\"><path d=\"M0,0Z\" style=\"vector-effect: non-scaling-stroke; opacity: 1; stroke-width: 0px; fill: rgb(99, 110, 250); fill-opacity: 1;\"/></g><g class=\"point\"><path d=\"M126,320V313.67H144V320Z\" style=\"vector-effect: non-scaling-stroke; opacity: 1; stroke-width: 0px; fill: rgb(99, 110, 250); fill-opacity: 1;\"/></g><g class=\"point\"><path d=\"M0,0Z\" style=\"vector-effect: non-scaling-stroke; opacity: 1; stroke-width: 0px; fill: rgb(99, 110, 250); fill-opacity: 1;\"/></g><g class=\"point\"><path d=\"M162,320V312H180V320Z\" style=\"vector-effect: non-scaling-stroke; opacity: 1; stroke-width: 0px; fill: rgb(99, 110, 250); fill-opacity: 1;\"/></g><g class=\"point\"><path d=\"M0,0Z\" style=\"vector-effect: non-scaling-stroke; opacity: 1; stroke-width: 0px; fill: rgb(99, 110, 250); fill-opacity: 1;\"/></g><g class=\"point\"><path d=\"M198,320V310.41H216V320Z\" style=\"vector-effect: non-scaling-stroke; opacity: 1; stroke-width: 0px; fill: rgb(99, 110, 250); fill-opacity: 1;\"/></g><g class=\"point\"><path d=\"M0,0Z\" style=\"vector-effect: non-scaling-stroke; opacity: 1; stroke-width: 0px; fill: rgb(99, 110, 250); fill-opacity: 1;\"/></g><g class=\"point\"><path d=\"M234,320V308.91H252V320Z\" style=\"vector-effect: non-scaling-stroke; opacity: 1; stroke-width: 0px; fill: rgb(99, 110, 250); fill-opacity: 1;\"/></g><g class=\"point\"><path d=\"M0,0Z\" style=\"vector-effect: non-scaling-stroke; opacity: 1; stroke-width: 0px; fill: rgb(99, 110, 250); fill-opacity: 1;\"/></g><g class=\"point\"><path d=\"M270,320V307.05H288V320Z\" style=\"vector-effect: non-scaling-stroke; opacity: 1; stroke-width: 0px; fill: rgb(99, 110, 250); fill-opacity: 1;\"/></g><g class=\"point\"><path d=\"M0,0Z\" style=\"vector-effect: non-scaling-stroke; opacity: 1; stroke-width: 0px; fill: rgb(99, 110, 250); fill-opacity: 1;\"/></g><g class=\"point\"><path d=\"M306,320V305.1H324V320Z\" style=\"vector-effect: non-scaling-stroke; opacity: 1; stroke-width: 0px; fill: rgb(99, 110, 250); fill-opacity: 1;\"/></g><g class=\"point\"><path d=\"M0,0Z\" style=\"vector-effect: non-scaling-stroke; opacity: 1; stroke-width: 0px; fill: rgb(99, 110, 250); fill-opacity: 1;\"/></g><g class=\"point\"><path d=\"M342,320V301.05H360V320Z\" style=\"vector-effect: non-scaling-stroke; opacity: 1; stroke-width: 0px; fill: rgb(99, 110, 250); fill-opacity: 1;\"/></g><g class=\"point\"><path d=\"M0,0Z\" style=\"vector-effect: non-scaling-stroke; opacity: 1; stroke-width: 0px; fill: rgb(99, 110, 250); fill-opacity: 1;\"/></g><g class=\"point\"><path d=\"M0,0Z\" style=\"vector-effect: non-scaling-stroke; opacity: 1; stroke-width: 0px; fill: rgb(99, 110, 250); fill-opacity: 1;\"/></g><g class=\"point\"><path d=\"M0,0Z\" style=\"vector-effect: non-scaling-stroke; opacity: 1; stroke-width: 0px; fill: rgb(99, 110, 250); fill-opacity: 1;\"/></g><g class=\"point\"><path d=\"M0,0Z\" style=\"vector-effect: non-scaling-stroke; opacity: 1; stroke-width: 0px; fill: rgb(99, 110, 250); fill-opacity: 1;\"/></g><g class=\"point\"><path d=\"M432,320V273.18H450V320Z\" style=\"vector-effect: non-scaling-stroke; opacity: 1; stroke-width: 0px; fill: rgb(99, 110, 250); fill-opacity: 1;\"/></g><g class=\"point\"><path d=\"M0,0Z\" style=\"vector-effect: non-scaling-stroke; opacity: 1; stroke-width: 0px; fill: rgb(99, 110, 250); fill-opacity: 1;\"/></g><g class=\"point\"><path d=\"M0,0Z\" style=\"vector-effect: non-scaling-stroke; opacity: 1; stroke-width: 0px; fill: rgb(99, 110, 250); fill-opacity: 1;\"/></g><g class=\"point\"><path d=\"M0,0Z\" style=\"vector-effect: non-scaling-stroke; opacity: 1; stroke-width: 0px; fill: rgb(99, 110, 250); fill-opacity: 1;\"/></g><g class=\"point\"><path d=\"M0,0Z\" style=\"vector-effect: non-scaling-stroke; opacity: 1; stroke-width: 0px; fill: rgb(99, 110, 250); fill-opacity: 1;\"/></g><g class=\"point\"><path d=\"M522,320V16H540V320Z\" style=\"vector-effect: non-scaling-stroke; opacity: 1; stroke-width: 0px; fill: rgb(99, 110, 250); fill-opacity: 1;\"/></g></g></g></g></g><g class=\"overplot\"/><path class=\"xlines-above crisp\" d=\"M0,0\" style=\"fill: none;\"/><path class=\"ylines-above crisp\" d=\"M0,0\" style=\"fill: none;\"/><g class=\"overlines-above\"/><g class=\"xaxislayer-above\"><g class=\"xtick\"><text text-anchor=\"middle\" x=\"0\" y=\"433\" transform=\"translate(134,0)\" style=\"font-family: 'Open Sans', verdana, arial, sans-serif; font-size: 12px; fill: rgb(42, 63, 95); fill-opacity: 1; white-space: pre; opacity: 1;\">20k</text></g><g class=\"xtick\"><text text-anchor=\"middle\" x=\"0\" y=\"433\" style=\"font-family: 'Open Sans', verdana, arial, sans-serif; font-size: 12px; fill: rgb(42, 63, 95); fill-opacity: 1; white-space: pre; opacity: 1;\" transform=\"translate(206,0)\">40k</text></g><g class=\"xtick\"><text text-anchor=\"middle\" x=\"0\" y=\"433\" style=\"font-family: 'Open Sans', verdana, arial, sans-serif; font-size: 12px; fill: rgb(42, 63, 95); fill-opacity: 1; white-space: pre; opacity: 1;\" transform=\"translate(278,0)\">60k</text></g><g class=\"xtick\"><text text-anchor=\"middle\" x=\"0\" y=\"433\" style=\"font-family: 'Open Sans', verdana, arial, sans-serif; font-size: 12px; fill: rgb(42, 63, 95); fill-opacity: 1; white-space: pre; opacity: 1;\" transform=\"translate(350,0)\">80k</text></g><g class=\"xtick\"><text text-anchor=\"middle\" x=\"0\" y=\"433\" style=\"font-family: 'Open Sans', verdana, arial, sans-serif; font-size: 12px; fill: rgb(42, 63, 95); fill-opacity: 1; white-space: pre; opacity: 1;\" transform=\"translate(422,0)\">100k</text></g><g class=\"xtick\"><text text-anchor=\"middle\" x=\"0\" y=\"433\" style=\"font-family: 'Open Sans', verdana, arial, sans-serif; font-size: 12px; fill: rgb(42, 63, 95); fill-opacity: 1; white-space: pre; opacity: 1;\" transform=\"translate(494,0)\">120k</text></g><g class=\"xtick\"><text text-anchor=\"middle\" x=\"0\" y=\"433\" style=\"font-family: 'Open Sans', verdana, arial, sans-serif; font-size: 12px; fill: rgb(42, 63, 95); fill-opacity: 1; white-space: pre; opacity: 1;\" transform=\"translate(566,0)\">140k</text></g></g><g class=\"yaxislayer-above\"><g class=\"ytick\"><text text-anchor=\"end\" x=\"79\" y=\"4.199999999999999\" transform=\"translate(0,420)\" style=\"font-family: 'Open Sans', verdana, arial, sans-serif; font-size: 12px; fill: rgb(42, 63, 95); fill-opacity: 1; white-space: pre; opacity: 1;\">0</text></g><g class=\"ytick\"><text text-anchor=\"end\" x=\"79\" y=\"4.199999999999999\" style=\"font-family: 'Open Sans', verdana, arial, sans-serif; font-size: 12px; fill: rgb(42, 63, 95); fill-opacity: 1; white-space: pre; opacity: 1;\" transform=\"translate(0,354.98)\">50k</text></g><g class=\"ytick\"><text text-anchor=\"end\" x=\"79\" y=\"4.199999999999999\" style=\"font-family: 'Open Sans', verdana, arial, sans-serif; font-size: 12px; fill: rgb(42, 63, 95); fill-opacity: 1; white-space: pre; opacity: 1;\" transform=\"translate(0,289.97)\">100k</text></g><g class=\"ytick\"><text text-anchor=\"end\" x=\"79\" y=\"4.199999999999999\" style=\"font-family: 'Open Sans', verdana, arial, sans-serif; font-size: 12px; fill: rgb(42, 63, 95); fill-opacity: 1; white-space: pre; opacity: 1;\" transform=\"translate(0,224.95)\">150k</text></g><g class=\"ytick\"><text text-anchor=\"end\" x=\"79\" y=\"4.199999999999999\" style=\"font-family: 'Open Sans', verdana, arial, sans-serif; font-size: 12px; fill: rgb(42, 63, 95); fill-opacity: 1; white-space: pre; opacity: 1;\" transform=\"translate(0,159.93)\">200k</text></g></g><g class=\"overaxes-above\"/></g></g><g class=\"polarlayer\"/><g class=\"smithlayer\"/><g class=\"ternarylayer\"/><g class=\"geolayer\"/><g class=\"funnelarealayer\"/><g class=\"pielayer\"/><g class=\"iciclelayer\"/><g class=\"treemaplayer\"/><g class=\"sunburstlayer\"/><g class=\"glimages\"/><defs id=\"topdefs-233a8d\"><g class=\"clips\"/></defs><g class=\"layer-above\"><g class=\"imagelayer\"/><g class=\"shapelayer\"/></g><g class=\"infolayer\"><g class=\"g-gtitle\"><text class=\"gtitle\" x=\"35\" y=\"50\" text-anchor=\"start\" dy=\"0em\" style=\"font-family: 'Open Sans', verdana, arial, sans-serif; font-size: 17px; fill: rgb(42, 63, 95); opacity: 1; font-weight: normal; white-space: pre;\">Распределение параметра Kilometer</text></g><g class=\"g-xtitle\"/><g class=\"g-ytitle\"/></g></svg>"
      ]
     },
     "metadata": {},
     "output_type": "display_data"
    }
   ],
   "source": [
    "for param in numeric:\n",
    "    plot_param(df, param)"
   ]
  },
  {
   "cell_type": "markdown",
   "metadata": {},
   "source": [
    "Price смущает первый столбец 0-500\\\n",
    "RegistrationYear и Power нужно убрать явные выбросы и дальше смотреть\\\n",
    "Kilometer все в порядке\n"
   ]
  },
  {
   "cell_type": "code",
   "execution_count": 39,
   "metadata": {},
   "outputs": [
    {
     "data": {
      "text/plain": [
       "count    347541.000000\n",
       "mean       2003.714273\n",
       "std          68.114605\n",
       "min        1000.000000\n",
       "25%        1999.000000\n",
       "50%        2003.000000\n",
       "75%        2007.000000\n",
       "max        9999.000000\n",
       "Name: RegistrationYear, dtype: float64"
      ]
     },
     "execution_count": 39,
     "metadata": {},
     "output_type": "execute_result"
    }
   ],
   "source": [
    "df['RegistrationYear'].describe()"
   ]
  },
  {
   "cell_type": "code",
   "execution_count": 40,
   "metadata": {
    "scrolled": true
   },
   "outputs": [
    {
     "data": {
      "text/plain": [
       "83"
      ]
     },
     "execution_count": 40,
     "metadata": {},
     "output_type": "execute_result"
    }
   ],
   "source": [
    "df[df['RegistrationYear'] > 2018]['RegistrationYear'].count()"
   ]
  },
  {
   "cell_type": "code",
   "execution_count": 41,
   "metadata": {},
   "outputs": [
    {
     "data": {
      "text/plain": [
       "98"
      ]
     },
     "execution_count": 41,
     "metadata": {},
     "output_type": "execute_result"
    }
   ],
   "source": [
    "df[df['Power'] > 2500]['Power'].count()"
   ]
  },
  {
   "cell_type": "markdown",
   "metadata": {},
   "source": [
    "Поскольку их счетное количество, проще просто убрать"
   ]
  },
  {
   "cell_type": "code",
   "execution_count": 42,
   "metadata": {},
   "outputs": [],
   "source": [
    "df = df[df['RegistrationYear'] < 2016]\n",
    "df = df[df['Power'] < 2500]"
   ]
  },
  {
   "cell_type": "code",
   "execution_count": 43,
   "metadata": {
    "scrolled": true
   },
   "outputs": [
    {
     "data": {
      "image/svg+xml": [
       "<svg class=\"main-svg\" xmlns=\"http://www.w3.org/2000/svg\" xmlns:xlink=\"http://www.w3.org/1999/xlink\" width=\"700\" height=\"500\" style=\"\" viewBox=\"0 0 700 500\"><rect x=\"0\" y=\"0\" width=\"700\" height=\"500\" style=\"fill: rgb(255, 255, 255); fill-opacity: 1;\"/><defs id=\"defs-3b70ec\"><g class=\"clips\"><clipPath id=\"clip3b70ecxyplot\" class=\"plotclip\"><rect width=\"540\" height=\"320\"/></clipPath><clipPath class=\"axesclip\" id=\"clip3b70ecx\"><rect x=\"80\" y=\"0\" width=\"540\" height=\"500\"/></clipPath><clipPath class=\"axesclip\" id=\"clip3b70ecy\"><rect x=\"0\" y=\"100\" width=\"700\" height=\"320\"/></clipPath><clipPath class=\"axesclip\" id=\"clip3b70ecxy\"><rect x=\"80\" y=\"100\" width=\"540\" height=\"320\"/></clipPath></g><g class=\"gradients\"/><g class=\"patterns\"/></defs><g class=\"bglayer\"><rect class=\"bg\" x=\"80\" y=\"100\" width=\"540\" height=\"320\" style=\"fill: rgb(229, 236, 246); fill-opacity: 1; stroke-width: 0;\"/></g><g class=\"layer-below\"><g class=\"imagelayer\"/><g class=\"shapelayer\"/></g><g class=\"cartesianlayer\"><g class=\"subplot xy\"><g class=\"layer-subplot\"><g class=\"shapelayer\"/><g class=\"imagelayer\"/></g><g class=\"minor-gridlayer\"><g class=\"x\"/><g class=\"y\"/></g><g class=\"gridlayer\"><g class=\"x\"/><g class=\"y\"><path class=\"ygrid crisp\" transform=\"translate(0,383.87)\" d=\"M80,0h540\" style=\"stroke: rgb(255, 255, 255); stroke-opacity: 1; stroke-width: 1px;\"/><path class=\"ygrid crisp\" transform=\"translate(0,347.73)\" d=\"M80,0h540\" style=\"stroke: rgb(255, 255, 255); stroke-opacity: 1; stroke-width: 1px;\"/><path class=\"ygrid crisp\" transform=\"translate(0,311.6)\" d=\"M80,0h540\" style=\"stroke: rgb(255, 255, 255); stroke-opacity: 1; stroke-width: 1px;\"/><path class=\"ygrid crisp\" transform=\"translate(0,275.47)\" d=\"M80,0h540\" style=\"stroke: rgb(255, 255, 255); stroke-opacity: 1; stroke-width: 1px;\"/><path class=\"ygrid crisp\" transform=\"translate(0,239.33)\" d=\"M80,0h540\" style=\"stroke: rgb(255, 255, 255); stroke-opacity: 1; stroke-width: 1px;\"/><path class=\"ygrid crisp\" transform=\"translate(0,203.2)\" d=\"M80,0h540\" style=\"stroke: rgb(255, 255, 255); stroke-opacity: 1; stroke-width: 1px;\"/><path class=\"ygrid crisp\" transform=\"translate(0,167.06)\" d=\"M80,0h540\" style=\"stroke: rgb(255, 255, 255); stroke-opacity: 1; stroke-width: 1px;\"/><path class=\"ygrid crisp\" transform=\"translate(0,130.93)\" d=\"M80,0h540\" style=\"stroke: rgb(255, 255, 255); stroke-opacity: 1; stroke-width: 1px;\"/></g></g><g class=\"zerolinelayer\"><path class=\"yzl zl crisp\" transform=\"translate(0,420)\" d=\"M80,0h540\" style=\"stroke: rgb(255, 255, 255); stroke-opacity: 1; stroke-width: 2px;\"/></g><path class=\"xlines-below\"/><path class=\"ylines-below\"/><g class=\"overlines-below\"/><g class=\"xaxislayer-below\"/><g class=\"yaxislayer-below\"/><g class=\"overaxes-below\"/><g class=\"plot\" transform=\"translate(80,100)\" clip-path=\"url(#clip3b70ecxyplot)\"><g class=\"barlayer mlayer\"><g class=\"trace bars\" shape-rendering=\"crispEdges\" style=\"opacity: 1;\"><g class=\"points\"><g class=\"point\"><path d=\"M0,320V103.11H13.17V320Z\" style=\"vector-effect: non-scaling-stroke; opacity: 1; stroke-width: 0px; fill: rgb(99, 110, 250); fill-opacity: 1;\"/></g><g class=\"point\"><path d=\"M13.17,320V16H26.34V320Z\" style=\"vector-effect: non-scaling-stroke; opacity: 1; stroke-width: 0px; fill: rgb(99, 110, 250); fill-opacity: 1;\"/></g><g class=\"point\"><path d=\"M26.34,320V105.58H39.51V320Z\" style=\"vector-effect: non-scaling-stroke; opacity: 1; stroke-width: 0px; fill: rgb(99, 110, 250); fill-opacity: 1;\"/></g><g class=\"point\"><path d=\"M39.51,320V115.97H52.68V320Z\" style=\"vector-effect: non-scaling-stroke; opacity: 1; stroke-width: 0px; fill: rgb(99, 110, 250); fill-opacity: 1;\"/></g><g class=\"point\"><path d=\"M52.68,320V188.26H65.85V320Z\" style=\"vector-effect: non-scaling-stroke; opacity: 1; stroke-width: 0px; fill: rgb(99, 110, 250); fill-opacity: 1;\"/></g><g class=\"point\"><path d=\"M65.85,320V171.58H79.02V320Z\" style=\"vector-effect: non-scaling-stroke; opacity: 1; stroke-width: 0px; fill: rgb(99, 110, 250); fill-opacity: 1;\"/></g><g class=\"point\"><path d=\"M79.02,320V227.11H92.2V320Z\" style=\"vector-effect: non-scaling-stroke; opacity: 1; stroke-width: 0px; fill: rgb(99, 110, 250); fill-opacity: 1;\"/></g><g class=\"point\"><path d=\"M92.2,320V203.17H105.37V320Z\" style=\"vector-effect: non-scaling-stroke; opacity: 1; stroke-width: 0px; fill: rgb(99, 110, 250); fill-opacity: 1;\"/></g><g class=\"point\"><path d=\"M105.37,320V252.96H118.54V320Z\" style=\"vector-effect: non-scaling-stroke; opacity: 1; stroke-width: 0px; fill: rgb(99, 110, 250); fill-opacity: 1;\"/></g><g class=\"point\"><path d=\"M118.54,320V232.17H131.71V320Z\" style=\"vector-effect: non-scaling-stroke; opacity: 1; stroke-width: 0px; fill: rgb(99, 110, 250); fill-opacity: 1;\"/></g><g class=\"point\"><path d=\"M131.71,320V270.48H144.88V320Z\" style=\"vector-effect: non-scaling-stroke; opacity: 1; stroke-width: 0px; fill: rgb(99, 110, 250); fill-opacity: 1;\"/></g><g class=\"point\"><path d=\"M144.88,320V245.59H158.05V320Z\" style=\"vector-effect: non-scaling-stroke; opacity: 1; stroke-width: 0px; fill: rgb(99, 110, 250); fill-opacity: 1;\"/></g><g class=\"point\"><path d=\"M158.05,320V276.29H171.22V320Z\" style=\"vector-effect: non-scaling-stroke; opacity: 1; stroke-width: 0px; fill: rgb(99, 110, 250); fill-opacity: 1;\"/></g><g class=\"point\"><path d=\"M171.22,320V253.98H184.39V320Z\" style=\"vector-effect: non-scaling-stroke; opacity: 1; stroke-width: 0px; fill: rgb(99, 110, 250); fill-opacity: 1;\"/></g><g class=\"point\"><path d=\"M184.39,320V285.07H197.56V320Z\" style=\"vector-effect: non-scaling-stroke; opacity: 1; stroke-width: 0px; fill: rgb(99, 110, 250); fill-opacity: 1;\"/></g><g class=\"point\"><path d=\"M197.56,320V266.38H210.73V320Z\" style=\"vector-effect: non-scaling-stroke; opacity: 1; stroke-width: 0px; fill: rgb(99, 110, 250); fill-opacity: 1;\"/></g><g class=\"point\"><path d=\"M210.73,320V290.25H223.9V320Z\" style=\"vector-effect: non-scaling-stroke; opacity: 1; stroke-width: 0px; fill: rgb(99, 110, 250); fill-opacity: 1;\"/></g><g class=\"point\"><path d=\"M223.9,320V271.93H237.07V320Z\" style=\"vector-effect: non-scaling-stroke; opacity: 1; stroke-width: 0px; fill: rgb(99, 110, 250); fill-opacity: 1;\"/></g><g class=\"point\"><path d=\"M237.07,320V297.23H250.24V320Z\" style=\"vector-effect: non-scaling-stroke; opacity: 1; stroke-width: 0px; fill: rgb(99, 110, 250); fill-opacity: 1;\"/></g><g class=\"point\"><path d=\"M250.24,320V275.99H263.41V320Z\" style=\"vector-effect: non-scaling-stroke; opacity: 1; stroke-width: 0px; fill: rgb(99, 110, 250); fill-opacity: 1;\"/></g><g class=\"point\"><path d=\"M263.41,320V303.97H276.59V320Z\" style=\"vector-effect: non-scaling-stroke; opacity: 1; stroke-width: 0px; fill: rgb(99, 110, 250); fill-opacity: 1;\"/></g><g class=\"point\"><path d=\"M276.59,320V287.83H289.76V320Z\" style=\"vector-effect: non-scaling-stroke; opacity: 1; stroke-width: 0px; fill: rgb(99, 110, 250); fill-opacity: 1;\"/></g><g class=\"point\"><path d=\"M289.76,320V305.16H302.93V320Z\" style=\"vector-effect: non-scaling-stroke; opacity: 1; stroke-width: 0px; fill: rgb(99, 110, 250); fill-opacity: 1;\"/></g><g class=\"point\"><path d=\"M302.93,320V292.99H316.1V320Z\" style=\"vector-effect: non-scaling-stroke; opacity: 1; stroke-width: 0px; fill: rgb(99, 110, 250); fill-opacity: 1;\"/></g><g class=\"point\"><path d=\"M316.1,320V305.59H329.27V320Z\" style=\"vector-effect: non-scaling-stroke; opacity: 1; stroke-width: 0px; fill: rgb(99, 110, 250); fill-opacity: 1;\"/></g><g class=\"point\"><path d=\"M329.27,320V292.74H342.44V320Z\" style=\"vector-effect: non-scaling-stroke; opacity: 1; stroke-width: 0px; fill: rgb(99, 110, 250); fill-opacity: 1;\"/></g><g class=\"point\"><path d=\"M342.44,320V308.04H355.61V320Z\" style=\"vector-effect: non-scaling-stroke; opacity: 1; stroke-width: 0px; fill: rgb(99, 110, 250); fill-opacity: 1;\"/></g><g class=\"point\"><path d=\"M355.61,320V296H368.78V320Z\" style=\"vector-effect: non-scaling-stroke; opacity: 1; stroke-width: 0px; fill: rgb(99, 110, 250); fill-opacity: 1;\"/></g><g class=\"point\"><path d=\"M368.78,320V309.65H381.95V320Z\" style=\"vector-effect: non-scaling-stroke; opacity: 1; stroke-width: 0px; fill: rgb(99, 110, 250); fill-opacity: 1;\"/></g><g class=\"point\"><path d=\"M381.95,320V297.32H395.12V320Z\" style=\"vector-effect: non-scaling-stroke; opacity: 1; stroke-width: 0px; fill: rgb(99, 110, 250); fill-opacity: 1;\"/></g><g class=\"point\"><path d=\"M395.12,320V310.27H408.29V320Z\" style=\"vector-effect: non-scaling-stroke; opacity: 1; stroke-width: 0px; fill: rgb(99, 110, 250); fill-opacity: 1;\"/></g><g class=\"point\"><path d=\"M408.29,320V301.92H421.46V320Z\" style=\"vector-effect: non-scaling-stroke; opacity: 1; stroke-width: 0px; fill: rgb(99, 110, 250); fill-opacity: 1;\"/></g><g class=\"point\"><path d=\"M421.46,320V312.22H434.63V320Z\" style=\"vector-effect: non-scaling-stroke; opacity: 1; stroke-width: 0px; fill: rgb(99, 110, 250); fill-opacity: 1;\"/></g><g class=\"point\"><path d=\"M434.63,320V303.06H447.8V320Z\" style=\"vector-effect: non-scaling-stroke; opacity: 1; stroke-width: 0px; fill: rgb(99, 110, 250); fill-opacity: 1;\"/></g><g class=\"point\"><path d=\"M447.8,320V313.24H460.98V320Z\" style=\"vector-effect: non-scaling-stroke; opacity: 1; stroke-width: 0px; fill: rgb(99, 110, 250); fill-opacity: 1;\"/></g><g class=\"point\"><path d=\"M460.98,320V306.38H474.15V320Z\" style=\"vector-effect: non-scaling-stroke; opacity: 1; stroke-width: 0px; fill: rgb(99, 110, 250); fill-opacity: 1;\"/></g><g class=\"point\"><path d=\"M474.15,320V314.27H487.32V320Z\" style=\"vector-effect: non-scaling-stroke; opacity: 1; stroke-width: 0px; fill: rgb(99, 110, 250); fill-opacity: 1;\"/></g><g class=\"point\"><path d=\"M487.32,320V308.39H500.49V320Z\" style=\"vector-effect: non-scaling-stroke; opacity: 1; stroke-width: 0px; fill: rgb(99, 110, 250); fill-opacity: 1;\"/></g><g class=\"point\"><path d=\"M500.49,320V315.74H513.66V320Z\" style=\"vector-effect: non-scaling-stroke; opacity: 1; stroke-width: 0px; fill: rgb(99, 110, 250); fill-opacity: 1;\"/></g><g class=\"point\"><path d=\"M513.66,320V307.3H526.83V320Z\" style=\"vector-effect: non-scaling-stroke; opacity: 1; stroke-width: 0px; fill: rgb(99, 110, 250); fill-opacity: 1;\"/></g><g class=\"point\"><path d=\"M526.83,320V318.16H540V320Z\" style=\"vector-effect: non-scaling-stroke; opacity: 1; stroke-width: 0px; fill: rgb(99, 110, 250); fill-opacity: 1;\"/></g></g></g></g></g><g class=\"overplot\"/><path class=\"xlines-above crisp\" d=\"M0,0\" style=\"fill: none;\"/><path class=\"ylines-above crisp\" d=\"M0,0\" style=\"fill: none;\"/><g class=\"overlines-above\"/><g class=\"xaxislayer-above\"><g class=\"xtick\"><text text-anchor=\"middle\" x=\"0\" y=\"433\" transform=\"translate(80.01,0)\" style=\"font-family: 'Open Sans', verdana, arial, sans-serif; font-size: 12px; fill: rgb(42, 63, 95); fill-opacity: 1; white-space: pre; opacity: 1;\">0</text></g><g class=\"xtick\"><text text-anchor=\"middle\" x=\"0\" y=\"433\" style=\"font-family: 'Open Sans', verdana, arial, sans-serif; font-size: 12px; fill: rgb(42, 63, 95); fill-opacity: 1; white-space: pre; opacity: 1;\" transform=\"translate(211.72,0)\">5k</text></g><g class=\"xtick\"><text text-anchor=\"middle\" x=\"0\" y=\"433\" style=\"font-family: 'Open Sans', verdana, arial, sans-serif; font-size: 12px; fill: rgb(42, 63, 95); fill-opacity: 1; white-space: pre; opacity: 1;\" transform=\"translate(343.43,0)\">10k</text></g><g class=\"xtick\"><text text-anchor=\"middle\" x=\"0\" y=\"433\" style=\"font-family: 'Open Sans', verdana, arial, sans-serif; font-size: 12px; fill: rgb(42, 63, 95); fill-opacity: 1; white-space: pre; opacity: 1;\" transform=\"translate(475.14,0)\">15k</text></g><g class=\"xtick\"><text text-anchor=\"middle\" x=\"0\" y=\"433\" style=\"font-family: 'Open Sans', verdana, arial, sans-serif; font-size: 12px; fill: rgb(42, 63, 95); fill-opacity: 1; white-space: pre; opacity: 1;\" transform=\"translate(606.84,0)\">20k</text></g></g><g class=\"yaxislayer-above\"><g class=\"ytick\"><text text-anchor=\"end\" x=\"79\" y=\"4.199999999999999\" transform=\"translate(0,420)\" style=\"font-family: 'Open Sans', verdana, arial, sans-serif; font-size: 12px; fill: rgb(42, 63, 95); fill-opacity: 1; white-space: pre; opacity: 1;\">0</text></g><g class=\"ytick\"><text text-anchor=\"end\" x=\"79\" y=\"4.199999999999999\" style=\"font-family: 'Open Sans', verdana, arial, sans-serif; font-size: 12px; fill: rgb(42, 63, 95); fill-opacity: 1; white-space: pre; opacity: 1;\" transform=\"translate(0,383.87)\">5k</text></g><g class=\"ytick\"><text text-anchor=\"end\" x=\"79\" y=\"4.199999999999999\" style=\"font-family: 'Open Sans', verdana, arial, sans-serif; font-size: 12px; fill: rgb(42, 63, 95); fill-opacity: 1; white-space: pre; opacity: 1;\" transform=\"translate(0,347.73)\">10k</text></g><g class=\"ytick\"><text text-anchor=\"end\" x=\"79\" y=\"4.199999999999999\" style=\"font-family: 'Open Sans', verdana, arial, sans-serif; font-size: 12px; fill: rgb(42, 63, 95); fill-opacity: 1; white-space: pre; opacity: 1;\" transform=\"translate(0,311.6)\">15k</text></g><g class=\"ytick\"><text text-anchor=\"end\" x=\"79\" y=\"4.199999999999999\" style=\"font-family: 'Open Sans', verdana, arial, sans-serif; font-size: 12px; fill: rgb(42, 63, 95); fill-opacity: 1; white-space: pre; opacity: 1;\" transform=\"translate(0,275.47)\">20k</text></g><g class=\"ytick\"><text text-anchor=\"end\" x=\"79\" y=\"4.199999999999999\" style=\"font-family: 'Open Sans', verdana, arial, sans-serif; font-size: 12px; fill: rgb(42, 63, 95); fill-opacity: 1; white-space: pre; opacity: 1;\" transform=\"translate(0,239.33)\">25k</text></g><g class=\"ytick\"><text text-anchor=\"end\" x=\"79\" y=\"4.199999999999999\" style=\"font-family: 'Open Sans', verdana, arial, sans-serif; font-size: 12px; fill: rgb(42, 63, 95); fill-opacity: 1; white-space: pre; opacity: 1;\" transform=\"translate(0,203.2)\">30k</text></g><g class=\"ytick\"><text text-anchor=\"end\" x=\"79\" y=\"4.199999999999999\" style=\"font-family: 'Open Sans', verdana, arial, sans-serif; font-size: 12px; fill: rgb(42, 63, 95); fill-opacity: 1; white-space: pre; opacity: 1;\" transform=\"translate(0,167.06)\">35k</text></g><g class=\"ytick\"><text text-anchor=\"end\" x=\"79\" y=\"4.199999999999999\" style=\"font-family: 'Open Sans', verdana, arial, sans-serif; font-size: 12px; fill: rgb(42, 63, 95); fill-opacity: 1; white-space: pre; opacity: 1;\" transform=\"translate(0,130.93)\">40k</text></g></g><g class=\"overaxes-above\"/></g></g><g class=\"polarlayer\"/><g class=\"smithlayer\"/><g class=\"ternarylayer\"/><g class=\"geolayer\"/><g class=\"funnelarealayer\"/><g class=\"pielayer\"/><g class=\"iciclelayer\"/><g class=\"treemaplayer\"/><g class=\"sunburstlayer\"/><g class=\"glimages\"/><defs id=\"topdefs-3b70ec\"><g class=\"clips\"/></defs><g class=\"layer-above\"><g class=\"imagelayer\"/><g class=\"shapelayer\"/></g><g class=\"infolayer\"><g class=\"g-gtitle\"><text class=\"gtitle\" x=\"35\" y=\"50\" text-anchor=\"start\" dy=\"0em\" style=\"font-family: 'Open Sans', verdana, arial, sans-serif; font-size: 17px; fill: rgb(42, 63, 95); opacity: 1; font-weight: normal; white-space: pre;\">Распределение параметра Price</text></g><g class=\"g-xtitle\"/><g class=\"g-ytitle\"/></g></svg>"
      ]
     },
     "metadata": {},
     "output_type": "display_data"
    },
    {
     "data": {
      "image/svg+xml": [
       "<svg class=\"main-svg\" xmlns=\"http://www.w3.org/2000/svg\" xmlns:xlink=\"http://www.w3.org/1999/xlink\" width=\"700\" height=\"500\" style=\"\" viewBox=\"0 0 700 500\"><rect x=\"0\" y=\"0\" width=\"700\" height=\"500\" style=\"fill: rgb(255, 255, 255); fill-opacity: 1;\"/><defs id=\"defs-17c9ef\"><g class=\"clips\"><clipPath id=\"clip17c9efxyplot\" class=\"plotclip\"><rect width=\"540\" height=\"320\"/></clipPath><clipPath class=\"axesclip\" id=\"clip17c9efx\"><rect x=\"80\" y=\"0\" width=\"540\" height=\"500\"/></clipPath><clipPath class=\"axesclip\" id=\"clip17c9efy\"><rect x=\"0\" y=\"100\" width=\"700\" height=\"320\"/></clipPath><clipPath class=\"axesclip\" id=\"clip17c9efxy\"><rect x=\"80\" y=\"100\" width=\"540\" height=\"320\"/></clipPath></g><g class=\"gradients\"/><g class=\"patterns\"/></defs><g class=\"bglayer\"><rect class=\"bg\" x=\"80\" y=\"100\" width=\"540\" height=\"320\" style=\"fill: rgb(229, 236, 246); fill-opacity: 1; stroke-width: 0;\"/></g><g class=\"layer-below\"><g class=\"imagelayer\"/><g class=\"shapelayer\"/></g><g class=\"cartesianlayer\"><g class=\"subplot xy\"><g class=\"layer-subplot\"><g class=\"shapelayer\"/><g class=\"imagelayer\"/></g><g class=\"minor-gridlayer\"><g class=\"x\"/><g class=\"y\"/></g><g class=\"gridlayer\"><g class=\"x\"/><g class=\"y\"><path class=\"ygrid crisp\" transform=\"translate(0,352.64)\" d=\"M80,0h540\" style=\"stroke: rgb(255, 255, 255); stroke-opacity: 1; stroke-width: 1px;\"/><path class=\"ygrid crisp\" transform=\"translate(0,285.27)\" d=\"M80,0h540\" style=\"stroke: rgb(255, 255, 255); stroke-opacity: 1; stroke-width: 1px;\"/><path class=\"ygrid crisp\" transform=\"translate(0,217.91)\" d=\"M80,0h540\" style=\"stroke: rgb(255, 255, 255); stroke-opacity: 1; stroke-width: 1px;\"/><path class=\"ygrid crisp\" transform=\"translate(0,150.54)\" d=\"M80,0h540\" style=\"stroke: rgb(255, 255, 255); stroke-opacity: 1; stroke-width: 1px;\"/></g></g><g class=\"zerolinelayer\"><path class=\"yzl zl crisp\" transform=\"translate(0,420)\" d=\"M80,0h540\" style=\"stroke: rgb(255, 255, 255); stroke-opacity: 1; stroke-width: 2px;\"/></g><path class=\"xlines-below\"/><path class=\"ylines-below\"/><g class=\"overlines-below\"/><g class=\"xaxislayer-below\"/><g class=\"yaxislayer-below\"/><g class=\"overaxes-below\"/><g class=\"plot\" transform=\"translate(80,100)\" clip-path=\"url(#clip17c9efxyplot)\"><g class=\"barlayer mlayer\"><g class=\"trace bars\" shape-rendering=\"crispEdges\" style=\"opacity: 1;\"><g class=\"points\"><g class=\"point\"><path d=\"M0,320V319.98H25.71V320Z\" style=\"vector-effect: non-scaling-stroke; opacity: 1; stroke-width: 0px; fill: rgb(99, 110, 250); fill-opacity: 1;\"/></g><g class=\"point\"><path d=\"M0,0Z\" style=\"vector-effect: non-scaling-stroke; opacity: 1; stroke-width: 0px; fill: rgb(99, 110, 250); fill-opacity: 1;\"/></g><g class=\"point\"><path d=\"M0,0Z\" style=\"vector-effect: non-scaling-stroke; opacity: 1; stroke-width: 0px; fill: rgb(99, 110, 250); fill-opacity: 1;\"/></g><g class=\"point\"><path d=\"M0,0Z\" style=\"vector-effect: non-scaling-stroke; opacity: 1; stroke-width: 0px; fill: rgb(99, 110, 250); fill-opacity: 1;\"/></g><g class=\"point\"><path d=\"M0,0Z\" style=\"vector-effect: non-scaling-stroke; opacity: 1; stroke-width: 0px; fill: rgb(99, 110, 250); fill-opacity: 1;\"/></g><g class=\"point\"><path d=\"M0,0Z\" style=\"vector-effect: non-scaling-stroke; opacity: 1; stroke-width: 0px; fill: rgb(99, 110, 250); fill-opacity: 1;\"/></g><g class=\"point\"><path d=\"M0,0Z\" style=\"vector-effect: non-scaling-stroke; opacity: 1; stroke-width: 0px; fill: rgb(99, 110, 250); fill-opacity: 1;\"/></g><g class=\"point\"><path d=\"M0,0Z\" style=\"vector-effect: non-scaling-stroke; opacity: 1; stroke-width: 0px; fill: rgb(99, 110, 250); fill-opacity: 1;\"/></g><g class=\"point\"><path d=\"M0,0Z\" style=\"vector-effect: non-scaling-stroke; opacity: 1; stroke-width: 0px; fill: rgb(99, 110, 250); fill-opacity: 1;\"/></g><g class=\"point\"><path d=\"M0,0Z\" style=\"vector-effect: non-scaling-stroke; opacity: 1; stroke-width: 0px; fill: rgb(99, 110, 250); fill-opacity: 1;\"/></g><g class=\"point\"><path d=\"M0,0Z\" style=\"vector-effect: non-scaling-stroke; opacity: 1; stroke-width: 0px; fill: rgb(99, 110, 250); fill-opacity: 1;\"/></g><g class=\"point\"><path d=\"M0,0Z\" style=\"vector-effect: non-scaling-stroke; opacity: 1; stroke-width: 0px; fill: rgb(99, 110, 250); fill-opacity: 1;\"/></g><g class=\"point\"><path d=\"M0,0Z\" style=\"vector-effect: non-scaling-stroke; opacity: 1; stroke-width: 0px; fill: rgb(99, 110, 250); fill-opacity: 1;\"/></g><g class=\"point\"><path d=\"M0,0Z\" style=\"vector-effect: non-scaling-stroke; opacity: 1; stroke-width: 0px; fill: rgb(99, 110, 250); fill-opacity: 1;\"/></g><g class=\"point\"><path d=\"M0,0Z\" style=\"vector-effect: non-scaling-stroke; opacity: 1; stroke-width: 0px; fill: rgb(99, 110, 250); fill-opacity: 1;\"/></g><g class=\"point\"><path d=\"M0,0Z\" style=\"vector-effect: non-scaling-stroke; opacity: 1; stroke-width: 0px; fill: rgb(99, 110, 250); fill-opacity: 1;\"/></g><g class=\"point\"><path d=\"M0,0Z\" style=\"vector-effect: non-scaling-stroke; opacity: 1; stroke-width: 0px; fill: rgb(99, 110, 250); fill-opacity: 1;\"/></g><g class=\"point\"><path d=\"M0,0Z\" style=\"vector-effect: non-scaling-stroke; opacity: 1; stroke-width: 0px; fill: rgb(99, 110, 250); fill-opacity: 1;\"/></g><g class=\"point\"><path d=\"M462.86,320V319.82H488.57V320Z\" style=\"vector-effect: non-scaling-stroke; opacity: 1; stroke-width: 0px; fill: rgb(99, 110, 250); fill-opacity: 1;\"/></g><g class=\"point\"><path d=\"M488.57,320V184.12H514.29V320Z\" style=\"vector-effect: non-scaling-stroke; opacity: 1; stroke-width: 0px; fill: rgb(99, 110, 250); fill-opacity: 1;\"/></g><g class=\"point\"><path d=\"M514.29,320V16H540V320Z\" style=\"vector-effect: non-scaling-stroke; opacity: 1; stroke-width: 0px; fill: rgb(99, 110, 250); fill-opacity: 1;\"/></g></g></g></g></g><g class=\"overplot\"/><path class=\"xlines-above crisp\" d=\"M0,0\" style=\"fill: none;\"/><path class=\"ylines-above crisp\" d=\"M0,0\" style=\"fill: none;\"/><g class=\"overlines-above\"/><g class=\"xaxislayer-above\"><g class=\"xtick\"><text text-anchor=\"middle\" x=\"0\" y=\"433\" transform=\"translate(80.26,0)\" style=\"font-family: 'Open Sans', verdana, arial, sans-serif; font-size: 12px; fill: rgb(42, 63, 95); fill-opacity: 1; white-space: pre; opacity: 1;\">1000</text></g><g class=\"xtick\"><text text-anchor=\"middle\" x=\"0\" y=\"433\" style=\"font-family: 'Open Sans', verdana, arial, sans-serif; font-size: 12px; fill: rgb(42, 63, 95); fill-opacity: 1; white-space: pre; opacity: 1;\" transform=\"translate(183.11,0)\">1200</text></g><g class=\"xtick\"><text text-anchor=\"middle\" x=\"0\" y=\"433\" style=\"font-family: 'Open Sans', verdana, arial, sans-serif; font-size: 12px; fill: rgb(42, 63, 95); fill-opacity: 1; white-space: pre; opacity: 1;\" transform=\"translate(285.97,0)\">1400</text></g><g class=\"xtick\"><text text-anchor=\"middle\" x=\"0\" y=\"433\" style=\"font-family: 'Open Sans', verdana, arial, sans-serif; font-size: 12px; fill: rgb(42, 63, 95); fill-opacity: 1; white-space: pre; opacity: 1;\" transform=\"translate(388.83,0)\">1600</text></g><g class=\"xtick\"><text text-anchor=\"middle\" x=\"0\" y=\"433\" style=\"font-family: 'Open Sans', verdana, arial, sans-serif; font-size: 12px; fill: rgb(42, 63, 95); fill-opacity: 1; white-space: pre; opacity: 1;\" transform=\"translate(491.69,0)\">1800</text></g><g class=\"xtick\"><text text-anchor=\"middle\" x=\"0\" y=\"433\" style=\"font-family: 'Open Sans', verdana, arial, sans-serif; font-size: 12px; fill: rgb(42, 63, 95); fill-opacity: 1; white-space: pre; opacity: 1;\" transform=\"translate(594.54,0)\">2000</text></g></g><g class=\"yaxislayer-above\"><g class=\"ytick\"><text text-anchor=\"end\" x=\"79\" y=\"4.199999999999999\" transform=\"translate(0,420)\" style=\"font-family: 'Open Sans', verdana, arial, sans-serif; font-size: 12px; fill: rgb(42, 63, 95); fill-opacity: 1; white-space: pre; opacity: 1;\">0</text></g><g class=\"ytick\"><text text-anchor=\"end\" x=\"79\" y=\"4.199999999999999\" style=\"font-family: 'Open Sans', verdana, arial, sans-serif; font-size: 12px; fill: rgb(42, 63, 95); fill-opacity: 1; white-space: pre; opacity: 1;\" transform=\"translate(0,352.64)\">50k</text></g><g class=\"ytick\"><text text-anchor=\"end\" x=\"79\" y=\"4.199999999999999\" style=\"font-family: 'Open Sans', verdana, arial, sans-serif; font-size: 12px; fill: rgb(42, 63, 95); fill-opacity: 1; white-space: pre; opacity: 1;\" transform=\"translate(0,285.27)\">100k</text></g><g class=\"ytick\"><text text-anchor=\"end\" x=\"79\" y=\"4.199999999999999\" style=\"font-family: 'Open Sans', verdana, arial, sans-serif; font-size: 12px; fill: rgb(42, 63, 95); fill-opacity: 1; white-space: pre; opacity: 1;\" transform=\"translate(0,217.91)\">150k</text></g><g class=\"ytick\"><text text-anchor=\"end\" x=\"79\" y=\"4.199999999999999\" style=\"font-family: 'Open Sans', verdana, arial, sans-serif; font-size: 12px; fill: rgb(42, 63, 95); fill-opacity: 1; white-space: pre; opacity: 1;\" transform=\"translate(0,150.54)\">200k</text></g></g><g class=\"overaxes-above\"/></g></g><g class=\"polarlayer\"/><g class=\"smithlayer\"/><g class=\"ternarylayer\"/><g class=\"geolayer\"/><g class=\"funnelarealayer\"/><g class=\"pielayer\"/><g class=\"iciclelayer\"/><g class=\"treemaplayer\"/><g class=\"sunburstlayer\"/><g class=\"glimages\"/><defs id=\"topdefs-17c9ef\"><g class=\"clips\"/></defs><g class=\"layer-above\"><g class=\"imagelayer\"/><g class=\"shapelayer\"/></g><g class=\"infolayer\"><g class=\"g-gtitle\"><text class=\"gtitle\" x=\"35\" y=\"50\" text-anchor=\"start\" dy=\"0em\" style=\"font-family: 'Open Sans', verdana, arial, sans-serif; font-size: 17px; fill: rgb(42, 63, 95); opacity: 1; font-weight: normal; white-space: pre;\">Распределение параметра RegistrationYear</text></g><g class=\"g-xtitle\"/><g class=\"g-ytitle\"/></g></svg>"
      ]
     },
     "metadata": {},
     "output_type": "display_data"
    },
    {
     "data": {
      "image/svg+xml": [
       "<svg class=\"main-svg\" xmlns=\"http://www.w3.org/2000/svg\" xmlns:xlink=\"http://www.w3.org/1999/xlink\" width=\"700\" height=\"500\" style=\"\" viewBox=\"0 0 700 500\"><rect x=\"0\" y=\"0\" width=\"700\" height=\"500\" style=\"fill: rgb(255, 255, 255); fill-opacity: 1;\"/><defs id=\"defs-516fb0\"><g class=\"clips\"><clipPath id=\"clip516fb0xyplot\" class=\"plotclip\"><rect width=\"540\" height=\"320\"/></clipPath><clipPath class=\"axesclip\" id=\"clip516fb0x\"><rect x=\"80\" y=\"0\" width=\"540\" height=\"500\"/></clipPath><clipPath class=\"axesclip\" id=\"clip516fb0y\"><rect x=\"0\" y=\"100\" width=\"700\" height=\"320\"/></clipPath><clipPath class=\"axesclip\" id=\"clip516fb0xy\"><rect x=\"80\" y=\"100\" width=\"540\" height=\"320\"/></clipPath></g><g class=\"gradients\"/><g class=\"patterns\"/></defs><g class=\"bglayer\"><rect class=\"bg\" x=\"80\" y=\"100\" width=\"540\" height=\"320\" style=\"fill: rgb(229, 236, 246); fill-opacity: 1; stroke-width: 0;\"/></g><g class=\"layer-below\"><g class=\"imagelayer\"/><g class=\"shapelayer\"/></g><g class=\"cartesianlayer\"><g class=\"subplot xy\"><g class=\"layer-subplot\"><g class=\"shapelayer\"/><g class=\"imagelayer\"/></g><g class=\"minor-gridlayer\"><g class=\"x\"/><g class=\"y\"/></g><g class=\"gridlayer\"><g class=\"x\"/><g class=\"y\"><path class=\"ygrid crisp\" transform=\"translate(0,366.32)\" d=\"M80,0h540\" style=\"stroke: rgb(255, 255, 255); stroke-opacity: 1; stroke-width: 1px;\"/><path class=\"ygrid crisp\" transform=\"translate(0,312.64)\" d=\"M80,0h540\" style=\"stroke: rgb(255, 255, 255); stroke-opacity: 1; stroke-width: 1px;\"/><path class=\"ygrid crisp\" transform=\"translate(0,258.97)\" d=\"M80,0h540\" style=\"stroke: rgb(255, 255, 255); stroke-opacity: 1; stroke-width: 1px;\"/><path class=\"ygrid crisp\" transform=\"translate(0,205.29000000000002)\" d=\"M80,0h540\" style=\"stroke: rgb(255, 255, 255); stroke-opacity: 1; stroke-width: 1px;\"/><path class=\"ygrid crisp\" transform=\"translate(0,151.61)\" d=\"M80,0h540\" style=\"stroke: rgb(255, 255, 255); stroke-opacity: 1; stroke-width: 1px;\"/></g></g><g class=\"zerolinelayer\"><path class=\"yzl zl crisp\" transform=\"translate(0,420)\" d=\"M80,0h540\" style=\"stroke: rgb(255, 255, 255); stroke-opacity: 1; stroke-width: 2px;\"/></g><path class=\"xlines-below\"/><path class=\"ylines-below\"/><g class=\"overlines-below\"/><g class=\"xaxislayer-below\"/><g class=\"yaxislayer-below\"/><g class=\"overaxes-below\"/><g class=\"plot\" transform=\"translate(80,100)\" clip-path=\"url(#clip516fb0xyplot)\"><g class=\"barlayer mlayer\"><g class=\"trace bars\" shape-rendering=\"crispEdges\" style=\"opacity: 1;\"><g class=\"points\"><g class=\"point\"><path d=\"M0,320V221.79H10.8V320Z\" style=\"vector-effect: non-scaling-stroke; opacity: 1; stroke-width: 0px; fill: rgb(99, 110, 250); fill-opacity: 1;\"/></g><g class=\"point\"><path d=\"M10.8,320V52.13H21.6V320Z\" style=\"vector-effect: non-scaling-stroke; opacity: 1; stroke-width: 0px; fill: rgb(99, 110, 250); fill-opacity: 1;\"/></g><g class=\"point\"><path d=\"M21.6,320V16H32.4V320Z\" style=\"vector-effect: non-scaling-stroke; opacity: 1; stroke-width: 0px; fill: rgb(99, 110, 250); fill-opacity: 1;\"/></g><g class=\"point\"><path d=\"M32.4,320V177.57H43.2V320Z\" style=\"vector-effect: non-scaling-stroke; opacity: 1; stroke-width: 0px; fill: rgb(99, 110, 250); fill-opacity: 1;\"/></g><g class=\"point\"><path d=\"M43.2,320V276.64H54V320Z\" style=\"vector-effect: non-scaling-stroke; opacity: 1; stroke-width: 0px; fill: rgb(99, 110, 250); fill-opacity: 1;\"/></g><g class=\"point\"><path d=\"M54,320V308.35H64.8V320Z\" style=\"vector-effect: non-scaling-stroke; opacity: 1; stroke-width: 0px; fill: rgb(99, 110, 250); fill-opacity: 1;\"/></g><g class=\"point\"><path d=\"M64.8,320V313.66H75.6V320Z\" style=\"vector-effect: non-scaling-stroke; opacity: 1; stroke-width: 0px; fill: rgb(99, 110, 250); fill-opacity: 1;\"/></g><g class=\"point\"><path d=\"M75.6,320V318.86H86.4V320Z\" style=\"vector-effect: non-scaling-stroke; opacity: 1; stroke-width: 0px; fill: rgb(99, 110, 250); fill-opacity: 1;\"/></g><g class=\"point\"><path d=\"M86.4,320V319.58H97.2V320Z\" style=\"vector-effect: non-scaling-stroke; opacity: 1; stroke-width: 0px; fill: rgb(99, 110, 250); fill-opacity: 1;\"/></g><g class=\"point\"><path d=\"M97.2,320V319.67H108V320Z\" style=\"vector-effect: non-scaling-stroke; opacity: 1; stroke-width: 0px; fill: rgb(99, 110, 250); fill-opacity: 1;\"/></g><g class=\"point\"><path d=\"M108,320V319.8H118.8V320Z\" style=\"vector-effect: non-scaling-stroke; opacity: 1; stroke-width: 0px; fill: rgb(99, 110, 250); fill-opacity: 1;\"/></g><g class=\"point\"><path d=\"M118.8,320V319.95H129.6V320Z\" style=\"vector-effect: non-scaling-stroke; opacity: 1; stroke-width: 0px; fill: rgb(99, 110, 250); fill-opacity: 1;\"/></g><g class=\"point\"><path d=\"M129.6,320V319.93H140.4V320Z\" style=\"vector-effect: non-scaling-stroke; opacity: 1; stroke-width: 0px; fill: rgb(99, 110, 250); fill-opacity: 1;\"/></g><g class=\"point\"><path d=\"M140.4,320V319.98H151.2V320Z\" style=\"vector-effect: non-scaling-stroke; opacity: 1; stroke-width: 0px; fill: rgb(99, 110, 250); fill-opacity: 1;\"/></g><g class=\"point\"><path d=\"M151.2,320V319.98H162V320Z\" style=\"vector-effect: non-scaling-stroke; opacity: 1; stroke-width: 0px; fill: rgb(99, 110, 250); fill-opacity: 1;\"/></g><g class=\"point\"><path d=\"M162,320V319.98H172.8V320Z\" style=\"vector-effect: non-scaling-stroke; opacity: 1; stroke-width: 0px; fill: rgb(99, 110, 250); fill-opacity: 1;\"/></g><g class=\"point\"><path d=\"M172.8,320V319.99H183.6V320Z\" style=\"vector-effect: non-scaling-stroke; opacity: 1; stroke-width: 0px; fill: rgb(99, 110, 250); fill-opacity: 1;\"/></g><g class=\"point\"><path d=\"M183.6,320V319.99H194.4V320Z\" style=\"vector-effect: non-scaling-stroke; opacity: 1; stroke-width: 0px; fill: rgb(99, 110, 250); fill-opacity: 1;\"/></g><g class=\"point\"><path d=\"M194.4,320V319.98H205.2V320Z\" style=\"vector-effect: non-scaling-stroke; opacity: 1; stroke-width: 0px; fill: rgb(99, 110, 250); fill-opacity: 1;\"/></g><g class=\"point\"><path d=\"M205.2,320V319.97H216V320Z\" style=\"vector-effect: non-scaling-stroke; opacity: 1; stroke-width: 0px; fill: rgb(99, 110, 250); fill-opacity: 1;\"/></g><g class=\"point\"><path d=\"M216,320V319.92H226.8V320Z\" style=\"vector-effect: non-scaling-stroke; opacity: 1; stroke-width: 0px; fill: rgb(99, 110, 250); fill-opacity: 1;\"/></g><g class=\"point\"><path d=\"M226.8,320V319.98H237.6V320Z\" style=\"vector-effect: non-scaling-stroke; opacity: 1; stroke-width: 0px; fill: rgb(99, 110, 250); fill-opacity: 1;\"/></g><g class=\"point\"><path d=\"M237.6,320V319.98H248.4V320Z\" style=\"vector-effect: non-scaling-stroke; opacity: 1; stroke-width: 0px; fill: rgb(99, 110, 250); fill-opacity: 1;\"/></g><g class=\"point\"><path d=\"M248.4,320V319.99H259.2V320Z\" style=\"vector-effect: non-scaling-stroke; opacity: 1; stroke-width: 0px; fill: rgb(99, 110, 250); fill-opacity: 1;\"/></g><g class=\"point\"><path d=\"M259.2,320V319.98H270V320Z\" style=\"vector-effect: non-scaling-stroke; opacity: 1; stroke-width: 0px; fill: rgb(99, 110, 250); fill-opacity: 1;\"/></g><g class=\"point\"><path d=\"M270,320V319.99H280.8V320Z\" style=\"vector-effect: non-scaling-stroke; opacity: 1; stroke-width: 0px; fill: rgb(99, 110, 250); fill-opacity: 1;\"/></g><g class=\"point\"><path d=\"M280.8,320V319.99H291.6V320Z\" style=\"vector-effect: non-scaling-stroke; opacity: 1; stroke-width: 0px; fill: rgb(99, 110, 250); fill-opacity: 1;\"/></g><g class=\"point\"><path d=\"M291.6,320V319.97H302.4V320Z\" style=\"vector-effect: non-scaling-stroke; opacity: 1; stroke-width: 0px; fill: rgb(99, 110, 250); fill-opacity: 1;\"/></g><g class=\"point\"><path d=\"M302.4,320V319.96H313.2V320Z\" style=\"vector-effect: non-scaling-stroke; opacity: 1; stroke-width: 0px; fill: rgb(99, 110, 250); fill-opacity: 1;\"/></g><g class=\"point\"><path d=\"M0,0Z\" style=\"vector-effect: non-scaling-stroke; opacity: 1; stroke-width: 0px; fill: rgb(99, 110, 250); fill-opacity: 1;\"/></g><g class=\"point\"><path d=\"M324,320V319.97H334.8V320Z\" style=\"vector-effect: non-scaling-stroke; opacity: 1; stroke-width: 0px; fill: rgb(99, 110, 250); fill-opacity: 1;\"/></g><g class=\"point\"><path d=\"M334.8,320V319.97H345.6V320Z\" style=\"vector-effect: non-scaling-stroke; opacity: 1; stroke-width: 0px; fill: rgb(99, 110, 250); fill-opacity: 1;\"/></g><g class=\"point\"><path d=\"M345.6,320V319.98H356.4V320Z\" style=\"vector-effect: non-scaling-stroke; opacity: 1; stroke-width: 0px; fill: rgb(99, 110, 250); fill-opacity: 1;\"/></g><g class=\"point\"><path d=\"M356.4,320V319.99H367.2V320Z\" style=\"vector-effect: non-scaling-stroke; opacity: 1; stroke-width: 0px; fill: rgb(99, 110, 250); fill-opacity: 1;\"/></g><g class=\"point\"><path d=\"M367.2,320V319.98H378V320Z\" style=\"vector-effect: non-scaling-stroke; opacity: 1; stroke-width: 0px; fill: rgb(99, 110, 250); fill-opacity: 1;\"/></g><g class=\"point\"><path d=\"M378,320V319.97H388.8V320Z\" style=\"vector-effect: non-scaling-stroke; opacity: 1; stroke-width: 0px; fill: rgb(99, 110, 250); fill-opacity: 1;\"/></g><g class=\"point\"><path d=\"M388.8,320V319.98H399.6V320Z\" style=\"vector-effect: non-scaling-stroke; opacity: 1; stroke-width: 0px; fill: rgb(99, 110, 250); fill-opacity: 1;\"/></g><g class=\"point\"><path d=\"M399.6,320V319.99H410.4V320Z\" style=\"vector-effect: non-scaling-stroke; opacity: 1; stroke-width: 0px; fill: rgb(99, 110, 250); fill-opacity: 1;\"/></g><g class=\"point\"><path d=\"M410.4,320V319.98H421.2V320Z\" style=\"vector-effect: non-scaling-stroke; opacity: 1; stroke-width: 0px; fill: rgb(99, 110, 250); fill-opacity: 1;\"/></g><g class=\"point\"><path d=\"M421.2,320V319.98H432V320Z\" style=\"vector-effect: non-scaling-stroke; opacity: 1; stroke-width: 0px; fill: rgb(99, 110, 250); fill-opacity: 1;\"/></g><g class=\"point\"><path d=\"M432,320V319.97H442.8V320Z\" style=\"vector-effect: non-scaling-stroke; opacity: 1; stroke-width: 0px; fill: rgb(99, 110, 250); fill-opacity: 1;\"/></g><g class=\"point\"><path d=\"M0,0Z\" style=\"vector-effect: non-scaling-stroke; opacity: 1; stroke-width: 0px; fill: rgb(99, 110, 250); fill-opacity: 1;\"/></g><g class=\"point\"><path d=\"M0,0Z\" style=\"vector-effect: non-scaling-stroke; opacity: 1; stroke-width: 0px; fill: rgb(99, 110, 250); fill-opacity: 1;\"/></g><g class=\"point\"><path d=\"M0,0Z\" style=\"vector-effect: non-scaling-stroke; opacity: 1; stroke-width: 0px; fill: rgb(99, 110, 250); fill-opacity: 1;\"/></g><g class=\"point\"><path d=\"M475.2,320V319.99H486V320Z\" style=\"vector-effect: non-scaling-stroke; opacity: 1; stroke-width: 0px; fill: rgb(99, 110, 250); fill-opacity: 1;\"/></g><g class=\"point\"><path d=\"M0,0Z\" style=\"vector-effect: non-scaling-stroke; opacity: 1; stroke-width: 0px; fill: rgb(99, 110, 250); fill-opacity: 1;\"/></g><g class=\"point\"><path d=\"M496.8,320V319.99H507.6V320Z\" style=\"vector-effect: non-scaling-stroke; opacity: 1; stroke-width: 0px; fill: rgb(99, 110, 250); fill-opacity: 1;\"/></g><g class=\"point\"><path d=\"M0,0Z\" style=\"vector-effect: non-scaling-stroke; opacity: 1; stroke-width: 0px; fill: rgb(99, 110, 250); fill-opacity: 1;\"/></g><g class=\"point\"><path d=\"M0,0Z\" style=\"vector-effect: non-scaling-stroke; opacity: 1; stroke-width: 0px; fill: rgb(99, 110, 250); fill-opacity: 1;\"/></g><g class=\"point\"><path d=\"M0,0Z\" style=\"vector-effect: non-scaling-stroke; opacity: 1; stroke-width: 0px; fill: rgb(99, 110, 250); fill-opacity: 1;\"/></g></g></g></g></g><g class=\"overplot\"/><path class=\"xlines-above crisp\" d=\"M0,0\" style=\"fill: none;\"/><path class=\"ylines-above crisp\" d=\"M0,0\" style=\"fill: none;\"/><g class=\"overlines-above\"/><g class=\"xaxislayer-above\"><g class=\"xtick\"><text text-anchor=\"middle\" x=\"0\" y=\"433\" transform=\"translate(80.11,0)\" style=\"font-family: 'Open Sans', verdana, arial, sans-serif; font-size: 12px; fill: rgb(42, 63, 95); fill-opacity: 1; white-space: pre; opacity: 1;\">0</text></g><g class=\"xtick\"><text text-anchor=\"middle\" x=\"0\" y=\"433\" style=\"font-family: 'Open Sans', verdana, arial, sans-serif; font-size: 12px; fill: rgb(42, 63, 95); fill-opacity: 1; white-space: pre; opacity: 1;\" transform=\"translate(188.11,0)\">500</text></g><g class=\"xtick\"><text text-anchor=\"middle\" x=\"0\" y=\"433\" style=\"font-family: 'Open Sans', verdana, arial, sans-serif; font-size: 12px; fill: rgb(42, 63, 95); fill-opacity: 1; white-space: pre; opacity: 1;\" transform=\"translate(296.11,0)\">1000</text></g><g class=\"xtick\"><text text-anchor=\"middle\" x=\"0\" y=\"433\" style=\"font-family: 'Open Sans', verdana, arial, sans-serif; font-size: 12px; fill: rgb(42, 63, 95); fill-opacity: 1; white-space: pre; opacity: 1;\" transform=\"translate(404.11,0)\">1500</text></g><g class=\"xtick\"><text text-anchor=\"middle\" x=\"0\" y=\"433\" style=\"font-family: 'Open Sans', verdana, arial, sans-serif; font-size: 12px; fill: rgb(42, 63, 95); fill-opacity: 1; white-space: pre; opacity: 1;\" transform=\"translate(512.11,0)\">2000</text></g></g><g class=\"yaxislayer-above\"><g class=\"ytick\"><text text-anchor=\"end\" x=\"79\" y=\"4.199999999999999\" transform=\"translate(0,420)\" style=\"font-family: 'Open Sans', verdana, arial, sans-serif; font-size: 12px; fill: rgb(42, 63, 95); fill-opacity: 1; white-space: pre; opacity: 1;\">0</text></g><g class=\"ytick\"><text text-anchor=\"end\" x=\"79\" y=\"4.199999999999999\" style=\"font-family: 'Open Sans', verdana, arial, sans-serif; font-size: 12px; fill: rgb(42, 63, 95); fill-opacity: 1; white-space: pre; opacity: 1;\" transform=\"translate(0,366.32)\">20k</text></g><g class=\"ytick\"><text text-anchor=\"end\" x=\"79\" y=\"4.199999999999999\" style=\"font-family: 'Open Sans', verdana, arial, sans-serif; font-size: 12px; fill: rgb(42, 63, 95); fill-opacity: 1; white-space: pre; opacity: 1;\" transform=\"translate(0,312.64)\">40k</text></g><g class=\"ytick\"><text text-anchor=\"end\" x=\"79\" y=\"4.199999999999999\" style=\"font-family: 'Open Sans', verdana, arial, sans-serif; font-size: 12px; fill: rgb(42, 63, 95); fill-opacity: 1; white-space: pre; opacity: 1;\" transform=\"translate(0,258.97)\">60k</text></g><g class=\"ytick\"><text text-anchor=\"end\" x=\"79\" y=\"4.199999999999999\" style=\"font-family: 'Open Sans', verdana, arial, sans-serif; font-size: 12px; fill: rgb(42, 63, 95); fill-opacity: 1; white-space: pre; opacity: 1;\" transform=\"translate(0,205.29000000000002)\">80k</text></g><g class=\"ytick\"><text text-anchor=\"end\" x=\"79\" y=\"4.199999999999999\" style=\"font-family: 'Open Sans', verdana, arial, sans-serif; font-size: 12px; fill: rgb(42, 63, 95); fill-opacity: 1; white-space: pre; opacity: 1;\" transform=\"translate(0,151.61)\">100k</text></g></g><g class=\"overaxes-above\"/></g></g><g class=\"polarlayer\"/><g class=\"smithlayer\"/><g class=\"ternarylayer\"/><g class=\"geolayer\"/><g class=\"funnelarealayer\"/><g class=\"pielayer\"/><g class=\"iciclelayer\"/><g class=\"treemaplayer\"/><g class=\"sunburstlayer\"/><g class=\"glimages\"/><defs id=\"topdefs-516fb0\"><g class=\"clips\"/></defs><g class=\"layer-above\"><g class=\"imagelayer\"/><g class=\"shapelayer\"/></g><g class=\"infolayer\"><g class=\"g-gtitle\"><text class=\"gtitle\" x=\"35\" y=\"50\" text-anchor=\"start\" dy=\"0em\" style=\"font-family: 'Open Sans', verdana, arial, sans-serif; font-size: 17px; fill: rgb(42, 63, 95); opacity: 1; font-weight: normal; white-space: pre;\">Распределение параметра Power</text></g><g class=\"g-xtitle\"/><g class=\"g-ytitle\"/></g></svg>"
      ]
     },
     "metadata": {},
     "output_type": "display_data"
    },
    {
     "data": {
      "image/svg+xml": [
       "<svg class=\"main-svg\" xmlns=\"http://www.w3.org/2000/svg\" xmlns:xlink=\"http://www.w3.org/1999/xlink\" width=\"700\" height=\"500\" style=\"\" viewBox=\"0 0 700 500\"><rect x=\"0\" y=\"0\" width=\"700\" height=\"500\" style=\"fill: rgb(255, 255, 255); fill-opacity: 1;\"/><defs id=\"defs-241476\"><g class=\"clips\"><clipPath id=\"clip241476xyplot\" class=\"plotclip\"><rect width=\"540\" height=\"320\"/></clipPath><clipPath class=\"axesclip\" id=\"clip241476x\"><rect x=\"80\" y=\"0\" width=\"540\" height=\"500\"/></clipPath><clipPath class=\"axesclip\" id=\"clip241476y\"><rect x=\"0\" y=\"100\" width=\"700\" height=\"320\"/></clipPath><clipPath class=\"axesclip\" id=\"clip241476xy\"><rect x=\"80\" y=\"100\" width=\"540\" height=\"320\"/></clipPath></g><g class=\"gradients\"/><g class=\"patterns\"/></defs><g class=\"bglayer\"><rect class=\"bg\" x=\"80\" y=\"100\" width=\"540\" height=\"320\" style=\"fill: rgb(229, 236, 246); fill-opacity: 1; stroke-width: 0;\"/></g><g class=\"layer-below\"><g class=\"imagelayer\"/><g class=\"shapelayer\"/></g><g class=\"cartesianlayer\"><g class=\"subplot xy\"><g class=\"layer-subplot\"><g class=\"shapelayer\"/><g class=\"imagelayer\"/></g><g class=\"minor-gridlayer\"><g class=\"x\"/><g class=\"y\"/></g><g class=\"gridlayer\"><g class=\"x\"/><g class=\"y\"><path class=\"ygrid crisp\" transform=\"translate(0,350.34000000000003)\" d=\"M80,0h540\" style=\"stroke: rgb(255, 255, 255); stroke-opacity: 1; stroke-width: 1px;\"/><path class=\"ygrid crisp\" transform=\"translate(0,280.68)\" d=\"M80,0h540\" style=\"stroke: rgb(255, 255, 255); stroke-opacity: 1; stroke-width: 1px;\"/><path class=\"ygrid crisp\" transform=\"translate(0,211.01)\" d=\"M80,0h540\" style=\"stroke: rgb(255, 255, 255); stroke-opacity: 1; stroke-width: 1px;\"/><path class=\"ygrid crisp\" transform=\"translate(0,141.35)\" d=\"M80,0h540\" style=\"stroke: rgb(255, 255, 255); stroke-opacity: 1; stroke-width: 1px;\"/></g></g><g class=\"zerolinelayer\"><path class=\"yzl zl crisp\" transform=\"translate(0,420)\" d=\"M80,0h540\" style=\"stroke: rgb(255, 255, 255); stroke-opacity: 1; stroke-width: 2px;\"/></g><path class=\"xlines-below\"/><path class=\"ylines-below\"/><g class=\"overlines-below\"/><g class=\"xaxislayer-below\"/><g class=\"yaxislayer-below\"/><g class=\"overaxes-below\"/><g class=\"plot\" transform=\"translate(80,100)\" clip-path=\"url(#clip241476xyplot)\"><g class=\"barlayer mlayer\"><g class=\"trace bars\" shape-rendering=\"crispEdges\" style=\"opacity: 1;\"><g class=\"points\"><g class=\"point\"><path d=\"M0,320V313.22H18V320Z\" style=\"vector-effect: non-scaling-stroke; opacity: 1; stroke-width: 0px; fill: rgb(99, 110, 250); fill-opacity: 1;\"/></g><g class=\"point\"><path d=\"M18,320V318.49H36V320Z\" style=\"vector-effect: non-scaling-stroke; opacity: 1; stroke-width: 0px; fill: rgb(99, 110, 250); fill-opacity: 1;\"/></g><g class=\"point\"><path d=\"M0,0Z\" style=\"vector-effect: non-scaling-stroke; opacity: 1; stroke-width: 0px; fill: rgb(99, 110, 250); fill-opacity: 1;\"/></g><g class=\"point\"><path d=\"M54,320V314.91H72V320Z\" style=\"vector-effect: non-scaling-stroke; opacity: 1; stroke-width: 0px; fill: rgb(99, 110, 250); fill-opacity: 1;\"/></g><g class=\"point\"><path d=\"M0,0Z\" style=\"vector-effect: non-scaling-stroke; opacity: 1; stroke-width: 0px; fill: rgb(99, 110, 250); fill-opacity: 1;\"/></g><g class=\"point\"><path d=\"M90,320V314.12H108V320Z\" style=\"vector-effect: non-scaling-stroke; opacity: 1; stroke-width: 0px; fill: rgb(99, 110, 250); fill-opacity: 1;\"/></g><g class=\"point\"><path d=\"M0,0Z\" style=\"vector-effect: non-scaling-stroke; opacity: 1; stroke-width: 0px; fill: rgb(99, 110, 250); fill-opacity: 1;\"/></g><g class=\"point\"><path d=\"M126,320V313.39H144V320Z\" style=\"vector-effect: non-scaling-stroke; opacity: 1; stroke-width: 0px; fill: rgb(99, 110, 250); fill-opacity: 1;\"/></g><g class=\"point\"><path d=\"M0,0Z\" style=\"vector-effect: non-scaling-stroke; opacity: 1; stroke-width: 0px; fill: rgb(99, 110, 250); fill-opacity: 1;\"/></g><g class=\"point\"><path d=\"M162,320V311.69H180V320Z\" style=\"vector-effect: non-scaling-stroke; opacity: 1; stroke-width: 0px; fill: rgb(99, 110, 250); fill-opacity: 1;\"/></g><g class=\"point\"><path d=\"M0,0Z\" style=\"vector-effect: non-scaling-stroke; opacity: 1; stroke-width: 0px; fill: rgb(99, 110, 250); fill-opacity: 1;\"/></g><g class=\"point\"><path d=\"M198,320V310.03H216V320Z\" style=\"vector-effect: non-scaling-stroke; opacity: 1; stroke-width: 0px; fill: rgb(99, 110, 250); fill-opacity: 1;\"/></g><g class=\"point\"><path d=\"M0,0Z\" style=\"vector-effect: non-scaling-stroke; opacity: 1; stroke-width: 0px; fill: rgb(99, 110, 250); fill-opacity: 1;\"/></g><g class=\"point\"><path d=\"M234,320V308.54H252V320Z\" style=\"vector-effect: non-scaling-stroke; opacity: 1; stroke-width: 0px; fill: rgb(99, 110, 250); fill-opacity: 1;\"/></g><g class=\"point\"><path d=\"M0,0Z\" style=\"vector-effect: non-scaling-stroke; opacity: 1; stroke-width: 0px; fill: rgb(99, 110, 250); fill-opacity: 1;\"/></g><g class=\"point\"><path d=\"M270,320V306.67H288V320Z\" style=\"vector-effect: non-scaling-stroke; opacity: 1; stroke-width: 0px; fill: rgb(99, 110, 250); fill-opacity: 1;\"/></g><g class=\"point\"><path d=\"M0,0Z\" style=\"vector-effect: non-scaling-stroke; opacity: 1; stroke-width: 0px; fill: rgb(99, 110, 250); fill-opacity: 1;\"/></g><g class=\"point\"><path d=\"M306,320V304.74H324V320Z\" style=\"vector-effect: non-scaling-stroke; opacity: 1; stroke-width: 0px; fill: rgb(99, 110, 250); fill-opacity: 1;\"/></g><g class=\"point\"><path d=\"M0,0Z\" style=\"vector-effect: non-scaling-stroke; opacity: 1; stroke-width: 0px; fill: rgb(99, 110, 250); fill-opacity: 1;\"/></g><g class=\"point\"><path d=\"M342,320V300.61H360V320Z\" style=\"vector-effect: non-scaling-stroke; opacity: 1; stroke-width: 0px; fill: rgb(99, 110, 250); fill-opacity: 1;\"/></g><g class=\"point\"><path d=\"M0,0Z\" style=\"vector-effect: non-scaling-stroke; opacity: 1; stroke-width: 0px; fill: rgb(99, 110, 250); fill-opacity: 1;\"/></g><g class=\"point\"><path d=\"M0,0Z\" style=\"vector-effect: non-scaling-stroke; opacity: 1; stroke-width: 0px; fill: rgb(99, 110, 250); fill-opacity: 1;\"/></g><g class=\"point\"><path d=\"M0,0Z\" style=\"vector-effect: non-scaling-stroke; opacity: 1; stroke-width: 0px; fill: rgb(99, 110, 250); fill-opacity: 1;\"/></g><g class=\"point\"><path d=\"M0,0Z\" style=\"vector-effect: non-scaling-stroke; opacity: 1; stroke-width: 0px; fill: rgb(99, 110, 250); fill-opacity: 1;\"/></g><g class=\"point\"><path d=\"M432,320V272.46H450V320Z\" style=\"vector-effect: non-scaling-stroke; opacity: 1; stroke-width: 0px; fill: rgb(99, 110, 250); fill-opacity: 1;\"/></g><g class=\"point\"><path d=\"M0,0Z\" style=\"vector-effect: non-scaling-stroke; opacity: 1; stroke-width: 0px; fill: rgb(99, 110, 250); fill-opacity: 1;\"/></g><g class=\"point\"><path d=\"M0,0Z\" style=\"vector-effect: non-scaling-stroke; opacity: 1; stroke-width: 0px; fill: rgb(99, 110, 250); fill-opacity: 1;\"/></g><g class=\"point\"><path d=\"M0,0Z\" style=\"vector-effect: non-scaling-stroke; opacity: 1; stroke-width: 0px; fill: rgb(99, 110, 250); fill-opacity: 1;\"/></g><g class=\"point\"><path d=\"M0,0Z\" style=\"vector-effect: non-scaling-stroke; opacity: 1; stroke-width: 0px; fill: rgb(99, 110, 250); fill-opacity: 1;\"/></g><g class=\"point\"><path d=\"M522,320V16H540V320Z\" style=\"vector-effect: non-scaling-stroke; opacity: 1; stroke-width: 0px; fill: rgb(99, 110, 250); fill-opacity: 1;\"/></g></g></g></g></g><g class=\"overplot\"/><path class=\"xlines-above crisp\" d=\"M0,0\" style=\"fill: none;\"/><path class=\"ylines-above crisp\" d=\"M0,0\" style=\"fill: none;\"/><g class=\"overlines-above\"/><g class=\"xaxislayer-above\"><g class=\"xtick\"><text text-anchor=\"middle\" x=\"0\" y=\"433\" transform=\"translate(134,0)\" style=\"font-family: 'Open Sans', verdana, arial, sans-serif; font-size: 12px; fill: rgb(42, 63, 95); fill-opacity: 1; white-space: pre; opacity: 1;\">20k</text></g><g class=\"xtick\"><text text-anchor=\"middle\" x=\"0\" y=\"433\" style=\"font-family: 'Open Sans', verdana, arial, sans-serif; font-size: 12px; fill: rgb(42, 63, 95); fill-opacity: 1; white-space: pre; opacity: 1;\" transform=\"translate(206,0)\">40k</text></g><g class=\"xtick\"><text text-anchor=\"middle\" x=\"0\" y=\"433\" style=\"font-family: 'Open Sans', verdana, arial, sans-serif; font-size: 12px; fill: rgb(42, 63, 95); fill-opacity: 1; white-space: pre; opacity: 1;\" transform=\"translate(278,0)\">60k</text></g><g class=\"xtick\"><text text-anchor=\"middle\" x=\"0\" y=\"433\" style=\"font-family: 'Open Sans', verdana, arial, sans-serif; font-size: 12px; fill: rgb(42, 63, 95); fill-opacity: 1; white-space: pre; opacity: 1;\" transform=\"translate(350,0)\">80k</text></g><g class=\"xtick\"><text text-anchor=\"middle\" x=\"0\" y=\"433\" style=\"font-family: 'Open Sans', verdana, arial, sans-serif; font-size: 12px; fill: rgb(42, 63, 95); fill-opacity: 1; white-space: pre; opacity: 1;\" transform=\"translate(422,0)\">100k</text></g><g class=\"xtick\"><text text-anchor=\"middle\" x=\"0\" y=\"433\" style=\"font-family: 'Open Sans', verdana, arial, sans-serif; font-size: 12px; fill: rgb(42, 63, 95); fill-opacity: 1; white-space: pre; opacity: 1;\" transform=\"translate(494,0)\">120k</text></g><g class=\"xtick\"><text text-anchor=\"middle\" x=\"0\" y=\"433\" style=\"font-family: 'Open Sans', verdana, arial, sans-serif; font-size: 12px; fill: rgb(42, 63, 95); fill-opacity: 1; white-space: pre; opacity: 1;\" transform=\"translate(566,0)\">140k</text></g></g><g class=\"yaxislayer-above\"><g class=\"ytick\"><text text-anchor=\"end\" x=\"79\" y=\"4.199999999999999\" transform=\"translate(0,420)\" style=\"font-family: 'Open Sans', verdana, arial, sans-serif; font-size: 12px; fill: rgb(42, 63, 95); fill-opacity: 1; white-space: pre; opacity: 1;\">0</text></g><g class=\"ytick\"><text text-anchor=\"end\" x=\"79\" y=\"4.199999999999999\" style=\"font-family: 'Open Sans', verdana, arial, sans-serif; font-size: 12px; fill: rgb(42, 63, 95); fill-opacity: 1; white-space: pre; opacity: 1;\" transform=\"translate(0,350.34000000000003)\">50k</text></g><g class=\"ytick\"><text text-anchor=\"end\" x=\"79\" y=\"4.199999999999999\" style=\"font-family: 'Open Sans', verdana, arial, sans-serif; font-size: 12px; fill: rgb(42, 63, 95); fill-opacity: 1; white-space: pre; opacity: 1;\" transform=\"translate(0,280.68)\">100k</text></g><g class=\"ytick\"><text text-anchor=\"end\" x=\"79\" y=\"4.199999999999999\" style=\"font-family: 'Open Sans', verdana, arial, sans-serif; font-size: 12px; fill: rgb(42, 63, 95); fill-opacity: 1; white-space: pre; opacity: 1;\" transform=\"translate(0,211.01)\">150k</text></g><g class=\"ytick\"><text text-anchor=\"end\" x=\"79\" y=\"4.199999999999999\" style=\"font-family: 'Open Sans', verdana, arial, sans-serif; font-size: 12px; fill: rgb(42, 63, 95); fill-opacity: 1; white-space: pre; opacity: 1;\" transform=\"translate(0,141.35)\">200k</text></g></g><g class=\"overaxes-above\"/></g></g><g class=\"polarlayer\"/><g class=\"smithlayer\"/><g class=\"ternarylayer\"/><g class=\"geolayer\"/><g class=\"funnelarealayer\"/><g class=\"pielayer\"/><g class=\"iciclelayer\"/><g class=\"treemaplayer\"/><g class=\"sunburstlayer\"/><g class=\"glimages\"/><defs id=\"topdefs-241476\"><g class=\"clips\"/></defs><g class=\"layer-above\"><g class=\"imagelayer\"/><g class=\"shapelayer\"/></g><g class=\"infolayer\"><g class=\"g-gtitle\"><text class=\"gtitle\" x=\"35\" y=\"50\" text-anchor=\"start\" dy=\"0em\" style=\"font-family: 'Open Sans', verdana, arial, sans-serif; font-size: 17px; fill: rgb(42, 63, 95); opacity: 1; font-weight: normal; white-space: pre;\">Распределение параметра Kilometer</text></g><g class=\"g-xtitle\"/><g class=\"g-ytitle\"/></g></svg>"
      ]
     },
     "metadata": {},
     "output_type": "display_data"
    }
   ],
   "source": [
    "for param in numeric:\n",
    "    plot_param(df, param)"
   ]
  },
  {
   "cell_type": "markdown",
   "metadata": {},
   "source": [
    "Price первый столбец буем рассматривать отдельно\\\n",
    "\\\n",
    "RegistrationYear раритеты до 70-ых годов не акутальны для предсказания моделей ввиду своей редкости, заодно и ошибки с невозможными датами уберем\\\n",
    "\\\n",
    "Power существуют серийные автомобили высокой мощности, а вот маломощные авто 0-50 выглядят сомнительно, их нужно изучить"
   ]
  },
  {
   "cell_type": "code",
   "execution_count": 44,
   "metadata": {},
   "outputs": [],
   "source": [
    "df = df[df['RegistrationYear'] > 1969]"
   ]
  },
  {
   "cell_type": "markdown",
   "metadata": {},
   "source": [
    "**Price**\n",
    "\n",
    "Это целевой признак, в нем важнее всего навести порядок"
   ]
  },
  {
   "cell_type": "code",
   "execution_count": 45,
   "metadata": {},
   "outputs": [
    {
     "data": {
      "text/plain": [
       "count    325466.000000\n",
       "mean       4561.967868\n",
       "std        4558.646527\n",
       "min           0.000000\n",
       "25%        1180.000000\n",
       "50%        2900.000000\n",
       "75%        6590.000000\n",
       "max       20000.000000\n",
       "Name: Price, dtype: float64"
      ]
     },
     "execution_count": 45,
     "metadata": {},
     "output_type": "execute_result"
    }
   ],
   "source": [
    "df['Price'].describe()"
   ]
  },
  {
   "cell_type": "markdown",
   "metadata": {},
   "source": [
    "Прежде всего удалим невозможные данные. Таких значений не мало:"
   ]
  },
  {
   "cell_type": "code",
   "execution_count": 46,
   "metadata": {},
   "outputs": [
    {
     "data": {
      "text/plain": [
       "13866"
      ]
     },
     "execution_count": 46,
     "metadata": {},
     "output_type": "execute_result"
    }
   ],
   "source": [
    "df[df['Price'] < 200]['Price'].count()"
   ]
  },
  {
   "cell_type": "code",
   "execution_count": 47,
   "metadata": {},
   "outputs": [],
   "source": [
    "df = df[df['Price'] > 200]"
   ]
  },
  {
   "cell_type": "code",
   "execution_count": 48,
   "metadata": {
    "scrolled": false
   },
   "outputs": [
    {
     "data": {
      "text/plain": [
       "count    14246.000000\n",
       "mean        64.523866\n",
       "std         67.000793\n",
       "min          0.000000\n",
       "25%         43.000000\n",
       "50%         60.000000\n",
       "75%         90.000000\n",
       "max       1999.000000\n",
       "Name: Power, dtype: float64"
      ]
     },
     "execution_count": 48,
     "metadata": {},
     "output_type": "execute_result"
    }
   ],
   "source": [
    "df[df['Price'] < 500]['Power'].describe()"
   ]
  },
  {
   "cell_type": "code",
   "execution_count": 49,
   "metadata": {},
   "outputs": [
    {
     "data": {
      "text/plain": [
       "count     14246.000000\n",
       "mean     137233.960410\n",
       "std       33657.191555\n",
       "min        5000.000000\n",
       "25%      150000.000000\n",
       "50%      150000.000000\n",
       "75%      150000.000000\n",
       "max      150000.000000\n",
       "Name: Kilometer, dtype: float64"
      ]
     },
     "execution_count": 49,
     "metadata": {},
     "output_type": "execute_result"
    }
   ],
   "source": [
    "df[df['Price'] < 500]['Kilometer'].describe()"
   ]
  },
  {
   "cell_type": "markdown",
   "metadata": {},
   "source": [
    "Подавляющиее большинство машин маломощные и с большим пробегом. Судя по всему, выше 150тыс пробега поставить нельзя, и на деле цифра может быть еще больше. Для таких случаев цена выглядит уже гораздо реалистичнее.\\\n",
    "Разберем подозрительные данные отдельно"
   ]
  },
  {
   "cell_type": "markdown",
   "metadata": {},
   "source": [
    "Power"
   ]
  },
  {
   "cell_type": "code",
   "execution_count": 50,
   "metadata": {},
   "outputs": [
    {
     "data": {
      "text/html": [
       "<div>\n",
       "<style scoped>\n",
       "    .dataframe tbody tr th:only-of-type {\n",
       "        vertical-align: middle;\n",
       "    }\n",
       "\n",
       "    .dataframe tbody tr th {\n",
       "        vertical-align: top;\n",
       "    }\n",
       "\n",
       "    .dataframe thead th {\n",
       "        text-align: right;\n",
       "    }\n",
       "</style>\n",
       "<table border=\"1\" class=\"dataframe\">\n",
       "  <thead>\n",
       "    <tr style=\"text-align: right;\">\n",
       "      <th></th>\n",
       "      <th>Price</th>\n",
       "      <th>RegistrationYear</th>\n",
       "      <th>Power</th>\n",
       "      <th>Kilometer</th>\n",
       "    </tr>\n",
       "  </thead>\n",
       "  <tbody>\n",
       "    <tr>\n",
       "      <th>count</th>\n",
       "      <td>10701.000000</td>\n",
       "      <td>10701.000000</td>\n",
       "      <td>10701.000000</td>\n",
       "      <td>10701.000000</td>\n",
       "    </tr>\n",
       "    <tr>\n",
       "      <th>mean</th>\n",
       "      <td>356.489767</td>\n",
       "      <td>1997.257826</td>\n",
       "      <td>85.386973</td>\n",
       "      <td>139608.447809</td>\n",
       "    </tr>\n",
       "    <tr>\n",
       "      <th>std</th>\n",
       "      <td>76.104229</td>\n",
       "      <td>3.472020</td>\n",
       "      <td>64.876120</td>\n",
       "      <td>29557.815034</td>\n",
       "    </tr>\n",
       "    <tr>\n",
       "      <th>min</th>\n",
       "      <td>202.000000</td>\n",
       "      <td>1972.000000</td>\n",
       "      <td>41.000000</td>\n",
       "      <td>5000.000000</td>\n",
       "    </tr>\n",
       "    <tr>\n",
       "      <th>25%</th>\n",
       "      <td>300.000000</td>\n",
       "      <td>1995.000000</td>\n",
       "      <td>60.000000</td>\n",
       "      <td>150000.000000</td>\n",
       "    </tr>\n",
       "    <tr>\n",
       "      <th>50%</th>\n",
       "      <td>350.000000</td>\n",
       "      <td>1997.000000</td>\n",
       "      <td>75.000000</td>\n",
       "      <td>150000.000000</td>\n",
       "    </tr>\n",
       "    <tr>\n",
       "      <th>75%</th>\n",
       "      <td>400.000000</td>\n",
       "      <td>1999.000000</td>\n",
       "      <td>101.000000</td>\n",
       "      <td>150000.000000</td>\n",
       "    </tr>\n",
       "    <tr>\n",
       "      <th>max</th>\n",
       "      <td>499.000000</td>\n",
       "      <td>2015.000000</td>\n",
       "      <td>1999.000000</td>\n",
       "      <td>150000.000000</td>\n",
       "    </tr>\n",
       "  </tbody>\n",
       "</table>\n",
       "</div>"
      ],
      "text/plain": [
       "              Price  RegistrationYear         Power      Kilometer\n",
       "count  10701.000000      10701.000000  10701.000000   10701.000000\n",
       "mean     356.489767       1997.257826     85.386973  139608.447809\n",
       "std       76.104229          3.472020     64.876120   29557.815034\n",
       "min      202.000000       1972.000000     41.000000    5000.000000\n",
       "25%      300.000000       1995.000000     60.000000  150000.000000\n",
       "50%      350.000000       1997.000000     75.000000  150000.000000\n",
       "75%      400.000000       1999.000000    101.000000  150000.000000\n",
       "max      499.000000       2015.000000   1999.000000  150000.000000"
      ]
     },
     "execution_count": 50,
     "metadata": {},
     "output_type": "execute_result"
    }
   ],
   "source": [
    "df[(df['Price'] < 500) & (df['Power'] > 40)].describe()"
   ]
  },
  {
   "cell_type": "code",
   "execution_count": 51,
   "metadata": {
    "scrolled": true
   },
   "outputs": [
    {
     "data": {
      "image/svg+xml": [
       "<svg class=\"main-svg\" xmlns=\"http://www.w3.org/2000/svg\" xmlns:xlink=\"http://www.w3.org/1999/xlink\" width=\"700\" height=\"500\" style=\"\" viewBox=\"0 0 700 500\"><rect x=\"0\" y=\"0\" width=\"700\" height=\"500\" style=\"fill: rgb(255, 255, 255); fill-opacity: 1;\"/><defs id=\"defs-71cdd2\"><g class=\"clips\"><clipPath id=\"clip71cdd2xyplot\" class=\"plotclip\"><rect width=\"540\" height=\"320\"/></clipPath><clipPath class=\"axesclip\" id=\"clip71cdd2x\"><rect x=\"80\" y=\"0\" width=\"540\" height=\"500\"/></clipPath><clipPath class=\"axesclip\" id=\"clip71cdd2y\"><rect x=\"0\" y=\"100\" width=\"700\" height=\"320\"/></clipPath><clipPath class=\"axesclip\" id=\"clip71cdd2xy\"><rect x=\"80\" y=\"100\" width=\"540\" height=\"320\"/></clipPath></g><g class=\"gradients\"/><g class=\"patterns\"/></defs><g class=\"bglayer\"><rect class=\"bg\" x=\"80\" y=\"100\" width=\"540\" height=\"320\" style=\"fill: rgb(229, 236, 246); fill-opacity: 1; stroke-width: 0;\"/></g><g class=\"layer-below\"><g class=\"imagelayer\"/><g class=\"shapelayer\"/></g><g class=\"cartesianlayer\"><g class=\"subplot xy\"><g class=\"layer-subplot\"><g class=\"shapelayer\"/><g class=\"imagelayer\"/></g><g class=\"minor-gridlayer\"><g class=\"x\"/><g class=\"y\"/></g><g class=\"gridlayer\"><g class=\"x\"/><g class=\"y\"><path class=\"ygrid crisp\" transform=\"translate(0,332.19)\" d=\"M80,0h540\" style=\"stroke: rgb(255, 255, 255); stroke-opacity: 1; stroke-width: 1px;\"/><path class=\"ygrid crisp\" transform=\"translate(0,244.38)\" d=\"M80,0h540\" style=\"stroke: rgb(255, 255, 255); stroke-opacity: 1; stroke-width: 1px;\"/><path class=\"ygrid crisp\" transform=\"translate(0,156.57)\" d=\"M80,0h540\" style=\"stroke: rgb(255, 255, 255); stroke-opacity: 1; stroke-width: 1px;\"/></g></g><g class=\"zerolinelayer\"><path class=\"yzl zl crisp\" transform=\"translate(0,420)\" d=\"M80,0h540\" style=\"stroke: rgb(255, 255, 255); stroke-opacity: 1; stroke-width: 2px;\"/></g><path class=\"xlines-below\"/><path class=\"ylines-below\"/><g class=\"overlines-below\"/><g class=\"xaxislayer-below\"/><g class=\"yaxislayer-below\"/><g class=\"overaxes-below\"/><g class=\"plot\" transform=\"translate(80,100)\" clip-path=\"url(#clip71cdd2xyplot)\"><g class=\"barlayer mlayer\"><g class=\"trace bars\" shape-rendering=\"crispEdges\" style=\"opacity: 1;\"><g class=\"points\"><g class=\"point\"><path d=\"M0,320V319.3H18V320Z\" style=\"vector-effect: non-scaling-stroke; opacity: 1; stroke-width: 0px; fill: rgb(99, 110, 250); fill-opacity: 1;\"/></g><g class=\"point\"><path d=\"M18,320V315.96H36V320Z\" style=\"vector-effect: non-scaling-stroke; opacity: 1; stroke-width: 0px; fill: rgb(99, 110, 250); fill-opacity: 1;\"/></g><g class=\"point\"><path d=\"M36,320V291.55H54V320Z\" style=\"vector-effect: non-scaling-stroke; opacity: 1; stroke-width: 0px; fill: rgb(99, 110, 250); fill-opacity: 1;\"/></g><g class=\"point\"><path d=\"M54,320V309.11H72V320Z\" style=\"vector-effect: non-scaling-stroke; opacity: 1; stroke-width: 0px; fill: rgb(99, 110, 250); fill-opacity: 1;\"/></g><g class=\"point\"><path d=\"M72,320V306.3H90V320Z\" style=\"vector-effect: non-scaling-stroke; opacity: 1; stroke-width: 0px; fill: rgb(99, 110, 250); fill-opacity: 1;\"/></g><g class=\"point\"><path d=\"M90,320V78.35H108V320Z\" style=\"vector-effect: non-scaling-stroke; opacity: 1; stroke-width: 0px; fill: rgb(99, 110, 250); fill-opacity: 1;\"/></g><g class=\"point\"><path d=\"M108,320V312.8H126V320Z\" style=\"vector-effect: non-scaling-stroke; opacity: 1; stroke-width: 0px; fill: rgb(99, 110, 250); fill-opacity: 1;\"/></g><g class=\"point\"><path d=\"M126,320V303.67H144V320Z\" style=\"vector-effect: non-scaling-stroke; opacity: 1; stroke-width: 0px; fill: rgb(99, 110, 250); fill-opacity: 1;\"/></g><g class=\"point\"><path d=\"M144,320V294.53H162V320Z\" style=\"vector-effect: non-scaling-stroke; opacity: 1; stroke-width: 0px; fill: rgb(99, 110, 250); fill-opacity: 1;\"/></g><g class=\"point\"><path d=\"M162,320V260.29H180V320Z\" style=\"vector-effect: non-scaling-stroke; opacity: 1; stroke-width: 0px; fill: rgb(99, 110, 250); fill-opacity: 1;\"/></g><g class=\"point\"><path d=\"M180,320V16H198V320Z\" style=\"vector-effect: non-scaling-stroke; opacity: 1; stroke-width: 0px; fill: rgb(99, 110, 250); fill-opacity: 1;\"/></g><g class=\"point\"><path d=\"M198,320V318.24H216V320Z\" style=\"vector-effect: non-scaling-stroke; opacity: 1; stroke-width: 0px; fill: rgb(99, 110, 250); fill-opacity: 1;\"/></g><g class=\"point\"><path d=\"M216,320V307.88H234V320Z\" style=\"vector-effect: non-scaling-stroke; opacity: 1; stroke-width: 0px; fill: rgb(99, 110, 250); fill-opacity: 1;\"/></g><g class=\"point\"><path d=\"M234,320V299.45H252V320Z\" style=\"vector-effect: non-scaling-stroke; opacity: 1; stroke-width: 0px; fill: rgb(99, 110, 250); fill-opacity: 1;\"/></g><g class=\"point\"><path d=\"M252,320V303.14H270V320Z\" style=\"vector-effect: non-scaling-stroke; opacity: 1; stroke-width: 0px; fill: rgb(99, 110, 250); fill-opacity: 1;\"/></g><g class=\"point\"><path d=\"M270,320V32.33H288V320Z\" style=\"vector-effect: non-scaling-stroke; opacity: 1; stroke-width: 0px; fill: rgb(99, 110, 250); fill-opacity: 1;\"/></g><g class=\"point\"><path d=\"M288,320V314.38H306V320Z\" style=\"vector-effect: non-scaling-stroke; opacity: 1; stroke-width: 0px; fill: rgb(99, 110, 250); fill-opacity: 1;\"/></g><g class=\"point\"><path d=\"M306,320V302.79H324V320Z\" style=\"vector-effect: non-scaling-stroke; opacity: 1; stroke-width: 0px; fill: rgb(99, 110, 250); fill-opacity: 1;\"/></g><g class=\"point\"><path d=\"M324,320V293.83H342V320Z\" style=\"vector-effect: non-scaling-stroke; opacity: 1; stroke-width: 0px; fill: rgb(99, 110, 250); fill-opacity: 1;\"/></g><g class=\"point\"><path d=\"M342,320V233.95H360V320Z\" style=\"vector-effect: non-scaling-stroke; opacity: 1; stroke-width: 0px; fill: rgb(99, 110, 250); fill-opacity: 1;\"/></g><g class=\"point\"><path d=\"M360,320V45.68H378V320Z\" style=\"vector-effect: non-scaling-stroke; opacity: 1; stroke-width: 0px; fill: rgb(99, 110, 250); fill-opacity: 1;\"/></g><g class=\"point\"><path d=\"M378,320V318.6H396V320Z\" style=\"vector-effect: non-scaling-stroke; opacity: 1; stroke-width: 0px; fill: rgb(99, 110, 250); fill-opacity: 1;\"/></g><g class=\"point\"><path d=\"M396,320V308.94H414V320Z\" style=\"vector-effect: non-scaling-stroke; opacity: 1; stroke-width: 0px; fill: rgb(99, 110, 250); fill-opacity: 1;\"/></g><g class=\"point\"><path d=\"M414,320V313.15H432V320Z\" style=\"vector-effect: non-scaling-stroke; opacity: 1; stroke-width: 0px; fill: rgb(99, 110, 250); fill-opacity: 1;\"/></g><g class=\"point\"><path d=\"M432,320V300.33H450V320Z\" style=\"vector-effect: non-scaling-stroke; opacity: 1; stroke-width: 0px; fill: rgb(99, 110, 250); fill-opacity: 1;\"/></g><g class=\"point\"><path d=\"M450,320V84.49H468V320Z\" style=\"vector-effect: non-scaling-stroke; opacity: 1; stroke-width: 0px; fill: rgb(99, 110, 250); fill-opacity: 1;\"/></g><g class=\"point\"><path d=\"M468,320V316.14H486V320Z\" style=\"vector-effect: non-scaling-stroke; opacity: 1; stroke-width: 0px; fill: rgb(99, 110, 250); fill-opacity: 1;\"/></g><g class=\"point\"><path d=\"M486,320V308.94H504V320Z\" style=\"vector-effect: non-scaling-stroke; opacity: 1; stroke-width: 0px; fill: rgb(99, 110, 250); fill-opacity: 1;\"/></g><g class=\"point\"><path d=\"M504,320V300.51H522V320Z\" style=\"vector-effect: non-scaling-stroke; opacity: 1; stroke-width: 0px; fill: rgb(99, 110, 250); fill-opacity: 1;\"/></g><g class=\"point\"><path d=\"M522,320V210.06H540V320Z\" style=\"vector-effect: non-scaling-stroke; opacity: 1; stroke-width: 0px; fill: rgb(99, 110, 250); fill-opacity: 1;\"/></g></g></g></g></g><g class=\"overplot\"/><path class=\"xlines-above crisp\" d=\"M0,0\" style=\"fill: none;\"/><path class=\"ylines-above crisp\" d=\"M0,0\" style=\"fill: none;\"/><g class=\"overlines-above\"/><g class=\"xaxislayer-above\"><g class=\"xtick\"><text text-anchor=\"middle\" x=\"0\" y=\"433\" transform=\"translate(80.9,0)\" style=\"font-family: 'Open Sans', verdana, arial, sans-serif; font-size: 12px; fill: rgb(42, 63, 95); fill-opacity: 1; white-space: pre; opacity: 1;\">200</text></g><g class=\"xtick\"><text text-anchor=\"middle\" x=\"0\" y=\"433\" style=\"font-family: 'Open Sans', verdana, arial, sans-serif; font-size: 12px; fill: rgb(42, 63, 95); fill-opacity: 1; white-space: pre; opacity: 1;\" transform=\"translate(170.9,0)\">250</text></g><g class=\"xtick\"><text text-anchor=\"middle\" x=\"0\" y=\"433\" style=\"font-family: 'Open Sans', verdana, arial, sans-serif; font-size: 12px; fill: rgb(42, 63, 95); fill-opacity: 1; white-space: pre; opacity: 1;\" transform=\"translate(260.9,0)\">300</text></g><g class=\"xtick\"><text text-anchor=\"middle\" x=\"0\" y=\"433\" style=\"font-family: 'Open Sans', verdana, arial, sans-serif; font-size: 12px; fill: rgb(42, 63, 95); fill-opacity: 1; white-space: pre; opacity: 1;\" transform=\"translate(350.9,0)\">350</text></g><g class=\"xtick\"><text text-anchor=\"middle\" x=\"0\" y=\"433\" style=\"font-family: 'Open Sans', verdana, arial, sans-serif; font-size: 12px; fill: rgb(42, 63, 95); fill-opacity: 1; white-space: pre; opacity: 1;\" transform=\"translate(440.9,0)\">400</text></g><g class=\"xtick\"><text text-anchor=\"middle\" x=\"0\" y=\"433\" style=\"font-family: 'Open Sans', verdana, arial, sans-serif; font-size: 12px; fill: rgb(42, 63, 95); fill-opacity: 1; white-space: pre; opacity: 1;\" transform=\"translate(530.9,0)\">450</text></g></g><g class=\"yaxislayer-above\"><g class=\"ytick\"><text text-anchor=\"end\" x=\"79\" y=\"4.199999999999999\" transform=\"translate(0,420)\" style=\"font-family: 'Open Sans', verdana, arial, sans-serif; font-size: 12px; fill: rgb(42, 63, 95); fill-opacity: 1; white-space: pre; opacity: 1;\">0</text></g><g class=\"ytick\"><text text-anchor=\"end\" x=\"79\" y=\"4.199999999999999\" style=\"font-family: 'Open Sans', verdana, arial, sans-serif; font-size: 12px; fill: rgb(42, 63, 95); fill-opacity: 1; white-space: pre; opacity: 1;\" transform=\"translate(0,332.19)\">500</text></g><g class=\"ytick\"><text text-anchor=\"end\" x=\"79\" y=\"4.199999999999999\" style=\"font-family: 'Open Sans', verdana, arial, sans-serif; font-size: 12px; fill: rgb(42, 63, 95); fill-opacity: 1; white-space: pre; opacity: 1;\" transform=\"translate(0,244.38)\">1000</text></g><g class=\"ytick\"><text text-anchor=\"end\" x=\"79\" y=\"4.199999999999999\" style=\"font-family: 'Open Sans', verdana, arial, sans-serif; font-size: 12px; fill: rgb(42, 63, 95); fill-opacity: 1; white-space: pre; opacity: 1;\" transform=\"translate(0,156.57)\">1500</text></g></g><g class=\"overaxes-above\"/></g></g><g class=\"polarlayer\"/><g class=\"smithlayer\"/><g class=\"ternarylayer\"/><g class=\"geolayer\"/><g class=\"funnelarealayer\"/><g class=\"pielayer\"/><g class=\"iciclelayer\"/><g class=\"treemaplayer\"/><g class=\"sunburstlayer\"/><g class=\"glimages\"/><defs id=\"topdefs-71cdd2\"><g class=\"clips\"/></defs><g class=\"layer-above\"><g class=\"imagelayer\"/><g class=\"shapelayer\"/></g><g class=\"infolayer\"><g class=\"g-gtitle\"><text class=\"gtitle\" x=\"35\" y=\"50\" text-anchor=\"start\" dy=\"0em\" style=\"font-family: 'Open Sans', verdana, arial, sans-serif; font-size: 17px; fill: rgb(42, 63, 95); opacity: 1; font-weight: normal; white-space: pre;\">Распределение параметра Price</text></g><g class=\"g-xtitle\"/><g class=\"g-ytitle\"/></g></svg>"
      ]
     },
     "metadata": {},
     "output_type": "display_data"
    },
    {
     "data": {
      "image/svg+xml": [
       "<svg class=\"main-svg\" xmlns=\"http://www.w3.org/2000/svg\" xmlns:xlink=\"http://www.w3.org/1999/xlink\" width=\"700\" height=\"500\" style=\"\" viewBox=\"0 0 700 500\"><rect x=\"0\" y=\"0\" width=\"700\" height=\"500\" style=\"fill: rgb(255, 255, 255); fill-opacity: 1;\"/><defs id=\"defs-d3ea90\"><g class=\"clips\"><clipPath id=\"clipd3ea90xyplot\" class=\"plotclip\"><rect width=\"540\" height=\"320\"/></clipPath><clipPath class=\"axesclip\" id=\"clipd3ea90x\"><rect x=\"80\" y=\"0\" width=\"540\" height=\"500\"/></clipPath><clipPath class=\"axesclip\" id=\"clipd3ea90y\"><rect x=\"0\" y=\"100\" width=\"700\" height=\"320\"/></clipPath><clipPath class=\"axesclip\" id=\"clipd3ea90xy\"><rect x=\"80\" y=\"100\" width=\"540\" height=\"320\"/></clipPath></g><g class=\"gradients\"/><g class=\"patterns\"/></defs><g class=\"bglayer\"><rect class=\"bg\" x=\"80\" y=\"100\" width=\"540\" height=\"320\" style=\"fill: rgb(229, 236, 246); fill-opacity: 1; stroke-width: 0;\"/></g><g class=\"layer-below\"><g class=\"imagelayer\"/><g class=\"shapelayer\"/></g><g class=\"cartesianlayer\"><g class=\"subplot xy\"><g class=\"layer-subplot\"><g class=\"shapelayer\"/><g class=\"imagelayer\"/></g><g class=\"minor-gridlayer\"><g class=\"x\"/><g class=\"y\"/></g><g class=\"gridlayer\"><g class=\"x\"/><g class=\"y\"><path class=\"ygrid crisp\" transform=\"translate(0,384.28)\" d=\"M80,0h540\" style=\"stroke: rgb(255, 255, 255); stroke-opacity: 1; stroke-width: 1px;\"/><path class=\"ygrid crisp\" transform=\"translate(0,348.55)\" d=\"M80,0h540\" style=\"stroke: rgb(255, 255, 255); stroke-opacity: 1; stroke-width: 1px;\"/><path class=\"ygrid crisp\" transform=\"translate(0,312.83000000000004)\" d=\"M80,0h540\" style=\"stroke: rgb(255, 255, 255); stroke-opacity: 1; stroke-width: 1px;\"/><path class=\"ygrid crisp\" transform=\"translate(0,277.11)\" d=\"M80,0h540\" style=\"stroke: rgb(255, 255, 255); stroke-opacity: 1; stroke-width: 1px;\"/><path class=\"ygrid crisp\" transform=\"translate(0,241.39)\" d=\"M80,0h540\" style=\"stroke: rgb(255, 255, 255); stroke-opacity: 1; stroke-width: 1px;\"/><path class=\"ygrid crisp\" transform=\"translate(0,205.66)\" d=\"M80,0h540\" style=\"stroke: rgb(255, 255, 255); stroke-opacity: 1; stroke-width: 1px;\"/><path class=\"ygrid crisp\" transform=\"translate(0,169.94)\" d=\"M80,0h540\" style=\"stroke: rgb(255, 255, 255); stroke-opacity: 1; stroke-width: 1px;\"/><path class=\"ygrid crisp\" transform=\"translate(0,134.22)\" d=\"M80,0h540\" style=\"stroke: rgb(255, 255, 255); stroke-opacity: 1; stroke-width: 1px;\"/></g></g><g class=\"zerolinelayer\"><path class=\"yzl zl crisp\" transform=\"translate(0,420)\" d=\"M80,0h540\" style=\"stroke: rgb(255, 255, 255); stroke-opacity: 1; stroke-width: 2px;\"/></g><path class=\"xlines-below\"/><path class=\"ylines-below\"/><g class=\"overlines-below\"/><g class=\"xaxislayer-below\"/><g class=\"yaxislayer-below\"/><g class=\"overaxes-below\"/><g class=\"plot\" transform=\"translate(80,100)\" clip-path=\"url(#clipd3ea90xyplot)\"><g class=\"barlayer mlayer\"><g class=\"trace bars\" shape-rendering=\"crispEdges\" style=\"opacity: 1;\"><g class=\"points\"><g class=\"point\"><path d=\"M0,320V319.82H12.27V320Z\" style=\"vector-effect: non-scaling-stroke; opacity: 1; stroke-width: 0px; fill: rgb(99, 110, 250); fill-opacity: 1;\"/></g><g class=\"point\"><path d=\"M0,0Z\" style=\"vector-effect: non-scaling-stroke; opacity: 1; stroke-width: 0px; fill: rgb(99, 110, 250); fill-opacity: 1;\"/></g><g class=\"point\"><path d=\"M0,0Z\" style=\"vector-effect: non-scaling-stroke; opacity: 1; stroke-width: 0px; fill: rgb(99, 110, 250); fill-opacity: 1;\"/></g><g class=\"point\"><path d=\"M0,0Z\" style=\"vector-effect: non-scaling-stroke; opacity: 1; stroke-width: 0px; fill: rgb(99, 110, 250); fill-opacity: 1;\"/></g><g class=\"point\"><path d=\"M49.09,320V319.82H61.36V320Z\" style=\"vector-effect: non-scaling-stroke; opacity: 1; stroke-width: 0px; fill: rgb(99, 110, 250); fill-opacity: 1;\"/></g><g class=\"point\"><path d=\"M0,0Z\" style=\"vector-effect: non-scaling-stroke; opacity: 1; stroke-width: 0px; fill: rgb(99, 110, 250); fill-opacity: 1;\"/></g><g class=\"point\"><path d=\"M0,0Z\" style=\"vector-effect: non-scaling-stroke; opacity: 1; stroke-width: 0px; fill: rgb(99, 110, 250); fill-opacity: 1;\"/></g><g class=\"point\"><path d=\"M0,0Z\" style=\"vector-effect: non-scaling-stroke; opacity: 1; stroke-width: 0px; fill: rgb(99, 110, 250); fill-opacity: 1;\"/></g><g class=\"point\"><path d=\"M98.18,320V319.64H110.45V320Z\" style=\"vector-effect: non-scaling-stroke; opacity: 1; stroke-width: 0px; fill: rgb(99, 110, 250); fill-opacity: 1;\"/></g><g class=\"point\"><path d=\"M110.45,320V319.11H122.73V320Z\" style=\"vector-effect: non-scaling-stroke; opacity: 1; stroke-width: 0px; fill: rgb(99, 110, 250); fill-opacity: 1;\"/></g><g class=\"point\"><path d=\"M0,0Z\" style=\"vector-effect: non-scaling-stroke; opacity: 1; stroke-width: 0px; fill: rgb(99, 110, 250); fill-opacity: 1;\"/></g><g class=\"point\"><path d=\"M135,320V319.46H147.27V320Z\" style=\"vector-effect: non-scaling-stroke; opacity: 1; stroke-width: 0px; fill: rgb(99, 110, 250); fill-opacity: 1;\"/></g><g class=\"point\"><path d=\"M147.27,320V319.64H159.55V320Z\" style=\"vector-effect: non-scaling-stroke; opacity: 1; stroke-width: 0px; fill: rgb(99, 110, 250); fill-opacity: 1;\"/></g><g class=\"point\"><path d=\"M159.55,320V316.43H171.82V320Z\" style=\"vector-effect: non-scaling-stroke; opacity: 1; stroke-width: 0px; fill: rgb(99, 110, 250); fill-opacity: 1;\"/></g><g class=\"point\"><path d=\"M171.82,320V316.61H184.09V320Z\" style=\"vector-effect: non-scaling-stroke; opacity: 1; stroke-width: 0px; fill: rgb(99, 110, 250); fill-opacity: 1;\"/></g><g class=\"point\"><path d=\"M184.09,320V315.89H196.36V320Z\" style=\"vector-effect: non-scaling-stroke; opacity: 1; stroke-width: 0px; fill: rgb(99, 110, 250); fill-opacity: 1;\"/></g><g class=\"point\"><path d=\"M196.36,320V315.71H208.64V320Z\" style=\"vector-effect: non-scaling-stroke; opacity: 1; stroke-width: 0px; fill: rgb(99, 110, 250); fill-opacity: 1;\"/></g><g class=\"point\"><path d=\"M208.64,320V310.18H220.91V320Z\" style=\"vector-effect: non-scaling-stroke; opacity: 1; stroke-width: 0px; fill: rgb(99, 110, 250); fill-opacity: 1;\"/></g><g class=\"point\"><path d=\"M220.91,320V296.07H233.18V320Z\" style=\"vector-effect: non-scaling-stroke; opacity: 1; stroke-width: 0px; fill: rgb(99, 110, 250); fill-opacity: 1;\"/></g><g class=\"point\"><path d=\"M233.18,320V283.56H245.45V320Z\" style=\"vector-effect: non-scaling-stroke; opacity: 1; stroke-width: 0px; fill: rgb(99, 110, 250); fill-opacity: 1;\"/></g><g class=\"point\"><path d=\"M245.45,320V274.27H257.73V320Z\" style=\"vector-effect: non-scaling-stroke; opacity: 1; stroke-width: 0px; fill: rgb(99, 110, 250); fill-opacity: 1;\"/></g><g class=\"point\"><path d=\"M257.73,320V253.02H270V320Z\" style=\"vector-effect: non-scaling-stroke; opacity: 1; stroke-width: 0px; fill: rgb(99, 110, 250); fill-opacity: 1;\"/></g><g class=\"point\"><path d=\"M270,320V228.01H282.27V320Z\" style=\"vector-effect: non-scaling-stroke; opacity: 1; stroke-width: 0px; fill: rgb(99, 110, 250); fill-opacity: 1;\"/></g><g class=\"point\"><path d=\"M282.27,320V110.67H294.55V320Z\" style=\"vector-effect: non-scaling-stroke; opacity: 1; stroke-width: 0px; fill: rgb(99, 110, 250); fill-opacity: 1;\"/></g><g class=\"point\"><path d=\"M294.55,320V93.16H306.82V320Z\" style=\"vector-effect: non-scaling-stroke; opacity: 1; stroke-width: 0px; fill: rgb(99, 110, 250); fill-opacity: 1;\"/></g><g class=\"point\"><path d=\"M306.82,320V16H319.09V320Z\" style=\"vector-effect: non-scaling-stroke; opacity: 1; stroke-width: 0px; fill: rgb(99, 110, 250); fill-opacity: 1;\"/></g><g class=\"point\"><path d=\"M319.09,320V90.48H331.36V320Z\" style=\"vector-effect: non-scaling-stroke; opacity: 1; stroke-width: 0px; fill: rgb(99, 110, 250); fill-opacity: 1;\"/></g><g class=\"point\"><path d=\"M331.36,320V74.41H343.64V320Z\" style=\"vector-effect: non-scaling-stroke; opacity: 1; stroke-width: 0px; fill: rgb(99, 110, 250); fill-opacity: 1;\"/></g><g class=\"point\"><path d=\"M343.64,320V120.49H355.91V320Z\" style=\"vector-effect: non-scaling-stroke; opacity: 1; stroke-width: 0px; fill: rgb(99, 110, 250); fill-opacity: 1;\"/></g><g class=\"point\"><path d=\"M355.91,320V229.26H368.18V320Z\" style=\"vector-effect: non-scaling-stroke; opacity: 1; stroke-width: 0px; fill: rgb(99, 110, 250); fill-opacity: 1;\"/></g><g class=\"point\"><path d=\"M368.18,320V278.03H380.45V320Z\" style=\"vector-effect: non-scaling-stroke; opacity: 1; stroke-width: 0px; fill: rgb(99, 110, 250); fill-opacity: 1;\"/></g><g class=\"point\"><path d=\"M380.45,320V293.92H392.73V320Z\" style=\"vector-effect: non-scaling-stroke; opacity: 1; stroke-width: 0px; fill: rgb(99, 110, 250); fill-opacity: 1;\"/></g><g class=\"point\"><path d=\"M392.73,320V312.86H405V320Z\" style=\"vector-effect: non-scaling-stroke; opacity: 1; stroke-width: 0px; fill: rgb(99, 110, 250); fill-opacity: 1;\"/></g><g class=\"point\"><path d=\"M405,320V304.64H417.27V320Z\" style=\"vector-effect: non-scaling-stroke; opacity: 1; stroke-width: 0px; fill: rgb(99, 110, 250); fill-opacity: 1;\"/></g><g class=\"point\"><path d=\"M417.27,320V317.5H429.55V320Z\" style=\"vector-effect: non-scaling-stroke; opacity: 1; stroke-width: 0px; fill: rgb(99, 110, 250); fill-opacity: 1;\"/></g><g class=\"point\"><path d=\"M429.55,320V319.29H441.82V320Z\" style=\"vector-effect: non-scaling-stroke; opacity: 1; stroke-width: 0px; fill: rgb(99, 110, 250); fill-opacity: 1;\"/></g><g class=\"point\"><path d=\"M441.82,320V319.82H454.09V320Z\" style=\"vector-effect: non-scaling-stroke; opacity: 1; stroke-width: 0px; fill: rgb(99, 110, 250); fill-opacity: 1;\"/></g><g class=\"point\"><path d=\"M454.09,320V319.46H466.36V320Z\" style=\"vector-effect: non-scaling-stroke; opacity: 1; stroke-width: 0px; fill: rgb(99, 110, 250); fill-opacity: 1;\"/></g><g class=\"point\"><path d=\"M466.36,320V319.64H478.64V320Z\" style=\"vector-effect: non-scaling-stroke; opacity: 1; stroke-width: 0px; fill: rgb(99, 110, 250); fill-opacity: 1;\"/></g><g class=\"point\"><path d=\"M478.64,320V319.64H490.91V320Z\" style=\"vector-effect: non-scaling-stroke; opacity: 1; stroke-width: 0px; fill: rgb(99, 110, 250); fill-opacity: 1;\"/></g><g class=\"point\"><path d=\"M490.91,320V319.11H503.18V320Z\" style=\"vector-effect: non-scaling-stroke; opacity: 1; stroke-width: 0px; fill: rgb(99, 110, 250); fill-opacity: 1;\"/></g><g class=\"point\"><path d=\"M503.18,320V317.32H515.45V320Z\" style=\"vector-effect: non-scaling-stroke; opacity: 1; stroke-width: 0px; fill: rgb(99, 110, 250); fill-opacity: 1;\"/></g><g class=\"point\"><path d=\"M515.45,320V313.57H527.73V320Z\" style=\"vector-effect: non-scaling-stroke; opacity: 1; stroke-width: 0px; fill: rgb(99, 110, 250); fill-opacity: 1;\"/></g><g class=\"point\"><path d=\"M527.73,320V312.14H540V320Z\" style=\"vector-effect: non-scaling-stroke; opacity: 1; stroke-width: 0px; fill: rgb(99, 110, 250); fill-opacity: 1;\"/></g></g></g></g></g><g class=\"overplot\"/><path class=\"xlines-above crisp\" d=\"M0,0\" style=\"fill: none;\"/><path class=\"ylines-above crisp\" d=\"M0,0\" style=\"fill: none;\"/><g class=\"overlines-above\"/><g class=\"xaxislayer-above\"><g class=\"xtick\"><text text-anchor=\"middle\" x=\"0\" y=\"433\" transform=\"translate(184.32,0)\" style=\"font-family: 'Open Sans', verdana, arial, sans-serif; font-size: 12px; fill: rgb(42, 63, 95); fill-opacity: 1; white-space: pre; opacity: 1;\">1980</text></g><g class=\"xtick\"><text text-anchor=\"middle\" x=\"0\" y=\"433\" style=\"font-family: 'Open Sans', verdana, arial, sans-serif; font-size: 12px; fill: rgb(42, 63, 95); fill-opacity: 1; white-space: pre; opacity: 1;\" transform=\"translate(307.05,0)\">1990</text></g><g class=\"xtick\"><text text-anchor=\"middle\" x=\"0\" y=\"433\" style=\"font-family: 'Open Sans', verdana, arial, sans-serif; font-size: 12px; fill: rgb(42, 63, 95); fill-opacity: 1; white-space: pre; opacity: 1;\" transform=\"translate(429.77,0)\">2000</text></g><g class=\"xtick\"><text text-anchor=\"middle\" x=\"0\" y=\"433\" style=\"font-family: 'Open Sans', verdana, arial, sans-serif; font-size: 12px; fill: rgb(42, 63, 95); fill-opacity: 1; white-space: pre; opacity: 1;\" transform=\"translate(552.5,0)\">2010</text></g></g><g class=\"yaxislayer-above\"><g class=\"ytick\"><text text-anchor=\"end\" x=\"79\" y=\"4.199999999999999\" transform=\"translate(0,420)\" style=\"font-family: 'Open Sans', verdana, arial, sans-serif; font-size: 12px; fill: rgb(42, 63, 95); fill-opacity: 1; white-space: pre; opacity: 1;\">0</text></g><g class=\"ytick\"><text text-anchor=\"end\" x=\"79\" y=\"4.199999999999999\" style=\"font-family: 'Open Sans', verdana, arial, sans-serif; font-size: 12px; fill: rgb(42, 63, 95); fill-opacity: 1; white-space: pre; opacity: 1;\" transform=\"translate(0,384.28)\">200</text></g><g class=\"ytick\"><text text-anchor=\"end\" x=\"79\" y=\"4.199999999999999\" style=\"font-family: 'Open Sans', verdana, arial, sans-serif; font-size: 12px; fill: rgb(42, 63, 95); fill-opacity: 1; white-space: pre; opacity: 1;\" transform=\"translate(0,348.55)\">400</text></g><g class=\"ytick\"><text text-anchor=\"end\" x=\"79\" y=\"4.199999999999999\" style=\"font-family: 'Open Sans', verdana, arial, sans-serif; font-size: 12px; fill: rgb(42, 63, 95); fill-opacity: 1; white-space: pre; opacity: 1;\" transform=\"translate(0,312.83000000000004)\">600</text></g><g class=\"ytick\"><text text-anchor=\"end\" x=\"79\" y=\"4.199999999999999\" style=\"font-family: 'Open Sans', verdana, arial, sans-serif; font-size: 12px; fill: rgb(42, 63, 95); fill-opacity: 1; white-space: pre; opacity: 1;\" transform=\"translate(0,277.11)\">800</text></g><g class=\"ytick\"><text text-anchor=\"end\" x=\"79\" y=\"4.199999999999999\" style=\"font-family: 'Open Sans', verdana, arial, sans-serif; font-size: 12px; fill: rgb(42, 63, 95); fill-opacity: 1; white-space: pre; opacity: 1;\" transform=\"translate(0,241.39)\">1000</text></g><g class=\"ytick\"><text text-anchor=\"end\" x=\"79\" y=\"4.199999999999999\" style=\"font-family: 'Open Sans', verdana, arial, sans-serif; font-size: 12px; fill: rgb(42, 63, 95); fill-opacity: 1; white-space: pre; opacity: 1;\" transform=\"translate(0,205.66)\">1200</text></g><g class=\"ytick\"><text text-anchor=\"end\" x=\"79\" y=\"4.199999999999999\" style=\"font-family: 'Open Sans', verdana, arial, sans-serif; font-size: 12px; fill: rgb(42, 63, 95); fill-opacity: 1; white-space: pre; opacity: 1;\" transform=\"translate(0,169.94)\">1400</text></g><g class=\"ytick\"><text text-anchor=\"end\" x=\"79\" y=\"4.199999999999999\" style=\"font-family: 'Open Sans', verdana, arial, sans-serif; font-size: 12px; fill: rgb(42, 63, 95); fill-opacity: 1; white-space: pre; opacity: 1;\" transform=\"translate(0,134.22)\">1600</text></g></g><g class=\"overaxes-above\"/></g></g><g class=\"polarlayer\"/><g class=\"smithlayer\"/><g class=\"ternarylayer\"/><g class=\"geolayer\"/><g class=\"funnelarealayer\"/><g class=\"pielayer\"/><g class=\"iciclelayer\"/><g class=\"treemaplayer\"/><g class=\"sunburstlayer\"/><g class=\"glimages\"/><defs id=\"topdefs-d3ea90\"><g class=\"clips\"/></defs><g class=\"layer-above\"><g class=\"imagelayer\"/><g class=\"shapelayer\"/></g><g class=\"infolayer\"><g class=\"g-gtitle\"><text class=\"gtitle\" x=\"35\" y=\"50\" text-anchor=\"start\" dy=\"0em\" style=\"font-family: 'Open Sans', verdana, arial, sans-serif; font-size: 17px; fill: rgb(42, 63, 95); opacity: 1; font-weight: normal; white-space: pre;\">Распределение параметра RegistrationYear</text></g><g class=\"g-xtitle\"/><g class=\"g-ytitle\"/></g></svg>"
      ]
     },
     "metadata": {},
     "output_type": "display_data"
    },
    {
     "data": {
      "image/svg+xml": [
       "<svg class=\"main-svg\" xmlns=\"http://www.w3.org/2000/svg\" xmlns:xlink=\"http://www.w3.org/1999/xlink\" width=\"700\" height=\"500\" style=\"\" viewBox=\"0 0 700 500\"><rect x=\"0\" y=\"0\" width=\"700\" height=\"500\" style=\"fill: rgb(255, 255, 255); fill-opacity: 1;\"/><defs id=\"defs-e05eb2\"><g class=\"clips\"><clipPath id=\"clipe05eb2xyplot\" class=\"plotclip\"><rect width=\"540\" height=\"320\"/></clipPath><clipPath class=\"axesclip\" id=\"clipe05eb2x\"><rect x=\"80\" y=\"0\" width=\"540\" height=\"500\"/></clipPath><clipPath class=\"axesclip\" id=\"clipe05eb2y\"><rect x=\"0\" y=\"100\" width=\"700\" height=\"320\"/></clipPath><clipPath class=\"axesclip\" id=\"clipe05eb2xy\"><rect x=\"80\" y=\"100\" width=\"540\" height=\"320\"/></clipPath></g><g class=\"gradients\"/><g class=\"patterns\"/></defs><g class=\"bglayer\"><rect class=\"bg\" x=\"80\" y=\"100\" width=\"540\" height=\"320\" style=\"fill: rgb(229, 236, 246); fill-opacity: 1; stroke-width: 0;\"/></g><g class=\"layer-below\"><g class=\"imagelayer\"/><g class=\"shapelayer\"/></g><g class=\"cartesianlayer\"><g class=\"subplot xy\"><g class=\"layer-subplot\"><g class=\"shapelayer\"/><g class=\"imagelayer\"/></g><g class=\"minor-gridlayer\"><g class=\"x\"/><g class=\"y\"/></g><g class=\"gridlayer\"><g class=\"x\"/><g class=\"y\"><path class=\"ygrid crisp\" transform=\"translate(0,376.07)\" d=\"M80,0h540\" style=\"stroke: rgb(255, 255, 255); stroke-opacity: 1; stroke-width: 1px;\"/><path class=\"ygrid crisp\" transform=\"translate(0,332.14)\" d=\"M80,0h540\" style=\"stroke: rgb(255, 255, 255); stroke-opacity: 1; stroke-width: 1px;\"/><path class=\"ygrid crisp\" transform=\"translate(0,288.21000000000004)\" d=\"M80,0h540\" style=\"stroke: rgb(255, 255, 255); stroke-opacity: 1; stroke-width: 1px;\"/><path class=\"ygrid crisp\" transform=\"translate(0,244.28)\" d=\"M80,0h540\" style=\"stroke: rgb(255, 255, 255); stroke-opacity: 1; stroke-width: 1px;\"/><path class=\"ygrid crisp\" transform=\"translate(0,200.35)\" d=\"M80,0h540\" style=\"stroke: rgb(255, 255, 255); stroke-opacity: 1; stroke-width: 1px;\"/><path class=\"ygrid crisp\" transform=\"translate(0,156.42000000000002)\" d=\"M80,0h540\" style=\"stroke: rgb(255, 255, 255); stroke-opacity: 1; stroke-width: 1px;\"/><path class=\"ygrid crisp\" transform=\"translate(0,112.49)\" d=\"M80,0h540\" style=\"stroke: rgb(255, 255, 255); stroke-opacity: 1; stroke-width: 1px;\"/></g></g><g class=\"zerolinelayer\"><path class=\"yzl zl crisp\" transform=\"translate(0,420)\" d=\"M80,0h540\" style=\"stroke: rgb(255, 255, 255); stroke-opacity: 1; stroke-width: 2px;\"/></g><path class=\"xlines-below\"/><path class=\"ylines-below\"/><g class=\"overlines-below\"/><g class=\"xaxislayer-below\"/><g class=\"yaxislayer-below\"/><g class=\"overaxes-below\"/><g class=\"plot\" transform=\"translate(80,100)\" clip-path=\"url(#clipe05eb2xyplot)\"><g class=\"barlayer mlayer\"><g class=\"trace bars\" shape-rendering=\"crispEdges\" style=\"opacity: 1;\"><g class=\"points\"><g class=\"point\"><path d=\"M0,320V290.61H13.5V320Z\" style=\"vector-effect: non-scaling-stroke; opacity: 1; stroke-width: 0px; fill: rgb(99, 110, 250); fill-opacity: 1;\"/></g><g class=\"point\"><path d=\"M13.5,320V16H27V320Z\" style=\"vector-effect: non-scaling-stroke; opacity: 1; stroke-width: 0px; fill: rgb(99, 110, 250); fill-opacity: 1;\"/></g><g class=\"point\"><path d=\"M27,320V204.99H40.5V320Z\" style=\"vector-effect: non-scaling-stroke; opacity: 1; stroke-width: 0px; fill: rgb(99, 110, 250); fill-opacity: 1;\"/></g><g class=\"point\"><path d=\"M40.5,320V301.9H54V320Z\" style=\"vector-effect: non-scaling-stroke; opacity: 1; stroke-width: 0px; fill: rgb(99, 110, 250); fill-opacity: 1;\"/></g><g class=\"point\"><path d=\"M54,320V318.29H67.5V320Z\" style=\"vector-effect: non-scaling-stroke; opacity: 1; stroke-width: 0px; fill: rgb(99, 110, 250); fill-opacity: 1;\"/></g><g class=\"point\"><path d=\"M67.5,320V319.65H81V320Z\" style=\"vector-effect: non-scaling-stroke; opacity: 1; stroke-width: 0px; fill: rgb(99, 110, 250); fill-opacity: 1;\"/></g><g class=\"point\"><path d=\"M81,320V319.78H94.5V320Z\" style=\"vector-effect: non-scaling-stroke; opacity: 1; stroke-width: 0px; fill: rgb(99, 110, 250); fill-opacity: 1;\"/></g><g class=\"point\"><path d=\"M94.5,320V319.96H108V320Z\" style=\"vector-effect: non-scaling-stroke; opacity: 1; stroke-width: 0px; fill: rgb(99, 110, 250); fill-opacity: 1;\"/></g><g class=\"point\"><path d=\"M108,320V319.91H121.5V320Z\" style=\"vector-effect: non-scaling-stroke; opacity: 1; stroke-width: 0px; fill: rgb(99, 110, 250); fill-opacity: 1;\"/></g><g class=\"point\"><path d=\"M0,0Z\" style=\"vector-effect: non-scaling-stroke; opacity: 1; stroke-width: 0px; fill: rgb(99, 110, 250); fill-opacity: 1;\"/></g><g class=\"point\"><path d=\"M135,320V319.87H148.5V320Z\" style=\"vector-effect: non-scaling-stroke; opacity: 1; stroke-width: 0px; fill: rgb(99, 110, 250); fill-opacity: 1;\"/></g><g class=\"point\"><path d=\"M148.5,320V319.91H162V320Z\" style=\"vector-effect: non-scaling-stroke; opacity: 1; stroke-width: 0px; fill: rgb(99, 110, 250); fill-opacity: 1;\"/></g><g class=\"point\"><path d=\"M162,320V319.91H175.5V320Z\" style=\"vector-effect: non-scaling-stroke; opacity: 1; stroke-width: 0px; fill: rgb(99, 110, 250); fill-opacity: 1;\"/></g><g class=\"point\"><path d=\"M0,0Z\" style=\"vector-effect: non-scaling-stroke; opacity: 1; stroke-width: 0px; fill: rgb(99, 110, 250); fill-opacity: 1;\"/></g><g class=\"point\"><path d=\"M0,0Z\" style=\"vector-effect: non-scaling-stroke; opacity: 1; stroke-width: 0px; fill: rgb(99, 110, 250); fill-opacity: 1;\"/></g><g class=\"point\"><path d=\"M202.5,320V319.91H216V320Z\" style=\"vector-effect: non-scaling-stroke; opacity: 1; stroke-width: 0px; fill: rgb(99, 110, 250); fill-opacity: 1;\"/></g><g class=\"point\"><path d=\"M216,320V319.96H229.5V320Z\" style=\"vector-effect: non-scaling-stroke; opacity: 1; stroke-width: 0px; fill: rgb(99, 110, 250); fill-opacity: 1;\"/></g><g class=\"point\"><path d=\"M0,0Z\" style=\"vector-effect: non-scaling-stroke; opacity: 1; stroke-width: 0px; fill: rgb(99, 110, 250); fill-opacity: 1;\"/></g><g class=\"point\"><path d=\"M0,0Z\" style=\"vector-effect: non-scaling-stroke; opacity: 1; stroke-width: 0px; fill: rgb(99, 110, 250); fill-opacity: 1;\"/></g><g class=\"point\"><path d=\"M256.5,320V319.96H270V320Z\" style=\"vector-effect: non-scaling-stroke; opacity: 1; stroke-width: 0px; fill: rgb(99, 110, 250); fill-opacity: 1;\"/></g><g class=\"point\"><path d=\"M270,320V319.91H283.5V320Z\" style=\"vector-effect: non-scaling-stroke; opacity: 1; stroke-width: 0px; fill: rgb(99, 110, 250); fill-opacity: 1;\"/></g><g class=\"point\"><path d=\"M0,0Z\" style=\"vector-effect: non-scaling-stroke; opacity: 1; stroke-width: 0px; fill: rgb(99, 110, 250); fill-opacity: 1;\"/></g><g class=\"point\"><path d=\"M297,320V319.87H310.5V320Z\" style=\"vector-effect: non-scaling-stroke; opacity: 1; stroke-width: 0px; fill: rgb(99, 110, 250); fill-opacity: 1;\"/></g><g class=\"point\"><path d=\"M0,0Z\" style=\"vector-effect: non-scaling-stroke; opacity: 1; stroke-width: 0px; fill: rgb(99, 110, 250); fill-opacity: 1;\"/></g><g class=\"point\"><path d=\"M324,320V319.87H337.5V320Z\" style=\"vector-effect: non-scaling-stroke; opacity: 1; stroke-width: 0px; fill: rgb(99, 110, 250); fill-opacity: 1;\"/></g><g class=\"point\"><path d=\"M0,0Z\" style=\"vector-effect: non-scaling-stroke; opacity: 1; stroke-width: 0px; fill: rgb(99, 110, 250); fill-opacity: 1;\"/></g><g class=\"point\"><path d=\"M351,320V319.96H364.5V320Z\" style=\"vector-effect: non-scaling-stroke; opacity: 1; stroke-width: 0px; fill: rgb(99, 110, 250); fill-opacity: 1;\"/></g><g class=\"point\"><path d=\"M0,0Z\" style=\"vector-effect: non-scaling-stroke; opacity: 1; stroke-width: 0px; fill: rgb(99, 110, 250); fill-opacity: 1;\"/></g><g class=\"point\"><path d=\"M0,0Z\" style=\"vector-effect: non-scaling-stroke; opacity: 1; stroke-width: 0px; fill: rgb(99, 110, 250); fill-opacity: 1;\"/></g><g class=\"point\"><path d=\"M0,0Z\" style=\"vector-effect: non-scaling-stroke; opacity: 1; stroke-width: 0px; fill: rgb(99, 110, 250); fill-opacity: 1;\"/></g><g class=\"point\"><path d=\"M0,0Z\" style=\"vector-effect: non-scaling-stroke; opacity: 1; stroke-width: 0px; fill: rgb(99, 110, 250); fill-opacity: 1;\"/></g><g class=\"point\"><path d=\"M418.5,320V319.96H432V320Z\" style=\"vector-effect: non-scaling-stroke; opacity: 1; stroke-width: 0px; fill: rgb(99, 110, 250); fill-opacity: 1;\"/></g><g class=\"point\"><path d=\"M432,320V319.91H445.5V320Z\" style=\"vector-effect: non-scaling-stroke; opacity: 1; stroke-width: 0px; fill: rgb(99, 110, 250); fill-opacity: 1;\"/></g><g class=\"point\"><path d=\"M0,0Z\" style=\"vector-effect: non-scaling-stroke; opacity: 1; stroke-width: 0px; fill: rgb(99, 110, 250); fill-opacity: 1;\"/></g><g class=\"point\"><path d=\"M459,320V319.96H472.5V320Z\" style=\"vector-effect: non-scaling-stroke; opacity: 1; stroke-width: 0px; fill: rgb(99, 110, 250); fill-opacity: 1;\"/></g><g class=\"point\"><path d=\"M472.5,320V319.96H486V320Z\" style=\"vector-effect: non-scaling-stroke; opacity: 1; stroke-width: 0px; fill: rgb(99, 110, 250); fill-opacity: 1;\"/></g><g class=\"point\"><path d=\"M0,0Z\" style=\"vector-effect: non-scaling-stroke; opacity: 1; stroke-width: 0px; fill: rgb(99, 110, 250); fill-opacity: 1;\"/></g><g class=\"point\"><path d=\"M0,0Z\" style=\"vector-effect: non-scaling-stroke; opacity: 1; stroke-width: 0px; fill: rgb(99, 110, 250); fill-opacity: 1;\"/></g><g class=\"point\"><path d=\"M0,0Z\" style=\"vector-effect: non-scaling-stroke; opacity: 1; stroke-width: 0px; fill: rgb(99, 110, 250); fill-opacity: 1;\"/></g><g class=\"point\"><path d=\"M526.5,320V319.91H540V320Z\" style=\"vector-effect: non-scaling-stroke; opacity: 1; stroke-width: 0px; fill: rgb(99, 110, 250); fill-opacity: 1;\"/></g></g></g></g></g><g class=\"overplot\"/><path class=\"xlines-above crisp\" d=\"M0,0\" style=\"fill: none;\"/><path class=\"ylines-above crisp\" d=\"M0,0\" style=\"fill: none;\"/><g class=\"overlines-above\"/><g class=\"xaxislayer-above\"><g class=\"xtick\"><text text-anchor=\"middle\" x=\"0\" y=\"433\" transform=\"translate(80.14,0)\" style=\"font-family: 'Open Sans', verdana, arial, sans-serif; font-size: 12px; fill: rgb(42, 63, 95); fill-opacity: 1; white-space: pre; opacity: 1;\">0</text></g><g class=\"xtick\"><text text-anchor=\"middle\" x=\"0\" y=\"433\" style=\"font-family: 'Open Sans', verdana, arial, sans-serif; font-size: 12px; fill: rgb(42, 63, 95); fill-opacity: 1; white-space: pre; opacity: 1;\" transform=\"translate(215.14,0)\">500</text></g><g class=\"xtick\"><text text-anchor=\"middle\" x=\"0\" y=\"433\" style=\"font-family: 'Open Sans', verdana, arial, sans-serif; font-size: 12px; fill: rgb(42, 63, 95); fill-opacity: 1; white-space: pre; opacity: 1;\" transform=\"translate(350.14,0)\">1000</text></g><g class=\"xtick\"><text text-anchor=\"middle\" x=\"0\" y=\"433\" style=\"font-family: 'Open Sans', verdana, arial, sans-serif; font-size: 12px; fill: rgb(42, 63, 95); fill-opacity: 1; white-space: pre; opacity: 1;\" transform=\"translate(485.14,0)\">1500</text></g></g><g class=\"yaxislayer-above\"><g class=\"ytick\"><text text-anchor=\"end\" x=\"79\" y=\"4.199999999999999\" transform=\"translate(0,420)\" style=\"font-family: 'Open Sans', verdana, arial, sans-serif; font-size: 12px; fill: rgb(42, 63, 95); fill-opacity: 1; white-space: pre; opacity: 1;\">0</text></g><g class=\"ytick\"><text text-anchor=\"end\" x=\"79\" y=\"4.199999999999999\" style=\"font-family: 'Open Sans', verdana, arial, sans-serif; font-size: 12px; fill: rgb(42, 63, 95); fill-opacity: 1; white-space: pre; opacity: 1;\" transform=\"translate(0,376.07)\">1000</text></g><g class=\"ytick\"><text text-anchor=\"end\" x=\"79\" y=\"4.199999999999999\" style=\"font-family: 'Open Sans', verdana, arial, sans-serif; font-size: 12px; fill: rgb(42, 63, 95); fill-opacity: 1; white-space: pre; opacity: 1;\" transform=\"translate(0,332.14)\">2000</text></g><g class=\"ytick\"><text text-anchor=\"end\" x=\"79\" y=\"4.199999999999999\" style=\"font-family: 'Open Sans', verdana, arial, sans-serif; font-size: 12px; fill: rgb(42, 63, 95); fill-opacity: 1; white-space: pre; opacity: 1;\" transform=\"translate(0,288.21000000000004)\">3000</text></g><g class=\"ytick\"><text text-anchor=\"end\" x=\"79\" y=\"4.199999999999999\" style=\"font-family: 'Open Sans', verdana, arial, sans-serif; font-size: 12px; fill: rgb(42, 63, 95); fill-opacity: 1; white-space: pre; opacity: 1;\" transform=\"translate(0,244.28)\">4000</text></g><g class=\"ytick\"><text text-anchor=\"end\" x=\"79\" y=\"4.199999999999999\" style=\"font-family: 'Open Sans', verdana, arial, sans-serif; font-size: 12px; fill: rgb(42, 63, 95); fill-opacity: 1; white-space: pre; opacity: 1;\" transform=\"translate(0,200.35)\">5000</text></g><g class=\"ytick\"><text text-anchor=\"end\" x=\"79\" y=\"4.199999999999999\" style=\"font-family: 'Open Sans', verdana, arial, sans-serif; font-size: 12px; fill: rgb(42, 63, 95); fill-opacity: 1; white-space: pre; opacity: 1;\" transform=\"translate(0,156.42000000000002)\">6000</text></g><g class=\"ytick\"><text text-anchor=\"end\" x=\"79\" y=\"4.199999999999999\" style=\"font-family: 'Open Sans', verdana, arial, sans-serif; font-size: 12px; fill: rgb(42, 63, 95); fill-opacity: 1; white-space: pre; opacity: 1;\" transform=\"translate(0,112.49)\">7000</text></g></g><g class=\"overaxes-above\"/></g></g><g class=\"polarlayer\"/><g class=\"smithlayer\"/><g class=\"ternarylayer\"/><g class=\"geolayer\"/><g class=\"funnelarealayer\"/><g class=\"pielayer\"/><g class=\"iciclelayer\"/><g class=\"treemaplayer\"/><g class=\"sunburstlayer\"/><g class=\"glimages\"/><defs id=\"topdefs-e05eb2\"><g class=\"clips\"/></defs><g class=\"layer-above\"><g class=\"imagelayer\"/><g class=\"shapelayer\"/></g><g class=\"infolayer\"><g class=\"g-gtitle\"><text class=\"gtitle\" x=\"35\" y=\"50\" text-anchor=\"start\" dy=\"0em\" style=\"font-family: 'Open Sans', verdana, arial, sans-serif; font-size: 17px; fill: rgb(42, 63, 95); opacity: 1; font-weight: normal; white-space: pre;\">Распределение параметра Power</text></g><g class=\"g-xtitle\"/><g class=\"g-ytitle\"/></g></svg>"
      ]
     },
     "metadata": {},
     "output_type": "display_data"
    },
    {
     "data": {
      "image/svg+xml": [
       "<svg class=\"main-svg\" xmlns=\"http://www.w3.org/2000/svg\" xmlns:xlink=\"http://www.w3.org/1999/xlink\" width=\"700\" height=\"500\" style=\"\" viewBox=\"0 0 700 500\"><rect x=\"0\" y=\"0\" width=\"700\" height=\"500\" style=\"fill: rgb(255, 255, 255); fill-opacity: 1;\"/><defs id=\"defs-218e3c\"><g class=\"clips\"><clipPath id=\"clip218e3cxyplot\" class=\"plotclip\"><rect width=\"540\" height=\"320\"/></clipPath><clipPath class=\"axesclip\" id=\"clip218e3cx\"><rect x=\"80\" y=\"0\" width=\"540\" height=\"500\"/></clipPath><clipPath class=\"axesclip\" id=\"clip218e3cy\"><rect x=\"0\" y=\"100\" width=\"700\" height=\"320\"/></clipPath><clipPath class=\"axesclip\" id=\"clip218e3cxy\"><rect x=\"80\" y=\"100\" width=\"540\" height=\"320\"/></clipPath></g><g class=\"gradients\"/><g class=\"patterns\"/></defs><g class=\"bglayer\"><rect class=\"bg\" x=\"80\" y=\"100\" width=\"540\" height=\"320\" style=\"fill: rgb(229, 236, 246); fill-opacity: 1; stroke-width: 0;\"/></g><g class=\"layer-below\"><g class=\"imagelayer\"/><g class=\"shapelayer\"/></g><g class=\"cartesianlayer\"><g class=\"subplot xy\"><g class=\"layer-subplot\"><g class=\"shapelayer\"/><g class=\"imagelayer\"/></g><g class=\"minor-gridlayer\"><g class=\"x\"/><g class=\"y\"/></g><g class=\"gridlayer\"><g class=\"x\"/><g class=\"y\"><path class=\"ygrid crisp\" transform=\"translate(0,352.05)\" d=\"M80,0h540\" style=\"stroke: rgb(255, 255, 255); stroke-opacity: 1; stroke-width: 1px;\"/><path class=\"ygrid crisp\" transform=\"translate(0,284.1)\" d=\"M80,0h540\" style=\"stroke: rgb(255, 255, 255); stroke-opacity: 1; stroke-width: 1px;\"/><path class=\"ygrid crisp\" transform=\"translate(0,216.16)\" d=\"M80,0h540\" style=\"stroke: rgb(255, 255, 255); stroke-opacity: 1; stroke-width: 1px;\"/><path class=\"ygrid crisp\" transform=\"translate(0,148.21)\" d=\"M80,0h540\" style=\"stroke: rgb(255, 255, 255); stroke-opacity: 1; stroke-width: 1px;\"/></g></g><g class=\"zerolinelayer\"><path class=\"yzl zl crisp\" transform=\"translate(0,420)\" d=\"M80,0h540\" style=\"stroke: rgb(255, 255, 255); stroke-opacity: 1; stroke-width: 2px;\"/></g><path class=\"xlines-below\"/><path class=\"ylines-below\"/><g class=\"overlines-below\"/><g class=\"xaxislayer-below\"/><g class=\"yaxislayer-below\"/><g class=\"overaxes-below\"/><g class=\"plot\" transform=\"translate(80,100)\" clip-path=\"url(#clip218e3cxyplot)\"><g class=\"barlayer mlayer\"><g class=\"trace bars\" shape-rendering=\"crispEdges\" style=\"opacity: 1;\"><g class=\"points\"><g class=\"point\"><path d=\"M0,320V312.15H18V320Z\" style=\"vector-effect: non-scaling-stroke; opacity: 1; stroke-width: 0px; fill: rgb(99, 110, 250); fill-opacity: 1;\"/></g><g class=\"point\"><path d=\"M18,320V319.39H36V320Z\" style=\"vector-effect: non-scaling-stroke; opacity: 1; stroke-width: 0px; fill: rgb(99, 110, 250); fill-opacity: 1;\"/></g><g class=\"point\"><path d=\"M0,0Z\" style=\"vector-effect: non-scaling-stroke; opacity: 1; stroke-width: 0px; fill: rgb(99, 110, 250); fill-opacity: 1;\"/></g><g class=\"point\"><path d=\"M54,320V317.86H72V320Z\" style=\"vector-effect: non-scaling-stroke; opacity: 1; stroke-width: 0px; fill: rgb(99, 110, 250); fill-opacity: 1;\"/></g><g class=\"point\"><path d=\"M0,0Z\" style=\"vector-effect: non-scaling-stroke; opacity: 1; stroke-width: 0px; fill: rgb(99, 110, 250); fill-opacity: 1;\"/></g><g class=\"point\"><path d=\"M90,320V317.89H108V320Z\" style=\"vector-effect: non-scaling-stroke; opacity: 1; stroke-width: 0px; fill: rgb(99, 110, 250); fill-opacity: 1;\"/></g><g class=\"point\"><path d=\"M0,0Z\" style=\"vector-effect: non-scaling-stroke; opacity: 1; stroke-width: 0px; fill: rgb(99, 110, 250); fill-opacity: 1;\"/></g><g class=\"point\"><path d=\"M126,320V319.12H144V320Z\" style=\"vector-effect: non-scaling-stroke; opacity: 1; stroke-width: 0px; fill: rgb(99, 110, 250); fill-opacity: 1;\"/></g><g class=\"point\"><path d=\"M0,0Z\" style=\"vector-effect: non-scaling-stroke; opacity: 1; stroke-width: 0px; fill: rgb(99, 110, 250); fill-opacity: 1;\"/></g><g class=\"point\"><path d=\"M162,320V318.98H180V320Z\" style=\"vector-effect: non-scaling-stroke; opacity: 1; stroke-width: 0px; fill: rgb(99, 110, 250); fill-opacity: 1;\"/></g><g class=\"point\"><path d=\"M0,0Z\" style=\"vector-effect: non-scaling-stroke; opacity: 1; stroke-width: 0px; fill: rgb(99, 110, 250); fill-opacity: 1;\"/></g><g class=\"point\"><path d=\"M198,320V318.81H216V320Z\" style=\"vector-effect: non-scaling-stroke; opacity: 1; stroke-width: 0px; fill: rgb(99, 110, 250); fill-opacity: 1;\"/></g><g class=\"point\"><path d=\"M0,0Z\" style=\"vector-effect: non-scaling-stroke; opacity: 1; stroke-width: 0px; fill: rgb(99, 110, 250); fill-opacity: 1;\"/></g><g class=\"point\"><path d=\"M234,320V317.76H252V320Z\" style=\"vector-effect: non-scaling-stroke; opacity: 1; stroke-width: 0px; fill: rgb(99, 110, 250); fill-opacity: 1;\"/></g><g class=\"point\"><path d=\"M0,0Z\" style=\"vector-effect: non-scaling-stroke; opacity: 1; stroke-width: 0px; fill: rgb(99, 110, 250); fill-opacity: 1;\"/></g><g class=\"point\"><path d=\"M270,320V316.36H288V320Z\" style=\"vector-effect: non-scaling-stroke; opacity: 1; stroke-width: 0px; fill: rgb(99, 110, 250); fill-opacity: 1;\"/></g><g class=\"point\"><path d=\"M0,0Z\" style=\"vector-effect: non-scaling-stroke; opacity: 1; stroke-width: 0px; fill: rgb(99, 110, 250); fill-opacity: 1;\"/></g><g class=\"point\"><path d=\"M306,320V314.9H324V320Z\" style=\"vector-effect: non-scaling-stroke; opacity: 1; stroke-width: 0px; fill: rgb(99, 110, 250); fill-opacity: 1;\"/></g><g class=\"point\"><path d=\"M0,0Z\" style=\"vector-effect: non-scaling-stroke; opacity: 1; stroke-width: 0px; fill: rgb(99, 110, 250); fill-opacity: 1;\"/></g><g class=\"point\"><path d=\"M342,320V313.68H360V320Z\" style=\"vector-effect: non-scaling-stroke; opacity: 1; stroke-width: 0px; fill: rgb(99, 110, 250); fill-opacity: 1;\"/></g><g class=\"point\"><path d=\"M0,0Z\" style=\"vector-effect: non-scaling-stroke; opacity: 1; stroke-width: 0px; fill: rgb(99, 110, 250); fill-opacity: 1;\"/></g><g class=\"point\"><path d=\"M0,0Z\" style=\"vector-effect: non-scaling-stroke; opacity: 1; stroke-width: 0px; fill: rgb(99, 110, 250); fill-opacity: 1;\"/></g><g class=\"point\"><path d=\"M0,0Z\" style=\"vector-effect: non-scaling-stroke; opacity: 1; stroke-width: 0px; fill: rgb(99, 110, 250); fill-opacity: 1;\"/></g><g class=\"point\"><path d=\"M0,0Z\" style=\"vector-effect: non-scaling-stroke; opacity: 1; stroke-width: 0px; fill: rgb(99, 110, 250); fill-opacity: 1;\"/></g><g class=\"point\"><path d=\"M432,320V293.53H450V320Z\" style=\"vector-effect: non-scaling-stroke; opacity: 1; stroke-width: 0px; fill: rgb(99, 110, 250); fill-opacity: 1;\"/></g><g class=\"point\"><path d=\"M0,0Z\" style=\"vector-effect: non-scaling-stroke; opacity: 1; stroke-width: 0px; fill: rgb(99, 110, 250); fill-opacity: 1;\"/></g><g class=\"point\"><path d=\"M0,0Z\" style=\"vector-effect: non-scaling-stroke; opacity: 1; stroke-width: 0px; fill: rgb(99, 110, 250); fill-opacity: 1;\"/></g><g class=\"point\"><path d=\"M0,0Z\" style=\"vector-effect: non-scaling-stroke; opacity: 1; stroke-width: 0px; fill: rgb(99, 110, 250); fill-opacity: 1;\"/></g><g class=\"point\"><path d=\"M0,0Z\" style=\"vector-effect: non-scaling-stroke; opacity: 1; stroke-width: 0px; fill: rgb(99, 110, 250); fill-opacity: 1;\"/></g><g class=\"point\"><path d=\"M522,320V16H540V320Z\" style=\"vector-effect: non-scaling-stroke; opacity: 1; stroke-width: 0px; fill: rgb(99, 110, 250); fill-opacity: 1;\"/></g></g></g></g></g><g class=\"overplot\"/><path class=\"xlines-above crisp\" d=\"M0,0\" style=\"fill: none;\"/><path class=\"ylines-above crisp\" d=\"M0,0\" style=\"fill: none;\"/><g class=\"overlines-above\"/><g class=\"xaxislayer-above\"><g class=\"xtick\"><text text-anchor=\"middle\" x=\"0\" y=\"433\" transform=\"translate(134,0)\" style=\"font-family: 'Open Sans', verdana, arial, sans-serif; font-size: 12px; fill: rgb(42, 63, 95); fill-opacity: 1; white-space: pre; opacity: 1;\">20k</text></g><g class=\"xtick\"><text text-anchor=\"middle\" x=\"0\" y=\"433\" style=\"font-family: 'Open Sans', verdana, arial, sans-serif; font-size: 12px; fill: rgb(42, 63, 95); fill-opacity: 1; white-space: pre; opacity: 1;\" transform=\"translate(206,0)\">40k</text></g><g class=\"xtick\"><text text-anchor=\"middle\" x=\"0\" y=\"433\" style=\"font-family: 'Open Sans', verdana, arial, sans-serif; font-size: 12px; fill: rgb(42, 63, 95); fill-opacity: 1; white-space: pre; opacity: 1;\" transform=\"translate(278,0)\">60k</text></g><g class=\"xtick\"><text text-anchor=\"middle\" x=\"0\" y=\"433\" style=\"font-family: 'Open Sans', verdana, arial, sans-serif; font-size: 12px; fill: rgb(42, 63, 95); fill-opacity: 1; white-space: pre; opacity: 1;\" transform=\"translate(350,0)\">80k</text></g><g class=\"xtick\"><text text-anchor=\"middle\" x=\"0\" y=\"433\" style=\"font-family: 'Open Sans', verdana, arial, sans-serif; font-size: 12px; fill: rgb(42, 63, 95); fill-opacity: 1; white-space: pre; opacity: 1;\" transform=\"translate(422,0)\">100k</text></g><g class=\"xtick\"><text text-anchor=\"middle\" x=\"0\" y=\"433\" style=\"font-family: 'Open Sans', verdana, arial, sans-serif; font-size: 12px; fill: rgb(42, 63, 95); fill-opacity: 1; white-space: pre; opacity: 1;\" transform=\"translate(494,0)\">120k</text></g><g class=\"xtick\"><text text-anchor=\"middle\" x=\"0\" y=\"433\" style=\"font-family: 'Open Sans', verdana, arial, sans-serif; font-size: 12px; fill: rgb(42, 63, 95); fill-opacity: 1; white-space: pre; opacity: 1;\" transform=\"translate(566,0)\">140k</text></g></g><g class=\"yaxislayer-above\"><g class=\"ytick\"><text text-anchor=\"end\" x=\"79\" y=\"4.199999999999999\" transform=\"translate(0,420)\" style=\"font-family: 'Open Sans', verdana, arial, sans-serif; font-size: 12px; fill: rgb(42, 63, 95); fill-opacity: 1; white-space: pre; opacity: 1;\">0</text></g><g class=\"ytick\"><text text-anchor=\"end\" x=\"79\" y=\"4.199999999999999\" style=\"font-family: 'Open Sans', verdana, arial, sans-serif; font-size: 12px; fill: rgb(42, 63, 95); fill-opacity: 1; white-space: pre; opacity: 1;\" transform=\"translate(0,352.05)\">2000</text></g><g class=\"ytick\"><text text-anchor=\"end\" x=\"79\" y=\"4.199999999999999\" style=\"font-family: 'Open Sans', verdana, arial, sans-serif; font-size: 12px; fill: rgb(42, 63, 95); fill-opacity: 1; white-space: pre; opacity: 1;\" transform=\"translate(0,284.1)\">4000</text></g><g class=\"ytick\"><text text-anchor=\"end\" x=\"79\" y=\"4.199999999999999\" style=\"font-family: 'Open Sans', verdana, arial, sans-serif; font-size: 12px; fill: rgb(42, 63, 95); fill-opacity: 1; white-space: pre; opacity: 1;\" transform=\"translate(0,216.16)\">6000</text></g><g class=\"ytick\"><text text-anchor=\"end\" x=\"79\" y=\"4.199999999999999\" style=\"font-family: 'Open Sans', verdana, arial, sans-serif; font-size: 12px; fill: rgb(42, 63, 95); fill-opacity: 1; white-space: pre; opacity: 1;\" transform=\"translate(0,148.21)\">8000</text></g></g><g class=\"overaxes-above\"/></g></g><g class=\"polarlayer\"/><g class=\"smithlayer\"/><g class=\"ternarylayer\"/><g class=\"geolayer\"/><g class=\"funnelarealayer\"/><g class=\"pielayer\"/><g class=\"iciclelayer\"/><g class=\"treemaplayer\"/><g class=\"sunburstlayer\"/><g class=\"glimages\"/><defs id=\"topdefs-218e3c\"><g class=\"clips\"/></defs><g class=\"layer-above\"><g class=\"imagelayer\"/><g class=\"shapelayer\"/></g><g class=\"infolayer\"><g class=\"g-gtitle\"><text class=\"gtitle\" x=\"35\" y=\"50\" text-anchor=\"start\" dy=\"0em\" style=\"font-family: 'Open Sans', verdana, arial, sans-serif; font-size: 17px; fill: rgb(42, 63, 95); opacity: 1; font-weight: normal; white-space: pre;\">Распределение параметра Kilometer</text></g><g class=\"g-xtitle\"/><g class=\"g-ytitle\"/></g></svg>"
      ]
     },
     "metadata": {},
     "output_type": "display_data"
    }
   ],
   "source": [
    "for param in numeric:\n",
    "    plot_param(df[(df['Price'] < 500) & (df['Power'] > 40)], param)"
   ]
  },
  {
   "cell_type": "markdown",
   "metadata": {},
   "source": [
    "Выбиваются машины после 2010 года, мощностью более 1000 и километражем менее 120. Поскольку их мало, имеет смысл просто удалить"
   ]
  },
  {
   "cell_type": "code",
   "execution_count": 52,
   "metadata": {},
   "outputs": [],
   "source": [
    "df_todie = df[(df['Price'] < 500) & ((df['Power'] > 1000) | (df['RegistrationYear'] > 2010) | (df['Kilometer'] < 120000))]\n"
   ]
  },
  {
   "cell_type": "code",
   "execution_count": 53,
   "metadata": {},
   "outputs": [],
   "source": [
    "df = pd.merge(df, df_todie, indicator=True, how='outer').query('_merge==\"left_only\"').drop('_merge', axis=1)"
   ]
  },
  {
   "cell_type": "code",
   "execution_count": 54,
   "metadata": {},
   "outputs": [
    {
     "data": {
      "image/svg+xml": [
       "<svg class=\"main-svg\" xmlns=\"http://www.w3.org/2000/svg\" xmlns:xlink=\"http://www.w3.org/1999/xlink\" width=\"700\" height=\"500\" style=\"\" viewBox=\"0 0 700 500\"><rect x=\"0\" y=\"0\" width=\"700\" height=\"500\" style=\"fill: rgb(255, 255, 255); fill-opacity: 1;\"/><defs id=\"defs-f1bb5e\"><g class=\"clips\"><clipPath id=\"clipf1bb5exyplot\" class=\"plotclip\"><rect width=\"540\" height=\"320\"/></clipPath><clipPath class=\"axesclip\" id=\"clipf1bb5ex\"><rect x=\"80\" y=\"0\" width=\"540\" height=\"500\"/></clipPath><clipPath class=\"axesclip\" id=\"clipf1bb5ey\"><rect x=\"0\" y=\"100\" width=\"700\" height=\"320\"/></clipPath><clipPath class=\"axesclip\" id=\"clipf1bb5exy\"><rect x=\"80\" y=\"100\" width=\"540\" height=\"320\"/></clipPath></g><g class=\"gradients\"/><g class=\"patterns\"/></defs><g class=\"bglayer\"><rect class=\"bg\" x=\"80\" y=\"100\" width=\"540\" height=\"320\" style=\"fill: rgb(229, 236, 246); fill-opacity: 1; stroke-width: 0;\"/></g><g class=\"layer-below\"><g class=\"imagelayer\"/><g class=\"shapelayer\"/></g><g class=\"cartesianlayer\"><g class=\"subplot xy\"><g class=\"layer-subplot\"><g class=\"shapelayer\"/><g class=\"imagelayer\"/></g><g class=\"minor-gridlayer\"><g class=\"x\"/><g class=\"y\"/></g><g class=\"gridlayer\"><g class=\"x\"/><g class=\"y\"><path class=\"ygrid crisp\" transform=\"translate(0,377.58)\" d=\"M80,0h540\" style=\"stroke: rgb(255, 255, 255); stroke-opacity: 1; stroke-width: 1px;\"/><path class=\"ygrid crisp\" transform=\"translate(0,335.15999999999997)\" d=\"M80,0h540\" style=\"stroke: rgb(255, 255, 255); stroke-opacity: 1; stroke-width: 1px;\"/><path class=\"ygrid crisp\" transform=\"translate(0,292.74)\" d=\"M80,0h540\" style=\"stroke: rgb(255, 255, 255); stroke-opacity: 1; stroke-width: 1px;\"/><path class=\"ygrid crisp\" transform=\"translate(0,250.32)\" d=\"M80,0h540\" style=\"stroke: rgb(255, 255, 255); stroke-opacity: 1; stroke-width: 1px;\"/><path class=\"ygrid crisp\" transform=\"translate(0,207.91)\" d=\"M80,0h540\" style=\"stroke: rgb(255, 255, 255); stroke-opacity: 1; stroke-width: 1px;\"/><path class=\"ygrid crisp\" transform=\"translate(0,165.49)\" d=\"M80,0h540\" style=\"stroke: rgb(255, 255, 255); stroke-opacity: 1; stroke-width: 1px;\"/><path class=\"ygrid crisp\" transform=\"translate(0,123.07)\" d=\"M80,0h540\" style=\"stroke: rgb(255, 255, 255); stroke-opacity: 1; stroke-width: 1px;\"/></g></g><g class=\"zerolinelayer\"><path class=\"yzl zl crisp\" transform=\"translate(0,420)\" d=\"M80,0h540\" style=\"stroke: rgb(255, 255, 255); stroke-opacity: 1; stroke-width: 2px;\"/></g><path class=\"xlines-below\"/><path class=\"ylines-below\"/><g class=\"overlines-below\"/><g class=\"xaxislayer-below\"/><g class=\"yaxislayer-below\"/><g class=\"overaxes-below\"/><g class=\"plot\" transform=\"translate(80,100)\" clip-path=\"url(#clipf1bb5exyplot)\"><g class=\"barlayer mlayer\"><g class=\"trace bars\" shape-rendering=\"crispEdges\" style=\"opacity: 1;\"><g class=\"points\"><g class=\"point\"><path d=\"M0,320V105.08H10.8V320Z\" style=\"vector-effect: non-scaling-stroke; opacity: 1; stroke-width: 0px; fill: rgb(99, 110, 250); fill-opacity: 1;\"/></g><g class=\"point\"><path d=\"M10.8,320V318.95H21.6V320Z\" style=\"vector-effect: non-scaling-stroke; opacity: 1; stroke-width: 0px; fill: rgb(99, 110, 250); fill-opacity: 1;\"/></g><g class=\"point\"><path d=\"M21.6,320V317.21H32.4V320Z\" style=\"vector-effect: non-scaling-stroke; opacity: 1; stroke-width: 0px; fill: rgb(99, 110, 250); fill-opacity: 1;\"/></g><g class=\"point\"><path d=\"M32.4,320V317.16H43.2V320Z\" style=\"vector-effect: non-scaling-stroke; opacity: 1; stroke-width: 0px; fill: rgb(99, 110, 250); fill-opacity: 1;\"/></g><g class=\"point\"><path d=\"M43.2,320V291.48H54V320Z\" style=\"vector-effect: non-scaling-stroke; opacity: 1; stroke-width: 0px; fill: rgb(99, 110, 250); fill-opacity: 1;\"/></g><g class=\"point\"><path d=\"M54,320V195.1H64.8V320Z\" style=\"vector-effect: non-scaling-stroke; opacity: 1; stroke-width: 0px; fill: rgb(99, 110, 250); fill-opacity: 1;\"/></g><g class=\"point\"><path d=\"M64.8,320V111.75H75.6V320Z\" style=\"vector-effect: non-scaling-stroke; opacity: 1; stroke-width: 0px; fill: rgb(99, 110, 250); fill-opacity: 1;\"/></g><g class=\"point\"><path d=\"M75.6,320V104.57H86.4V320Z\" style=\"vector-effect: non-scaling-stroke; opacity: 1; stroke-width: 0px; fill: rgb(99, 110, 250); fill-opacity: 1;\"/></g><g class=\"point\"><path d=\"M86.4,320V214.93H97.2V320Z\" style=\"vector-effect: non-scaling-stroke; opacity: 1; stroke-width: 0px; fill: rgb(99, 110, 250); fill-opacity: 1;\"/></g><g class=\"point\"><path d=\"M97.2,320V178.43H108V320Z\" style=\"vector-effect: non-scaling-stroke; opacity: 1; stroke-width: 0px; fill: rgb(99, 110, 250); fill-opacity: 1;\"/></g><g class=\"point\"><path d=\"M108,320V16H118.8V320Z\" style=\"vector-effect: non-scaling-stroke; opacity: 1; stroke-width: 0px; fill: rgb(99, 110, 250); fill-opacity: 1;\"/></g><g class=\"point\"><path d=\"M118.8,320V135.38H129.6V320Z\" style=\"vector-effect: non-scaling-stroke; opacity: 1; stroke-width: 0px; fill: rgb(99, 110, 250); fill-opacity: 1;\"/></g><g class=\"point\"><path d=\"M129.6,320V170.57H140.4V320Z\" style=\"vector-effect: non-scaling-stroke; opacity: 1; stroke-width: 0px; fill: rgb(99, 110, 250); fill-opacity: 1;\"/></g><g class=\"point\"><path d=\"M140.4,320V200.78H151.2V320Z\" style=\"vector-effect: non-scaling-stroke; opacity: 1; stroke-width: 0px; fill: rgb(99, 110, 250); fill-opacity: 1;\"/></g><g class=\"point\"><path d=\"M151.2,320V142.74H162V320Z\" style=\"vector-effect: non-scaling-stroke; opacity: 1; stroke-width: 0px; fill: rgb(99, 110, 250); fill-opacity: 1;\"/></g><g class=\"point\"><path d=\"M162,320V187H172.8V320Z\" style=\"vector-effect: non-scaling-stroke; opacity: 1; stroke-width: 0px; fill: rgb(99, 110, 250); fill-opacity: 1;\"/></g><g class=\"point\"><path d=\"M172.8,320V239.28H183.6V320Z\" style=\"vector-effect: non-scaling-stroke; opacity: 1; stroke-width: 0px; fill: rgb(99, 110, 250); fill-opacity: 1;\"/></g><g class=\"point\"><path d=\"M183.6,320V177.12H194.4V320Z\" style=\"vector-effect: non-scaling-stroke; opacity: 1; stroke-width: 0px; fill: rgb(99, 110, 250); fill-opacity: 1;\"/></g><g class=\"point\"><path d=\"M194.4,320V294.16H205.2V320Z\" style=\"vector-effect: non-scaling-stroke; opacity: 1; stroke-width: 0px; fill: rgb(99, 110, 250); fill-opacity: 1;\"/></g><g class=\"point\"><path d=\"M205.2,320V264.01H216V320Z\" style=\"vector-effect: non-scaling-stroke; opacity: 1; stroke-width: 0px; fill: rgb(99, 110, 250); fill-opacity: 1;\"/></g><g class=\"point\"><path d=\"M216,320V283.32H226.8V320Z\" style=\"vector-effect: non-scaling-stroke; opacity: 1; stroke-width: 0px; fill: rgb(99, 110, 250); fill-opacity: 1;\"/></g><g class=\"point\"><path d=\"M226.8,320V291.92H237.6V320Z\" style=\"vector-effect: non-scaling-stroke; opacity: 1; stroke-width: 0px; fill: rgb(99, 110, 250); fill-opacity: 1;\"/></g><g class=\"point\"><path d=\"M237.6,320V294.72H248.4V320Z\" style=\"vector-effect: non-scaling-stroke; opacity: 1; stroke-width: 0px; fill: rgb(99, 110, 250); fill-opacity: 1;\"/></g><g class=\"point\"><path d=\"M248.4,320V282.76H259.2V320Z\" style=\"vector-effect: non-scaling-stroke; opacity: 1; stroke-width: 0px; fill: rgb(99, 110, 250); fill-opacity: 1;\"/></g><g class=\"point\"><path d=\"M259.2,320V313.2H270V320Z\" style=\"vector-effect: non-scaling-stroke; opacity: 1; stroke-width: 0px; fill: rgb(99, 110, 250); fill-opacity: 1;\"/></g><g class=\"point\"><path d=\"M270,320V310.15H280.8V320Z\" style=\"vector-effect: non-scaling-stroke; opacity: 1; stroke-width: 0px; fill: rgb(99, 110, 250); fill-opacity: 1;\"/></g><g class=\"point\"><path d=\"M280.8,320V313.88H291.6V320Z\" style=\"vector-effect: non-scaling-stroke; opacity: 1; stroke-width: 0px; fill: rgb(99, 110, 250); fill-opacity: 1;\"/></g><g class=\"point\"><path d=\"M291.6,320V310.46H302.4V320Z\" style=\"vector-effect: non-scaling-stroke; opacity: 1; stroke-width: 0px; fill: rgb(99, 110, 250); fill-opacity: 1;\"/></g><g class=\"point\"><path d=\"M302.4,320V312.74H313.2V320Z\" style=\"vector-effect: non-scaling-stroke; opacity: 1; stroke-width: 0px; fill: rgb(99, 110, 250); fill-opacity: 1;\"/></g><g class=\"point\"><path d=\"M313.2,320V317.24H324V320Z\" style=\"vector-effect: non-scaling-stroke; opacity: 1; stroke-width: 0px; fill: rgb(99, 110, 250); fill-opacity: 1;\"/></g><g class=\"point\"><path d=\"M324,320V312.03H334.8V320Z\" style=\"vector-effect: non-scaling-stroke; opacity: 1; stroke-width: 0px; fill: rgb(99, 110, 250); fill-opacity: 1;\"/></g><g class=\"point\"><path d=\"M334.8,320V318.07H345.6V320Z\" style=\"vector-effect: non-scaling-stroke; opacity: 1; stroke-width: 0px; fill: rgb(99, 110, 250); fill-opacity: 1;\"/></g><g class=\"point\"><path d=\"M345.6,320V317.29H356.4V320Z\" style=\"vector-effect: non-scaling-stroke; opacity: 1; stroke-width: 0px; fill: rgb(99, 110, 250); fill-opacity: 1;\"/></g><g class=\"point\"><path d=\"M356.4,320V317.41H367.2V320Z\" style=\"vector-effect: non-scaling-stroke; opacity: 1; stroke-width: 0px; fill: rgb(99, 110, 250); fill-opacity: 1;\"/></g><g class=\"point\"><path d=\"M367.2,320V315.9H378V320Z\" style=\"vector-effect: non-scaling-stroke; opacity: 1; stroke-width: 0px; fill: rgb(99, 110, 250); fill-opacity: 1;\"/></g><g class=\"point\"><path d=\"M378,320V319.07H388.8V320Z\" style=\"vector-effect: non-scaling-stroke; opacity: 1; stroke-width: 0px; fill: rgb(99, 110, 250); fill-opacity: 1;\"/></g><g class=\"point\"><path d=\"M388.8,320V318.84H399.6V320Z\" style=\"vector-effect: non-scaling-stroke; opacity: 1; stroke-width: 0px; fill: rgb(99, 110, 250); fill-opacity: 1;\"/></g><g class=\"point\"><path d=\"M399.6,320V319.85H410.4V320Z\" style=\"vector-effect: non-scaling-stroke; opacity: 1; stroke-width: 0px; fill: rgb(99, 110, 250); fill-opacity: 1;\"/></g><g class=\"point\"><path d=\"M410.4,320V319.22H421.2V320Z\" style=\"vector-effect: non-scaling-stroke; opacity: 1; stroke-width: 0px; fill: rgb(99, 110, 250); fill-opacity: 1;\"/></g><g class=\"point\"><path d=\"M421.2,320V319.67H432V320Z\" style=\"vector-effect: non-scaling-stroke; opacity: 1; stroke-width: 0px; fill: rgb(99, 110, 250); fill-opacity: 1;\"/></g><g class=\"point\"><path d=\"M432,320V319.47H442.8V320Z\" style=\"vector-effect: non-scaling-stroke; opacity: 1; stroke-width: 0px; fill: rgb(99, 110, 250); fill-opacity: 1;\"/></g><g class=\"point\"><path d=\"M442.8,320V319.97H453.6V320Z\" style=\"vector-effect: non-scaling-stroke; opacity: 1; stroke-width: 0px; fill: rgb(99, 110, 250); fill-opacity: 1;\"/></g><g class=\"point\"><path d=\"M453.6,320V319.78H464.4V320Z\" style=\"vector-effect: non-scaling-stroke; opacity: 1; stroke-width: 0px; fill: rgb(99, 110, 250); fill-opacity: 1;\"/></g><g class=\"point\"><path d=\"M464.4,320V319.66H475.2V320Z\" style=\"vector-effect: non-scaling-stroke; opacity: 1; stroke-width: 0px; fill: rgb(99, 110, 250); fill-opacity: 1;\"/></g><g class=\"point\"><path d=\"M475.2,320V319.87H486V320Z\" style=\"vector-effect: non-scaling-stroke; opacity: 1; stroke-width: 0px; fill: rgb(99, 110, 250); fill-opacity: 1;\"/></g><g class=\"point\"><path d=\"M486,320V319.3H496.8V320Z\" style=\"vector-effect: non-scaling-stroke; opacity: 1; stroke-width: 0px; fill: rgb(99, 110, 250); fill-opacity: 1;\"/></g><g class=\"point\"><path d=\"M496.8,320V319.99H507.6V320Z\" style=\"vector-effect: non-scaling-stroke; opacity: 1; stroke-width: 0px; fill: rgb(99, 110, 250); fill-opacity: 1;\"/></g><g class=\"point\"><path d=\"M507.6,320V319.73H518.4V320Z\" style=\"vector-effect: non-scaling-stroke; opacity: 1; stroke-width: 0px; fill: rgb(99, 110, 250); fill-opacity: 1;\"/></g><g class=\"point\"><path d=\"M518.4,320V319.97H529.2V320Z\" style=\"vector-effect: non-scaling-stroke; opacity: 1; stroke-width: 0px; fill: rgb(99, 110, 250); fill-opacity: 1;\"/></g><g class=\"point\"><path d=\"M529.2,320V319.99H540V320Z\" style=\"vector-effect: non-scaling-stroke; opacity: 1; stroke-width: 0px; fill: rgb(99, 110, 250); fill-opacity: 1;\"/></g></g></g></g></g><g class=\"overplot\"/><path class=\"xlines-above crisp\" d=\"M0,0\" style=\"fill: none;\"/><path class=\"ylines-above crisp\" d=\"M0,0\" style=\"fill: none;\"/><g class=\"overlines-above\"/><g class=\"xaxislayer-above\"><g class=\"xtick\"><text text-anchor=\"middle\" x=\"0\" y=\"433\" transform=\"translate(80.54,0)\" style=\"font-family: 'Open Sans', verdana, arial, sans-serif; font-size: 12px; fill: rgb(42, 63, 95); fill-opacity: 1; white-space: pre; opacity: 1;\">0</text></g><g class=\"xtick\"><text text-anchor=\"middle\" x=\"0\" y=\"433\" style=\"font-family: 'Open Sans', verdana, arial, sans-serif; font-size: 12px; fill: rgb(42, 63, 95); fill-opacity: 1; white-space: pre; opacity: 1;\" transform=\"translate(188.54000000000002,0)\">100</text></g><g class=\"xtick\"><text text-anchor=\"middle\" x=\"0\" y=\"433\" style=\"font-family: 'Open Sans', verdana, arial, sans-serif; font-size: 12px; fill: rgb(42, 63, 95); fill-opacity: 1; white-space: pre; opacity: 1;\" transform=\"translate(296.53999999999996,0)\">200</text></g><g class=\"xtick\"><text text-anchor=\"middle\" x=\"0\" y=\"433\" style=\"font-family: 'Open Sans', verdana, arial, sans-serif; font-size: 12px; fill: rgb(42, 63, 95); fill-opacity: 1; white-space: pre; opacity: 1;\" transform=\"translate(404.54,0)\">300</text></g><g class=\"xtick\"><text text-anchor=\"middle\" x=\"0\" y=\"433\" style=\"font-family: 'Open Sans', verdana, arial, sans-serif; font-size: 12px; fill: rgb(42, 63, 95); fill-opacity: 1; white-space: pre; opacity: 1;\" transform=\"translate(512.54,0)\">400</text></g></g><g class=\"yaxislayer-above\"><g class=\"ytick\"><text text-anchor=\"end\" x=\"79\" y=\"4.199999999999999\" transform=\"translate(0,420)\" style=\"font-family: 'Open Sans', verdana, arial, sans-serif; font-size: 12px; fill: rgb(42, 63, 95); fill-opacity: 1; white-space: pre; opacity: 1;\">0</text></g><g class=\"ytick\"><text text-anchor=\"end\" x=\"79\" y=\"4.199999999999999\" style=\"font-family: 'Open Sans', verdana, arial, sans-serif; font-size: 12px; fill: rgb(42, 63, 95); fill-opacity: 1; white-space: pre; opacity: 1;\" transform=\"translate(0,377.58)\">5k</text></g><g class=\"ytick\"><text text-anchor=\"end\" x=\"79\" y=\"4.199999999999999\" style=\"font-family: 'Open Sans', verdana, arial, sans-serif; font-size: 12px; fill: rgb(42, 63, 95); fill-opacity: 1; white-space: pre; opacity: 1;\" transform=\"translate(0,335.15999999999997)\">10k</text></g><g class=\"ytick\"><text text-anchor=\"end\" x=\"79\" y=\"4.199999999999999\" style=\"font-family: 'Open Sans', verdana, arial, sans-serif; font-size: 12px; fill: rgb(42, 63, 95); fill-opacity: 1; white-space: pre; opacity: 1;\" transform=\"translate(0,292.74)\">15k</text></g><g class=\"ytick\"><text text-anchor=\"end\" x=\"79\" y=\"4.199999999999999\" style=\"font-family: 'Open Sans', verdana, arial, sans-serif; font-size: 12px; fill: rgb(42, 63, 95); fill-opacity: 1; white-space: pre; opacity: 1;\" transform=\"translate(0,250.32)\">20k</text></g><g class=\"ytick\"><text text-anchor=\"end\" x=\"79\" y=\"4.199999999999999\" style=\"font-family: 'Open Sans', verdana, arial, sans-serif; font-size: 12px; fill: rgb(42, 63, 95); fill-opacity: 1; white-space: pre; opacity: 1;\" transform=\"translate(0,207.91)\">25k</text></g><g class=\"ytick\"><text text-anchor=\"end\" x=\"79\" y=\"4.199999999999999\" style=\"font-family: 'Open Sans', verdana, arial, sans-serif; font-size: 12px; fill: rgb(42, 63, 95); fill-opacity: 1; white-space: pre; opacity: 1;\" transform=\"translate(0,165.49)\">30k</text></g><g class=\"ytick\"><text text-anchor=\"end\" x=\"79\" y=\"4.199999999999999\" style=\"font-family: 'Open Sans', verdana, arial, sans-serif; font-size: 12px; fill: rgb(42, 63, 95); fill-opacity: 1; white-space: pre; opacity: 1;\" transform=\"translate(0,123.07)\">35k</text></g></g><g class=\"overaxes-above\"/></g></g><g class=\"polarlayer\"/><g class=\"smithlayer\"/><g class=\"ternarylayer\"/><g class=\"geolayer\"/><g class=\"funnelarealayer\"/><g class=\"pielayer\"/><g class=\"iciclelayer\"/><g class=\"treemaplayer\"/><g class=\"sunburstlayer\"/><g class=\"glimages\"/><defs id=\"topdefs-f1bb5e\"><g class=\"clips\"/></defs><g class=\"layer-above\"><g class=\"imagelayer\"/><g class=\"shapelayer\"/></g><g class=\"infolayer\"><g class=\"g-gtitle\"><text class=\"gtitle\" x=\"35\" y=\"50\" text-anchor=\"start\" dy=\"0em\" style=\"font-family: 'Open Sans', verdana, arial, sans-serif; font-size: 17px; fill: rgb(42, 63, 95); opacity: 1; font-weight: normal; white-space: pre;\">Распределение параметра Power</text></g><g class=\"g-xtitle\"/><g class=\"g-ytitle\"/></g></svg>"
      ]
     },
     "metadata": {},
     "output_type": "display_data"
    }
   ],
   "source": [
    "plot_param(df[df['Power'] < 500], 'Power')"
   ]
  },
  {
   "cell_type": "code",
   "execution_count": 55,
   "metadata": {},
   "outputs": [],
   "source": [
    "df = df.reset_index(drop=True)\n",
    "dic = {}\n",
    "for model in df.loc[df['Model'].isna() == False,'Model'].unique():\n",
    "    dic[str(model)] = df[df['Model'] == model].groupby('Power')['Power'].count().sort_values(ascending=False).head(1).index[0]\n",
    "    \n",
    "for i in range(len(df)):\n",
    "    if df.loc[i, 'Power'] < 40:\n",
    "        df.loc[i, 'Power'] = dic[df.loc[i, 'Model']]"
   ]
  },
  {
   "cell_type": "code",
   "execution_count": 56,
   "metadata": {},
   "outputs": [
    {
     "data": {
      "text/html": [
       "<div>\n",
       "<style scoped>\n",
       "    .dataframe tbody tr th:only-of-type {\n",
       "        vertical-align: middle;\n",
       "    }\n",
       "\n",
       "    .dataframe tbody tr th {\n",
       "        vertical-align: top;\n",
       "    }\n",
       "\n",
       "    .dataframe thead th {\n",
       "        text-align: right;\n",
       "    }\n",
       "</style>\n",
       "<table border=\"1\" class=\"dataframe\">\n",
       "  <thead>\n",
       "    <tr style=\"text-align: right;\">\n",
       "      <th></th>\n",
       "      <th>Price</th>\n",
       "      <th>VehicleType</th>\n",
       "      <th>RegistrationYear</th>\n",
       "      <th>Gearbox</th>\n",
       "      <th>Power</th>\n",
       "      <th>Model</th>\n",
       "      <th>Kilometer</th>\n",
       "      <th>FuelType</th>\n",
       "      <th>Brand</th>\n",
       "      <th>Repaired</th>\n",
       "    </tr>\n",
       "  </thead>\n",
       "  <tbody>\n",
       "    <tr>\n",
       "      <th>200</th>\n",
       "      <td>500</td>\n",
       "      <td>small</td>\n",
       "      <td>1999</td>\n",
       "      <td>manual</td>\n",
       "      <td>0</td>\n",
       "      <td>unspecified</td>\n",
       "      <td>150000</td>\n",
       "      <td>petrol</td>\n",
       "      <td>renault</td>\n",
       "      <td>no</td>\n",
       "    </tr>\n",
       "    <tr>\n",
       "      <th>202</th>\n",
       "      <td>300</td>\n",
       "      <td>small</td>\n",
       "      <td>1994</td>\n",
       "      <td>manual</td>\n",
       "      <td>0</td>\n",
       "      <td>other</td>\n",
       "      <td>150000</td>\n",
       "      <td>petrol</td>\n",
       "      <td>mitsubishi</td>\n",
       "      <td>unspecified</td>\n",
       "    </tr>\n",
       "    <tr>\n",
       "      <th>224</th>\n",
       "      <td>300</td>\n",
       "      <td>bus</td>\n",
       "      <td>1997</td>\n",
       "      <td>manual</td>\n",
       "      <td>0</td>\n",
       "      <td>other</td>\n",
       "      <td>150000</td>\n",
       "      <td>petrol</td>\n",
       "      <td>opel</td>\n",
       "      <td>unspecified</td>\n",
       "    </tr>\n",
       "    <tr>\n",
       "      <th>322</th>\n",
       "      <td>10200</td>\n",
       "      <td>coupe</td>\n",
       "      <td>2008</td>\n",
       "      <td>manual</td>\n",
       "      <td>0</td>\n",
       "      <td>other</td>\n",
       "      <td>90000</td>\n",
       "      <td>petrol</td>\n",
       "      <td>nissan</td>\n",
       "      <td>unspecified</td>\n",
       "    </tr>\n",
       "    <tr>\n",
       "      <th>395</th>\n",
       "      <td>1600</td>\n",
       "      <td>wagon</td>\n",
       "      <td>1999</td>\n",
       "      <td>manual</td>\n",
       "      <td>0</td>\n",
       "      <td>unspecified</td>\n",
       "      <td>150000</td>\n",
       "      <td>petrol</td>\n",
       "      <td>bmw</td>\n",
       "      <td>no</td>\n",
       "    </tr>\n",
       "    <tr>\n",
       "      <th>...</th>\n",
       "      <td>...</td>\n",
       "      <td>...</td>\n",
       "      <td>...</td>\n",
       "      <td>...</td>\n",
       "      <td>...</td>\n",
       "      <td>...</td>\n",
       "      <td>...</td>\n",
       "      <td>...</td>\n",
       "      <td>...</td>\n",
       "      <td>...</td>\n",
       "    </tr>\n",
       "    <tr>\n",
       "      <th>308012</th>\n",
       "      <td>1500</td>\n",
       "      <td>bus</td>\n",
       "      <td>1984</td>\n",
       "      <td>manual</td>\n",
       "      <td>0</td>\n",
       "      <td>unspecified</td>\n",
       "      <td>150000</td>\n",
       "      <td>gasoline</td>\n",
       "      <td>mercedes_benz</td>\n",
       "      <td>unspecified</td>\n",
       "    </tr>\n",
       "    <tr>\n",
       "      <th>308081</th>\n",
       "      <td>4300</td>\n",
       "      <td>small</td>\n",
       "      <td>2008</td>\n",
       "      <td>auto</td>\n",
       "      <td>0</td>\n",
       "      <td>unspecified</td>\n",
       "      <td>150000</td>\n",
       "      <td>unspecified</td>\n",
       "      <td>honda</td>\n",
       "      <td>unspecified</td>\n",
       "    </tr>\n",
       "    <tr>\n",
       "      <th>308113</th>\n",
       "      <td>2300</td>\n",
       "      <td>bus</td>\n",
       "      <td>2000</td>\n",
       "      <td>manual</td>\n",
       "      <td>0</td>\n",
       "      <td>other</td>\n",
       "      <td>80000</td>\n",
       "      <td>gasoline</td>\n",
       "      <td>citroen</td>\n",
       "      <td>no</td>\n",
       "    </tr>\n",
       "    <tr>\n",
       "      <th>308168</th>\n",
       "      <td>790</td>\n",
       "      <td>sedan</td>\n",
       "      <td>1990</td>\n",
       "      <td>manual</td>\n",
       "      <td>0</td>\n",
       "      <td>other</td>\n",
       "      <td>150000</td>\n",
       "      <td>petrol</td>\n",
       "      <td>renault</td>\n",
       "      <td>unspecified</td>\n",
       "    </tr>\n",
       "    <tr>\n",
       "      <th>308229</th>\n",
       "      <td>5990</td>\n",
       "      <td>bus</td>\n",
       "      <td>1984</td>\n",
       "      <td>auto</td>\n",
       "      <td>0</td>\n",
       "      <td>other</td>\n",
       "      <td>70000</td>\n",
       "      <td>petrol</td>\n",
       "      <td>chevrolet</td>\n",
       "      <td>unspecified</td>\n",
       "    </tr>\n",
       "  </tbody>\n",
       "</table>\n",
       "<p>5215 rows × 10 columns</p>\n",
       "</div>"
      ],
      "text/plain": [
       "        Price VehicleType  RegistrationYear Gearbox  Power        Model  \\\n",
       "200       500       small              1999  manual      0  unspecified   \n",
       "202       300       small              1994  manual      0        other   \n",
       "224       300         bus              1997  manual      0        other   \n",
       "322     10200       coupe              2008  manual      0        other   \n",
       "395      1600       wagon              1999  manual      0  unspecified   \n",
       "...       ...         ...               ...     ...    ...          ...   \n",
       "308012   1500         bus              1984  manual      0  unspecified   \n",
       "308081   4300       small              2008    auto      0  unspecified   \n",
       "308113   2300         bus              2000  manual      0        other   \n",
       "308168    790       sedan              1990  manual      0        other   \n",
       "308229   5990         bus              1984    auto      0        other   \n",
       "\n",
       "        Kilometer     FuelType          Brand     Repaired  \n",
       "200        150000       petrol        renault           no  \n",
       "202        150000       petrol     mitsubishi  unspecified  \n",
       "224        150000       petrol           opel  unspecified  \n",
       "322         90000       petrol         nissan  unspecified  \n",
       "395        150000       petrol            bmw           no  \n",
       "...           ...          ...            ...          ...  \n",
       "308012     150000     gasoline  mercedes_benz  unspecified  \n",
       "308081     150000  unspecified          honda  unspecified  \n",
       "308113      80000     gasoline        citroen           no  \n",
       "308168     150000       petrol        renault  unspecified  \n",
       "308229      70000       petrol      chevrolet  unspecified  \n",
       "\n",
       "[5215 rows x 10 columns]"
      ]
     },
     "execution_count": 56,
     "metadata": {},
     "output_type": "execute_result"
    }
   ],
   "source": [
    "df[df['Power'] < 40]"
   ]
  },
  {
   "cell_type": "code",
   "execution_count": 57,
   "metadata": {},
   "outputs": [],
   "source": [
    "df = df[df['Power'] > 40]"
   ]
  },
  {
   "cell_type": "markdown",
   "metadata": {},
   "source": [
    "После всех чисток удалили не настолько большую часть данных"
   ]
  },
  {
   "cell_type": "code",
   "execution_count": 58,
   "metadata": {},
   "outputs": [
    {
     "data": {
      "text/html": [
       "<div>\n",
       "<style scoped>\n",
       "    .dataframe tbody tr th:only-of-type {\n",
       "        vertical-align: middle;\n",
       "    }\n",
       "\n",
       "    .dataframe tbody tr th {\n",
       "        vertical-align: top;\n",
       "    }\n",
       "\n",
       "    .dataframe thead th {\n",
       "        text-align: right;\n",
       "    }\n",
       "</style>\n",
       "<table border=\"1\" class=\"dataframe\">\n",
       "  <thead>\n",
       "    <tr style=\"text-align: right;\">\n",
       "      <th></th>\n",
       "      <th>Price</th>\n",
       "      <th>RegistrationYear</th>\n",
       "      <th>Power</th>\n",
       "      <th>Kilometer</th>\n",
       "    </tr>\n",
       "  </thead>\n",
       "  <tbody>\n",
       "    <tr>\n",
       "      <th>Price</th>\n",
       "      <td>1.000000</td>\n",
       "      <td>0.576992</td>\n",
       "      <td>0.424607</td>\n",
       "      <td>-0.397964</td>\n",
       "    </tr>\n",
       "    <tr>\n",
       "      <th>RegistrationYear</th>\n",
       "      <td>0.576992</td>\n",
       "      <td>1.000000</td>\n",
       "      <td>0.117440</td>\n",
       "      <td>-0.366306</td>\n",
       "    </tr>\n",
       "    <tr>\n",
       "      <th>Power</th>\n",
       "      <td>0.424607</td>\n",
       "      <td>0.117440</td>\n",
       "      <td>1.000000</td>\n",
       "      <td>0.081536</td>\n",
       "    </tr>\n",
       "    <tr>\n",
       "      <th>Kilometer</th>\n",
       "      <td>-0.397964</td>\n",
       "      <td>-0.366306</td>\n",
       "      <td>0.081536</td>\n",
       "      <td>1.000000</td>\n",
       "    </tr>\n",
       "  </tbody>\n",
       "</table>\n",
       "</div>"
      ],
      "text/plain": [
       "                     Price  RegistrationYear     Power  Kilometer\n",
       "Price             1.000000          0.576992  0.424607  -0.397964\n",
       "RegistrationYear  0.576992          1.000000  0.117440  -0.366306\n",
       "Power             0.424607          0.117440  1.000000   0.081536\n",
       "Kilometer        -0.397964         -0.366306  0.081536   1.000000"
      ]
     },
     "execution_count": 58,
     "metadata": {},
     "output_type": "execute_result"
    }
   ],
   "source": [
    "df.corr()"
   ]
  },
  {
   "cell_type": "markdown",
   "metadata": {},
   "source": [
    "### Подготовка выборок для обучения моделей."
   ]
  },
  {
   "cell_type": "code",
   "execution_count": 59,
   "metadata": {},
   "outputs": [
    {
     "data": {
      "text/plain": [
       "['VehicleType', 'Gearbox', 'Model', 'FuelType', 'Brand', 'Repaired']"
      ]
     },
     "execution_count": 59,
     "metadata": {},
     "output_type": "execute_result"
    }
   ],
   "source": [
    "or_features = df.select_dtypes(include='object').columns.to_list()\n",
    "or_features"
   ]
  },
  {
   "cell_type": "code",
   "execution_count": 60,
   "metadata": {},
   "outputs": [],
   "source": [
    "target = df['Price']\n",
    "features = df.drop(['Price'], axis=1)\n",
    "\n",
    "features_train, features_valid, target_train, target_valid = train_test_split(\n",
    "    features, target, test_size=0.20, random_state=12345)\n",
    "\n",
    "features_test, features_valid, target_test, target_valid = train_test_split(\n",
    "    features_valid, target_valid, test_size=0.5, random_state=12345)"
   ]
  },
  {
   "cell_type": "code",
   "execution_count": 62,
   "metadata": {},
   "outputs": [],
   "source": [
    "enc = OrdinalEncoder()\n",
    "enc.fit(features_train[or_features])\n",
    "features_train[or_features] = enc.transform(features_train[or_features])\n",
    "features_valid[or_features] = enc.transform(features_valid[or_features])\n",
    "features_test[or_features] = enc.transform(features_test[or_features])"
   ]
  },
  {
   "cell_type": "markdown",
   "metadata": {},
   "source": [
    "### Обучение моделей"
   ]
  },
  {
   "cell_type": "markdown",
   "metadata": {},
   "source": [
    "Обучите разные модели, одна из которых — LightGBM, как минимум одна — не бустинг. Для каждой модели попробуйте разные гиперпараметры."
   ]
  },
  {
   "cell_type": "code",
   "execution_count": 63,
   "metadata": {},
   "outputs": [],
   "source": [
    "results = pd.DataFrame({'model': [],\n",
    " 'fit_time' : [],\n",
    " 'comp_time': [],\n",
    " 'rmse': []})"
   ]
  },
  {
   "cell_type": "markdown",
   "metadata": {},
   "source": [
    "#### LightGBM"
   ]
  },
  {
   "cell_type": "markdown",
   "metadata": {},
   "source": [
    "Создадим стандартную модель:"
   ]
  },
  {
   "cell_type": "code",
   "execution_count": 64,
   "metadata": {},
   "outputs": [],
   "source": [
    "begin = time.time()\n",
    "model_LGBM = LGBMRegressor()\n",
    "model_LGBM.fit(features_train, target_train)\n",
    "end = time.time()\n",
    "fit_time_std_LGBM = round(end - begin)"
   ]
  },
  {
   "cell_type": "code",
   "execution_count": 65,
   "metadata": {
    "scrolled": true
   },
   "outputs": [],
   "source": [
    "begin = time.time()\n",
    "model_LGBM.predict(np.array(features_valid.iloc[0]).reshape(1, -1))\n",
    "end = time.time()\n",
    "comp_time_std_LGBM = round(end - begin, 3)"
   ]
  },
  {
   "cell_type": "code",
   "execution_count": 66,
   "metadata": {},
   "outputs": [],
   "source": [
    "rmse_std_LGBM = mean_squared_error(target_valid, model_LGBM.predict(features_valid)) ** 0.5"
   ]
  },
  {
   "cell_type": "code",
   "execution_count": 67,
   "metadata": {
    "scrolled": true
   },
   "outputs": [
    {
     "data": {
      "text/html": [
       "<div>\n",
       "<style scoped>\n",
       "    .dataframe tbody tr th:only-of-type {\n",
       "        vertical-align: middle;\n",
       "    }\n",
       "\n",
       "    .dataframe tbody tr th {\n",
       "        vertical-align: top;\n",
       "    }\n",
       "\n",
       "    .dataframe thead th {\n",
       "        text-align: right;\n",
       "    }\n",
       "</style>\n",
       "<table border=\"1\" class=\"dataframe\">\n",
       "  <thead>\n",
       "    <tr style=\"text-align: right;\">\n",
       "      <th></th>\n",
       "      <th>model</th>\n",
       "      <th>fit_time</th>\n",
       "      <th>comp_time</th>\n",
       "      <th>rmse</th>\n",
       "    </tr>\n",
       "  </thead>\n",
       "  <tbody>\n",
       "    <tr>\n",
       "      <th>0</th>\n",
       "      <td>Standart LGBM</td>\n",
       "      <td>1</td>\n",
       "      <td>0.0</td>\n",
       "      <td>1621.292855</td>\n",
       "    </tr>\n",
       "  </tbody>\n",
       "</table>\n",
       "</div>"
      ],
      "text/plain": [
       "           model  fit_time  comp_time         rmse\n",
       "0  Standart LGBM         1        0.0  1621.292855"
      ]
     },
     "execution_count": 67,
     "metadata": {},
     "output_type": "execute_result"
    }
   ],
   "source": [
    "results.loc[0] = ['Standart LGBM', fit_time_std_LGBM, comp_time_std_LGBM, rmse_std_LGBM]\n",
    "results"
   ]
  },
  {
   "cell_type": "markdown",
   "metadata": {},
   "source": [
    "Подберем наилучшую модель: (после поиска лучших параметров сократила диапазон)"
   ]
  },
  {
   "cell_type": "code",
   "execution_count": 68,
   "metadata": {},
   "outputs": [],
   "source": [
    "parametrs = {'n_estimators': range(90, 110, 10),\n",
    "             'learning_rate': np.arange(0.01, 0.2, 0.05),\n",
    "             'num_leaves': range(32, 36, 2)\n",
    "             }"
   ]
  },
  {
   "cell_type": "code",
   "execution_count": 69,
   "metadata": {},
   "outputs": [],
   "source": [
    "def rmse(t,p):\n",
    "    return mean_squared_error(t,p) ** 0.5\n",
    "scorer = make_scorer(rmse, greater_is_better=False)"
   ]
  },
  {
   "cell_type": "code",
   "execution_count": null,
   "metadata": {
    "scrolled": true
   },
   "outputs": [],
   "source": [
    "# %%time\n",
    "# model_LGBM = LGBMRegressor()\n",
    "# grid = GridSearchCV(model_LGBM, parametrs, cv=5, verbose=50, scoring=scorer)\n",
    "# grid.fit(features_train, target_train)\n",
    "# grid.best_params_"
   ]
  },
  {
   "cell_type": "markdown",
   "metadata": {},
   "source": [
    "Лучшие параметры {'learning_rate': 0.2, 'n_estimators': 100, 'num_leaves': 34}"
   ]
  },
  {
   "cell_type": "code",
   "execution_count": 70,
   "metadata": {},
   "outputs": [],
   "source": [
    "begin = time.time()\n",
    "model_LGBM_b = LGBMRegressor(learning_rate = 0.2, n_estimators = 100, num_leaves = 34)\n",
    "model_LGBM_b.fit(features_train, target_train)\n",
    "end = time.time()\n",
    "fit_time_best_LGBM = round(end - begin)"
   ]
  },
  {
   "cell_type": "code",
   "execution_count": 71,
   "metadata": {},
   "outputs": [],
   "source": [
    "begin = time.time()\n",
    "model_LGBM_b.predict(np.array(features_valid.iloc[0]).reshape(1, -1))\n",
    "end = time.time()\n",
    "comp_time_best_LGBM = round(end - begin, 3)"
   ]
  },
  {
   "cell_type": "code",
   "execution_count": 72,
   "metadata": {},
   "outputs": [],
   "source": [
    "rmse_best_LGBM = mean_squared_error(target_valid, model_LGBM_b.predict(features_valid)) ** 0.5"
   ]
  },
  {
   "cell_type": "code",
   "execution_count": 73,
   "metadata": {},
   "outputs": [
    {
     "data": {
      "text/html": [
       "<div>\n",
       "<style scoped>\n",
       "    .dataframe tbody tr th:only-of-type {\n",
       "        vertical-align: middle;\n",
       "    }\n",
       "\n",
       "    .dataframe tbody tr th {\n",
       "        vertical-align: top;\n",
       "    }\n",
       "\n",
       "    .dataframe thead th {\n",
       "        text-align: right;\n",
       "    }\n",
       "</style>\n",
       "<table border=\"1\" class=\"dataframe\">\n",
       "  <thead>\n",
       "    <tr style=\"text-align: right;\">\n",
       "      <th></th>\n",
       "      <th>model</th>\n",
       "      <th>fit_time</th>\n",
       "      <th>comp_time</th>\n",
       "      <th>rmse</th>\n",
       "    </tr>\n",
       "  </thead>\n",
       "  <tbody>\n",
       "    <tr>\n",
       "      <th>0</th>\n",
       "      <td>Standart LGBM</td>\n",
       "      <td>1</td>\n",
       "      <td>0.000</td>\n",
       "      <td>1621.292855</td>\n",
       "    </tr>\n",
       "    <tr>\n",
       "      <th>1</th>\n",
       "      <td>Best LGBM</td>\n",
       "      <td>1</td>\n",
       "      <td>0.001</td>\n",
       "      <td>1563.219003</td>\n",
       "    </tr>\n",
       "  </tbody>\n",
       "</table>\n",
       "</div>"
      ],
      "text/plain": [
       "           model  fit_time  comp_time         rmse\n",
       "0  Standart LGBM         1      0.000  1621.292855\n",
       "1      Best LGBM         1      0.001  1563.219003"
      ]
     },
     "execution_count": 73,
     "metadata": {},
     "output_type": "execute_result"
    }
   ],
   "source": [
    "results.loc[1] = ['Best LGBM', fit_time_best_LGBM, comp_time_best_LGBM, rmse_best_LGBM]\n",
    "results"
   ]
  },
  {
   "cell_type": "markdown",
   "metadata": {},
   "source": [
    "#### DecisionTreeRegressor"
   ]
  },
  {
   "cell_type": "code",
   "execution_count": 74,
   "metadata": {},
   "outputs": [],
   "source": [
    "parametrs = {'max_depth': range(3, 11, 2),\n",
    "             'min_samples_leaf': range(4, 8),\n",
    "             'min_samples_split': range(2, 6, 2)\n",
    "             }"
   ]
  },
  {
   "cell_type": "code",
   "execution_count": null,
   "metadata": {},
   "outputs": [],
   "source": [
    "# %%time\n",
    "# model_tree = DecisionTreeRegressor(random_state=0)\n",
    "# grid = GridSearchCV(model_tree, parametrs, cv=5, verbose=10, scoring=scorer)\n",
    "# grid.fit(features_train, target_train)\n",
    "# grid.best_params_"
   ]
  },
  {
   "cell_type": "markdown",
   "metadata": {},
   "source": [
    "{'max_depth': 9, 'min_samples_leaf': 7, 'min_samples_split': 2}"
   ]
  },
  {
   "cell_type": "code",
   "execution_count": 75,
   "metadata": {},
   "outputs": [],
   "source": [
    "begin = time.time()\n",
    "model_tree = DecisionTreeRegressor(random_state=0)\n",
    "model_tree.fit(features_train, target_train)\n",
    "end = time.time()\n",
    "fit_time_std_tree = round(end - begin)"
   ]
  },
  {
   "cell_type": "code",
   "execution_count": 76,
   "metadata": {},
   "outputs": [
    {
     "name": "stderr",
     "output_type": "stream",
     "text": [
      "D:\\Python\\lib\\site-packages\\sklearn\\base.py:420: UserWarning:\n",
      "\n",
      "X does not have valid feature names, but DecisionTreeRegressor was fitted with feature names\n",
      "\n"
     ]
    }
   ],
   "source": [
    "begin = time.time()\n",
    "model_tree.predict(np.array(features_valid.iloc[0]).reshape(1, -1))\n",
    "end = time.time()\n",
    "comp_time_std_tree = round(end - begin, 3)"
   ]
  },
  {
   "cell_type": "code",
   "execution_count": 77,
   "metadata": {},
   "outputs": [],
   "source": [
    "rmse_std_tree = mean_squared_error(target_valid, model_tree.predict(features_valid)) ** 0.5"
   ]
  },
  {
   "cell_type": "code",
   "execution_count": 78,
   "metadata": {
    "scrolled": true
   },
   "outputs": [],
   "source": [
    "results.loc[2] = ['Standart tree', fit_time_std_tree, comp_time_std_tree, rmse_std_tree]"
   ]
  },
  {
   "cell_type": "markdown",
   "metadata": {},
   "source": [
    "Теперь проверим дерево с лучшими параметрами"
   ]
  },
  {
   "cell_type": "code",
   "execution_count": 79,
   "metadata": {},
   "outputs": [],
   "source": [
    "begin = time.time()\n",
    "model_tree_b = DecisionTreeRegressor(random_state=0, max_depth = 9, min_samples_leaf = 7, min_samples_split = 2)\n",
    "model_tree_b.fit(features_train, target_train)\n",
    "end = time.time()\n",
    "fit_time_best_tree = round(end - begin)"
   ]
  },
  {
   "cell_type": "code",
   "execution_count": 80,
   "metadata": {},
   "outputs": [
    {
     "name": "stderr",
     "output_type": "stream",
     "text": [
      "D:\\Python\\lib\\site-packages\\sklearn\\base.py:420: UserWarning:\n",
      "\n",
      "X does not have valid feature names, but DecisionTreeRegressor was fitted with feature names\n",
      "\n"
     ]
    }
   ],
   "source": [
    "begin = time.time()\n",
    "model_tree_b.predict(np.array(features_valid.iloc[0]).reshape(1, -1))\n",
    "end = time.time()\n",
    "comp_time_best_tree = round(end - begin, 3)"
   ]
  },
  {
   "cell_type": "code",
   "execution_count": 81,
   "metadata": {},
   "outputs": [],
   "source": [
    "rmse_best_tree = mean_squared_error(target_valid, model_tree_b.predict(features_valid)) ** 0.5"
   ]
  },
  {
   "cell_type": "code",
   "execution_count": 82,
   "metadata": {},
   "outputs": [],
   "source": [
    "results.loc[3] = ['Best tree', fit_time_best_tree, comp_time_best_tree, rmse_best_tree]"
   ]
  },
  {
   "cell_type": "code",
   "execution_count": 83,
   "metadata": {},
   "outputs": [
    {
     "data": {
      "text/html": [
       "<div>\n",
       "<style scoped>\n",
       "    .dataframe tbody tr th:only-of-type {\n",
       "        vertical-align: middle;\n",
       "    }\n",
       "\n",
       "    .dataframe tbody tr th {\n",
       "        vertical-align: top;\n",
       "    }\n",
       "\n",
       "    .dataframe thead th {\n",
       "        text-align: right;\n",
       "    }\n",
       "</style>\n",
       "<table border=\"1\" class=\"dataframe\">\n",
       "  <thead>\n",
       "    <tr style=\"text-align: right;\">\n",
       "      <th></th>\n",
       "      <th>model</th>\n",
       "      <th>fit_time</th>\n",
       "      <th>comp_time</th>\n",
       "      <th>rmse</th>\n",
       "    </tr>\n",
       "  </thead>\n",
       "  <tbody>\n",
       "    <tr>\n",
       "      <th>0</th>\n",
       "      <td>Standart LGBM</td>\n",
       "      <td>1</td>\n",
       "      <td>0.000</td>\n",
       "      <td>1621.292855</td>\n",
       "    </tr>\n",
       "    <tr>\n",
       "      <th>1</th>\n",
       "      <td>Best LGBM</td>\n",
       "      <td>1</td>\n",
       "      <td>0.001</td>\n",
       "      <td>1563.219003</td>\n",
       "    </tr>\n",
       "    <tr>\n",
       "      <th>2</th>\n",
       "      <td>Standart tree</td>\n",
       "      <td>1</td>\n",
       "      <td>0.000</td>\n",
       "      <td>1829.254225</td>\n",
       "    </tr>\n",
       "    <tr>\n",
       "      <th>3</th>\n",
       "      <td>Best tree</td>\n",
       "      <td>1</td>\n",
       "      <td>0.001</td>\n",
       "      <td>1957.640565</td>\n",
       "    </tr>\n",
       "  </tbody>\n",
       "</table>\n",
       "</div>"
      ],
      "text/plain": [
       "           model  fit_time  comp_time         rmse\n",
       "0  Standart LGBM         1      0.000  1621.292855\n",
       "1      Best LGBM         1      0.001  1563.219003\n",
       "2  Standart tree         1      0.000  1829.254225\n",
       "3      Best tree         1      0.001  1957.640565"
      ]
     },
     "execution_count": 83,
     "metadata": {},
     "output_type": "execute_result"
    }
   ],
   "source": [
    "results"
   ]
  },
  {
   "cell_type": "markdown",
   "metadata": {},
   "source": [
    "####  Линейная"
   ]
  },
  {
   "cell_type": "code",
   "execution_count": 93,
   "metadata": {},
   "outputs": [],
   "source": [
    "ohe_features = df.select_dtypes(include='object').columns.to_list()\n",
    "\n",
    "transformer = make_column_transformer(\n",
    "    (OneHotEncoder(handle_unknown='ignore'), ohe_features),\n",
    "    remainder='passthrough')\n",
    "\n",
    "transformed = transformer.fit_transform(features_train)\n",
    "transformed = transformed.toarray()\n",
    "transformed_df_train = pd.DataFrame(transformed, columns=transformer.get_feature_names_out())\n",
    "\n",
    "transformed = transformer.transform(features_valid)\n",
    "transformed = transformed.toarray()\n",
    "transformed_df_valid = pd.DataFrame(transformed, columns=transformer.get_feature_names_out())\n",
    "\n",
    "transformed = transformer.transform(features_test)\n",
    "transformed = transformed.toarray()\n",
    "transformed_df_test = pd.DataFrame(transformed, columns=transformer.get_feature_names_out())"
   ]
  },
  {
   "cell_type": "code",
   "execution_count": 94,
   "metadata": {},
   "outputs": [],
   "source": [
    "begin = time.time()\n",
    "model_lr = LinearRegression()\n",
    "model_lr.fit(transformed_df_train, target_train)\n",
    "end = time.time()\n",
    "fit_time_lr = round(end - begin)"
   ]
  },
  {
   "cell_type": "code",
   "execution_count": 95,
   "metadata": {},
   "outputs": [
    {
     "name": "stderr",
     "output_type": "stream",
     "text": [
      "D:\\Python\\lib\\site-packages\\sklearn\\base.py:420: UserWarning:\n",
      "\n",
      "X does not have valid feature names, but LinearRegression was fitted with feature names\n",
      "\n"
     ]
    }
   ],
   "source": [
    "begin = time.time()\n",
    "model_lr.predict(np.array(transformed_df_test.iloc[0]).reshape(1, -1))\n",
    "end = time.time()\n",
    "comp_time_lr = round(end - begin, 3)"
   ]
  },
  {
   "cell_type": "code",
   "execution_count": 96,
   "metadata": {},
   "outputs": [],
   "source": [
    "rmse_best_tree = mean_squared_error(target_valid, model_lr.predict(transformed_df_valid)) ** 0.5"
   ]
  },
  {
   "cell_type": "code",
   "execution_count": 97,
   "metadata": {},
   "outputs": [],
   "source": [
    "results.loc[4] = ['Linear', fit_time_best_tree, comp_time_best_tree, rmse_best_tree]"
   ]
  },
  {
   "cell_type": "markdown",
   "metadata": {},
   "source": [
    "#### Dummy"
   ]
  },
  {
   "cell_type": "code",
   "execution_count": 98,
   "metadata": {},
   "outputs": [
    {
     "data": {
      "text/plain": [
       "4525.760202622181"
      ]
     },
     "execution_count": 98,
     "metadata": {},
     "output_type": "execute_result"
    }
   ],
   "source": [
    "dummy_regr = DummyRegressor(strategy=\"mean\")\n",
    "dummy_regr.fit(features_train, target_train)\n",
    "rmse_dummy = mean_squared_error(target_valid, dummy_regr.predict(features_valid)) ** 0.5\n",
    "rmse_dummy"
   ]
  },
  {
   "cell_type": "markdown",
   "metadata": {},
   "source": [
    "Все модели показали себя лучше константной "
   ]
  },
  {
   "cell_type": "markdown",
   "metadata": {},
   "source": [
    "## Анализ моделей"
   ]
  },
  {
   "cell_type": "markdown",
   "metadata": {},
   "source": [
    "Проанализируйте время обучения, время предсказания и качество моделей."
   ]
  },
  {
   "cell_type": "code",
   "execution_count": 99,
   "metadata": {},
   "outputs": [
    {
     "name": "stdout",
     "output_type": "stream",
     "text": [
      "CPU times: total: 17 s\n",
      "Wall time: 2.12 s\n"
     ]
    }
   ],
   "source": [
    "%%time\n",
    "cv_res = []\n",
    "for model in [model_LGBM, model_LGBM_b, model_tree, model_tree_b]:\n",
    "    cv_results = cross_validate(model, features_valid, target_valid, cv=3, scoring=scorer)\n",
    "    cv_res.append(cv_results)"
   ]
  },
  {
   "cell_type": "code",
   "execution_count": 100,
   "metadata": {},
   "outputs": [
    {
     "data": {
      "text/html": [
       "<div>\n",
       "<style scoped>\n",
       "    .dataframe tbody tr th:only-of-type {\n",
       "        vertical-align: middle;\n",
       "    }\n",
       "\n",
       "    .dataframe tbody tr th {\n",
       "        vertical-align: top;\n",
       "    }\n",
       "\n",
       "    .dataframe thead th {\n",
       "        text-align: right;\n",
       "    }\n",
       "</style>\n",
       "<table border=\"1\" class=\"dataframe\">\n",
       "  <thead>\n",
       "    <tr style=\"text-align: right;\">\n",
       "      <th></th>\n",
       "      <th>fit_time</th>\n",
       "      <th>score_time</th>\n",
       "      <th>test_score</th>\n",
       "    </tr>\n",
       "  </thead>\n",
       "  <tbody>\n",
       "    <tr>\n",
       "      <th>LGBMRegressor()</th>\n",
       "      <td>0.262688</td>\n",
       "      <td>0.019493</td>\n",
       "      <td>1676.262997</td>\n",
       "    </tr>\n",
       "    <tr>\n",
       "      <th>LGBMRegressor(learning_rate=0.2, num_leaves=34)</th>\n",
       "      <td>0.236824</td>\n",
       "      <td>0.023414</td>\n",
       "      <td>1655.484474</td>\n",
       "    </tr>\n",
       "    <tr>\n",
       "      <th>DecisionTreeRegressor(random_state=0)</th>\n",
       "      <td>0.109132</td>\n",
       "      <td>0.004144</td>\n",
       "      <td>2328.217836</td>\n",
       "    </tr>\n",
       "    <tr>\n",
       "      <th>DecisionTreeRegressor(max_depth=9, min_samples_leaf=7, random_state=0)</th>\n",
       "      <td>0.040166</td>\n",
       "      <td>0.003385</td>\n",
       "      <td>2065.442661</td>\n",
       "    </tr>\n",
       "  </tbody>\n",
       "</table>\n",
       "</div>"
      ],
      "text/plain": [
       "                                                    fit_time  score_time  \\\n",
       "LGBMRegressor()                                     0.262688    0.019493   \n",
       "LGBMRegressor(learning_rate=0.2, num_leaves=34)     0.236824    0.023414   \n",
       "DecisionTreeRegressor(random_state=0)               0.109132    0.004144   \n",
       "DecisionTreeRegressor(max_depth=9, min_samples_...  0.040166    0.003385   \n",
       "\n",
       "                                                     test_score  \n",
       "LGBMRegressor()                                     1676.262997  \n",
       "LGBMRegressor(learning_rate=0.2, num_leaves=34)     1655.484474  \n",
       "DecisionTreeRegressor(random_state=0)               2328.217836  \n",
       "DecisionTreeRegressor(max_depth=9, min_samples_...  2065.442661  "
      ]
     },
     "execution_count": 100,
     "metadata": {},
     "output_type": "execute_result"
    }
   ],
   "source": [
    "i = 0\n",
    "cv_dic = {}\n",
    "for model in [model_LGBM, model_LGBM_b, model_tree, model_tree_b]:\n",
    "    cv_dic[str(model)] = [cv_res[i]['fit_time'].mean(), cv_res[i]['score_time'].mean(), cv_res[i]['test_score'].mean() * (-1)]\n",
    "    i += 1\n",
    "    \n",
    "cv_final = pd.DataFrame.from_dict(cv_dic, orient = 'index', columns = ['fit_time', 'score_time', 'test_score'])\n",
    "cv_final"
   ]
  },
  {
   "cell_type": "markdown",
   "metadata": {},
   "source": [
    "LGBM проявилась лучше всех. Посчитаем ее rmse:"
   ]
  },
  {
   "cell_type": "code",
   "execution_count": 101,
   "metadata": {},
   "outputs": [
    {
     "data": {
      "text/plain": [
       "1555.6590480120174"
      ]
     },
     "execution_count": 101,
     "metadata": {},
     "output_type": "execute_result"
    }
   ],
   "source": [
    "rmse(target_test, model_LGBM_b.predict(features_test))"
   ]
  },
  {
   "cell_type": "code",
   "execution_count": null,
   "metadata": {},
   "outputs": [],
   "source": []
  }
 ],
 "metadata": {
  "ExecuteTimeLog": [
   {
    "duration": 375,
    "start_time": "2023-02-20T19:36:20.660Z"
   },
   {
    "duration": 1233,
    "start_time": "2023-02-20T19:36:22.456Z"
   },
   {
    "duration": 109,
    "start_time": "2023-02-20T19:38:06.552Z"
   },
   {
    "duration": 21,
    "start_time": "2023-02-20T19:38:22.791Z"
   },
   {
    "duration": 63,
    "start_time": "2023-02-20T19:41:27.701Z"
   },
   {
    "duration": 26,
    "start_time": "2023-02-20T19:41:38.727Z"
   },
   {
    "duration": 73,
    "start_time": "2023-02-20T19:41:46.685Z"
   },
   {
    "duration": 61,
    "start_time": "2023-02-20T19:42:14.064Z"
   },
   {
    "duration": 66,
    "start_time": "2023-02-20T19:42:18.363Z"
   },
   {
    "duration": 10,
    "start_time": "2023-02-20T19:42:36.523Z"
   },
   {
    "duration": 69,
    "start_time": "2023-02-20T19:43:05.304Z"
   },
   {
    "duration": 11,
    "start_time": "2023-02-20T19:45:20.871Z"
   },
   {
    "duration": 6,
    "start_time": "2023-02-20T19:45:33.568Z"
   },
   {
    "duration": 18,
    "start_time": "2023-02-20T19:45:42.183Z"
   },
   {
    "duration": 1739,
    "start_time": "2023-02-20T19:47:37.197Z"
   },
   {
    "duration": 34,
    "start_time": "2023-02-20T19:47:50.615Z"
   },
   {
    "duration": 39,
    "start_time": "2023-02-20T19:48:30.642Z"
   },
   {
    "duration": 36,
    "start_time": "2023-02-20T19:48:43.380Z"
   },
   {
    "duration": 41,
    "start_time": "2023-02-20T19:49:08.728Z"
   },
   {
    "duration": 40,
    "start_time": "2023-02-20T19:49:22.720Z"
   },
   {
    "duration": 29,
    "start_time": "2023-02-20T19:51:11.671Z"
   },
   {
    "duration": 43,
    "start_time": "2023-02-20T19:59:53.562Z"
   },
   {
    "duration": 41,
    "start_time": "2023-02-20T20:00:14.365Z"
   },
   {
    "duration": 26,
    "start_time": "2023-02-20T20:00:42.167Z"
   },
   {
    "duration": 9,
    "start_time": "2023-02-20T20:03:09.675Z"
   },
   {
    "duration": 72,
    "start_time": "2023-02-20T20:03:09.880Z"
   },
   {
    "duration": 19,
    "start_time": "2023-02-20T20:03:32.078Z"
   },
   {
    "duration": 73,
    "start_time": "2023-02-20T20:03:57.072Z"
   },
   {
    "duration": 22,
    "start_time": "2023-02-20T20:04:02.892Z"
   },
   {
    "duration": 41,
    "start_time": "2023-02-20T20:04:15.555Z"
   },
   {
    "duration": 94,
    "start_time": "2023-02-20T20:08:41.041Z"
   },
   {
    "duration": 225,
    "start_time": "2023-02-20T20:09:01.346Z"
   },
   {
    "duration": 206,
    "start_time": "2023-02-20T20:09:32.048Z"
   },
   {
    "duration": 6,
    "start_time": "2023-02-20T20:09:47.140Z"
   },
   {
    "duration": 3,
    "start_time": "2023-02-20T20:09:52.284Z"
   },
   {
    "duration": 3,
    "start_time": "2023-02-20T20:15:42.612Z"
   },
   {
    "duration": 4,
    "start_time": "2023-02-20T20:15:49.696Z"
   },
   {
    "duration": 236,
    "start_time": "2023-02-20T20:17:08.564Z"
   },
   {
    "duration": 218,
    "start_time": "2023-02-20T20:17:16.283Z"
   },
   {
    "duration": 252,
    "start_time": "2023-02-20T20:18:01.973Z"
   },
   {
    "duration": 216,
    "start_time": "2023-02-20T20:18:08.064Z"
   },
   {
    "duration": 70,
    "start_time": "2023-02-20T20:18:36.231Z"
   },
   {
    "duration": 312,
    "start_time": "2023-02-20T20:19:26.056Z"
   },
   {
    "duration": 319,
    "start_time": "2023-02-20T20:19:35.638Z"
   },
   {
    "duration": 258,
    "start_time": "2023-02-20T20:20:21.258Z"
   },
   {
    "duration": 256,
    "start_time": "2023-02-20T20:20:47.174Z"
   },
   {
    "duration": 43,
    "start_time": "2023-02-20T20:26:10.693Z"
   },
   {
    "duration": 95,
    "start_time": "2023-02-20T20:27:13.490Z"
   },
   {
    "duration": 10,
    "start_time": "2023-02-20T20:27:41.580Z"
   },
   {
    "duration": 13,
    "start_time": "2023-02-20T20:28:23.860Z"
   },
   {
    "duration": 76,
    "start_time": "2023-02-20T20:28:39.570Z"
   },
   {
    "duration": 14,
    "start_time": "2023-02-20T20:29:11.265Z"
   },
   {
    "duration": 74,
    "start_time": "2023-02-20T20:31:13.723Z"
   },
   {
    "duration": 47,
    "start_time": "2023-02-20T20:32:05.258Z"
   },
   {
    "duration": 4,
    "start_time": "2023-02-20T20:32:53.019Z"
   },
   {
    "duration": 33,
    "start_time": "2023-02-20T20:34:22.883Z"
   },
   {
    "duration": 25,
    "start_time": "2023-02-20T20:35:25.626Z"
   },
   {
    "duration": 24,
    "start_time": "2023-02-20T20:35:52.416Z"
   },
   {
    "duration": 25,
    "start_time": "2023-02-20T20:41:20.112Z"
   },
   {
    "duration": 20,
    "start_time": "2023-02-20T20:41:24.588Z"
   },
   {
    "duration": 23,
    "start_time": "2023-02-20T20:41:46.589Z"
   },
   {
    "duration": 21,
    "start_time": "2023-02-20T20:42:01.350Z"
   },
   {
    "duration": 52,
    "start_time": "2023-02-21T08:23:01.629Z"
   },
   {
    "duration": 401,
    "start_time": "2023-02-21T08:23:12.609Z"
   },
   {
    "duration": 969,
    "start_time": "2023-02-21T08:23:13.115Z"
   },
   {
    "duration": 71,
    "start_time": "2023-02-21T08:23:18.072Z"
   },
   {
    "duration": 49,
    "start_time": "2023-02-21T08:23:22.512Z"
   },
   {
    "duration": 33,
    "start_time": "2023-02-21T08:23:24.651Z"
   },
   {
    "duration": 32,
    "start_time": "2023-02-21T08:23:34.115Z"
   },
   {
    "duration": 297,
    "start_time": "2023-02-21T08:23:46.837Z"
   },
   {
    "duration": 23,
    "start_time": "2023-02-21T08:23:51.184Z"
   },
   {
    "duration": 23,
    "start_time": "2023-02-21T08:24:53.511Z"
   },
   {
    "duration": 22,
    "start_time": "2023-02-21T08:25:16.872Z"
   },
   {
    "duration": 21,
    "start_time": "2023-02-21T08:25:40.685Z"
   },
   {
    "duration": 26,
    "start_time": "2023-02-21T08:25:54.035Z"
   },
   {
    "duration": 49,
    "start_time": "2023-02-21T08:29:04.254Z"
   },
   {
    "duration": 155,
    "start_time": "2023-02-21T08:35:56.282Z"
   },
   {
    "duration": 23,
    "start_time": "2023-02-21T08:36:45.470Z"
   },
   {
    "duration": 20,
    "start_time": "2023-02-21T08:37:05.111Z"
   },
   {
    "duration": 32,
    "start_time": "2023-02-21T08:38:08.760Z"
   },
   {
    "duration": 21,
    "start_time": "2023-02-21T08:38:13.940Z"
   },
   {
    "duration": 548,
    "start_time": "2023-02-21T08:38:25.972Z"
   },
   {
    "duration": 5,
    "start_time": "2023-02-21T08:38:37.260Z"
   },
   {
    "duration": 4,
    "start_time": "2023-02-21T08:41:46.698Z"
   },
   {
    "duration": 5,
    "start_time": "2023-02-21T08:41:50.827Z"
   },
   {
    "duration": 32,
    "start_time": "2023-02-21T08:45:36.174Z"
   },
   {
    "duration": 1116,
    "start_time": "2023-02-21T08:45:42.608Z"
   },
   {
    "duration": 1166,
    "start_time": "2023-02-21T08:45:58.507Z"
   },
   {
    "duration": 1225,
    "start_time": "2023-02-21T08:46:14.836Z"
   },
   {
    "duration": 4377,
    "start_time": "2023-02-21T08:46:36.169Z"
   },
   {
    "duration": 4490,
    "start_time": "2023-02-21T08:46:54.652Z"
   },
   {
    "duration": 4736,
    "start_time": "2023-02-21T08:47:14.229Z"
   },
   {
    "duration": 4833,
    "start_time": "2023-02-21T08:47:59.105Z"
   },
   {
    "duration": 61,
    "start_time": "2023-02-21T08:48:42.141Z"
   },
   {
    "duration": 76,
    "start_time": "2023-02-21T08:48:49.686Z"
   },
   {
    "duration": 60,
    "start_time": "2023-02-21T08:49:33.385Z"
   },
   {
    "duration": 4819,
    "start_time": "2023-02-21T08:49:40.861Z"
   },
   {
    "duration": 65,
    "start_time": "2023-02-21T08:49:51.936Z"
   },
   {
    "duration": 4945,
    "start_time": "2023-02-21T08:50:04.811Z"
   },
   {
    "duration": 42,
    "start_time": "2023-02-21T08:51:38.163Z"
   },
   {
    "duration": 41,
    "start_time": "2023-02-21T08:52:01.233Z"
   },
   {
    "duration": 45,
    "start_time": "2023-02-21T08:52:41.756Z"
   },
   {
    "duration": 40,
    "start_time": "2023-02-21T08:53:06.852Z"
   },
   {
    "duration": 39,
    "start_time": "2023-02-21T08:53:20.566Z"
   },
   {
    "duration": 40,
    "start_time": "2023-02-21T08:53:39.383Z"
   },
   {
    "duration": 26,
    "start_time": "2023-02-21T08:54:21.940Z"
   },
   {
    "duration": 55,
    "start_time": "2023-02-21T08:54:53.342Z"
   },
   {
    "duration": 86,
    "start_time": "2023-02-21T08:59:01.620Z"
   },
   {
    "duration": 39,
    "start_time": "2023-02-21T08:59:12.459Z"
   },
   {
    "duration": 69,
    "start_time": "2023-02-21T08:59:45.507Z"
   },
   {
    "duration": 88,
    "start_time": "2023-02-21T09:00:41.254Z"
   },
   {
    "duration": 4800,
    "start_time": "2023-02-21T09:00:45.465Z"
   },
   {
    "duration": 9887,
    "start_time": "2023-02-21T09:01:06.889Z"
   },
   {
    "duration": 54,
    "start_time": "2023-02-21T09:02:24.350Z"
   },
   {
    "duration": 40,
    "start_time": "2023-02-21T09:03:16.730Z"
   },
   {
    "duration": 23,
    "start_time": "2023-02-21T09:03:51.573Z"
   },
   {
    "duration": 42,
    "start_time": "2023-02-21T09:04:50.103Z"
   },
   {
    "duration": 24,
    "start_time": "2023-02-21T09:05:41.658Z"
   },
   {
    "duration": 28,
    "start_time": "2023-02-21T09:06:14.181Z"
   },
   {
    "duration": 319,
    "start_time": "2023-02-21T09:10:20.645Z"
   },
   {
    "duration": 5,
    "start_time": "2023-02-21T09:10:25.545Z"
   },
   {
    "duration": 38,
    "start_time": "2023-02-21T09:11:26.701Z"
   },
   {
    "duration": 23,
    "start_time": "2023-02-21T09:13:16.076Z"
   },
   {
    "duration": 8,
    "start_time": "2023-02-21T09:13:18.607Z"
   },
   {
    "duration": 39,
    "start_time": "2023-02-21T09:13:20.841Z"
   },
   {
    "duration": 49,
    "start_time": "2023-02-21T09:14:12.179Z"
   },
   {
    "duration": 271,
    "start_time": "2023-02-21T09:14:34.379Z"
   },
   {
    "duration": 105,
    "start_time": "2023-02-21T09:14:55.399Z"
   },
   {
    "duration": 50,
    "start_time": "2023-02-21T09:17:51.825Z"
   },
   {
    "duration": 89,
    "start_time": "2023-02-21T09:18:12.448Z"
   },
   {
    "duration": 30,
    "start_time": "2023-02-21T09:19:38.343Z"
   },
   {
    "duration": 114,
    "start_time": "2023-02-21T09:26:00.820Z"
   },
   {
    "duration": 37,
    "start_time": "2023-02-21T09:26:12.145Z"
   },
   {
    "duration": 30,
    "start_time": "2023-02-21T09:27:12.566Z"
   },
   {
    "duration": 84,
    "start_time": "2023-02-21T09:27:28.157Z"
   },
   {
    "duration": 52,
    "start_time": "2023-02-21T09:28:09.674Z"
   },
   {
    "duration": 112,
    "start_time": "2023-02-21T10:18:22.948Z"
   },
   {
    "duration": 121,
    "start_time": "2023-02-21T10:18:32.896Z"
   },
   {
    "duration": 128,
    "start_time": "2023-02-21T10:19:01.622Z"
   },
   {
    "duration": 39,
    "start_time": "2023-02-21T10:19:23.325Z"
   },
   {
    "duration": 20,
    "start_time": "2023-02-21T10:19:59.180Z"
   },
   {
    "duration": 110,
    "start_time": "2023-02-21T10:20:11.025Z"
   },
   {
    "duration": 49,
    "start_time": "2023-02-21T10:20:47.695Z"
   },
   {
    "duration": 39,
    "start_time": "2023-02-21T10:21:46.065Z"
   },
   {
    "duration": 24,
    "start_time": "2023-02-21T10:22:27.011Z"
   },
   {
    "duration": 110,
    "start_time": "2023-02-21T10:22:32.708Z"
   },
   {
    "duration": 3,
    "start_time": "2023-02-21T10:26:29.468Z"
   },
   {
    "duration": 4,
    "start_time": "2023-02-21T10:26:40.924Z"
   },
   {
    "duration": 123,
    "start_time": "2023-02-21T10:27:06.958Z"
   },
   {
    "duration": 13027,
    "start_time": "2023-02-21T10:27:14.313Z"
   },
   {
    "duration": 19,
    "start_time": "2023-02-21T10:28:21.665Z"
   },
   {
    "duration": 4,
    "start_time": "2023-02-21T10:28:24.500Z"
   },
   {
    "duration": 4072,
    "start_time": "2023-02-21T10:29:02.133Z"
   },
   {
    "duration": 4,
    "start_time": "2023-02-21T10:30:31.860Z"
   },
   {
    "duration": 4631,
    "start_time": "2023-02-21T10:30:34.152Z"
   },
   {
    "duration": 4,
    "start_time": "2023-02-21T10:31:14.377Z"
   },
   {
    "duration": 4605,
    "start_time": "2023-02-21T10:31:16.658Z"
   },
   {
    "duration": 4765,
    "start_time": "2023-02-21T10:35:41.829Z"
   },
   {
    "duration": 299,
    "start_time": "2023-02-21T10:37:59.271Z"
   },
   {
    "duration": 8,
    "start_time": "2023-02-21T10:38:14.019Z"
   },
   {
    "duration": 122,
    "start_time": "2023-02-21T10:38:39.293Z"
   },
   {
    "duration": 3,
    "start_time": "2023-02-21T10:53:00.733Z"
   },
   {
    "duration": 460,
    "start_time": "2023-02-21T10:53:01.399Z"
   },
   {
    "duration": 443,
    "start_time": "2023-02-21T10:53:08.685Z"
   },
   {
    "duration": 498,
    "start_time": "2023-02-21T10:53:11.409Z"
   },
   {
    "duration": 75,
    "start_time": "2023-02-21T10:53:18.192Z"
   },
   {
    "duration": 4,
    "start_time": "2023-02-21T10:53:28.027Z"
   },
   {
    "duration": 4297,
    "start_time": "2023-02-21T10:53:28.821Z"
   },
   {
    "duration": 26,
    "start_time": "2023-02-21T10:53:34.091Z"
   },
   {
    "duration": 1213,
    "start_time": "2023-02-21T10:55:12.012Z"
   },
   {
    "duration": 24,
    "start_time": "2023-02-21T10:55:18.625Z"
   },
   {
    "duration": 7,
    "start_time": "2023-02-21T10:55:49.027Z"
   },
   {
    "duration": 6,
    "start_time": "2023-02-21T10:55:56.475Z"
   },
   {
    "duration": 6,
    "start_time": "2023-02-21T10:56:06.625Z"
   },
   {
    "duration": 39,
    "start_time": "2023-02-21T10:57:26.958Z"
   },
   {
    "duration": 2815,
    "start_time": "2023-02-21T10:57:35.366Z"
   },
   {
    "duration": 17,
    "start_time": "2023-02-21T11:04:27.860Z"
   },
   {
    "duration": 29,
    "start_time": "2023-02-21T11:04:55.092Z"
   },
   {
    "duration": 26,
    "start_time": "2023-02-21T11:06:41.570Z"
   },
   {
    "duration": 11,
    "start_time": "2023-02-21T11:06:48.563Z"
   },
   {
    "duration": 22,
    "start_time": "2023-02-21T11:07:11.461Z"
   },
   {
    "duration": 10,
    "start_time": "2023-02-21T11:08:00.825Z"
   },
   {
    "duration": 12,
    "start_time": "2023-02-21T11:09:23.183Z"
   },
   {
    "duration": 22,
    "start_time": "2023-02-21T11:11:29.722Z"
   },
   {
    "duration": 16,
    "start_time": "2023-02-21T11:12:34.139Z"
   },
   {
    "duration": 6,
    "start_time": "2023-02-21T11:12:48.614Z"
   },
   {
    "duration": 8,
    "start_time": "2023-02-21T11:12:55.133Z"
   },
   {
    "duration": 21,
    "start_time": "2023-02-21T11:13:07.942Z"
   },
   {
    "duration": 9,
    "start_time": "2023-02-21T11:13:22.814Z"
   },
   {
    "duration": 6,
    "start_time": "2023-02-21T11:13:28.749Z"
   },
   {
    "duration": 18,
    "start_time": "2023-02-21T11:15:37.772Z"
   },
   {
    "duration": 6,
    "start_time": "2023-02-21T11:15:44.982Z"
   },
   {
    "duration": 5,
    "start_time": "2023-02-21T11:15:48.357Z"
   },
   {
    "duration": 5,
    "start_time": "2023-02-21T11:15:50.242Z"
   },
   {
    "duration": 5,
    "start_time": "2023-02-21T11:15:56.153Z"
   },
   {
    "duration": 6,
    "start_time": "2023-02-21T11:16:51.614Z"
   },
   {
    "duration": 6,
    "start_time": "2023-02-21T11:17:05.701Z"
   },
   {
    "duration": 19,
    "start_time": "2023-02-21T11:17:06.077Z"
   },
   {
    "duration": 11,
    "start_time": "2023-02-21T11:17:17.459Z"
   },
   {
    "duration": 21,
    "start_time": "2023-02-21T11:17:42.099Z"
   },
   {
    "duration": 19,
    "start_time": "2023-02-21T11:18:20.191Z"
   },
   {
    "duration": 10,
    "start_time": "2023-02-21T11:22:15.170Z"
   },
   {
    "duration": 4,
    "start_time": "2023-02-21T11:22:22.256Z"
   },
   {
    "duration": 48,
    "start_time": "2023-02-21T11:22:29.113Z"
   },
   {
    "duration": 676,
    "start_time": "2023-02-21T11:26:14.334Z"
   },
   {
    "duration": 657,
    "start_time": "2023-02-21T11:28:14.270Z"
   },
   {
    "duration": 21,
    "start_time": "2023-02-21T11:29:57.232Z"
   },
   {
    "duration": 227,
    "start_time": "2023-02-21T11:31:44.025Z"
   },
   {
    "duration": 57,
    "start_time": "2023-02-21T11:32:00.421Z"
   },
   {
    "duration": 3,
    "start_time": "2023-02-21T11:32:15.037Z"
   },
   {
    "duration": 528,
    "start_time": "2023-02-21T12:09:15.570Z"
   },
   {
    "duration": 828,
    "start_time": "2023-02-21T12:09:16.377Z"
   },
   {
    "duration": 129,
    "start_time": "2023-02-21T12:09:27.362Z"
   },
   {
    "duration": 82,
    "start_time": "2023-02-21T12:09:42.535Z"
   },
   {
    "duration": 74,
    "start_time": "2023-02-21T12:09:45.834Z"
   },
   {
    "duration": 65,
    "start_time": "2023-02-21T12:10:54.627Z"
   },
   {
    "duration": 11034,
    "start_time": "2023-02-21T12:11:02.873Z"
   },
   {
    "duration": 43,
    "start_time": "2023-02-21T12:11:20.533Z"
   },
   {
    "duration": 5,
    "start_time": "2023-02-21T12:11:28.790Z"
   },
   {
    "duration": 527,
    "start_time": "2023-02-21T12:11:32.925Z"
   },
   {
    "duration": 294,
    "start_time": "2023-02-21T12:11:42.751Z"
   },
   {
    "duration": 101,
    "start_time": "2023-02-21T12:11:46.977Z"
   },
   {
    "duration": 5,
    "start_time": "2023-02-21T12:11:51.583Z"
   },
   {
    "duration": 42,
    "start_time": "2023-02-21T12:11:56.134Z"
   },
   {
    "duration": 143,
    "start_time": "2023-02-21T12:11:57.625Z"
   },
   {
    "duration": 5,
    "start_time": "2023-02-21T12:12:00.769Z"
   },
   {
    "duration": 78,
    "start_time": "2023-02-21T12:12:09.254Z"
   },
   {
    "duration": 20,
    "start_time": "2023-02-21T12:12:10.472Z"
   },
   {
    "duration": 107,
    "start_time": "2023-02-21T12:12:10.866Z"
   },
   {
    "duration": 24,
    "start_time": "2023-02-21T12:12:15.405Z"
   },
   {
    "duration": 36,
    "start_time": "2023-02-21T12:12:26.094Z"
   },
   {
    "duration": 101,
    "start_time": "2023-02-21T12:12:29.959Z"
   },
   {
    "duration": 124,
    "start_time": "2023-02-21T12:12:30.678Z"
   },
   {
    "duration": 4,
    "start_time": "2023-02-21T12:12:34.232Z"
   },
   {
    "duration": 56,
    "start_time": "2023-02-21T12:12:41.871Z"
   },
   {
    "duration": 87,
    "start_time": "2023-02-21T12:12:43.165Z"
   },
   {
    "duration": 124,
    "start_time": "2023-02-21T12:12:43.668Z"
   },
   {
    "duration": 10,
    "start_time": "2023-02-21T12:12:46.606Z"
   },
   {
    "duration": 38,
    "start_time": "2023-02-21T12:12:49.629Z"
   },
   {
    "duration": 75,
    "start_time": "2023-02-21T12:12:49.959Z"
   },
   {
    "duration": 133,
    "start_time": "2023-02-21T12:12:50.158Z"
   },
   {
    "duration": 4,
    "start_time": "2023-02-21T12:12:53.594Z"
   },
   {
    "duration": 2,
    "start_time": "2023-02-21T12:12:59.093Z"
   },
   {
    "duration": 646,
    "start_time": "2023-02-21T12:12:59.457Z"
   },
   {
    "duration": 86,
    "start_time": "2023-02-21T12:13:00.105Z"
   },
   {
    "duration": 3,
    "start_time": "2023-02-21T12:13:10.361Z"
   },
   {
    "duration": 5013,
    "start_time": "2023-02-21T12:13:11.157Z"
   },
   {
    "duration": 10,
    "start_time": "2023-02-21T12:13:22.494Z"
   },
   {
    "duration": 7,
    "start_time": "2023-02-21T12:13:22.810Z"
   },
   {
    "duration": 4,
    "start_time": "2023-02-21T12:13:27.932Z"
   },
   {
    "duration": 41,
    "start_time": "2023-02-21T12:13:29.958Z"
   },
   {
    "duration": 4,
    "start_time": "2023-02-21T12:13:32.326Z"
   },
   {
    "duration": 548,
    "start_time": "2023-02-21T12:14:01.029Z"
   },
   {
    "duration": 917,
    "start_time": "2023-02-21T12:14:01.579Z"
   },
   {
    "duration": 76,
    "start_time": "2023-02-21T12:14:03.729Z"
   },
   {
    "duration": 54,
    "start_time": "2023-02-21T12:14:10.496Z"
   },
   {
    "duration": 44,
    "start_time": "2023-02-21T12:14:10.898Z"
   },
   {
    "duration": 46,
    "start_time": "2023-02-21T12:14:11.291Z"
   },
   {
    "duration": 42,
    "start_time": "2023-02-21T12:14:11.685Z"
   },
   {
    "duration": 37,
    "start_time": "2023-02-21T12:14:12.155Z"
   },
   {
    "duration": 45,
    "start_time": "2023-02-21T12:14:12.395Z"
   },
   {
    "duration": 10864,
    "start_time": "2023-02-21T12:14:12.792Z"
   },
   {
    "duration": 26,
    "start_time": "2023-02-21T12:14:23.658Z"
   },
   {
    "duration": 343,
    "start_time": "2023-02-21T12:14:23.686Z"
   },
   {
    "duration": 4,
    "start_time": "2023-02-21T12:14:24.032Z"
   },
   {
    "duration": 289,
    "start_time": "2023-02-21T12:14:24.038Z"
   },
   {
    "duration": 97,
    "start_time": "2023-02-21T12:14:24.329Z"
   },
   {
    "duration": 43,
    "start_time": "2023-02-21T12:14:24.427Z"
   },
   {
    "duration": 83,
    "start_time": "2023-02-21T12:14:24.472Z"
   },
   {
    "duration": 38,
    "start_time": "2023-02-21T12:14:24.557Z"
   },
   {
    "duration": 26,
    "start_time": "2023-02-21T12:14:24.615Z"
   },
   {
    "duration": 85,
    "start_time": "2023-02-21T12:14:24.642Z"
   },
   {
    "duration": 32,
    "start_time": "2023-02-21T12:14:24.732Z"
   },
   {
    "duration": 93,
    "start_time": "2023-02-21T12:14:24.765Z"
   },
   {
    "duration": 122,
    "start_time": "2023-02-21T12:14:24.860Z"
   },
   {
    "duration": 69,
    "start_time": "2023-02-21T12:14:24.984Z"
   },
   {
    "duration": 85,
    "start_time": "2023-02-21T12:14:25.055Z"
   },
   {
    "duration": 133,
    "start_time": "2023-02-21T12:14:25.142Z"
   },
   {
    "duration": 56,
    "start_time": "2023-02-21T12:14:25.277Z"
   },
   {
    "duration": 101,
    "start_time": "2023-02-21T12:14:25.336Z"
   },
   {
    "duration": 129,
    "start_time": "2023-02-21T12:14:25.438Z"
   },
   {
    "duration": 3,
    "start_time": "2023-02-21T12:14:25.568Z"
   },
   {
    "duration": 669,
    "start_time": "2023-02-21T12:14:25.572Z"
   },
   {
    "duration": 98,
    "start_time": "2023-02-21T12:14:26.242Z"
   },
   {
    "duration": 4,
    "start_time": "2023-02-21T12:14:28.064Z"
   },
   {
    "duration": 10,
    "start_time": "2023-02-21T12:14:33.166Z"
   },
   {
    "duration": 6,
    "start_time": "2023-02-21T12:14:35.456Z"
   },
   {
    "duration": 31,
    "start_time": "2023-02-21T12:14:41.721Z"
   },
   {
    "duration": 5,
    "start_time": "2023-02-21T12:14:51.350Z"
   },
   {
    "duration": 5,
    "start_time": "2023-02-21T12:14:55.260Z"
   },
   {
    "duration": 6,
    "start_time": "2023-02-21T12:15:00.929Z"
   },
   {
    "duration": 30,
    "start_time": "2023-02-21T12:15:34.826Z"
   },
   {
    "duration": 26,
    "start_time": "2023-02-21T12:15:51.303Z"
   },
   {
    "duration": 821,
    "start_time": "2023-02-21T12:16:41.022Z"
   },
   {
    "duration": 850,
    "start_time": "2023-02-21T12:17:16.957Z"
   },
   {
    "duration": 5235,
    "start_time": "2023-02-21T12:17:32.906Z"
   },
   {
    "duration": 6,
    "start_time": "2023-02-21T12:18:31.260Z"
   },
   {
    "duration": 79,
    "start_time": "2023-02-21T12:18:47.454Z"
   },
   {
    "duration": 632,
    "start_time": "2023-02-21T12:19:42.529Z"
   },
   {
    "duration": 887,
    "start_time": "2023-02-21T12:19:43.163Z"
   },
   {
    "duration": 144,
    "start_time": "2023-02-21T12:19:45.029Z"
   },
   {
    "duration": 79,
    "start_time": "2023-02-21T12:20:09.650Z"
   },
   {
    "duration": 89,
    "start_time": "2023-02-21T12:20:12.003Z"
   },
   {
    "duration": 10933,
    "start_time": "2023-02-21T12:20:32.229Z"
   },
   {
    "duration": 86,
    "start_time": "2023-02-21T12:20:44.706Z"
   },
   {
    "duration": 334,
    "start_time": "2023-02-21T12:21:07.546Z"
   },
   {
    "duration": 77,
    "start_time": "2023-02-21T12:21:11.127Z"
   },
   {
    "duration": 310,
    "start_time": "2023-02-21T12:21:20.426Z"
   },
   {
    "duration": 93,
    "start_time": "2023-02-21T12:21:23.662Z"
   },
   {
    "duration": 32,
    "start_time": "2023-02-21T12:21:40.083Z"
   },
   {
    "duration": 119,
    "start_time": "2023-02-21T12:21:41.725Z"
   },
   {
    "duration": 100,
    "start_time": "2023-02-21T12:21:47.182Z"
   },
   {
    "duration": 70,
    "start_time": "2023-02-21T12:21:48.575Z"
   },
   {
    "duration": 70,
    "start_time": "2023-02-21T12:21:50.060Z"
   },
   {
    "duration": 142,
    "start_time": "2023-02-21T12:21:56.006Z"
   },
   {
    "duration": 491,
    "start_time": "2023-02-21T12:23:05.549Z"
   },
   {
    "duration": 851,
    "start_time": "2023-02-21T12:23:06.043Z"
   },
   {
    "duration": 98,
    "start_time": "2023-02-21T12:23:10.609Z"
   },
   {
    "duration": 10566,
    "start_time": "2023-02-21T12:23:15.828Z"
   },
   {
    "duration": 374,
    "start_time": "2023-02-21T12:23:26.396Z"
   },
   {
    "duration": 414,
    "start_time": "2023-02-21T12:23:26.772Z"
   },
   {
    "duration": 20,
    "start_time": "2023-02-21T12:23:27.948Z"
   },
   {
    "duration": 85,
    "start_time": "2023-02-21T12:23:30.397Z"
   },
   {
    "duration": 20,
    "start_time": "2023-02-21T12:23:35.759Z"
   },
   {
    "duration": 118,
    "start_time": "2023-02-21T12:23:38.633Z"
   },
   {
    "duration": 26,
    "start_time": "2023-02-21T12:23:43.915Z"
   },
   {
    "duration": 21,
    "start_time": "2023-02-21T12:23:45.885Z"
   },
   {
    "duration": 95,
    "start_time": "2023-02-21T12:23:48.462Z"
   },
   {
    "duration": 5,
    "start_time": "2023-02-21T12:24:22.960Z"
   },
   {
    "duration": 77,
    "start_time": "2023-02-21T12:24:24.642Z"
   },
   {
    "duration": 4,
    "start_time": "2023-02-21T12:24:28.163Z"
   },
   {
    "duration": 31,
    "start_time": "2023-02-21T12:24:32.029Z"
   },
   {
    "duration": 1019,
    "start_time": "2023-02-21T12:24:36.288Z"
   },
   {
    "duration": 32,
    "start_time": "2023-02-21T12:24:50.557Z"
   },
   {
    "duration": 7,
    "start_time": "2023-02-21T12:24:52.698Z"
   },
   {
    "duration": 6,
    "start_time": "2023-02-21T12:24:59.998Z"
   },
   {
    "duration": 5,
    "start_time": "2023-02-21T12:25:06.165Z"
   },
   {
    "duration": 51,
    "start_time": "2023-02-21T12:25:08.047Z"
   },
   {
    "duration": 4,
    "start_time": "2023-02-21T12:25:10.243Z"
   },
   {
    "duration": 2423,
    "start_time": "2023-02-21T12:26:49.692Z"
   },
   {
    "duration": 6,
    "start_time": "2023-02-21T12:28:00.664Z"
   },
   {
    "duration": 46,
    "start_time": "2023-02-21T12:28:05.827Z"
   },
   {
    "duration": 2843,
    "start_time": "2023-02-21T12:28:07.864Z"
   },
   {
    "duration": 25,
    "start_time": "2023-02-21T12:28:48.176Z"
   },
   {
    "duration": 4,
    "start_time": "2023-02-21T12:28:53.854Z"
   },
   {
    "duration": 10,
    "start_time": "2023-02-21T12:29:03.427Z"
   },
   {
    "duration": 24,
    "start_time": "2023-02-21T12:29:05.158Z"
   },
   {
    "duration": 12,
    "start_time": "2023-02-21T12:29:08.635Z"
   },
   {
    "duration": 12,
    "start_time": "2023-02-21T12:29:13.533Z"
   },
   {
    "duration": 21,
    "start_time": "2023-02-21T12:29:28.328Z"
   },
   {
    "duration": 52,
    "start_time": "2023-02-21T12:29:48.626Z"
   },
   {
    "duration": 21,
    "start_time": "2023-02-21T12:30:04.956Z"
   },
   {
    "duration": 4,
    "start_time": "2023-02-21T12:30:07.597Z"
   },
   {
    "duration": 263,
    "start_time": "2023-02-21T12:30:19.595Z"
   },
   {
    "duration": 4,
    "start_time": "2023-02-21T12:30:36.168Z"
   },
   {
    "duration": 283,
    "start_time": "2023-02-21T12:30:58.365Z"
   },
   {
    "duration": 255,
    "start_time": "2023-02-21T12:31:20.273Z"
   },
   {
    "duration": 554,
    "start_time": "2023-02-21T12:33:16.632Z"
   },
   {
    "duration": 6,
    "start_time": "2023-02-21T12:33:26.428Z"
   },
   {
    "duration": 492,
    "start_time": "2023-02-21T12:33:30.672Z"
   },
   {
    "duration": 4,
    "start_time": "2023-02-21T12:33:32.989Z"
   },
   {
    "duration": 1163,
    "start_time": "2023-02-21T12:36:48.454Z"
   },
   {
    "duration": 73,
    "start_time": "2023-02-21T12:37:51.074Z"
   },
   {
    "duration": 63,
    "start_time": "2023-02-21T12:39:46.803Z"
   },
   {
    "duration": 50,
    "start_time": "2023-02-21T12:41:07.073Z"
   },
   {
    "duration": 3,
    "start_time": "2023-02-21T12:43:08.344Z"
   },
   {
    "duration": 4,
    "start_time": "2023-02-21T12:43:11.389Z"
   },
   {
    "duration": 69,
    "start_time": "2023-02-21T12:43:21.923Z"
   },
   {
    "duration": 5,
    "start_time": "2023-02-21T12:46:06.847Z"
   },
   {
    "duration": 6,
    "start_time": "2023-02-21T12:46:21.079Z"
   },
   {
    "duration": 94,
    "start_time": "2023-02-21T12:51:05.337Z"
   },
   {
    "duration": 4,
    "start_time": "2023-02-21T12:56:16.858Z"
   },
   {
    "duration": 1337,
    "start_time": "2023-02-22T11:55:11.037Z"
   },
   {
    "duration": 2974,
    "start_time": "2023-02-22T11:55:14.862Z"
   },
   {
    "duration": 73,
    "start_time": "2023-02-22T11:57:01.115Z"
   },
   {
    "duration": 10138,
    "start_time": "2023-02-22T11:57:09.619Z"
   },
   {
    "duration": 35,
    "start_time": "2023-02-22T11:57:19.758Z"
   },
   {
    "duration": 349,
    "start_time": "2023-02-22T11:57:19.794Z"
   },
   {
    "duration": 304,
    "start_time": "2023-02-22T11:57:20.145Z"
   },
   {
    "duration": 54,
    "start_time": "2023-02-22T11:57:27.778Z"
   },
   {
    "duration": 22,
    "start_time": "2023-02-22T11:57:31.759Z"
   },
   {
    "duration": 25,
    "start_time": "2023-02-22T11:57:33.432Z"
   },
   {
    "duration": 22,
    "start_time": "2023-02-22T11:57:35.069Z"
   },
   {
    "duration": 22,
    "start_time": "2023-02-22T11:57:37.039Z"
   },
   {
    "duration": 2,
    "start_time": "2023-02-22T11:57:40.017Z"
   },
   {
    "duration": 3,
    "start_time": "2023-02-22T11:58:10.316Z"
   },
   {
    "duration": 42,
    "start_time": "2023-02-22T11:58:18.315Z"
   },
   {
    "duration": 23,
    "start_time": "2023-02-22T11:58:22.459Z"
   },
   {
    "duration": 23,
    "start_time": "2023-02-22T11:58:26.413Z"
   },
   {
    "duration": 9,
    "start_time": "2023-02-22T11:58:39.211Z"
   },
   {
    "duration": 493,
    "start_time": "2023-02-22T11:58:42.156Z"
   },
   {
    "duration": 4,
    "start_time": "2023-02-22T11:58:43.939Z"
   },
   {
    "duration": 75,
    "start_time": "2023-02-22T11:58:49.115Z"
   },
   {
    "duration": 114,
    "start_time": "2023-02-22T12:05:33.659Z"
   },
   {
    "duration": 4,
    "start_time": "2023-02-22T12:06:01.069Z"
   },
   {
    "duration": 61,
    "start_time": "2023-02-22T12:06:07.158Z"
   },
   {
    "duration": 70,
    "start_time": "2023-02-23T16:12:44.956Z"
   },
   {
    "duration": 5,
    "start_time": "2023-02-23T16:17:54.792Z"
   },
   {
    "duration": 8,
    "start_time": "2023-02-23T16:18:05.001Z"
   },
   {
    "duration": 21,
    "start_time": "2023-02-23T16:18:32.532Z"
   },
   {
    "duration": 10,
    "start_time": "2023-02-23T16:19:38.296Z"
   },
   {
    "duration": 13027,
    "start_time": "2023-02-23T16:19:48.011Z"
   },
   {
    "duration": 618,
    "start_time": "2023-02-23T16:21:00.017Z"
   },
   {
    "duration": 12662,
    "start_time": "2023-02-23T16:22:47.263Z"
   },
   {
    "duration": 4,
    "start_time": "2023-02-23T16:23:32.683Z"
   },
   {
    "duration": 7,
    "start_time": "2023-02-23T16:23:43.563Z"
   },
   {
    "duration": 9,
    "start_time": "2023-02-23T16:23:51.873Z"
   },
   {
    "duration": 9,
    "start_time": "2023-02-23T16:23:58.355Z"
   },
   {
    "duration": 9,
    "start_time": "2023-02-23T16:24:07.525Z"
   },
   {
    "duration": 13812,
    "start_time": "2023-02-23T16:24:28.465Z"
   },
   {
    "duration": 7,
    "start_time": "2023-02-23T16:24:52.733Z"
   },
   {
    "duration": 11,
    "start_time": "2023-02-23T16:24:58.177Z"
   },
   {
    "duration": 5,
    "start_time": "2023-02-23T16:26:44.337Z"
   },
   {
    "duration": 29,
    "start_time": "2023-02-23T16:27:31.362Z"
   },
   {
    "duration": 23,
    "start_time": "2023-02-23T16:29:16.117Z"
   },
   {
    "duration": 29,
    "start_time": "2023-02-23T16:29:25.258Z"
   },
   {
    "duration": 24,
    "start_time": "2023-02-23T16:29:41.243Z"
   },
   {
    "duration": 120,
    "start_time": "2023-02-23T16:32:43.807Z"
   },
   {
    "duration": 1430,
    "start_time": "2023-02-23T16:34:17.102Z"
   },
   {
    "duration": 898,
    "start_time": "2023-02-23T16:34:18.534Z"
   },
   {
    "duration": 97,
    "start_time": "2023-02-23T16:34:20.561Z"
   },
   {
    "duration": 11205,
    "start_time": "2023-02-23T16:34:25.815Z"
   },
   {
    "duration": 335,
    "start_time": "2023-02-23T16:34:37.022Z"
   },
   {
    "duration": 321,
    "start_time": "2023-02-23T16:34:37.359Z"
   },
   {
    "duration": 65,
    "start_time": "2023-02-23T16:34:37.682Z"
   },
   {
    "duration": 22,
    "start_time": "2023-02-23T16:34:42.006Z"
   },
   {
    "duration": 24,
    "start_time": "2023-02-23T16:34:43.332Z"
   },
   {
    "duration": 31,
    "start_time": "2023-02-23T16:34:44.863Z"
   },
   {
    "duration": 29,
    "start_time": "2023-02-23T16:34:46.274Z"
   },
   {
    "duration": 4,
    "start_time": "2023-02-23T16:34:51.194Z"
   },
   {
    "duration": 64,
    "start_time": "2023-02-23T16:34:56.034Z"
   },
   {
    "duration": 29,
    "start_time": "2023-02-23T16:34:59.305Z"
   },
   {
    "duration": 34,
    "start_time": "2023-02-23T16:35:02.365Z"
   },
   {
    "duration": 13,
    "start_time": "2023-02-23T16:35:07.460Z"
   },
   {
    "duration": 635,
    "start_time": "2023-02-23T16:35:09.220Z"
   },
   {
    "duration": 9,
    "start_time": "2023-02-23T16:35:09.857Z"
   },
   {
    "duration": 24,
    "start_time": "2023-02-23T16:35:19.347Z"
   },
   {
    "duration": 101,
    "start_time": "2023-02-23T16:35:21.094Z"
   },
   {
    "duration": 624,
    "start_time": "2023-02-23T16:35:22.947Z"
   },
   {
    "duration": 1323,
    "start_time": "2023-02-24T14:51:31.251Z"
   },
   {
    "duration": 1121,
    "start_time": "2023-02-24T14:51:32.576Z"
   },
   {
    "duration": 67,
    "start_time": "2023-02-24T14:51:34.612Z"
   },
   {
    "duration": 9617,
    "start_time": "2023-02-24T14:52:16.727Z"
   },
   {
    "duration": 42,
    "start_time": "2023-02-24T14:52:27.084Z"
   },
   {
    "duration": 308,
    "start_time": "2023-02-24T14:52:30.911Z"
   },
   {
    "duration": 241,
    "start_time": "2023-02-24T14:52:34.440Z"
   },
   {
    "duration": 39,
    "start_time": "2023-02-24T14:52:40.133Z"
   },
   {
    "duration": 19,
    "start_time": "2023-02-24T14:52:49.016Z"
   },
   {
    "duration": 17,
    "start_time": "2023-02-24T14:52:50.062Z"
   },
   {
    "duration": 27,
    "start_time": "2023-02-24T14:52:51.275Z"
   },
   {
    "duration": 34,
    "start_time": "2023-02-24T14:52:52.878Z"
   },
   {
    "duration": 4,
    "start_time": "2023-02-24T14:52:55.907Z"
   },
   {
    "duration": 3,
    "start_time": "2023-02-24T14:52:59.327Z"
   },
   {
    "duration": 46,
    "start_time": "2023-02-24T14:53:03.817Z"
   },
   {
    "duration": 29,
    "start_time": "2023-02-24T14:53:06.118Z"
   },
   {
    "duration": 22,
    "start_time": "2023-02-24T14:53:08.535Z"
   },
   {
    "duration": 9,
    "start_time": "2023-02-24T14:53:12.842Z"
   },
   {
    "duration": 563,
    "start_time": "2023-02-24T14:53:14.955Z"
   },
   {
    "duration": 3,
    "start_time": "2023-02-24T14:53:19.448Z"
   },
   {
    "duration": 23,
    "start_time": "2023-02-24T14:53:23.251Z"
   },
   {
    "duration": 205,
    "start_time": "2023-02-24T14:53:27.118Z"
   },
   {
    "duration": 667,
    "start_time": "2023-02-24T14:53:32.899Z"
   },
   {
    "duration": 7,
    "start_time": "2023-02-24T14:54:47.816Z"
   },
   {
    "duration": 459,
    "start_time": "2023-02-24T14:55:37.109Z"
   },
   {
    "duration": 1163,
    "start_time": "2023-02-24T14:56:45.216Z"
   },
   {
    "duration": 1030,
    "start_time": "2023-02-24T14:58:02.209Z"
   },
   {
    "duration": 1854,
    "start_time": "2023-02-24T14:58:51.283Z"
   },
   {
    "duration": 1375,
    "start_time": "2023-02-24T14:58:53.663Z"
   },
   {
    "duration": 77,
    "start_time": "2023-02-24T14:58:55.284Z"
   },
   {
    "duration": 10031,
    "start_time": "2023-02-24T14:59:04.813Z"
   },
   {
    "duration": 304,
    "start_time": "2023-02-24T14:59:14.846Z"
   },
   {
    "duration": 267,
    "start_time": "2023-02-24T14:59:15.152Z"
   },
   {
    "duration": 44,
    "start_time": "2023-02-24T14:59:15.422Z"
   },
   {
    "duration": 31,
    "start_time": "2023-02-24T14:59:15.473Z"
   },
   {
    "duration": 58,
    "start_time": "2023-02-24T14:59:15.506Z"
   },
   {
    "duration": 32,
    "start_time": "2023-02-24T14:59:15.566Z"
   },
   {
    "duration": 30,
    "start_time": "2023-02-24T14:59:16.410Z"
   },
   {
    "duration": 67,
    "start_time": "2023-02-24T14:59:23.542Z"
   },
   {
    "duration": 51,
    "start_time": "2023-02-24T14:59:24.725Z"
   },
   {
    "duration": 27,
    "start_time": "2023-02-24T14:59:26.580Z"
   },
   {
    "duration": 31,
    "start_time": "2023-02-24T14:59:27.683Z"
   },
   {
    "duration": 10,
    "start_time": "2023-02-24T14:59:33.666Z"
   },
   {
    "duration": 698,
    "start_time": "2023-02-24T14:59:35.674Z"
   },
   {
    "duration": 19,
    "start_time": "2023-02-24T14:59:39.350Z"
   },
   {
    "duration": 99,
    "start_time": "2023-02-24T14:59:39.448Z"
   },
   {
    "duration": 108,
    "start_time": "2023-02-24T14:59:41.665Z"
   },
   {
    "duration": 54,
    "start_time": "2023-02-24T14:59:59.558Z"
   },
   {
    "duration": 2141,
    "start_time": "2023-02-24T15:04:24.103Z"
   },
   {
    "duration": 1670,
    "start_time": "2023-02-24T15:04:26.247Z"
   },
   {
    "duration": 90,
    "start_time": "2023-02-24T15:04:27.922Z"
   },
   {
    "duration": 11144,
    "start_time": "2023-02-24T15:04:33.239Z"
   },
   {
    "duration": 351,
    "start_time": "2023-02-24T15:04:44.386Z"
   },
   {
    "duration": 298,
    "start_time": "2023-02-24T15:04:44.740Z"
   },
   {
    "duration": 60,
    "start_time": "2023-02-24T15:04:45.041Z"
   },
   {
    "duration": 28,
    "start_time": "2023-02-24T15:04:45.108Z"
   },
   {
    "duration": 43,
    "start_time": "2023-02-24T15:04:45.138Z"
   },
   {
    "duration": 90,
    "start_time": "2023-02-24T15:04:45.184Z"
   },
   {
    "duration": 20,
    "start_time": "2023-02-24T15:05:00.557Z"
   },
   {
    "duration": 103,
    "start_time": "2023-02-24T15:05:05.962Z"
   },
   {
    "duration": 25,
    "start_time": "2023-02-24T15:05:07.832Z"
   },
   {
    "duration": 25,
    "start_time": "2023-02-24T15:05:09.239Z"
   },
   {
    "duration": 25,
    "start_time": "2023-02-24T15:05:18.384Z"
   },
   {
    "duration": 559,
    "start_time": "2023-02-24T15:05:19.584Z"
   },
   {
    "duration": 23,
    "start_time": "2023-02-24T15:05:22.120Z"
   },
   {
    "duration": 97,
    "start_time": "2023-02-24T15:05:23.819Z"
   },
   {
    "duration": 1424,
    "start_time": "2023-02-24T15:05:26.018Z"
   },
   {
    "duration": 10829,
    "start_time": "2023-02-24T15:14:05.512Z"
   },
   {
    "duration": 10564,
    "start_time": "2023-02-24T15:21:40.616Z"
   },
   {
    "duration": 447,
    "start_time": "2023-02-24T15:27:00.077Z"
   },
   {
    "duration": 391,
    "start_time": "2023-02-24T15:27:11.731Z"
   },
   {
    "duration": 4,
    "start_time": "2023-02-24T15:30:23.340Z"
   },
   {
    "duration": 691,
    "start_time": "2023-02-24T15:30:32.917Z"
   },
   {
    "duration": 376,
    "start_time": "2023-02-24T15:32:18.711Z"
   },
   {
    "duration": 8984,
    "start_time": "2023-02-24T15:35:09.071Z"
   },
   {
    "duration": 382,
    "start_time": "2023-02-24T15:35:41.946Z"
   },
   {
    "duration": 91,
    "start_time": "2023-02-24T15:37:35.252Z"
   },
   {
    "duration": 419,
    "start_time": "2023-02-24T15:37:38.881Z"
   },
   {
    "duration": 372,
    "start_time": "2023-02-24T15:38:58.540Z"
   },
   {
    "duration": 1005,
    "start_time": "2023-02-24T15:46:38.063Z"
   },
   {
    "duration": 1035,
    "start_time": "2023-02-24T15:46:45.851Z"
   },
   {
    "duration": 1053,
    "start_time": "2023-02-24T15:46:49.437Z"
   },
   {
    "duration": 36,
    "start_time": "2023-02-24T15:47:31.869Z"
   },
   {
    "duration": 36,
    "start_time": "2023-02-24T15:47:38.663Z"
   },
   {
    "duration": 34,
    "start_time": "2023-02-24T15:47:45.107Z"
   },
   {
    "duration": 60,
    "start_time": "2023-02-24T15:49:26.792Z"
   },
   {
    "duration": 28,
    "start_time": "2023-02-24T15:50:45.996Z"
   },
   {
    "duration": 13,
    "start_time": "2023-02-24T15:51:28.145Z"
   },
   {
    "duration": 223,
    "start_time": "2023-02-24T15:51:51.680Z"
   },
   {
    "duration": 3130790,
    "start_time": "2023-02-24T15:52:34.617Z"
   },
   {
    "duration": 1231,
    "start_time": "2023-02-24T17:07:11.639Z"
   },
   {
    "duration": 808,
    "start_time": "2023-02-24T17:07:12.872Z"
   },
   {
    "duration": 10447,
    "start_time": "2023-02-24T17:09:27.106Z"
   },
   {
    "duration": 20,
    "start_time": "2023-02-24T17:09:46.459Z"
   },
   {
    "duration": 71,
    "start_time": "2023-02-24T17:09:48.312Z"
   },
   {
    "duration": 103,
    "start_time": "2023-02-24T17:09:49.818Z"
   },
   {
    "duration": 1038,
    "start_time": "2023-02-24T17:10:08.114Z"
   },
   {
    "duration": 6,
    "start_time": "2023-02-24T17:10:22.871Z"
   },
   {
    "duration": 1485469,
    "start_time": "2023-02-24T17:10:45.834Z"
   },
   {
    "duration": 10,
    "start_time": "2023-02-24T21:48:02.585Z"
   },
   {
    "duration": 5,
    "start_time": "2023-02-24T21:48:13.210Z"
   },
   {
    "duration": 1328,
    "start_time": "2023-02-26T14:52:54.597Z"
   },
   {
    "duration": 2806,
    "start_time": "2023-02-26T14:52:55.927Z"
   },
   {
    "duration": 11762,
    "start_time": "2023-02-26T14:52:58.735Z"
   },
   {
    "duration": 22,
    "start_time": "2023-02-26T14:53:28.105Z"
   },
   {
    "duration": 76,
    "start_time": "2023-02-26T14:53:29.589Z"
   },
   {
    "duration": 1204,
    "start_time": "2023-02-26T14:53:32.447Z"
   },
   {
    "duration": 5,
    "start_time": "2023-02-26T14:53:36.708Z"
   },
   {
    "duration": 114,
    "start_time": "2023-02-26T14:53:37.937Z"
   },
   {
    "duration": 12,
    "start_time": "2023-02-26T14:54:11.396Z"
   },
   {
    "duration": 5,
    "start_time": "2023-02-26T14:54:37.923Z"
   },
   {
    "duration": 406,
    "start_time": "2023-02-26T14:54:55.932Z"
   },
   {
    "duration": 3,
    "start_time": "2023-02-26T14:54:59.492Z"
   },
   {
    "duration": 8278,
    "start_time": "2023-02-26T14:56:53.086Z"
   },
   {
    "duration": 12145,
    "start_time": "2023-02-26T14:58:17.013Z"
   },
   {
    "duration": 6,
    "start_time": "2023-02-26T14:58:55.998Z"
   },
   {
    "duration": 81,
    "start_time": "2023-02-26T14:59:33.478Z"
   },
   {
    "duration": 1244,
    "start_time": "2023-02-26T14:59:35.274Z"
   },
   {
    "duration": 6,
    "start_time": "2023-02-26T14:59:37.833Z"
   },
   {
    "duration": 409,
    "start_time": "2023-02-26T14:59:38.623Z"
   },
   {
    "duration": 4,
    "start_time": "2023-02-26T14:59:40.495Z"
   },
   {
    "duration": 311,
    "start_time": "2023-02-26T14:59:42.685Z"
   },
   {
    "duration": 100328,
    "start_time": "2023-02-26T15:00:06.921Z"
   },
   {
    "duration": 51,
    "start_time": "2023-02-26T15:10:54.321Z"
   },
   {
    "duration": 1391,
    "start_time": "2023-02-26T15:11:04.702Z"
   },
   {
    "duration": 2814,
    "start_time": "2023-02-26T15:11:06.094Z"
   },
   {
    "duration": 11501,
    "start_time": "2023-02-26T15:11:09.738Z"
   },
   {
    "duration": 25,
    "start_time": "2023-02-26T15:11:27.648Z"
   },
   {
    "duration": 74,
    "start_time": "2023-02-26T15:11:29.529Z"
   },
   {
    "duration": 1259,
    "start_time": "2023-02-26T15:11:31.761Z"
   },
   {
    "duration": 5,
    "start_time": "2023-02-26T15:11:36.429Z"
   },
   {
    "duration": 384,
    "start_time": "2023-02-26T15:11:40.789Z"
   },
   {
    "duration": 3,
    "start_time": "2023-02-26T15:11:44.692Z"
   },
   {
    "duration": 16945,
    "start_time": "2023-02-26T15:11:49.902Z"
   },
   {
    "duration": 1372,
    "start_time": "2023-02-26T15:13:34.573Z"
   },
   {
    "duration": 1357,
    "start_time": "2023-02-26T15:13:40.101Z"
   },
   {
    "duration": 4,
    "start_time": "2023-02-26T15:14:44.015Z"
   },
   {
    "duration": 1359,
    "start_time": "2023-02-26T15:15:14.223Z"
   },
   {
    "duration": 118,
    "start_time": "2023-02-26T15:21:35.945Z"
   },
   {
    "duration": 2,
    "start_time": "2023-02-26T15:22:22.509Z"
   },
   {
    "duration": 151,
    "start_time": "2023-02-26T15:22:27.305Z"
   },
   {
    "duration": 7,
    "start_time": "2023-02-26T15:22:59.790Z"
   },
   {
    "duration": 124,
    "start_time": "2023-02-26T15:23:05.433Z"
   },
   {
    "duration": 260,
    "start_time": "2023-02-26T15:23:41.634Z"
   },
   {
    "duration": 97837,
    "start_time": "2023-02-26T15:23:50.731Z"
   },
   {
    "duration": 4,
    "start_time": "2023-02-26T15:25:48.739Z"
   },
   {
    "duration": 1331500,
    "start_time": "2023-02-26T15:25:51.258Z"
   },
   {
    "duration": 4,
    "start_time": "2023-02-26T15:48:02.760Z"
   },
   {
    "duration": 56,
    "start_time": "2023-02-26T15:48:02.900Z"
   },
   {
    "duration": 925126,
    "start_time": "2023-02-26T16:35:34.310Z"
   },
   {
    "duration": 13097,
    "start_time": "2023-02-26T19:56:22.459Z"
   },
   {
    "duration": 12274,
    "start_time": "2023-02-26T19:56:48.978Z"
   },
   {
    "duration": 4,
    "start_time": "2023-02-26T19:57:57.461Z"
   },
   {
    "duration": 4,
    "start_time": "2023-02-26T19:58:10.338Z"
   },
   {
    "duration": 4,
    "start_time": "2023-02-26T19:58:17.867Z"
   },
   {
    "duration": 1328,
    "start_time": "2023-02-26T19:58:56.628Z"
   },
   {
    "duration": 1399,
    "start_time": "2023-02-26T19:59:03.059Z"
   },
   {
    "duration": 1303,
    "start_time": "2023-02-26T19:59:07.962Z"
   },
   {
    "duration": 48,
    "start_time": "2023-02-26T20:02:08.519Z"
   },
   {
    "duration": 4,
    "start_time": "2023-02-26T20:02:15.214Z"
   },
   {
    "duration": 8,
    "start_time": "2023-02-26T20:02:18.971Z"
   },
   {
    "duration": 746,
    "start_time": "2023-02-26T20:04:53.498Z"
   },
   {
    "duration": 694,
    "start_time": "2023-02-26T20:16:48.011Z"
   },
   {
    "duration": 783,
    "start_time": "2023-02-26T20:17:05.675Z"
   },
   {
    "duration": 87,
    "start_time": "2023-02-26T20:17:15.704Z"
   },
   {
    "duration": 697,
    "start_time": "2023-02-26T20:17:34.649Z"
   },
   {
    "duration": 6,
    "start_time": "2023-02-26T20:18:03.014Z"
   },
   {
    "duration": 6,
    "start_time": "2023-02-26T20:18:07.748Z"
   },
   {
    "duration": 15,
    "start_time": "2023-02-26T20:18:24.806Z"
   },
   {
    "duration": 15,
    "start_time": "2023-02-26T20:18:32.936Z"
   },
   {
    "duration": 13,
    "start_time": "2023-02-26T20:19:27.681Z"
   },
   {
    "duration": 11,
    "start_time": "2023-02-26T20:19:57.205Z"
   },
   {
    "duration": 10,
    "start_time": "2023-02-26T20:20:01.365Z"
   },
   {
    "duration": 7,
    "start_time": "2023-02-26T20:21:19.853Z"
   },
   {
    "duration": 9,
    "start_time": "2023-02-26T20:21:46.881Z"
   },
   {
    "duration": 20905,
    "start_time": "2023-02-26T20:21:53.248Z"
   },
   {
    "duration": 5,
    "start_time": "2023-02-26T20:22:20.219Z"
   },
   {
    "duration": 11,
    "start_time": "2023-02-26T20:22:26.054Z"
   },
   {
    "duration": 4,
    "start_time": "2023-02-26T20:22:43.758Z"
   },
   {
    "duration": 15,
    "start_time": "2023-02-26T20:22:47.506Z"
   },
   {
    "duration": 5,
    "start_time": "2023-02-26T20:23:00.855Z"
   },
   {
    "duration": 12,
    "start_time": "2023-02-26T20:23:03.436Z"
   },
   {
    "duration": 13,
    "start_time": "2023-02-26T20:23:17.368Z"
   },
   {
    "duration": 9,
    "start_time": "2023-02-26T20:23:23.351Z"
   },
   {
    "duration": 6,
    "start_time": "2023-02-26T20:23:33.321Z"
   },
   {
    "duration": 12,
    "start_time": "2023-02-26T20:23:35.771Z"
   },
   {
    "duration": 67909,
    "start_time": "2023-02-26T20:25:52.554Z"
   },
   {
    "duration": 13,
    "start_time": "2023-02-26T20:27:08.747Z"
   },
   {
    "duration": 18,
    "start_time": "2023-02-26T20:27:53.090Z"
   },
   {
    "duration": 1280,
    "start_time": "2023-02-26T20:28:22.997Z"
   },
   {
    "duration": 7,
    "start_time": "2023-02-26T20:28:57.355Z"
   },
   {
    "duration": 10,
    "start_time": "2023-02-26T20:29:03.867Z"
   },
   {
    "duration": 13666,
    "start_time": "2023-02-26T20:35:39.307Z"
   },
   {
    "duration": 5,
    "start_time": "2023-02-26T20:36:56.609Z"
   },
   {
    "duration": 136,
    "start_time": "2023-02-26T20:37:08.357Z"
   },
   {
    "duration": 12,
    "start_time": "2023-02-26T20:37:29.867Z"
   },
   {
    "duration": 14,
    "start_time": "2023-02-26T20:39:47.777Z"
   },
   {
    "duration": 4440,
    "start_time": "2023-02-26T20:39:53.311Z"
   },
   {
    "duration": 5,
    "start_time": "2023-02-26T20:40:00.706Z"
   },
   {
    "duration": 83,
    "start_time": "2023-02-26T20:40:03.716Z"
   },
   {
    "duration": 15,
    "start_time": "2023-02-26T20:40:05.584Z"
   },
   {
    "duration": 10,
    "start_time": "2023-02-26T20:40:29.004Z"
   },
   {
    "duration": 54,
    "start_time": "2023-02-26T20:43:09.074Z"
   },
   {
    "duration": 9,
    "start_time": "2023-02-26T20:43:15.329Z"
   },
   {
    "duration": 4,
    "start_time": "2023-02-26T20:44:44.022Z"
   },
   {
    "duration": 2,
    "start_time": "2023-02-26T20:44:52.315Z"
   },
   {
    "duration": 953439,
    "start_time": "2023-02-26T20:44:58.973Z"
   },
   {
    "duration": 9753,
    "start_time": "2023-02-26T21:01:32.157Z"
   },
   {
    "duration": 4,
    "start_time": "2023-02-26T21:01:51.871Z"
   },
   {
    "duration": 92,
    "start_time": "2023-02-26T21:01:52.606Z"
   },
   {
    "duration": 11,
    "start_time": "2023-02-26T21:01:54.764Z"
   },
   {
    "duration": 10,
    "start_time": "2023-02-26T21:03:46.899Z"
   },
   {
    "duration": 7,
    "start_time": "2023-02-26T21:04:13.968Z"
   },
   {
    "duration": 5,
    "start_time": "2023-02-26T21:04:20.787Z"
   },
   {
    "duration": 6,
    "start_time": "2023-02-26T21:04:29.417Z"
   },
   {
    "duration": 4,
    "start_time": "2023-02-26T21:04:48.406Z"
   },
   {
    "duration": 9,
    "start_time": "2023-02-26T21:04:54.232Z"
   },
   {
    "duration": 14,
    "start_time": "2023-02-26T21:09:45.141Z"
   },
   {
    "duration": 54192,
    "start_time": "2023-02-26T21:11:05.067Z"
   },
   {
    "duration": 5,
    "start_time": "2023-02-26T21:12:31.465Z"
   },
   {
    "duration": 81,
    "start_time": "2023-02-26T21:12:37.964Z"
   },
   {
    "duration": 6,
    "start_time": "2023-02-26T21:12:39.147Z"
   },
   {
    "duration": 9,
    "start_time": "2023-02-26T21:12:49.613Z"
   },
   {
    "duration": 89584,
    "start_time": "2023-02-26T21:16:19.093Z"
   },
   {
    "duration": 1200749,
    "start_time": "2023-02-26T21:18:41.317Z"
   },
   {
    "duration": 3152076,
    "start_time": "2023-02-26T21:38:42.071Z"
   },
   {
    "duration": 4,
    "start_time": "2023-02-26T22:50:05.421Z"
   },
   {
    "duration": 4,
    "start_time": "2023-02-26T22:50:09.978Z"
   },
   {
    "duration": 3,
    "start_time": "2023-02-26T22:50:25.221Z"
   },
   {
    "duration": 1100874,
    "start_time": "2023-02-26T22:50:29.790Z"
   },
   {
    "duration": 18110,
    "start_time": "2023-02-27T12:48:51.945Z"
   },
   {
    "duration": 7,
    "start_time": "2023-02-27T12:49:10.145Z"
   },
   {
    "duration": 1320,
    "start_time": "2023-02-27T12:49:10.155Z"
   },
   {
    "duration": 5,
    "start_time": "2023-02-27T12:49:11.477Z"
   },
   {
    "duration": 9,
    "start_time": "2023-02-27T12:49:20.325Z"
   },
   {
    "duration": 3416279,
    "start_time": "2023-02-27T12:51:34.572Z"
   },
   {
    "duration": 4,
    "start_time": "2023-02-27T15:17:06.471Z"
   },
   {
    "duration": 4,
    "start_time": "2023-02-27T15:17:16.344Z"
   },
   {
    "duration": 4,
    "start_time": "2023-02-27T15:17:41.744Z"
   },
   {
    "duration": 4,
    "start_time": "2023-02-27T15:17:54.778Z"
   },
   {
    "duration": 1579,
    "start_time": "2023-02-28T14:05:59.675Z"
   },
   {
    "duration": 3002,
    "start_time": "2023-02-28T14:06:01.256Z"
   },
   {
    "duration": 131,
    "start_time": "2023-02-28T14:06:04.260Z"
   },
   {
    "duration": 47,
    "start_time": "2023-02-28T14:06:04.394Z"
   },
   {
    "duration": 75,
    "start_time": "2023-02-28T14:06:04.444Z"
   },
   {
    "duration": 91,
    "start_time": "2023-02-28T14:06:04.521Z"
   },
   {
    "duration": 75,
    "start_time": "2023-02-28T14:06:04.614Z"
   },
   {
    "duration": 50,
    "start_time": "2023-02-28T14:06:04.690Z"
   },
   {
    "duration": 55,
    "start_time": "2023-02-28T14:06:04.742Z"
   },
   {
    "duration": 39,
    "start_time": "2023-02-28T14:06:04.800Z"
   },
   {
    "duration": 57,
    "start_time": "2023-02-28T14:06:04.841Z"
   },
   {
    "duration": 45,
    "start_time": "2023-02-28T14:06:04.901Z"
   },
   {
    "duration": 10044,
    "start_time": "2023-02-28T14:06:05.030Z"
   },
   {
    "duration": 33,
    "start_time": "2023-02-28T14:06:15.080Z"
   },
   {
    "duration": 312,
    "start_time": "2023-02-28T14:06:15.114Z"
   },
   {
    "duration": 9,
    "start_time": "2023-02-28T14:06:15.429Z"
   },
   {
    "duration": 271,
    "start_time": "2023-02-28T14:06:15.439Z"
   },
   {
    "duration": 76,
    "start_time": "2023-02-28T14:06:15.712Z"
   },
   {
    "duration": 74,
    "start_time": "2023-02-28T14:06:32.268Z"
   },
   {
    "duration": 5,
    "start_time": "2023-02-28T14:08:30.605Z"
   },
   {
    "duration": 942,
    "start_time": "2023-02-28T14:08:30.612Z"
   },
   {
    "duration": 117,
    "start_time": "2023-02-28T14:08:31.556Z"
   },
   {
    "duration": 19,
    "start_time": "2023-02-28T14:08:31.674Z"
   },
   {
    "duration": 81,
    "start_time": "2023-02-28T14:08:31.695Z"
   },
   {
    "duration": 76,
    "start_time": "2023-02-28T14:08:31.778Z"
   },
   {
    "duration": 57,
    "start_time": "2023-02-28T14:08:31.855Z"
   },
   {
    "duration": 57,
    "start_time": "2023-02-28T14:08:31.914Z"
   },
   {
    "duration": 44,
    "start_time": "2023-02-28T14:08:31.973Z"
   },
   {
    "duration": 47,
    "start_time": "2023-02-28T14:08:32.019Z"
   },
   {
    "duration": 30,
    "start_time": "2023-02-28T14:08:32.067Z"
   },
   {
    "duration": 48,
    "start_time": "2023-02-28T14:08:32.099Z"
   },
   {
    "duration": 9990,
    "start_time": "2023-02-28T14:08:32.150Z"
   },
   {
    "duration": 28,
    "start_time": "2023-02-28T14:08:42.142Z"
   },
   {
    "duration": 299,
    "start_time": "2023-02-28T14:08:42.172Z"
   },
   {
    "duration": 5,
    "start_time": "2023-02-28T14:08:42.473Z"
   },
   {
    "duration": 269,
    "start_time": "2023-02-28T14:08:42.480Z"
   },
   {
    "duration": 74,
    "start_time": "2023-02-28T14:08:42.751Z"
   },
   {
    "duration": 36,
    "start_time": "2023-02-28T14:08:42.835Z"
   },
   {
    "duration": 79,
    "start_time": "2023-02-28T14:08:42.873Z"
   },
   {
    "duration": 40,
    "start_time": "2023-02-28T14:08:42.954Z"
   },
   {
    "duration": 19,
    "start_time": "2023-02-28T14:08:42.996Z"
   },
   {
    "duration": 69,
    "start_time": "2023-02-28T14:08:43.036Z"
   },
   {
    "duration": 49,
    "start_time": "2023-02-28T14:08:43.107Z"
   },
   {
    "duration": 18,
    "start_time": "2023-02-28T14:08:43.158Z"
   },
   {
    "duration": 87,
    "start_time": "2023-02-28T14:08:43.178Z"
   },
   {
    "duration": 43,
    "start_time": "2023-02-28T14:08:43.267Z"
   },
   {
    "duration": 34,
    "start_time": "2023-02-28T14:08:43.312Z"
   },
   {
    "duration": 90,
    "start_time": "2023-02-28T14:08:43.348Z"
   },
   {
    "duration": 40,
    "start_time": "2023-02-28T14:08:43.440Z"
   },
   {
    "duration": 57,
    "start_time": "2023-02-28T14:08:43.482Z"
   },
   {
    "duration": 79,
    "start_time": "2023-02-28T14:08:43.541Z"
   },
   {
    "duration": 3,
    "start_time": "2023-02-28T14:08:43.621Z"
   },
   {
    "duration": 77,
    "start_time": "2023-02-28T14:08:43.636Z"
   },
   {
    "duration": 21,
    "start_time": "2023-02-28T14:08:43.715Z"
   },
   {
    "duration": 3036,
    "start_time": "2023-02-28T14:08:43.739Z"
   },
   {
    "duration": 2415,
    "start_time": "2023-02-28T14:11:12.281Z"
   },
   {
    "duration": 19,
    "start_time": "2023-02-28T14:11:16.022Z"
   },
   {
    "duration": 6,
    "start_time": "2023-02-28T14:11:16.241Z"
   },
   {
    "duration": 7,
    "start_time": "2023-02-28T14:11:16.432Z"
   },
   {
    "duration": 56,
    "start_time": "2023-02-28T14:11:16.814Z"
   },
   {
    "duration": 2445,
    "start_time": "2023-02-28T14:11:17.476Z"
   },
   {
    "duration": 19,
    "start_time": "2023-02-28T14:12:12.786Z"
   },
   {
    "duration": 12,
    "start_time": "2023-02-28T14:12:13.178Z"
   },
   {
    "duration": 26,
    "start_time": "2023-02-28T14:12:13.366Z"
   },
   {
    "duration": 16,
    "start_time": "2023-02-28T14:12:13.566Z"
   },
   {
    "duration": 15,
    "start_time": "2023-02-28T14:12:13.696Z"
   },
   {
    "duration": 33,
    "start_time": "2023-02-28T14:12:16.407Z"
   },
   {
    "duration": 63,
    "start_time": "2023-02-28T14:12:16.719Z"
   },
   {
    "duration": 11,
    "start_time": "2023-02-28T14:12:40.135Z"
   },
   {
    "duration": 556,
    "start_time": "2023-02-28T14:12:40.148Z"
   },
   {
    "duration": 4,
    "start_time": "2023-02-28T14:12:40.706Z"
   },
   {
    "duration": 118,
    "start_time": "2023-02-28T14:13:23.796Z"
   },
   {
    "duration": 58,
    "start_time": "2023-02-28T14:13:28.149Z"
   },
   {
    "duration": 4,
    "start_time": "2023-02-28T14:13:37.938Z"
   },
   {
    "duration": 857,
    "start_time": "2023-02-28T14:13:37.944Z"
   },
   {
    "duration": 156,
    "start_time": "2023-02-28T14:13:38.803Z"
   },
   {
    "duration": 14,
    "start_time": "2023-02-28T14:13:38.961Z"
   },
   {
    "duration": 60,
    "start_time": "2023-02-28T14:13:38.976Z"
   },
   {
    "duration": 77,
    "start_time": "2023-02-28T14:13:39.038Z"
   },
   {
    "duration": 54,
    "start_time": "2023-02-28T14:13:39.117Z"
   },
   {
    "duration": 37,
    "start_time": "2023-02-28T14:13:39.173Z"
   },
   {
    "duration": 49,
    "start_time": "2023-02-28T14:13:39.212Z"
   },
   {
    "duration": 30,
    "start_time": "2023-02-28T14:13:39.263Z"
   },
   {
    "duration": 51,
    "start_time": "2023-02-28T14:13:39.296Z"
   },
   {
    "duration": 41,
    "start_time": "2023-02-28T14:13:39.349Z"
   },
   {
    "duration": 9891,
    "start_time": "2023-02-28T14:13:39.392Z"
   },
   {
    "duration": 54,
    "start_time": "2023-02-28T14:13:49.285Z"
   },
   {
    "duration": 330,
    "start_time": "2023-02-28T14:13:49.341Z"
   },
   {
    "duration": 8,
    "start_time": "2023-02-28T14:13:49.673Z"
   },
   {
    "duration": 315,
    "start_time": "2023-02-28T14:13:49.683Z"
   },
   {
    "duration": 73,
    "start_time": "2023-02-28T14:13:49.999Z"
   },
   {
    "duration": 37,
    "start_time": "2023-02-28T14:13:50.073Z"
   },
   {
    "duration": 82,
    "start_time": "2023-02-28T14:13:50.112Z"
   },
   {
    "duration": 62,
    "start_time": "2023-02-28T14:13:50.196Z"
   },
   {
    "duration": 24,
    "start_time": "2023-02-28T14:13:50.259Z"
   },
   {
    "duration": 102,
    "start_time": "2023-02-28T14:13:50.285Z"
   },
   {
    "duration": 43,
    "start_time": "2023-02-28T14:13:50.389Z"
   },
   {
    "duration": 21,
    "start_time": "2023-02-28T14:13:50.434Z"
   },
   {
    "duration": 86,
    "start_time": "2023-02-28T14:13:50.457Z"
   },
   {
    "duration": 63,
    "start_time": "2023-02-28T14:13:50.546Z"
   },
   {
    "duration": 29,
    "start_time": "2023-02-28T14:13:50.610Z"
   },
   {
    "duration": 102,
    "start_time": "2023-02-28T14:13:50.644Z"
   },
   {
    "duration": 109,
    "start_time": "2023-02-28T14:13:50.748Z"
   },
   {
    "duration": 30,
    "start_time": "2023-02-28T14:13:50.859Z"
   },
   {
    "duration": 86,
    "start_time": "2023-02-28T14:13:50.891Z"
   },
   {
    "duration": 51,
    "start_time": "2023-02-28T14:13:50.979Z"
   },
   {
    "duration": 97,
    "start_time": "2023-02-28T14:13:51.032Z"
   },
   {
    "duration": 5,
    "start_time": "2023-02-28T14:13:51.131Z"
   },
   {
    "duration": 2509,
    "start_time": "2023-02-28T14:13:51.137Z"
   },
   {
    "duration": 18,
    "start_time": "2023-02-28T14:13:53.649Z"
   },
   {
    "duration": 9,
    "start_time": "2023-02-28T14:13:53.669Z"
   },
   {
    "duration": 59,
    "start_time": "2023-02-28T14:13:53.679Z"
   },
   {
    "duration": 128,
    "start_time": "2023-02-28T14:13:53.740Z"
   },
   {
    "duration": 2577,
    "start_time": "2023-02-28T14:13:53.871Z"
   },
   {
    "duration": 30,
    "start_time": "2023-02-28T14:13:56.450Z"
   },
   {
    "duration": 61,
    "start_time": "2023-02-28T14:13:56.482Z"
   },
   {
    "duration": 13,
    "start_time": "2023-02-28T14:13:56.545Z"
   },
   {
    "duration": 82,
    "start_time": "2023-02-28T14:13:56.560Z"
   },
   {
    "duration": 15,
    "start_time": "2023-02-28T14:13:56.644Z"
   },
   {
    "duration": 14,
    "start_time": "2023-02-28T14:13:56.661Z"
   },
   {
    "duration": 93,
    "start_time": "2023-02-28T14:13:56.677Z"
   },
   {
    "duration": 170,
    "start_time": "2023-02-28T14:13:56.773Z"
   },
   {
    "duration": 10,
    "start_time": "2023-02-28T14:13:56.945Z"
   },
   {
    "duration": 577,
    "start_time": "2023-02-28T14:13:56.956Z"
   },
   {
    "duration": 4,
    "start_time": "2023-02-28T14:13:57.536Z"
   },
   {
    "duration": 68,
    "start_time": "2023-02-28T14:13:57.541Z"
   },
   {
    "duration": 1536,
    "start_time": "2023-03-02T17:14:39.465Z"
   },
   {
    "duration": 3453,
    "start_time": "2023-03-02T17:14:41.002Z"
   },
   {
    "duration": 77,
    "start_time": "2023-03-02T17:14:46.301Z"
   },
   {
    "duration": 11284,
    "start_time": "2023-03-02T17:15:13.918Z"
   },
   {
    "duration": 356,
    "start_time": "2023-03-02T17:15:25.204Z"
   },
   {
    "duration": 291,
    "start_time": "2023-03-02T17:15:25.561Z"
   },
   {
    "duration": 65,
    "start_time": "2023-03-02T17:15:26.001Z"
   },
   {
    "duration": 3,
    "start_time": "2023-03-02T17:17:08.103Z"
   },
   {
    "duration": 11654,
    "start_time": "2023-03-02T17:17:59.404Z"
   },
   {
    "duration": 12911,
    "start_time": "2023-03-02T17:18:14.869Z"
   },
   {
    "duration": 21,
    "start_time": "2023-03-02T17:18:30.987Z"
   },
   {
    "duration": 119,
    "start_time": "2023-03-02T17:20:19.548Z"
   },
   {
    "duration": 14305,
    "start_time": "2023-03-02T17:20:23.665Z"
   },
   {
    "duration": 96,
    "start_time": "2023-03-02T17:22:03.109Z"
   },
   {
    "duration": 30,
    "start_time": "2023-03-02T17:22:39.401Z"
   },
   {
    "duration": 13194,
    "start_time": "2023-03-02T17:23:35.656Z"
   },
   {
    "duration": 18,
    "start_time": "2023-03-02T17:24:54.569Z"
   },
   {
    "duration": 35,
    "start_time": "2023-03-02T17:24:56.818Z"
   },
   {
    "duration": 18,
    "start_time": "2023-03-02T17:24:58.872Z"
   },
   {
    "duration": 37,
    "start_time": "2023-03-02T17:25:00.815Z"
   },
   {
    "duration": 9,
    "start_time": "2023-03-02T17:25:09.720Z"
   },
   {
    "duration": 8,
    "start_time": "2023-03-02T17:25:11.947Z"
   },
   {
    "duration": 18,
    "start_time": "2023-03-02T17:25:20.195Z"
   },
   {
    "duration": 4,
    "start_time": "2023-03-02T17:25:28.916Z"
   },
   {
    "duration": 3172,
    "start_time": "2023-03-02T17:25:31.244Z"
   },
   {
    "duration": 562,
    "start_time": "2023-03-02T17:27:08.887Z"
   },
   {
    "duration": 635,
    "start_time": "2023-03-02T17:27:58.507Z"
   },
   {
    "duration": 21,
    "start_time": "2023-03-02T17:28:16.329Z"
   },
   {
    "duration": 550,
    "start_time": "2023-03-02T17:28:46.764Z"
   },
   {
    "duration": 32,
    "start_time": "2023-03-02T17:29:09.614Z"
   },
   {
    "duration": 560,
    "start_time": "2023-03-02T17:29:13.991Z"
   },
   {
    "duration": 67,
    "start_time": "2023-03-02T17:31:20.603Z"
   },
   {
    "duration": 24,
    "start_time": "2023-03-02T17:31:36.545Z"
   },
   {
    "duration": 476,
    "start_time": "2023-03-02T17:33:16.563Z"
   },
   {
    "duration": 12,
    "start_time": "2023-03-02T17:34:35.231Z"
   },
   {
    "duration": 506,
    "start_time": "2023-03-02T17:34:35.961Z"
   },
   {
    "duration": 4,
    "start_time": "2023-03-02T17:34:36.910Z"
   },
   {
    "duration": 25,
    "start_time": "2023-03-02T17:35:19.754Z"
   },
   {
    "duration": 6,
    "start_time": "2023-03-02T17:35:21.591Z"
   },
   {
    "duration": 1458,
    "start_time": "2023-03-02T17:36:08.338Z"
   },
   {
    "duration": 960,
    "start_time": "2023-03-02T17:36:09.798Z"
   },
   {
    "duration": 79,
    "start_time": "2023-03-02T17:36:14.899Z"
   },
   {
    "duration": 10575,
    "start_time": "2023-03-02T17:36:20.854Z"
   },
   {
    "duration": 320,
    "start_time": "2023-03-02T17:36:31.434Z"
   },
   {
    "duration": 278,
    "start_time": "2023-03-02T17:36:31.761Z"
   },
   {
    "duration": 58,
    "start_time": "2023-03-02T17:36:32.043Z"
   },
   {
    "duration": 12916,
    "start_time": "2023-03-02T17:36:32.103Z"
   },
   {
    "duration": 38,
    "start_time": "2023-03-02T17:36:45.021Z"
   },
   {
    "duration": 27,
    "start_time": "2023-03-02T17:36:45.061Z"
   },
   {
    "duration": 18,
    "start_time": "2023-03-02T17:36:45.091Z"
   },
   {
    "duration": 42,
    "start_time": "2023-03-02T17:36:45.110Z"
   },
   {
    "duration": 3,
    "start_time": "2023-03-02T17:36:45.155Z"
   },
   {
    "duration": 4,
    "start_time": "2023-03-02T17:36:46.800Z"
   },
   {
    "duration": 62,
    "start_time": "2023-03-02T17:36:52.107Z"
   },
   {
    "duration": 39,
    "start_time": "2023-03-02T17:37:00.529Z"
   },
   {
    "duration": 21,
    "start_time": "2023-03-02T17:37:07.074Z"
   },
   {
    "duration": 12,
    "start_time": "2023-03-02T17:37:10.972Z"
   },
   {
    "duration": 520,
    "start_time": "2023-03-02T17:37:11.350Z"
   },
   {
    "duration": 8,
    "start_time": "2023-03-02T17:37:11.873Z"
   },
   {
    "duration": 33,
    "start_time": "2023-03-02T17:37:14.050Z"
   },
   {
    "duration": 28225,
    "start_time": "2023-03-02T17:39:35.461Z"
   },
   {
    "duration": 21,
    "start_time": "2023-03-02T17:40:14.390Z"
   },
   {
    "duration": 13363,
    "start_time": "2023-03-02T17:42:40.642Z"
   },
   {
    "duration": 30,
    "start_time": "2023-03-02T17:42:59.346Z"
   },
   {
    "duration": 13412,
    "start_time": "2023-03-02T17:43:34.962Z"
   },
   {
    "duration": 28,
    "start_time": "2023-03-02T17:44:02.807Z"
   },
   {
    "duration": 9,
    "start_time": "2023-03-02T17:44:14.982Z"
   },
   {
    "duration": 29,
    "start_time": "2023-03-02T17:45:14.648Z"
   },
   {
    "duration": 57,
    "start_time": "2023-03-02T17:45:31.819Z"
   },
   {
    "duration": 41,
    "start_time": "2023-03-02T17:46:00.885Z"
   },
   {
    "duration": 13089,
    "start_time": "2023-03-02T17:46:54.145Z"
   },
   {
    "duration": 16072,
    "start_time": "2023-03-02T17:47:33.321Z"
   },
   {
    "duration": 21,
    "start_time": "2023-03-02T17:47:56.078Z"
   },
   {
    "duration": 9790,
    "start_time": "2023-03-02T17:48:19.569Z"
   },
   {
    "duration": 32,
    "start_time": "2023-03-02T17:48:39.239Z"
   },
   {
    "duration": 110,
    "start_time": "2023-03-02T17:49:08.994Z"
   },
   {
    "duration": 55,
    "start_time": "2023-03-02T17:49:12.513Z"
   },
   {
    "duration": 151,
    "start_time": "2023-03-02T17:49:25.347Z"
   },
   {
    "duration": 46,
    "start_time": "2023-03-02T17:49:28.420Z"
   },
   {
    "duration": 5,
    "start_time": "2023-03-02T17:49:36.692Z"
   },
   {
    "duration": 4633,
    "start_time": "2023-03-02T18:03:24.447Z"
   },
   {
    "duration": 9,
    "start_time": "2023-03-02T18:03:35.785Z"
   },
   {
    "duration": 6802,
    "start_time": "2023-03-02T18:05:49.063Z"
   },
   {
    "duration": 6797,
    "start_time": "2023-03-02T18:06:15.600Z"
   },
   {
    "duration": 5147,
    "start_time": "2023-03-02T18:06:39.547Z"
   },
   {
    "duration": 1489,
    "start_time": "2023-03-02T18:07:05.898Z"
   },
   {
    "duration": 1695,
    "start_time": "2023-03-02T18:08:03.774Z"
   },
   {
    "duration": 1305,
    "start_time": "2023-03-02T18:10:36.373Z"
   },
   {
    "duration": 1443,
    "start_time": "2023-03-02T18:10:59.656Z"
   },
   {
    "duration": 1555,
    "start_time": "2023-03-02T18:11:40.536Z"
   },
   {
    "duration": 21,
    "start_time": "2023-03-02T18:11:49.372Z"
   },
   {
    "duration": 30,
    "start_time": "2023-03-02T18:12:50.378Z"
   },
   {
    "duration": 12,
    "start_time": "2023-03-02T18:13:06.844Z"
   },
   {
    "duration": 8,
    "start_time": "2023-03-02T18:13:15.138Z"
   },
   {
    "duration": 40059,
    "start_time": "2023-03-02T18:13:35.058Z"
   },
   {
    "duration": 21,
    "start_time": "2023-03-02T18:14:25.289Z"
   },
   {
    "duration": 28,
    "start_time": "2023-03-02T18:17:26.042Z"
   },
   {
    "duration": 5,
    "start_time": "2023-03-02T18:17:31.606Z"
   },
   {
    "duration": 31,
    "start_time": "2023-03-02T18:20:00.138Z"
   },
   {
    "duration": 10,
    "start_time": "2023-03-02T18:26:05.441Z"
   },
   {
    "duration": 109,
    "start_time": "2023-03-02T18:27:13.730Z"
   },
   {
    "duration": 11,
    "start_time": "2023-03-02T18:27:21.168Z"
   },
   {
    "duration": 94,
    "start_time": "2023-03-02T18:27:33.548Z"
   },
   {
    "duration": 141,
    "start_time": "2023-03-02T18:27:35.378Z"
   },
   {
    "duration": 13,
    "start_time": "2023-03-02T18:28:47.245Z"
   },
   {
    "duration": 83,
    "start_time": "2023-03-02T18:29:07.284Z"
   },
   {
    "duration": 148,
    "start_time": "2023-03-02T18:29:07.968Z"
   },
   {
    "duration": 4,
    "start_time": "2023-03-02T18:29:09.163Z"
   },
   {
    "duration": 11,
    "start_time": "2023-03-02T18:31:08.984Z"
   },
   {
    "duration": 27,
    "start_time": "2023-03-02T18:31:24.247Z"
   },
   {
    "duration": 6,
    "start_time": "2023-03-02T18:35:25.648Z"
   },
   {
    "duration": 35,
    "start_time": "2023-03-02T18:35:41.316Z"
   },
   {
    "duration": 104,
    "start_time": "2023-03-02T18:35:42.472Z"
   },
   {
    "duration": 413,
    "start_time": "2023-03-02T18:35:43.517Z"
   },
   {
    "duration": 5,
    "start_time": "2023-03-02T18:36:03.613Z"
   },
   {
    "duration": 424,
    "start_time": "2023-03-02T18:36:13.175Z"
   },
   {
    "duration": 405,
    "start_time": "2023-03-02T18:36:47.945Z"
   },
   {
    "duration": 386,
    "start_time": "2023-03-02T18:37:06.565Z"
   },
   {
    "duration": 17,
    "start_time": "2023-03-02T18:44:45.138Z"
   },
   {
    "duration": 10,
    "start_time": "2023-03-02T18:44:52.199Z"
   },
   {
    "duration": 87,
    "start_time": "2023-03-02T18:44:56.517Z"
   },
   {
    "duration": 920,
    "start_time": "2023-03-02T18:45:54.107Z"
   },
   {
    "duration": 19,
    "start_time": "2023-03-02T18:45:59.344Z"
   },
   {
    "duration": 4,
    "start_time": "2023-03-02T18:46:53.611Z"
   },
   {
    "duration": 75022,
    "start_time": "2023-03-02T18:46:55.826Z"
   },
   {
    "duration": 5,
    "start_time": "2023-03-02T18:48:11.733Z"
   },
   {
    "duration": 1514,
    "start_time": "2023-03-02T18:51:47.094Z"
   },
   {
    "duration": 863,
    "start_time": "2023-03-02T18:51:48.610Z"
   },
   {
    "duration": 80,
    "start_time": "2023-03-02T18:51:49.890Z"
   },
   {
    "duration": 10027,
    "start_time": "2023-03-02T18:51:59.110Z"
   },
   {
    "duration": 307,
    "start_time": "2023-03-02T18:52:09.139Z"
   },
   {
    "duration": 311,
    "start_time": "2023-03-02T18:52:09.448Z"
   },
   {
    "duration": 41,
    "start_time": "2023-03-02T18:52:22.438Z"
   },
   {
    "duration": 185,
    "start_time": "2023-03-02T18:52:51.234Z"
   },
   {
    "duration": 10127,
    "start_time": "2023-03-02T18:53:04.616Z"
   },
   {
    "duration": 85,
    "start_time": "2023-03-02T18:53:19.802Z"
   },
   {
    "duration": 21,
    "start_time": "2023-03-02T18:53:24.507Z"
   },
   {
    "duration": 18,
    "start_time": "2023-03-02T18:53:26.697Z"
   },
   {
    "duration": 24,
    "start_time": "2023-03-02T18:53:28.534Z"
   },
   {
    "duration": 19,
    "start_time": "2023-03-02T18:53:31.364Z"
   },
   {
    "duration": 3,
    "start_time": "2023-03-02T18:53:34.846Z"
   },
   {
    "duration": 44,
    "start_time": "2023-03-02T18:53:39.245Z"
   },
   {
    "duration": 22,
    "start_time": "2023-03-02T18:53:42.679Z"
   },
   {
    "duration": 23,
    "start_time": "2023-03-02T18:53:46.639Z"
   },
   {
    "duration": 12,
    "start_time": "2023-03-02T18:53:55.539Z"
   },
   {
    "duration": 482,
    "start_time": "2023-03-02T18:53:55.935Z"
   },
   {
    "duration": 39006,
    "start_time": "2023-03-02T18:54:03.805Z"
   },
   {
    "duration": 33,
    "start_time": "2023-03-02T18:54:42.813Z"
   },
   {
    "duration": 32,
    "start_time": "2023-03-02T18:55:59.616Z"
   },
   {
    "duration": 17,
    "start_time": "2023-03-02T18:56:05.692Z"
   },
   {
    "duration": 72,
    "start_time": "2023-03-02T18:56:06.750Z"
   },
   {
    "duration": 1054,
    "start_time": "2023-03-02T18:56:08.480Z"
   },
   {
    "duration": 6,
    "start_time": "2023-03-02T18:56:14.240Z"
   },
   {
    "duration": 170426,
    "start_time": "2023-03-02T18:56:16.921Z"
   },
   {
    "duration": 5,
    "start_time": "2023-03-02T19:00:15.249Z"
   },
   {
    "duration": 1492,
    "start_time": "2023-03-02T19:00:25.917Z"
   },
   {
    "duration": 595,
    "start_time": "2023-03-02T19:00:27.849Z"
   },
   {
    "duration": 5,
    "start_time": "2023-03-02T19:01:09.309Z"
   },
   {
    "duration": 1429,
    "start_time": "2023-03-02T19:02:21.981Z"
   },
   {
    "duration": 593,
    "start_time": "2023-03-02T19:02:55.150Z"
   },
   {
    "duration": 1307,
    "start_time": "2023-03-02T19:04:07.832Z"
   },
   {
    "duration": 1290,
    "start_time": "2023-03-02T19:04:24.789Z"
   },
   {
    "duration": 16,
    "start_time": "2023-03-02T19:05:56.590Z"
   },
   {
    "duration": 78,
    "start_time": "2023-03-02T19:05:57.216Z"
   },
   {
    "duration": 906,
    "start_time": "2023-03-02T19:06:06.003Z"
   },
   {
    "duration": 4,
    "start_time": "2023-03-02T19:06:10.091Z"
   },
   {
    "duration": 306079,
    "start_time": "2023-03-02T19:06:12.361Z"
   },
   {
    "duration": 4,
    "start_time": "2023-03-02T19:12:05.538Z"
   },
   {
    "duration": 1353,
    "start_time": "2023-03-02T19:12:13.221Z"
   },
   {
    "duration": 588,
    "start_time": "2023-03-02T19:15:54.639Z"
   },
   {
    "duration": 3,
    "start_time": "2023-03-02T19:16:10.119Z"
   },
   {
    "duration": 14,
    "start_time": "2023-03-02T19:17:00.481Z"
   },
   {
    "duration": 14,
    "start_time": "2023-03-02T19:17:10.225Z"
   },
   {
    "duration": 6,
    "start_time": "2023-03-02T19:17:43.087Z"
   },
   {
    "duration": 9,
    "start_time": "2023-03-02T19:17:47.786Z"
   },
   {
    "duration": 4,
    "start_time": "2023-03-02T19:18:52.058Z"
   },
   {
    "duration": 4240,
    "start_time": "2023-03-02T19:19:04.702Z"
   },
   {
    "duration": 7,
    "start_time": "2023-03-02T19:19:13.221Z"
   },
   {
    "duration": 474,
    "start_time": "2023-03-02T19:19:14.755Z"
   },
   {
    "duration": 7,
    "start_time": "2023-03-02T19:19:15.231Z"
   },
   {
    "duration": 11,
    "start_time": "2023-03-02T19:19:21.183Z"
   },
   {
    "duration": 793,
    "start_time": "2023-03-02T19:19:41.916Z"
   },
   {
    "duration": 1169,
    "start_time": "2023-03-02T19:19:43.314Z"
   },
   {
    "duration": 4,
    "start_time": "2023-03-02T19:19:48.186Z"
   },
   {
    "duration": 42,
    "start_time": "2023-03-02T19:19:49.995Z"
   },
   {
    "duration": 7,
    "start_time": "2023-03-02T19:19:55.060Z"
   },
   {
    "duration": 394,
    "start_time": "2023-03-02T19:20:06.913Z"
   },
   {
    "duration": 1349,
    "start_time": "2023-03-02T19:20:10.490Z"
   },
   {
    "duration": 14,
    "start_time": "2023-03-02T19:20:12.159Z"
   },
   {
    "duration": 4,
    "start_time": "2023-03-02T19:20:18.153Z"
   },
   {
    "duration": 7,
    "start_time": "2023-03-02T19:20:20.961Z"
   },
   {
    "duration": 23,
    "start_time": "2023-03-02T19:24:47.047Z"
   },
   {
    "duration": 1449,
    "start_time": "2023-03-02T20:49:47.856Z"
   },
   {
    "duration": 4203,
    "start_time": "2023-03-02T20:49:49.307Z"
   },
   {
    "duration": 4,
    "start_time": "2023-03-02T20:49:59.330Z"
   },
   {
    "duration": 11767,
    "start_time": "2023-03-02T20:50:04.224Z"
   },
   {
    "duration": 10130,
    "start_time": "2023-03-02T20:50:22.609Z"
   },
   {
    "duration": 43,
    "start_time": "2023-03-02T20:50:57.618Z"
   },
   {
    "duration": 38757,
    "start_time": "2023-03-02T20:51:05.983Z"
   },
   {
    "duration": 38,
    "start_time": "2023-03-02T20:51:44.742Z"
   },
   {
    "duration": 28,
    "start_time": "2023-03-02T20:51:44.785Z"
   },
   {
    "duration": 83,
    "start_time": "2023-03-02T20:51:44.815Z"
   },
   {
    "duration": 1089,
    "start_time": "2023-03-02T20:51:44.900Z"
   },
   {
    "duration": 853,
    "start_time": "2023-03-02T20:53:23.300Z"
   },
   {
    "duration": 3,
    "start_time": "2023-03-02T20:53:31.222Z"
   },
   {
    "duration": 381785,
    "start_time": "2023-03-02T20:53:34.883Z"
   },
   {
    "duration": 43,
    "start_time": "2023-03-02T20:59:56.670Z"
   },
   {
    "duration": 465,
    "start_time": "2023-03-02T20:59:56.716Z"
   },
   {
    "duration": 24,
    "start_time": "2023-03-02T20:59:57.193Z"
   },
   {
    "duration": 3,
    "start_time": "2023-03-02T20:59:57.219Z"
   },
   {
    "duration": 417564,
    "start_time": "2023-03-02T20:59:57.224Z"
   },
   {
    "duration": 67,
    "start_time": "2023-03-02T21:06:54.795Z"
   },
   {
    "duration": 378,
    "start_time": "2023-03-02T21:06:54.872Z"
   },
   {
    "duration": 23,
    "start_time": "2023-03-02T21:06:55.257Z"
   },
   {
    "duration": 1089,
    "start_time": "2023-03-02T21:06:55.287Z"
   },
   {
    "duration": 14,
    "start_time": "2023-03-02T21:06:56.387Z"
   },
   {
    "duration": 24,
    "start_time": "2023-03-02T21:06:56.411Z"
   },
   {
    "duration": 10,
    "start_time": "2023-03-02T21:06:56.438Z"
   },
   {
    "duration": 14,
    "start_time": "2023-03-02T21:06:57.092Z"
   },
   {
    "duration": 28,
    "start_time": "2023-03-02T21:06:57.113Z"
   },
   {
    "duration": 1332,
    "start_time": "2023-03-02T21:06:57.143Z"
   },
   {
    "duration": 65168,
    "start_time": "2023-03-02T21:06:58.482Z"
   },
   {
    "duration": 7,
    "start_time": "2023-03-02T21:08:03.656Z"
   },
   {
    "duration": 188,
    "start_time": "2023-03-02T21:08:03.670Z"
   },
   {
    "duration": 34,
    "start_time": "2023-03-02T21:08:03.875Z"
   },
   {
    "duration": 16,
    "start_time": "2023-03-02T21:08:03.921Z"
   },
   {
    "duration": 20,
    "start_time": "2023-03-02T21:08:03.944Z"
   },
   {
    "duration": 686,
    "start_time": "2023-03-02T21:08:03.973Z"
   },
   {
    "duration": 11,
    "start_time": "2023-03-02T21:08:04.667Z"
   },
   {
    "duration": 28,
    "start_time": "2023-03-02T21:08:04.689Z"
   },
   {
    "duration": 24993,
    "start_time": "2023-03-02T21:10:32.544Z"
   },
   {
    "duration": 111548,
    "start_time": "2023-03-02T21:11:09.965Z"
   },
   {
    "duration": 124,
    "start_time": "2023-03-02T21:13:36.539Z"
   },
   {
    "duration": 8,
    "start_time": "2023-03-02T21:13:44.383Z"
   },
   {
    "duration": 8,
    "start_time": "2023-03-02T21:13:49.753Z"
   },
   {
    "duration": 14,
    "start_time": "2023-03-02T21:13:54.283Z"
   },
   {
    "duration": 28,
    "start_time": "2023-03-02T21:14:04.004Z"
   },
   {
    "duration": 165,
    "start_time": "2023-03-02T21:14:05.102Z"
   },
   {
    "duration": 1286,
    "start_time": "2023-03-02T21:14:06.580Z"
   },
   {
    "duration": 4,
    "start_time": "2023-03-02T21:14:11.245Z"
   },
   {
    "duration": 396843,
    "start_time": "2023-03-02T21:14:13.517Z"
   },
   {
    "duration": 47,
    "start_time": "2023-03-02T21:20:50.365Z"
   },
   {
    "duration": 292,
    "start_time": "2023-03-02T21:20:50.420Z"
   },
   {
    "duration": 41,
    "start_time": "2023-03-02T21:20:50.721Z"
   },
   {
    "duration": 15,
    "start_time": "2023-03-02T21:20:50.770Z"
   },
   {
    "duration": 6,
    "start_time": "2023-03-02T21:20:50.788Z"
   },
   {
    "duration": 430403,
    "start_time": "2023-03-02T21:20:50.796Z"
   },
   {
    "duration": 67,
    "start_time": "2023-03-02T21:28:01.205Z"
   },
   {
    "duration": 211,
    "start_time": "2023-03-02T21:28:01.281Z"
   },
   {
    "duration": 22,
    "start_time": "2023-03-02T21:28:01.561Z"
   },
   {
    "duration": 23,
    "start_time": "2023-03-02T21:28:01.586Z"
   },
   {
    "duration": 1103,
    "start_time": "2023-03-02T21:28:01.611Z"
   },
   {
    "duration": 5,
    "start_time": "2023-03-02T21:28:02.716Z"
   },
   {
    "duration": 39,
    "start_time": "2023-03-02T21:28:02.723Z"
   },
   {
    "duration": 8,
    "start_time": "2023-03-02T21:28:02.764Z"
   },
   {
    "duration": 566,
    "start_time": "2023-03-02T21:28:02.774Z"
   },
   {
    "duration": 23,
    "start_time": "2023-03-02T21:28:03.342Z"
   },
   {
    "duration": 17,
    "start_time": "2023-03-02T21:28:03.367Z"
   },
   {
    "duration": 15,
    "start_time": "2023-03-02T21:28:03.389Z"
   },
   {
    "duration": 13,
    "start_time": "2023-03-02T21:28:03.407Z"
   },
   {
    "duration": 1307,
    "start_time": "2023-03-02T21:28:03.422Z"
   },
   {
    "duration": 0,
    "start_time": "2023-03-02T21:28:04.731Z"
   },
   {
    "duration": 0,
    "start_time": "2023-03-02T21:28:04.733Z"
   },
   {
    "duration": 0,
    "start_time": "2023-03-02T21:28:04.734Z"
   },
   {
    "duration": 0,
    "start_time": "2023-03-02T21:28:04.736Z"
   },
   {
    "duration": 0,
    "start_time": "2023-03-02T21:28:04.738Z"
   },
   {
    "duration": 1658,
    "start_time": "2023-03-02T21:30:27.949Z"
   },
   {
    "duration": 68264,
    "start_time": "2023-03-02T21:30:32.030Z"
   },
   {
    "duration": 5,
    "start_time": "2023-03-02T21:31:40.297Z"
   },
   {
    "duration": 102,
    "start_time": "2023-03-02T21:31:40.305Z"
   },
   {
    "duration": 0,
    "start_time": "2023-03-02T21:31:40.464Z"
   },
   {
    "duration": 0,
    "start_time": "2023-03-02T21:31:40.475Z"
   },
   {
    "duration": 61,
    "start_time": "2023-03-02T21:33:39.925Z"
   },
   {
    "duration": 8,
    "start_time": "2023-03-02T21:33:41.248Z"
   },
   {
    "duration": 1143158,
    "start_time": "2023-03-02T21:33:44.610Z"
   },
   {
    "duration": 7,
    "start_time": "2023-03-02T21:53:40.101Z"
   },
   {
    "duration": 11,
    "start_time": "2023-03-02T21:54:30.812Z"
   },
   {
    "duration": 5,
    "start_time": "2023-03-02T21:54:35.623Z"
   },
   {
    "duration": 20,
    "start_time": "2023-03-02T21:54:45.138Z"
   },
   {
    "duration": 1531221,
    "start_time": "2023-03-02T21:55:19.844Z"
   },
   {
    "duration": 6,
    "start_time": "2023-03-02T23:16:46.997Z"
   },
   {
    "duration": 5,
    "start_time": "2023-03-02T23:17:14.199Z"
   },
   {
    "duration": 2611180,
    "start_time": "2023-03-02T23:19:59.096Z"
   },
   {
    "duration": 6,
    "start_time": "2023-03-03T11:34:18.834Z"
   },
   {
    "duration": 4,
    "start_time": "2023-03-03T11:34:31.327Z"
   },
   {
    "duration": 5,
    "start_time": "2023-03-03T11:35:18.793Z"
   },
   {
    "duration": 4,
    "start_time": "2023-03-03T11:36:31.557Z"
   },
   {
    "duration": 4,
    "start_time": "2023-03-03T11:39:01.531Z"
   },
   {
    "duration": 4,
    "start_time": "2023-03-03T11:40:00.796Z"
   },
   {
    "duration": 4,
    "start_time": "2023-03-03T11:41:09.709Z"
   },
   {
    "duration": 5,
    "start_time": "2023-03-03T11:41:54.364Z"
   },
   {
    "duration": 10,
    "start_time": "2023-03-03T11:42:10.736Z"
   },
   {
    "duration": 5,
    "start_time": "2023-03-03T11:42:15.299Z"
   },
   {
    "duration": 11,
    "start_time": "2023-03-03T11:42:59.395Z"
   },
   {
    "duration": 9,
    "start_time": "2023-03-03T11:43:22.574Z"
   },
   {
    "duration": 4,
    "start_time": "2023-03-03T11:44:32.267Z"
   },
   {
    "duration": 13,
    "start_time": "2023-03-03T11:45:29.287Z"
   },
   {
    "duration": 10,
    "start_time": "2023-03-03T11:46:14.183Z"
   },
   {
    "duration": 10,
    "start_time": "2023-03-03T11:46:39.159Z"
   },
   {
    "duration": 6,
    "start_time": "2023-03-03T11:46:57.904Z"
   },
   {
    "duration": 3,
    "start_time": "2023-03-03T11:47:08.141Z"
   },
   {
    "duration": 6,
    "start_time": "2023-03-03T11:47:18.746Z"
   },
   {
    "duration": 12,
    "start_time": "2023-03-03T11:47:34.037Z"
   },
   {
    "duration": 9482,
    "start_time": "2023-03-03T11:50:55.942Z"
   },
   {
    "duration": 5,
    "start_time": "2023-03-03T12:10:35.811Z"
   },
   {
    "duration": 692,
    "start_time": "2023-03-03T12:10:37.381Z"
   },
   {
    "duration": 1352,
    "start_time": "2023-03-03T12:12:24.972Z"
   },
   {
    "duration": 729,
    "start_time": "2023-03-03T12:12:26.326Z"
   },
   {
    "duration": 9513,
    "start_time": "2023-03-03T12:12:27.057Z"
   },
   {
    "duration": 20,
    "start_time": "2023-03-03T12:12:36.573Z"
   },
   {
    "duration": 103,
    "start_time": "2023-03-03T12:12:36.595Z"
   },
   {
    "duration": 782,
    "start_time": "2023-03-03T12:12:36.700Z"
   },
   {
    "duration": 307041,
    "start_time": "2023-03-03T12:12:43.214Z"
   },
   {
    "duration": 9,
    "start_time": "2023-03-03T12:17:50.258Z"
   },
   {
    "duration": 303,
    "start_time": "2023-03-03T12:17:50.269Z"
   },
   {
    "duration": 136,
    "start_time": "2023-03-03T12:17:50.575Z"
   },
   {
    "duration": 0,
    "start_time": "2023-03-03T12:17:50.713Z"
   },
   {
    "duration": 0,
    "start_time": "2023-03-03T12:17:50.714Z"
   },
   {
    "duration": 0,
    "start_time": "2023-03-03T12:17:50.715Z"
   },
   {
    "duration": 0,
    "start_time": "2023-03-03T12:17:50.716Z"
   },
   {
    "duration": 0,
    "start_time": "2023-03-03T12:17:50.717Z"
   },
   {
    "duration": 0,
    "start_time": "2023-03-03T12:17:50.718Z"
   },
   {
    "duration": 0,
    "start_time": "2023-03-03T12:17:50.719Z"
   },
   {
    "duration": 0,
    "start_time": "2023-03-03T12:17:50.720Z"
   },
   {
    "duration": 0,
    "start_time": "2023-03-03T12:17:50.721Z"
   },
   {
    "duration": 0,
    "start_time": "2023-03-03T12:17:50.723Z"
   },
   {
    "duration": 0,
    "start_time": "2023-03-03T12:17:50.723Z"
   },
   {
    "duration": 0,
    "start_time": "2023-03-03T12:17:50.724Z"
   },
   {
    "duration": 0,
    "start_time": "2023-03-03T12:17:50.725Z"
   },
   {
    "duration": 0,
    "start_time": "2023-03-03T12:17:50.726Z"
   },
   {
    "duration": 0,
    "start_time": "2023-03-03T12:17:50.727Z"
   },
   {
    "duration": 0,
    "start_time": "2023-03-03T12:17:50.756Z"
   },
   {
    "duration": 0,
    "start_time": "2023-03-03T12:17:50.757Z"
   },
   {
    "duration": 0,
    "start_time": "2023-03-03T12:17:50.758Z"
   },
   {
    "duration": 0,
    "start_time": "2023-03-03T12:17:50.759Z"
   },
   {
    "duration": 0,
    "start_time": "2023-03-03T12:17:50.761Z"
   },
   {
    "duration": 0,
    "start_time": "2023-03-03T12:17:50.762Z"
   },
   {
    "duration": 9,
    "start_time": "2023-03-03T12:18:40.121Z"
   },
   {
    "duration": 13,
    "start_time": "2023-03-03T12:18:51.333Z"
   },
   {
    "duration": 3,
    "start_time": "2023-03-03T12:19:03.337Z"
   },
   {
    "duration": 12,
    "start_time": "2023-03-03T12:19:10.164Z"
   },
   {
    "duration": 3,
    "start_time": "2023-03-03T12:19:13.662Z"
   },
   {
    "duration": 3,
    "start_time": "2023-03-03T12:19:14.008Z"
   },
   {
    "duration": 256104,
    "start_time": "2023-03-03T12:19:17.458Z"
   },
   {
    "duration": 97,
    "start_time": "2023-03-03T12:23:33.564Z"
   },
   {
    "duration": 209,
    "start_time": "2023-03-03T12:23:33.663Z"
   },
   {
    "duration": 85,
    "start_time": "2023-03-03T12:23:33.875Z"
   },
   {
    "duration": 11,
    "start_time": "2023-03-03T12:23:33.962Z"
   },
   {
    "duration": 816,
    "start_time": "2023-03-03T12:23:33.975Z"
   },
   {
    "duration": 4,
    "start_time": "2023-03-03T12:23:34.792Z"
   },
   {
    "duration": 24,
    "start_time": "2023-03-03T12:23:34.797Z"
   },
   {
    "duration": 6,
    "start_time": "2023-03-03T12:23:34.823Z"
   },
   {
    "duration": 449,
    "start_time": "2023-03-03T12:23:34.831Z"
   },
   {
    "duration": 4,
    "start_time": "2023-03-03T12:23:35.281Z"
   },
   {
    "duration": 19,
    "start_time": "2023-03-03T12:23:35.287Z"
   },
   {
    "duration": 11,
    "start_time": "2023-03-03T12:23:35.308Z"
   },
   {
    "duration": 17,
    "start_time": "2023-03-03T12:23:35.321Z"
   },
   {
    "duration": 1245,
    "start_time": "2023-03-03T12:23:35.340Z"
   },
   {
    "duration": 29073,
    "start_time": "2023-03-03T12:23:36.587Z"
   },
   {
    "duration": 8,
    "start_time": "2023-03-03T12:24:05.662Z"
   },
   {
    "duration": 95,
    "start_time": "2023-03-03T12:24:05.673Z"
   },
   {
    "duration": 10,
    "start_time": "2023-03-03T12:24:05.856Z"
   },
   {
    "duration": 11,
    "start_time": "2023-03-03T12:24:05.868Z"
   },
   {
    "duration": 1035600,
    "start_time": "2023-03-03T12:24:05.882Z"
   },
   {
    "duration": 11,
    "start_time": "2023-03-03T16:17:06.530Z"
   },
   {
    "duration": 28,
    "start_time": "2023-03-03T16:18:43.838Z"
   },
   {
    "duration": 20,
    "start_time": "2023-03-03T16:20:02.493Z"
   },
   {
    "duration": 645,
    "start_time": "2023-03-03T16:20:56.681Z"
   },
   {
    "duration": 12,
    "start_time": "2023-03-03T16:21:10.689Z"
   },
   {
    "duration": 2,
    "start_time": "2023-03-03T16:21:36.845Z"
   },
   {
    "duration": 13,
    "start_time": "2023-03-03T16:21:42.464Z"
   },
   {
    "duration": 2897,
    "start_time": "2023-03-03T16:21:56.271Z"
   },
   {
    "duration": 4,
    "start_time": "2023-03-03T16:22:11.204Z"
   },
   {
    "duration": 4,
    "start_time": "2023-03-03T16:23:12.475Z"
   },
   {
    "duration": 4,
    "start_time": "2023-03-03T16:23:26.198Z"
   },
   {
    "duration": 1300,
    "start_time": "2023-03-03T16:24:00.239Z"
   },
   {
    "duration": 744,
    "start_time": "2023-03-03T16:24:01.541Z"
   },
   {
    "duration": 108,
    "start_time": "2023-03-03T16:24:02.287Z"
   },
   {
    "duration": 46,
    "start_time": "2023-03-03T16:24:02.396Z"
   },
   {
    "duration": 108,
    "start_time": "2023-03-03T16:24:02.444Z"
   },
   {
    "duration": 60,
    "start_time": "2023-03-03T16:24:02.553Z"
   },
   {
    "duration": 59,
    "start_time": "2023-03-03T16:24:02.614Z"
   },
   {
    "duration": 28,
    "start_time": "2023-03-03T16:24:02.675Z"
   },
   {
    "duration": 55,
    "start_time": "2023-03-03T16:24:02.704Z"
   },
   {
    "duration": 23,
    "start_time": "2023-03-03T16:24:02.760Z"
   },
   {
    "duration": 20,
    "start_time": "2023-03-03T16:24:02.784Z"
   },
   {
    "duration": 26,
    "start_time": "2023-03-03T16:24:02.805Z"
   },
   {
    "duration": 8423,
    "start_time": "2023-03-03T16:24:02.832Z"
   },
   {
    "duration": 25,
    "start_time": "2023-03-03T16:24:11.258Z"
   },
   {
    "duration": 270,
    "start_time": "2023-03-03T16:24:11.285Z"
   },
   {
    "duration": 4,
    "start_time": "2023-03-03T16:24:11.557Z"
   },
   {
    "duration": 217,
    "start_time": "2023-03-03T16:24:11.563Z"
   },
   {
    "duration": 59,
    "start_time": "2023-03-03T16:24:11.782Z"
   },
   {
    "duration": 50,
    "start_time": "2023-03-03T16:24:11.843Z"
   },
   {
    "duration": 72,
    "start_time": "2023-03-03T16:24:11.894Z"
   },
   {
    "duration": 32,
    "start_time": "2023-03-03T16:24:11.968Z"
   },
   {
    "duration": 3,
    "start_time": "2023-03-03T16:24:12.002Z"
   },
   {
    "duration": 8658,
    "start_time": "2023-03-03T16:24:12.007Z"
   },
   {
    "duration": 58,
    "start_time": "2023-03-03T16:24:20.667Z"
   },
   {
    "duration": 31,
    "start_time": "2023-03-03T16:24:20.726Z"
   },
   {
    "duration": 28,
    "start_time": "2023-03-03T16:24:20.759Z"
   },
   {
    "duration": 15,
    "start_time": "2023-03-03T16:24:20.789Z"
   },
   {
    "duration": 77,
    "start_time": "2023-03-03T16:24:20.806Z"
   },
   {
    "duration": 31,
    "start_time": "2023-03-03T16:24:20.885Z"
   },
   {
    "duration": 17,
    "start_time": "2023-03-03T16:24:20.918Z"
   },
   {
    "duration": 72,
    "start_time": "2023-03-03T16:24:20.937Z"
   },
   {
    "duration": 47,
    "start_time": "2023-03-03T16:24:21.011Z"
   },
   {
    "duration": 16,
    "start_time": "2023-03-03T16:24:21.060Z"
   },
   {
    "duration": 76,
    "start_time": "2023-03-03T16:24:21.077Z"
   },
   {
    "duration": 2,
    "start_time": "2023-03-03T16:24:21.155Z"
   },
   {
    "duration": 71,
    "start_time": "2023-03-03T16:24:21.158Z"
   },
   {
    "duration": 3,
    "start_time": "2023-03-03T16:24:21.231Z"
   },
   {
    "duration": 2172,
    "start_time": "2023-03-03T16:24:21.235Z"
   },
   {
    "duration": 16,
    "start_time": "2023-03-03T16:24:23.410Z"
   },
   {
    "duration": 30,
    "start_time": "2023-03-03T16:24:23.427Z"
   },
   {
    "duration": 6,
    "start_time": "2023-03-03T16:24:23.461Z"
   },
   {
    "duration": 95,
    "start_time": "2023-03-03T16:24:23.469Z"
   },
   {
    "duration": 2110,
    "start_time": "2023-03-03T16:24:23.566Z"
   },
   {
    "duration": 32,
    "start_time": "2023-03-03T16:24:25.678Z"
   },
   {
    "duration": 57,
    "start_time": "2023-03-03T16:24:25.712Z"
   },
   {
    "duration": 9,
    "start_time": "2023-03-03T16:24:25.771Z"
   },
   {
    "duration": 77,
    "start_time": "2023-03-03T16:24:25.781Z"
   },
   {
    "duration": 14,
    "start_time": "2023-03-03T16:24:25.859Z"
   },
   {
    "duration": 12,
    "start_time": "2023-03-03T16:24:25.874Z"
   },
   {
    "duration": 78,
    "start_time": "2023-03-03T16:24:25.887Z"
   },
   {
    "duration": 130,
    "start_time": "2023-03-03T16:24:25.966Z"
   },
   {
    "duration": 9,
    "start_time": "2023-03-03T16:24:26.097Z"
   },
   {
    "duration": 457,
    "start_time": "2023-03-03T16:24:26.108Z"
   },
   {
    "duration": 1388,
    "start_time": "2023-03-04T08:44:42.182Z"
   },
   {
    "duration": 1086,
    "start_time": "2023-03-04T08:44:43.572Z"
   },
   {
    "duration": 132,
    "start_time": "2023-03-04T08:44:44.660Z"
   },
   {
    "duration": 139,
    "start_time": "2023-03-04T08:45:22.454Z"
   },
   {
    "duration": 10,
    "start_time": "2023-03-04T08:45:29.604Z"
   },
   {
    "duration": 322,
    "start_time": "2023-03-04T08:45:36.441Z"
   },
   {
    "duration": 1307,
    "start_time": "2023-03-06T12:07:01.232Z"
   },
   {
    "duration": 2849,
    "start_time": "2023-03-06T12:07:02.541Z"
   },
   {
    "duration": 107,
    "start_time": "2023-03-06T12:07:06.663Z"
   },
   {
    "duration": 20,
    "start_time": "2023-03-06T12:07:09.495Z"
   },
   {
    "duration": 287,
    "start_time": "2023-03-06T12:07:13.395Z"
   },
   {
    "duration": 47,
    "start_time": "2023-03-06T12:10:19.229Z"
   },
   {
    "duration": 8352,
    "start_time": "2023-03-06T12:10:27.436Z"
   },
   {
    "duration": 25,
    "start_time": "2023-03-06T12:10:35.789Z"
   },
   {
    "duration": 258,
    "start_time": "2023-03-06T12:10:35.815Z"
   },
   {
    "duration": 235,
    "start_time": "2023-03-06T12:10:36.075Z"
   },
   {
    "duration": 48,
    "start_time": "2023-03-06T12:10:36.311Z"
   },
   {
    "duration": 8476,
    "start_time": "2023-03-06T12:10:44.932Z"
   },
   {
    "duration": 15,
    "start_time": "2023-03-06T12:10:53.410Z"
   },
   {
    "duration": 21,
    "start_time": "2023-03-06T12:10:55.018Z"
   },
   {
    "duration": 18,
    "start_time": "2023-03-06T12:10:57.595Z"
   },
   {
    "duration": 18,
    "start_time": "2023-03-06T12:11:00.136Z"
   },
   {
    "duration": 43,
    "start_time": "2023-03-06T12:11:06.356Z"
   },
   {
    "duration": 21,
    "start_time": "2023-03-06T12:11:21.292Z"
   },
   {
    "duration": 18,
    "start_time": "2023-03-06T12:11:24.717Z"
   },
   {
    "duration": 9,
    "start_time": "2023-03-06T12:11:28.791Z"
   },
   {
    "duration": 413,
    "start_time": "2023-03-06T12:11:29.212Z"
   },
   {
    "duration": 30556,
    "start_time": "2023-03-06T12:11:37.135Z"
   },
   {
    "duration": 16,
    "start_time": "2023-03-06T12:12:07.693Z"
   },
   {
    "duration": 27,
    "start_time": "2023-03-06T12:12:07.710Z"
   },
   {
    "duration": 21,
    "start_time": "2023-03-06T12:12:07.739Z"
   },
   {
    "duration": 72,
    "start_time": "2023-03-06T12:12:07.762Z"
   },
   {
    "duration": 783,
    "start_time": "2023-03-06T12:12:08.722Z"
   },
   {
    "duration": 4160,
    "start_time": "2023-03-06T12:12:27.097Z"
   },
   {
    "duration": 96,
    "start_time": "2023-03-06T12:12:39.033Z"
   },
   {
    "duration": 3,
    "start_time": "2023-03-06T12:12:46.199Z"
   },
   {
    "duration": 150,
    "start_time": "2023-03-06T12:12:51.406Z"
   }
  ],
  "kernelspec": {
   "display_name": "Python 3 (ipykernel)",
   "language": "python",
   "name": "python3"
  },
  "language_info": {
   "codemirror_mode": {
    "name": "ipython",
    "version": 3
   },
   "file_extension": ".py",
   "mimetype": "text/x-python",
   "name": "python",
   "nbconvert_exporter": "python",
   "pygments_lexer": "ipython3",
   "version": "3.9.7"
  },
  "toc": {
   "base_numbering": 1,
   "nav_menu": {},
   "number_sections": true,
   "sideBar": true,
   "skip_h1_title": true,
   "title_cell": "Table of Contents",
   "title_sidebar": "Contents",
   "toc_cell": false,
   "toc_position": {},
   "toc_section_display": true,
   "toc_window_display": false
  }
 },
 "nbformat": 4,
 "nbformat_minor": 2
}
