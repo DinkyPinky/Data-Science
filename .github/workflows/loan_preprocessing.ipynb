{
 "cells": [
  {
   "cell_type": "markdown",
   "id": "bd184f4f",
   "metadata": {
    "deletable": false,
    "editable": false,
    "id": "c81daeeb"
   },
   "source": [
    "# Исследование надежности заемщиков"
   ]
  },
  {
   "cell_type": "markdown",
   "id": "5396cbae",
   "metadata": {
    "deletable": false,
    "editable": false,
    "id": "-G3EJWzf62s6"
   },
   "source": [
    "Это первая часть проекта, она будет проверена автоматически. Вторую часть проверит ревьюер. "
   ]
  },
  {
   "cell_type": "markdown",
   "id": "d9c199bb",
   "metadata": {
    "deletable": false,
    "editable": false,
    "id": "744d7639"
   },
   "source": [
    "## Откройте таблицу и изучите общую информацию о данных"
   ]
  },
  {
   "cell_type": "markdown",
   "id": "d24ac949",
   "metadata": {
    "deletable": false,
    "editable": false,
    "id": "e7a14c31",
    "tags": [
     "start_task"
    ]
   },
   "source": [
    "**Задание 1. Импортируйте библиотеку pandas. Считайте данные из csv-файла в датафрейм и сохраните в переменную `data`. Путь к файлу:**\n",
    "\n",
    "`/datasets/data.csv`"
   ]
  },
  {
   "cell_type": "code",
   "execution_count": 1,
   "id": "9b4849f2",
   "metadata": {
    "id": "7bcf75c9"
   },
   "outputs": [],
   "source": [
    "import pandas as pd"
   ]
  },
  {
   "cell_type": "code",
   "execution_count": 11,
   "id": "98d0c0b3",
   "metadata": {
    "id": "4d240ee2"
   },
   "outputs": [],
   "source": [
    "data = pd.read_csv('/datasets/data.csv')"
   ]
  },
  {
   "cell_type": "markdown",
   "id": "87d16b56",
   "metadata": {
    "deletable": false,
    "editable": false,
    "id": "b8038fe3",
    "tags": [
     "start_task"
    ]
   },
   "source": [
    "**Задание 2. Выведите первые 20 строчек датафрейма `data` на экран.**"
   ]
  },
  {
   "cell_type": "code",
   "execution_count": null,
   "id": "6770cd18",
   "metadata": {
    "id": "2a7cab99"
   },
   "outputs": [],
   "source": [
    "data.head(20)"
   ]
  },
  {
   "cell_type": "markdown",
   "id": "fc5e9880",
   "metadata": {
    "deletable": false,
    "editable": false,
    "id": "1c12e233",
    "tags": [
     "start_task"
    ]
   },
   "source": [
    "**Задание 3. Выведите основную информацию о датафрейме с помощью метода `info()`.**"
   ]
  },
  {
   "cell_type": "code",
   "execution_count": null,
   "id": "6595bdf7",
   "metadata": {
    "id": "2b757bca"
   },
   "outputs": [],
   "source": [
    "data.info()"
   ]
  },
  {
   "cell_type": "markdown",
   "id": "6b8f9d61",
   "metadata": {
    "deletable": false,
    "editable": false,
    "id": "333ec665"
   },
   "source": [
    "## Предобработка данных"
   ]
  },
  {
   "cell_type": "markdown",
   "id": "a8839300",
   "metadata": {
    "deletable": false,
    "editable": false,
    "id": "02d92d53"
   },
   "source": [
    "### Удаление пропусков"
   ]
  },
  {
   "cell_type": "markdown",
   "id": "ad7d17c2",
   "metadata": {
    "deletable": false,
    "editable": false,
    "id": "cd84967c",
    "tags": [
     "start_task"
    ]
   },
   "source": [
    "**Задание 4. Выведите количество пропущенных значений для каждого столбца. Используйте комбинацию двух методов.**"
   ]
  },
  {
   "cell_type": "code",
   "execution_count": null,
   "id": "986590fe",
   "metadata": {
    "id": "7f9b2309"
   },
   "outputs": [],
   "source": [
    "data.isnull().sum()"
   ]
  },
  {
   "cell_type": "markdown",
   "id": "5396b869",
   "metadata": {
    "deletable": false,
    "editable": false,
    "id": "db86e27b",
    "tags": [
     "start_task"
    ]
   },
   "source": [
    "**Задание 5. В двух столбцах есть пропущенные значения. Один из них — `days_employed`. Пропуски в этом столбце вы обработаете на следующем этапе. Другой столбец с пропущенными значениями — `total_income` — хранит данные о доходах. На сумму дохода сильнее всего влияет тип занятости, поэтому заполнить пропуски в этом столбце нужно медианным значением по каждому типу из столбца `income_type`. Например, у человека с типом занятости `сотрудник` пропуск в столбце `total_income` должен быть заполнен медианным доходом среди всех записей с тем же типом.**"
   ]
  },
  {
   "cell_type": "code",
   "execution_count": 12,
   "id": "52507579",
   "metadata": {},
   "outputs": [
    {
     "data": {
      "text/plain": [
       "children               0\n",
       "days_employed       2174\n",
       "dob_years              0\n",
       "education              0\n",
       "education_id           0\n",
       "family_status          0\n",
       "family_status_id       0\n",
       "gender                 0\n",
       "income_type            0\n",
       "debt                   0\n",
       "total_income           0\n",
       "purpose                0\n",
       "dtype: int64"
      ]
     },
     "execution_count": 12,
     "metadata": {},
     "output_type": "execute_result"
    }
   ],
   "source": [
    "income = data.groupby('income_type')['total_income'].median()\n",
    "for t in data['income_type'].unique():\n",
    "    data.loc[(data['income_type'] == t) & (data['total_income'].isnull() == True), 'total_income'] = income[t]\n",
    "data.isnull().sum()"
   ]
  },
  {
   "cell_type": "markdown",
   "id": "e1ff436c",
   "metadata": {
    "deletable": false,
    "editable": false,
    "id": "89da5ece"
   },
   "source": [
    "### Обработка аномальных значений"
   ]
  },
  {
   "cell_type": "markdown",
   "id": "d04d6e82",
   "metadata": {
    "deletable": false,
    "editable": false,
    "id": "57964554",
    "tags": [
     "start_task"
    ]
   },
   "source": [
    "**Задание 6. В данных могут встречаться артефакты (аномалии) — значения, которые не отражают действительность и появились по какой-то ошибке. Таким артефактом будет отрицательное количество дней трудового стажа в столбце `days_employed`. Для реальных данных это нормально. Обработайте значения в этом столбце: замените все отрицательные значения положительными с помощью метода `abs()`.**"
   ]
  },
  {
   "cell_type": "code",
   "execution_count": 13,
   "id": "a5836db8",
   "metadata": {
    "id": "f6f055bf"
   },
   "outputs": [],
   "source": [
    "data['days_employed'] = abs(data['days_employed'])\n",
    "        "
   ]
  },
  {
   "cell_type": "markdown",
   "id": "6713783f",
   "metadata": {
    "deletable": false,
    "editable": false,
    "id": "6107dd2f",
    "tags": [
     "start_task"
    ]
   },
   "source": [
    "**Задание 7. Для каждого типа занятости выведите медианное значение трудового стажа `days_employed` в днях.**"
   ]
  },
  {
   "cell_type": "code",
   "execution_count": null,
   "id": "279e8c65",
   "metadata": {
    "id": "85a5faf6"
   },
   "outputs": [],
   "source": [
    "data['days_employed'].groupby(data['income_type']).median()"
   ]
  },
  {
   "cell_type": "markdown",
   "id": "c2d40629",
   "metadata": {
    "deletable": false,
    "editable": false,
    "id": "38d1a030"
   },
   "source": [
    "У двух типов (безработные и пенсионеры) получатся аномально большие значения. Исправить такие значения сложно, поэтому оставьте их как есть. Тем более этот столбец не понадобится вам для исследования."
   ]
  },
  {
   "cell_type": "markdown",
   "id": "fc8ae519",
   "metadata": {
    "deletable": false,
    "editable": false,
    "id": "d8a9f147",
    "tags": [
     "start_task"
    ]
   },
   "source": [
    "**Задание 8. Выведите перечень уникальных значений столбца `children`.**"
   ]
  },
  {
   "cell_type": "code",
   "execution_count": null,
   "id": "f8915183",
   "metadata": {
    "id": "ef5056eb"
   },
   "outputs": [],
   "source": [
    "data['children'].unique()"
   ]
  },
  {
   "cell_type": "markdown",
   "id": "f921f121",
   "metadata": {
    "deletable": false,
    "editable": false,
    "id": "40b9ebf2",
    "tags": [
     "start_task"
    ]
   },
   "source": [
    "**Задание 9. В столбце `children` есть два аномальных значения. Удалите строки, в которых встречаются такие аномальные значения из датафрейма `data`.**"
   ]
  },
  {
   "cell_type": "code",
   "execution_count": 14,
   "id": "94219701",
   "metadata": {
    "id": "3ff9801d"
   },
   "outputs": [],
   "source": [
    "data = data[(data['children'] != -1) & (data['children'] != 20)]\n",
    "\n"
   ]
  },
  {
   "cell_type": "markdown",
   "id": "9910f2e5",
   "metadata": {
    "deletable": false,
    "editable": false,
    "id": "bbc4d0ce",
    "tags": [
     "start_task"
    ]
   },
   "source": [
    "**Задание 10. Ещё раз выведите перечень уникальных значений столбца `children`, чтобы убедиться, что артефакты удалены.**"
   ]
  },
  {
   "cell_type": "code",
   "execution_count": null,
   "id": "5a968b87",
   "metadata": {
    "id": "ad4fa8b7"
   },
   "outputs": [],
   "source": [
    "data['children'].unique()"
   ]
  },
  {
   "cell_type": "markdown",
   "id": "2974bf42",
   "metadata": {
    "deletable": false,
    "editable": false,
    "id": "75440b63"
   },
   "source": [
    "### Удаление пропусков (продолжение)"
   ]
  },
  {
   "cell_type": "markdown",
   "id": "4e443744",
   "metadata": {
    "deletable": false,
    "editable": false,
    "id": "f4ea573f",
    "tags": [
     "start_task"
    ]
   },
   "source": [
    "**Задание 11. Заполните пропуски в столбце `days_employed` медианными значениями по каждому типу занятости `income_type`.**"
   ]
  },
  {
   "cell_type": "code",
   "execution_count": 15,
   "id": "9dbcc24b",
   "metadata": {
    "id": "af6b1a7e"
   },
   "outputs": [],
   "source": [
    "income = data.groupby('income_type')['days_employed'].median()\n",
    "for t in data['income_type'].unique():\n",
    "    data.loc[(data['income_type'] == t) & (data['days_employed'].isna()), 'days_employed'] = income[t]"
   ]
  },
  {
   "cell_type": "markdown",
   "id": "e8c51f22",
   "metadata": {
    "deletable": false,
    "editable": false,
    "id": "2753f40d",
    "tags": [
     "start_task"
    ]
   },
   "source": [
    "**Задание 12. Убедитесь, что все пропуски заполнены. Проверьте себя и ещё раз выведите количество пропущенных значений для каждого столбца с помощью двух методов.**"
   ]
  },
  {
   "cell_type": "code",
   "execution_count": 8,
   "id": "9d549c2e",
   "metadata": {
    "id": "55f78bc2"
   },
   "outputs": [
    {
     "data": {
      "text/plain": [
       "children            0\n",
       "days_employed       0\n",
       "dob_years           0\n",
       "education           0\n",
       "education_id        0\n",
       "family_status       0\n",
       "family_status_id    0\n",
       "gender              0\n",
       "income_type         0\n",
       "debt                0\n",
       "total_income        0\n",
       "purpose             0\n",
       "dtype: int64"
      ]
     },
     "execution_count": 8,
     "metadata": {},
     "output_type": "execute_result"
    }
   ],
   "source": [
    "data.isnull().sum()"
   ]
  },
  {
   "cell_type": "markdown",
   "id": "785dc389",
   "metadata": {
    "deletable": false,
    "editable": false,
    "id": "ddc81e43"
   },
   "source": [
    "### Изменение типов данных"
   ]
  },
  {
   "cell_type": "markdown",
   "id": "6ce3be82",
   "metadata": {
    "deletable": false,
    "editable": false,
    "id": "42d19d24",
    "tags": [
     "start_task"
    ]
   },
   "source": [
    "**Задание 13. Замените вещественный тип данных в столбце `total_income` на целочисленный с помощью метода `astype()`.**"
   ]
  },
  {
   "cell_type": "code",
   "execution_count": 16,
   "id": "97bc885b",
   "metadata": {
    "id": "920b65ad"
   },
   "outputs": [],
   "source": [
    "data['total_income'] = data['total_income'].astype(int)"
   ]
  },
  {
   "cell_type": "markdown",
   "id": "014148ce",
   "metadata": {
    "deletable": false,
    "editable": false,
    "id": "80c420ba"
   },
   "source": [
    "### Обработка дубликатов"
   ]
  },
  {
   "cell_type": "markdown",
   "id": "bc140a2d",
   "metadata": {
    "deletable": false,
    "editable": false,
    "tags": [
     "start_task"
    ]
   },
   "source": [
    "**Задание 14. Обработайте неявные дубликаты в столбце `education`. В этом столбце есть одни и те же значения, но записанные по-разному: с использованием заглавных и строчных букв. Приведите их к нижнему регистру. Проверьте остальные столбцы.**"
   ]
  },
  {
   "cell_type": "code",
   "execution_count": 17,
   "id": "ad28fd0d",
   "metadata": {},
   "outputs": [],
   "source": [
    "data['education'] = data['education'].str.lower()"
   ]
  },
  {
   "cell_type": "markdown",
   "id": "593a8246",
   "metadata": {
    "deletable": false,
    "editable": false,
    "id": "dc587695",
    "tags": [
     "start_task"
    ]
   },
   "source": [
    "**Задание 15. Выведите на экран количество строк-дубликатов в данных. Если такие строки присутствуют, удалите их.**"
   ]
  },
  {
   "cell_type": "code",
   "execution_count": 20,
   "id": "356c60b8",
   "metadata": {
    "id": "3ee445e4"
   },
   "outputs": [
    {
     "data": {
      "text/plain": [
       "0        False\n",
       "1        False\n",
       "2        False\n",
       "3        False\n",
       "4        False\n",
       "         ...  \n",
       "21520    False\n",
       "21521    False\n",
       "21522    False\n",
       "21523    False\n",
       "21524    False\n",
       "Length: 21331, dtype: bool"
      ]
     },
     "execution_count": 20,
     "metadata": {},
     "output_type": "execute_result"
    }
   ],
   "source": [
    "data.duplicated()"
   ]
  },
  {
   "cell_type": "code",
   "execution_count": 19,
   "id": "92261aae",
   "metadata": {
    "id": "8575fe05"
   },
   "outputs": [],
   "source": [
    "data = data.drop_duplicates(keep='first')"
   ]
  },
  {
   "cell_type": "markdown",
   "id": "b7ba1c71",
   "metadata": {
    "deletable": false,
    "editable": false,
    "id": "9904cf55"
   },
   "source": [
    "### Категоризация данных"
   ]
  },
  {
   "cell_type": "markdown",
   "id": "ae0c33a5",
   "metadata": {
    "deletable": false,
    "editable": false,
    "id": "72fcc8a2",
    "tags": [
     "start_task"
    ]
   },
   "source": [
    "**Задание 16. На основании диапазонов, указанных ниже, создайте в датафрейме `data` столбец `total_income_category` с категориями:**\n",
    "\n",
    "- 0–30000 — `'E'`;\n",
    "- 30001–50000 — `'D'`;\n",
    "- 50001–200000 — `'C'`;\n",
    "- 200001–1000000 — `'B'`;\n",
    "- 1000001 и выше — `'A'`.\n",
    "\n",
    "\n",
    "**Например, кредитополучателю с доходом 25000 нужно назначить категорию `'E'`, а клиенту, получающему 235000, — `'B'`. Используйте собственную функцию с именем `categorize_income()` и метод `apply()`.**"
   ]
  },
  {
   "cell_type": "code",
   "execution_count": 30,
   "id": "de74f3fa",
   "metadata": {
    "id": "e1771346"
   },
   "outputs": [],
   "source": [
    "def categorize_income(data):\n",
    "    a = 0\n",
    "    if data <= 30000:\n",
    "        a = 'E'\n",
    "    if 30001 <= data <= 50000:\n",
    "        a = 'D'\n",
    "    if 50001 <= data <= 200000:\n",
    "        a = 'C'\n",
    "    if 200001 <= data <= 1000000:\n",
    "        a = 'B'\n",
    "    if 1000001 <= data:\n",
    "        a = 'A'\n",
    "    return a"
   ]
  },
  {
   "cell_type": "code",
   "execution_count": 31,
   "id": "ed6e37e1",
   "metadata": {
    "id": "d5f3586d"
   },
   "outputs": [],
   "source": [
    "data['total_income_category'] = data['total_income'].apply(categorize_income)"
   ]
  },
  {
   "cell_type": "markdown",
   "id": "28201dc5",
   "metadata": {
    "deletable": false,
    "editable": false,
    "id": "dde49b5c",
    "tags": [
     "start_task"
    ]
   },
   "source": [
    "**Задание 17. Выведите на экран перечень уникальных целей взятия кредита из столбца `purpose`.**"
   ]
  },
  {
   "cell_type": "code",
   "execution_count": 32,
   "id": "5692d2d5",
   "metadata": {
    "id": "f67ce9b3"
   },
   "outputs": [
    {
     "data": {
      "text/plain": [
       "array(['покупка жилья', 'приобретение автомобиля',\n",
       "       'дополнительное образование', 'сыграть свадьбу',\n",
       "       'операции с жильем', 'образование', 'на проведение свадьбы',\n",
       "       'покупка жилья для семьи', 'покупка недвижимости',\n",
       "       'покупка коммерческой недвижимости', 'покупка жилой недвижимости',\n",
       "       'строительство собственной недвижимости', 'недвижимость',\n",
       "       'строительство недвижимости', 'на покупку подержанного автомобиля',\n",
       "       'на покупку своего автомобиля',\n",
       "       'операции с коммерческой недвижимостью',\n",
       "       'строительство жилой недвижимости', 'жилье',\n",
       "       'операции со своей недвижимостью', 'автомобили',\n",
       "       'заняться образованием', 'сделка с подержанным автомобилем',\n",
       "       'получение образования', 'автомобиль', 'свадьба',\n",
       "       'получение дополнительного образования', 'покупка своего жилья',\n",
       "       'операции с недвижимостью', 'получение высшего образования',\n",
       "       'свой автомобиль', 'сделка с автомобилем',\n",
       "       'профильное образование', 'высшее образование',\n",
       "       'покупка жилья для сдачи', 'на покупку автомобиля', 'ремонт жилью',\n",
       "       'заняться высшим образованием'], dtype=object)"
      ]
     },
     "execution_count": 32,
     "metadata": {},
     "output_type": "execute_result"
    }
   ],
   "source": [
    "data['purpose'].unique()"
   ]
  },
  {
   "cell_type": "markdown",
   "id": "28b3ba82",
   "metadata": {
    "deletable": false,
    "editable": false,
    "id": "85d0aef0",
    "tags": [
     "start_task"
    ]
   },
   "source": [
    "**Задание 18. Создайте функцию, которая на основании данных из столбца `purpose` сформирует новый столбец `purpose_category`, в который войдут следующие категории:**\n",
    "\n",
    "- `'операции с автомобилем'`,\n",
    "- `'операции с недвижимостью'`,\n",
    "- `'проведение свадьбы'`,\n",
    "- `'получение образования'`.\n",
    "\n",
    "**Например, если в столбце `purpose` находится подстрока `'на покупку автомобиля'`, то в столбце `purpose_category` должна появиться строка `'операции с автомобилем'`.**\n",
    "\n",
    "**Используйте собственную функцию с именем `categorize_purpose()` и метод `apply()`. Изучите данные в столбце `purpose` и определите, какие подстроки помогут вам правильно определить категорию.**"
   ]
  },
  {
   "cell_type": "code",
   "execution_count": 37,
   "id": "5eff4864",
   "metadata": {
    "id": "e149fab4"
   },
   "outputs": [],
   "source": [
    "def categorize_purpose(purp):\n",
    "    if 'автомобил' in purp:\n",
    "        return('операции с автомобилем')\n",
    "    if 'недвиж' in purp or 'жиль' in purp:\n",
    "        return('операции с недвижимостью')\n",
    "    if 'свадьб' in purp:\n",
    "        return('проведение свадьбы')\n",
    "    if 'образ' in purp:\n",
    "        return('получение образования')\n",
    "        \n",
    "        "
   ]
  },
  {
   "cell_type": "code",
   "execution_count": 38,
   "id": "5f9ed19a",
   "metadata": {
    "id": "bf36e69b"
   },
   "outputs": [],
   "source": [
    "data['purpose_category'] = data['purpose'].apply(categorize_purpose)"
   ]
  },
  {
   "cell_type": "code",
   "execution_count": 39,
   "id": "e0e72b8c",
   "metadata": {},
   "outputs": [
    {
     "data": {
      "text/html": [
       "<div>\n",
       "<style scoped>\n",
       "    .dataframe tbody tr th:only-of-type {\n",
       "        vertical-align: middle;\n",
       "    }\n",
       "\n",
       "    .dataframe tbody tr th {\n",
       "        vertical-align: top;\n",
       "    }\n",
       "\n",
       "    .dataframe thead th {\n",
       "        text-align: right;\n",
       "    }\n",
       "</style>\n",
       "<table border=\"1\" class=\"dataframe\">\n",
       "  <thead>\n",
       "    <tr style=\"text-align: right;\">\n",
       "      <th></th>\n",
       "      <th>children</th>\n",
       "      <th>days_employed</th>\n",
       "      <th>dob_years</th>\n",
       "      <th>education</th>\n",
       "      <th>education_id</th>\n",
       "      <th>family_status</th>\n",
       "      <th>family_status_id</th>\n",
       "      <th>gender</th>\n",
       "      <th>income_type</th>\n",
       "      <th>debt</th>\n",
       "      <th>total_income</th>\n",
       "      <th>purpose</th>\n",
       "      <th>total_income_category</th>\n",
       "      <th>purpose_category</th>\n",
       "    </tr>\n",
       "  </thead>\n",
       "  <tbody>\n",
       "    <tr>\n",
       "      <th>0</th>\n",
       "      <td>1</td>\n",
       "      <td>8437.673028</td>\n",
       "      <td>42</td>\n",
       "      <td>высшее</td>\n",
       "      <td>0</td>\n",
       "      <td>женат / замужем</td>\n",
       "      <td>0</td>\n",
       "      <td>F</td>\n",
       "      <td>сотрудник</td>\n",
       "      <td>0</td>\n",
       "      <td>253875</td>\n",
       "      <td>покупка жилья</td>\n",
       "      <td>B</td>\n",
       "      <td>операции с недвижимостью</td>\n",
       "    </tr>\n",
       "    <tr>\n",
       "      <th>1</th>\n",
       "      <td>1</td>\n",
       "      <td>4024.803754</td>\n",
       "      <td>36</td>\n",
       "      <td>среднее</td>\n",
       "      <td>1</td>\n",
       "      <td>женат / замужем</td>\n",
       "      <td>0</td>\n",
       "      <td>F</td>\n",
       "      <td>сотрудник</td>\n",
       "      <td>0</td>\n",
       "      <td>112080</td>\n",
       "      <td>приобретение автомобиля</td>\n",
       "      <td>C</td>\n",
       "      <td>операции с автомобилем</td>\n",
       "    </tr>\n",
       "    <tr>\n",
       "      <th>2</th>\n",
       "      <td>0</td>\n",
       "      <td>5623.422610</td>\n",
       "      <td>33</td>\n",
       "      <td>среднее</td>\n",
       "      <td>1</td>\n",
       "      <td>женат / замужем</td>\n",
       "      <td>0</td>\n",
       "      <td>M</td>\n",
       "      <td>сотрудник</td>\n",
       "      <td>0</td>\n",
       "      <td>145885</td>\n",
       "      <td>покупка жилья</td>\n",
       "      <td>C</td>\n",
       "      <td>операции с недвижимостью</td>\n",
       "    </tr>\n",
       "    <tr>\n",
       "      <th>3</th>\n",
       "      <td>3</td>\n",
       "      <td>4124.747207</td>\n",
       "      <td>32</td>\n",
       "      <td>среднее</td>\n",
       "      <td>1</td>\n",
       "      <td>женат / замужем</td>\n",
       "      <td>0</td>\n",
       "      <td>M</td>\n",
       "      <td>сотрудник</td>\n",
       "      <td>0</td>\n",
       "      <td>267628</td>\n",
       "      <td>дополнительное образование</td>\n",
       "      <td>B</td>\n",
       "      <td>получение образования</td>\n",
       "    </tr>\n",
       "    <tr>\n",
       "      <th>4</th>\n",
       "      <td>0</td>\n",
       "      <td>340266.072047</td>\n",
       "      <td>53</td>\n",
       "      <td>среднее</td>\n",
       "      <td>1</td>\n",
       "      <td>гражданский брак</td>\n",
       "      <td>1</td>\n",
       "      <td>F</td>\n",
       "      <td>пенсионер</td>\n",
       "      <td>0</td>\n",
       "      <td>158616</td>\n",
       "      <td>сыграть свадьбу</td>\n",
       "      <td>C</td>\n",
       "      <td>проведение свадьбы</td>\n",
       "    </tr>\n",
       "  </tbody>\n",
       "</table>\n",
       "</div>"
      ],
      "text/plain": [
       "   children  days_employed  dob_years education  education_id  \\\n",
       "0         1    8437.673028         42    высшее             0   \n",
       "1         1    4024.803754         36   среднее             1   \n",
       "2         0    5623.422610         33   среднее             1   \n",
       "3         3    4124.747207         32   среднее             1   \n",
       "4         0  340266.072047         53   среднее             1   \n",
       "\n",
       "      family_status  family_status_id gender income_type  debt  total_income  \\\n",
       "0   женат / замужем                 0      F   сотрудник     0        253875   \n",
       "1   женат / замужем                 0      F   сотрудник     0        112080   \n",
       "2   женат / замужем                 0      M   сотрудник     0        145885   \n",
       "3   женат / замужем                 0      M   сотрудник     0        267628   \n",
       "4  гражданский брак                 1      F   пенсионер     0        158616   \n",
       "\n",
       "                      purpose total_income_category          purpose_category  \n",
       "0               покупка жилья                     B  операции с недвижимостью  \n",
       "1     приобретение автомобиля                     C    операции с автомобилем  \n",
       "2               покупка жилья                     C  операции с недвижимостью  \n",
       "3  дополнительное образование                     B     получение образования  \n",
       "4             сыграть свадьбу                     C        проведение свадьбы  "
      ]
     },
     "execution_count": 39,
     "metadata": {},
     "output_type": "execute_result"
    }
   ],
   "source": [
    "data.head()"
   ]
  },
  {
   "cell_type": "code",
   "execution_count": null,
   "id": "e857c7bb",
   "metadata": {},
   "outputs": [],
   "source": []
  }
 ],
 "metadata": {
  "ExecuteTimeLog": [
   {
    "duration": 376,
    "start_time": "2022-10-06T18:09:02.640Z"
   },
   {
    "duration": 287,
    "start_time": "2022-10-06T18:09:05.524Z"
   },
   {
    "duration": 29,
    "start_time": "2022-10-06T18:09:52.837Z"
   },
   {
    "duration": 21,
    "start_time": "2022-10-06T18:13:18.424Z"
   },
   {
    "duration": 423,
    "start_time": "2022-10-06T19:22:33.174Z"
   },
   {
    "duration": 340,
    "start_time": "2022-10-06T19:22:35.018Z"
   },
   {
    "duration": 25,
    "start_time": "2022-10-06T19:22:38.855Z"
   },
   {
    "duration": 16,
    "start_time": "2022-10-06T19:22:43.343Z"
   },
   {
    "duration": 19,
    "start_time": "2022-10-06T19:23:04.527Z"
   },
   {
    "duration": 45,
    "start_time": "2022-10-06T19:23:43.726Z"
   },
   {
    "duration": 35,
    "start_time": "2022-10-06T19:23:51.824Z"
   },
   {
    "duration": 36,
    "start_time": "2022-10-06T19:23:57.450Z"
   },
   {
    "duration": 13,
    "start_time": "2022-10-06T19:25:25.987Z"
   },
   {
    "duration": 11,
    "start_time": "2022-10-06T19:25:45.440Z"
   },
   {
    "duration": 5,
    "start_time": "2022-10-06T19:59:07.973Z"
   },
   {
    "duration": 9,
    "start_time": "2022-10-06T19:59:48.249Z"
   },
   {
    "duration": 7,
    "start_time": "2022-10-06T20:01:52.272Z"
   },
   {
    "duration": 989,
    "start_time": "2022-10-06T20:02:09.709Z"
   },
   {
    "duration": 8,
    "start_time": "2022-10-06T20:03:17.465Z"
   },
   {
    "duration": 6,
    "start_time": "2022-10-06T20:04:15.710Z"
   },
   {
    "duration": 6,
    "start_time": "2022-10-06T20:04:23.563Z"
   },
   {
    "duration": 10,
    "start_time": "2022-10-06T20:04:30.752Z"
   },
   {
    "duration": 1068,
    "start_time": "2022-10-06T20:04:57.974Z"
   },
   {
    "duration": 8,
    "start_time": "2022-10-06T20:05:06.660Z"
   },
   {
    "duration": 8,
    "start_time": "2022-10-06T20:05:32.291Z"
   },
   {
    "duration": 8,
    "start_time": "2022-10-06T20:06:04.683Z"
   },
   {
    "duration": 9,
    "start_time": "2022-10-06T20:06:12.623Z"
   },
   {
    "duration": 32,
    "start_time": "2022-10-06T20:08:04.645Z"
   },
   {
    "duration": 42,
    "start_time": "2022-10-06T20:08:30.807Z"
   },
   {
    "duration": 32,
    "start_time": "2022-10-06T20:10:48.958Z"
   },
   {
    "duration": 36,
    "start_time": "2022-10-06T20:15:00.974Z"
   },
   {
    "duration": 32,
    "start_time": "2022-10-06T20:15:43.371Z"
   },
   {
    "duration": 11,
    "start_time": "2022-10-06T20:16:24.722Z"
   },
   {
    "duration": 36,
    "start_time": "2022-10-06T20:18:05.683Z"
   },
   {
    "duration": 35,
    "start_time": "2022-10-06T20:18:14.783Z"
   },
   {
    "duration": 46,
    "start_time": "2022-10-06T20:19:14.276Z"
   },
   {
    "duration": 16,
    "start_time": "2022-10-06T20:19:47.074Z"
   },
   {
    "duration": 7,
    "start_time": "2022-10-06T20:20:20.884Z"
   },
   {
    "duration": 33,
    "start_time": "2022-10-06T20:21:48.468Z"
   },
   {
    "duration": 42,
    "start_time": "2022-10-06T20:22:32.317Z"
   },
   {
    "duration": 15,
    "start_time": "2022-10-06T20:27:18.769Z"
   },
   {
    "duration": 14,
    "start_time": "2022-10-06T20:27:36.465Z"
   },
   {
    "duration": 29,
    "start_time": "2022-10-06T20:27:56.875Z"
   },
   {
    "duration": 51,
    "start_time": "2022-10-06T20:28:20.229Z"
   },
   {
    "duration": 90,
    "start_time": "2022-10-06T20:28:56.354Z"
   },
   {
    "duration": 8,
    "start_time": "2022-10-06T20:29:48.281Z"
   },
   {
    "duration": 15,
    "start_time": "2022-10-06T20:30:15.705Z"
   },
   {
    "duration": 28,
    "start_time": "2022-10-06T20:30:22.525Z"
   },
   {
    "duration": 13,
    "start_time": "2022-10-06T20:31:30.256Z"
   },
   {
    "duration": 16,
    "start_time": "2022-10-06T20:31:46.543Z"
   },
   {
    "duration": 16,
    "start_time": "2022-10-06T20:36:00.365Z"
   },
   {
    "duration": 26,
    "start_time": "2022-10-06T20:36:58.553Z"
   },
   {
    "duration": 47,
    "start_time": "2022-10-06T20:37:27.380Z"
   },
   {
    "duration": 17,
    "start_time": "2022-10-06T20:38:30.982Z"
   },
   {
    "duration": 440,
    "start_time": "2022-10-06T20:39:08.466Z"
   },
   {
    "duration": 76,
    "start_time": "2022-10-06T20:39:10.298Z"
   },
   {
    "duration": 16,
    "start_time": "2022-10-06T20:39:16.082Z"
   },
   {
    "duration": 15,
    "start_time": "2022-10-06T20:39:43.878Z"
   },
   {
    "duration": 916,
    "start_time": "2022-10-06T20:41:26.050Z"
   },
   {
    "duration": 5,
    "start_time": "2022-10-06T20:42:20.206Z"
   },
   {
    "duration": 7,
    "start_time": "2022-10-06T20:42:28.933Z"
   },
   {
    "duration": 13,
    "start_time": "2022-10-06T20:43:05.859Z"
   },
   {
    "duration": 7,
    "start_time": "2022-10-06T20:43:21.509Z"
   },
   {
    "duration": 377,
    "start_time": "2022-10-06T20:44:52.897Z"
   },
   {
    "duration": 79,
    "start_time": "2022-10-06T20:44:54.413Z"
   },
   {
    "duration": 29,
    "start_time": "2022-10-06T20:44:57.121Z"
   },
   {
    "duration": 16,
    "start_time": "2022-10-06T20:45:16.562Z"
   },
   {
    "duration": 10,
    "start_time": "2022-10-06T20:45:22.977Z"
   },
   {
    "duration": 36,
    "start_time": "2022-10-06T20:45:46.807Z"
   },
   {
    "duration": 61,
    "start_time": "2022-10-06T20:46:19.631Z"
   },
   {
    "duration": 97,
    "start_time": "2022-10-06T20:47:06.070Z"
   },
   {
    "duration": 16,
    "start_time": "2022-10-06T20:47:47.884Z"
   },
   {
    "duration": 103,
    "start_time": "2022-10-06T20:48:54.928Z"
   },
   {
    "duration": 111,
    "start_time": "2022-10-06T20:49:13.096Z"
   },
   {
    "duration": 16,
    "start_time": "2022-10-06T20:49:22.381Z"
   },
   {
    "duration": 411,
    "start_time": "2022-10-06T20:50:01.664Z"
   },
   {
    "duration": 78,
    "start_time": "2022-10-06T20:50:03.176Z"
   },
   {
    "duration": 12,
    "start_time": "2022-10-06T20:51:07.265Z"
   },
   {
    "duration": 111,
    "start_time": "2022-10-06T20:51:59.634Z"
   },
   {
    "duration": 74,
    "start_time": "2022-10-06T20:52:05.634Z"
   },
   {
    "duration": 83,
    "start_time": "2022-10-06T20:53:21.595Z"
   },
   {
    "duration": 33,
    "start_time": "2022-10-06T20:53:50.733Z"
   },
   {
    "duration": 53,
    "start_time": "2022-10-06T20:54:46.161Z"
   },
   {
    "duration": 53,
    "start_time": "2022-10-06T20:55:16.275Z"
   },
   {
    "duration": 31,
    "start_time": "2022-10-06T20:56:06.791Z"
   },
   {
    "duration": 48,
    "start_time": "2022-10-06T20:56:30.635Z"
   },
   {
    "duration": 44,
    "start_time": "2022-10-06T20:57:08.348Z"
   },
   {
    "duration": 47,
    "start_time": "2022-10-06T20:57:39.467Z"
   },
   {
    "duration": 445,
    "start_time": "2022-10-06T20:58:42.751Z"
   },
   {
    "duration": 77,
    "start_time": "2022-10-06T20:58:44.710Z"
   },
   {
    "duration": 30,
    "start_time": "2022-10-06T20:58:51.638Z"
   },
   {
    "duration": 36,
    "start_time": "2022-10-06T21:01:30.565Z"
   },
   {
    "duration": 400,
    "start_time": "2022-10-10T18:01:02.073Z"
   },
   {
    "duration": 294,
    "start_time": "2022-10-10T18:01:03.871Z"
   },
   {
    "duration": 14,
    "start_time": "2022-10-10T18:01:06.630Z"
   },
   {
    "duration": 13,
    "start_time": "2022-10-10T18:01:11.833Z"
   },
   {
    "duration": 31,
    "start_time": "2022-10-10T18:02:05.145Z"
   },
   {
    "duration": 92,
    "start_time": "2022-10-10T18:06:12.690Z"
   },
   {
    "duration": 29,
    "start_time": "2022-10-10T18:06:21.026Z"
   },
   {
    "duration": 8,
    "start_time": "2022-10-10T18:09:17.246Z"
   },
   {
    "duration": 3707,
    "start_time": "2022-10-10T18:09:53.424Z"
   },
   {
    "duration": 4,
    "start_time": "2022-10-10T18:10:59.069Z"
   },
   {
    "duration": 71,
    "start_time": "2022-10-10T18:12:29.454Z"
   },
   {
    "duration": 12,
    "start_time": "2022-10-10T18:12:42.748Z"
   },
   {
    "duration": 10,
    "start_time": "2022-10-10T18:12:57.564Z"
   },
   {
    "duration": 13,
    "start_time": "2022-10-10T18:13:01.071Z"
   },
   {
    "duration": 8,
    "start_time": "2022-10-10T18:13:14.617Z"
   },
   {
    "duration": 5,
    "start_time": "2022-10-10T18:14:09.137Z"
   },
   {
    "duration": 14,
    "start_time": "2022-10-10T18:17:42.006Z"
   },
   {
    "duration": 15,
    "start_time": "2022-10-10T18:19:42.362Z"
   },
   {
    "duration": 14,
    "start_time": "2022-10-10T18:21:05.385Z"
   },
   {
    "duration": 446,
    "start_time": "2022-10-10T18:22:45.831Z"
   },
   {
    "duration": 6,
    "start_time": "2022-10-10T18:25:52.472Z"
   },
   {
    "duration": 4,
    "start_time": "2022-10-10T18:26:28.389Z"
   },
   {
    "duration": 22,
    "start_time": "2022-10-10T18:30:15.560Z"
   },
   {
    "duration": 50,
    "start_time": "2022-10-10T19:17:54.544Z"
   },
   {
    "duration": 423,
    "start_time": "2022-10-10T19:18:12.635Z"
   },
   {
    "duration": 324,
    "start_time": "2022-10-10T19:18:13.736Z"
   },
   {
    "duration": 57,
    "start_time": "2022-10-10T19:18:18.837Z"
   },
   {
    "duration": 3,
    "start_time": "2022-10-10T19:18:32.907Z"
   },
   {
    "duration": 8,
    "start_time": "2022-10-10T19:18:40.463Z"
   },
   {
    "duration": 31,
    "start_time": "2022-10-10T19:18:58.866Z"
   },
   {
    "duration": 30,
    "start_time": "2022-10-10T19:24:58.949Z"
   },
   {
    "duration": 10,
    "start_time": "2022-10-10T19:26:23.279Z"
   },
   {
    "duration": 6,
    "start_time": "2022-10-10T19:28:32.103Z"
   },
   {
    "duration": 7,
    "start_time": "2022-10-10T19:29:02.529Z"
   },
   {
    "duration": 72,
    "start_time": "2022-10-10T19:29:42.955Z"
   },
   {
    "duration": 30,
    "start_time": "2022-10-10T19:29:47.728Z"
   },
   {
    "duration": 3,
    "start_time": "2022-10-10T19:29:54.922Z"
   },
   {
    "duration": 5,
    "start_time": "2022-10-10T19:30:03.424Z"
   },
   {
    "duration": 22,
    "start_time": "2022-10-10T19:30:07.432Z"
   },
   {
    "duration": 4,
    "start_time": "2022-10-10T19:30:11.889Z"
   },
   {
    "duration": 17,
    "start_time": "2022-10-10T19:32:36.925Z"
   },
   {
    "duration": 41,
    "start_time": "2022-10-10T19:36:34.448Z"
   },
   {
    "duration": 28,
    "start_time": "2022-10-10T19:39:04.229Z"
   },
   {
    "duration": 27,
    "start_time": "2022-10-10T19:39:36.383Z"
   },
   {
    "duration": 4,
    "start_time": "2022-10-10T19:50:05.142Z"
   },
   {
    "duration": 331,
    "start_time": "2022-10-10T19:50:07.743Z"
   },
   {
    "duration": 4,
    "start_time": "2022-10-10T19:50:29.025Z"
   },
   {
    "duration": 261,
    "start_time": "2022-10-10T19:50:31.703Z"
   },
   {
    "duration": 5,
    "start_time": "2022-10-10T19:52:51.222Z"
   },
   {
    "duration": 205,
    "start_time": "2022-10-10T19:52:54.040Z"
   },
   {
    "duration": 3,
    "start_time": "2022-10-10T19:55:55.252Z"
   },
   {
    "duration": 184,
    "start_time": "2022-10-10T19:55:59.326Z"
   },
   {
    "duration": 757,
    "start_time": "2022-10-10T19:56:45.580Z"
   },
   {
    "duration": 4,
    "start_time": "2022-10-10T19:57:26.186Z"
   },
   {
    "duration": 16,
    "start_time": "2022-10-10T19:57:28.570Z"
   },
   {
    "duration": 7,
    "start_time": "2022-10-10T19:58:45.431Z"
   },
   {
    "duration": 100,
    "start_time": "2022-10-10T20:02:05.349Z"
   },
   {
    "duration": 3,
    "start_time": "2022-10-10T20:02:20.682Z"
   },
   {
    "duration": 14,
    "start_time": "2022-10-10T20:03:04.939Z"
   },
   {
    "duration": 19,
    "start_time": "2022-10-10T20:03:34.546Z"
   },
   {
    "duration": 4,
    "start_time": "2022-10-10T20:04:39.849Z"
   },
   {
    "duration": 8,
    "start_time": "2022-10-10T20:04:42.128Z"
   },
   {
    "duration": 13,
    "start_time": "2022-10-10T20:04:45.424Z"
   }
  ],
  "colab": {
   "name": "dpp_template_part1.ipynb",
   "provenance": []
  },
  "kernelspec": {
   "display_name": "Python 3 (ipykernel)",
   "language": "python",
   "name": "python3"
  },
  "language_info": {
   "codemirror_mode": {
    "name": "ipython",
    "version": 3
   },
   "file_extension": ".py",
   "mimetype": "text/x-python",
   "name": "python",
   "nbconvert_exporter": "python",
   "pygments_lexer": "ipython3",
   "version": "3.9.5"
  },
  "toc": {
   "base_numbering": 1,
   "nav_menu": {},
   "number_sections": true,
   "sideBar": true,
   "skip_h1_title": true,
   "title_cell": "Table of Contents",
   "title_sidebar": "Contents",
   "toc_cell": false,
   "toc_position": {},
   "toc_section_display": true,
   "toc_window_display": false
  }
 },
 "nbformat": 4,
 "nbformat_minor": 5
}
