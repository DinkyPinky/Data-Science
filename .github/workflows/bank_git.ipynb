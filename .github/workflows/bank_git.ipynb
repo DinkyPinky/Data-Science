{
 "cells": [
  {
   "cell_type": "markdown",
   "metadata": {
    "toc": true
   },
   "source": [
    "<h1>Содержание<span class=\"tocSkip\"></span></h1>\n",
    "<div class=\"toc\"><ul class=\"toc-item\"><li><span><a href=\"#Подготовка-данных\" data-toc-modified-id=\"Подготовка-данных-1\"><span class=\"toc-item-num\">1&nbsp;&nbsp;</span>Подготовка данных</a></span></li><li><span><a href=\"#Исследование-задачи\" data-toc-modified-id=\"Исследование-задачи-2\"><span class=\"toc-item-num\">2&nbsp;&nbsp;</span>Исследование задачи</a></span></li><li><span><a href=\"#Борьба-с-дисбалансом\" data-toc-modified-id=\"Борьба-с-дисбалансом-3\"><span class=\"toc-item-num\">3&nbsp;&nbsp;</span>Борьба с дисбалансом</a></span></li><li><span><a href=\"#Другой-способ-устранения-дисбаланса\" data-toc-modified-id=\"Другой-способ-устранения-дисбаланса-4\"><span class=\"toc-item-num\">4&nbsp;&nbsp;</span>Другой способ устранения дисбаланса</a></span></li><li><span><a href=\"#Тестирование-модели\" data-toc-modified-id=\"Тестирование-модели-5\"><span class=\"toc-item-num\">5&nbsp;&nbsp;</span>Тестирование модели</a></span></li><li><span><a href=\"#Вывод\" data-toc-modified-id=\"Вывод-6\"><span class=\"toc-item-num\">6&nbsp;&nbsp;</span>Вывод</a></span></li><li><span><a href=\"#Чек-лист-готовности-проекта\" data-toc-modified-id=\"Чек-лист-готовности-проекта-7\"><span class=\"toc-item-num\">7&nbsp;&nbsp;</span>Чек-лист готовности проекта</a></span></li></ul></div>"
   ]
  },
  {
   "cell_type": "markdown",
   "metadata": {},
   "source": [
    "# Отток клиентов"
   ]
  },
  {
   "cell_type": "markdown",
   "metadata": {},
   "source": [
    "Проект направлен на работу с дисбалансом и оценку ROC-кривой\n",
    "Применяется OHE\n",
    "\n",
    "Источник данных: [https://www.kaggle.com/barelydedicated/bank-customer-churn-modeling](https://www.kaggle.com/barelydedicated/bank-customer-churn-modeling)"
   ]
  },
  {
   "cell_type": "markdown",
   "metadata": {},
   "source": [
    "## Подготовка данных"
   ]
  },
  {
   "cell_type": "code",
   "execution_count": 2,
   "metadata": {},
   "outputs": [],
   "source": [
    "import pandas as pd\n",
    "import numpy as np\n",
    "import plotly.io as pio\n",
    "import matplotlib.pyplot as plt\n",
    "from sklearn.model_selection import train_test_split\n",
    "from sklearn.preprocessing import StandardScaler, OneHotEncoder\n",
    "from sklearn.utils import shuffle\n",
    "from sklearn.linear_model import LogisticRegression\n",
    "from sklearn.tree import DecisionTreeClassifier\n",
    "from sklearn.ensemble import RandomForestClassifier\n",
    "from sklearn.metrics import f1_score, mean_absolute_error, roc_auc_score, roc_curve, mean_squared_error"
   ]
  },
  {
   "cell_type": "code",
   "execution_count": 3,
   "metadata": {},
   "outputs": [],
   "source": [
    "data = pd.read_csv('/datasets/Churn.csv')"
   ]
  },
  {
   "cell_type": "code",
   "execution_count": 73,
   "metadata": {
    "scrolled": false
   },
   "outputs": [
    {
     "name": "stdout",
     "output_type": "stream",
     "text": [
      "<class 'pandas.core.frame.DataFrame'>\n",
      "RangeIndex: 10000 entries, 0 to 9999\n",
      "Data columns (total 14 columns):\n",
      " #   Column           Non-Null Count  Dtype  \n",
      "---  ------           --------------  -----  \n",
      " 0   RowNumber        10000 non-null  int64  \n",
      " 1   CustomerId       10000 non-null  int64  \n",
      " 2   Surname          10000 non-null  object \n",
      " 3   CreditScore      10000 non-null  int64  \n",
      " 4   Geography        10000 non-null  object \n",
      " 5   Gender           10000 non-null  object \n",
      " 6   Age              10000 non-null  int64  \n",
      " 7   Tenure           10000 non-null  float64\n",
      " 8   Balance          10000 non-null  float64\n",
      " 9   NumOfProducts    10000 non-null  int64  \n",
      " 10  HasCrCard        10000 non-null  int64  \n",
      " 11  IsActiveMember   10000 non-null  int64  \n",
      " 12  EstimatedSalary  10000 non-null  float64\n",
      " 13  Exited           10000 non-null  int64  \n",
      "dtypes: float64(3), int64(8), object(3)\n",
      "memory usage: 1.1+ MB\n"
     ]
    }
   ],
   "source": [
    "data.info()"
   ]
  },
  {
   "cell_type": "markdown",
   "metadata": {},
   "source": [
    "Имеем пропуски в Tenure. Скорее всего пропуски стоят у новых клиентов, появившихся менее года назад, поэтому логичнее всего поставить нули:"
   ]
  },
  {
   "cell_type": "code",
   "execution_count": 4,
   "metadata": {},
   "outputs": [],
   "source": [
    "data['Tenure'] = data['Tenure'].fillna(0) "
   ]
  },
  {
   "cell_type": "code",
   "execution_count": 5,
   "metadata": {
    "scrolled": true
   },
   "outputs": [
    {
     "data": {
      "text/html": [
       "<div>\n",
       "<style scoped>\n",
       "    .dataframe tbody tr th:only-of-type {\n",
       "        vertical-align: middle;\n",
       "    }\n",
       "\n",
       "    .dataframe tbody tr th {\n",
       "        vertical-align: top;\n",
       "    }\n",
       "\n",
       "    .dataframe thead th {\n",
       "        text-align: right;\n",
       "    }\n",
       "</style>\n",
       "<table border=\"1\" class=\"dataframe\">\n",
       "  <thead>\n",
       "    <tr style=\"text-align: right;\">\n",
       "      <th></th>\n",
       "      <th>RowNumber</th>\n",
       "      <th>CustomerId</th>\n",
       "      <th>Surname</th>\n",
       "      <th>CreditScore</th>\n",
       "      <th>Geography</th>\n",
       "      <th>Gender</th>\n",
       "      <th>Age</th>\n",
       "      <th>Tenure</th>\n",
       "      <th>Balance</th>\n",
       "      <th>NumOfProducts</th>\n",
       "      <th>HasCrCard</th>\n",
       "      <th>IsActiveMember</th>\n",
       "      <th>EstimatedSalary</th>\n",
       "      <th>Exited</th>\n",
       "    </tr>\n",
       "  </thead>\n",
       "  <tbody>\n",
       "    <tr>\n",
       "      <th>0</th>\n",
       "      <td>1</td>\n",
       "      <td>15634602</td>\n",
       "      <td>Hargrave</td>\n",
       "      <td>619</td>\n",
       "      <td>France</td>\n",
       "      <td>Female</td>\n",
       "      <td>42</td>\n",
       "      <td>2.0</td>\n",
       "      <td>0.00</td>\n",
       "      <td>1</td>\n",
       "      <td>1</td>\n",
       "      <td>1</td>\n",
       "      <td>101348.88</td>\n",
       "      <td>1</td>\n",
       "    </tr>\n",
       "    <tr>\n",
       "      <th>1</th>\n",
       "      <td>2</td>\n",
       "      <td>15647311</td>\n",
       "      <td>Hill</td>\n",
       "      <td>608</td>\n",
       "      <td>Spain</td>\n",
       "      <td>Female</td>\n",
       "      <td>41</td>\n",
       "      <td>1.0</td>\n",
       "      <td>83807.86</td>\n",
       "      <td>1</td>\n",
       "      <td>0</td>\n",
       "      <td>1</td>\n",
       "      <td>112542.58</td>\n",
       "      <td>0</td>\n",
       "    </tr>\n",
       "    <tr>\n",
       "      <th>2</th>\n",
       "      <td>3</td>\n",
       "      <td>15619304</td>\n",
       "      <td>Onio</td>\n",
       "      <td>502</td>\n",
       "      <td>France</td>\n",
       "      <td>Female</td>\n",
       "      <td>42</td>\n",
       "      <td>8.0</td>\n",
       "      <td>159660.80</td>\n",
       "      <td>3</td>\n",
       "      <td>1</td>\n",
       "      <td>0</td>\n",
       "      <td>113931.57</td>\n",
       "      <td>1</td>\n",
       "    </tr>\n",
       "    <tr>\n",
       "      <th>3</th>\n",
       "      <td>4</td>\n",
       "      <td>15701354</td>\n",
       "      <td>Boni</td>\n",
       "      <td>699</td>\n",
       "      <td>France</td>\n",
       "      <td>Female</td>\n",
       "      <td>39</td>\n",
       "      <td>1.0</td>\n",
       "      <td>0.00</td>\n",
       "      <td>2</td>\n",
       "      <td>0</td>\n",
       "      <td>0</td>\n",
       "      <td>93826.63</td>\n",
       "      <td>0</td>\n",
       "    </tr>\n",
       "    <tr>\n",
       "      <th>4</th>\n",
       "      <td>5</td>\n",
       "      <td>15737888</td>\n",
       "      <td>Mitchell</td>\n",
       "      <td>850</td>\n",
       "      <td>Spain</td>\n",
       "      <td>Female</td>\n",
       "      <td>43</td>\n",
       "      <td>2.0</td>\n",
       "      <td>125510.82</td>\n",
       "      <td>1</td>\n",
       "      <td>1</td>\n",
       "      <td>1</td>\n",
       "      <td>79084.10</td>\n",
       "      <td>0</td>\n",
       "    </tr>\n",
       "  </tbody>\n",
       "</table>\n",
       "</div>"
      ],
      "text/plain": [
       "   RowNumber  CustomerId   Surname  CreditScore Geography  Gender  Age  \\\n",
       "0          1    15634602  Hargrave          619    France  Female   42   \n",
       "1          2    15647311      Hill          608     Spain  Female   41   \n",
       "2          3    15619304      Onio          502    France  Female   42   \n",
       "3          4    15701354      Boni          699    France  Female   39   \n",
       "4          5    15737888  Mitchell          850     Spain  Female   43   \n",
       "\n",
       "   Tenure    Balance  NumOfProducts  HasCrCard  IsActiveMember  \\\n",
       "0     2.0       0.00              1          1               1   \n",
       "1     1.0   83807.86              1          0               1   \n",
       "2     8.0  159660.80              3          1               0   \n",
       "3     1.0       0.00              2          0               0   \n",
       "4     2.0  125510.82              1          1               1   \n",
       "\n",
       "   EstimatedSalary  Exited  \n",
       "0        101348.88       1  \n",
       "1        112542.58       0  \n",
       "2        113931.57       1  \n",
       "3         93826.63       0  \n",
       "4         79084.10       0  "
      ]
     },
     "execution_count": 5,
     "metadata": {},
     "output_type": "execute_result"
    }
   ],
   "source": [
    "data.head()"
   ]
  },
  {
   "cell_type": "code",
   "execution_count": 6,
   "metadata": {},
   "outputs": [
    {
     "data": {
      "text/plain": [
       "array(['France', 'Spain', 'Germany'], dtype=object)"
      ]
     },
     "execution_count": 6,
     "metadata": {},
     "output_type": "execute_result"
    }
   ],
   "source": [
    "data['Geography'].unique()"
   ]
  },
  {
   "cell_type": "markdown",
   "metadata": {},
   "source": [
    "Иеем 4 категориальных признака -- страна, пол, наличие кредитки, активность. Их нужно будет преобразовать прямым кодированием. Остальным потребуется масштабирование (проведем после разбиения на выборки)"
   ]
  },
  {
   "cell_type": "code",
   "execution_count": 7,
   "metadata": {
    "scrolled": true
   },
   "outputs": [
    {
     "data": {
      "text/html": [
       "<div>\n",
       "<style scoped>\n",
       "    .dataframe tbody tr th:only-of-type {\n",
       "        vertical-align: middle;\n",
       "    }\n",
       "\n",
       "    .dataframe tbody tr th {\n",
       "        vertical-align: top;\n",
       "    }\n",
       "\n",
       "    .dataframe thead th {\n",
       "        text-align: right;\n",
       "    }\n",
       "</style>\n",
       "<table border=\"1\" class=\"dataframe\">\n",
       "  <thead>\n",
       "    <tr style=\"text-align: right;\">\n",
       "      <th></th>\n",
       "      <th>RowNumber</th>\n",
       "      <th>CustomerId</th>\n",
       "      <th>Surname</th>\n",
       "      <th>CreditScore</th>\n",
       "      <th>Geography</th>\n",
       "      <th>Gender</th>\n",
       "      <th>Age</th>\n",
       "      <th>Tenure</th>\n",
       "      <th>Balance</th>\n",
       "      <th>NumOfProducts</th>\n",
       "      <th>HasCrCard</th>\n",
       "      <th>IsActiveMember</th>\n",
       "      <th>EstimatedSalary</th>\n",
       "      <th>Exited</th>\n",
       "    </tr>\n",
       "  </thead>\n",
       "  <tbody>\n",
       "    <tr>\n",
       "      <th>0</th>\n",
       "      <td>1</td>\n",
       "      <td>15634602</td>\n",
       "      <td>Hargrave</td>\n",
       "      <td>619</td>\n",
       "      <td>France</td>\n",
       "      <td>Female</td>\n",
       "      <td>42</td>\n",
       "      <td>2.0</td>\n",
       "      <td>0.00</td>\n",
       "      <td>1</td>\n",
       "      <td>1</td>\n",
       "      <td>1</td>\n",
       "      <td>101348.88</td>\n",
       "      <td>1</td>\n",
       "    </tr>\n",
       "    <tr>\n",
       "      <th>1</th>\n",
       "      <td>2</td>\n",
       "      <td>15647311</td>\n",
       "      <td>Hill</td>\n",
       "      <td>608</td>\n",
       "      <td>Spain</td>\n",
       "      <td>Female</td>\n",
       "      <td>41</td>\n",
       "      <td>1.0</td>\n",
       "      <td>83807.86</td>\n",
       "      <td>1</td>\n",
       "      <td>0</td>\n",
       "      <td>1</td>\n",
       "      <td>112542.58</td>\n",
       "      <td>0</td>\n",
       "    </tr>\n",
       "    <tr>\n",
       "      <th>2</th>\n",
       "      <td>3</td>\n",
       "      <td>15619304</td>\n",
       "      <td>Onio</td>\n",
       "      <td>502</td>\n",
       "      <td>France</td>\n",
       "      <td>Female</td>\n",
       "      <td>42</td>\n",
       "      <td>8.0</td>\n",
       "      <td>159660.80</td>\n",
       "      <td>3</td>\n",
       "      <td>1</td>\n",
       "      <td>0</td>\n",
       "      <td>113931.57</td>\n",
       "      <td>1</td>\n",
       "    </tr>\n",
       "    <tr>\n",
       "      <th>3</th>\n",
       "      <td>4</td>\n",
       "      <td>15701354</td>\n",
       "      <td>Boni</td>\n",
       "      <td>699</td>\n",
       "      <td>France</td>\n",
       "      <td>Female</td>\n",
       "      <td>39</td>\n",
       "      <td>1.0</td>\n",
       "      <td>0.00</td>\n",
       "      <td>2</td>\n",
       "      <td>0</td>\n",
       "      <td>0</td>\n",
       "      <td>93826.63</td>\n",
       "      <td>0</td>\n",
       "    </tr>\n",
       "    <tr>\n",
       "      <th>4</th>\n",
       "      <td>5</td>\n",
       "      <td>15737888</td>\n",
       "      <td>Mitchell</td>\n",
       "      <td>850</td>\n",
       "      <td>Spain</td>\n",
       "      <td>Female</td>\n",
       "      <td>43</td>\n",
       "      <td>2.0</td>\n",
       "      <td>125510.82</td>\n",
       "      <td>1</td>\n",
       "      <td>1</td>\n",
       "      <td>1</td>\n",
       "      <td>79084.10</td>\n",
       "      <td>0</td>\n",
       "    </tr>\n",
       "  </tbody>\n",
       "</table>\n",
       "</div>"
      ],
      "text/plain": [
       "   RowNumber  CustomerId   Surname  CreditScore Geography  Gender  Age  \\\n",
       "0          1    15634602  Hargrave          619    France  Female   42   \n",
       "1          2    15647311      Hill          608     Spain  Female   41   \n",
       "2          3    15619304      Onio          502    France  Female   42   \n",
       "3          4    15701354      Boni          699    France  Female   39   \n",
       "4          5    15737888  Mitchell          850     Spain  Female   43   \n",
       "\n",
       "   Tenure    Balance  NumOfProducts  HasCrCard  IsActiveMember  \\\n",
       "0     2.0       0.00              1          1               1   \n",
       "1     1.0   83807.86              1          0               1   \n",
       "2     8.0  159660.80              3          1               0   \n",
       "3     1.0       0.00              2          0               0   \n",
       "4     2.0  125510.82              1          1               1   \n",
       "\n",
       "   EstimatedSalary  Exited  \n",
       "0        101348.88       1  \n",
       "1        112542.58       0  \n",
       "2        113931.57       1  \n",
       "3         93826.63       0  \n",
       "4         79084.10       0  "
      ]
     },
     "execution_count": 7,
     "metadata": {},
     "output_type": "execute_result"
    }
   ],
   "source": [
    "data.head()"
   ]
  },
  {
   "cell_type": "code",
   "execution_count": 11,
   "metadata": {},
   "outputs": [
    {
     "data": {
      "text/plain": [
       "(10000, 14)"
      ]
     },
     "execution_count": 11,
     "metadata": {},
     "output_type": "execute_result"
    }
   ],
   "source": [
    "data.shape"
   ]
  },
  {
   "cell_type": "code",
   "execution_count": 8,
   "metadata": {},
   "outputs": [
    {
     "data": {
      "text/plain": [
       "17"
      ]
     },
     "execution_count": 8,
     "metadata": {},
     "output_type": "execute_result"
    }
   ],
   "source": [
    "len(transformed[0])"
   ]
  },
  {
   "cell_type": "code",
   "execution_count": 5,
   "metadata": {},
   "outputs": [
    {
     "data": {
      "text/html": [
       "<div>\n",
       "<style scoped>\n",
       "    .dataframe tbody tr th:only-of-type {\n",
       "        vertical-align: middle;\n",
       "    }\n",
       "\n",
       "    .dataframe tbody tr th {\n",
       "        vertical-align: top;\n",
       "    }\n",
       "\n",
       "    .dataframe thead th {\n",
       "        text-align: right;\n",
       "    }\n",
       "</style>\n",
       "<table border=\"1\" class=\"dataframe\">\n",
       "  <thead>\n",
       "    <tr style=\"text-align: right;\">\n",
       "      <th></th>\n",
       "      <th>onehotencoder__x0_France</th>\n",
       "      <th>onehotencoder__x0_Germany</th>\n",
       "      <th>onehotencoder__x0_Spain</th>\n",
       "      <th>onehotencoder__x1_Female</th>\n",
       "      <th>onehotencoder__x1_Male</th>\n",
       "      <th>RowNumber</th>\n",
       "      <th>CustomerId</th>\n",
       "      <th>Surname</th>\n",
       "      <th>CreditScore</th>\n",
       "      <th>Age</th>\n",
       "      <th>Tenure</th>\n",
       "      <th>Balance</th>\n",
       "      <th>NumOfProducts</th>\n",
       "      <th>HasCrCard</th>\n",
       "      <th>IsActiveMember</th>\n",
       "      <th>EstimatedSalary</th>\n",
       "      <th>Exited</th>\n",
       "    </tr>\n",
       "  </thead>\n",
       "  <tbody>\n",
       "    <tr>\n",
       "      <th>0</th>\n",
       "      <td>1.0</td>\n",
       "      <td>0.0</td>\n",
       "      <td>0.0</td>\n",
       "      <td>1.0</td>\n",
       "      <td>0.0</td>\n",
       "      <td>1</td>\n",
       "      <td>15634602</td>\n",
       "      <td>Hargrave</td>\n",
       "      <td>619</td>\n",
       "      <td>42</td>\n",
       "      <td>2.0</td>\n",
       "      <td>0.0</td>\n",
       "      <td>1</td>\n",
       "      <td>1</td>\n",
       "      <td>1</td>\n",
       "      <td>101348.88</td>\n",
       "      <td>1</td>\n",
       "    </tr>\n",
       "    <tr>\n",
       "      <th>1</th>\n",
       "      <td>0.0</td>\n",
       "      <td>0.0</td>\n",
       "      <td>1.0</td>\n",
       "      <td>1.0</td>\n",
       "      <td>0.0</td>\n",
       "      <td>2</td>\n",
       "      <td>15647311</td>\n",
       "      <td>Hill</td>\n",
       "      <td>608</td>\n",
       "      <td>41</td>\n",
       "      <td>1.0</td>\n",
       "      <td>83807.86</td>\n",
       "      <td>1</td>\n",
       "      <td>0</td>\n",
       "      <td>1</td>\n",
       "      <td>112542.58</td>\n",
       "      <td>0</td>\n",
       "    </tr>\n",
       "    <tr>\n",
       "      <th>2</th>\n",
       "      <td>1.0</td>\n",
       "      <td>0.0</td>\n",
       "      <td>0.0</td>\n",
       "      <td>1.0</td>\n",
       "      <td>0.0</td>\n",
       "      <td>3</td>\n",
       "      <td>15619304</td>\n",
       "      <td>Onio</td>\n",
       "      <td>502</td>\n",
       "      <td>42</td>\n",
       "      <td>8.0</td>\n",
       "      <td>159660.8</td>\n",
       "      <td>3</td>\n",
       "      <td>1</td>\n",
       "      <td>0</td>\n",
       "      <td>113931.57</td>\n",
       "      <td>1</td>\n",
       "    </tr>\n",
       "    <tr>\n",
       "      <th>3</th>\n",
       "      <td>1.0</td>\n",
       "      <td>0.0</td>\n",
       "      <td>0.0</td>\n",
       "      <td>1.0</td>\n",
       "      <td>0.0</td>\n",
       "      <td>4</td>\n",
       "      <td>15701354</td>\n",
       "      <td>Boni</td>\n",
       "      <td>699</td>\n",
       "      <td>39</td>\n",
       "      <td>1.0</td>\n",
       "      <td>0.0</td>\n",
       "      <td>2</td>\n",
       "      <td>0</td>\n",
       "      <td>0</td>\n",
       "      <td>93826.63</td>\n",
       "      <td>0</td>\n",
       "    </tr>\n",
       "    <tr>\n",
       "      <th>4</th>\n",
       "      <td>0.0</td>\n",
       "      <td>0.0</td>\n",
       "      <td>1.0</td>\n",
       "      <td>1.0</td>\n",
       "      <td>0.0</td>\n",
       "      <td>5</td>\n",
       "      <td>15737888</td>\n",
       "      <td>Mitchell</td>\n",
       "      <td>850</td>\n",
       "      <td>43</td>\n",
       "      <td>2.0</td>\n",
       "      <td>125510.82</td>\n",
       "      <td>1</td>\n",
       "      <td>1</td>\n",
       "      <td>1</td>\n",
       "      <td>79084.1</td>\n",
       "      <td>0</td>\n",
       "    </tr>\n",
       "  </tbody>\n",
       "</table>\n",
       "</div>"
      ],
      "text/plain": [
       "  onehotencoder__x0_France onehotencoder__x0_Germany onehotencoder__x0_Spain  \\\n",
       "0                      1.0                       0.0                     0.0   \n",
       "1                      0.0                       0.0                     1.0   \n",
       "2                      1.0                       0.0                     0.0   \n",
       "3                      1.0                       0.0                     0.0   \n",
       "4                      0.0                       0.0                     1.0   \n",
       "\n",
       "  onehotencoder__x1_Female onehotencoder__x1_Male RowNumber CustomerId  \\\n",
       "0                      1.0                    0.0         1   15634602   \n",
       "1                      1.0                    0.0         2   15647311   \n",
       "2                      1.0                    0.0         3   15619304   \n",
       "3                      1.0                    0.0         4   15701354   \n",
       "4                      1.0                    0.0         5   15737888   \n",
       "\n",
       "    Surname CreditScore Age Tenure    Balance NumOfProducts HasCrCard  \\\n",
       "0  Hargrave         619  42    2.0        0.0             1         1   \n",
       "1      Hill         608  41    1.0   83807.86             1         0   \n",
       "2      Onio         502  42    8.0   159660.8             3         1   \n",
       "3      Boni         699  39    1.0        0.0             2         0   \n",
       "4  Mitchell         850  43    2.0  125510.82             1         1   \n",
       "\n",
       "  IsActiveMember EstimatedSalary Exited  \n",
       "0              1       101348.88      1  \n",
       "1              1       112542.58      0  \n",
       "2              0       113931.57      1  \n",
       "3              0        93826.63      0  \n",
       "4              1         79084.1      0  "
      ]
     },
     "execution_count": 5,
     "metadata": {},
     "output_type": "execute_result"
    }
   ],
   "source": [
    "from sklearn.compose import make_column_transformer\n",
    "\n",
    "transformer = make_column_transformer(\n",
    "    (OneHotEncoder(), ['Geography', 'Gender']),\n",
    "    remainder='passthrough')\n",
    "\n",
    "transformed = transformer.fit_transform(data)\n",
    "transformed_df = pd.DataFrame(transformed, columns=transformer.get_feature_names())\n",
    "transformed_df.head()"
   ]
  },
  {
   "cell_type": "markdown",
   "metadata": {},
   "source": [
    "Некоторые столбцы не годятся для предсказания, поэтому удалим их при создании таблицы признаков"
   ]
  },
  {
   "cell_type": "code",
   "execution_count": 76,
   "metadata": {},
   "outputs": [],
   "source": [
    "target = data['Exited']\n",
    "features = data.drop(['RowNumber', 'CustomerId', 'Surname', 'Exited'], axis=1)"
   ]
  },
  {
   "cell_type": "code",
   "execution_count": 77,
   "metadata": {},
   "outputs": [],
   "source": [
    "features = pd.get_dummies(features, columns=['Geography', 'Gender'], drop_first=True)"
   ]
  },
  {
   "cell_type": "code",
   "execution_count": 78,
   "metadata": {},
   "outputs": [],
   "source": [
    "features_train, features_test, target_train, target_test = train_test_split(\n",
    "    features, target, test_size=0.25, random_state=12345)\n",
    "\n",
    "features_valid, features_test, target_valid, target_test = train_test_split(\n",
    "    features_test, target_test, test_size=0.5, random_state=12345)\n"
   ]
  },
  {
   "cell_type": "code",
   "execution_count": 79,
   "metadata": {},
   "outputs": [],
   "source": [
    "numeric = ['CreditScore', 'Age', 'Balance', 'NumOfProducts', 'EstimatedSalary']\n",
    "\n",
    "scaler = StandardScaler()\n",
    "scaler.fit(features_train[numeric])\n",
    "features_train[numeric] = scaler.transform(features_train[numeric])\n",
    "features_valid[numeric] = scaler.transform(features_valid[numeric])\n",
    "features_test[numeric] = scaler.transform(features_test[numeric])\n",
    "pd.options.mode.chained_assignment = None"
   ]
  },
  {
   "cell_type": "markdown",
   "metadata": {},
   "source": [
    "## Исследование задачи"
   ]
  },
  {
   "cell_type": "markdown",
   "metadata": {},
   "source": [
    "Получим результаты без балансировки\n",
    "1. Логистическая регрессия"
   ]
  },
  {
   "cell_type": "code",
   "execution_count": 12,
   "metadata": {},
   "outputs": [
    {
     "data": {
      "text/html": [
       "<div>\n",
       "<style scoped>\n",
       "    .dataframe tbody tr th:only-of-type {\n",
       "        vertical-align: middle;\n",
       "    }\n",
       "\n",
       "    .dataframe tbody tr th {\n",
       "        vertical-align: top;\n",
       "    }\n",
       "\n",
       "    .dataframe thead th {\n",
       "        text-align: right;\n",
       "    }\n",
       "</style>\n",
       "<table border=\"1\" class=\"dataframe\">\n",
       "  <thead>\n",
       "    <tr style=\"text-align: right;\">\n",
       "      <th></th>\n",
       "      <th>CreditScore</th>\n",
       "      <th>Age</th>\n",
       "      <th>Tenure</th>\n",
       "      <th>Balance</th>\n",
       "      <th>NumOfProducts</th>\n",
       "      <th>HasCrCard</th>\n",
       "      <th>IsActiveMember</th>\n",
       "      <th>EstimatedSalary</th>\n",
       "      <th>Geography_Germany</th>\n",
       "      <th>Geography_Spain</th>\n",
       "      <th>Gender_Male</th>\n",
       "    </tr>\n",
       "  </thead>\n",
       "  <tbody>\n",
       "    <tr>\n",
       "      <th>0</th>\n",
       "      <td>619</td>\n",
       "      <td>42</td>\n",
       "      <td>2.0</td>\n",
       "      <td>0.00</td>\n",
       "      <td>1</td>\n",
       "      <td>1</td>\n",
       "      <td>1</td>\n",
       "      <td>101348.88</td>\n",
       "      <td>0</td>\n",
       "      <td>0</td>\n",
       "      <td>0</td>\n",
       "    </tr>\n",
       "    <tr>\n",
       "      <th>1</th>\n",
       "      <td>608</td>\n",
       "      <td>41</td>\n",
       "      <td>1.0</td>\n",
       "      <td>83807.86</td>\n",
       "      <td>1</td>\n",
       "      <td>0</td>\n",
       "      <td>1</td>\n",
       "      <td>112542.58</td>\n",
       "      <td>0</td>\n",
       "      <td>1</td>\n",
       "      <td>0</td>\n",
       "    </tr>\n",
       "    <tr>\n",
       "      <th>2</th>\n",
       "      <td>502</td>\n",
       "      <td>42</td>\n",
       "      <td>8.0</td>\n",
       "      <td>159660.80</td>\n",
       "      <td>3</td>\n",
       "      <td>1</td>\n",
       "      <td>0</td>\n",
       "      <td>113931.57</td>\n",
       "      <td>0</td>\n",
       "      <td>0</td>\n",
       "      <td>0</td>\n",
       "    </tr>\n",
       "    <tr>\n",
       "      <th>3</th>\n",
       "      <td>699</td>\n",
       "      <td>39</td>\n",
       "      <td>1.0</td>\n",
       "      <td>0.00</td>\n",
       "      <td>2</td>\n",
       "      <td>0</td>\n",
       "      <td>0</td>\n",
       "      <td>93826.63</td>\n",
       "      <td>0</td>\n",
       "      <td>0</td>\n",
       "      <td>0</td>\n",
       "    </tr>\n",
       "    <tr>\n",
       "      <th>4</th>\n",
       "      <td>850</td>\n",
       "      <td>43</td>\n",
       "      <td>2.0</td>\n",
       "      <td>125510.82</td>\n",
       "      <td>1</td>\n",
       "      <td>1</td>\n",
       "      <td>1</td>\n",
       "      <td>79084.10</td>\n",
       "      <td>0</td>\n",
       "      <td>1</td>\n",
       "      <td>0</td>\n",
       "    </tr>\n",
       "  </tbody>\n",
       "</table>\n",
       "</div>"
      ],
      "text/plain": [
       "   CreditScore  Age  Tenure    Balance  NumOfProducts  HasCrCard  \\\n",
       "0          619   42     2.0       0.00              1          1   \n",
       "1          608   41     1.0   83807.86              1          0   \n",
       "2          502   42     8.0  159660.80              3          1   \n",
       "3          699   39     1.0       0.00              2          0   \n",
       "4          850   43     2.0  125510.82              1          1   \n",
       "\n",
       "   IsActiveMember  EstimatedSalary  Geography_Germany  Geography_Spain  \\\n",
       "0               1        101348.88                  0                0   \n",
       "1               1        112542.58                  0                1   \n",
       "2               0        113931.57                  0                0   \n",
       "3               0         93826.63                  0                0   \n",
       "4               1         79084.10                  0                1   \n",
       "\n",
       "   Gender_Male  \n",
       "0            0  \n",
       "1            0  \n",
       "2            0  \n",
       "3            0  \n",
       "4            0  "
      ]
     },
     "execution_count": 12,
     "metadata": {},
     "output_type": "execute_result"
    }
   ],
   "source": [
    "features.head()"
   ]
  },
  {
   "cell_type": "code",
   "execution_count": 80,
   "metadata": {
    "scrolled": true
   },
   "outputs": [
    {
     "name": "stdout",
     "output_type": "stream",
     "text": [
      "0.2913165266106442\n"
     ]
    },
    {
     "data": {
      "image/png": "[encoded data removed]",
      "text/plain": [
       "<Figure size 432x288 with 1 Axes>"
      ]
     },
     "metadata": {
      "needs_background": "light"
     },
     "output_type": "display_data"
    }
   ],
   "source": [
    "model = LogisticRegression(random_state=12345, solver='liblinear')\n",
    "model.fit(features_train, target_train)\n",
    "print(f1_score(target_valid, model.predict(features_valid)))\n",
    "\n",
    "\n",
    "probabilities_valid = model.predict_proba(features_valid)\n",
    "probabilities_one_valid = probabilities_valid[:, 1]\n",
    "\n",
    "fpr, tpr, thresholds = roc_curve(target_valid, probabilities_one_valid)\n",
    "plt.plot(fpr,tpr, label='roc_auc_score='+str(roc_auc_score(target_valid, probabilities_one_valid)))\n",
    "plt.ylabel('True Positive Rate')\n",
    "plt.xlabel('False Positive Rate')\n",
    "plt.legend(loc='best')\n",
    "plt.show()\n"
   ]
  },
  {
   "cell_type": "markdown",
   "metadata": {},
   "source": [
    "График показывает, что модель лучше случайной, но по f1 видно, что есть возможность для улучшения"
   ]
  },
  {
   "cell_type": "markdown",
   "metadata": {},
   "source": [
    "2. Дерево"
   ]
  },
  {
   "cell_type": "code",
   "execution_count": 81,
   "metadata": {
    "scrolled": true
   },
   "outputs": [
    {
     "name": "stdout",
     "output_type": "stream",
     "text": [
      "0.5773672055427252 5\n"
     ]
    },
    {
     "data": {
      "image/png": "[encoded data removed]",
      "text/plain": [
       "<Figure size 432x288 with 1 Axes>"
      ]
     },
     "metadata": {
      "needs_background": "light"
     },
     "output_type": "display_data"
    }
   ],
   "source": [
    "best_result = 0\n",
    "best_depth = 0 \n",
    "for depth in range(1, 16, 1):\n",
    "    model = DecisionTreeClassifier(max_depth=depth, random_state=12345)\n",
    "    model.fit(features_train, target_train)\n",
    "    if f1_score(target_valid, model.predict(features_valid)) > best_result:\n",
    "        best_result = f1_score(target_valid, model.predict(features_valid))\n",
    "        best_depth = depth\n",
    "print(best_result, best_depth)\n",
    "\n",
    "probabilities_valid = model.predict_proba(features_valid)\n",
    "probabilities_one_valid = probabilities_valid[:, 1]\n",
    "\n",
    "fpr, tpr, thresholds = roc_curve(target_valid, probabilities_one_valid)\n",
    "plt.plot(fpr,tpr, label='roc_auc_score='+str(roc_auc_score(target_valid, probabilities_one_valid)))\n",
    "plt.ylabel('True Positive Rate')\n",
    "plt.xlabel('False Positive Rate')\n",
    "plt.legend(loc='best')\n",
    "plt.show()"
   ]
  },
  {
   "cell_type": "markdown",
   "metadata": {},
   "source": [
    "Лучшим оказалось дерево с глубиной 7, для которого результат f1 больше, чем у линейной регрессии, но график немного хуже"
   ]
  },
  {
   "cell_type": "markdown",
   "metadata": {},
   "source": [
    "3. Лес"
   ]
  },
  {
   "cell_type": "code",
   "execution_count": 47,
   "metadata": {},
   "outputs": [
    {
     "name": "stdout",
     "output_type": "stream",
     "text": [
      "0.601123595505618 14 90\n"
     ]
    },
    {
     "data": {
      "image/png": "[encoded data removed]",
      "text/plain": [
       "<Figure size 432x288 with 1 Axes>"
      ]
     },
     "metadata": {
      "needs_background": "light"
     },
     "output_type": "display_data"
    }
   ],
   "source": [
    "best_result = 0\n",
    "best_depth = 0 \n",
    "best_est = 0\n",
    "for depth in range(1, 16, 1):\n",
    "    for est in range(20, 100, 10):\n",
    "        model = RandomForestClassifier(n_estimators=est, max_depth=depth, random_state=12345)\n",
    "        model.fit(features_train, target_train)\n",
    "        if f1_score(target_valid, model.predict(features_valid)) > best_result:\n",
    "            best_result = f1_score(target_valid, model.predict(features_valid))\n",
    "            best_depth = depth\n",
    "            best_est = est\n",
    "print(best_result, best_depth, best_est)\n",
    "\n",
    "\n",
    "probabilities_valid = model.predict_proba(features_valid)\n",
    "probabilities_one_valid = probabilities_valid[:, 1]\n",
    "\n",
    "fpr, tpr, thresholds = roc_curve(target_valid, probabilities_one_valid)\n",
    "plt.plot(fpr,tpr, label='roc_auc_score='+str(roc_auc_score(target_valid, probabilities_one_valid)))\n",
    "plt.ylabel('True Positive Rate')\n",
    "plt.xlabel('False Positive Rate')\n",
    "plt.legend(loc='best')\n",
    "plt.show()"
   ]
  },
  {
   "cell_type": "markdown",
   "metadata": {},
   "source": [
    "Для леса деревьев лучше всего оказалась глубина 15 при количестве 70.\n",
    "На фоне линейной модели и одного дерева метрика f1 и график стали значительно лучше.\n"
   ]
  },
  {
   "cell_type": "markdown",
   "metadata": {},
   "source": [
    "Пока что результат неудовлетворительный. Посмотрим улушится ли он путем борьбы с дисбалансом"
   ]
  },
  {
   "cell_type": "markdown",
   "metadata": {},
   "source": [
    "## Борьба с дисбалансом"
   ]
  },
  {
   "cell_type": "code",
   "execution_count": 82,
   "metadata": {
    "scrolled": false
   },
   "outputs": [
    {
     "data": {
      "image/png": "[encoded data removed]",
      "text/plain": [
       "<Figure size 432x288 with 1 Axes>"
      ]
     },
     "metadata": {},
     "output_type": "display_data"
    }
   ],
   "source": [
    "plot = data.groupby('Exited')['Exited'].count().plot.pie()"
   ]
  },
  {
   "cell_type": "markdown",
   "metadata": {},
   "source": [
    "В целевом признаке неравномерное распределение -- где-то четверть клиентов, ушедших из банка. Воспользуемся методом upsample"
   ]
  },
  {
   "cell_type": "code",
   "execution_count": 83,
   "metadata": {},
   "outputs": [],
   "source": [
    "def upsample(features, target, repeat):\n",
    "    features_zeros = features[target == 0]\n",
    "    features_ones = features[target == 1]\n",
    "    target_zeros = target[target == 0]\n",
    "    target_ones = target[target == 1]\n",
    "\n",
    "    features_upsampled = pd.concat([features_zeros] + [features_ones] * repeat)\n",
    "    target_upsampled = pd.concat([target_zeros] + [target_ones] * repeat)\n",
    "    \n",
    "    features_upsampled, target_upsampled = shuffle(\n",
    "        features_upsampled, target_upsampled, random_state=12345)\n",
    "    \n",
    "    return features_upsampled, target_upsampled\n",
    "\n",
    "features_upsampled, target_upsampled = upsample(features_train, target_train, 4)\n"
   ]
  },
  {
   "cell_type": "code",
   "execution_count": 84,
   "metadata": {
    "scrolled": true
   },
   "outputs": [
    {
     "data": {
      "image/png": "[encoded data removed]",
      "text/plain": [
       "<Figure size 432x288 with 1 Axes>"
      ]
     },
     "metadata": {},
     "output_type": "display_data"
    }
   ],
   "source": [
    "plot = target_upsampled.groupby(target_upsampled).count().plot.pie()"
   ]
  },
  {
   "cell_type": "markdown",
   "metadata": {},
   "source": [
    "Посмотрим, как изменится результат после балансировки:\n",
    "1. Линейная модель"
   ]
  },
  {
   "cell_type": "code",
   "execution_count": 85,
   "metadata": {},
   "outputs": [
    {
     "name": "stdout",
     "output_type": "stream",
     "text": [
      "0.5132978723404255\n"
     ]
    },
    {
     "data": {
      "image/png": "[encoded data removed]",
      "text/plain": [
       "<Figure size 432x288 with 1 Axes>"
      ]
     },
     "metadata": {
      "needs_background": "light"
     },
     "output_type": "display_data"
    }
   ],
   "source": [
    "model = LogisticRegression(random_state=12345, solver='liblinear', class_weight='balanced')\n",
    "model.fit(features_upsampled, target_upsampled)\n",
    "print(f1_score(target_valid, model.predict(features_valid)))\n",
    "\n",
    "\n",
    "probabilities_valid = model.predict_proba(features_valid)\n",
    "probabilities_one_valid = probabilities_valid[:, 1]\n",
    "\n",
    "fpr, tpr, thresholds = roc_curve(target_valid, probabilities_one_valid)\n",
    "plt.plot(fpr,tpr, label='roc_auc_score='+str(roc_auc_score(target_valid, probabilities_one_valid)))\n",
    "plt.ylabel('True Positive Rate')\n",
    "plt.xlabel('False Positive Rate')\n",
    "plt.legend(loc='best')\n",
    "plt.show()\n"
   ]
  },
  {
   "cell_type": "markdown",
   "metadata": {},
   "source": [
    "Заметно выросла метрика f1"
   ]
  },
  {
   "cell_type": "markdown",
   "metadata": {},
   "source": [
    "2. Дерево"
   ]
  },
  {
   "cell_type": "code",
   "execution_count": 86,
   "metadata": {},
   "outputs": [
    {
     "name": "stdout",
     "output_type": "stream",
     "text": [
      "0.6035889070146819 5\n"
     ]
    },
    {
     "data": {
      "image/png": "[encoded data removed]",
      "text/plain": [
       "<Figure size 432x288 with 1 Axes>"
      ]
     },
     "metadata": {
      "needs_background": "light"
     },
     "output_type": "display_data"
    }
   ],
   "source": [
    "best_result = 0\n",
    "best_depth = 0 \n",
    "for depth in range(1, 16, 1):\n",
    "    model = DecisionTreeClassifier(max_depth=depth, random_state=12345, class_weight='balanced')\n",
    "    model.fit(features_upsampled, target_upsampled)\n",
    "    if f1_score(target_valid, model.predict(features_valid)) > best_result:\n",
    "        best_result = f1_score(target_valid, model.predict(features_valid))\n",
    "        best_depth = depth\n",
    "print(best_result, best_depth)\n",
    "\n",
    "probabilities_valid = model.predict_proba(features_valid)\n",
    "probabilities_one_valid = probabilities_valid[:, 1]\n",
    "\n",
    "fpr, tpr, thresholds = roc_curve(target_valid, probabilities_one_valid)\n",
    "plt.plot(fpr,tpr, label='roc_auc_score='+str(roc_auc_score(target_valid, probabilities_one_valid)))\n",
    "plt.ylabel('True Positive Rate')\n",
    "plt.xlabel('False Positive Rate')\n",
    "plt.legend(loc='best')\n",
    "plt.show()"
   ]
  },
  {
   "cell_type": "markdown",
   "metadata": {},
   "source": [
    "Немного выросло значение f1, поменялась глубина"
   ]
  },
  {
   "cell_type": "markdown",
   "metadata": {},
   "source": [
    "3. Лес"
   ]
  },
  {
   "cell_type": "code",
   "execution_count": 87,
   "metadata": {},
   "outputs": [
    {
     "name": "stdout",
     "output_type": "stream",
     "text": [
      "0.6538461538461539 13 30\n"
     ]
    },
    {
     "data": {
      "image/png": "[encoded data removed]",
      "text/plain": [
       "<Figure size 432x288 with 1 Axes>"
      ]
     },
     "metadata": {
      "needs_background": "light"
     },
     "output_type": "display_data"
    }
   ],
   "source": [
    "best_result = 0\n",
    "best_depth = 0 \n",
    "best_est = 0\n",
    "for depth in range(1, 16, 1):\n",
    "    for est in range(20, 100, 10):\n",
    "        model = RandomForestClassifier(n_estimators=est, max_depth=depth, random_state=12345, class_weight='balanced')\n",
    "        model.fit(features_upsampled, target_upsampled)\n",
    "        if f1_score(target_valid, model.predict(features_valid)) > best_result:\n",
    "            best_result = f1_score(target_valid, model.predict(features_valid))\n",
    "            best_depth = depth\n",
    "            best_est = est\n",
    "print(best_result, best_depth, best_est)\n",
    "\n",
    "\n",
    "probabilities_valid = model.predict_proba(features_valid)\n",
    "probabilities_one_valid = probabilities_valid[:, 1]\n",
    "\n",
    "fpr, tpr, thresholds = roc_curve(target_valid, probabilities_one_valid)\n",
    "plt.plot(fpr,tpr, label='roc_auc_score='+str(roc_auc_score(target_valid, probabilities_one_valid)))\n",
    "plt.ylabel('True Positive Rate')\n",
    "plt.xlabel('False Positive Rate')\n",
    "plt.legend(loc='best')\n",
    "plt.show()"
   ]
  },
  {
   "cell_type": "markdown",
   "metadata": {},
   "source": [
    "Примечательно, что метрика f1 улучшилась незначительно,  увеличилось количество (с 70 до 90), roc_auc_score сильно вырос. Осталось выбрать лучший порог:"
   ]
  },
  {
   "cell_type": "code",
   "execution_count": 88,
   "metadata": {},
   "outputs": [
    {
     "name": "stdout",
     "output_type": "stream",
     "text": [
      "0.6566604127579738 0.48\n"
     ]
    },
    {
     "data": {
      "image/png": "[encoded data removed]",
      "text/plain": [
       "<Figure size 432x288 with 1 Axes>"
      ]
     },
     "metadata": {
      "needs_background": "light"
     },
     "output_type": "display_data"
    }
   ],
   "source": [
    "model = RandomForestClassifier(n_estimators=best_est, max_depth=best_depth, random_state=12345, class_weight='balanced')\n",
    "model.fit(features_upsampled, target_upsampled)\n",
    "\n",
    "probabilities_valid = model.predict_proba(features_valid)\n",
    "probabilities_one_valid = probabilities_valid[:, 1]\n",
    "\n",
    "best_threshold = 0\n",
    "best_result = 0\n",
    "for threshold in np.arange(0, 1, 0.02):\n",
    "    predicted_valid = probabilities_one_valid > threshold\n",
    "    if f1_score(target_valid, predicted_valid) > best_result:\n",
    "        best_result = f1_score(target_valid, predicted_valid)\n",
    "        best_threshold = threshold\n",
    "\n",
    "print(best_result, best_threshold)\n",
    "\n",
    "\n",
    "\n",
    "probabilities_valid = model.predict_proba(features_valid)\n",
    "probabilities_one_valid = probabilities_valid[:, 1]\n",
    "\n",
    "fpr, tpr, thresholds = roc_curve(target_valid, probabilities_one_valid)\n",
    "plt.plot(fpr,tpr, label='roc_auc_score='+str(roc_auc_score(target_valid, probabilities_one_valid)))\n",
    "plt.ylabel('True Positive Rate')\n",
    "plt.xlabel('False Positive Rate')\n",
    "plt.legend(loc='best')\n",
    "plt.show()"
   ]
  },
  {
   "cell_type": "markdown",
   "metadata": {},
   "source": [
    "Порог незначительно улучшил метрики"
   ]
  },
  {
   "cell_type": "markdown",
   "metadata": {},
   "source": [
    "## Другой способ устранения дисбаланса"
   ]
  },
  {
   "cell_type": "markdown",
   "metadata": {},
   "source": [
    "Для начала сбросим выборки"
   ]
  },
  {
   "cell_type": "code",
   "execution_count": 89,
   "metadata": {
    "scrolled": true
   },
   "outputs": [
    {
     "data": {
      "image/png": "[encoded data removed]",
      "text/plain": [
       "<Figure size 432x288 with 1 Axes>"
      ]
     },
     "metadata": {},
     "output_type": "display_data"
    }
   ],
   "source": [
    "plot = target_train.groupby(target_train).count().plot.pie()"
   ]
  },
  {
   "cell_type": "code",
   "execution_count": 90,
   "metadata": {},
   "outputs": [],
   "source": [
    "def downsample(features, target, fraction):\n",
    "    features_zeros = features[target == 0]\n",
    "    features_ones = features[target == 1]\n",
    "    target_zeros = target[target == 0]\n",
    "    target_ones = target[target == 1]\n",
    "\n",
    "    features_downsampled = pd.concat(\n",
    "        [features_zeros.sample(frac=fraction, random_state=12345)] + [features_ones])\n",
    "    target_downsampled = pd.concat(\n",
    "        [target_zeros.sample(frac=fraction, random_state=12345)] + [target_ones])\n",
    "    \n",
    "    features_downsampled, target_downsampled = shuffle(\n",
    "        features_downsampled, target_downsampled, random_state=12345)\n",
    "    \n",
    "    return features_downsampled, target_downsampled\n",
    "\n",
    "features_downsampled, target_downsampled = downsample(features_train, target_train, 0.25)"
   ]
  },
  {
   "cell_type": "code",
   "execution_count": 91,
   "metadata": {
    "scrolled": true
   },
   "outputs": [
    {
     "data": {
      "image/png": "[encoded data removed]",
      "text/plain": [
       "<Figure size 432x288 with 1 Axes>"
      ]
     },
     "metadata": {},
     "output_type": "display_data"
    }
   ],
   "source": [
    "plot = target_downsampled.groupby(target_downsampled).count().plot.pie()"
   ]
  },
  {
   "cell_type": "markdown",
   "metadata": {},
   "source": [
    "Посмотрим на поведение леса"
   ]
  },
  {
   "cell_type": "code",
   "execution_count": 92,
   "metadata": {
    "scrolled": true
   },
   "outputs": [
    {
     "name": "stdout",
     "output_type": "stream",
     "text": [
      "0.5940594059405941 0.48\n"
     ]
    },
    {
     "data": {
      "image/png": "[encoded data removed]",
      "text/plain": [
       "<Figure size 432x288 with 1 Axes>"
      ]
     },
     "metadata": {
      "needs_background": "light"
     },
     "output_type": "display_data"
    }
   ],
   "source": [
    "model = RandomForestClassifier(n_estimators=best_est, max_depth=best_depth, random_state=12345, class_weight='balanced')\n",
    "model.fit(features_downsampled, target_downsampled)\n",
    "\n",
    "probabilities_valid = model.predict_proba(features_valid)\n",
    "probabilities_one_valid = probabilities_valid[:, 1]\n",
    "\n",
    "best_threshold = 0\n",
    "best_result = 0\n",
    "for threshold in np.arange(0, 0.5, 0.02):\n",
    "    predicted_valid = probabilities_one_valid > threshold\n",
    "    if f1_score(target_valid, predicted_valid) > best_result:\n",
    "        best_result = f1_score(target_valid, predicted_valid)\n",
    "        best_threshold = threshold\n",
    "\n",
    "print(best_result, best_threshold)\n",
    "\n",
    "\n",
    "\n",
    "probabilities_valid = model.predict_proba(features_valid)\n",
    "probabilities_one_valid = probabilities_valid[:, 1]\n",
    "\n",
    "fpr, tpr, thresholds = roc_curve(target_valid, probabilities_one_valid)\n",
    "plt.plot(fpr,tpr, label='roc_auc_score='+str(roc_auc_score(target_valid, probabilities_one_valid)))\n",
    "plt.ylabel('True Positive Rate')\n",
    "plt.xlabel('False Positive Rate')\n",
    "plt.legend(loc='best')\n",
    "plt.show()"
   ]
  },
  {
   "cell_type": "markdown",
   "metadata": {},
   "source": [
    "Результат оказался хуже, чем у метода upsample, поэтому для тестирования его не будем использовать"
   ]
  },
  {
   "cell_type": "markdown",
   "metadata": {},
   "source": [
    "## Тестирование модели"
   ]
  },
  {
   "cell_type": "markdown",
   "metadata": {},
   "source": [
    "Вот модель до:"
   ]
  },
  {
   "cell_type": "code",
   "execution_count": 93,
   "metadata": {},
   "outputs": [
    {
     "data": {
      "text/plain": [
       "RandomForestClassifier(max_depth=70, n_estimators=15, random_state=12345)"
      ]
     },
     "execution_count": 93,
     "metadata": {},
     "output_type": "execute_result"
    }
   ],
   "source": [
    "model = RandomForestClassifier(n_estimators=15, max_depth=70, random_state=12345)\n",
    "model.fit(features_train, target_train)"
   ]
  },
  {
   "cell_type": "code",
   "execution_count": 94,
   "metadata": {},
   "outputs": [
    {
     "name": "stdout",
     "output_type": "stream",
     "text": [
      "0.5616438356164384\n",
      "0.7041193010946709\n"
     ]
    }
   ],
   "source": [
    "print(f1_score(target_test, model.predict(features_test)))\n",
    "print(roc_auc_score(target_test, model.predict(features_test)))"
   ]
  },
  {
   "cell_type": "markdown",
   "metadata": {},
   "source": [
    "Создадим модель с лучшими параметрами:"
   ]
  },
  {
   "cell_type": "code",
   "execution_count": 98,
   "metadata": {},
   "outputs": [
    {
     "data": {
      "text/plain": [
       "RandomForestClassifier(class_weight='balanced', max_depth=30, n_estimators=15,\n",
       "                       random_state=12345)"
      ]
     },
     "execution_count": 98,
     "metadata": {},
     "output_type": "execute_result"
    }
   ],
   "source": [
    "model = RandomForestClassifier(n_estimators=15, max_depth=30, random_state=12345, class_weight='balanced')\n",
    "model.fit(features_upsampled, target_upsampled)\n",
    "model"
   ]
  },
  {
   "cell_type": "code",
   "execution_count": 101,
   "metadata": {},
   "outputs": [
    {
     "name": "stdout",
     "output_type": "stream",
     "text": [
      "0.6184448462929476\n",
      "0.7581010164802117\n"
     ]
    }
   ],
   "source": [
    "print(f1_score(target_test, model.predict_proba(features_test)[:, 1]>0.46))\n",
    "print(roc_auc_score(target_test, model.predict_proba(features_test)[:, 1]>0.46))"
   ]
  },
  {
   "cell_type": "markdown",
   "metadata": {},
   "source": [
    "## Вывод"
   ]
  },
  {
   "cell_type": "markdown",
   "metadata": {},
   "source": [
    "В проекте были протестированы три типа моделей (Линейная, Дерево и Лес) с целью поиска наилучшей по метрике f1. Лучше всего показал себя лес деревьев со следующими параметрами:\n",
    "depth = 11 \n",
    "n_estimators = 90\n",
    "threshold = 0.5\n",
    "upsample\n",
    " "
   ]
  },
  {
   "cell_type": "code",
   "execution_count": 97,
   "metadata": {
    "scrolled": true
   },
   "outputs": [
    {
     "data": {
      "application/vnd.plotly.v1+json": {
       "config": {
        "plotlyServerURL": "https://plot.ly"
       },
       "data": [
        {
         "type": "bar",
         "x": [
          "CreditScore",
          "Age",
          "Tenure",
          "Balance",
          "NumOfProducts",
          "HasCrCard",
          "IsActiveMember",
          "EstimatedSalary",
          "Geography_Germany",
          "Geography_Spain",
          "Gender_Male"
         ],
         "y": [
          0.1372946913452307,
          0.25375264524172064,
          0.07740363945981425,
          0.14098665322188028,
          0.12501934364778006,
          0.019189006456730988,
          0.03975944922688389,
          0.1418858456614346,
          0.03231169549758623,
          0.012892164653842577,
          0.019504865587095806
         ]
        }
       ],
       "layout": {
        "template": {
         "data": {
          "bar": [
           {
            "error_x": {
             "color": "#2a3f5f"
            },
            "error_y": {
             "color": "#2a3f5f"
            },
            "marker": {
             "line": {
              "color": "#E5ECF6",
              "width": 0.5
             },
             "pattern": {
              "fillmode": "overlay",
              "size": 10,
              "solidity": 0.2
             }
            },
            "type": "bar"
           }
          ],
          "barpolar": [
           {
            "marker": {
             "line": {
              "color": "#E5ECF6",
              "width": 0.5
             },
             "pattern": {
              "fillmode": "overlay",
              "size": 10,
              "solidity": 0.2
             }
            },
            "type": "barpolar"
           }
          ],
          "carpet": [
           {
            "aaxis": {
             "endlinecolor": "#2a3f5f",
             "gridcolor": "white",
             "linecolor": "white",
             "minorgridcolor": "white",
             "startlinecolor": "#2a3f5f"
            },
            "baxis": {
             "endlinecolor": "#2a3f5f",
             "gridcolor": "white",
             "linecolor": "white",
             "minorgridcolor": "white",
             "startlinecolor": "#2a3f5f"
            },
            "type": "carpet"
           }
          ],
          "choropleth": [
           {
            "colorbar": {
             "outlinewidth": 0,
             "ticks": ""
            },
            "type": "choropleth"
           }
          ],
          "contour": [
           {
            "colorbar": {
             "outlinewidth": 0,
             "ticks": ""
            },
            "colorscale": [
             [
              0,
              "#0d0887"
             ],
             [
              0.1111111111111111,
              "#46039f"
             ],
             [
              0.2222222222222222,
              "#7201a8"
             ],
             [
              0.3333333333333333,
              "#9c179e"
             ],
             [
              0.4444444444444444,
              "#bd3786"
             ],
             [
              0.5555555555555556,
              "#d8576b"
             ],
             [
              0.6666666666666666,
              "#ed7953"
             ],
             [
              0.7777777777777778,
              "#fb9f3a"
             ],
             [
              0.8888888888888888,
              "#fdca26"
             ],
             [
              1,
              "#f0f921"
             ]
            ],
            "type": "contour"
           }
          ],
          "contourcarpet": [
           {
            "colorbar": {
             "outlinewidth": 0,
             "ticks": ""
            },
            "type": "contourcarpet"
           }
          ],
          "heatmap": [
           {
            "colorbar": {
             "outlinewidth": 0,
             "ticks": ""
            },
            "colorscale": [
             [
              0,
              "#0d0887"
             ],
             [
              0.1111111111111111,
              "#46039f"
             ],
             [
              0.2222222222222222,
              "#7201a8"
             ],
             [
              0.3333333333333333,
              "#9c179e"
             ],
             [
              0.4444444444444444,
              "#bd3786"
             ],
             [
              0.5555555555555556,
              "#d8576b"
             ],
             [
              0.6666666666666666,
              "#ed7953"
             ],
             [
              0.7777777777777778,
              "#fb9f3a"
             ],
             [
              0.8888888888888888,
              "#fdca26"
             ],
             [
              1,
              "#f0f921"
             ]
            ],
            "type": "heatmap"
           }
          ],
          "heatmapgl": [
           {
            "colorbar": {
             "outlinewidth": 0,
             "ticks": ""
            },
            "colorscale": [
             [
              0,
              "#0d0887"
             ],
             [
              0.1111111111111111,
              "#46039f"
             ],
             [
              0.2222222222222222,
              "#7201a8"
             ],
             [
              0.3333333333333333,
              "#9c179e"
             ],
             [
              0.4444444444444444,
              "#bd3786"
             ],
             [
              0.5555555555555556,
              "#d8576b"
             ],
             [
              0.6666666666666666,
              "#ed7953"
             ],
             [
              0.7777777777777778,
              "#fb9f3a"
             ],
             [
              0.8888888888888888,
              "#fdca26"
             ],
             [
              1,
              "#f0f921"
             ]
            ],
            "type": "heatmapgl"
           }
          ],
          "histogram": [
           {
            "marker": {
             "pattern": {
              "fillmode": "overlay",
              "size": 10,
              "solidity": 0.2
             }
            },
            "type": "histogram"
           }
          ],
          "histogram2d": [
           {
            "colorbar": {
             "outlinewidth": 0,
             "ticks": ""
            },
            "colorscale": [
             [
              0,
              "#0d0887"
             ],
             [
              0.1111111111111111,
              "#46039f"
             ],
             [
              0.2222222222222222,
              "#7201a8"
             ],
             [
              0.3333333333333333,
              "#9c179e"
             ],
             [
              0.4444444444444444,
              "#bd3786"
             ],
             [
              0.5555555555555556,
              "#d8576b"
             ],
             [
              0.6666666666666666,
              "#ed7953"
             ],
             [
              0.7777777777777778,
              "#fb9f3a"
             ],
             [
              0.8888888888888888,
              "#fdca26"
             ],
             [
              1,
              "#f0f921"
             ]
            ],
            "type": "histogram2d"
           }
          ],
          "histogram2dcontour": [
           {
            "colorbar": {
             "outlinewidth": 0,
             "ticks": ""
            },
            "colorscale": [
             [
              0,
              "#0d0887"
             ],
             [
              0.1111111111111111,
              "#46039f"
             ],
             [
              0.2222222222222222,
              "#7201a8"
             ],
             [
              0.3333333333333333,
              "#9c179e"
             ],
             [
              0.4444444444444444,
              "#bd3786"
             ],
             [
              0.5555555555555556,
              "#d8576b"
             ],
             [
              0.6666666666666666,
              "#ed7953"
             ],
             [
              0.7777777777777778,
              "#fb9f3a"
             ],
             [
              0.8888888888888888,
              "#fdca26"
             ],
             [
              1,
              "#f0f921"
             ]
            ],
            "type": "histogram2dcontour"
           }
          ],
          "mesh3d": [
           {
            "colorbar": {
             "outlinewidth": 0,
             "ticks": ""
            },
            "type": "mesh3d"
           }
          ],
          "parcoords": [
           {
            "line": {
             "colorbar": {
              "outlinewidth": 0,
              "ticks": ""
             }
            },
            "type": "parcoords"
           }
          ],
          "pie": [
           {
            "automargin": true,
            "type": "pie"
           }
          ],
          "scatter": [
           {
            "marker": {
             "colorbar": {
              "outlinewidth": 0,
              "ticks": ""
             }
            },
            "type": "scatter"
           }
          ],
          "scatter3d": [
           {
            "line": {
             "colorbar": {
              "outlinewidth": 0,
              "ticks": ""
             }
            },
            "marker": {
             "colorbar": {
              "outlinewidth": 0,
              "ticks": ""
             }
            },
            "type": "scatter3d"
           }
          ],
          "scattercarpet": [
           {
            "marker": {
             "colorbar": {
              "outlinewidth": 0,
              "ticks": ""
             }
            },
            "type": "scattercarpet"
           }
          ],
          "scattergeo": [
           {
            "marker": {
             "colorbar": {
              "outlinewidth": 0,
              "ticks": ""
             }
            },
            "type": "scattergeo"
           }
          ],
          "scattergl": [
           {
            "marker": {
             "colorbar": {
              "outlinewidth": 0,
              "ticks": ""
             }
            },
            "type": "scattergl"
           }
          ],
          "scattermapbox": [
           {
            "marker": {
             "colorbar": {
              "outlinewidth": 0,
              "ticks": ""
             }
            },
            "type": "scattermapbox"
           }
          ],
          "scatterpolar": [
           {
            "marker": {
             "colorbar": {
              "outlinewidth": 0,
              "ticks": ""
             }
            },
            "type": "scatterpolar"
           }
          ],
          "scatterpolargl": [
           {
            "marker": {
             "colorbar": {
              "outlinewidth": 0,
              "ticks": ""
             }
            },
            "type": "scatterpolargl"
           }
          ],
          "scatterternary": [
           {
            "marker": {
             "colorbar": {
              "outlinewidth": 0,
              "ticks": ""
             }
            },
            "type": "scatterternary"
           }
          ],
          "surface": [
           {
            "colorbar": {
             "outlinewidth": 0,
             "ticks": ""
            },
            "colorscale": [
             [
              0,
              "#0d0887"
             ],
             [
              0.1111111111111111,
              "#46039f"
             ],
             [
              0.2222222222222222,
              "#7201a8"
             ],
             [
              0.3333333333333333,
              "#9c179e"
             ],
             [
              0.4444444444444444,
              "#bd3786"
             ],
             [
              0.5555555555555556,
              "#d8576b"
             ],
             [
              0.6666666666666666,
              "#ed7953"
             ],
             [
              0.7777777777777778,
              "#fb9f3a"
             ],
             [
              0.8888888888888888,
              "#fdca26"
             ],
             [
              1,
              "#f0f921"
             ]
            ],
            "type": "surface"
           }
          ],
          "table": [
           {
            "cells": {
             "fill": {
              "color": "#EBF0F8"
             },
             "line": {
              "color": "white"
             }
            },
            "header": {
             "fill": {
              "color": "#C8D4E3"
             },
             "line": {
              "color": "white"
             }
            },
            "type": "table"
           }
          ]
         },
         "layout": {
          "annotationdefaults": {
           "arrowcolor": "#2a3f5f",
           "arrowhead": 0,
           "arrowwidth": 1
          },
          "autotypenumbers": "strict",
          "coloraxis": {
           "colorbar": {
            "outlinewidth": 0,
            "ticks": ""
           }
          },
          "colorscale": {
           "diverging": [
            [
             0,
             "#8e0152"
            ],
            [
             0.1,
             "#c51b7d"
            ],
            [
             0.2,
             "#de77ae"
            ],
            [
             0.3,
             "#f1b6da"
            ],
            [
             0.4,
             "#fde0ef"
            ],
            [
             0.5,
             "#f7f7f7"
            ],
            [
             0.6,
             "#e6f5d0"
            ],
            [
             0.7,
             "#b8e186"
            ],
            [
             0.8,
             "#7fbc41"
            ],
            [
             0.9,
             "#4d9221"
            ],
            [
             1,
             "#276419"
            ]
           ],
           "sequential": [
            [
             0,
             "#0d0887"
            ],
            [
             0.1111111111111111,
             "#46039f"
            ],
            [
             0.2222222222222222,
             "#7201a8"
            ],
            [
             0.3333333333333333,
             "#9c179e"
            ],
            [
             0.4444444444444444,
             "#bd3786"
            ],
            [
             0.5555555555555556,
             "#d8576b"
            ],
            [
             0.6666666666666666,
             "#ed7953"
            ],
            [
             0.7777777777777778,
             "#fb9f3a"
            ],
            [
             0.8888888888888888,
             "#fdca26"
            ],
            [
             1,
             "#f0f921"
            ]
           ],
           "sequentialminus": [
            [
             0,
             "#0d0887"
            ],
            [
             0.1111111111111111,
             "#46039f"
            ],
            [
             0.2222222222222222,
             "#7201a8"
            ],
            [
             0.3333333333333333,
             "#9c179e"
            ],
            [
             0.4444444444444444,
             "#bd3786"
            ],
            [
             0.5555555555555556,
             "#d8576b"
            ],
            [
             0.6666666666666666,
             "#ed7953"
            ],
            [
             0.7777777777777778,
             "#fb9f3a"
            ],
            [
             0.8888888888888888,
             "#fdca26"
            ],
            [
             1,
             "#f0f921"
            ]
           ]
          },
          "colorway": [
           "#636efa",
           "#EF553B",
           "#00cc96",
           "#ab63fa",
           "#FFA15A",
           "#19d3f3",
           "#FF6692",
           "#B6E880",
           "#FF97FF",
           "#FECB52"
          ],
          "font": {
           "color": "#2a3f5f"
          },
          "geo": {
           "bgcolor": "white",
           "lakecolor": "white",
           "landcolor": "#E5ECF6",
           "showlakes": true,
           "showland": true,
           "subunitcolor": "white"
          },
          "hoverlabel": {
           "align": "left"
          },
          "hovermode": "closest",
          "mapbox": {
           "style": "light"
          },
          "paper_bgcolor": "white",
          "plot_bgcolor": "#E5ECF6",
          "polar": {
           "angularaxis": {
            "gridcolor": "white",
            "linecolor": "white",
            "ticks": ""
           },
           "bgcolor": "#E5ECF6",
           "radialaxis": {
            "gridcolor": "white",
            "linecolor": "white",
            "ticks": ""
           }
          },
          "scene": {
           "xaxis": {
            "backgroundcolor": "#E5ECF6",
            "gridcolor": "white",
            "gridwidth": 2,
            "linecolor": "white",
            "showbackground": true,
            "ticks": "",
            "zerolinecolor": "white"
           },
           "yaxis": {
            "backgroundcolor": "#E5ECF6",
            "gridcolor": "white",
            "gridwidth": 2,
            "linecolor": "white",
            "showbackground": true,
            "ticks": "",
            "zerolinecolor": "white"
           },
           "zaxis": {
            "backgroundcolor": "#E5ECF6",
            "gridcolor": "white",
            "gridwidth": 2,
            "linecolor": "white",
            "showbackground": true,
            "ticks": "",
            "zerolinecolor": "white"
           }
          },
          "shapedefaults": {
           "line": {
            "color": "#2a3f5f"
           }
          },
          "ternary": {
           "aaxis": {
            "gridcolor": "white",
            "linecolor": "white",
            "ticks": ""
           },
           "baxis": {
            "gridcolor": "white",
            "linecolor": "white",
            "ticks": ""
           },
           "bgcolor": "#E5ECF6",
           "caxis": {
            "gridcolor": "white",
            "linecolor": "white",
            "ticks": ""
           }
          },
          "title": {
           "x": 0.05
          },
          "xaxis": {
           "automargin": true,
           "gridcolor": "white",
           "linecolor": "white",
           "ticks": "",
           "title": {
            "standoff": 15
           },
           "zerolinecolor": "white",
           "zerolinewidth": 2
          },
          "yaxis": {
           "automargin": true,
           "gridcolor": "white",
           "linecolor": "white",
           "ticks": "",
           "title": {
            "standoff": 15
           },
           "zerolinecolor": "white",
           "zerolinewidth": 2
          }
         }
        },
        "title": {
         "text": "Распределение весов признаков"
        }
       }
      },
      "text/html": [
       "<div>                            <div id=\"48838844-2915-4847-b7ec-6de3ee7ce967\" class=\"plotly-graph-div\" style=\"height:525px; width:100%;\"></div>            <script type=\"text/javascript\">                require([\"plotly\"], function(Plotly) {                    window.PLOTLYENV=window.PLOTLYENV || {};                                    if (document.getElementById(\"48838844-2915-4847-b7ec-6de3ee7ce967\")) {                    Plotly.newPlot(                        \"48838844-2915-4847-b7ec-6de3ee7ce967\",                        [{\"x\":[\"CreditScore\",\"Age\",\"Tenure\",\"Balance\",\"NumOfProducts\",\"HasCrCard\",\"IsActiveMember\",\"EstimatedSalary\",\"Geography_Germany\",\"Geography_Spain\",\"Gender_Male\"],\"y\":[0.1372946913452307,0.25375264524172064,0.07740363945981425,0.14098665322188028,0.12501934364778006,0.019189006456730988,0.03975944922688389,0.1418858456614346,0.03231169549758623,0.012892164653842577,0.019504865587095806],\"type\":\"bar\"}],                        {\"title\":{\"text\":\"\\u0420\\u0430\\u0441\\u043f\\u0440\\u0435\\u0434\\u0435\\u043b\\u0435\\u043d\\u0438\\u0435 \\u0432\\u0435\\u0441\\u043e\\u0432 \\u043f\\u0440\\u0438\\u0437\\u043d\\u0430\\u043a\\u043e\\u0432\"},\"template\":{\"data\":{\"bar\":[{\"error_x\":{\"color\":\"#2a3f5f\"},\"error_y\":{\"color\":\"#2a3f5f\"},\"marker\":{\"line\":{\"color\":\"#E5ECF6\",\"width\":0.5},\"pattern\":{\"fillmode\":\"overlay\",\"size\":10,\"solidity\":0.2}},\"type\":\"bar\"}],\"barpolar\":[{\"marker\":{\"line\":{\"color\":\"#E5ECF6\",\"width\":0.5},\"pattern\":{\"fillmode\":\"overlay\",\"size\":10,\"solidity\":0.2}},\"type\":\"barpolar\"}],\"carpet\":[{\"aaxis\":{\"endlinecolor\":\"#2a3f5f\",\"gridcolor\":\"white\",\"linecolor\":\"white\",\"minorgridcolor\":\"white\",\"startlinecolor\":\"#2a3f5f\"},\"baxis\":{\"endlinecolor\":\"#2a3f5f\",\"gridcolor\":\"white\",\"linecolor\":\"white\",\"minorgridcolor\":\"white\",\"startlinecolor\":\"#2a3f5f\"},\"type\":\"carpet\"}],\"choropleth\":[{\"colorbar\":{\"outlinewidth\":0,\"ticks\":\"\"},\"type\":\"choropleth\"}],\"contour\":[{\"colorbar\":{\"outlinewidth\":0,\"ticks\":\"\"},\"colorscale\":[[0.0,\"#0d0887\"],[0.1111111111111111,\"#46039f\"],[0.2222222222222222,\"#7201a8\"],[0.3333333333333333,\"#9c179e\"],[0.4444444444444444,\"#bd3786\"],[0.5555555555555556,\"#d8576b\"],[0.6666666666666666,\"#ed7953\"],[0.7777777777777778,\"#fb9f3a\"],[0.8888888888888888,\"#fdca26\"],[1.0,\"#f0f921\"]],\"type\":\"contour\"}],\"contourcarpet\":[{\"colorbar\":{\"outlinewidth\":0,\"ticks\":\"\"},\"type\":\"contourcarpet\"}],\"heatmap\":[{\"colorbar\":{\"outlinewidth\":0,\"ticks\":\"\"},\"colorscale\":[[0.0,\"#0d0887\"],[0.1111111111111111,\"#46039f\"],[0.2222222222222222,\"#7201a8\"],[0.3333333333333333,\"#9c179e\"],[0.4444444444444444,\"#bd3786\"],[0.5555555555555556,\"#d8576b\"],[0.6666666666666666,\"#ed7953\"],[0.7777777777777778,\"#fb9f3a\"],[0.8888888888888888,\"#fdca26\"],[1.0,\"#f0f921\"]],\"type\":\"heatmap\"}],\"heatmapgl\":[{\"colorbar\":{\"outlinewidth\":0,\"ticks\":\"\"},\"colorscale\":[[0.0,\"#0d0887\"],[0.1111111111111111,\"#46039f\"],[0.2222222222222222,\"#7201a8\"],[0.3333333333333333,\"#9c179e\"],[0.4444444444444444,\"#bd3786\"],[0.5555555555555556,\"#d8576b\"],[0.6666666666666666,\"#ed7953\"],[0.7777777777777778,\"#fb9f3a\"],[0.8888888888888888,\"#fdca26\"],[1.0,\"#f0f921\"]],\"type\":\"heatmapgl\"}],\"histogram\":[{\"marker\":{\"pattern\":{\"fillmode\":\"overlay\",\"size\":10,\"solidity\":0.2}},\"type\":\"histogram\"}],\"histogram2d\":[{\"colorbar\":{\"outlinewidth\":0,\"ticks\":\"\"},\"colorscale\":[[0.0,\"#0d0887\"],[0.1111111111111111,\"#46039f\"],[0.2222222222222222,\"#7201a8\"],[0.3333333333333333,\"#9c179e\"],[0.4444444444444444,\"#bd3786\"],[0.5555555555555556,\"#d8576b\"],[0.6666666666666666,\"#ed7953\"],[0.7777777777777778,\"#fb9f3a\"],[0.8888888888888888,\"#fdca26\"],[1.0,\"#f0f921\"]],\"type\":\"histogram2d\"}],\"histogram2dcontour\":[{\"colorbar\":{\"outlinewidth\":0,\"ticks\":\"\"},\"colorscale\":[[0.0,\"#0d0887\"],[0.1111111111111111,\"#46039f\"],[0.2222222222222222,\"#7201a8\"],[0.3333333333333333,\"#9c179e\"],[0.4444444444444444,\"#bd3786\"],[0.5555555555555556,\"#d8576b\"],[0.6666666666666666,\"#ed7953\"],[0.7777777777777778,\"#fb9f3a\"],[0.8888888888888888,\"#fdca26\"],[1.0,\"#f0f921\"]],\"type\":\"histogram2dcontour\"}],\"mesh3d\":[{\"colorbar\":{\"outlinewidth\":0,\"ticks\":\"\"},\"type\":\"mesh3d\"}],\"parcoords\":[{\"line\":{\"colorbar\":{\"outlinewidth\":0,\"ticks\":\"\"}},\"type\":\"parcoords\"}],\"pie\":[{\"automargin\":true,\"type\":\"pie\"}],\"scatter\":[{\"marker\":{\"colorbar\":{\"outlinewidth\":0,\"ticks\":\"\"}},\"type\":\"scatter\"}],\"scatter3d\":[{\"line\":{\"colorbar\":{\"outlinewidth\":0,\"ticks\":\"\"}},\"marker\":{\"colorbar\":{\"outlinewidth\":0,\"ticks\":\"\"}},\"type\":\"scatter3d\"}],\"scattercarpet\":[{\"marker\":{\"colorbar\":{\"outlinewidth\":0,\"ticks\":\"\"}},\"type\":\"scattercarpet\"}],\"scattergeo\":[{\"marker\":{\"colorbar\":{\"outlinewidth\":0,\"ticks\":\"\"}},\"type\":\"scattergeo\"}],\"scattergl\":[{\"marker\":{\"colorbar\":{\"outlinewidth\":0,\"ticks\":\"\"}},\"type\":\"scattergl\"}],\"scattermapbox\":[{\"marker\":{\"colorbar\":{\"outlinewidth\":0,\"ticks\":\"\"}},\"type\":\"scattermapbox\"}],\"scatterpolar\":[{\"marker\":{\"colorbar\":{\"outlinewidth\":0,\"ticks\":\"\"}},\"type\":\"scatterpolar\"}],\"scatterpolargl\":[{\"marker\":{\"colorbar\":{\"outlinewidth\":0,\"ticks\":\"\"}},\"type\":\"scatterpolargl\"}],\"scatterternary\":[{\"marker\":{\"colorbar\":{\"outlinewidth\":0,\"ticks\":\"\"}},\"type\":\"scatterternary\"}],\"surface\":[{\"colorbar\":{\"outlinewidth\":0,\"ticks\":\"\"},\"colorscale\":[[0.0,\"#0d0887\"],[0.1111111111111111,\"#46039f\"],[0.2222222222222222,\"#7201a8\"],[0.3333333333333333,\"#9c179e\"],[0.4444444444444444,\"#bd3786\"],[0.5555555555555556,\"#d8576b\"],[0.6666666666666666,\"#ed7953\"],[0.7777777777777778,\"#fb9f3a\"],[0.8888888888888888,\"#fdca26\"],[1.0,\"#f0f921\"]],\"type\":\"surface\"}],\"table\":[{\"cells\":{\"fill\":{\"color\":\"#EBF0F8\"},\"line\":{\"color\":\"white\"}},\"header\":{\"fill\":{\"color\":\"#C8D4E3\"},\"line\":{\"color\":\"white\"}},\"type\":\"table\"}]},\"layout\":{\"annotationdefaults\":{\"arrowcolor\":\"#2a3f5f\",\"arrowhead\":0,\"arrowwidth\":1},\"autotypenumbers\":\"strict\",\"coloraxis\":{\"colorbar\":{\"outlinewidth\":0,\"ticks\":\"\"}},\"colorscale\":{\"diverging\":[[0,\"#8e0152\"],[0.1,\"#c51b7d\"],[0.2,\"#de77ae\"],[0.3,\"#f1b6da\"],[0.4,\"#fde0ef\"],[0.5,\"#f7f7f7\"],[0.6,\"#e6f5d0\"],[0.7,\"#b8e186\"],[0.8,\"#7fbc41\"],[0.9,\"#4d9221\"],[1,\"#276419\"]],\"sequential\":[[0.0,\"#0d0887\"],[0.1111111111111111,\"#46039f\"],[0.2222222222222222,\"#7201a8\"],[0.3333333333333333,\"#9c179e\"],[0.4444444444444444,\"#bd3786\"],[0.5555555555555556,\"#d8576b\"],[0.6666666666666666,\"#ed7953\"],[0.7777777777777778,\"#fb9f3a\"],[0.8888888888888888,\"#fdca26\"],[1.0,\"#f0f921\"]],\"sequentialminus\":[[0.0,\"#0d0887\"],[0.1111111111111111,\"#46039f\"],[0.2222222222222222,\"#7201a8\"],[0.3333333333333333,\"#9c179e\"],[0.4444444444444444,\"#bd3786\"],[0.5555555555555556,\"#d8576b\"],[0.6666666666666666,\"#ed7953\"],[0.7777777777777778,\"#fb9f3a\"],[0.8888888888888888,\"#fdca26\"],[1.0,\"#f0f921\"]]},\"colorway\":[\"#636efa\",\"#EF553B\",\"#00cc96\",\"#ab63fa\",\"#FFA15A\",\"#19d3f3\",\"#FF6692\",\"#B6E880\",\"#FF97FF\",\"#FECB52\"],\"font\":{\"color\":\"#2a3f5f\"},\"geo\":{\"bgcolor\":\"white\",\"lakecolor\":\"white\",\"landcolor\":\"#E5ECF6\",\"showlakes\":true,\"showland\":true,\"subunitcolor\":\"white\"},\"hoverlabel\":{\"align\":\"left\"},\"hovermode\":\"closest\",\"mapbox\":{\"style\":\"light\"},\"paper_bgcolor\":\"white\",\"plot_bgcolor\":\"#E5ECF6\",\"polar\":{\"angularaxis\":{\"gridcolor\":\"white\",\"linecolor\":\"white\",\"ticks\":\"\"},\"bgcolor\":\"#E5ECF6\",\"radialaxis\":{\"gridcolor\":\"white\",\"linecolor\":\"white\",\"ticks\":\"\"}},\"scene\":{\"xaxis\":{\"backgroundcolor\":\"#E5ECF6\",\"gridcolor\":\"white\",\"gridwidth\":2,\"linecolor\":\"white\",\"showbackground\":true,\"ticks\":\"\",\"zerolinecolor\":\"white\"},\"yaxis\":{\"backgroundcolor\":\"#E5ECF6\",\"gridcolor\":\"white\",\"gridwidth\":2,\"linecolor\":\"white\",\"showbackground\":true,\"ticks\":\"\",\"zerolinecolor\":\"white\"},\"zaxis\":{\"backgroundcolor\":\"#E5ECF6\",\"gridcolor\":\"white\",\"gridwidth\":2,\"linecolor\":\"white\",\"showbackground\":true,\"ticks\":\"\",\"zerolinecolor\":\"white\"}},\"shapedefaults\":{\"line\":{\"color\":\"#2a3f5f\"}},\"ternary\":{\"aaxis\":{\"gridcolor\":\"white\",\"linecolor\":\"white\",\"ticks\":\"\"},\"baxis\":{\"gridcolor\":\"white\",\"linecolor\":\"white\",\"ticks\":\"\"},\"bgcolor\":\"#E5ECF6\",\"caxis\":{\"gridcolor\":\"white\",\"linecolor\":\"white\",\"ticks\":\"\"}},\"title\":{\"x\":0.05},\"xaxis\":{\"automargin\":true,\"gridcolor\":\"white\",\"linecolor\":\"white\",\"ticks\":\"\",\"title\":{\"standoff\":15},\"zerolinecolor\":\"white\",\"zerolinewidth\":2},\"yaxis\":{\"automargin\":true,\"gridcolor\":\"white\",\"linecolor\":\"white\",\"ticks\":\"\",\"title\":{\"standoff\":15},\"zerolinecolor\":\"white\",\"zerolinewidth\":2}}}},                        {\"responsive\": true}                    ).then(function(){\n",
       "                            \n",
       "var gd = document.getElementById('48838844-2915-4847-b7ec-6de3ee7ce967');\n",
       "var x = new MutationObserver(function (mutations, observer) {{\n",
       "        var display = window.getComputedStyle(gd).display;\n",
       "        if (!display || display === 'none') {{\n",
       "            console.log([gd, 'removed!']);\n",
       "            Plotly.purge(gd);\n",
       "            observer.disconnect();\n",
       "        }}\n",
       "}});\n",
       "\n",
       "// Listen for the removal of the full notebook cells\n",
       "var notebookContainer = gd.closest('#notebook-container');\n",
       "if (notebookContainer) {{\n",
       "    x.observe(notebookContainer, {childList: true});\n",
       "}}\n",
       "\n",
       "// Listen for the clearing of the current output cell\n",
       "var outputEl = gd.closest('.output');\n",
       "if (outputEl) {{\n",
       "    x.observe(outputEl, {childList: true});\n",
       "}}\n",
       "\n",
       "                        })                };                });            </script>        </div>"
      ]
     },
     "metadata": {},
     "output_type": "display_data"
    }
   ],
   "source": [
    "fig = dict({\n",
    "    \"data\": [{\"type\": \"bar\",\n",
    "              \"x\": features_upsampled.columns,\n",
    "              \"y\": model.feature_importances_}],\n",
    "    \"layout\": {\"title\": {\"text\": \"Распределение весов признаков\"}}\n",
    "})\n",
    "pio.show(fig)"
   ]
  },
  {
   "attachments": {
    "image.png": {
     "image/png": "[encoded data removed]"
    }
   },
   "cell_type": "markdown",
   "metadata": {},
   "source": [
    "![image.png](attachment:image.png)"
   ]
  },
  {
   "cell_type": "markdown",
   "metadata": {},
   "source": [
    "Важнее всего оказался возраст клиентов, затем количество продуктов в банке. Наличие кредитной карты и пол оказались наименее важными"
   ]
  },
  {
   "cell_type": "code",
   "execution_count": null,
   "metadata": {},
   "outputs": [],
   "source": []
  }
 ],
 "metadata": {
  "ExecuteTimeLog": [
   {
    "duration": 1047,
    "start_time": "2022-12-20T11:01:47.274Z"
   },
   {
    "duration": 100,
    "start_time": "2022-12-20T11:01:48.324Z"
   },
   {
    "duration": 82,
    "start_time": "2022-12-20T11:01:53.126Z"
   },
   {
    "duration": 13,
    "start_time": "2022-12-20T11:01:59.912Z"
   },
   {
    "duration": 25,
    "start_time": "2022-12-20T11:02:12.423Z"
   },
   {
    "duration": 13,
    "start_time": "2022-12-20T11:04:39.244Z"
   },
   {
    "duration": 6,
    "start_time": "2022-12-20T11:04:49.160Z"
   },
   {
    "duration": 527,
    "start_time": "2022-12-20T11:06:16.266Z"
   },
   {
    "duration": 7,
    "start_time": "2022-12-20T11:13:13.665Z"
   },
   {
    "duration": 204,
    "start_time": "2022-12-20T11:20:38.258Z"
   },
   {
    "duration": 226,
    "start_time": "2022-12-20T11:20:43.775Z"
   },
   {
    "duration": 29,
    "start_time": "2022-12-20T11:25:51.696Z"
   },
   {
    "duration": 25,
    "start_time": "2022-12-20T11:26:09.100Z"
   },
   {
    "duration": 10,
    "start_time": "2022-12-20T11:26:34.097Z"
   },
   {
    "duration": 10,
    "start_time": "2022-12-20T14:07:59.247Z"
   },
   {
    "duration": 28,
    "start_time": "2022-12-20T14:09:21.220Z"
   },
   {
    "duration": 15,
    "start_time": "2022-12-20T14:09:53.622Z"
   },
   {
    "duration": 1089,
    "start_time": "2022-12-20T17:07:32.593Z"
   },
   {
    "duration": 44,
    "start_time": "2022-12-20T17:07:33.684Z"
   },
   {
    "duration": 14,
    "start_time": "2022-12-20T17:07:33.730Z"
   },
   {
    "duration": 24,
    "start_time": "2022-12-20T17:07:36.755Z"
   },
   {
    "duration": 5,
    "start_time": "2022-12-20T17:07:37.083Z"
   },
   {
    "duration": 12,
    "start_time": "2022-12-20T17:07:40.578Z"
   },
   {
    "duration": 104,
    "start_time": "2022-12-20T17:07:42.815Z"
   },
   {
    "duration": 19,
    "start_time": "2022-12-20T17:08:45.340Z"
   },
   {
    "duration": 14,
    "start_time": "2022-12-20T17:09:04.918Z"
   },
   {
    "duration": 5,
    "start_time": "2022-12-20T17:09:22.894Z"
   },
   {
    "duration": 1097,
    "start_time": "2022-12-20T17:11:18.543Z"
   },
   {
    "duration": 43,
    "start_time": "2022-12-20T17:11:21.790Z"
   },
   {
    "duration": 12,
    "start_time": "2022-12-20T17:11:27.082Z"
   },
   {
    "duration": 11,
    "start_time": "2022-12-20T17:11:31.267Z"
   },
   {
    "duration": 343,
    "start_time": "2022-12-20T17:11:40.874Z"
   },
   {
    "duration": 26,
    "start_time": "2022-12-20T17:24:02.421Z"
   },
   {
    "duration": 22,
    "start_time": "2022-12-20T17:24:55.352Z"
   },
   {
    "duration": 146,
    "start_time": "2022-12-20T17:25:38.255Z"
   },
   {
    "duration": 3,
    "start_time": "2022-12-20T17:25:45.556Z"
   },
   {
    "duration": 25,
    "start_time": "2022-12-20T17:25:50.877Z"
   },
   {
    "duration": 9,
    "start_time": "2022-12-20T17:27:28.425Z"
   },
   {
    "duration": 13,
    "start_time": "2022-12-20T17:27:33.841Z"
   },
   {
    "duration": 13,
    "start_time": "2022-12-20T17:28:12.750Z"
   },
   {
    "duration": 20,
    "start_time": "2022-12-20T17:35:58.519Z"
   },
   {
    "duration": 3,
    "start_time": "2022-12-20T17:36:55.435Z"
   },
   {
    "duration": 13,
    "start_time": "2022-12-20T17:36:59.113Z"
   },
   {
    "duration": 43811,
    "start_time": "2022-12-20T17:37:30.242Z"
   },
   {
    "duration": 5,
    "start_time": "2022-12-20T17:39:06.274Z"
   },
   {
    "duration": 10,
    "start_time": "2022-12-20T17:39:31.973Z"
   },
   {
    "duration": 5,
    "start_time": "2022-12-20T17:39:37.400Z"
   },
   {
    "duration": 13,
    "start_time": "2022-12-20T17:39:52.460Z"
   },
   {
    "duration": 11,
    "start_time": "2022-12-20T17:40:05.615Z"
   },
   {
    "duration": 6,
    "start_time": "2022-12-20T17:40:38.766Z"
   },
   {
    "duration": 7,
    "start_time": "2022-12-20T17:40:42.884Z"
   },
   {
    "duration": 72,
    "start_time": "2022-12-20T17:40:51.477Z"
   },
   {
    "duration": 8,
    "start_time": "2022-12-20T17:41:03.639Z"
   },
   {
    "duration": 67,
    "start_time": "2022-12-20T17:41:10.740Z"
   },
   {
    "duration": 13,
    "start_time": "2022-12-20T17:41:17.406Z"
   },
   {
    "duration": 66,
    "start_time": "2022-12-20T17:41:19.846Z"
   },
   {
    "duration": 10,
    "start_time": "2022-12-20T17:41:32.953Z"
   },
   {
    "duration": 76,
    "start_time": "2022-12-20T17:41:36.114Z"
   },
   {
    "duration": 20,
    "start_time": "2022-12-20T17:41:43.078Z"
   },
   {
    "duration": 62,
    "start_time": "2022-12-20T17:41:45.026Z"
   },
   {
    "duration": 3,
    "start_time": "2022-12-20T17:44:43.347Z"
   },
   {
    "duration": 4,
    "start_time": "2022-12-20T17:46:50.480Z"
   },
   {
    "duration": 15,
    "start_time": "2022-12-20T17:47:16.161Z"
   },
   {
    "duration": 6,
    "start_time": "2022-12-20T17:47:33.939Z"
   },
   {
    "duration": 31,
    "start_time": "2022-12-20T17:47:37.902Z"
   },
   {
    "duration": 8,
    "start_time": "2022-12-20T17:50:47.147Z"
   },
   {
    "duration": 22,
    "start_time": "2022-12-20T17:50:54.917Z"
   },
   {
    "duration": 1392,
    "start_time": "2022-12-20T17:51:34.905Z"
   },
   {
    "duration": 44,
    "start_time": "2022-12-20T17:51:36.299Z"
   },
   {
    "duration": 19,
    "start_time": "2022-12-20T17:51:36.345Z"
   },
   {
    "duration": 19,
    "start_time": "2022-12-20T17:51:38.714Z"
   },
   {
    "duration": 112,
    "start_time": "2022-12-20T17:53:18.110Z"
   },
   {
    "duration": 11,
    "start_time": "2022-12-20T17:53:28.048Z"
   },
   {
    "duration": 13,
    "start_time": "2022-12-20T17:53:36.097Z"
   },
   {
    "duration": 13,
    "start_time": "2022-12-20T17:53:42.095Z"
   },
   {
    "duration": 10,
    "start_time": "2022-12-20T17:53:47.249Z"
   },
   {
    "duration": 7,
    "start_time": "2022-12-20T17:54:17.889Z"
   },
   {
    "duration": 25,
    "start_time": "2022-12-20T17:54:22.249Z"
   },
   {
    "duration": 90,
    "start_time": "2022-12-20T17:54:25.263Z"
   },
   {
    "duration": 11,
    "start_time": "2022-12-20T17:54:27.535Z"
   },
   {
    "duration": 66,
    "start_time": "2022-12-20T17:54:29.270Z"
   },
   {
    "duration": 46,
    "start_time": "2022-12-20T17:54:31.597Z"
   },
   {
    "duration": 43,
    "start_time": "2022-12-20T18:00:44.592Z"
   },
   {
    "duration": 52,
    "start_time": "2022-12-20T18:00:55.685Z"
   },
   {
    "duration": 3,
    "start_time": "2022-12-20T18:01:44.084Z"
   },
   {
    "duration": 16037,
    "start_time": "2022-12-20T18:01:52.835Z"
   },
   {
    "duration": 320,
    "start_time": "2022-12-20T18:02:24.100Z"
   },
   {
    "duration": 336,
    "start_time": "2022-12-20T18:02:51.704Z"
   },
   {
    "duration": 334,
    "start_time": "2022-12-20T18:03:30.219Z"
   },
   {
    "duration": 52,
    "start_time": "2022-12-20T18:03:37.353Z"
   },
   {
    "duration": 101,
    "start_time": "2022-12-20T18:03:41.443Z"
   },
   {
    "duration": 1200,
    "start_time": "2022-12-20T18:03:50.993Z"
   },
   {
    "duration": 331,
    "start_time": "2022-12-20T18:04:06.121Z"
   },
   {
    "duration": 347,
    "start_time": "2022-12-20T18:04:11.390Z"
   },
   {
    "duration": 401,
    "start_time": "2022-12-20T18:04:31.928Z"
   },
   {
    "duration": 329,
    "start_time": "2022-12-20T18:05:04.306Z"
   },
   {
    "duration": 284,
    "start_time": "2022-12-20T18:05:17.070Z"
   },
   {
    "duration": 13,
    "start_time": "2022-12-20T18:14:53.172Z"
   },
   {
    "duration": 4,
    "start_time": "2022-12-20T18:18:03.288Z"
   },
   {
    "duration": 10,
    "start_time": "2022-12-20T18:18:30.513Z"
   },
   {
    "duration": 9,
    "start_time": "2022-12-20T18:18:36.587Z"
   },
   {
    "duration": 4,
    "start_time": "2022-12-20T18:18:53.271Z"
   },
   {
    "duration": 4,
    "start_time": "2022-12-20T18:19:50.583Z"
   },
   {
    "duration": 2170,
    "start_time": "2022-12-21T15:30:16.093Z"
   },
   {
    "duration": 129,
    "start_time": "2022-12-21T15:30:18.265Z"
   },
   {
    "duration": 9,
    "start_time": "2022-12-21T15:30:22.166Z"
   },
   {
    "duration": 16,
    "start_time": "2022-12-21T15:30:29.940Z"
   },
   {
    "duration": 192,
    "start_time": "2022-12-21T15:30:33.555Z"
   },
   {
    "duration": 14,
    "start_time": "2022-12-21T15:32:46.974Z"
   },
   {
    "duration": 6,
    "start_time": "2022-12-21T15:33:17.602Z"
   },
   {
    "duration": 25,
    "start_time": "2022-12-21T15:33:23.605Z"
   },
   {
    "duration": 4,
    "start_time": "2022-12-21T15:33:25.661Z"
   },
   {
    "duration": 42,
    "start_time": "2022-12-21T15:33:45.763Z"
   },
   {
    "duration": 389,
    "start_time": "2022-12-21T15:34:05.970Z"
   },
   {
    "duration": 353,
    "start_time": "2022-12-21T15:34:26.655Z"
   },
   {
    "duration": 137,
    "start_time": "2022-12-21T15:37:17.386Z"
   },
   {
    "duration": 4551,
    "start_time": "2022-12-21T15:37:52.454Z"
   },
   {
    "duration": 4604,
    "start_time": "2022-12-21T15:38:54.856Z"
   },
   {
    "duration": 4,
    "start_time": "2022-12-21T15:41:21.768Z"
   },
   {
    "duration": 2368,
    "start_time": "2022-12-21T15:41:28.759Z"
   },
   {
    "duration": 1938,
    "start_time": "2022-12-21T15:41:44.861Z"
   },
   {
    "duration": 1502,
    "start_time": "2022-12-21T15:43:12.696Z"
   },
   {
    "duration": 1446,
    "start_time": "2022-12-21T15:43:28.924Z"
   },
   {
    "duration": 1461,
    "start_time": "2022-12-21T15:43:39.410Z"
   },
   {
    "duration": 42873,
    "start_time": "2022-12-21T15:44:29.129Z"
   },
   {
    "duration": 53,
    "start_time": "2022-12-21T15:45:45.948Z"
   },
   {
    "duration": 447,
    "start_time": "2022-12-21T15:47:44.807Z"
   },
   {
    "duration": 9,
    "start_time": "2022-12-21T15:48:00.948Z"
   },
   {
    "duration": 16,
    "start_time": "2022-12-21T15:48:17.357Z"
   },
   {
    "duration": 77,
    "start_time": "2022-12-21T15:48:19.528Z"
   },
   {
    "duration": 520,
    "start_time": "2022-12-21T15:48:23.227Z"
   },
   {
    "duration": 7,
    "start_time": "2022-12-21T15:48:25.461Z"
   },
   {
    "duration": 56830,
    "start_time": "2022-12-21T15:48:32.196Z"
   },
   {
    "duration": 44,
    "start_time": "2022-12-21T15:49:42.498Z"
   },
   {
    "duration": 155,
    "start_time": "2022-12-21T16:02:48.630Z"
   },
   {
    "duration": 103,
    "start_time": "2022-12-21T16:03:04.732Z"
   },
   {
    "duration": 2796,
    "start_time": "2022-12-21T16:03:24.031Z"
   },
   {
    "duration": 3990,
    "start_time": "2022-12-21T16:04:04.219Z"
   },
   {
    "duration": 3733,
    "start_time": "2022-12-21T16:04:27.447Z"
   },
   {
    "duration": 3271,
    "start_time": "2022-12-21T16:05:06.116Z"
   },
   {
    "duration": 11092,
    "start_time": "2022-12-21T16:05:46.551Z"
   },
   {
    "duration": 13,
    "start_time": "2022-12-21T16:06:35.195Z"
   },
   {
    "duration": 39,
    "start_time": "2022-12-21T16:06:38.830Z"
   },
   {
    "duration": 310,
    "start_time": "2022-12-21T16:06:44.139Z"
   },
   {
    "duration": 82,
    "start_time": "2022-12-21T16:06:47.953Z"
   },
   {
    "duration": 16,
    "start_time": "2022-12-21T16:06:52.239Z"
   },
   {
    "duration": 109,
    "start_time": "2022-12-21T16:06:54.256Z"
   },
   {
    "duration": 14,
    "start_time": "2022-12-21T16:07:09.658Z"
   },
   {
    "duration": 551,
    "start_time": "2022-12-21T16:07:17.281Z"
   },
   {
    "duration": 11,
    "start_time": "2022-12-21T16:07:21.900Z"
   },
   {
    "duration": 49727,
    "start_time": "2022-12-21T16:07:25.538Z"
   },
   {
    "duration": 19,
    "start_time": "2022-12-21T16:08:33.781Z"
   },
   {
    "duration": 692,
    "start_time": "2022-12-21T16:08:49.643Z"
   },
   {
    "duration": 707,
    "start_time": "2022-12-21T16:13:36.418Z"
   },
   {
    "duration": 683,
    "start_time": "2022-12-21T16:14:13.632Z"
   },
   {
    "duration": 653,
    "start_time": "2022-12-21T16:14:23.882Z"
   },
   {
    "duration": 53,
    "start_time": "2022-12-21T16:15:45.939Z"
   },
   {
    "duration": 670,
    "start_time": "2022-12-21T16:15:50.136Z"
   },
   {
    "duration": 601,
    "start_time": "2022-12-21T16:16:47.536Z"
   },
   {
    "duration": 647,
    "start_time": "2022-12-21T16:17:54.004Z"
   },
   {
    "duration": 401,
    "start_time": "2022-12-21T16:24:58.690Z"
   },
   {
    "duration": 403,
    "start_time": "2022-12-21T16:25:06.171Z"
   },
   {
    "duration": 367,
    "start_time": "2022-12-21T16:25:15.583Z"
   },
   {
    "duration": 428,
    "start_time": "2022-12-21T16:25:30.967Z"
   },
   {
    "duration": 443,
    "start_time": "2022-12-21T16:25:37.440Z"
   },
   {
    "duration": 11,
    "start_time": "2022-12-21T16:25:41.723Z"
   },
   {
    "duration": 48633,
    "start_time": "2022-12-21T16:27:05.848Z"
   },
   {
    "duration": 49,
    "start_time": "2022-12-21T16:28:23.536Z"
   },
   {
    "duration": 243,
    "start_time": "2022-12-21T16:28:37.404Z"
   },
   {
    "duration": 501,
    "start_time": "2022-12-21T16:30:18.553Z"
   },
   {
    "duration": 605,
    "start_time": "2022-12-21T16:30:28.218Z"
   },
   {
    "duration": 44108,
    "start_time": "2022-12-21T16:32:16.385Z"
   },
   {
    "duration": 417,
    "start_time": "2022-12-21T16:33:38.708Z"
   },
   {
    "duration": 1826,
    "start_time": "2022-12-21T16:35:35.800Z"
   },
   {
    "duration": 53,
    "start_time": "2022-12-21T16:35:39.519Z"
   },
   {
    "duration": 20,
    "start_time": "2022-12-21T16:35:41.135Z"
   },
   {
    "duration": 4,
    "start_time": "2022-12-21T16:36:30.868Z"
   },
   {
    "duration": 27,
    "start_time": "2022-12-21T16:36:32.113Z"
   },
   {
    "duration": 8,
    "start_time": "2022-12-21T16:36:33.641Z"
   },
   {
    "duration": 18,
    "start_time": "2022-12-21T16:36:40.217Z"
   },
   {
    "duration": 20,
    "start_time": "2022-12-21T16:36:44.869Z"
   },
   {
    "duration": 44,
    "start_time": "2022-12-21T16:36:47.374Z"
   },
   {
    "duration": 381,
    "start_time": "2022-12-21T16:36:52.428Z"
   },
   {
    "duration": 51,
    "start_time": "2022-12-21T16:37:22.322Z"
   },
   {
    "duration": 337,
    "start_time": "2022-12-21T16:38:23.177Z"
   },
   {
    "duration": 48,
    "start_time": "2022-12-21T16:38:35.799Z"
   },
   {
    "duration": 350,
    "start_time": "2022-12-21T16:38:48.274Z"
   },
   {
    "duration": 55,
    "start_time": "2022-12-21T16:38:49.987Z"
   },
   {
    "duration": 399,
    "start_time": "2022-12-21T16:39:08.231Z"
   },
   {
    "duration": 483,
    "start_time": "2022-12-21T16:39:14.976Z"
   },
   {
    "duration": 860,
    "start_time": "2022-12-21T16:40:15.996Z"
   },
   {
    "duration": 46494,
    "start_time": "2022-12-21T16:41:31.972Z"
   },
   {
    "duration": 360,
    "start_time": "2022-12-21T16:43:13.024Z"
   },
   {
    "duration": 377,
    "start_time": "2022-12-21T16:43:31.048Z"
   },
   {
    "duration": 16,
    "start_time": "2022-12-21T16:44:45.462Z"
   },
   {
    "duration": 114,
    "start_time": "2022-12-21T16:45:22.958Z"
   },
   {
    "duration": 12,
    "start_time": "2022-12-21T16:45:28.722Z"
   },
   {
    "duration": 75,
    "start_time": "2022-12-21T16:45:32.194Z"
   },
   {
    "duration": 453,
    "start_time": "2022-12-21T16:45:56.698Z"
   },
   {
    "duration": 770,
    "start_time": "2022-12-21T16:47:29.702Z"
   },
   {
    "duration": 64890,
    "start_time": "2022-12-21T16:49:25.499Z"
   },
   {
    "duration": 966,
    "start_time": "2022-12-21T16:51:56.566Z"
   },
   {
    "duration": 28,
    "start_time": "2022-12-21T16:52:29.448Z"
   },
   {
    "duration": 49,
    "start_time": "2022-12-21T17:00:09.360Z"
   },
   {
    "duration": 86,
    "start_time": "2022-12-21T17:00:11.952Z"
   },
   {
    "duration": 16,
    "start_time": "2022-12-21T17:00:27.500Z"
   },
   {
    "duration": 100,
    "start_time": "2022-12-21T17:00:31.081Z"
   },
   {
    "duration": 45,
    "start_time": "2022-12-21T17:00:45.109Z"
   },
   {
    "duration": 208,
    "start_time": "2022-12-21T17:00:46.205Z"
   },
   {
    "duration": 15,
    "start_time": "2022-12-21T17:01:05.196Z"
   },
   {
    "duration": 107,
    "start_time": "2022-12-21T17:01:06.377Z"
   },
   {
    "duration": 35,
    "start_time": "2022-12-21T17:01:15.739Z"
   },
   {
    "duration": 77,
    "start_time": "2022-12-21T17:01:17.475Z"
   },
   {
    "duration": 16,
    "start_time": "2022-12-21T17:01:19.009Z"
   },
   {
    "duration": 86,
    "start_time": "2022-12-21T17:01:19.765Z"
   },
   {
    "duration": 50,
    "start_time": "2022-12-21T17:01:26.641Z"
   },
   {
    "duration": 87,
    "start_time": "2022-12-21T17:01:27.149Z"
   },
   {
    "duration": 15,
    "start_time": "2022-12-21T17:01:27.885Z"
   },
   {
    "duration": 83,
    "start_time": "2022-12-21T17:01:28.941Z"
   },
   {
    "duration": 521,
    "start_time": "2022-12-21T17:03:17.599Z"
   },
   {
    "duration": 38,
    "start_time": "2022-12-21T17:05:36.706Z"
   },
   {
    "duration": 1464,
    "start_time": "2022-12-22T15:13:07.063Z"
   },
   {
    "duration": 4,
    "start_time": "2022-12-22T15:31:48.017Z"
   },
   {
    "duration": 82,
    "start_time": "2022-12-22T15:31:56.100Z"
   },
   {
    "duration": 17,
    "start_time": "2022-12-22T15:31:59.306Z"
   },
   {
    "duration": 7,
    "start_time": "2022-12-22T15:32:03.071Z"
   },
   {
    "duration": 17,
    "start_time": "2022-12-22T15:32:08.236Z"
   },
   {
    "duration": 97,
    "start_time": "2022-12-22T15:33:02.053Z"
   },
   {
    "duration": 16,
    "start_time": "2022-12-22T15:33:08.426Z"
   },
   {
    "duration": 25,
    "start_time": "2022-12-22T15:33:11.679Z"
   },
   {
    "duration": 22,
    "start_time": "2022-12-22T15:33:21.193Z"
   },
   {
    "duration": 14,
    "start_time": "2022-12-22T15:39:04.998Z"
   },
   {
    "duration": 1302,
    "start_time": "2022-12-22T15:40:18.345Z"
   },
   {
    "duration": 42,
    "start_time": "2022-12-22T15:40:22.594Z"
   },
   {
    "duration": 13,
    "start_time": "2022-12-22T15:40:23.125Z"
   },
   {
    "duration": 7,
    "start_time": "2022-12-22T15:40:26.514Z"
   },
   {
    "duration": 16,
    "start_time": "2022-12-22T15:40:29.855Z"
   },
   {
    "duration": 5,
    "start_time": "2022-12-22T15:40:32.692Z"
   },
   {
    "duration": 18,
    "start_time": "2022-12-22T15:40:36.251Z"
   },
   {
    "duration": 25,
    "start_time": "2022-12-22T15:40:41.651Z"
   },
   {
    "duration": 13,
    "start_time": "2022-12-22T15:40:50.231Z"
   },
   {
    "duration": 9,
    "start_time": "2022-12-22T15:41:10.700Z"
   },
   {
    "duration": 11,
    "start_time": "2022-12-22T15:41:13.608Z"
   },
   {
    "duration": 10,
    "start_time": "2022-12-22T15:41:45.133Z"
   },
   {
    "duration": 1378,
    "start_time": "2022-12-22T15:43:19.073Z"
   },
   {
    "duration": 43,
    "start_time": "2022-12-22T15:43:20.692Z"
   },
   {
    "duration": 13,
    "start_time": "2022-12-22T15:43:21.515Z"
   },
   {
    "duration": 7,
    "start_time": "2022-12-22T15:43:22.871Z"
   },
   {
    "duration": 6,
    "start_time": "2022-12-22T15:43:24.714Z"
   },
   {
    "duration": 18,
    "start_time": "2022-12-22T15:44:28.398Z"
   },
   {
    "duration": 4,
    "start_time": "2022-12-22T15:44:28.809Z"
   },
   {
    "duration": 5,
    "start_time": "2022-12-22T15:44:46.580Z"
   },
   {
    "duration": 9,
    "start_time": "2022-12-22T15:44:47.358Z"
   },
   {
    "duration": 8,
    "start_time": "2022-12-22T15:44:47.879Z"
   },
   {
    "duration": 25,
    "start_time": "2022-12-22T15:44:50.025Z"
   },
   {
    "duration": 11,
    "start_time": "2022-12-22T15:44:55.760Z"
   },
   {
    "duration": 3,
    "start_time": "2022-12-22T15:45:16.460Z"
   },
   {
    "duration": 10,
    "start_time": "2022-12-22T15:45:16.841Z"
   },
   {
    "duration": 8,
    "start_time": "2022-12-22T15:45:17.366Z"
   },
   {
    "duration": 24,
    "start_time": "2022-12-22T15:45:17.954Z"
   },
   {
    "duration": 11,
    "start_time": "2022-12-22T15:45:20.514Z"
   },
   {
    "duration": 345,
    "start_time": "2022-12-22T15:45:24.894Z"
   },
   {
    "duration": 457,
    "start_time": "2022-12-22T15:48:11.935Z"
   },
   {
    "duration": 35435,
    "start_time": "2022-12-22T15:48:38.343Z"
   },
   {
    "duration": 32,
    "start_time": "2022-12-22T15:50:39.804Z"
   },
   {
    "duration": 99,
    "start_time": "2022-12-22T15:58:58.050Z"
   },
   {
    "duration": 15,
    "start_time": "2022-12-22T15:59:20.987Z"
   },
   {
    "duration": 70,
    "start_time": "2022-12-22T15:59:28.238Z"
   },
   {
    "duration": 106,
    "start_time": "2022-12-22T15:59:37.501Z"
   },
   {
    "duration": 27,
    "start_time": "2022-12-22T17:07:30.022Z"
   },
   {
    "duration": 69,
    "start_time": "2022-12-22T17:54:51.202Z"
   },
   {
    "duration": 328,
    "start_time": "2022-12-22T17:55:07.269Z"
   },
   {
    "duration": 567,
    "start_time": "2022-12-22T17:55:29.511Z"
   },
   {
    "duration": 7,
    "start_time": "2022-12-22T17:56:31.598Z"
   },
   {
    "duration": 49896,
    "start_time": "2022-12-22T17:57:48.722Z"
   },
   {
    "duration": 1035,
    "start_time": "2022-12-22T18:00:17.246Z"
   },
   {
    "duration": 991,
    "start_time": "2022-12-22T18:00:35.409Z"
   },
   {
    "duration": 66,
    "start_time": "2022-12-22T18:04:30.242Z"
   },
   {
    "duration": 11,
    "start_time": "2022-12-22T18:05:09.234Z"
   },
   {
    "duration": 84,
    "start_time": "2022-12-22T18:05:15.475Z"
   },
   {
    "duration": 511,
    "start_time": "2022-12-22T18:05:27.922Z"
   },
   {
    "duration": 772,
    "start_time": "2022-12-22T18:10:30.381Z"
   },
   {
    "duration": 39,
    "start_time": "2022-12-22T18:10:34.918Z"
   },
   {
    "duration": 1087,
    "start_time": "2022-12-22T18:13:40.540Z"
   },
   {
    "duration": 1038,
    "start_time": "2022-12-22T18:13:47.323Z"
   },
   {
    "duration": 1051,
    "start_time": "2022-12-22T18:13:55.968Z"
   },
   {
    "duration": 1140,
    "start_time": "2022-12-22T18:13:57.942Z"
   },
   {
    "duration": 14,
    "start_time": "2022-12-22T18:15:17.515Z"
   },
   {
    "duration": 16,
    "start_time": "2022-12-22T18:15:53.188Z"
   },
   {
    "duration": 145,
    "start_time": "2022-12-22T18:17:56.986Z"
   },
   {
    "duration": 142,
    "start_time": "2022-12-22T18:19:10.968Z"
   },
   {
    "duration": 161,
    "start_time": "2022-12-22T18:19:22.915Z"
   },
   {
    "duration": 166,
    "start_time": "2022-12-22T18:20:13.157Z"
   },
   {
    "duration": 4,
    "start_time": "2022-12-22T18:20:59.592Z"
   },
   {
    "duration": 5,
    "start_time": "2022-12-22T18:26:08.374Z"
   },
   {
    "duration": 146,
    "start_time": "2022-12-22T18:26:54.943Z"
   },
   {
    "duration": 11,
    "start_time": "2022-12-22T18:28:04.322Z"
   },
   {
    "duration": 17,
    "start_time": "2022-12-22T18:28:30.794Z"
   },
   {
    "duration": 1507,
    "start_time": "2022-12-23T18:12:33.227Z"
   },
   {
    "duration": 150,
    "start_time": "2022-12-23T18:12:37.062Z"
   },
   {
    "duration": 14,
    "start_time": "2022-12-23T18:12:37.551Z"
   },
   {
    "duration": 1297,
    "start_time": "2022-12-23T18:14:29.133Z"
   },
   {
    "duration": 357,
    "start_time": "2022-12-23T18:14:50.549Z"
   },
   {
    "duration": 407,
    "start_time": "2022-12-23T18:15:09.022Z"
   },
   {
    "duration": 112,
    "start_time": "2022-12-23T18:15:21.303Z"
   },
   {
    "duration": 11,
    "start_time": "2022-12-23T18:15:29.803Z"
   },
   {
    "duration": 360,
    "start_time": "2022-12-23T18:15:48.819Z"
   },
   {
    "duration": 15,
    "start_time": "2022-12-23T18:17:02.765Z"
   },
   {
    "duration": 10,
    "start_time": "2022-12-23T18:17:07.361Z"
   },
   {
    "duration": 43,
    "start_time": "2022-12-23T18:27:30.460Z"
   },
   {
    "duration": 38,
    "start_time": "2022-12-23T18:29:39.926Z"
   },
   {
    "duration": 359,
    "start_time": "2022-12-23T18:29:46.541Z"
   },
   {
    "duration": 457,
    "start_time": "2022-12-23T18:29:51.268Z"
   },
   {
    "duration": 39,
    "start_time": "2022-12-23T18:34:37.239Z"
   },
   {
    "duration": 1320,
    "start_time": "2022-12-23T18:44:10.173Z"
   },
   {
    "duration": 37,
    "start_time": "2022-12-23T18:44:12.120Z"
   },
   {
    "duration": 13,
    "start_time": "2022-12-23T18:44:12.824Z"
   },
   {
    "duration": 7,
    "start_time": "2022-12-23T18:44:14.637Z"
   },
   {
    "duration": 18,
    "start_time": "2022-12-23T18:44:18.943Z"
   },
   {
    "duration": 5,
    "start_time": "2022-12-23T18:44:19.557Z"
   },
   {
    "duration": 34,
    "start_time": "2022-12-23T18:44:24.325Z"
   },
   {
    "duration": 4,
    "start_time": "2022-12-23T18:44:27.640Z"
   },
   {
    "duration": 9,
    "start_time": "2022-12-23T18:44:32.127Z"
   },
   {
    "duration": 11,
    "start_time": "2022-12-23T18:44:34.018Z"
   },
   {
    "duration": 27,
    "start_time": "2022-12-23T18:44:35.545Z"
   },
   {
    "duration": 10,
    "start_time": "2022-12-23T18:44:40.774Z"
   },
   {
    "duration": 301,
    "start_time": "2022-12-23T18:44:43.533Z"
   },
   {
    "duration": 460,
    "start_time": "2022-12-23T18:44:46.782Z"
   },
   {
    "duration": 33235,
    "start_time": "2022-12-23T18:44:49.517Z"
   },
   {
    "duration": 81,
    "start_time": "2022-12-23T18:45:22.754Z"
   },
   {
    "duration": 12,
    "start_time": "2022-12-23T18:45:22.837Z"
   },
   {
    "duration": 172,
    "start_time": "2022-12-23T18:45:22.851Z"
   },
   {
    "duration": 61,
    "start_time": "2022-12-23T18:45:36.139Z"
   },
   {
    "duration": 11,
    "start_time": "2022-12-23T18:45:38.324Z"
   },
   {
    "duration": 60,
    "start_time": "2022-12-23T18:45:39.869Z"
   },
   {
    "duration": 327,
    "start_time": "2022-12-23T18:45:43.265Z"
   },
   {
    "duration": 113,
    "start_time": "2022-12-23T18:46:01.648Z"
   },
   {
    "duration": 20,
    "start_time": "2022-12-23T18:46:03.670Z"
   },
   {
    "duration": 669,
    "start_time": "2022-12-23T18:46:08.156Z"
   },
   {
    "duration": 121,
    "start_time": "2022-12-23T18:46:12.940Z"
   },
   {
    "duration": 46412,
    "start_time": "2022-12-23T18:46:41.056Z"
   },
   {
    "duration": 1025,
    "start_time": "2022-12-23T18:47:40.074Z"
   },
   {
    "duration": 131,
    "start_time": "2022-12-23T18:48:04.498Z"
   },
   {
    "duration": 23,
    "start_time": "2022-12-23T18:48:07.283Z"
   },
   {
    "duration": 20,
    "start_time": "2022-12-23T18:48:34.582Z"
   },
   {
    "duration": 1349,
    "start_time": "2022-12-23T18:48:57.716Z"
   },
   {
    "duration": 38,
    "start_time": "2022-12-23T18:48:59.067Z"
   },
   {
    "duration": 11,
    "start_time": "2022-12-23T18:48:59.107Z"
   },
   {
    "duration": 21,
    "start_time": "2022-12-23T18:48:59.119Z"
   },
   {
    "duration": 19,
    "start_time": "2022-12-23T18:48:59.142Z"
   },
   {
    "duration": 4,
    "start_time": "2022-12-23T18:48:59.163Z"
   },
   {
    "duration": 40,
    "start_time": "2022-12-23T18:48:59.169Z"
   },
   {
    "duration": 5,
    "start_time": "2022-12-23T18:48:59.211Z"
   },
   {
    "duration": 13,
    "start_time": "2022-12-23T18:48:59.217Z"
   },
   {
    "duration": 7,
    "start_time": "2022-12-23T18:48:59.231Z"
   },
   {
    "duration": 24,
    "start_time": "2022-12-23T18:48:59.239Z"
   },
   {
    "duration": 10,
    "start_time": "2022-12-23T18:48:59.264Z"
   },
   {
    "duration": 352,
    "start_time": "2022-12-23T18:48:59.275Z"
   },
   {
    "duration": 461,
    "start_time": "2022-12-23T18:48:59.630Z"
   },
   {
    "duration": 33358,
    "start_time": "2022-12-23T18:49:00.093Z"
   },
   {
    "duration": 76,
    "start_time": "2022-12-23T18:49:33.452Z"
   },
   {
    "duration": 18,
    "start_time": "2022-12-23T18:49:33.529Z"
   },
   {
    "duration": 149,
    "start_time": "2022-12-23T18:49:33.549Z"
   },
   {
    "duration": 325,
    "start_time": "2022-12-23T18:49:33.700Z"
   },
   {
    "duration": 596,
    "start_time": "2022-12-23T18:49:34.027Z"
   },
   {
    "duration": 46420,
    "start_time": "2022-12-23T18:49:34.626Z"
   },
   {
    "duration": 1025,
    "start_time": "2022-12-23T18:50:21.048Z"
   },
   {
    "duration": 109,
    "start_time": "2022-12-23T18:50:22.075Z"
   },
   {
    "duration": 12,
    "start_time": "2022-12-23T18:50:22.186Z"
   },
   {
    "duration": 71,
    "start_time": "2022-12-23T18:50:22.200Z"
   },
   {
    "duration": 646,
    "start_time": "2022-12-23T18:50:22.273Z"
   },
   {
    "duration": 131,
    "start_time": "2022-12-23T18:50:22.921Z"
   },
   {
    "duration": 19,
    "start_time": "2022-12-23T18:50:23.054Z"
   },
   {
    "duration": 140,
    "start_time": "2022-12-23T18:50:23.074Z"
   },
   {
    "duration": 23,
    "start_time": "2022-12-23T18:50:23.216Z"
   },
   {
    "duration": 165,
    "start_time": "2022-12-23T18:50:23.241Z"
   },
   {
    "duration": 18,
    "start_time": "2022-12-23T18:52:42.533Z"
   },
   {
    "duration": 991,
    "start_time": "2022-12-23T18:54:23.940Z"
   },
   {
    "duration": 7,
    "start_time": "2022-12-23T18:55:07.112Z"
   },
   {
    "duration": 36,
    "start_time": "2022-12-23T18:55:14.166Z"
   },
   {
    "duration": 7,
    "start_time": "2022-12-23T18:55:16.428Z"
   },
   {
    "duration": 11,
    "start_time": "2022-12-23T18:55:24.040Z"
   },
   {
    "duration": 34,
    "start_time": "2022-12-23T18:55:41.060Z"
   },
   {
    "duration": 11,
    "start_time": "2022-12-23T18:55:42.424Z"
   },
   {
    "duration": 5,
    "start_time": "2022-12-23T18:55:43.993Z"
   },
   {
    "duration": 5,
    "start_time": "2022-12-23T18:55:50.844Z"
   },
   {
    "duration": 9,
    "start_time": "2022-12-23T18:55:51.912Z"
   },
   {
    "duration": 7,
    "start_time": "2022-12-23T18:55:53.032Z"
   },
   {
    "duration": 24,
    "start_time": "2022-12-23T18:55:54.128Z"
   },
   {
    "duration": 281,
    "start_time": "2022-12-23T18:55:57.246Z"
   },
   {
    "duration": 588,
    "start_time": "2022-12-23T18:56:00.032Z"
   },
   {
    "duration": 35030,
    "start_time": "2022-12-23T18:56:03.360Z"
   },
   {
    "duration": 66,
    "start_time": "2022-12-23T18:56:44.316Z"
   },
   {
    "duration": 12,
    "start_time": "2022-12-23T18:56:47.308Z"
   },
   {
    "duration": 58,
    "start_time": "2022-12-23T18:56:49.812Z"
   },
   {
    "duration": 340,
    "start_time": "2022-12-23T18:56:51.957Z"
   },
   {
    "duration": 610,
    "start_time": "2022-12-23T18:56:55.377Z"
   },
   {
    "duration": 48482,
    "start_time": "2022-12-23T18:56:58.620Z"
   },
   {
    "duration": 848,
    "start_time": "2022-12-23T18:58:08.877Z"
   },
   {
    "duration": 168,
    "start_time": "2022-12-23T18:58:42.362Z"
   },
   {
    "duration": 24,
    "start_time": "2022-12-23T18:58:44.210Z"
   },
   {
    "duration": 130,
    "start_time": "2022-12-23T18:58:53.812Z"
   },
   {
    "duration": 18,
    "start_time": "2022-12-23T18:58:55.036Z"
   },
   {
    "duration": 17,
    "start_time": "2022-12-23T18:59:03.663Z"
   },
   {
    "duration": 37,
    "start_time": "2022-12-23T18:59:39.731Z"
   },
   {
    "duration": 12,
    "start_time": "2022-12-23T18:59:40.770Z"
   },
   {
    "duration": 4,
    "start_time": "2022-12-23T18:59:42.308Z"
   },
   {
    "duration": 5,
    "start_time": "2022-12-23T18:59:49.223Z"
   },
   {
    "duration": 10,
    "start_time": "2022-12-23T18:59:50.028Z"
   },
   {
    "duration": 9,
    "start_time": "2022-12-23T18:59:51.637Z"
   },
   {
    "duration": 24,
    "start_time": "2022-12-23T18:59:53.156Z"
   },
   {
    "duration": 260,
    "start_time": "2022-12-23T18:59:59.260Z"
   },
   {
    "duration": 482,
    "start_time": "2022-12-23T19:00:02.716Z"
   },
   {
    "duration": 48990,
    "start_time": "2022-12-23T19:00:17.021Z"
   },
   {
    "duration": 830,
    "start_time": "2022-12-23T19:01:14.213Z"
   },
   {
    "duration": 162,
    "start_time": "2022-12-23T19:01:35.333Z"
   },
   {
    "duration": 21,
    "start_time": "2022-12-23T19:01:37.065Z"
   },
   {
    "duration": 13,
    "start_time": "2022-12-23T19:02:06.708Z"
   },
   {
    "duration": 36,
    "start_time": "2022-12-23T19:02:39.967Z"
   },
   {
    "duration": 4,
    "start_time": "2022-12-23T19:02:42.159Z"
   },
   {
    "duration": 4,
    "start_time": "2022-12-23T19:02:47.630Z"
   },
   {
    "duration": 9,
    "start_time": "2022-12-23T19:02:48.402Z"
   },
   {
    "duration": 7,
    "start_time": "2022-12-23T19:02:51.341Z"
   },
   {
    "duration": 26,
    "start_time": "2022-12-23T19:02:52.876Z"
   },
   {
    "duration": 316,
    "start_time": "2022-12-23T19:02:59.810Z"
   },
   {
    "duration": 549,
    "start_time": "2022-12-23T19:03:03.766Z"
   },
   {
    "duration": 61,
    "start_time": "2022-12-23T19:03:09.217Z"
   },
   {
    "duration": 11,
    "start_time": "2022-12-23T19:03:12.135Z"
   },
   {
    "duration": 61,
    "start_time": "2022-12-23T19:03:13.667Z"
   },
   {
    "duration": 282,
    "start_time": "2022-12-23T19:03:16.551Z"
   },
   {
    "duration": 574,
    "start_time": "2022-12-23T19:03:19.418Z"
   },
   {
    "duration": 46666,
    "start_time": "2022-12-23T19:03:24.018Z"
   },
   {
    "duration": 489,
    "start_time": "2022-12-23T19:04:37.287Z"
   },
   {
    "duration": 62,
    "start_time": "2022-12-23T19:04:51.606Z"
   },
   {
    "duration": 11,
    "start_time": "2022-12-23T19:04:54.140Z"
   },
   {
    "duration": 63,
    "start_time": "2022-12-23T19:04:55.525Z"
   },
   {
    "duration": 291,
    "start_time": "2022-12-23T19:04:59.621Z"
   },
   {
    "duration": 119,
    "start_time": "2022-12-23T19:05:05.507Z"
   },
   {
    "duration": 22,
    "start_time": "2022-12-23T19:05:07.177Z"
   },
   {
    "duration": 148,
    "start_time": "2022-12-23T19:05:10.406Z"
   },
   {
    "duration": 21,
    "start_time": "2022-12-23T19:05:15.660Z"
   },
   {
    "duration": 11,
    "start_time": "2022-12-23T19:06:38.304Z"
   },
   {
    "duration": 164,
    "start_time": "2022-12-23T19:06:53.932Z"
   },
   {
    "duration": 24,
    "start_time": "2022-12-23T19:06:56.199Z"
   },
   {
    "duration": 27,
    "start_time": "2022-12-23T19:07:12.033Z"
   },
   {
    "duration": 29,
    "start_time": "2022-12-23T19:07:16.725Z"
   },
   {
    "duration": 70,
    "start_time": "2023-02-23T16:21:31.056Z"
   },
   {
    "duration": 7,
    "start_time": "2023-02-23T16:21:36.633Z"
   },
   {
    "duration": 1604,
    "start_time": "2023-02-23T16:21:39.011Z"
   },
   {
    "duration": 161,
    "start_time": "2023-02-23T16:21:40.687Z"
   },
   {
    "duration": 5,
    "start_time": "2023-02-23T16:21:43.251Z"
   },
   {
    "duration": 6,
    "start_time": "2023-02-23T16:21:48.023Z"
   },
   {
    "duration": 18,
    "start_time": "2023-02-23T16:21:50.365Z"
   },
   {
    "duration": 41,
    "start_time": "2023-02-23T16:21:58.162Z"
   },
   {
    "duration": 5,
    "start_time": "2023-02-23T16:22:02.460Z"
   },
   {
    "duration": 4,
    "start_time": "2023-02-23T16:22:08.897Z"
   },
   {
    "duration": 4,
    "start_time": "2023-02-23T16:22:14.557Z"
   },
   {
    "duration": 4,
    "start_time": "2023-02-24T15:23:50.049Z"
   },
   {
    "duration": 88,
    "start_time": "2023-02-24T15:23:53.422Z"
   },
   {
    "duration": 5,
    "start_time": "2023-02-24T15:23:56.424Z"
   },
   {
    "duration": 47,
    "start_time": "2023-02-24T15:24:02.310Z"
   },
   {
    "duration": 4,
    "start_time": "2023-02-24T15:24:07.736Z"
   },
   {
    "duration": 5,
    "start_time": "2023-02-24T15:24:35.719Z"
   },
   {
    "duration": 4,
    "start_time": "2023-02-24T15:26:42.863Z"
   }
  ],
  "kernelspec": {
   "display_name": "Python 3 (ipykernel)",
   "language": "python",
   "name": "python3"
  },
  "language_info": {
   "codemirror_mode": {
    "name": "ipython",
    "version": 3
   },
   "file_extension": ".py",
   "mimetype": "text/x-python",
   "name": "python",
   "nbconvert_exporter": "python",
   "pygments_lexer": "ipython3",
   "version": "3.9.7"
  },
  "toc": {
   "base_numbering": 1,
   "nav_menu": {},
   "number_sections": true,
   "sideBar": true,
   "skip_h1_title": true,
   "title_cell": "Содержание",
   "title_sidebar": "Contents",
   "toc_cell": true,
   "toc_position": {
    "height": "calc(100% - 180px)",
    "left": "10px",
    "top": "150px",
    "width": "165px"
   },
   "toc_section_display": true,
   "toc_window_display": true
  }
 },
 "nbformat": 4,
 "nbformat_minor": 2
}
