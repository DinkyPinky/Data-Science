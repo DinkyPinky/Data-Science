{
 "cells": [
  {
   "cell_type": "markdown",
   "metadata": {},
   "source": [
    "<div style=\"border:solid Chocolate 2px; padding: 40px\">\n",
    "\n",
    "<b>Привет, Мария!👋</b>\n",
    "\n",
    "Меня зовут Зуева Юлия, можно просто Юля 😏 Я буду ревьюером твоего проекта. Предлагаю обращаться на \"ты\", но если это неудобно, пожалуйста, скажи об этом!\n",
    "    \n",
    "В первую очередь хочу тебя поздравить с Новым годом и пожелать огромных успехов в обучении и карьерных достижений! 🎄🎅🏻 Ну а теперь вернемся к проекту, моя основная цель - помочь тебе стать компетентным Data Scientist'ом: вместе преодолеть трудности и еще больше развить твои сильные навыки 💪 В твоей работе я оставила комментарии, которые должны в этом помочь. Для твоего удобства комментарии раскрашены разными цветами: \n",
    "<br/>\n",
    "<div class=\"alert alert-success\">\n",
    "<h3> Комментарий ревьюера <a class=\"tocSkip\"> </h3>\n",
    "    \n",
    "<b>Все отлично!👍:</b> Решение полностью правильное, или я посчитала нужным тебя за что-то похвалить :) На такие решения можно опираться в будущих проектах.\n",
    "</div>\n",
    "\n",
    "<div class=\"alert alert-warning\">\n",
    "<h3> Комментарий ревьюера <a class=\"tocSkip\"> </h3>\n",
    "    \n",
    "<b>Некоторые замечания и рекомендации💡:</b> Решение станет еще лучше, если внести небольшие коррективы. Ты можешь учесть эти комментарии при выполнении будущих заданий или доработать проект сейчас (но это не обязательно).\n",
    "</div>\n",
    "<div class=\"alert alert-block alert-danger\">\n",
    "<h3> Комментарий ревьюера <a class=\"tocSkip\"></h3>\n",
    " \n",
    "<b>На доработку🤔:</b> Решение требует существенной переработки. Напомню, что проект не может быть принят с первого раза, если ревью содержит комментарии, рекомендующие доработать шаги.\n",
    "</div>\n",
    "<br/>\n",
    "Чтобы наша с тобой работа была еще эффективнее, ты точно так же можешь оставлять комментарии и задавать мне вопросы. Для таких случаев, пожалуйста, выбери собственное оформление комментариев, которое будет отличаться от моего, чтобы не создавалась путаница. По этой же причине попрошу тебя не удалять и не изменять мои комментарии. Все это позволит лучше ориентироваться в нашем с тобой диалоге, а повторную проверку (в случае ее необходимости) выполнять оперативнее 🚀\n",
    "\n",
    "Не спеши расстраиваться, если что-то не удалось с первого раза. Вместе мы обязательно разберемся со всеми трудностями! 🤓 "
   ]
  },
  {
   "cell_type": "markdown",
   "metadata": {},
   "source": [
    "# Выбор локации для скважины"
   ]
  },
  {
   "cell_type": "markdown",
   "metadata": {},
   "source": [
    "Допустим, вы работаете в добывающей компании «ГлавРосГосНефть». Нужно решить, где бурить новую скважину.\n",
    "\n",
    "Вам предоставлены пробы нефти в трёх регионах: в каждом 10 000 месторождений, где измерили качество нефти и объём её запасов. Постройте модель машинного обучения, которая поможет определить регион, где добыча принесёт наибольшую прибыль. Проанализируйте возможную прибыль и риски техникой *Bootstrap.*\n",
    "\n",
    "Шаги для выбора локации:\n",
    "\n",
    "- В избранном регионе ищут месторождения, для каждого определяют значения признаков;\n",
    "- Строят модель и оценивают объём запасов;\n",
    "- Выбирают месторождения с самым высокими оценками значений. Количество месторождений зависит от бюджета компании и стоимости разработки одной скважины;\n",
    "- Прибыль равна суммарной прибыли отобранных месторождений."
   ]
  },
  {
   "cell_type": "markdown",
   "metadata": {},
   "source": [
    "<div class=\"alert alert-warning\">\n",
    "<h3> Комментарий ревьюера <a class=\"tocSkip\"> </h3>\n",
    "    \n",
    "<b>Некоторые замечания и рекомендации💡:</b>  Очень хорошо, что оставляешь в начале проекта его описание! Любой, кто захочет взглянуть на работу, сможет сразу погрузиться в суть задачи. Будет немного лучше, если ты его чуть-чуть перефрзируешь, изложишь задачу своми словами, так работа станет похожа на настоящий исследовательский проект, а не выполненное домашнее задание :)"
   ]
  },
  {
   "cell_type": "markdown",
   "metadata": {},
   "source": [
    "## Загрузка и подготовка данных"
   ]
  },
  {
   "cell_type": "code",
   "execution_count": 1,
   "metadata": {},
   "outputs": [],
   "source": [
    "import pandas as pd\n",
    "import numpy as np\n",
    "import plotly\n",
    "import plotly.graph_objs as go\n",
    "import plotly.io as pio\n",
    "import matplotlib.pyplot as plt\n",
    "from sklearn.model_selection import train_test_split\n",
    "from sklearn.preprocessing import StandardScaler\n",
    "from sklearn.linear_model import LinearRegression\n",
    "from sklearn.model_selection import cross_val_score\n",
    "from sklearn.metrics import mean_squared_error"
   ]
  },
  {
   "cell_type": "code",
   "execution_count": 2,
   "metadata": {},
   "outputs": [],
   "source": [
    "d0 = pd.read_csv('/datasets/geo_data_0.csv')"
   ]
  },
  {
   "cell_type": "code",
   "execution_count": 3,
   "metadata": {},
   "outputs": [
    {
     "name": "stdout",
     "output_type": "stream",
     "text": [
      "<class 'pandas.core.frame.DataFrame'>\n",
      "RangeIndex: 100000 entries, 0 to 99999\n",
      "Data columns (total 5 columns):\n",
      " #   Column   Non-Null Count   Dtype  \n",
      "---  ------   --------------   -----  \n",
      " 0   id       100000 non-null  object \n",
      " 1   f0       100000 non-null  float64\n",
      " 2   f1       100000 non-null  float64\n",
      " 3   f2       100000 non-null  float64\n",
      " 4   product  100000 non-null  float64\n",
      "dtypes: float64(4), object(1)\n",
      "memory usage: 3.8+ MB\n"
     ]
    }
   ],
   "source": [
    "d0.info()"
   ]
  },
  {
   "cell_type": "code",
   "execution_count": 4,
   "metadata": {},
   "outputs": [
    {
     "data": {
      "text/plain": [
       "0"
      ]
     },
     "execution_count": 4,
     "metadata": {},
     "output_type": "execute_result"
    }
   ],
   "source": [
    "d0.duplicated().sum()"
   ]
  },
  {
   "cell_type": "code",
   "execution_count": 5,
   "metadata": {},
   "outputs": [],
   "source": [
    "d1 = pd.read_csv('/datasets/geo_data_1.csv')"
   ]
  },
  {
   "cell_type": "code",
   "execution_count": 6,
   "metadata": {},
   "outputs": [
    {
     "name": "stdout",
     "output_type": "stream",
     "text": [
      "<class 'pandas.core.frame.DataFrame'>\n",
      "RangeIndex: 100000 entries, 0 to 99999\n",
      "Data columns (total 5 columns):\n",
      " #   Column   Non-Null Count   Dtype  \n",
      "---  ------   --------------   -----  \n",
      " 0   id       100000 non-null  object \n",
      " 1   f0       100000 non-null  float64\n",
      " 2   f1       100000 non-null  float64\n",
      " 3   f2       100000 non-null  float64\n",
      " 4   product  100000 non-null  float64\n",
      "dtypes: float64(4), object(1)\n",
      "memory usage: 3.8+ MB\n"
     ]
    }
   ],
   "source": [
    "d1.info()"
   ]
  },
  {
   "cell_type": "code",
   "execution_count": 7,
   "metadata": {},
   "outputs": [
    {
     "data": {
      "text/plain": [
       "0"
      ]
     },
     "execution_count": 7,
     "metadata": {},
     "output_type": "execute_result"
    }
   ],
   "source": [
    "d1.duplicated().sum()"
   ]
  },
  {
   "cell_type": "code",
   "execution_count": 8,
   "metadata": {},
   "outputs": [],
   "source": [
    "d2 = pd.read_csv('/datasets/geo_data_2.csv')"
   ]
  },
  {
   "cell_type": "code",
   "execution_count": 9,
   "metadata": {
    "scrolled": false
   },
   "outputs": [
    {
     "name": "stdout",
     "output_type": "stream",
     "text": [
      "<class 'pandas.core.frame.DataFrame'>\n",
      "RangeIndex: 100000 entries, 0 to 99999\n",
      "Data columns (total 5 columns):\n",
      " #   Column   Non-Null Count   Dtype  \n",
      "---  ------   --------------   -----  \n",
      " 0   id       100000 non-null  object \n",
      " 1   f0       100000 non-null  float64\n",
      " 2   f1       100000 non-null  float64\n",
      " 3   f2       100000 non-null  float64\n",
      " 4   product  100000 non-null  float64\n",
      "dtypes: float64(4), object(1)\n",
      "memory usage: 3.8+ MB\n"
     ]
    }
   ],
   "source": [
    "d2.info()"
   ]
  },
  {
   "cell_type": "code",
   "execution_count": 10,
   "metadata": {},
   "outputs": [
    {
     "data": {
      "text/plain": [
       "0"
      ]
     },
     "execution_count": 10,
     "metadata": {},
     "output_type": "execute_result"
    }
   ],
   "source": [
    "d2.duplicated().sum()"
   ]
  },
  {
   "cell_type": "code",
   "execution_count": 11,
   "metadata": {},
   "outputs": [
    {
     "data": {
      "text/html": [
       "<div>\n",
       "<style scoped>\n",
       "    .dataframe tbody tr th:only-of-type {\n",
       "        vertical-align: middle;\n",
       "    }\n",
       "\n",
       "    .dataframe tbody tr th {\n",
       "        vertical-align: top;\n",
       "    }\n",
       "\n",
       "    .dataframe thead th {\n",
       "        text-align: right;\n",
       "    }\n",
       "</style>\n",
       "<table border=\"1\" class=\"dataframe\">\n",
       "  <thead>\n",
       "    <tr style=\"text-align: right;\">\n",
       "      <th></th>\n",
       "      <th>id</th>\n",
       "      <th>f0</th>\n",
       "      <th>f1</th>\n",
       "      <th>f2</th>\n",
       "      <th>product</th>\n",
       "    </tr>\n",
       "  </thead>\n",
       "  <tbody>\n",
       "    <tr>\n",
       "      <th>0</th>\n",
       "      <td>txEyH</td>\n",
       "      <td>0.705745</td>\n",
       "      <td>-0.497823</td>\n",
       "      <td>1.221170</td>\n",
       "      <td>105.280062</td>\n",
       "    </tr>\n",
       "    <tr>\n",
       "      <th>1</th>\n",
       "      <td>2acmU</td>\n",
       "      <td>1.334711</td>\n",
       "      <td>-0.340164</td>\n",
       "      <td>4.365080</td>\n",
       "      <td>73.037750</td>\n",
       "    </tr>\n",
       "    <tr>\n",
       "      <th>2</th>\n",
       "      <td>409Wp</td>\n",
       "      <td>1.022732</td>\n",
       "      <td>0.151990</td>\n",
       "      <td>1.419926</td>\n",
       "      <td>85.265647</td>\n",
       "    </tr>\n",
       "    <tr>\n",
       "      <th>3</th>\n",
       "      <td>iJLyR</td>\n",
       "      <td>-0.032172</td>\n",
       "      <td>0.139033</td>\n",
       "      <td>2.978566</td>\n",
       "      <td>168.620776</td>\n",
       "    </tr>\n",
       "    <tr>\n",
       "      <th>4</th>\n",
       "      <td>Xdl7t</td>\n",
       "      <td>1.988431</td>\n",
       "      <td>0.155413</td>\n",
       "      <td>4.751769</td>\n",
       "      <td>154.036647</td>\n",
       "    </tr>\n",
       "  </tbody>\n",
       "</table>\n",
       "</div>"
      ],
      "text/plain": [
       "      id        f0        f1        f2     product\n",
       "0  txEyH  0.705745 -0.497823  1.221170  105.280062\n",
       "1  2acmU  1.334711 -0.340164  4.365080   73.037750\n",
       "2  409Wp  1.022732  0.151990  1.419926   85.265647\n",
       "3  iJLyR -0.032172  0.139033  2.978566  168.620776\n",
       "4  Xdl7t  1.988431  0.155413  4.751769  154.036647"
      ]
     },
     "execution_count": 11,
     "metadata": {},
     "output_type": "execute_result"
    }
   ],
   "source": [
    "d0.head()"
   ]
  },
  {
   "cell_type": "code",
   "execution_count": 12,
   "metadata": {},
   "outputs": [
    {
     "data": {
      "text/html": [
       "<div>\n",
       "<style scoped>\n",
       "    .dataframe tbody tr th:only-of-type {\n",
       "        vertical-align: middle;\n",
       "    }\n",
       "\n",
       "    .dataframe tbody tr th {\n",
       "        vertical-align: top;\n",
       "    }\n",
       "\n",
       "    .dataframe thead th {\n",
       "        text-align: right;\n",
       "    }\n",
       "</style>\n",
       "<table border=\"1\" class=\"dataframe\">\n",
       "  <thead>\n",
       "    <tr style=\"text-align: right;\">\n",
       "      <th></th>\n",
       "      <th>f0</th>\n",
       "      <th>f1</th>\n",
       "      <th>f2</th>\n",
       "      <th>product</th>\n",
       "    </tr>\n",
       "  </thead>\n",
       "  <tbody>\n",
       "    <tr>\n",
       "      <th>count</th>\n",
       "      <td>100000.000000</td>\n",
       "      <td>100000.000000</td>\n",
       "      <td>100000.000000</td>\n",
       "      <td>100000.000000</td>\n",
       "    </tr>\n",
       "    <tr>\n",
       "      <th>mean</th>\n",
       "      <td>0.500419</td>\n",
       "      <td>0.250143</td>\n",
       "      <td>2.502647</td>\n",
       "      <td>92.500000</td>\n",
       "    </tr>\n",
       "    <tr>\n",
       "      <th>std</th>\n",
       "      <td>0.871832</td>\n",
       "      <td>0.504433</td>\n",
       "      <td>3.248248</td>\n",
       "      <td>44.288691</td>\n",
       "    </tr>\n",
       "    <tr>\n",
       "      <th>min</th>\n",
       "      <td>-1.408605</td>\n",
       "      <td>-0.848218</td>\n",
       "      <td>-12.088328</td>\n",
       "      <td>0.000000</td>\n",
       "    </tr>\n",
       "    <tr>\n",
       "      <th>25%</th>\n",
       "      <td>-0.072580</td>\n",
       "      <td>-0.200881</td>\n",
       "      <td>0.287748</td>\n",
       "      <td>56.497507</td>\n",
       "    </tr>\n",
       "    <tr>\n",
       "      <th>50%</th>\n",
       "      <td>0.502360</td>\n",
       "      <td>0.250252</td>\n",
       "      <td>2.515969</td>\n",
       "      <td>91.849972</td>\n",
       "    </tr>\n",
       "    <tr>\n",
       "      <th>75%</th>\n",
       "      <td>1.073581</td>\n",
       "      <td>0.700646</td>\n",
       "      <td>4.715088</td>\n",
       "      <td>128.564089</td>\n",
       "    </tr>\n",
       "    <tr>\n",
       "      <th>max</th>\n",
       "      <td>2.362331</td>\n",
       "      <td>1.343769</td>\n",
       "      <td>16.003790</td>\n",
       "      <td>185.364347</td>\n",
       "    </tr>\n",
       "  </tbody>\n",
       "</table>\n",
       "</div>"
      ],
      "text/plain": [
       "                  f0             f1             f2        product\n",
       "count  100000.000000  100000.000000  100000.000000  100000.000000\n",
       "mean        0.500419       0.250143       2.502647      92.500000\n",
       "std         0.871832       0.504433       3.248248      44.288691\n",
       "min        -1.408605      -0.848218     -12.088328       0.000000\n",
       "25%        -0.072580      -0.200881       0.287748      56.497507\n",
       "50%         0.502360       0.250252       2.515969      91.849972\n",
       "75%         1.073581       0.700646       4.715088     128.564089\n",
       "max         2.362331       1.343769      16.003790     185.364347"
      ]
     },
     "execution_count": 12,
     "metadata": {},
     "output_type": "execute_result"
    }
   ],
   "source": [
    "d0.describe()"
   ]
  },
  {
   "cell_type": "code",
   "execution_count": 13,
   "metadata": {},
   "outputs": [
    {
     "data": {
      "text/html": [
       "<div>\n",
       "<style scoped>\n",
       "    .dataframe tbody tr th:only-of-type {\n",
       "        vertical-align: middle;\n",
       "    }\n",
       "\n",
       "    .dataframe tbody tr th {\n",
       "        vertical-align: top;\n",
       "    }\n",
       "\n",
       "    .dataframe thead th {\n",
       "        text-align: right;\n",
       "    }\n",
       "</style>\n",
       "<table border=\"1\" class=\"dataframe\">\n",
       "  <thead>\n",
       "    <tr style=\"text-align: right;\">\n",
       "      <th></th>\n",
       "      <th>f0</th>\n",
       "      <th>f1</th>\n",
       "      <th>f2</th>\n",
       "      <th>product</th>\n",
       "    </tr>\n",
       "  </thead>\n",
       "  <tbody>\n",
       "    <tr>\n",
       "      <th>count</th>\n",
       "      <td>100000.000000</td>\n",
       "      <td>100000.000000</td>\n",
       "      <td>100000.000000</td>\n",
       "      <td>100000.000000</td>\n",
       "    </tr>\n",
       "    <tr>\n",
       "      <th>mean</th>\n",
       "      <td>1.141296</td>\n",
       "      <td>-4.796579</td>\n",
       "      <td>2.494541</td>\n",
       "      <td>68.825000</td>\n",
       "    </tr>\n",
       "    <tr>\n",
       "      <th>std</th>\n",
       "      <td>8.965932</td>\n",
       "      <td>5.119872</td>\n",
       "      <td>1.703572</td>\n",
       "      <td>45.944423</td>\n",
       "    </tr>\n",
       "    <tr>\n",
       "      <th>min</th>\n",
       "      <td>-31.609576</td>\n",
       "      <td>-26.358598</td>\n",
       "      <td>-0.018144</td>\n",
       "      <td>0.000000</td>\n",
       "    </tr>\n",
       "    <tr>\n",
       "      <th>25%</th>\n",
       "      <td>-6.298551</td>\n",
       "      <td>-8.267985</td>\n",
       "      <td>1.000021</td>\n",
       "      <td>26.953261</td>\n",
       "    </tr>\n",
       "    <tr>\n",
       "      <th>50%</th>\n",
       "      <td>1.153055</td>\n",
       "      <td>-4.813172</td>\n",
       "      <td>2.011479</td>\n",
       "      <td>57.085625</td>\n",
       "    </tr>\n",
       "    <tr>\n",
       "      <th>75%</th>\n",
       "      <td>8.621015</td>\n",
       "      <td>-1.332816</td>\n",
       "      <td>3.999904</td>\n",
       "      <td>107.813044</td>\n",
       "    </tr>\n",
       "    <tr>\n",
       "      <th>max</th>\n",
       "      <td>29.421755</td>\n",
       "      <td>18.734063</td>\n",
       "      <td>5.019721</td>\n",
       "      <td>137.945408</td>\n",
       "    </tr>\n",
       "  </tbody>\n",
       "</table>\n",
       "</div>"
      ],
      "text/plain": [
       "                  f0             f1             f2        product\n",
       "count  100000.000000  100000.000000  100000.000000  100000.000000\n",
       "mean        1.141296      -4.796579       2.494541      68.825000\n",
       "std         8.965932       5.119872       1.703572      45.944423\n",
       "min       -31.609576     -26.358598      -0.018144       0.000000\n",
       "25%        -6.298551      -8.267985       1.000021      26.953261\n",
       "50%         1.153055      -4.813172       2.011479      57.085625\n",
       "75%         8.621015      -1.332816       3.999904     107.813044\n",
       "max        29.421755      18.734063       5.019721     137.945408"
      ]
     },
     "execution_count": 13,
     "metadata": {},
     "output_type": "execute_result"
    }
   ],
   "source": [
    "d1.describe()"
   ]
  },
  {
   "cell_type": "code",
   "execution_count": 14,
   "metadata": {},
   "outputs": [
    {
     "data": {
      "text/html": [
       "<div>\n",
       "<style scoped>\n",
       "    .dataframe tbody tr th:only-of-type {\n",
       "        vertical-align: middle;\n",
       "    }\n",
       "\n",
       "    .dataframe tbody tr th {\n",
       "        vertical-align: top;\n",
       "    }\n",
       "\n",
       "    .dataframe thead th {\n",
       "        text-align: right;\n",
       "    }\n",
       "</style>\n",
       "<table border=\"1\" class=\"dataframe\">\n",
       "  <thead>\n",
       "    <tr style=\"text-align: right;\">\n",
       "      <th></th>\n",
       "      <th>f0</th>\n",
       "      <th>f1</th>\n",
       "      <th>f2</th>\n",
       "      <th>product</th>\n",
       "    </tr>\n",
       "  </thead>\n",
       "  <tbody>\n",
       "    <tr>\n",
       "      <th>count</th>\n",
       "      <td>100000.000000</td>\n",
       "      <td>100000.000000</td>\n",
       "      <td>100000.000000</td>\n",
       "      <td>100000.000000</td>\n",
       "    </tr>\n",
       "    <tr>\n",
       "      <th>mean</th>\n",
       "      <td>0.002023</td>\n",
       "      <td>-0.002081</td>\n",
       "      <td>2.495128</td>\n",
       "      <td>95.000000</td>\n",
       "    </tr>\n",
       "    <tr>\n",
       "      <th>std</th>\n",
       "      <td>1.732045</td>\n",
       "      <td>1.730417</td>\n",
       "      <td>3.473445</td>\n",
       "      <td>44.749921</td>\n",
       "    </tr>\n",
       "    <tr>\n",
       "      <th>min</th>\n",
       "      <td>-8.760004</td>\n",
       "      <td>-7.084020</td>\n",
       "      <td>-11.970335</td>\n",
       "      <td>0.000000</td>\n",
       "    </tr>\n",
       "    <tr>\n",
       "      <th>25%</th>\n",
       "      <td>-1.162288</td>\n",
       "      <td>-1.174820</td>\n",
       "      <td>0.130359</td>\n",
       "      <td>59.450441</td>\n",
       "    </tr>\n",
       "    <tr>\n",
       "      <th>50%</th>\n",
       "      <td>0.009424</td>\n",
       "      <td>-0.009482</td>\n",
       "      <td>2.484236</td>\n",
       "      <td>94.925613</td>\n",
       "    </tr>\n",
       "    <tr>\n",
       "      <th>75%</th>\n",
       "      <td>1.158535</td>\n",
       "      <td>1.163678</td>\n",
       "      <td>4.858794</td>\n",
       "      <td>130.595027</td>\n",
       "    </tr>\n",
       "    <tr>\n",
       "      <th>max</th>\n",
       "      <td>7.238262</td>\n",
       "      <td>7.844801</td>\n",
       "      <td>16.739402</td>\n",
       "      <td>190.029838</td>\n",
       "    </tr>\n",
       "  </tbody>\n",
       "</table>\n",
       "</div>"
      ],
      "text/plain": [
       "                  f0             f1             f2        product\n",
       "count  100000.000000  100000.000000  100000.000000  100000.000000\n",
       "mean        0.002023      -0.002081       2.495128      95.000000\n",
       "std         1.732045       1.730417       3.473445      44.749921\n",
       "min        -8.760004      -7.084020     -11.970335       0.000000\n",
       "25%        -1.162288      -1.174820       0.130359      59.450441\n",
       "50%         0.009424      -0.009482       2.484236      94.925613\n",
       "75%         1.158535       1.163678       4.858794     130.595027\n",
       "max         7.238262       7.844801      16.739402     190.029838"
      ]
     },
     "execution_count": 14,
     "metadata": {},
     "output_type": "execute_result"
    }
   ],
   "source": [
    "d2.describe()"
   ]
  },
  {
   "cell_type": "markdown",
   "metadata": {},
   "source": [
    "Данные без пропускова и дубликатов.\n",
    "Все признаки числовые, категориальных нет. Отделим признаки от целевого и разобъем выборки:"
   ]
  },
  {
   "cell_type": "markdown",
   "metadata": {},
   "source": [
    "<div class=\"alert alert-success\">\n",
    "<h3> Комментарий ревьюера <a class=\"tocSkip\"> </h3> \n",
    "    \n",
    "<b>Все отлично! 👍:</b> Супер, с данными познакомились, теперь смело можем двигаться дальше! "
   ]
  },
  {
   "cell_type": "markdown",
   "metadata": {},
   "source": [
    "<div class=\"alert alert-warning\">\n",
    "<h3> Комментарий ревьюера <a class=\"tocSkip\"> </h3>\n",
    "    \n",
    "<b>Некоторые замечания и рекомендации💡:</b> \n",
    "\n",
    "* По нескольким строкам (тем более ты  смотришь их только для одного региона) достаточно сложно понять, что происходит внутри всего датасета, вдруг наши данные загрузились криво, или там какие-то прям очевидные сильно выделяющиеся аномалии, которые будут мешать процессу обучения. Чтобы это проверить, важно изучать распределения переменных или хотя бы воспользоваться методом describe.    \n",
    "    \n",
    "    \n",
    "* Поскольку дальше в работе мы планируем использовать линейную регрессию, было бы интересно предварительно провести корреляционный анализ и посмотреть, как переменные взаимосвязаны между собой. Это сможет дать некоторые инсайты о том, что же повлияло на качество предсказаний."
   ]
  },
  {
   "cell_type": "markdown",
   "metadata": {},
   "source": [
    "<div class=\"alert alert-success\">\n",
    "<b>Комментарий ревьюера 2:</b> 😉"
   ]
  },
  {
   "cell_type": "code",
   "execution_count": 15,
   "metadata": {},
   "outputs": [],
   "source": [
    "target_0 = d0['product']\n",
    "features_0 = d0.drop(['id', 'product'], axis=1)\n",
    "\n",
    "\n",
    "\n",
    "features_train_0, features_valid_0, target_train_0, target_valid_0 = train_test_split(\n",
    "    features_0, target_0, test_size=0.25, random_state=12345)\n",
    "\n",
    "\n",
    "target_1 = d1['product']\n",
    "features_1 = d1.drop(['id', 'product'], axis=1)\n",
    " \n",
    "    \n",
    "\n",
    "features_train_1, features_valid_1, target_train_1, target_valid_1 = train_test_split(\n",
    "    features_1, target_1, test_size=0.25, random_state=12345)\n",
    "\n",
    "\n",
    "target_2 = d2['product']\n",
    "features_2 = d2.drop(['id', 'product'], axis=1)\n",
    "\n",
    "\n",
    "features_train_2, features_valid_2, target_train_2, target_valid_2 = train_test_split(\n",
    "    features_2, target_2, test_size=0.25, random_state=12345)"
   ]
  },
  {
   "cell_type": "code",
   "execution_count": 16,
   "metadata": {},
   "outputs": [
    {
     "data": {
      "text/html": [
       "<div>\n",
       "<style scoped>\n",
       "    .dataframe tbody tr th:only-of-type {\n",
       "        vertical-align: middle;\n",
       "    }\n",
       "\n",
       "    .dataframe tbody tr th {\n",
       "        vertical-align: top;\n",
       "    }\n",
       "\n",
       "    .dataframe thead th {\n",
       "        text-align: right;\n",
       "    }\n",
       "</style>\n",
       "<table border=\"1\" class=\"dataframe\">\n",
       "  <thead>\n",
       "    <tr style=\"text-align: right;\">\n",
       "      <th></th>\n",
       "      <th>id</th>\n",
       "      <th>f0</th>\n",
       "      <th>f1</th>\n",
       "      <th>f2</th>\n",
       "      <th>product</th>\n",
       "    </tr>\n",
       "  </thead>\n",
       "  <tbody>\n",
       "    <tr>\n",
       "      <th>0</th>\n",
       "      <td>txEyH</td>\n",
       "      <td>0.705745</td>\n",
       "      <td>-0.497823</td>\n",
       "      <td>1.221170</td>\n",
       "      <td>105.280062</td>\n",
       "    </tr>\n",
       "    <tr>\n",
       "      <th>1</th>\n",
       "      <td>2acmU</td>\n",
       "      <td>1.334711</td>\n",
       "      <td>-0.340164</td>\n",
       "      <td>4.365080</td>\n",
       "      <td>73.037750</td>\n",
       "    </tr>\n",
       "    <tr>\n",
       "      <th>2</th>\n",
       "      <td>409Wp</td>\n",
       "      <td>1.022732</td>\n",
       "      <td>0.151990</td>\n",
       "      <td>1.419926</td>\n",
       "      <td>85.265647</td>\n",
       "    </tr>\n",
       "    <tr>\n",
       "      <th>3</th>\n",
       "      <td>iJLyR</td>\n",
       "      <td>-0.032172</td>\n",
       "      <td>0.139033</td>\n",
       "      <td>2.978566</td>\n",
       "      <td>168.620776</td>\n",
       "    </tr>\n",
       "    <tr>\n",
       "      <th>4</th>\n",
       "      <td>Xdl7t</td>\n",
       "      <td>1.988431</td>\n",
       "      <td>0.155413</td>\n",
       "      <td>4.751769</td>\n",
       "      <td>154.036647</td>\n",
       "    </tr>\n",
       "  </tbody>\n",
       "</table>\n",
       "</div>"
      ],
      "text/plain": [
       "      id        f0        f1        f2     product\n",
       "0  txEyH  0.705745 -0.497823  1.221170  105.280062\n",
       "1  2acmU  1.334711 -0.340164  4.365080   73.037750\n",
       "2  409Wp  1.022732  0.151990  1.419926   85.265647\n",
       "3  iJLyR -0.032172  0.139033  2.978566  168.620776\n",
       "4  Xdl7t  1.988431  0.155413  4.751769  154.036647"
      ]
     },
     "execution_count": 16,
     "metadata": {},
     "output_type": "execute_result"
    }
   ],
   "source": [
    "d0.head()"
   ]
  },
  {
   "cell_type": "markdown",
   "metadata": {},
   "source": [
    "<div class=\"alert alert-block alert-danger\">\n",
    "<h3> Комментарий ревьюера<a class=\"tocSkip\"></h3>\n",
    " \n",
    "<b>На доработку🤔:</b> \n",
    "    \n",
    "* На графики всегда необходимо добавлять заголовки, подписи осей и понятную легенду (если используются разные цвета или маркеры, сейчас лейблы легенды нам совсем ничего не говорят об изображении), чтобы график мог существовать в отрыве от кода (например, в презентации) или на случай не разбирающихся в коде заказчиков. \n",
    "    \n",
    "    \n",
    "* Обрати внимание, что в твоей функции scaler вне зависимости от переданных в функцию данных всегда обучается по одном и том же наборе features_0, то есть для двух остальных регионов скалирование происходит некорректно.\n",
    "    \n",
    "    \n",
    "* Заметь, что ты скалируешь исходные данные, а далее в работе используешь неотскалированные выборки, которые были сформированы ранее.\n",
    "    \n",
    "    \n",
    "* Отмечу, что стадартизировать данные до разделения на выборки не корректно, так как возникает утечка информации. Если мы сначала стандартизируем всю выборку и потом делим на тренировочную и валидационную, то получается, что тренировочная выборка отскалирована с учетом особенностей валидационной, поэтому модель заранее обучается этим особенностям и потом показывает хорошие результаты на валидации. То есть мы получаем неоправданное смещение метрики качества в лучшую сторону. Причем чем больше отличались друг от друга неотскалированные выборки, тем сильнее будет смещение. По смещенным оценкам нельзя принимать какие-то решения. "
   ]
  },
  {
   "cell_type": "markdown",
   "metadata": {},
   "source": [
    "v1 исправлено\n",
    "убрала стандартизацию вообще, потому что после нее модель стала плыть и выдавать дикие значения"
   ]
  },
  {
   "cell_type": "markdown",
   "metadata": {},
   "source": [
    "<div class=\"alert alert-success\">\n",
    "<b>Комментарий ревьюера 2:</b> Скорее всего стандартизация была проведена некорректно, или проблема была в чем-то еще. Ниже с помощью формул я показывала, что корректно проведенная стандартизация не может никак отразиться на результатах."
   ]
  },
  {
   "cell_type": "markdown",
   "metadata": {},
   "source": [
    "<div class=\"alert alert-warning\">\n",
    "<h3> Комментарий ревьюера <a class=\"tocSkip\"> </h3>\n",
    "    \n",
    "<b>Некоторые замечания и рекомендации💡:</b> \n",
    "    \n",
    "* На основании чего сделан вывод, что распределения стало лучше, если мы не видели исходную ситуацию.\n",
    "    \n",
    "    \n",
    "* На самом деле на **простой** линейной регрессии стандартизация не окажет никакого влияния на предсказания, поскольку все изменения переменной уйдут в новые коэффициенты: \n",
    "\n",
    "    $y = \\alpha + \\beta x$ - без стандартизации\n",
    "\n",
    "    $y = \\alpha_{st} + \\beta_{st} \\frac{x-mean}{std} = (\\alpha_{st} - \\frac{\\beta_{st}mean}{std}) + (\\frac{\\beta_{st}}{std}) x$ - со стандартизацией\n",
    "\n",
    "    При этом $\\alpha = (\\alpha_{st} - \\frac{\\beta_{st}mean}{std})$ и $\\beta = (\\frac{\\beta_{st}}{std})$.\n",
    "\n",
    "    По ссылкам можно узнать, когда все-таки стандартизация крайне важна: <a href = 'https://www.listendata.com/2017/04/how-to-standardize-variable-in-regression.html'>тык</a>, <a href = 'https://www.statlect.com/fundamentals-of-statistics/linear-regression-with-standardized-variables'>тык</a>.\n",
    "\n",
    "    Одно из преимуществ стандартизации для линейной регрессии: мы можем по величине полученных коэффициентов судить о важности соотвествующих признаков (больше коэффициент - больше значимость). Без стандартизации такая интерпретация невозможна, так как каждый коэффициент в себя включает еще и элемент масштаба своего признака. Второй случай, когда стандартизация необходима - линейные регрессии с **регуляризацией** (ридж, лассо, эластик нет), поскольку данные модели регулируют те самые коэффициенты, на которые воздействует стандартизация. Ну и на всякий случай отмечу, что из-за особенностей формата float в некоторых знаках после запятой отличия все-таки будут, что может оказаться критичным, например, на соревнованиях."
   ]
  },
  {
   "cell_type": "markdown",
   "metadata": {},
   "source": [
    "## Обучение и проверка модели"
   ]
  },
  {
   "cell_type": "markdown",
   "metadata": {},
   "source": [
    "### Скважины региона 1"
   ]
  },
  {
   "cell_type": "code",
   "execution_count": 17,
   "metadata": {},
   "outputs": [],
   "source": [
    "def modeling(features, target, features_train, target_train, features_valid, target_valid):\n",
    "    model = LinearRegression()\n",
    "    model.fit(features_train, target_train)\n",
    "    print('Оценка модели: ', model.score(features_valid, target_valid))\n",
    "    scores = cross_val_score(model, features, target)\n",
    "    print('Средняя оценка кросс-валидации: ', scores.mean())\n",
    "    prediction = model.predict(features_valid)\n",
    "    pm = prediction.mean()\n",
    "    rmse = mean_squared_error(target_valid, prediction) ** 0.5\n",
    "    print('Предсказание модели в диапазоне rmse: ', pm, '+-', rmse)\n",
    "    print('Реальное среднее: ', target_valid.mean())"
   ]
  },
  {
   "cell_type": "code",
   "execution_count": 18,
   "metadata": {},
   "outputs": [
    {
     "name": "stdout",
     "output_type": "stream",
     "text": [
      "Оценка модели:  0.27994321524487786\n",
      "Средняя оценка кросс-валидации:  0.27549130726904475\n",
      "Предсказание модели в диапазоне rmse:  92.59256778438035 +- 37.5794217150813\n",
      "Реальное среднее:  92.07859674082927\n"
     ]
    }
   ],
   "source": [
    "modeling(features_0, target_0, features_train_0, target_train_0, features_valid_0, target_valid_0)"
   ]
  },
  {
   "cell_type": "markdown",
   "metadata": {},
   "source": [
    "Кросс-валидация показала, что реальная точность модели чуть хуже"
   ]
  },
  {
   "cell_type": "markdown",
   "metadata": {},
   "source": [
    "В среднем, предсказание модели оказалось очень точным"
   ]
  },
  {
   "cell_type": "markdown",
   "metadata": {},
   "source": [
    "### Скважины региона  2"
   ]
  },
  {
   "cell_type": "code",
   "execution_count": 19,
   "metadata": {},
   "outputs": [
    {
     "name": "stdout",
     "output_type": "stream",
     "text": [
      "Оценка модели:  0.9996233978805127\n",
      "Средняя оценка кросс-валидации:  0.9996243728923553\n",
      "Предсказание модели в диапазоне rmse:  68.728546895446 +- 0.893099286775617\n",
      "Реальное среднее:  68.72313602435997\n"
     ]
    }
   ],
   "source": [
    "modeling(features_1, target_1, features_train_1, target_train_1, features_valid_1, target_valid_1)"
   ]
  },
  {
   "cell_type": "markdown",
   "metadata": {},
   "source": [
    "Удивительно высокая точность предсказания, даже не смотря на кросс-валидацию"
   ]
  },
  {
   "cell_type": "markdown",
   "metadata": {},
   "source": [
    "Запасы этой скважины предсказаны точно, при этом их объем меньше, чем у предыдущей скважины"
   ]
  },
  {
   "cell_type": "markdown",
   "metadata": {},
   "source": [
    "### Скважины региона  3"
   ]
  },
  {
   "cell_type": "code",
   "execution_count": 20,
   "metadata": {},
   "outputs": [
    {
     "name": "stdout",
     "output_type": "stream",
     "text": [
      "Оценка модели:  0.20524758386040443\n",
      "Средняя оценка кросс-валидации:  0.1987156246205129\n",
      "Предсказание модели в диапазоне rmse:  94.96504596800489 +- 40.02970873393434\n",
      "Реальное среднее:  94.88423280885438\n"
     ]
    }
   ],
   "source": [
    "modeling(features_2, target_2, features_train_2, target_train_2, features_valid_2, target_valid_2)"
   ]
  },
  {
   "cell_type": "markdown",
   "metadata": {},
   "source": [
    "Очень плохая предсказуемость модели"
   ]
  },
  {
   "cell_type": "markdown",
   "metadata": {},
   "source": [
    "Объем и разброс предсказания запасов этой скважины почти такие же, как у первой"
   ]
  },
  {
   "cell_type": "markdown",
   "metadata": {},
   "source": [
    "<div class=\"alert alert-success\">\n",
    "<h3> Комментарий ревьюера <a class=\"tocSkip\"> </h3> \n",
    "    \n",
    "<b>Все отлично! 👍:</b> Обучение и валидацию проводишь верно! Круто, что создаешь специальную функцию для выполнения повторяющихся действий, это позволяет сделать код более аккуратным и эффективным. С этого момента бывают подводные камни. Мы получили валидационные подвыборки с помощью `train_test_split`, индексы при этом будут хаотичны в них (соответсвовать исходному датасету), а предсказания у нас упорядочены. За этим надо следить в данном проекте, чтобы потом правильно ставилось соответствие таргета и предсказания, именно для одной и той же скважины."
   ]
  },
  {
   "cell_type": "markdown",
   "metadata": {},
   "source": [
    "<div class=\"alert alert-warning\">\n",
    "<h3> Комментарий ревьюера <a class=\"tocSkip\"> </h3>\n",
    "    \n",
    "<b>Некоторые замечания и рекомендации💡:</b> \n",
    "    \n",
    "* Кросс-валидация - это интсрумент для получения более независимых метрик (усредненных между выборками), чтобы **выбор между моделями** был более надежным. Поскольку в данном проеткте у нас не стоит задачи подбирать модель, в кросс-валидации необходимости нет.\n",
    "    \n",
    "    \n",
    "* На будущее отмечу, что если бы ты для моделирования использовала отскалированную тренировочную выборку, то ее было бы некорректно использовать для кросс-валидации по той же причине утечки: если мы сначала стандартизируем всю тренировочную выборку и потом делим на подтренировочную и валидационную, то получается, что подтренировочная выборка отскалирована с учетом особенностей валидационной, поэтому модель заранее обучается этим особенностям и потом показывает хорошие результаты на валидации. \n",
    "    \n",
    "    Чтобы этого не допускать, скалировани тренировочной выборки необходимо проводить не до кросс-валидации, а во время (то есть сначала будут формироваться подвыборки, а затем производиться скалирование). Технически это можно реализовать с помощью пайплайнов (функция для создания порядка выполнения методов), например так:\n",
    "\n",
    "    ```python\n",
    "from sklearn.pipeline import make_pipeline\n",
    "pipeline = make_pipeline(StandardScaler(), ml_model)\n",
    "cross_val_score(pipeline, X_train, y_train)\n",
    "    ```"
   ]
  },
  {
   "cell_type": "markdown",
   "metadata": {},
   "source": [
    "## Подготовка к расчёту прибыли"
   ]
  },
  {
   "cell_type": "code",
   "execution_count": 21,
   "metadata": {
    "scrolled": true
   },
   "outputs": [],
   "source": [
    "min_barr_count = 10000000 / ( 450 * 200 )"
   ]
  },
  {
   "cell_type": "markdown",
   "metadata": {},
   "source": [
    "<div class=\"alert alert-block alert-danger\">\n",
    "<h3> Комментарий ревьюера <a class=\"tocSkip\"></h3>\n",
    " \n",
    "<b>На доработку🤔:</b> Если в работе используются какие-то константные значения, то их лучше сохранять в отдельных переменных и потом к ним обращаться. Это позволяет избежать ошибок при редактировании проекта, то есть достаточно будет поменять значение только одной константы, чтобы поменялись все завиясящие от нее расчеты. К тому же код будет читать гораздо удобнее, так как мы будем понимать, что означает каждая из констант (по голому числу в коде сложно быстро догадаться, что оно значит)."
   ]
  },
  {
   "cell_type": "markdown",
   "metadata": {},
   "source": [
    "<div class=\"alert alert-danger\">\n",
    "<b>Комментарий ревьюера 2:</b> Это замечание так и не было исправлено. Когда проекты станут в разы больше (в реальной практике) без созданных констант будет очень просото запутаться."
   ]
  },
  {
   "cell_type": "markdown",
   "metadata": {},
   "source": [
    "Почему не испралвено, я же создала константу min_barr_count 😢 "
   ]
  },
  {
   "cell_type": "markdown",
   "metadata": {},
   "source": [
    "<div class=\"alert alert-danger\">\n",
    "<b>Комментарий ревьюера 3:</b> Это уже считается расчетной переменной, которую ты выводишь в проекте (это своего рода часть исследования) :) Под константами подразумеваются отдельные числа, которые ты сейчас использовала в своих расчетах, то есть, например, 10000000 - это константа бюджета и т.д.\n",
    "    \n",
    "Согласно стандартам оформления <a href = 'https://pythonworld.ru/osnovy/pep-8-rukovodstvo-po-napisaniyu-koda-na-python.html#section-29'>PEP-8</a> названия констант принято задавать заглавными буквами (например, BUDGET). Также на будущее скажу, что стандарты разработки рекомендуют объявлять их в начале пректа: сначала идут импорты, затем константы, потом пользовательские функции и классы (с комментариями, для чего каждый из созданных объектов предназначен). К исследовательским проектам это применяется реже, но в некоторых случаях действительно оказывается полезным. \n",
    "    \n",
    "Далее везде в твоих исследовательских расчетах, функциях ты вместо числа используешь эту созданную константу BUDGET. Это удобно, так как и поменять все расчеты можно быстро, если вдруг придет заказчик и скажет, что у него есть теперь 15 млрд на разработку, а также и при чтении кода сразу понятно, что в расчетах используется бюджет, а не неведомое нам число.\n",
    "    \n",
    "Кстати, большие числа можно записывать либо через возведение в степень: 10**10 = 1e10, либо так: 10_000_000_000. Все это то же самое, что и 10000000000, но легче для восприятия."
   ]
  },
  {
   "cell_type": "markdown",
   "metadata": {},
   "source": [
    "Минимальное значение для окупаемости около 111 тыс. баррелей, что выше среднего для всех регионов"
   ]
  },
  {
   "cell_type": "markdown",
   "metadata": {},
   "source": [
    "<div class=\"alert alert-success\">\n",
    "<h3> Комментарий ревьюера <a class=\"tocSkip\"> </h3> \n",
    "    \n",
    "<b>Все отлично! 👍:</b> Все верно! Во всех регионах средняя концентрация продукта слишком низкая, чтобы выбирать точки случайно, поэтому нужен хороший механизм для отбора."
   ]
  },
  {
   "cell_type": "code",
   "execution_count": 22,
   "metadata": {},
   "outputs": [],
   "source": [
    "def profit(target, probabilities, count):\n",
    "    target = target.reset_index(drop = True)\n",
    "    probabilities = probabilities.reset_index(drop = True)\n",
    "    probs_sorted = probabilities.sort_values(ascending=False)\n",
    "    selected = target[probs_sorted.index][:count]\n",
    "    return 450 * selected.sum() - 10000000"
   ]
  },
  {
   "cell_type": "markdown",
   "metadata": {},
   "source": [
    "<div class=\"alert alert-warning\">\n",
    "<h3> Комментарий ревьюера <a class=\"tocSkip\"> </h3>\n",
    "    \n",
    "<b>Некоторые замечания и рекомендации💡:</b> Согласно рекомендациям по оформлению <a href = 'https://pythonworld.ru/osnovy/pep-8-rukovodstvo-po-napisaniyu-koda-na-python.html#section-18'>PEP-8</a> названия всех функций и переменных должны быть интуитивно понятны всем и отражать основной смысл. Revenue переводится как выручка, то есть сколько мы получили с продажи, в то время как profit переводится как прибыль, сколько заработали (выручка минус затраты, именно это мы и считаем)."
   ]
  },
  {
   "cell_type": "markdown",
   "metadata": {},
   "source": [
    "<div class=\"alert alert-success\">\n",
    "<b>Комментарий ревьюера 2:</b> 😉"
   ]
  },
  {
   "cell_type": "code",
   "execution_count": 23,
   "metadata": {},
   "outputs": [],
   "source": [
    "def calc(target, features_valid, features_train, target_train):\n",
    "    model = LinearRegression()\n",
    "    model.fit(features_train, target_train)\n",
    "    target = target.reset_index(drop=True)\n",
    "    probabilities = pd.Series(model.predict(features_valid))\n",
    "    state = np.random.RandomState(12345)\n",
    "    values = []\n",
    "    for i in range(1000):\n",
    "        target_subsample = target.sample(n=500, replace=True, random_state=state)\n",
    "        probs_subsample = probabilities[target_subsample.index]\n",
    "        values.append(profit(target_subsample, probs_subsample, 200))\n",
    "\n",
    "    fig = go.Figure()\n",
    "    fig.add_trace(go.Box(y=values, name='Распределение прибыли'))\n",
    "    fig.show(\"svg\")        \n",
    "    values = pd.Series(values)\n",
    "    loss_proba = values[values < 0].count() / values.count()\n",
    "    lower = values.quantile(q=0.025)\n",
    "    upper = values.quantile(q=0.975)\n",
    "\n",
    "    mean = values.mean()\n",
    "    print(\"Средняя выручка:\", '{:.1f}'.format(mean/1000), 'млрд')\n",
    "    print(\"5%-квантиль:\", '{:.1f}'.format(lower/1000), 'млрд')\n",
    "    print(\"95%-квантиль:\", '{:.1f}'.format(upper/1000), 'млрд')\n",
    "    print(\"Вероятность убытков:\", '{:.1f}'.format(loss_proba * 100), '%')\n"
   ]
  },
  {
   "cell_type": "markdown",
   "metadata": {},
   "source": [
    "<div class=\"alert alert-success\">\n",
    "<h3> Комментарий ревьюера <a class=\"tocSkip\"> </h3> \n",
    "    \n",
    "<b>Все отлично! 👍:</b> Ты верно делаешь, что при семплировании данных устанавливаешь параметр **replace = True**. Особенностью техники бутстреп является семплирование с возвратом, то есть наблюдение в выборку может попасть несколько раз. Это необходимо для того, чтобы добиться независимости при каждом выборе, иначе вероятность достать элемент из выборки будет с каждым разом увеличиваться. Причем чем больше размер подвыборки, тем выраженнее будет зависимость. Для подвыборки размера 1, например, в крайнем случае, мы возрат можем не делать, так уж и быть, а вот для подвыборки размером с семплируемую, без возврата ну никак не получится получить разнообразные варианты, а подвыборку большего размера вообще — не получить.\n",
    "    \n",
    "Все это может показаться немного странным для понимания: как будто одна скважина может буриться несколько раз. Но давай вспомним, что выборка - это лишь некоторое представление о генеральной совокупности. Вполне возможно, что где-то в регионе существуют и другие потенциальные точки добычи, о которых мы даже не подозреваем, но они являются частью генеральной сововкупности. В таком случае повторяющиеся наблюдения можно рассматривать как разные точки добычи из всей генеральной совокупности, просто они имеют близкие характеристики. "
   ]
  },
  {
   "cell_type": "markdown",
   "metadata": {},
   "source": [
    "<div class=\"alert alert-block alert-danger\">\n",
    "<h3> Комментарий ревьюера<a class=\"tocSkip\"></h3>\n",
    " \n",
    "<b>На доработку🤔:</b> \n",
    "    \n",
    "* Поскольку мы вынуждены формировать выборку с возвращением (**replace = True**), в сабсемпле у нас образуются повторения, причем дублироваться будут и индексы. Затем мы формируем на основе него второй сабсемпл, и в нем тоже будут дублироваться индексы. Но давай посмторим, что происходит, когда мы пытаемся достать какие-то значения из вектора с дублирующимися индексами, побробуй выполнить следующий код:\n",
    "    \n",
    "    ```python\n",
    "    t_subsample = pd.Series([5, 5, 7, 7], index = [0, 0, 1, 1])\n",
    "    p_subsample = pd.Series([5.5, 5.5, 7.5, 7.5], index = [0, 0, 1, 1])\n",
    "\n",
    "    # Пробуем достать одно значение\n",
    "    print(t_subsample[0])\n",
    "\n",
    "    # Пробуем достать все значения по исходным индексам, ожидаем увидеть 4 значения\n",
    "    print()\n",
    "    print(t_subsample[p_subsample.index])\n",
    "    ```  \n",
    "    Видим, что из-за дублирования количество отобранных значений разрастается. Это непременно будет приводить к завышению прибыли и занижению рисков. Чтобы избежать данной проблемы, нам нужно либо перед функцией прибыли сбросить у обоих сабсемплов индексы (чтобы каждое повторяющееся значения стало считаться уникальным за счет индекса, и при этом между векторами не нарушилась сопоставимость):\n",
    "\n",
    "    ```python\n",
    "    # Cбрасываем индексы\n",
    "    t_subsample = t_subsample.reset_index(drop = True)\n",
    "    p_subsample = p_subsample.reset_index(drop = True)\n",
    "\n",
    "    # Пробуем достать значения снова\n",
    "    print(t_subsample[0])\n",
    "    print()\n",
    "    print(t_subsample[p_subsample.index])\n",
    "    ```  \n",
    "    либо не сбрасывать индексы, но в функцию прибыли передавать полный валидационный вектор таргета, в котором индексы не дублируются и соотвествуют индексам предсказаний (обозначают одни и те же скважины), либо вовсе придумать способ как можно обойтись без индексов (такие есть, но быстро их объяснить не получится).\n",
    "    \n",
    "    \n",
    "* Сейчас у тебя рассчитывается только среднее значение прибыли, левая граница доверительного интервала (нужна еще правая), и совсем не рассчитываются риски (заказчик запрашивал значение вероятности, с которой он может столкнуться с убытками)."
   ]
  },
  {
   "cell_type": "markdown",
   "metadata": {},
   "source": [
    "v1 исправлено. сброс индексов добавила в профит"
   ]
  },
  {
   "cell_type": "markdown",
   "metadata": {},
   "source": [
    "<div class=\"alert alert-success\">\n",
    "<b>Комментарий ревьюера 2:</b> Отлично! Теперь результаты не искажаются дублированием :)"
   ]
  },
  {
   "cell_type": "markdown",
   "metadata": {},
   "source": [
    "<div class=\"alert alert-danger\">\n",
    "<b>Комментарий ревьюера 2:</b> Обрати внимание, что ты нашла 90% интервал вместо требуемого 95%."
   ]
  },
  {
   "cell_type": "markdown",
   "metadata": {},
   "source": [
    "v2 исправлено"
   ]
  },
  {
   "cell_type": "markdown",
   "metadata": {},
   "source": [
    "<div class=\"alert alert-success\">\n",
    "<b>Комментарий ревьюера 3:</b> Супер!"
   ]
  },
  {
   "cell_type": "markdown",
   "metadata": {},
   "source": [
    "<div class=\"alert alert-warning\">\n",
    "<h3> Комментарий ревьюера <a class=\"tocSkip\"> </h3>\n",
    "    \n",
    "<b>Некоторые замечания и рекомендации💡:</b> Чтобы сейчас не тратить время на получение предсказаний, их можно было бы сохранить во втором разделе с моделированием."
   ]
  },
  {
   "cell_type": "markdown",
   "metadata": {},
   "source": [
    "## Расчёт прибыли и рисков "
   ]
  },
  {
   "cell_type": "code",
   "execution_count": 24,
   "metadata": {},
   "outputs": [
    {
     "ename": "ValueError",
     "evalue": "\nImage export using the \"kaleido\" engine requires the kaleido package,\nwhich can be installed using pip:\n    $ pip install -U kaleido\n",
     "output_type": "error",
     "traceback": [
      "\u001b[0;31m---------------------------------------------------------------------------\u001b[0m",
      "\u001b[0;31mValueError\u001b[0m                                Traceback (most recent call last)",
      "\u001b[0;32m/tmp/ipykernel_158/510591085.py\u001b[0m in \u001b[0;36m<module>\u001b[0;34m\u001b[0m\n\u001b[0;32m----> 1\u001b[0;31m \u001b[0mcalc\u001b[0m\u001b[0;34m(\u001b[0m\u001b[0mtarget_valid_0\u001b[0m\u001b[0;34m,\u001b[0m \u001b[0mfeatures_valid_0\u001b[0m\u001b[0;34m,\u001b[0m \u001b[0mfeatures_train_0\u001b[0m\u001b[0;34m,\u001b[0m \u001b[0mtarget_train_0\u001b[0m\u001b[0;34m)\u001b[0m\u001b[0;34m\u001b[0m\u001b[0;34m\u001b[0m\u001b[0m\n\u001b[0m",
      "\u001b[0;32m/tmp/ipykernel_158/3848845602.py\u001b[0m in \u001b[0;36mcalc\u001b[0;34m(target, features_valid, features_train, target_train)\u001b[0m\n\u001b[1;32m     13\u001b[0m     \u001b[0mfig\u001b[0m \u001b[0;34m=\u001b[0m \u001b[0mgo\u001b[0m\u001b[0;34m.\u001b[0m\u001b[0mFigure\u001b[0m\u001b[0;34m(\u001b[0m\u001b[0;34m)\u001b[0m\u001b[0;34m\u001b[0m\u001b[0;34m\u001b[0m\u001b[0m\n\u001b[1;32m     14\u001b[0m     \u001b[0mfig\u001b[0m\u001b[0;34m.\u001b[0m\u001b[0madd_trace\u001b[0m\u001b[0;34m(\u001b[0m\u001b[0mgo\u001b[0m\u001b[0;34m.\u001b[0m\u001b[0mBox\u001b[0m\u001b[0;34m(\u001b[0m\u001b[0my\u001b[0m\u001b[0;34m=\u001b[0m\u001b[0mvalues\u001b[0m\u001b[0;34m,\u001b[0m \u001b[0mname\u001b[0m\u001b[0;34m=\u001b[0m\u001b[0;34m'Распределение прибыли'\u001b[0m\u001b[0;34m)\u001b[0m\u001b[0;34m)\u001b[0m\u001b[0;34m\u001b[0m\u001b[0;34m\u001b[0m\u001b[0m\n\u001b[0;32m---> 15\u001b[0;31m     \u001b[0mfig\u001b[0m\u001b[0;34m.\u001b[0m\u001b[0mshow\u001b[0m\u001b[0;34m(\u001b[0m\u001b[0;34m\"svg\"\u001b[0m\u001b[0;34m)\u001b[0m\u001b[0;34m\u001b[0m\u001b[0;34m\u001b[0m\u001b[0m\n\u001b[0m\u001b[1;32m     16\u001b[0m     \u001b[0mvalues\u001b[0m \u001b[0;34m=\u001b[0m \u001b[0mpd\u001b[0m\u001b[0;34m.\u001b[0m\u001b[0mSeries\u001b[0m\u001b[0;34m(\u001b[0m\u001b[0mvalues\u001b[0m\u001b[0;34m)\u001b[0m\u001b[0;34m\u001b[0m\u001b[0;34m\u001b[0m\u001b[0m\n\u001b[1;32m     17\u001b[0m     \u001b[0mloss_proba\u001b[0m \u001b[0;34m=\u001b[0m \u001b[0mvalues\u001b[0m\u001b[0;34m[\u001b[0m\u001b[0mvalues\u001b[0m \u001b[0;34m<\u001b[0m \u001b[0;36m0\u001b[0m\u001b[0;34m]\u001b[0m\u001b[0;34m.\u001b[0m\u001b[0mcount\u001b[0m\u001b[0;34m(\u001b[0m\u001b[0;34m)\u001b[0m \u001b[0;34m/\u001b[0m \u001b[0mvalues\u001b[0m\u001b[0;34m.\u001b[0m\u001b[0mcount\u001b[0m\u001b[0;34m(\u001b[0m\u001b[0;34m)\u001b[0m\u001b[0;34m\u001b[0m\u001b[0;34m\u001b[0m\u001b[0m\n",
      "\u001b[0;32m/opt/conda/lib/python3.9/site-packages/plotly/basedatatypes.py\u001b[0m in \u001b[0;36mshow\u001b[0;34m(self, *args, **kwargs)\u001b[0m\n\u001b[1;32m   3396\u001b[0m         \u001b[0;32mimport\u001b[0m \u001b[0mplotly\u001b[0m\u001b[0;34m.\u001b[0m\u001b[0mio\u001b[0m \u001b[0;32mas\u001b[0m \u001b[0mpio\u001b[0m\u001b[0;34m\u001b[0m\u001b[0;34m\u001b[0m\u001b[0m\n\u001b[1;32m   3397\u001b[0m \u001b[0;34m\u001b[0m\u001b[0m\n\u001b[0;32m-> 3398\u001b[0;31m         \u001b[0;32mreturn\u001b[0m \u001b[0mpio\u001b[0m\u001b[0;34m.\u001b[0m\u001b[0mshow\u001b[0m\u001b[0;34m(\u001b[0m\u001b[0mself\u001b[0m\u001b[0;34m,\u001b[0m \u001b[0;34m*\u001b[0m\u001b[0margs\u001b[0m\u001b[0;34m,\u001b[0m \u001b[0;34m**\u001b[0m\u001b[0mkwargs\u001b[0m\u001b[0;34m)\u001b[0m\u001b[0;34m\u001b[0m\u001b[0;34m\u001b[0m\u001b[0m\n\u001b[0m\u001b[1;32m   3399\u001b[0m \u001b[0;34m\u001b[0m\u001b[0m\n\u001b[1;32m   3400\u001b[0m     \u001b[0;32mdef\u001b[0m \u001b[0mto_json\u001b[0m\u001b[0;34m(\u001b[0m\u001b[0mself\u001b[0m\u001b[0;34m,\u001b[0m \u001b[0;34m*\u001b[0m\u001b[0margs\u001b[0m\u001b[0;34m,\u001b[0m \u001b[0;34m**\u001b[0m\u001b[0mkwargs\u001b[0m\u001b[0;34m)\u001b[0m\u001b[0;34m:\u001b[0m\u001b[0;34m\u001b[0m\u001b[0;34m\u001b[0m\u001b[0m\n",
      "\u001b[0;32m/opt/conda/lib/python3.9/site-packages/plotly/io/_renderers.py\u001b[0m in \u001b[0;36mshow\u001b[0;34m(fig, renderer, validate, **kwargs)\u001b[0m\n\u001b[1;32m    387\u001b[0m \u001b[0;34m\u001b[0m\u001b[0m\n\u001b[1;32m    388\u001b[0m     \u001b[0;31m# Mimetype renderers\u001b[0m\u001b[0;34m\u001b[0m\u001b[0;34m\u001b[0m\u001b[0;34m\u001b[0m\u001b[0m\n\u001b[0;32m--> 389\u001b[0;31m     \u001b[0mbundle\u001b[0m \u001b[0;34m=\u001b[0m \u001b[0mrenderers\u001b[0m\u001b[0;34m.\u001b[0m\u001b[0m_build_mime_bundle\u001b[0m\u001b[0;34m(\u001b[0m\u001b[0mfig_dict\u001b[0m\u001b[0;34m,\u001b[0m \u001b[0mrenderers_string\u001b[0m\u001b[0;34m=\u001b[0m\u001b[0mrenderer\u001b[0m\u001b[0;34m,\u001b[0m \u001b[0;34m**\u001b[0m\u001b[0mkwargs\u001b[0m\u001b[0;34m)\u001b[0m\u001b[0;34m\u001b[0m\u001b[0;34m\u001b[0m\u001b[0m\n\u001b[0m\u001b[1;32m    390\u001b[0m     \u001b[0;32mif\u001b[0m \u001b[0mbundle\u001b[0m\u001b[0;34m:\u001b[0m\u001b[0;34m\u001b[0m\u001b[0;34m\u001b[0m\u001b[0m\n\u001b[1;32m    391\u001b[0m         \u001b[0;32mif\u001b[0m \u001b[0;32mnot\u001b[0m \u001b[0mipython_display\u001b[0m\u001b[0;34m:\u001b[0m\u001b[0;34m\u001b[0m\u001b[0;34m\u001b[0m\u001b[0m\n",
      "\u001b[0;32m/opt/conda/lib/python3.9/site-packages/plotly/io/_renderers.py\u001b[0m in \u001b[0;36m_build_mime_bundle\u001b[0;34m(self, fig_dict, renderers_string, **kwargs)\u001b[0m\n\u001b[1;32m    295\u001b[0m                         \u001b[0msetattr\u001b[0m\u001b[0;34m(\u001b[0m\u001b[0mrenderer\u001b[0m\u001b[0;34m,\u001b[0m \u001b[0mk\u001b[0m\u001b[0;34m,\u001b[0m \u001b[0mv\u001b[0m\u001b[0;34m)\u001b[0m\u001b[0;34m\u001b[0m\u001b[0;34m\u001b[0m\u001b[0m\n\u001b[1;32m    296\u001b[0m \u001b[0;34m\u001b[0m\u001b[0m\n\u001b[0;32m--> 297\u001b[0;31m                 \u001b[0mbundle\u001b[0m\u001b[0;34m.\u001b[0m\u001b[0mupdate\u001b[0m\u001b[0;34m(\u001b[0m\u001b[0mrenderer\u001b[0m\u001b[0;34m.\u001b[0m\u001b[0mto_mimebundle\u001b[0m\u001b[0;34m(\u001b[0m\u001b[0mfig_dict\u001b[0m\u001b[0;34m)\u001b[0m\u001b[0;34m)\u001b[0m\u001b[0;34m\u001b[0m\u001b[0;34m\u001b[0m\u001b[0m\n\u001b[0m\u001b[1;32m    298\u001b[0m \u001b[0;34m\u001b[0m\u001b[0m\n\u001b[1;32m    299\u001b[0m         \u001b[0;32mreturn\u001b[0m \u001b[0mbundle\u001b[0m\u001b[0;34m\u001b[0m\u001b[0;34m\u001b[0m\u001b[0m\n",
      "\u001b[0;32m/opt/conda/lib/python3.9/site-packages/plotly/io/_base_renderers.py\u001b[0m in \u001b[0;36mto_mimebundle\u001b[0;34m(self, fig_dict)\u001b[0m\n\u001b[1;32m    126\u001b[0m \u001b[0;34m\u001b[0m\u001b[0m\n\u001b[1;32m    127\u001b[0m     \u001b[0;32mdef\u001b[0m \u001b[0mto_mimebundle\u001b[0m\u001b[0;34m(\u001b[0m\u001b[0mself\u001b[0m\u001b[0;34m,\u001b[0m \u001b[0mfig_dict\u001b[0m\u001b[0;34m)\u001b[0m\u001b[0;34m:\u001b[0m\u001b[0;34m\u001b[0m\u001b[0;34m\u001b[0m\u001b[0m\n\u001b[0;32m--> 128\u001b[0;31m         image_bytes = to_image(\n\u001b[0m\u001b[1;32m    129\u001b[0m             \u001b[0mfig_dict\u001b[0m\u001b[0;34m,\u001b[0m\u001b[0;34m\u001b[0m\u001b[0;34m\u001b[0m\u001b[0m\n\u001b[1;32m    130\u001b[0m             \u001b[0mformat\u001b[0m\u001b[0;34m=\u001b[0m\u001b[0mself\u001b[0m\u001b[0;34m.\u001b[0m\u001b[0mformat\u001b[0m\u001b[0;34m,\u001b[0m\u001b[0;34m\u001b[0m\u001b[0;34m\u001b[0m\u001b[0m\n",
      "\u001b[0;32m/opt/conda/lib/python3.9/site-packages/plotly/io/_kaleido.py\u001b[0m in \u001b[0;36mto_image\u001b[0;34m(fig, format, width, height, scale, validate, engine)\u001b[0m\n\u001b[1;32m    132\u001b[0m     \u001b[0;31m# Raise informative error message if Kaleido is not installed\u001b[0m\u001b[0;34m\u001b[0m\u001b[0;34m\u001b[0m\u001b[0;34m\u001b[0m\u001b[0m\n\u001b[1;32m    133\u001b[0m     \u001b[0;32mif\u001b[0m \u001b[0mscope\u001b[0m \u001b[0;32mis\u001b[0m \u001b[0;32mNone\u001b[0m\u001b[0;34m:\u001b[0m\u001b[0;34m\u001b[0m\u001b[0;34m\u001b[0m\u001b[0m\n\u001b[0;32m--> 134\u001b[0;31m         raise ValueError(\n\u001b[0m\u001b[1;32m    135\u001b[0m             \"\"\"\n\u001b[1;32m    136\u001b[0m \u001b[0mImage\u001b[0m \u001b[0mexport\u001b[0m \u001b[0musing\u001b[0m \u001b[0mthe\u001b[0m \u001b[0;34m\"kaleido\"\u001b[0m \u001b[0mengine\u001b[0m \u001b[0mrequires\u001b[0m \u001b[0mthe\u001b[0m \u001b[0mkaleido\u001b[0m \u001b[0mpackage\u001b[0m\u001b[0;34m,\u001b[0m\u001b[0;34m\u001b[0m\u001b[0;34m\u001b[0m\u001b[0m\n",
      "\u001b[0;31mValueError\u001b[0m: \nImage export using the \"kaleido\" engine requires the kaleido package,\nwhich can be installed using pip:\n    $ pip install -U kaleido\n"
     ]
    }
   ],
   "source": [
    "calc(target_valid_0, features_valid_0, features_train_0, target_train_0)"
   ]
  },
  {
   "cell_type": "code",
   "execution_count": null,
   "metadata": {},
   "outputs": [],
   "source": [
    "calc(target_valid_1, features_valid_1, features_train_1, target_train_1)"
   ]
  },
  {
   "cell_type": "markdown",
   "metadata": {},
   "source": [
    "<div class=\"alert alert-block alert-danger\">\n",
    "<h3> Комментарий ревьюера <a class=\"tocSkip\"></h3>\n",
    "\n",
    "<b>На доработку🤔:</b> Перед отправкой проекта важно сбрасывать ядро (очищать память от созданных объектов) и заново запускать проект с самого начала, чтобы проверить на наличие ошибок в коде. Сейчас код не смог выполниться до конца."
   ]
  },
  {
   "cell_type": "markdown",
   "metadata": {},
   "source": [
    "<div class=\"alert alert-success\">\n",
    "<b>Комментарий ревьюера 2:</b> 😉"
   ]
  },
  {
   "cell_type": "code",
   "execution_count": null,
   "metadata": {},
   "outputs": [],
   "source": [
    "calc(target_valid_2, features_valid_2, features_train_2, target_train_2)"
   ]
  },
  {
   "cell_type": "markdown",
   "metadata": {},
   "source": [
    "Единственный подходящий регион под номером 1"
   ]
  },
  {
   "cell_type": "markdown",
   "metadata": {},
   "source": [
    "<div class=\"alert alert-warning\">\n",
    "<h3> Комментарий ревьюера <a class=\"tocSkip\"> </h3>\n",
    "    \n",
    "<b>Некоторые замечания и рекомендации💡:</b> \n",
    "\n",
    "* Числа с длинной дробной частью воспринимаются не очень хорошо. Ее лучше округлять до нескольких знаков, можно с помощью того же <a href = 'https://queirozf.com/entries/python-number-formatting-examples'>форматирования</a>.\n",
    "    \n",
    "    \n",
    "* Еще кстати очень удобно можно визуализировать результаты: строить распределения прибыли и добавлять на них вертикальные линии - границы доверительного интервала и границу безубыточности."
   ]
  },
  {
   "cell_type": "markdown",
   "metadata": {},
   "source": [
    "<div class=\"alert alert-block alert-danger\">\n",
    "<h3> Комментарий ревьюера <a class=\"tocSkip\"></h3>\n",
    "\n",
    "<b>На доработку🤔:</b> В конце выполнения работы важно оставлять итоговый резюмирующий вывод с обзором **всей** работы целиком. Иногда заказчики не просматривают весь проект, а обращаются прямо к выводам, поэтому в них важно отражать выжимку основных моментов, находок, и принятых тобою решений **по каждому** из разделов проекта."
   ]
  },
  {
   "cell_type": "markdown",
   "metadata": {},
   "source": [
    "## Вывод"
   ]
  },
  {
   "cell_type": "markdown",
   "metadata": {},
   "source": [
    "Цель работы -- определение региона с наибольшей прибылью и наименьшими рисками. \\\n",
    "\\\n",
    "В исходных данных имелось три региона под номерами 0, 1 и 2. Для каждого была создана модель линейной регрессии, предсказывающая количество баррелей в скажине по ее параметрам. \\\n",
    "Самым предсказуемым оказался регион под номером 1. Высокая точность модели позволяет лучше всего оценить реальные запасы в скважинах. При этом в данном регионе средние объемы залежей меньше, чем в остальных.\\\n",
    "\\\n",
    "Было проиведено моделирование выбора лучших 200 скважин из 500 отобраных случайным образом. Результаты исследования показали: хоть регионы 0 и 2 потенциально могут принести большую прибыль (95% квантиль), они слишком непредсказуемы, и вероятность убытков в них велика. Только 1 регион имеет достаточно низкую вероятность убытков -- всего 1.5%. Именно он рекомендуется к выбору.\n"
   ]
  },
  {
   "cell_type": "markdown",
   "metadata": {},
   "source": [
    "<div class=\"alert alert-success\">\n",
    "<b>Комментарий ревьюера 2:</b> Супер!"
   ]
  },
  {
   "cell_type": "markdown",
   "metadata": {},
   "source": [
    "## Чек-лист готовности проекта"
   ]
  },
  {
   "cell_type": "markdown",
   "metadata": {},
   "source": [
    "Поставьте 'x' в выполненных пунктах. Далее нажмите Shift+Enter."
   ]
  },
  {
   "cell_type": "markdown",
   "metadata": {},
   "source": [
    "- [x]  Jupyter Notebook открыт\n",
    "- [ ]  Весь код выполняется без ошибок\n",
    "- [ ]  Ячейки с кодом расположены в порядке исполнения\n",
    "- [ ]  Выполнен шаг 1: данные подготовлены\n",
    "- [ ]  Выполнен шаг 2: модели обучены и проверены\n",
    "    - [ ]  Данные корректно разбиты на обучающую и валидационную выборки\n",
    "    - [ ]  Модели обучены, предсказания сделаны\n",
    "    - [ ]  Предсказания и правильные ответы на валидационной выборке сохранены\n",
    "    - [ ]  На экране напечатаны результаты\n",
    "    - [ ]  Сделаны выводы\n",
    "- [ ]  Выполнен шаг 3: проведена подготовка к расчёту прибыли\n",
    "    - [ ]  Для всех ключевых значений созданы константы Python\n",
    "    - [ ]  Посчитано минимальное среднее количество продукта в месторождениях региона, достаточное для разработки\n",
    "    - [ ]  По предыдущему пункту сделаны выводы\n",
    "    - [ ]  Написана функция расчёта прибыли\n",
    "- [ ]  Выполнен шаг 4: посчитаны риски и прибыль\n",
    "    - [ ]  Проведена процедура *Bootstrap*\n",
    "    - [ ]  Все параметры бутстрепа соответствуют условию\n",
    "    - [ ]  Найдены все нужные величины\n",
    "    - [ ]  Предложен регион для разработки месторождения\n",
    "    - [ ]  Выбор региона обоснован"
   ]
  },
  {
   "cell_type": "markdown",
   "metadata": {},
   "source": [
    "<div style=\"border:solid Chocolate 2px; padding: 40px\">\n",
    "\n",
    "**Общий вывод по проекту**\n",
    "\n",
    "Мария, спасибо за твой проект! У тебя замечательная работа! В тебе виден будущий профессионал своего дела :) \n",
    "    \n",
    "Кратко пройдусь по впечатлениям. \n",
    "\n",
    "**Отмечу отдельные положительные моменты проекта🙂**:\n",
    " \n",
    "* Прекрасное владение инструментами обработки данных!\n",
    "* Умелое проведение машинного обучения!\n",
    "* Потрясающие навыки использования функций для повышения эффективности работы!\n",
    "* Дополнение своими идеями - очень круто!\n",
    "* Все этапы работы проделаны очень осмысленно! Каждый шаг снабжен пояснениями и выводами!\n",
    "* Работа имеет четкую структуру и выполнена аккуратно, проверять - одно удовольствие!\n",
    "\n",
    "    \n",
    "**На что стоит обратить внимание🤓**:\n",
    "   \n",
    "* Перед отправкой важно сбрасывать ядро и проверять код на наличией ошибок.\n",
    "* На графики важно не забывать добавлять понятную сопроводительную информацию.\n",
    "* При скалировании данных (и совмещении данной процедуры с кросс-валидацией) важно не допускать утечки информации.\n",
    "* При использовании констант важно заводить для них отдельные переменные.\n",
    "* При подсчете прибыли помним про индексы: важно, чтобы они не дублировались.\n",
    "* Заказчик запрашивал более точное значение вероятности того, что прибыль меньше 0, а также 95% доверительный интревал.\n",
    "* В конце работы важно оставлять резюмирующий вывод.\n",
    "* Оставила для тебя также некоторые рекомендаций по улучшению оформления и эффективности кода.\n",
    "    \n",
    "\n",
    "**Желаю удачи и жду твой проект на повторное ревью!**😉\n",
    "    \n",
    "<img src=\"https://99px.ru/sstorage/86/2015/12/image_86271215043043632690.gif\" />"
   ]
  },
  {
   "cell_type": "markdown",
   "metadata": {},
   "source": [
    "<div class=\"alert alert-success\">\n",
    "<b>Комментарий ревьюера 3:</b> Приму проект, так как константы уже больше касаются оформления и не критично важны для результата, но в следующий раз все-таки не ленись их создавать, чтобы привыкнуть к этому и впоследствии не путаться в крупных проектах. Было очень приятно с тобой поработать :) Еще раз поздравляю с праздниками и желаю покорить все вершины! 💪"
   ]
  },
  {
   "cell_type": "code",
   "execution_count": null,
   "metadata": {},
   "outputs": [],
   "source": []
  }
 ],
 "metadata": {
  "ExecuteTimeLog": [
   {
    "duration": 413,
    "start_time": "2023-01-06T18:36:55.575Z"
   },
   {
    "duration": 579,
    "start_time": "2023-01-06T18:36:55.990Z"
   },
   {
    "duration": 1020,
    "start_time": "2023-01-06T18:36:56.571Z"
   },
   {
    "duration": 607,
    "start_time": "2023-01-06T18:36:57.593Z"
   },
   {
    "duration": 23,
    "start_time": "2023-01-06T18:37:05.186Z"
   },
   {
    "duration": 15,
    "start_time": "2023-01-06T18:37:24.219Z"
   },
   {
    "duration": 23,
    "start_time": "2023-01-06T18:37:29.889Z"
   },
   {
    "duration": 68,
    "start_time": "2023-01-06T18:37:59.434Z"
   },
   {
    "duration": 51,
    "start_time": "2023-01-06T18:38:13.168Z"
   },
   {
    "duration": 62,
    "start_time": "2023-01-06T18:38:20.825Z"
   },
   {
    "duration": 14,
    "start_time": "2023-01-06T18:41:02.781Z"
   },
   {
    "duration": 81,
    "start_time": "2023-01-06T18:49:33.031Z"
   },
   {
    "duration": 12,
    "start_time": "2023-01-06T18:49:33.300Z"
   },
   {
    "duration": 5,
    "start_time": "2023-01-06T18:49:40.900Z"
   },
   {
    "duration": 6,
    "start_time": "2023-01-06T18:49:45.086Z"
   },
   {
    "duration": 6,
    "start_time": "2023-01-06T18:49:52.620Z"
   },
   {
    "duration": 1363,
    "start_time": "2023-01-06T18:50:11.125Z"
   },
   {
    "duration": 30,
    "start_time": "2023-01-06T18:50:36.519Z"
   },
   {
    "duration": 78,
    "start_time": "2023-01-06T18:52:10.249Z"
   },
   {
    "duration": 1669,
    "start_time": "2023-01-06T19:01:28.849Z"
   },
   {
    "duration": 55,
    "start_time": "2023-01-06T19:01:45.542Z"
   },
   {
    "duration": 677,
    "start_time": "2023-01-06T19:01:49.220Z"
   },
   {
    "duration": 1393,
    "start_time": "2023-01-06T19:02:44.065Z"
   },
   {
    "duration": 1258,
    "start_time": "2023-01-06T19:02:53.947Z"
   },
   {
    "duration": 52,
    "start_time": "2023-01-06T19:04:47.575Z"
   },
   {
    "duration": 54,
    "start_time": "2023-01-06T19:07:47.095Z"
   },
   {
    "duration": 13,
    "start_time": "2023-01-06T19:09:05.391Z"
   },
   {
    "duration": 10,
    "start_time": "2023-01-06T19:10:28.282Z"
   },
   {
    "duration": 78,
    "start_time": "2023-01-06T19:10:31.025Z"
   },
   {
    "duration": 35,
    "start_time": "2023-01-06T19:10:33.964Z"
   },
   {
    "duration": 16,
    "start_time": "2023-01-06T19:12:09.912Z"
   },
   {
    "duration": 51,
    "start_time": "2023-01-06T19:13:58.687Z"
   },
   {
    "duration": 16,
    "start_time": "2023-01-06T19:14:09.780Z"
   },
   {
    "duration": 3,
    "start_time": "2023-01-06T19:17:19.889Z"
   },
   {
    "duration": 201,
    "start_time": "2023-01-06T19:17:24.003Z"
   },
   {
    "duration": 10,
    "start_time": "2023-01-06T19:17:28.390Z"
   },
   {
    "duration": 68,
    "start_time": "2023-01-06T19:17:31.501Z"
   },
   {
    "duration": 12,
    "start_time": "2023-01-06T19:18:29.810Z"
   },
   {
    "duration": 503,
    "start_time": "2023-01-06T19:18:55.568Z"
   },
   {
    "duration": 516,
    "start_time": "2023-01-06T19:19:15.978Z"
   },
   {
    "duration": 1484,
    "start_time": "2023-01-07T18:49:59.792Z"
   },
   {
    "duration": 156,
    "start_time": "2023-01-07T18:50:01.278Z"
   },
   {
    "duration": 145,
    "start_time": "2023-01-07T18:50:04.103Z"
   },
   {
    "duration": 142,
    "start_time": "2023-01-07T18:50:05.891Z"
   },
   {
    "duration": 69,
    "start_time": "2023-01-07T18:50:10.655Z"
   },
   {
    "duration": 14,
    "start_time": "2023-01-07T18:50:14.525Z"
   },
   {
    "duration": 1648,
    "start_time": "2023-01-07T18:50:19.164Z"
   },
   {
    "duration": 12,
    "start_time": "2023-01-07T18:51:04.959Z"
   },
   {
    "duration": 1178,
    "start_time": "2023-01-07T18:51:50.343Z"
   },
   {
    "duration": 9,
    "start_time": "2023-01-07T18:52:32.539Z"
   },
   {
    "duration": 15,
    "start_time": "2023-01-07T18:53:03.955Z"
   },
   {
    "duration": 18,
    "start_time": "2023-01-07T18:54:57.048Z"
   },
   {
    "duration": 1163,
    "start_time": "2023-01-07T18:55:06.775Z"
   },
   {
    "duration": 19,
    "start_time": "2023-01-07T18:55:47.391Z"
   },
   {
    "duration": 1224,
    "start_time": "2023-01-07T18:55:47.546Z"
   },
   {
    "duration": 137,
    "start_time": "2023-01-07T18:56:08.546Z"
   },
   {
    "duration": 18,
    "start_time": "2023-01-07T18:56:52.148Z"
   },
   {
    "duration": 20,
    "start_time": "2023-01-07T18:59:00.045Z"
   },
   {
    "duration": 22,
    "start_time": "2023-01-07T18:59:19.646Z"
   },
   {
    "duration": 20,
    "start_time": "2023-01-07T18:59:45.456Z"
   },
   {
    "duration": 10,
    "start_time": "2023-01-07T19:01:30.851Z"
   },
   {
    "duration": 18,
    "start_time": "2023-01-07T19:02:51.879Z"
   },
   {
    "duration": 15,
    "start_time": "2023-01-07T19:03:23.904Z"
   },
   {
    "duration": 14,
    "start_time": "2023-01-07T19:04:00.555Z"
   },
   {
    "duration": 16,
    "start_time": "2023-01-07T19:05:03.803Z"
   },
   {
    "duration": 21,
    "start_time": "2023-01-07T19:05:11.938Z"
   },
   {
    "duration": 98,
    "start_time": "2023-01-07T19:06:47.345Z"
   },
   {
    "duration": 103,
    "start_time": "2023-01-07T19:07:11.471Z"
   },
   {
    "duration": 44,
    "start_time": "2023-01-07T19:07:49.445Z"
   },
   {
    "duration": 18,
    "start_time": "2023-01-07T19:07:52.093Z"
   },
   {
    "duration": 1258,
    "start_time": "2023-01-07T19:07:56.294Z"
   },
   {
    "duration": 41,
    "start_time": "2023-01-07T19:08:54.095Z"
   },
   {
    "duration": 18,
    "start_time": "2023-01-07T19:12:08.970Z"
   },
   {
    "duration": 4,
    "start_time": "2023-01-07T19:14:07.665Z"
   },
   {
    "duration": 14,
    "start_time": "2023-01-07T19:14:13.659Z"
   },
   {
    "duration": 136,
    "start_time": "2023-01-07T19:14:43.916Z"
   },
   {
    "duration": 3,
    "start_time": "2023-01-07T19:15:21.396Z"
   },
   {
    "duration": 198,
    "start_time": "2023-01-07T19:15:26.365Z"
   },
   {
    "duration": 58,
    "start_time": "2023-01-07T19:18:41.804Z"
   },
   {
    "duration": 115,
    "start_time": "2023-01-07T19:18:53.838Z"
   },
   {
    "duration": 53,
    "start_time": "2023-01-07T19:20:27.904Z"
   },
   {
    "duration": 16,
    "start_time": "2023-01-07T19:20:38.097Z"
   },
   {
    "duration": 18,
    "start_time": "2023-01-07T19:20:59.875Z"
   },
   {
    "duration": 15,
    "start_time": "2023-01-07T19:21:15.843Z"
   },
   {
    "duration": 16,
    "start_time": "2023-01-07T19:21:18.654Z"
   },
   {
    "duration": 5,
    "start_time": "2023-01-07T19:22:38.443Z"
   },
   {
    "duration": 468,
    "start_time": "2023-01-07T19:23:18.585Z"
   },
   {
    "duration": 459,
    "start_time": "2023-01-07T19:23:24.900Z"
   },
   {
    "duration": 552,
    "start_time": "2023-01-07T19:23:39.702Z"
   },
   {
    "duration": 612,
    "start_time": "2023-01-07T19:23:50.447Z"
   },
   {
    "duration": 4,
    "start_time": "2023-01-07T19:26:25.630Z"
   },
   {
    "duration": 22,
    "start_time": "2023-01-07T19:27:03.348Z"
   },
   {
    "duration": 9,
    "start_time": "2023-01-07T19:27:51.215Z"
   },
   {
    "duration": 14,
    "start_time": "2023-01-07T19:27:58.590Z"
   },
   {
    "duration": 8,
    "start_time": "2023-01-07T19:28:14.391Z"
   },
   {
    "duration": 43,
    "start_time": "2023-01-07T19:28:52.608Z"
   },
   {
    "duration": 5,
    "start_time": "2023-01-07T19:32:15.955Z"
   },
   {
    "duration": 5,
    "start_time": "2023-01-07T19:37:20.524Z"
   },
   {
    "duration": 6,
    "start_time": "2023-01-07T19:37:57.049Z"
   },
   {
    "duration": 55,
    "start_time": "2023-01-07T19:38:19.502Z"
   },
   {
    "duration": 493,
    "start_time": "2023-01-07T19:38:20.359Z"
   },
   {
    "duration": 12,
    "start_time": "2023-01-07T19:38:24.110Z"
   },
   {
    "duration": 6,
    "start_time": "2023-01-07T19:38:26.229Z"
   },
   {
    "duration": 5,
    "start_time": "2023-01-07T19:38:28.634Z"
   },
   {
    "duration": 98,
    "start_time": "2023-01-07T19:38:38.056Z"
   },
   {
    "duration": 491,
    "start_time": "2023-01-07T19:38:41.565Z"
   },
   {
    "duration": 8,
    "start_time": "2023-01-07T19:38:43.985Z"
   },
   {
    "duration": 6,
    "start_time": "2023-01-07T19:38:53.529Z"
   },
   {
    "duration": 5,
    "start_time": "2023-01-07T19:38:55.343Z"
   },
   {
    "duration": 4,
    "start_time": "2023-01-07T20:02:23.666Z"
   },
   {
    "duration": 37,
    "start_time": "2023-01-07T20:02:27.017Z"
   },
   {
    "duration": 49,
    "start_time": "2023-01-07T20:02:53.802Z"
   },
   {
    "duration": 13,
    "start_time": "2023-01-07T20:03:57.511Z"
   },
   {
    "duration": 11,
    "start_time": "2023-01-07T20:04:10.646Z"
   },
   {
    "duration": 9,
    "start_time": "2023-01-07T20:04:23.061Z"
   },
   {
    "duration": 12,
    "start_time": "2023-01-07T20:04:35.325Z"
   },
   {
    "duration": 12,
    "start_time": "2023-01-07T20:04:41.231Z"
   },
   {
    "duration": 12,
    "start_time": "2023-01-07T20:05:02.688Z"
   },
   {
    "duration": 21,
    "start_time": "2023-01-07T20:05:18.697Z"
   },
   {
    "duration": 13,
    "start_time": "2023-01-07T20:05:41.958Z"
   },
   {
    "duration": 13,
    "start_time": "2023-01-07T20:05:57.310Z"
   },
   {
    "duration": 113,
    "start_time": "2023-01-07T20:06:45.153Z"
   },
   {
    "duration": 111,
    "start_time": "2023-01-07T20:06:57.440Z"
   },
   {
    "duration": 112,
    "start_time": "2023-01-07T20:06:57.556Z"
   },
   {
    "duration": 10,
    "start_time": "2023-01-07T20:07:11.867Z"
   },
   {
    "duration": 20,
    "start_time": "2023-01-07T20:07:20.738Z"
   },
   {
    "duration": 77,
    "start_time": "2023-01-07T20:09:08.281Z"
   },
   {
    "duration": 86,
    "start_time": "2023-01-07T20:10:52.968Z"
   },
   {
    "duration": 13,
    "start_time": "2023-01-07T20:11:05.317Z"
   },
   {
    "duration": 20,
    "start_time": "2023-01-07T20:11:11.121Z"
   },
   {
    "duration": 12,
    "start_time": "2023-01-07T20:11:31.499Z"
   },
   {
    "duration": 11,
    "start_time": "2023-01-07T20:11:55.699Z"
   },
   {
    "duration": 7,
    "start_time": "2023-01-07T20:12:08.775Z"
   },
   {
    "duration": 96,
    "start_time": "2023-01-07T20:12:23.962Z"
   },
   {
    "duration": 1648,
    "start_time": "2023-01-07T20:14:03.852Z"
   },
   {
    "duration": 1614,
    "start_time": "2023-01-07T20:14:55.669Z"
   },
   {
    "duration": 1641,
    "start_time": "2023-01-07T20:15:47.603Z"
   },
   {
    "duration": 1623,
    "start_time": "2023-01-07T20:16:28.321Z"
   },
   {
    "duration": 1650,
    "start_time": "2023-01-07T20:16:38.042Z"
   },
   {
    "duration": 1617,
    "start_time": "2023-01-07T20:16:43.154Z"
   },
   {
    "duration": 10,
    "start_time": "2023-01-07T20:22:16.834Z"
   },
   {
    "duration": 8,
    "start_time": "2023-01-07T20:22:32.607Z"
   },
   {
    "duration": 8,
    "start_time": "2023-01-07T20:22:36.778Z"
   },
   {
    "duration": 7,
    "start_time": "2023-01-07T20:22:38.984Z"
   },
   {
    "duration": 4,
    "start_time": "2023-01-07T20:29:58.919Z"
   },
   {
    "duration": 1669,
    "start_time": "2023-01-07T20:30:01.119Z"
   },
   {
    "duration": 3,
    "start_time": "2023-01-07T20:30:20.017Z"
   },
   {
    "duration": 1657,
    "start_time": "2023-01-07T20:30:22.340Z"
   },
   {
    "duration": 3,
    "start_time": "2023-01-07T20:30:38.694Z"
   },
   {
    "duration": 1550,
    "start_time": "2023-01-07T20:30:41.317Z"
   },
   {
    "duration": 1654,
    "start_time": "2023-01-07T20:30:53.179Z"
   },
   {
    "duration": 1608,
    "start_time": "2023-01-07T20:30:57.521Z"
   },
   {
    "duration": 8,
    "start_time": "2023-01-07T20:34:26.608Z"
   },
   {
    "duration": 1626,
    "start_time": "2023-01-07T20:34:44.165Z"
   },
   {
    "duration": 1666,
    "start_time": "2023-01-07T20:34:59.714Z"
   },
   {
    "duration": 1653,
    "start_time": "2023-01-07T20:35:57.136Z"
   },
   {
    "duration": 1636,
    "start_time": "2023-01-07T20:36:00.638Z"
   },
   {
    "duration": 1555,
    "start_time": "2023-01-07T20:36:03.406Z"
   },
   {
    "duration": 36,
    "start_time": "2023-01-07T20:40:04.538Z"
   },
   {
    "duration": 75,
    "start_time": "2023-01-07T20:44:17.274Z"
   },
   {
    "duration": 5,
    "start_time": "2023-01-07T20:44:25.541Z"
   },
   {
    "duration": 81,
    "start_time": "2023-01-07T20:44:45.573Z"
   },
   {
    "duration": 10,
    "start_time": "2023-01-07T20:45:27.600Z"
   },
   {
    "duration": 5,
    "start_time": "2023-01-07T20:45:32.633Z"
   },
   {
    "duration": 457,
    "start_time": "2023-01-07T20:45:34.613Z"
   },
   {
    "duration": 7,
    "start_time": "2023-01-07T20:46:25.349Z"
   },
   {
    "duration": 603,
    "start_time": "2023-01-07T20:46:28.473Z"
   },
   {
    "duration": 566,
    "start_time": "2023-01-07T20:47:07.501Z"
   },
   {
    "duration": 4,
    "start_time": "2023-01-07T20:47:31.717Z"
   },
   {
    "duration": 498,
    "start_time": "2023-01-07T20:47:33.869Z"
   },
   {
    "duration": 591,
    "start_time": "2023-01-07T20:47:36.269Z"
   },
   {
    "duration": 526,
    "start_time": "2023-01-07T20:48:03.846Z"
   },
   {
    "duration": 7,
    "start_time": "2023-01-07T20:48:35.795Z"
   },
   {
    "duration": 550,
    "start_time": "2023-01-07T20:48:37.225Z"
   },
   {
    "duration": 5,
    "start_time": "2023-01-07T20:52:37.872Z"
   },
   {
    "duration": 12,
    "start_time": "2023-01-07T20:55:37.118Z"
   },
   {
    "duration": 40,
    "start_time": "2023-01-07T20:56:20.258Z"
   },
   {
    "duration": 39,
    "start_time": "2023-01-07T20:56:28.944Z"
   },
   {
    "duration": 10,
    "start_time": "2023-01-07T20:56:38.601Z"
   },
   {
    "duration": 23,
    "start_time": "2023-01-07T20:57:29.517Z"
   },
   {
    "duration": 1448,
    "start_time": "2023-01-07T20:57:52.023Z"
   },
   {
    "duration": 152,
    "start_time": "2023-01-07T20:57:53.473Z"
   },
   {
    "duration": 16,
    "start_time": "2023-01-07T20:57:53.627Z"
   },
   {
    "duration": 70,
    "start_time": "2023-01-07T20:57:53.645Z"
   },
   {
    "duration": 147,
    "start_time": "2023-01-07T20:57:53.717Z"
   },
   {
    "duration": 17,
    "start_time": "2023-01-07T20:57:53.866Z"
   },
   {
    "duration": 49,
    "start_time": "2023-01-07T20:57:53.885Z"
   },
   {
    "duration": 147,
    "start_time": "2023-01-07T20:57:53.936Z"
   },
   {
    "duration": 15,
    "start_time": "2023-01-07T20:57:54.085Z"
   },
   {
    "duration": 70,
    "start_time": "2023-01-07T20:57:54.102Z"
   },
   {
    "duration": 20,
    "start_time": "2023-01-07T20:57:54.173Z"
   },
   {
    "duration": 41,
    "start_time": "2023-01-07T20:57:54.195Z"
   },
   {
    "duration": 11,
    "start_time": "2023-01-07T20:57:54.260Z"
   },
   {
    "duration": 46,
    "start_time": "2023-01-07T20:57:54.272Z"
   },
   {
    "duration": 1590,
    "start_time": "2023-01-07T20:57:54.319Z"
   },
   {
    "duration": 6,
    "start_time": "2023-01-07T20:57:55.912Z"
   },
   {
    "duration": 698,
    "start_time": "2023-01-07T20:57:55.958Z"
   },
   {
    "duration": 794,
    "start_time": "2023-01-07T20:57:56.661Z"
   },
   {
    "duration": 1002,
    "start_time": "2023-01-07T20:57:57.459Z"
   },
   {
    "duration": 89,
    "start_time": "2023-01-07T20:57:58.463Z"
   },
   {
    "duration": 19,
    "start_time": "2023-01-07T20:57:58.554Z"
   },
   {
    "duration": 5,
    "start_time": "2023-01-07T20:57:58.575Z"
   },
   {
    "duration": 285,
    "start_time": "2023-01-07T20:57:58.582Z"
   },
   {
    "duration": 0,
    "start_time": "2023-01-07T20:57:58.869Z"
   },
   {
    "duration": 0,
    "start_time": "2023-01-07T20:57:58.870Z"
   },
   {
    "duration": 6,
    "start_time": "2023-01-07T20:59:55.192Z"
   },
   {
    "duration": 82,
    "start_time": "2023-01-07T20:59:57.728Z"
   },
   {
    "duration": 1563,
    "start_time": "2023-01-07T23:39:46.338Z"
   },
   {
    "duration": 132,
    "start_time": "2023-01-07T23:39:47.903Z"
   },
   {
    "duration": 18,
    "start_time": "2023-01-07T23:39:48.036Z"
   },
   {
    "duration": 46,
    "start_time": "2023-01-07T23:39:48.056Z"
   },
   {
    "duration": 107,
    "start_time": "2023-01-07T23:39:48.116Z"
   },
   {
    "duration": 14,
    "start_time": "2023-01-07T23:39:48.225Z"
   },
   {
    "duration": 40,
    "start_time": "2023-01-07T23:39:48.240Z"
   },
   {
    "duration": 109,
    "start_time": "2023-01-07T23:39:48.282Z"
   },
   {
    "duration": 12,
    "start_time": "2023-01-07T23:39:48.393Z"
   },
   {
    "duration": 43,
    "start_time": "2023-01-07T23:39:48.407Z"
   },
   {
    "duration": 10,
    "start_time": "2023-01-07T23:39:48.451Z"
   },
   {
    "duration": 33,
    "start_time": "2023-01-07T23:39:48.463Z"
   },
   {
    "duration": 8,
    "start_time": "2023-01-07T23:39:48.516Z"
   },
   {
    "duration": 33,
    "start_time": "2023-01-07T23:39:48.525Z"
   },
   {
    "duration": 1338,
    "start_time": "2023-01-07T23:39:48.560Z"
   },
   {
    "duration": 18,
    "start_time": "2023-01-07T23:39:49.900Z"
   },
   {
    "duration": 797,
    "start_time": "2023-01-07T23:39:49.920Z"
   },
   {
    "duration": 705,
    "start_time": "2023-01-07T23:39:50.719Z"
   },
   {
    "duration": 799,
    "start_time": "2023-01-07T23:39:51.517Z"
   },
   {
    "duration": 5,
    "start_time": "2023-01-07T23:39:52.318Z"
   },
   {
    "duration": 100,
    "start_time": "2023-01-07T23:39:52.325Z"
   },
   {
    "duration": 9,
    "start_time": "2023-01-07T23:39:52.427Z"
   },
   {
    "duration": 1752,
    "start_time": "2023-01-07T23:39:52.438Z"
   },
   {
    "duration": 107,
    "start_time": "2023-01-07T23:39:54.191Z"
   },
   {
    "duration": 0,
    "start_time": "2023-01-07T23:39:54.299Z"
   },
   {
    "duration": 718,
    "start_time": "2023-01-07T23:59:31.507Z"
   },
   {
    "duration": 684,
    "start_time": "2023-01-07T23:59:44.136Z"
   },
   {
    "duration": 1436,
    "start_time": "2023-01-08T00:28:48.061Z"
   },
   {
    "duration": 128,
    "start_time": "2023-01-08T00:28:49.499Z"
   },
   {
    "duration": 14,
    "start_time": "2023-01-08T00:28:49.629Z"
   },
   {
    "duration": 43,
    "start_time": "2023-01-08T00:28:49.645Z"
   },
   {
    "duration": 117,
    "start_time": "2023-01-08T00:28:49.689Z"
   },
   {
    "duration": 17,
    "start_time": "2023-01-08T00:28:49.808Z"
   },
   {
    "duration": 37,
    "start_time": "2023-01-08T00:28:49.827Z"
   },
   {
    "duration": 120,
    "start_time": "2023-01-08T00:28:49.865Z"
   },
   {
    "duration": 13,
    "start_time": "2023-01-08T00:28:49.987Z"
   },
   {
    "duration": 52,
    "start_time": "2023-01-08T00:28:50.003Z"
   },
   {
    "duration": 13,
    "start_time": "2023-01-08T00:28:50.057Z"
   },
   {
    "duration": 64,
    "start_time": "2023-01-08T00:28:50.072Z"
   },
   {
    "duration": 9,
    "start_time": "2023-01-08T00:28:50.137Z"
   },
   {
    "duration": 43,
    "start_time": "2023-01-08T00:28:50.147Z"
   },
   {
    "duration": 1408,
    "start_time": "2023-01-08T00:28:50.191Z"
   },
   {
    "duration": 15,
    "start_time": "2023-01-08T00:28:51.601Z"
   },
   {
    "duration": 808,
    "start_time": "2023-01-08T00:28:51.617Z"
   },
   {
    "duration": 595,
    "start_time": "2023-01-08T00:28:52.427Z"
   },
   {
    "duration": 792,
    "start_time": "2023-01-08T00:28:53.024Z"
   },
   {
    "duration": 8,
    "start_time": "2023-01-08T00:28:53.818Z"
   },
   {
    "duration": 89,
    "start_time": "2023-01-08T00:28:53.832Z"
   },
   {
    "duration": 18,
    "start_time": "2023-01-08T00:28:53.923Z"
   },
   {
    "duration": 2211,
    "start_time": "2023-01-08T00:28:53.943Z"
   },
   {
    "duration": 129,
    "start_time": "2023-01-08T00:28:56.155Z"
   },
   {
    "duration": 0,
    "start_time": "2023-01-08T00:28:56.286Z"
   },
   {
    "duration": 57,
    "start_time": "2023-01-08T18:59:36.469Z"
   },
   {
    "duration": 1443,
    "start_time": "2023-01-08T19:52:37.558Z"
   },
   {
    "duration": 544,
    "start_time": "2023-01-08T19:52:39.003Z"
   },
   {
    "duration": 234,
    "start_time": "2023-01-08T19:52:40.034Z"
   },
   {
    "duration": 199,
    "start_time": "2023-01-08T19:52:41.026Z"
   },
   {
    "duration": 13,
    "start_time": "2023-01-08T19:52:42.758Z"
   },
   {
    "duration": 111,
    "start_time": "2023-01-08T19:52:56.251Z"
   },
   {
    "duration": 15,
    "start_time": "2023-01-08T19:53:00.804Z"
   },
   {
    "duration": 39,
    "start_time": "2023-01-08T19:53:55.235Z"
   },
   {
    "duration": 5,
    "start_time": "2023-01-08T20:02:14.176Z"
   },
   {
    "duration": 9,
    "start_time": "2023-01-08T20:02:17.972Z"
   },
   {
    "duration": 1464,
    "start_time": "2023-01-09T12:52:13.374Z"
   },
   {
    "duration": 505,
    "start_time": "2023-01-09T12:52:14.919Z"
   },
   {
    "duration": 206,
    "start_time": "2023-01-09T12:52:16.697Z"
   },
   {
    "duration": 210,
    "start_time": "2023-01-09T12:52:19.116Z"
   },
   {
    "duration": 62,
    "start_time": "2023-01-09T12:52:44.329Z"
   },
   {
    "duration": 50,
    "start_time": "2023-01-09T12:52:48.083Z"
   },
   {
    "duration": 1614,
    "start_time": "2023-01-09T12:52:53.197Z"
   },
   {
    "duration": 938,
    "start_time": "2023-01-09T12:53:05.005Z"
   },
   {
    "duration": 7,
    "start_time": "2023-01-09T12:53:21.104Z"
   },
   {
    "duration": 735,
    "start_time": "2023-01-09T12:53:23.490Z"
   },
   {
    "duration": 41,
    "start_time": "2023-01-09T12:54:28.308Z"
   },
   {
    "duration": 944,
    "start_time": "2023-01-09T12:54:34.369Z"
   },
   {
    "duration": 410,
    "start_time": "2023-01-09T12:55:22.933Z"
   },
   {
    "duration": 394,
    "start_time": "2023-01-09T12:55:28.235Z"
   },
   {
    "duration": 6,
    "start_time": "2023-01-09T12:55:37.835Z"
   },
   {
    "duration": 295,
    "start_time": "2023-01-09T12:55:41.806Z"
   },
   {
    "duration": 4,
    "start_time": "2023-01-09T12:55:48.875Z"
   },
   {
    "duration": 1597,
    "start_time": "2023-01-09T12:55:52.455Z"
   },
   {
    "duration": 10,
    "start_time": "2023-01-09T12:56:00.451Z"
   },
   {
    "duration": 1492,
    "start_time": "2023-01-09T12:56:16.292Z"
   },
   {
    "duration": 1481,
    "start_time": "2023-01-09T12:56:32.095Z"
   },
   {
    "duration": 1870,
    "start_time": "2023-01-10T12:52:24.093Z"
   },
   {
    "duration": 636,
    "start_time": "2023-01-10T12:52:25.965Z"
   },
   {
    "duration": 31,
    "start_time": "2023-01-10T12:52:26.603Z"
   },
   {
    "duration": 86,
    "start_time": "2023-01-10T12:52:26.636Z"
   },
   {
    "duration": 565,
    "start_time": "2023-01-10T12:52:26.725Z"
   },
   {
    "duration": 26,
    "start_time": "2023-01-10T12:52:27.292Z"
   },
   {
    "duration": 98,
    "start_time": "2023-01-10T12:52:27.322Z"
   },
   {
    "duration": 596,
    "start_time": "2023-01-10T12:52:27.422Z"
   },
   {
    "duration": 14,
    "start_time": "2023-01-10T12:52:28.019Z"
   },
   {
    "duration": 54,
    "start_time": "2023-01-10T12:52:28.037Z"
   },
   {
    "duration": 21,
    "start_time": "2023-01-10T12:52:28.093Z"
   },
   {
    "duration": 80,
    "start_time": "2023-01-10T12:52:28.116Z"
   },
   {
    "duration": 48,
    "start_time": "2023-01-10T12:52:28.198Z"
   },
   {
    "duration": 61,
    "start_time": "2023-01-10T12:52:28.247Z"
   },
   {
    "duration": 41,
    "start_time": "2023-01-10T12:52:28.312Z"
   },
   {
    "duration": 11,
    "start_time": "2023-01-10T12:52:28.354Z"
   },
   {
    "duration": 27,
    "start_time": "2023-01-10T12:52:28.367Z"
   },
   {
    "duration": 712,
    "start_time": "2023-01-10T12:52:28.396Z"
   },
   {
    "duration": 599,
    "start_time": "2023-01-10T12:52:29.109Z"
   },
   {
    "duration": 812,
    "start_time": "2023-01-10T12:52:29.712Z"
   },
   {
    "duration": 5,
    "start_time": "2023-01-10T12:52:30.527Z"
   },
   {
    "duration": 175,
    "start_time": "2023-01-10T12:52:30.534Z"
   },
   {
    "duration": 37,
    "start_time": "2023-01-10T12:52:30.711Z"
   },
   {
    "duration": 1474,
    "start_time": "2023-01-10T12:52:30.750Z"
   },
   {
    "duration": 1325,
    "start_time": "2023-01-10T12:52:32.227Z"
   },
   {
    "duration": 1334,
    "start_time": "2023-01-10T12:52:33.553Z"
   },
   {
    "duration": 1666,
    "start_time": "2023-01-10T16:35:24.638Z"
   },
   {
    "duration": 612,
    "start_time": "2023-01-10T16:35:26.306Z"
   },
   {
    "duration": 16,
    "start_time": "2023-01-10T16:35:26.919Z"
   },
   {
    "duration": 51,
    "start_time": "2023-01-10T16:35:26.937Z"
   },
   {
    "duration": 522,
    "start_time": "2023-01-10T16:35:26.990Z"
   },
   {
    "duration": 12,
    "start_time": "2023-01-10T16:35:27.514Z"
   },
   {
    "duration": 51,
    "start_time": "2023-01-10T16:35:27.528Z"
   },
   {
    "duration": 537,
    "start_time": "2023-01-10T16:35:27.580Z"
   },
   {
    "duration": 19,
    "start_time": "2023-01-10T16:35:28.119Z"
   },
   {
    "duration": 48,
    "start_time": "2023-01-10T16:35:28.141Z"
   },
   {
    "duration": 12,
    "start_time": "2023-01-10T16:35:28.191Z"
   },
   {
    "duration": 56,
    "start_time": "2023-01-10T16:35:28.204Z"
   },
   {
    "duration": 32,
    "start_time": "2023-01-10T16:35:28.261Z"
   },
   {
    "duration": 59,
    "start_time": "2023-01-10T16:35:28.295Z"
   },
   {
    "duration": 33,
    "start_time": "2023-01-10T16:35:28.355Z"
   },
   {
    "duration": 9,
    "start_time": "2023-01-10T16:35:28.389Z"
   },
   {
    "duration": 10,
    "start_time": "2023-01-10T16:35:28.399Z"
   },
   {
    "duration": 334,
    "start_time": "2023-01-10T16:35:28.410Z"
   },
   {
    "duration": 389,
    "start_time": "2023-01-10T16:35:28.747Z"
   },
   {
    "duration": 396,
    "start_time": "2023-01-10T16:35:29.141Z"
   },
   {
    "duration": 6,
    "start_time": "2023-01-10T16:35:29.540Z"
   },
   {
    "duration": 176,
    "start_time": "2023-01-10T16:35:29.552Z"
   },
   {
    "duration": 24,
    "start_time": "2023-01-10T16:35:29.731Z"
   },
   {
    "duration": 1301,
    "start_time": "2023-01-10T16:35:29.757Z"
   },
   {
    "duration": 1301,
    "start_time": "2023-01-10T16:35:31.060Z"
   },
   {
    "duration": 1238,
    "start_time": "2023-01-10T16:35:32.363Z"
   },
   {
    "duration": 9,
    "start_time": "2023-01-10T16:36:35.588Z"
   },
   {
    "duration": 1250,
    "start_time": "2023-01-10T16:36:38.810Z"
   },
   {
    "duration": 1256,
    "start_time": "2023-01-10T16:36:42.611Z"
   },
   {
    "duration": 1352,
    "start_time": "2023-01-10T16:36:46.028Z"
   },
   {
    "duration": 6,
    "start_time": "2023-01-10T16:38:17.005Z"
   },
   {
    "duration": 1389,
    "start_time": "2023-01-10T16:38:20.700Z"
   },
   {
    "duration": 5,
    "start_time": "2023-01-10T16:40:13.369Z"
   },
   {
    "duration": 1207,
    "start_time": "2023-01-10T16:40:17.790Z"
   },
   {
    "duration": 5,
    "start_time": "2023-01-10T16:40:35.273Z"
   },
   {
    "duration": 1250,
    "start_time": "2023-01-10T16:40:39.307Z"
   },
   {
    "duration": 7,
    "start_time": "2023-01-10T16:41:52.828Z"
   },
   {
    "duration": 1278,
    "start_time": "2023-01-10T16:41:56.716Z"
   },
   {
    "duration": 6,
    "start_time": "2023-01-10T16:43:48.694Z"
   },
   {
    "duration": 1200,
    "start_time": "2023-01-10T16:43:51.706Z"
   },
   {
    "duration": 11,
    "start_time": "2023-01-10T16:45:42.910Z"
   },
   {
    "duration": 142,
    "start_time": "2023-01-10T16:46:34.839Z"
   },
   {
    "duration": 6,
    "start_time": "2023-01-10T16:47:06.337Z"
   },
   {
    "duration": 1350,
    "start_time": "2023-01-10T16:47:09.093Z"
   },
   {
    "duration": 6,
    "start_time": "2023-01-10T16:48:02.891Z"
   },
   {
    "duration": 1260,
    "start_time": "2023-01-10T16:48:06.411Z"
   },
   {
    "duration": 1255,
    "start_time": "2023-01-10T16:48:17.103Z"
   },
   {
    "duration": 1255,
    "start_time": "2023-01-10T16:48:31.031Z"
   },
   {
    "duration": 1674,
    "start_time": "2023-01-11T14:50:24.814Z"
   },
   {
    "duration": 220,
    "start_time": "2023-01-11T14:50:26.490Z"
   },
   {
    "duration": 15,
    "start_time": "2023-01-11T14:50:26.712Z"
   },
   {
    "duration": 48,
    "start_time": "2023-01-11T14:50:26.729Z"
   },
   {
    "duration": 194,
    "start_time": "2023-01-11T14:50:26.779Z"
   },
   {
    "duration": 15,
    "start_time": "2023-01-11T14:50:26.975Z"
   },
   {
    "duration": 40,
    "start_time": "2023-01-11T14:50:26.991Z"
   },
   {
    "duration": 200,
    "start_time": "2023-01-11T14:50:27.032Z"
   },
   {
    "duration": 15,
    "start_time": "2023-01-11T14:50:27.233Z"
   },
   {
    "duration": 50,
    "start_time": "2023-01-11T14:50:27.250Z"
   },
   {
    "duration": 12,
    "start_time": "2023-01-11T14:50:27.302Z"
   },
   {
    "duration": 41,
    "start_time": "2023-01-11T14:50:27.315Z"
   },
   {
    "duration": 48,
    "start_time": "2023-01-11T14:50:27.358Z"
   },
   {
    "duration": 34,
    "start_time": "2023-01-11T14:50:27.408Z"
   },
   {
    "duration": 53,
    "start_time": "2023-01-11T14:50:27.444Z"
   },
   {
    "duration": 8,
    "start_time": "2023-01-11T14:50:27.499Z"
   },
   {
    "duration": 10,
    "start_time": "2023-01-11T14:50:27.508Z"
   },
   {
    "duration": 763,
    "start_time": "2023-01-11T14:50:27.520Z"
   },
   {
    "duration": 910,
    "start_time": "2023-01-11T14:50:28.376Z"
   },
   {
    "duration": 1099,
    "start_time": "2023-01-11T14:50:29.378Z"
   },
   {
    "duration": 93,
    "start_time": "2023-01-11T14:50:30.484Z"
   },
   {
    "duration": 38,
    "start_time": "2023-01-11T14:50:30.579Z"
   },
   {
    "duration": 23,
    "start_time": "2023-01-11T14:50:30.619Z"
   },
   {
    "duration": 1474,
    "start_time": "2023-01-11T14:50:30.644Z"
   },
   {
    "duration": 1372,
    "start_time": "2023-01-11T14:50:32.119Z"
   },
   {
    "duration": 1305,
    "start_time": "2023-01-11T14:50:33.492Z"
   },
   {
    "duration": 1368,
    "start_time": "2023-04-20T14:45:21.164Z"
   },
   {
    "duration": 517,
    "start_time": "2023-04-20T14:45:22.533Z"
   },
   {
    "duration": 17,
    "start_time": "2023-04-20T14:45:23.051Z"
   },
   {
    "duration": 72,
    "start_time": "2023-04-20T14:45:23.071Z"
   },
   {
    "duration": 282,
    "start_time": "2023-04-20T14:45:23.145Z"
   },
   {
    "duration": 19,
    "start_time": "2023-04-20T14:45:23.428Z"
   },
   {
    "duration": 68,
    "start_time": "2023-04-20T14:45:23.449Z"
   },
   {
    "duration": 285,
    "start_time": "2023-04-20T14:45:23.522Z"
   },
   {
    "duration": 17,
    "start_time": "2023-04-20T14:45:23.808Z"
   },
   {
    "duration": 76,
    "start_time": "2023-04-20T14:45:23.829Z"
   },
   {
    "duration": 12,
    "start_time": "2023-04-20T14:45:23.913Z"
   },
   {
    "duration": 58,
    "start_time": "2023-04-20T14:45:23.927Z"
   },
   {
    "duration": 38,
    "start_time": "2023-04-20T14:45:23.994Z"
   },
   {
    "duration": 28,
    "start_time": "2023-04-20T14:45:24.033Z"
   },
   {
    "duration": 44,
    "start_time": "2023-04-20T14:45:24.063Z"
   },
   {
    "duration": 38,
    "start_time": "2023-04-20T14:45:24.109Z"
   },
   {
    "duration": 15,
    "start_time": "2023-04-20T14:45:24.148Z"
   },
   {
    "duration": 841,
    "start_time": "2023-04-20T14:45:24.164Z"
   },
   {
    "duration": 575,
    "start_time": "2023-04-20T14:45:25.014Z"
   },
   {
    "duration": 775,
    "start_time": "2023-04-20T14:45:25.606Z"
   },
   {
    "duration": 27,
    "start_time": "2023-04-20T14:45:26.383Z"
   },
   {
    "duration": 124,
    "start_time": "2023-04-20T14:45:26.415Z"
   },
   {
    "duration": 91,
    "start_time": "2023-04-20T14:45:26.542Z"
   },
   {
    "duration": 1270,
    "start_time": "2023-04-20T14:45:26.635Z"
   },
   {
    "duration": 1131,
    "start_time": "2023-04-20T14:45:27.907Z"
   },
   {
    "duration": 990,
    "start_time": "2023-04-20T14:45:29.040Z"
   },
   {
    "duration": 1661,
    "start_time": "2023-04-20T14:48:09.036Z"
   },
   {
    "duration": 176,
    "start_time": "2023-04-20T14:48:10.699Z"
   },
   {
    "duration": 19,
    "start_time": "2023-04-20T14:48:10.877Z"
   },
   {
    "duration": 125,
    "start_time": "2023-04-20T14:48:10.902Z"
   },
   {
    "duration": 139,
    "start_time": "2023-04-20T14:48:11.032Z"
   },
   {
    "duration": 17,
    "start_time": "2023-04-20T14:48:11.176Z"
   },
   {
    "duration": 99,
    "start_time": "2023-04-20T14:48:11.198Z"
   },
   {
    "duration": 164,
    "start_time": "2023-04-20T14:48:11.305Z"
   },
   {
    "duration": 22,
    "start_time": "2023-04-20T14:48:11.471Z"
   },
   {
    "duration": 85,
    "start_time": "2023-04-20T14:48:11.498Z"
   },
   {
    "duration": 48,
    "start_time": "2023-04-20T14:48:11.596Z"
   },
   {
    "duration": 60,
    "start_time": "2023-04-20T14:48:11.650Z"
   },
   {
    "duration": 40,
    "start_time": "2023-04-20T14:48:11.711Z"
   },
   {
    "duration": 49,
    "start_time": "2023-04-20T14:48:11.752Z"
   },
   {
    "duration": 47,
    "start_time": "2023-04-20T14:48:11.802Z"
   },
   {
    "duration": 15,
    "start_time": "2023-04-20T14:48:11.851Z"
   },
   {
    "duration": 76,
    "start_time": "2023-04-20T14:48:11.867Z"
   },
   {
    "duration": 655,
    "start_time": "2023-04-20T14:48:11.946Z"
   },
   {
    "duration": 679,
    "start_time": "2023-04-20T14:48:12.618Z"
   },
   {
    "duration": 643,
    "start_time": "2023-04-20T14:48:13.302Z"
   },
   {
    "duration": 39,
    "start_time": "2023-04-20T14:48:13.950Z"
   },
   {
    "duration": 79,
    "start_time": "2023-04-20T14:48:14.006Z"
   },
   {
    "duration": 33,
    "start_time": "2023-04-20T14:48:14.102Z"
   },
   {
    "duration": 1800,
    "start_time": "2023-04-20T14:48:14.137Z"
   },
   {
    "duration": 0,
    "start_time": "2023-04-20T14:48:15.939Z"
   },
   {
    "duration": 0,
    "start_time": "2023-04-20T14:48:15.940Z"
   }
  ],
  "kernelspec": {
   "display_name": "Python 3 (ipykernel)",
   "language": "python",
   "name": "python3"
  },
  "language_info": {
   "codemirror_mode": {
    "name": "ipython",
    "version": 3
   },
   "file_extension": ".py",
   "mimetype": "text/x-python",
   "name": "python",
   "nbconvert_exporter": "python",
   "pygments_lexer": "ipython3",
   "version": "3.9.5"
  },
  "toc": {
   "base_numbering": 1,
   "nav_menu": {},
   "number_sections": true,
   "sideBar": true,
   "skip_h1_title": true,
   "title_cell": "Table of Contents",
   "title_sidebar": "Contents",
   "toc_cell": false,
   "toc_position": {},
   "toc_section_display": true,
   "toc_window_display": false
  }
 },
 "nbformat": 4,
 "nbformat_minor": 2
}
